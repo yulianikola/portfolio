{
 "cells": [
  {
   "cell_type": "markdown",
   "metadata": {},
   "source": [
    "<div class=\"alert alert-info\">\n",
    "Ссылка для просмотра ноутбука в интерактивном режиме для использования гиперссылок и корректного отображения разметки:<br>\n",
    "<a href='https://nbviewer.org/github/yulianikola/portfolio/blob/master/data_analysis_python/3_hypothesis/hypothesis_pokemon.ipynb'>hypothesis_pokemon</a></div>"
   ]
  },
  {
   "cell_type": "markdown",
   "metadata": {},
   "source": [
    "### Тестирование гипотез\n",
    "#### Данные о покемонах"
   ]
  },
  {
   "cell_type": "markdown",
   "metadata": {},
   "source": [
    "Покемоны имеют разные характеристики (сила атаки, защиты и т. д.) И относятся к одному или двум так называемым классам (вода, огонь и т. д.).\n",
    "Профессор Оук является изобретателем Pokedex, портативного устройства, которое хранит информацию обо всех существующих покемонах. Как его ведущий специалист по данным, Вы только что получили от него запрос с просьбой осуществить аналитику данных на всех устройствах Pokedex. В датасете каждая строка представляет характеристики одного покемона:\n",
    "* `pid`: Numeric - ID покемона\n",
    "* `HP`: Numeric - Очки здоровья\n",
    "* `Attack`: Numeric - Сила обычной атаки\n",
    "* `Defense`: Numeric - Сила обычной защиты\n",
    "* `Sp. Atk`: Numeric - Сила специальной атаки\n",
    "* `Sp. Def`: Numeric - Сила специальной защиты\n",
    "* `Speed`: Numeric - Скорость движений\n",
    "* `Legendary`: Boolean - «True», если покемон редкий\n",
    "* `Class 1`: Categorical - Класс покемона\n",
    "* `Class 2`: Categorical - Класс покемона\n",
    "<br>Обратите внимание, что у покемона может быть один или два класса. Если у покемона два класса, считается,\n",
    "что они имеют одинаковую значимость."
   ]
  },
  {
   "cell_type": "markdown",
   "metadata": {},
   "source": [
    "<h4>Содержание</h4>\n",
    "<p id=\"0\">\n",
    "<ul type=\"square\"><a href=\"#1\"><li>Знакомство с данными</li></a>\n",
    "<li>Односторонний Т-тест</li>   \n",
    "    <ul><a href=\"#2\"><li>Задание 1</li></a>\n",
    "    <a href=\"#3\"><li>Задание 2</li></a>\n",
    "    <a href=\"#4\"><li>Задание 3</li></a>\n",
    "    <a href=\"#5\"><li>Задание 4</li></a></ul>\n",
    "<li>ANOVA</li>    \n",
    "    <ul><a href=\"#6\"><li>Задание 5</li></a></ul>"
   ]
  },
  {
   "cell_type": "code",
   "execution_count": 1,
   "metadata": {},
   "outputs": [],
   "source": [
    "import numpy as np\n",
    "import pandas as pd\n",
    "import scipy.stats as stats \n",
    "import matplotlib.pyplot as plt\n",
    "import seaborn as sns"
   ]
  },
  {
   "cell_type": "markdown",
   "metadata": {},
   "source": [
    "<p id=\"1\">\n",
    "<h4>Знакомство с данными</h4>"
   ]
  },
  {
   "cell_type": "code",
   "execution_count": 2,
   "metadata": {
    "scrolled": true
   },
   "outputs": [
    {
     "data": {
      "text/html": [
       "<div>\n",
       "<style scoped>\n",
       "    .dataframe tbody tr th:only-of-type {\n",
       "        vertical-align: middle;\n",
       "    }\n",
       "\n",
       "    .dataframe tbody tr th {\n",
       "        vertical-align: top;\n",
       "    }\n",
       "\n",
       "    .dataframe thead th {\n",
       "        text-align: right;\n",
       "    }\n",
       "</style>\n",
       "<table border=\"1\" class=\"dataframe\">\n",
       "  <thead>\n",
       "    <tr style=\"text-align: right;\">\n",
       "      <th></th>\n",
       "      <th>pid</th>\n",
       "      <th>Name</th>\n",
       "      <th>Class 1</th>\n",
       "      <th>Class 2</th>\n",
       "      <th>HP</th>\n",
       "      <th>Attack</th>\n",
       "      <th>Defense</th>\n",
       "      <th>Sp. Atk</th>\n",
       "      <th>Sp. Def</th>\n",
       "      <th>Speed</th>\n",
       "      <th>Legendary</th>\n",
       "    </tr>\n",
       "  </thead>\n",
       "  <tbody>\n",
       "    <tr>\n",
       "      <th>0</th>\n",
       "      <td>1</td>\n",
       "      <td>Bulbasaur</td>\n",
       "      <td>Grass</td>\n",
       "      <td>Poison</td>\n",
       "      <td>45</td>\n",
       "      <td>49</td>\n",
       "      <td>49</td>\n",
       "      <td>65</td>\n",
       "      <td>65</td>\n",
       "      <td>45</td>\n",
       "      <td>False</td>\n",
       "    </tr>\n",
       "    <tr>\n",
       "      <th>1</th>\n",
       "      <td>2</td>\n",
       "      <td>Ivysaur</td>\n",
       "      <td>Grass</td>\n",
       "      <td>Poison</td>\n",
       "      <td>60</td>\n",
       "      <td>62</td>\n",
       "      <td>63</td>\n",
       "      <td>80</td>\n",
       "      <td>80</td>\n",
       "      <td>60</td>\n",
       "      <td>False</td>\n",
       "    </tr>\n",
       "    <tr>\n",
       "      <th>2</th>\n",
       "      <td>3</td>\n",
       "      <td>Venusaur</td>\n",
       "      <td>Grass</td>\n",
       "      <td>Poison</td>\n",
       "      <td>80</td>\n",
       "      <td>82</td>\n",
       "      <td>83</td>\n",
       "      <td>100</td>\n",
       "      <td>100</td>\n",
       "      <td>80</td>\n",
       "      <td>False</td>\n",
       "    </tr>\n",
       "    <tr>\n",
       "      <th>3</th>\n",
       "      <td>4</td>\n",
       "      <td>Mega Venusaur</td>\n",
       "      <td>Grass</td>\n",
       "      <td>Poison</td>\n",
       "      <td>80</td>\n",
       "      <td>100</td>\n",
       "      <td>123</td>\n",
       "      <td>122</td>\n",
       "      <td>120</td>\n",
       "      <td>80</td>\n",
       "      <td>False</td>\n",
       "    </tr>\n",
       "    <tr>\n",
       "      <th>4</th>\n",
       "      <td>5</td>\n",
       "      <td>Charmander</td>\n",
       "      <td>Fire</td>\n",
       "      <td>NaN</td>\n",
       "      <td>39</td>\n",
       "      <td>52</td>\n",
       "      <td>43</td>\n",
       "      <td>60</td>\n",
       "      <td>50</td>\n",
       "      <td>65</td>\n",
       "      <td>False</td>\n",
       "    </tr>\n",
       "  </tbody>\n",
       "</table>\n",
       "</div>"
      ],
      "text/plain": [
       "   pid           Name Class 1 Class 2  HP  Attack  Defense  Sp. Atk  Sp. Def  \\\n",
       "0    1      Bulbasaur   Grass  Poison  45      49       49       65       65   \n",
       "1    2        Ivysaur   Grass  Poison  60      62       63       80       80   \n",
       "2    3       Venusaur   Grass  Poison  80      82       83      100      100   \n",
       "3    4  Mega Venusaur   Grass  Poison  80     100      123      122      120   \n",
       "4    5     Charmander    Fire     NaN  39      52       43       60       50   \n",
       "\n",
       "   Speed  Legendary  \n",
       "0     45      False  \n",
       "1     60      False  \n",
       "2     80      False  \n",
       "3     80      False  \n",
       "4     65      False  "
      ]
     },
     "execution_count": 2,
     "metadata": {},
     "output_type": "execute_result"
    }
   ],
   "source": [
    "pokemon = pd.read_csv('c:\\\\python\\\\portfolio\\\\data_analysis_python\\\\2_hypothesis\\\\data\\\\pokemon.csv')\n",
    "pokemon.head()"
   ]
  },
  {
   "cell_type": "markdown",
   "metadata": {},
   "source": [
    "В датасете 800 покемонов. Одно пустое значение есть в столбце Name. В столбце Class 2 только 414 значений. В остальном пропусков нет. Типы данных определились корректно, значит в числовых показателях нет и нечисловых символов, которыми могут обозначать пропуски:"
   ]
  },
  {
   "cell_type": "code",
   "execution_count": 3,
   "metadata": {
    "scrolled": true
   },
   "outputs": [
    {
     "name": "stdout",
     "output_type": "stream",
     "text": [
      "<class 'pandas.core.frame.DataFrame'>\n",
      "RangeIndex: 800 entries, 0 to 799\n",
      "Data columns (total 11 columns):\n",
      " #   Column     Non-Null Count  Dtype \n",
      "---  ------     --------------  ----- \n",
      " 0   pid        800 non-null    int64 \n",
      " 1   Name       799 non-null    object\n",
      " 2   Class 1    800 non-null    object\n",
      " 3   Class 2    414 non-null    object\n",
      " 4   HP         800 non-null    int64 \n",
      " 5   Attack     800 non-null    int64 \n",
      " 6   Defense    800 non-null    int64 \n",
      " 7   Sp. Atk    800 non-null    int64 \n",
      " 8   Sp. Def    800 non-null    int64 \n",
      " 9   Speed      800 non-null    int64 \n",
      " 10  Legendary  800 non-null    bool  \n",
      "dtypes: bool(1), int64(7), object(3)\n",
      "memory usage: 63.4+ KB\n"
     ]
    }
   ],
   "source": [
    "pokemon.info()"
   ]
  },
  {
   "cell_type": "markdown",
   "metadata": {},
   "source": [
    "Посмотрим, что это за запись с пустым именем покемона:"
   ]
  },
  {
   "cell_type": "code",
   "execution_count": 4,
   "metadata": {
    "scrolled": false
   },
   "outputs": [
    {
     "data": {
      "text/html": [
       "<div>\n",
       "<style scoped>\n",
       "    .dataframe tbody tr th:only-of-type {\n",
       "        vertical-align: middle;\n",
       "    }\n",
       "\n",
       "    .dataframe tbody tr th {\n",
       "        vertical-align: top;\n",
       "    }\n",
       "\n",
       "    .dataframe thead th {\n",
       "        text-align: right;\n",
       "    }\n",
       "</style>\n",
       "<table border=\"1\" class=\"dataframe\">\n",
       "  <thead>\n",
       "    <tr style=\"text-align: right;\">\n",
       "      <th></th>\n",
       "      <th>pid</th>\n",
       "      <th>Name</th>\n",
       "      <th>Class 1</th>\n",
       "      <th>Class 2</th>\n",
       "      <th>HP</th>\n",
       "      <th>Attack</th>\n",
       "      <th>Defense</th>\n",
       "      <th>Sp. Atk</th>\n",
       "      <th>Sp. Def</th>\n",
       "      <th>Speed</th>\n",
       "      <th>Legendary</th>\n",
       "    </tr>\n",
       "  </thead>\n",
       "  <tbody>\n",
       "    <tr>\n",
       "      <th>62</th>\n",
       "      <td>63</td>\n",
       "      <td>NaN</td>\n",
       "      <td>Fighting</td>\n",
       "      <td>NaN</td>\n",
       "      <td>65</td>\n",
       "      <td>105</td>\n",
       "      <td>60</td>\n",
       "      <td>60</td>\n",
       "      <td>70</td>\n",
       "      <td>95</td>\n",
       "      <td>False</td>\n",
       "    </tr>\n",
       "  </tbody>\n",
       "</table>\n",
       "</div>"
      ],
      "text/plain": [
       "    pid Name   Class 1 Class 2  HP  Attack  Defense  Sp. Atk  Sp. Def  Speed  \\\n",
       "62   63  NaN  Fighting     NaN  65     105       60       60       70     95   \n",
       "\n",
       "    Legendary  \n",
       "62      False  "
      ]
     },
     "execution_count": 4,
     "metadata": {},
     "output_type": "execute_result"
    }
   ],
   "source": [
    "pokemon[pokemon.Name.isna()]"
   ]
  },
  {
   "cell_type": "markdown",
   "metadata": {},
   "source": [
    "Судя по значениям столбцов категориальных признаков, \"нестандартных\" пустот вроде \"?\" нет:"
   ]
  },
  {
   "cell_type": "code",
   "execution_count": 5,
   "metadata": {},
   "outputs": [
    {
     "name": "stdout",
     "output_type": "stream",
     "text": [
      "['Grass' 'Fire' 'Water' 'Bug' 'Normal' 'Poison' 'Electric' 'Ground'\n",
      " 'Fairy' 'Fighting' 'Psychic' 'Rock' 'Ghost' 'Ice' 'Dragon' 'Dark' 'Steel'\n",
      " 'Flying']\n",
      "\n",
      "['Poison' nan 'Flying' 'Dragon' 'Ground' 'Fairy' 'Grass' 'Fighting'\n",
      " 'Psychic' 'Steel' 'Ice' 'Rock' 'Dark' 'Water' 'Electric' 'Fire' 'Ghost'\n",
      " 'Bug' 'Normal']\n",
      "\n",
      "[False  True]\n"
     ]
    }
   ],
   "source": [
    "print(pokemon['Class 1'].unique())\n",
    "print('')\n",
    "print(pokemon['Class 2'].unique())\n",
    "print('')\n",
    "print(pokemon['Legendary'].unique())"
   ]
  },
  {
   "cell_type": "markdown",
   "metadata": {},
   "source": [
    "Посмотрим статистики для числовых показателей:"
   ]
  },
  {
   "cell_type": "code",
   "execution_count": 6,
   "metadata": {
    "scrolled": false
   },
   "outputs": [
    {
     "data": {
      "text/html": [
       "<div>\n",
       "<style scoped>\n",
       "    .dataframe tbody tr th:only-of-type {\n",
       "        vertical-align: middle;\n",
       "    }\n",
       "\n",
       "    .dataframe tbody tr th {\n",
       "        vertical-align: top;\n",
       "    }\n",
       "\n",
       "    .dataframe thead th {\n",
       "        text-align: right;\n",
       "    }\n",
       "</style>\n",
       "<table border=\"1\" class=\"dataframe\">\n",
       "  <thead>\n",
       "    <tr style=\"text-align: right;\">\n",
       "      <th></th>\n",
       "      <th>pid</th>\n",
       "      <th>HP</th>\n",
       "      <th>Attack</th>\n",
       "      <th>Defense</th>\n",
       "      <th>Sp. Atk</th>\n",
       "      <th>Sp. Def</th>\n",
       "      <th>Speed</th>\n",
       "    </tr>\n",
       "  </thead>\n",
       "  <tbody>\n",
       "    <tr>\n",
       "      <th>count</th>\n",
       "      <td>800.0000</td>\n",
       "      <td>800.000000</td>\n",
       "      <td>800.000000</td>\n",
       "      <td>800.000000</td>\n",
       "      <td>800.000000</td>\n",
       "      <td>800.000000</td>\n",
       "      <td>800.000000</td>\n",
       "    </tr>\n",
       "    <tr>\n",
       "      <th>mean</th>\n",
       "      <td>400.5000</td>\n",
       "      <td>69.258750</td>\n",
       "      <td>79.001250</td>\n",
       "      <td>73.842500</td>\n",
       "      <td>72.820000</td>\n",
       "      <td>71.902500</td>\n",
       "      <td>68.277500</td>\n",
       "    </tr>\n",
       "    <tr>\n",
       "      <th>std</th>\n",
       "      <td>231.0844</td>\n",
       "      <td>25.534669</td>\n",
       "      <td>32.457366</td>\n",
       "      <td>31.183501</td>\n",
       "      <td>32.722294</td>\n",
       "      <td>27.828916</td>\n",
       "      <td>29.060474</td>\n",
       "    </tr>\n",
       "    <tr>\n",
       "      <th>min</th>\n",
       "      <td>1.0000</td>\n",
       "      <td>1.000000</td>\n",
       "      <td>5.000000</td>\n",
       "      <td>5.000000</td>\n",
       "      <td>10.000000</td>\n",
       "      <td>20.000000</td>\n",
       "      <td>5.000000</td>\n",
       "    </tr>\n",
       "    <tr>\n",
       "      <th>25%</th>\n",
       "      <td>200.7500</td>\n",
       "      <td>50.000000</td>\n",
       "      <td>55.000000</td>\n",
       "      <td>50.000000</td>\n",
       "      <td>49.750000</td>\n",
       "      <td>50.000000</td>\n",
       "      <td>45.000000</td>\n",
       "    </tr>\n",
       "    <tr>\n",
       "      <th>50%</th>\n",
       "      <td>400.5000</td>\n",
       "      <td>65.000000</td>\n",
       "      <td>75.000000</td>\n",
       "      <td>70.000000</td>\n",
       "      <td>65.000000</td>\n",
       "      <td>70.000000</td>\n",
       "      <td>65.000000</td>\n",
       "    </tr>\n",
       "    <tr>\n",
       "      <th>75%</th>\n",
       "      <td>600.2500</td>\n",
       "      <td>80.000000</td>\n",
       "      <td>100.000000</td>\n",
       "      <td>90.000000</td>\n",
       "      <td>95.000000</td>\n",
       "      <td>90.000000</td>\n",
       "      <td>90.000000</td>\n",
       "    </tr>\n",
       "    <tr>\n",
       "      <th>max</th>\n",
       "      <td>800.0000</td>\n",
       "      <td>255.000000</td>\n",
       "      <td>190.000000</td>\n",
       "      <td>230.000000</td>\n",
       "      <td>194.000000</td>\n",
       "      <td>230.000000</td>\n",
       "      <td>180.000000</td>\n",
       "    </tr>\n",
       "  </tbody>\n",
       "</table>\n",
       "</div>"
      ],
      "text/plain": [
       "            pid          HP      Attack     Defense     Sp. Atk     Sp. Def  \\\n",
       "count  800.0000  800.000000  800.000000  800.000000  800.000000  800.000000   \n",
       "mean   400.5000   69.258750   79.001250   73.842500   72.820000   71.902500   \n",
       "std    231.0844   25.534669   32.457366   31.183501   32.722294   27.828916   \n",
       "min      1.0000    1.000000    5.000000    5.000000   10.000000   20.000000   \n",
       "25%    200.7500   50.000000   55.000000   50.000000   49.750000   50.000000   \n",
       "50%    400.5000   65.000000   75.000000   70.000000   65.000000   70.000000   \n",
       "75%    600.2500   80.000000  100.000000   90.000000   95.000000   90.000000   \n",
       "max    800.0000  255.000000  190.000000  230.000000  194.000000  230.000000   \n",
       "\n",
       "            Speed  \n",
       "count  800.000000  \n",
       "mean    68.277500  \n",
       "std     29.060474  \n",
       "min      5.000000  \n",
       "25%     45.000000  \n",
       "50%     65.000000  \n",
       "75%     90.000000  \n",
       "max    180.000000  "
      ]
     },
     "execution_count": 6,
     "metadata": {},
     "output_type": "execute_result"
    }
   ],
   "source": [
    "pokemon.describe()"
   ]
  },
  {
   "cell_type": "markdown",
   "metadata": {},
   "source": [
    "Полных дубликатов строк нет:"
   ]
  },
  {
   "cell_type": "code",
   "execution_count": 7,
   "metadata": {
    "scrolled": false
   },
   "outputs": [
    {
     "data": {
      "text/plain": [
       "0      False\n",
       "527    False\n",
       "528    False\n",
       "529    False\n",
       "530    False\n",
       "       ...  \n",
       "270    False\n",
       "271    False\n",
       "272    False\n",
       "262    False\n",
       "799    False\n",
       "Length: 800, dtype: bool"
      ]
     },
     "execution_count": 7,
     "metadata": {},
     "output_type": "execute_result"
    }
   ],
   "source": [
    "pokemon.duplicated(keep = False).sort_values()"
   ]
  },
  {
   "cell_type": "markdown",
   "metadata": {},
   "source": [
    "Дубликатов по имени нет:"
   ]
  },
  {
   "cell_type": "code",
   "execution_count": 8,
   "metadata": {
    "scrolled": false
   },
   "outputs": [
    {
     "data": {
      "text/plain": [
       "0      False\n",
       "527    False\n",
       "528    False\n",
       "529    False\n",
       "530    False\n",
       "       ...  \n",
       "270    False\n",
       "271    False\n",
       "272    False\n",
       "262    False\n",
       "799    False\n",
       "Length: 800, dtype: bool"
      ]
     },
     "execution_count": 8,
     "metadata": {},
     "output_type": "execute_result"
    }
   ],
   "source": [
    "pokemon.duplicated(['Name'], keep = False).sort_values()"
   ]
  },
  {
   "cell_type": "markdown",
   "metadata": {},
   "source": [
    "Всего есть 18 классов, которые используются и в Class 1 и в Class 2:"
   ]
  },
  {
   "cell_type": "code",
   "execution_count": 9,
   "metadata": {
    "scrolled": true
   },
   "outputs": [
    {
     "name": "stdout",
     "output_type": "stream",
     "text": [
      "значений Class 1:  18\n",
      "значений Class 2:  18\n",
      "пересечение значений:  18\n",
      "непересекающихся значений:  0\n",
      "['Grass' 'Fire' 'Water' 'Bug' 'Normal' 'Poison' 'Electric' 'Ground'\n",
      " 'Fairy' 'Fighting' 'Psychic' 'Rock' 'Ghost' 'Ice' 'Dragon' 'Dark' 'Steel'\n",
      " 'Flying']\n"
     ]
    }
   ],
   "source": [
    "print('значений Class 1: ', pokemon['Class 1'].nunique())\n",
    "print('значений Class 2: ', pokemon['Class 2'].nunique())\n",
    "print('пересечение значений: ', len(set(pokemon['Class 1'].values) & set(pokemon['Class 2'].values)))\n",
    "print('непересекающихся значений: ', len(set(pokemon['Class 1'].values) - set(pokemon['Class 2'].values)))\n",
    "print(pokemon['Class 1'].unique())"
   ]
  },
  {
   "cell_type": "markdown",
   "metadata": {},
   "source": [
    "<a href=\"#0\"><h4>Наверх</h4></a>"
   ]
  },
  {
   "cell_type": "markdown",
   "metadata": {},
   "source": [
    "<p id=\"2\">\n",
    "<h4>Задание 1</h4><br>\n",
    "Профессор Оук подозревает, что покемоны в классе `grass` имеют более сильную обычную атаку, чем у покемонов в классе `rock`. Проверьте, прав ли он, и убедите его в своем выводе статистически. Примечание: если есть покемоны, которые относятся к обоим классам, просто выбросьте их. Вы можете предположить, что распределение обычных атак является нормальным для всех классов покемонов.\n"
   ]
  },
  {
   "cell_type": "markdown",
   "metadata": {},
   "source": [
    "Сформулируем гипотезы:<br>\n",
    "* Нулевая гипотеза: средняя атака покемонов Grass <= чем средняя атака покемонов Rock.\n",
    "* Альтернативная: средняя атака покемонов Grass выше, чем средняя атака покемонов Rock."
   ]
  },
  {
   "cell_type": "markdown",
   "metadata": {},
   "source": [
    "Разделим показатели атаки по классам покемонов. Отберем покемонов, у которых Class 1 или Class 2 является Grass или Rock. При этом исключим тех, кто относится к обоим классам:"
   ]
  },
  {
   "cell_type": "code",
   "execution_count": 10,
   "metadata": {},
   "outputs": [
    {
     "name": "stdout",
     "output_type": "stream",
     "text": [
      "(93,)\n",
      "(56,)\n"
     ]
    }
   ],
   "source": [
    "grass_att = pokemon[((pokemon['Class 1'] == 'Grass') & (pokemon['Class 2'] != 'Rock')) |\n",
    "                   ((pokemon['Class 2'] == 'Grass') & (pokemon['Class 1'] != 'Rock'))]['Attack']\n",
    "\n",
    "rock_att = pokemon[((pokemon['Class 1'] == 'Rock') & (pokemon['Class 2'] != 'Grass')) |\n",
    "                   ((pokemon['Class 2'] == 'Rock') & (pokemon['Class 1'] != 'Grass'))]['Attack']\n",
    "print(grass_att.shape)\n",
    "print(rock_att.shape)"
   ]
  },
  {
   "cell_type": "markdown",
   "metadata": {},
   "source": [
    "Средняя атака Grass в наших данных ниже, чем средняя атака Rock, 74 vs. 92:"
   ]
  },
  {
   "cell_type": "code",
   "execution_count": 11,
   "metadata": {
    "scrolled": true
   },
   "outputs": [
    {
     "name": "stdout",
     "output_type": "stream",
     "text": [
      "средняя атака grass:  73.73118279569893 средняя атака rock:  91.78571428571429\n"
     ]
    }
   ],
   "source": [
    "print('средняя атака grass: ', grass_att.mean(),'средняя атака rock: ', rock_att.mean())"
   ]
  },
  {
   "cell_type": "markdown",
   "metadata": {},
   "source": [
    "По боксплотам выбросов в атаках Grass и в атаках Rock нет:"
   ]
  },
  {
   "cell_type": "code",
   "execution_count": 12,
   "metadata": {
    "scrolled": true
   },
   "outputs": [
    {
     "data": {
      "image/png": "[encoded data removed]",
      "text/plain": [
       "<Figure size 720x216 with 2 Axes>"
      ]
     },
     "metadata": {
      "needs_background": "light"
     },
     "output_type": "display_data"
    }
   ],
   "source": [
    "plt.figure(figsize = (10, 3)) \n",
    "plt.subplot(1, 2, 1)\n",
    "sns.boxplot(y = grass_att);\n",
    "plt.title('Grass');\n",
    "plt.subplot(1, 2, 2)\n",
    "sns.boxplot(y = rock_att)\n",
    "plt.title('Rock');"
   ]
  },
  {
   "cell_type": "markdown",
   "metadata": {},
   "source": [
    "Признак количественный. Распределения атак считаем нормальными. Две независимых выборки, сравниваем два средних. Используем Т-тест для независимых выборок, односторонний, так как нам важно направление. Уровень значимости здесь и далее возьмем общепринятый 5%."
   ]
  },
  {
   "cell_type": "markdown",
   "metadata": {},
   "source": [
    "Равны ли дисперсии атак у Grass и Rock? Разница между выборочными стандартными отклонениями 43%. Есть мнение, что при разнице больше 5 % считать дисперсии неравными. Есть отдельная группа тестов для проверки равенства дисперсий. Есть мнение, что поправка Уэлча для профилактики не должна навредить. Есть мнение, что использование поправки в случае, когда дисперсии равны, увеличивает вероятность ошибки 2го рода (не отвергнуть некорректную нулевую). В документации теста ttest_ind сказано, что в случае неравных дисперсий, отсутствие поправки занижает р значение. Опираясь на разницу между ср.кв.откл в 43 %, сделаем поправку Уэлча и попробуем учесть все остальные \"но\" при интерпретации."
   ]
  },
  {
   "cell_type": "code",
   "execution_count": 13,
   "metadata": {
    "scrolled": true
   },
   "outputs": [
    {
     "name": "stdout",
     "output_type": "stream",
     "text": [
      "ско атаки grass 24.17964459449772\n",
      "ско атаки rock 34.80528396964737\n",
      "относительная разница ско 0.4394456392286098\n"
     ]
    }
   ],
   "source": [
    "print('ско атаки grass', grass_att.std())\n",
    "print('ско атаки rock', rock_att.std())\n",
    "print('относительная разница ско',(rock_att.std() - grass_att.std()) / grass_att.std())"
   ]
  },
  {
   "cell_type": "code",
   "execution_count": 14,
   "metadata": {},
   "outputs": [
    {
     "name": "stdout",
     "output_type": "stream",
     "text": [
      "-3.4169379582521513 0.9995179726543227\n"
     ]
    }
   ],
   "source": [
    "t,p = stats.ttest_ind(grass_att, rock_att, alternative = 'greater', equal_var = False)\n",
    "print(t, p)"
   ]
  },
  {
   "cell_type": "markdown",
   "metadata": {},
   "source": [
    "* При условии, что Н0 верна (т.е. средняя атака Grass <= Rock), данные не противоречат Н0. \n",
    "* При условии, что Н0 верна, вероятность полученного (или более экстремального) значения тестовой статистики равна почти 100%.\n",
    "* По нашим данным более чем достаточно аргументов в пользу H0.\n",
    "* Не отвергаем Н0 в пользу Н1.\n",
    "* Выборочные средние 74 (Grass) и 92 (Rock). По тесту средняя атака Grass не отличается статистически значимо в большую сторону от средней атаки Rock. С практической точки зрения тоже в большую сторону Grass от Rock по атаке не отличается, но значительно отличается в меньшую сторону.\n",
    "* Средняя атака покемонов класса Grass не отличается от средней атаки покемонов Rock или ниже ее. Профессор оказался неправ."
   ]
  },
  {
   "cell_type": "markdown",
   "metadata": {},
   "source": [
    "По итогам теста мы не отвергаем нулевую, поэтому риск повышенной ошибки 2 рода для нас тут актуален. Но р-значение настолько большое, что в данном случае его завышенность значения не имеет. Можем для проверки провести тест без поправки, хотя в статистике так не принято и это считается р-хаккингом. Отсутствие поправки на тест практически не повлияло:"
   ]
  },
  {
   "cell_type": "code",
   "execution_count": 15,
   "metadata": {
    "scrolled": true
   },
   "outputs": [
    {
     "name": "stdout",
     "output_type": "stream",
     "text": [
      "-3.729457582692065 0.9998633330927005\n"
     ]
    }
   ],
   "source": [
    "t,p = stats.ttest_ind(grass_att, rock_att, alternative = 'greater')\n",
    "print(t, p)"
   ]
  },
  {
   "cell_type": "markdown",
   "metadata": {},
   "source": [
    "<a href=\"#0\"><h4>Наверх</h4></a>"
   ]
  },
  {
   "cell_type": "markdown",
   "metadata": {},
   "source": [
    "<p id=\"3\">\n",
    "<h4>Задание 2</h4><br>\n",
    "Профессор Оук уже долго не может спать по ночам ведь его волнует вопрос, а правда, что покемоны что покемоны в классе `Water` в среднем более быстрые, чем покемоны в классе `Normal`. Проверьте, прав ли он, и убедите его в своем выводе статистически.    \n",
    "Примечание: если есть покемоны относятся к обоим классам, выбросьте их. Вы можете предположить, что распределение скорости движения является нормальным для всех классов покемонов."
   ]
  },
  {
   "cell_type": "markdown",
   "metadata": {},
   "source": [
    "Сформулируем гипотезы:<br>\n",
    "* Нулевая гипотеза: средняя скорость покемонов Water <= средняя корость покемонов Normal.\n",
    "* Альтернативная: средняя скорость покемонов Water выше, чем средняя корость покемонов Normal."
   ]
  },
  {
   "cell_type": "markdown",
   "metadata": {},
   "source": [
    "Разделим показатели скорости по классам покемонов. Отберем покемонов, у которых Class 1 или Class 2 является Water или Normal. При этом исключим тех, кто относится к обоим классам:"
   ]
  },
  {
   "cell_type": "code",
   "execution_count": 16,
   "metadata": {},
   "outputs": [
    {
     "name": "stdout",
     "output_type": "stream",
     "text": [
      "(125,)\n",
      "(101,)\n"
     ]
    }
   ],
   "source": [
    "water_sp = pokemon[((pokemon['Class 1'] == 'Water') & (pokemon['Class 2'] != 'Normal')) |\n",
    "                   ((pokemon['Class 2'] == 'Water') & (pokemon['Class 1'] != 'Normal'))]['Speed']\n",
    "\n",
    "norm_sp = pokemon[((pokemon['Class 1'] == 'Normal') & (pokemon['Class 2'] != 'Water')) |\n",
    "                   ((pokemon['Class 2'] == 'Normal') & (pokemon['Class 1'] != 'Water'))]['Speed']\n",
    "print(water_sp.shape)\n",
    "print(norm_sp.shape)"
   ]
  },
  {
   "cell_type": "markdown",
   "metadata": {},
   "source": [
    "Средняя скорость Water в наших данных ниже, чем средняя скорость Normal, 65 vs. 72:"
   ]
  },
  {
   "cell_type": "code",
   "execution_count": 17,
   "metadata": {},
   "outputs": [
    {
     "name": "stdout",
     "output_type": "stream",
     "text": [
      "средняя скорость water:  64.936 средняя скорость normal:  72.25742574257426\n"
     ]
    }
   ],
   "source": [
    "print('средняя скорость water: ', water_sp.mean(),'средняя скорость normal: ', norm_sp.mean())"
   ]
  },
  {
   "cell_type": "markdown",
   "metadata": {},
   "source": [
    "По боксплотам выбросов в скорости Water и Normal нет:"
   ]
  },
  {
   "cell_type": "code",
   "execution_count": 18,
   "metadata": {},
   "outputs": [
    {
     "data": {
      "image/png": "[encoded data removed]",
      "text/plain": [
       "<Figure size 720x216 with 2 Axes>"
      ]
     },
     "metadata": {
      "needs_background": "light"
     },
     "output_type": "display_data"
    }
   ],
   "source": [
    "plt.figure(figsize = (10, 3)) \n",
    "plt.subplot(1, 2, 1)\n",
    "sns.boxplot(y = water_sp);\n",
    "plt.title('Water');\n",
    "plt.subplot(1, 2, 2)\n",
    "sns.boxplot(y = norm_sp);\n",
    "plt.title('Normal');"
   ]
  },
  {
   "cell_type": "markdown",
   "metadata": {},
   "source": [
    "Признак количественный. Распределения скорости считаем нормальными. Две независимых выборки, сравниваем два средних. Используем Т-тест для независимых выборок, односторонний, так как нам важно направление."
   ]
  },
  {
   "cell_type": "markdown",
   "metadata": {},
   "source": [
    "Равны ли дисперсии скорости Water и Normal? Опираясь на разницу между ср.кв.откл в 25 %, сделаем поправку Уэлча и попробуем учесть все остальные \"но\" при интерпретации."
   ]
  },
  {
   "cell_type": "code",
   "execution_count": 19,
   "metadata": {},
   "outputs": [
    {
     "name": "stdout",
     "output_type": "stream",
     "text": [
      "ско скорости water 22.748890082815027\n",
      "ско скорости normal 28.427329619697492\n",
      "относительная разница ско 0.24961391594098356\n"
     ]
    }
   ],
   "source": [
    "print('ско скорости water', water_sp.std())\n",
    "print('ско скорости normal', norm_sp.std())\n",
    "print('относительная разница ско',(norm_sp.std() - water_sp.std()) / water_sp.std())"
   ]
  },
  {
   "cell_type": "code",
   "execution_count": 20,
   "metadata": {},
   "outputs": [
    {
     "name": "stdout",
     "output_type": "stream",
     "text": [
      "-2.101186385266549 0.9815261383086286\n"
     ]
    }
   ],
   "source": [
    "t,p = stats.ttest_ind(water_sp, norm_sp, alternative = 'greater', equal_var = False)\n",
    "print(t, p)"
   ]
  },
  {
   "cell_type": "markdown",
   "metadata": {},
   "source": [
    "* При условии, что Н0 верна (т.е. средняя скорость Water <= Normal), данные не противоречат Н0. \n",
    "* При условии, что Н0 верна, вероятность полученного (или более экстремального) значения тестовой статистики равна 98%.\n",
    "* По нашим данным более чем достаточно аргументов в пользу H0.\n",
    "* Не отвергаем Н0 в пользу Н1.\n",
    "* Выборочные средние 65 (Water) и 72 (Normal). По тесту средняя скорость Water не отличается статистически значимо в большую сторону от средней скорости Normal. С практической точки зрения тоже в большую сторону Water от Normal по скорости не отличается, но значительно отличается в меньшую сторону.\n",
    "* Средняя скорость Water не отличается от средней скорости Normal или ниже ее. Профессор оказался неправ."
   ]
  },
  {
   "cell_type": "markdown",
   "metadata": {},
   "source": [
    "По итогам теста мы не отвергаем нулевую, поэтому риск повышенной ошибки 2 рода для нас тут актуален. Но р-значение настолько большое, что в данном случае его завышенность значения не имеет. Можем для проверки провести тест без поправки, хотя в статистике так не принято и это считается р-хаккингом. Отсутствие поправки на тест практически не повлияло:"
   ]
  },
  {
   "cell_type": "code",
   "execution_count": 21,
   "metadata": {
    "scrolled": true
   },
   "outputs": [
    {
     "name": "stdout",
     "output_type": "stream",
     "text": [
      "-2.150913330007121 0.9837232322430448\n"
     ]
    }
   ],
   "source": [
    "t,p = stats.ttest_ind(water_sp, norm_sp, alternative = 'greater')\n",
    "print(t, p)"
   ]
  },
  {
   "cell_type": "markdown",
   "metadata": {},
   "source": [
    "<a href=\"#0\"><h4>Наверх</h4></a>"
   ]
  },
  {
   "cell_type": "markdown",
   "metadata": {},
   "source": [
    "<p id=\"4\">\n",
    "<h4>Задание 3</h4><br>\n",
    "Профессор Оук тот еще безумец. Он изобрел сыворотку, способную ускорить покемона. Однако, мы усомнились в эффективности его вакцины. Професоор дал эту сыворотку следующим покемонам: смотри массив `treathed_pokemon`. Проверьте, работает ли вообще его сыворотка, убедите всех в своем выводе статистически. Вы можете предположить, что распределение скорости движения является нормальным для всех классов покемонов."
   ]
  },
  {
   "cell_type": "code",
   "execution_count": 22,
   "metadata": {},
   "outputs": [],
   "source": [
    "treathed_pokemon = ['Mega Beedrill','Mega Alakazam', 'Deoxys Normal Forme', 'Mega Lopunny']"
   ]
  },
  {
   "cell_type": "markdown",
   "metadata": {},
   "source": [
    "Для корректной проверки работы сыворотки нужно сравнить скорость конкретно этих покемонов до и после ее использования.\n",
    "Но такой информации нет, значит остается только сравнивать среднюю скорость покемонов, использовавших сыворотку,\n",
    "и всех остальных покемонов."
   ]
  },
  {
   "cell_type": "markdown",
   "metadata": {},
   "source": [
    "Сформулируем гипотезы:<br>\n",
    "* Нулевая гипотеза:  средняя скорость покемонов принявших сыворотку <= средняя корость остальных покемонов.\n",
    "* Альтернативная: средняя скорость покемонов принявших сыворотку выше, чем средняя корость остальных покемонов."
   ]
  },
  {
   "cell_type": "markdown",
   "metadata": {},
   "source": [
    "Разделим покемонов:"
   ]
  },
  {
   "cell_type": "code",
   "execution_count": 23,
   "metadata": {},
   "outputs": [
    {
     "name": "stdout",
     "output_type": "stream",
     "text": [
      "(4,)\n",
      "(796,)\n"
     ]
    }
   ],
   "source": [
    "treat_sp = pokemon[pokemon['Name'].isin(treathed_pokemon)]['Speed']\n",
    "not_treat_sp = pokemon[~pokemon['Name'].isin(treathed_pokemon)]['Speed']\n",
    "\n",
    "print(treat_sp.shape)\n",
    "print(not_treat_sp.shape)"
   ]
  },
  {
   "cell_type": "markdown",
   "metadata": {},
   "source": [
    "Средняя скорость покемонов после сыворотки в наших данных выше, чем средняя скорость остальных, 145 vs. 68:"
   ]
  },
  {
   "cell_type": "code",
   "execution_count": 24,
   "metadata": {},
   "outputs": [
    {
     "name": "stdout",
     "output_type": "stream",
     "text": [
      "средняя скорость \"сывороточных\"  145.0\n",
      "средняя скорость НЕ \"сывороточных\"  67.89195979899498\n"
     ]
    }
   ],
   "source": [
    "print('средняя скорость \"сывороточных\" ', treat_sp.mean())\n",
    "print('средняя скорость НЕ \"сывороточных\" ', not_treat_sp.mean())"
   ]
  },
  {
   "cell_type": "markdown",
   "metadata": {},
   "source": [
    "По боксплотам выбросов в скорости \"сывороточных\" покемонов нет. А вот у остальных выделяются два покемона:"
   ]
  },
  {
   "cell_type": "code",
   "execution_count": 25,
   "metadata": {
    "scrolled": false
   },
   "outputs": [
    {
     "data": {
      "image/png": "[encoded data removed]",
      "text/plain": [
       "<Figure size 720x216 with 2 Axes>"
      ]
     },
     "metadata": {
      "needs_background": "light"
     },
     "output_type": "display_data"
    }
   ],
   "source": [
    "plt.figure(figsize = (10, 3)) \n",
    "plt.subplot(1, 2, 1)\n",
    "sns.boxplot(y = treat_sp);\n",
    "plt.title('Treated');\n",
    "plt.subplot(1, 2, 2)\n",
    "sns.boxplot(y = not_treat_sp);\n",
    "plt.title('Not treated');"
   ]
  },
  {
   "cell_type": "markdown",
   "metadata": {},
   "source": [
    "Покемоны потенциальные \"выбросы\" по скорости:"
   ]
  },
  {
   "cell_type": "code",
   "execution_count": 26,
   "metadata": {
    "scrolled": false
   },
   "outputs": [
    {
     "data": {
      "text/html": [
       "<div>\n",
       "<style scoped>\n",
       "    .dataframe tbody tr th:only-of-type {\n",
       "        vertical-align: middle;\n",
       "    }\n",
       "\n",
       "    .dataframe tbody tr th {\n",
       "        vertical-align: top;\n",
       "    }\n",
       "\n",
       "    .dataframe thead th {\n",
       "        text-align: right;\n",
       "    }\n",
       "</style>\n",
       "<table border=\"1\" class=\"dataframe\">\n",
       "  <thead>\n",
       "    <tr style=\"text-align: right;\">\n",
       "      <th></th>\n",
       "      <th>pid</th>\n",
       "      <th>Name</th>\n",
       "      <th>Class 1</th>\n",
       "      <th>Class 2</th>\n",
       "      <th>HP</th>\n",
       "      <th>Attack</th>\n",
       "      <th>Defense</th>\n",
       "      <th>Sp. Atk</th>\n",
       "      <th>Sp. Def</th>\n",
       "      <th>Speed</th>\n",
       "      <th>Legendary</th>\n",
       "    </tr>\n",
       "  </thead>\n",
       "  <tbody>\n",
       "    <tr>\n",
       "      <th>315</th>\n",
       "      <td>316</td>\n",
       "      <td>Ninjask</td>\n",
       "      <td>Bug</td>\n",
       "      <td>Flying</td>\n",
       "      <td>61</td>\n",
       "      <td>90</td>\n",
       "      <td>45</td>\n",
       "      <td>50</td>\n",
       "      <td>50</td>\n",
       "      <td>160</td>\n",
       "      <td>False</td>\n",
       "    </tr>\n",
       "    <tr>\n",
       "      <th>431</th>\n",
       "      <td>432</td>\n",
       "      <td>Deoxys Speed Forme</td>\n",
       "      <td>Psychic</td>\n",
       "      <td>NaN</td>\n",
       "      <td>50</td>\n",
       "      <td>95</td>\n",
       "      <td>90</td>\n",
       "      <td>95</td>\n",
       "      <td>90</td>\n",
       "      <td>180</td>\n",
       "      <td>True</td>\n",
       "    </tr>\n",
       "  </tbody>\n",
       "</table>\n",
       "</div>"
      ],
      "text/plain": [
       "     pid                Name  Class 1 Class 2  HP  Attack  Defense  Sp. Atk  \\\n",
       "315  316             Ninjask      Bug  Flying  61      90       45       50   \n",
       "431  432  Deoxys Speed Forme  Psychic     NaN  50      95       90       95   \n",
       "\n",
       "     Sp. Def  Speed  Legendary  \n",
       "315       50    160      False  \n",
       "431       90    180       True  "
      ]
     },
     "execution_count": 26,
     "metadata": {},
     "output_type": "execute_result"
    }
   ],
   "source": [
    "pokemon[(pokemon.Speed > 150) & (~ pokemon['Name'].isin(treathed_pokemon))]"
   ]
  },
  {
   "cell_type": "markdown",
   "metadata": {},
   "source": [
    "Посмотрим, как влияет наличие выбросов на среднюю скорость и ее ско у не \"сывороточных\" покемонов. Влияние незначительное. Кроме того \"выбросов\" всего два, что вряд ли окажет влияние на тестовую статистику в части объема выборки не \"сывороточных\" (796 vs 794). Поэтому в связи с выбросами ничего не предпринимаем:"
   ]
  },
  {
   "cell_type": "code",
   "execution_count": 27,
   "metadata": {},
   "outputs": [
    {
     "name": "stdout",
     "output_type": "stream",
     "text": [
      "средняя скорость НЕ\"сывороточных\" 67.89195979899498\n",
      "средняя скорость без выбросов 67.63476070528968\n",
      "\n",
      "ско скорости  28.614785036677066\n",
      "ско скорости без выбросов 28.182571788089852\n"
     ]
    }
   ],
   "source": [
    "print('средняя скорость НЕ\"сывороточных\"', not_treat_sp.mean())\n",
    "print('средняя скорость без выбросов', not_treat_sp[not_treat_sp < 160].mean())\n",
    "print('')\n",
    "print('ско скорости ', not_treat_sp.std())\n",
    "print('ско скорости без выбросов', not_treat_sp[not_treat_sp < 160].std())"
   ]
  },
  {
   "cell_type": "markdown",
   "metadata": {},
   "source": [
    "Признак количественный. Распределения скорости считаем нормальными (поэтому совсем маленькая выборка \"сывороточных\" в 4 записи нас тут не беспокоит). Две независимых выборки, сравниваем два средних. Используем Т-тест для независимых выборок, односторонний, так как нам важно направление."
   ]
  },
  {
   "cell_type": "markdown",
   "metadata": {},
   "source": [
    "Равны ли дисперсии скорости \"сывороточных\" и остальных? Опираясь на значительную разницу между ср.кв.откл, сделаем поправку Уэлча и попробуем учесть все остальные \"но\" при интерпретации."
   ]
  },
  {
   "cell_type": "code",
   "execution_count": 28,
   "metadata": {},
   "outputs": [
    {
     "name": "stdout",
     "output_type": "stream",
     "text": [
      "ско скорости \"сывороточных\" 7.0710678118654755\n",
      "ско скорости остальных 28.614785036677066\n",
      "относительная разница ско 3.046741708325941\n"
     ]
    }
   ],
   "source": [
    "print('ско скорости \"сывороточных\"', treat_sp.std())\n",
    "print('ско скорости остальных', not_treat_sp.std())\n",
    "print('относительная разница ско',(not_treat_sp.std() - treat_sp.std()) / treat_sp.std())"
   ]
  },
  {
   "cell_type": "code",
   "execution_count": 29,
   "metadata": {},
   "outputs": [
    {
     "name": "stdout",
     "output_type": "stream",
     "text": [
      "20.96391663092999 4.053762771821796e-05\n"
     ]
    }
   ],
   "source": [
    "t,p = stats.ttest_ind(treat_sp, not_treat_sp, alternative = 'greater', equal_var = False)\n",
    "print(t, p) "
   ]
  },
  {
   "cell_type": "markdown",
   "metadata": {},
   "source": [
    "* При условии, что Н0 верна (т.е. средняя скорость \"сывороточных\" <= средняя скорость остальных), данные показывают очень маловероятные результаты.\n",
    "* При условии, что Н0 верна, вероятность полученного (или более экстремального) значения тестовой статистики по сути равна 0.\n",
    "* По нашим данным аргументов в пользу H0 практически нет.\n",
    "* Отвергаем Н0 в пользу Н1.\n",
    "* Выборочные средние 145 (\"сывороточные\") и 68 (остальные). По тесту средняя скорость \"сывороточных\" статистически значимо отличается от средней скорости остальных в большую сторону. С практической точки зрения эта разница тоже значима.\n",
    "* Средняя скорость \"сывороточных\" покемонов выше, чем у остальных. На этот раз профессор оказался прав."
   ]
  },
  {
   "cell_type": "markdown",
   "metadata": {},
   "source": [
    "По итогам теста мы отвергаем нулевую, поэтому риск повышенной ошибки 2 рода для нас тут неактуален. Можем для проверки провести тест без поправки, хотя в статистике так не принято и это считается р-хаккингом. Отсутствие поправки значительно повлияло на значение тестовой статистики, но не на р-значение:"
   ]
  },
  {
   "cell_type": "code",
   "execution_count": 30,
   "metadata": {},
   "outputs": [
    {
     "name": "stdout",
     "output_type": "stream",
     "text": [
      "5.385407401082377 4.75755058815393e-08\n"
     ]
    }
   ],
   "source": [
    "t,p = stats.ttest_ind(treat_sp, not_treat_sp, alternative = 'greater')\n",
    "print(t, p) "
   ]
  },
  {
   "cell_type": "markdown",
   "metadata": {},
   "source": [
    "Решение об исключении выбросов тоже относится к р-хаккингу, но попробуем провести тест на выборке без выбросов для проверки. Исключение выбросов на тест почти не повлияло:"
   ]
  },
  {
   "cell_type": "code",
   "execution_count": 31,
   "metadata": {
    "scrolled": true
   },
   "outputs": [
    {
     "name": "stdout",
     "output_type": "stream",
     "text": [
      "21.055898358129713 4.11435422705434e-05\n"
     ]
    }
   ],
   "source": [
    "t,p = stats.ttest_ind(treat_sp, not_treat_sp[not_treat_sp < 160], alternative = 'greater', equal_var = False)\n",
    "print(t, p) "
   ]
  },
  {
   "cell_type": "markdown",
   "metadata": {},
   "source": [
    "<a href=\"#0\"><h4>Наверх</h4></a>"
   ]
  },
  {
   "cell_type": "markdown",
   "metadata": {},
   "source": [
    "<p id=\"5\">\n",
    "<h4>Задание 4</h4><br>   \n",
    "Профессор Оук всегда любил истории про легендарных покемонов. Однако, профессор не очень уверен, что они самые лучшие относительно остальных покемонов. Оук предложил разобраться в этом нам. Проверьте, действительно ли сумма характеристик `HP`,`Attack`,`Defense` у легендарных покемонов выше, чем у других покемонов? Убедите всех в своем выводе статистически. Вы можете предположить, что распределение сумм этих параметров является нормальным для всех классов покемонов."
   ]
  },
  {
   "cell_type": "markdown",
   "metadata": {},
   "source": [
    "Сформулируем гипотезы:<br>\n",
    "* Нулевая гипотеза: средняя сумма характеристик легендарных покемонов <= средняя сумма остальных покемонов.\n",
    "* Альтернативная: средняя сумма характеристик легендарных покемонов выше, чем средняя сумма остальных покемонов."
   ]
  },
  {
   "cell_type": "markdown",
   "metadata": {},
   "source": [
    "Добавим столбец с суммой указанных характеристик:"
   ]
  },
  {
   "cell_type": "code",
   "execution_count": 32,
   "metadata": {},
   "outputs": [],
   "source": [
    "pokemon['char_sum'] = pokemon['HP'] + pokemon['Attack'] + pokemon['Defense']"
   ]
  },
  {
   "cell_type": "markdown",
   "metadata": {},
   "source": [
    "Разделим покемонов на легендарных и остальных:"
   ]
  },
  {
   "cell_type": "code",
   "execution_count": 33,
   "metadata": {},
   "outputs": [
    {
     "name": "stdout",
     "output_type": "stream",
     "text": [
      "(65,)\n",
      "(735,)\n"
     ]
    }
   ],
   "source": [
    "legend_sum = pokemon[(pokemon.Legendary == True)]['char_sum']\n",
    "not_legend_sum = pokemon[(pokemon.Legendary != True)]['char_sum']\n",
    "\n",
    "print(legend_sum.shape)\n",
    "print(not_legend_sum.shape)"
   ]
  },
  {
   "cell_type": "markdown",
   "metadata": {},
   "source": [
    "Средняя сумма характеристик легендарных покемонов в наших данных выше, чем средняя сумма у остальных, 309 vs. 214:"
   ]
  },
  {
   "cell_type": "code",
   "execution_count": 34,
   "metadata": {},
   "outputs": [
    {
     "name": "stdout",
     "output_type": "stream",
     "text": [
      "средняя сумма хар-к легендарных  309.0769230769231\n",
      "средняя сумма хар-к НЕ легендарных  214.4108843537415\n"
     ]
    }
   ],
   "source": [
    "print('средняя сумма хар-к легендарных ', legend_sum.mean())\n",
    "print('средняя сумма хар-к НЕ легендарных ', not_legend_sum.mean())"
   ]
  },
  {
   "cell_type": "markdown",
   "metadata": {},
   "source": [
    "По сумме характеристик наблюдаются выбросы и у легендарных и у остальных:"
   ]
  },
  {
   "cell_type": "code",
   "execution_count": 35,
   "metadata": {
    "scrolled": false
   },
   "outputs": [
    {
     "data": {
      "image/png": "[encoded data removed]",
      "text/plain": [
       "<Figure size 720x216 with 2 Axes>"
      ]
     },
     "metadata": {
      "needs_background": "light"
     },
     "output_type": "display_data"
    }
   ],
   "source": [
    "plt.figure(figsize = (10, 3)) \n",
    "plt.subplot(1, 2, 1)\n",
    "sns.boxplot(y = legend_sum);\n",
    "plt.title('Legendary');\n",
    "plt.subplot(1, 2, 2)\n",
    "sns.boxplot(y = not_legend_sum);\n",
    "plt.title('Not legendary');"
   ]
  },
  {
   "cell_type": "markdown",
   "metadata": {},
   "source": [
    "Для легендарных видно, что значение выброса больше 420. Для нелегендарных по графику непонятно. Посчитаем верхнюю границу, после которой боксплот считает значения выбросами:"
   ]
  },
  {
   "cell_type": "code",
   "execution_count": 36,
   "metadata": {},
   "outputs": [
    {
     "data": {
      "text/plain": [
       "397.5"
      ]
     },
     "execution_count": 36,
     "metadata": {},
     "output_type": "execute_result"
    }
   ],
   "source": [
    "up_out_leg_sum = not_legend_sum.describe()['75%'] + 1.5 * (not_legend_sum.describe()['75%'] - not_legend_sum.describe()['25%'] )\n",
    "up_out_leg_sum"
   ]
  },
  {
   "cell_type": "markdown",
   "metadata": {},
   "source": [
    "Посмотрим на этих покемонов:"
   ]
  },
  {
   "cell_type": "code",
   "execution_count": 37,
   "metadata": {
    "scrolled": true
   },
   "outputs": [
    {
     "data": {
      "text/html": [
       "<div>\n",
       "<style scoped>\n",
       "    .dataframe tbody tr th:only-of-type {\n",
       "        vertical-align: middle;\n",
       "    }\n",
       "\n",
       "    .dataframe tbody tr th {\n",
       "        vertical-align: top;\n",
       "    }\n",
       "\n",
       "    .dataframe thead th {\n",
       "        text-align: right;\n",
       "    }\n",
       "</style>\n",
       "<table border=\"1\" class=\"dataframe\">\n",
       "  <thead>\n",
       "    <tr style=\"text-align: right;\">\n",
       "      <th></th>\n",
       "      <th>pid</th>\n",
       "      <th>Name</th>\n",
       "      <th>Class 1</th>\n",
       "      <th>Class 2</th>\n",
       "      <th>HP</th>\n",
       "      <th>Attack</th>\n",
       "      <th>Defense</th>\n",
       "      <th>Sp. Atk</th>\n",
       "      <th>Sp. Def</th>\n",
       "      <th>Speed</th>\n",
       "      <th>Legendary</th>\n",
       "      <th>char_sum</th>\n",
       "    </tr>\n",
       "  </thead>\n",
       "  <tbody>\n",
       "    <tr>\n",
       "      <th>224</th>\n",
       "      <td>225</td>\n",
       "      <td>Mega Steelix</td>\n",
       "      <td>Steel</td>\n",
       "      <td>Ground</td>\n",
       "      <td>75</td>\n",
       "      <td>125</td>\n",
       "      <td>230</td>\n",
       "      <td>55</td>\n",
       "      <td>95</td>\n",
       "      <td>30</td>\n",
       "      <td>False</td>\n",
       "      <td>430</td>\n",
       "    </tr>\n",
       "    <tr>\n",
       "      <th>268</th>\n",
       "      <td>269</td>\n",
       "      <td>Mega Tyranitar</td>\n",
       "      <td>Rock</td>\n",
       "      <td>Dark</td>\n",
       "      <td>100</td>\n",
       "      <td>164</td>\n",
       "      <td>150</td>\n",
       "      <td>95</td>\n",
       "      <td>120</td>\n",
       "      <td>71</td>\n",
       "      <td>False</td>\n",
       "      <td>414</td>\n",
       "    </tr>\n",
       "    <tr>\n",
       "      <th>313</th>\n",
       "      <td>314</td>\n",
       "      <td>Slaking</td>\n",
       "      <td>Normal</td>\n",
       "      <td>NaN</td>\n",
       "      <td>150</td>\n",
       "      <td>160</td>\n",
       "      <td>100</td>\n",
       "      <td>95</td>\n",
       "      <td>65</td>\n",
       "      <td>100</td>\n",
       "      <td>False</td>\n",
       "      <td>410</td>\n",
       "    </tr>\n",
       "    <tr>\n",
       "      <th>333</th>\n",
       "      <td>334</td>\n",
       "      <td>Mega Aggron</td>\n",
       "      <td>Steel</td>\n",
       "      <td>NaN</td>\n",
       "      <td>70</td>\n",
       "      <td>140</td>\n",
       "      <td>230</td>\n",
       "      <td>60</td>\n",
       "      <td>80</td>\n",
       "      <td>50</td>\n",
       "      <td>False</td>\n",
       "      <td>440</td>\n",
       "    </tr>\n",
       "  </tbody>\n",
       "</table>\n",
       "</div>"
      ],
      "text/plain": [
       "     pid            Name Class 1 Class 2   HP  Attack  Defense  Sp. Atk  \\\n",
       "224  225    Mega Steelix   Steel  Ground   75     125      230       55   \n",
       "268  269  Mega Tyranitar    Rock    Dark  100     164      150       95   \n",
       "313  314         Slaking  Normal     NaN  150     160      100       95   \n",
       "333  334     Mega Aggron   Steel     NaN   70     140      230       60   \n",
       "\n",
       "     Sp. Def  Speed  Legendary  char_sum  \n",
       "224       95     30      False       430  \n",
       "268      120     71      False       414  \n",
       "313       65    100      False       410  \n",
       "333       80     50      False       440  "
      ]
     },
     "execution_count": 37,
     "metadata": {},
     "output_type": "execute_result"
    }
   ],
   "source": [
    "pokemon[(pokemon.char_sum > up_out_leg_sum) & (pokemon.Legendary == False)]"
   ]
  },
  {
   "cell_type": "markdown",
   "metadata": {},
   "source": [
    "Посмотрим, как влияет наличие выбросов на среднюю сумму хар-к и ее ско у легендарных и нелегендарных покемонов.\n",
    "Влияние незначительное. Кроме того у легендарных выброс один, у нелегендарных выбросов четыре, что вряд ли окажет влияние на тестовую статистику на фоне объема выборок (65 и 735). Поэтому в связи с выбросами ничего не предпринимаем:"
   ]
  },
  {
   "cell_type": "code",
   "execution_count": 38,
   "metadata": {},
   "outputs": [
    {
     "name": "stdout",
     "output_type": "stream",
     "text": [
      "средняя сумма легендарных 309.0769230769231\n",
      "средняя сумма легендарных без выбросов 307.03125\n",
      "относительная разница 0.006662752006263513\n",
      "\n",
      "ско суммы легендарных 46.42982194004856\n",
      "ско суммы легендарных без выбросов 43.74492034002983\n",
      "относительная разница 0.061376305617862795\n",
      "---\n",
      "средняя сумма НЕ легендарных 214.4108843537415\n",
      "средняя сумма НЕ легендарных без выбросов 213.26675786593708\n",
      "относительная разница 0.005364767107884812\n",
      "\n",
      "ско суммы НЕ легендарных 64.3595985033824\n",
      "ско суммы НЕ легендарных без выбросов 62.63535460801218\n",
      "относительная разница 0.027528285042225344\n"
     ]
    }
   ],
   "source": [
    "print('средняя сумма легендарных', legend_sum.mean())\n",
    "print('средняя сумма легендарных без выбросов', legend_sum[legend_sum < 420].mean())\n",
    "print('относительная разница',\n",
    "      (legend_sum.mean() - legend_sum[legend_sum < 420].mean()) / legend_sum[legend_sum < 420].mean())\n",
    "print('')\n",
    "print('ско суммы легендарных', legend_sum.std())\n",
    "print('ско суммы легендарных без выбросов', legend_sum[legend_sum < 420].std())\n",
    "print('относительная разница',\n",
    "      (legend_sum.std() - legend_sum[legend_sum < 420].std()) / legend_sum[legend_sum < 420].std())\n",
    "print('---')\n",
    "print('средняя сумма НЕ легендарных', not_legend_sum.mean())\n",
    "print('средняя сумма НЕ легендарных без выбросов', not_legend_sum[not_legend_sum < up_out_leg_sum].mean())\n",
    "print('относительная разница',\n",
    "      (not_legend_sum.mean() - not_legend_sum[not_legend_sum < up_out_leg_sum].mean()) / not_legend_sum[not_legend_sum < up_out_leg_sum].mean())\n",
    "print('')\n",
    "print('ско суммы НЕ легендарных', not_legend_sum.std())\n",
    "print('ско суммы НЕ легендарных без выбросов', not_legend_sum[not_legend_sum < up_out_leg_sum].std())\n",
    "print('относительная разница',\n",
    "      (not_legend_sum.std() - not_legend_sum[not_legend_sum < up_out_leg_sum].std()) / not_legend_sum[not_legend_sum < up_out_leg_sum].std())"
   ]
  },
  {
   "cell_type": "markdown",
   "metadata": {},
   "source": [
    "Признак количественный. Распределения суммы характеристик считаем нормальными. Две независимых выборки, сравниваем два средних. Используем Т-тест для независимых выборок, односторонний, так как нам важно направление. "
   ]
  },
  {
   "cell_type": "markdown",
   "metadata": {},
   "source": [
    "Равны ли дисперсии суммы характеристик для легендарных и нелегндарных? Опираясь на разницу между ср.кв.откл в 38 %, сделаем поправку Уэлча и попробуем учесть все остальные \"но\" при интерпретации:"
   ]
  },
  {
   "cell_type": "code",
   "execution_count": 39,
   "metadata": {},
   "outputs": [
    {
     "name": "stdout",
     "output_type": "stream",
     "text": [
      "ско суммы легендарных 46.42982194004856\n",
      "ско суммы НЕ легендарных 64.3595985033824\n",
      "относительная разница ско 0.38616940177985715\n"
     ]
    }
   ],
   "source": [
    "print('ско суммы легендарных', legend_sum.std())\n",
    "print('ско суммы НЕ легендарных', not_legend_sum.std())\n",
    "print('относительная разница ско', (not_legend_sum.std() - legend_sum.std()) / legend_sum.std())"
   ]
  },
  {
   "cell_type": "code",
   "execution_count": 40,
   "metadata": {},
   "outputs": [
    {
     "name": "stdout",
     "output_type": "stream",
     "text": [
      "15.19759110757148 1.4641359351664928e-26\n"
     ]
    }
   ],
   "source": [
    "t,p = stats.ttest_ind(legend_sum, not_legend_sum, alternative = 'greater', equal_var = False)\n",
    "print(t, p) "
   ]
  },
  {
   "cell_type": "markdown",
   "metadata": {},
   "source": [
    "* При условии, что Н0 верна (т.е. средняя сумма легендарных <= у остальных), данные показывают очень маловероятные результаты.\n",
    "* При условии, что Н0 верна, вероятность полученного (или более экстремального) значения тестовой статистики по сути равна 0.\n",
    "* По нашим данным аргументов в пользу H0 практически нет.\n",
    "* Отвергаем Н0 в пользу Н1.\n",
    "* Выборочные средние 309 (легендарные) и 214 (остальные). По тесту средняя сумма показателей легендарных статистически значимо отличается от средней суммы остальных в большую сторону. С практической точки зрения эта разница тоже значима.\n",
    "* Средняя сумма характеристик легендарных покемонов не отличается от средней суммы у остальных или ниже ее."
   ]
  },
  {
   "cell_type": "markdown",
   "metadata": {},
   "source": [
    "По итогам тестов мы отвергаем нулевую, поэтому риск повышенной ошибки 2 рода для нас тут неактуален. Можем для проверки провести тест без поправки, хотя в статистике так не принято и это считается р-хаккингом. Отсутствие поправки несколько повлияло на значение тестовой статистики, но не на р-значение:"
   ]
  },
  {
   "cell_type": "code",
   "execution_count": 41,
   "metadata": {},
   "outputs": [
    {
     "name": "stdout",
     "output_type": "stream",
     "text": [
      "11.591852366462316 3.9854711028610435e-29\n"
     ]
    }
   ],
   "source": [
    "t,p = stats.ttest_ind(legend_sum, not_legend_sum, alternative = 'greater')\n",
    "print(t, p) "
   ]
  },
  {
   "cell_type": "markdown",
   "metadata": {},
   "source": [
    "Решение об исключении выбросов тоже относится к р-хаккингу, но попробуем провести тест на выборках без выбросов для проверки. Исключение выбросов на p-значения не повлияло:"
   ]
  },
  {
   "cell_type": "code",
   "execution_count": 42,
   "metadata": {
    "scrolled": true
   },
   "outputs": [
    {
     "name": "stdout",
     "output_type": "stream",
     "text": [
      "15.788946832441807 1.2478449036770521e-27\n"
     ]
    }
   ],
   "source": [
    "t,p = stats.ttest_ind(legend_sum[legend_sum < 420], not_legend_sum[not_legend_sum < up_out_leg_sum],\n",
    "                      alternative = 'greater', equal_var = False)\n",
    "print(t, p) "
   ]
  },
  {
   "cell_type": "markdown",
   "metadata": {},
   "source": [
    "<a href=\"#0\"><h4>Наверх</h4></a>"
   ]
  },
  {
   "cell_type": "markdown",
   "metadata": {},
   "source": [
    "<p id=\"6\">\n",
    "<h4>Задание 5</h4><br>\n",
    "Профессор Оук частенько наблюдает за боями покемонов. После очередных таких боев Оук выделил четыре класса `best_defense_class`, которые на его взгляд одинаковы по \"силе обычной защиты\" `Defense`. Проверьте, действительно ли эти классы покемонов не отличаются по уровню защиты статистически значимо? Вы можете предположить, что распределение защиты является нормальным для всех классов покемонов."
   ]
  },
  {
   "cell_type": "code",
   "execution_count": 43,
   "metadata": {},
   "outputs": [],
   "source": [
    "best_defense_class = ['Rock', 'Ground','Steel','Ice']"
   ]
  },
  {
   "cell_type": "markdown",
   "metadata": {},
   "source": [
    "Сформулируем гипотезы:\n",
    "* Нулевая гипотеза: средняя сила защиты равна у классов 'Rock', 'Ground', 'Steel', 'Ice'.\n",
    "* Альтернативная: средняя сила защиты равна не у всех из классов 'Rock', 'Ground', 'Steel', 'Ice'."
   ]
  },
  {
   "cell_type": "markdown",
   "metadata": {},
   "source": [
    "Разделим покемонов по классам:"
   ]
  },
  {
   "cell_type": "code",
   "execution_count": 44,
   "metadata": {},
   "outputs": [
    {
     "name": "stdout",
     "output_type": "stream",
     "text": [
      "(41,)\n",
      "(52,)\n",
      "(40,)\n",
      "(33,)\n"
     ]
    }
   ],
   "source": [
    "rock_def = pokemon[((pokemon['Class 1'] == 'Rock') & (~pokemon['Class 2'].isin(best_defense_class))) |\n",
    "                   ((pokemon['Class 2'] == 'Rock') & (~pokemon['Class 1'].isin(best_defense_class)))]['Defense']\n",
    "\n",
    "gr_def = pokemon[((pokemon['Class 1'] == 'Ground') & (~pokemon['Class 2'].isin(best_defense_class))) |\n",
    "                   ((pokemon['Class 2'] == 'Ground') & (~pokemon['Class 1'].isin(best_defense_class)))]['Defense']\n",
    "\n",
    "st_def = pokemon[((pokemon['Class 1'] == 'Steel') & (~pokemon['Class 2'].isin(best_defense_class))) |\n",
    "                   ((pokemon['Class 2'] == 'Steel') & (~pokemon['Class 1'].isin(best_defense_class)))]['Defense']\n",
    "\n",
    "ice_def = pokemon[((pokemon['Class 1'] == 'Ice') & (~pokemon['Class 2'].isin(best_defense_class))) |\n",
    "                   ((pokemon['Class 2'] == 'Ice') & (~pokemon['Class 1'].isin(best_defense_class)))]['Defense']\n",
    "print(rock_def.shape)\n",
    "print(gr_def.shape)\n",
    "print(st_def.shape)\n",
    "print(ice_def.shape)"
   ]
  },
  {
   "cell_type": "markdown",
   "metadata": {},
   "source": [
    "Средняя защита у четырех классов в наших данных отличается между собой: Rock и Steel ближе друг к другу 104 и 109, Ground и Ice ближе друг к другу 81 и 78."
   ]
  },
  {
   "cell_type": "code",
   "execution_count": 45,
   "metadata": {},
   "outputs": [
    {
     "name": "stdout",
     "output_type": "stream",
     "text": [
      "средняя защита Rock  104.09756097560975\n",
      "средняя защита Ground  81.07692307692308\n",
      "средняя защита Steel  109.325\n",
      "средняя защита Ice 78.51515151515152\n"
     ]
    }
   ],
   "source": [
    "print('средняя защита Rock ', rock_def.mean())\n",
    "print('средняя защита Ground ', gr_def.mean())\n",
    "print('средняя защита Steel ', st_def.mean())\n",
    "print('средняя защита Ice', ice_def.mean())"
   ]
  },
  {
   "cell_type": "markdown",
   "metadata": {},
   "source": [
    "Кроме Ground  у всех классов есть выбросы:"
   ]
  },
  {
   "cell_type": "code",
   "execution_count": 46,
   "metadata": {
    "scrolled": false
   },
   "outputs": [
    {
     "data": {
      "image/png": "[encoded data removed]",
      "text/plain": [
       "<Figure size 1440x360 with 4 Axes>"
      ]
     },
     "metadata": {
      "needs_background": "light"
     },
     "output_type": "display_data"
    }
   ],
   "source": [
    "plt.figure(figsize = (20, 5)) \n",
    "plt.subplot(1,4,1)\n",
    "sns.boxplot(y = rock_def);\n",
    "plt.title('Rock');\n",
    "plt.subplot(1,4,2)\n",
    "sns.boxplot(y = gr_def);\n",
    "plt.title('Ground');\n",
    "plt.subplot(1,4,3)\n",
    "sns.boxplot(y = st_def);\n",
    "plt.title('Steel');\n",
    "plt.subplot(1,4,4)\n",
    "sns.boxplot(y = ice_def);\n",
    "plt.title('Ice');"
   ]
  },
  {
   "cell_type": "markdown",
   "metadata": {},
   "source": [
    "Посмотрим, как влияет наличие выбросов на среднюю защиту у выбранных классов по отдельности и суммарно. Разница 3-10% для классовых средних и 3% для общего среднего. Выбросов 1-2 штуки на класс, что вряд ли окажет влияние на тестовую статистику на фоне объема выборок (30-50 записей). Поэтому в связи с выбросами пока ничего не предпринимаем:"
   ]
  },
  {
   "cell_type": "code",
   "execution_count": 47,
   "metadata": {
    "scrolled": false
   },
   "outputs": [
    {
     "name": "stdout",
     "output_type": "stream",
     "text": [
      "средняя защита Rock 104.09756097560975\n",
      "средняя защита Rock без выбросов 98.41025641025641\n",
      "относительная разница 0.057791786880870354\n",
      "\n",
      "средняя защита Steel 109.325\n",
      "средняя защита Steel без выбросов 106.23076923076923\n",
      "относительная разница 0.029127443881245545\n",
      "\n",
      "средняя защита Ice 78.51515151515152\n",
      "средняя защита Ice без выбросов 71.83870967741936\n",
      "относительная разница 0.09293655005374801\n",
      "\n",
      "суммарное среднее 93.06024096385542\n",
      "суммарное среднее без выбросов 89.59006211180125\n",
      "относительная разница 0.03873397082506393\n"
     ]
    }
   ],
   "source": [
    "print('средняя защита Rock', rock_def.mean())\n",
    "print('средняя защита Rock без выбросов', rock_def[rock_def < 180].mean())\n",
    "print('относительная разница',\n",
    "      (rock_def.mean() - rock_def[rock_def < 180].mean()) / rock_def[rock_def < 180].mean())\n",
    "print('')\n",
    "print('средняя защита Steel', st_def.mean())\n",
    "print('средняя защита Steel без выбросов', st_def[st_def < 200].mean())\n",
    "print('относительная разница', \n",
    "     (st_def.mean() - st_def[st_def < 200].mean()) / st_def[st_def < 200].mean())\n",
    "print('')\n",
    "print('средняя защита Ice', ice_def.mean())\n",
    "print('средняя защита Ice без выбросов', ice_def[ice_def < 150].mean())\n",
    "print('относительная разница', \n",
    "      (ice_def.mean() - ice_def[ice_def < 150].mean()) / ice_def[ice_def < 150].mean())\n",
    "print('')\n",
    "sum_mean = pd.concat([rock_def, gr_def, st_def, ice_def]).mean()\n",
    "sum_mean_excl = pd.concat([rock_def[rock_def < 180], gr_def, st_def[st_def < 200], ice_def[ice_def < 150]]).mean()\n",
    "print('суммарное среднее',sum_mean)\n",
    "print('суммарное среднее без выбросов',sum_mean_excl)\n",
    "print('относительная разница',(sum_mean - sum_mean_excl)/sum_mean_excl)"
   ]
  },
  {
   "cell_type": "markdown",
   "metadata": {},
   "source": [
    "* Четыре выборки, независимые. Распределения считаем нормальными (поэтому небольшой размер выборок нас тут не беспокоит).\n",
    "* Однофакторный дисперсионный анализ для более двух выборок (ANOVA).\n",
    "* Но этот тест опирается на предположение о равенстве (генеральных) ско групп. Гетероскедастичность была бы меньшей проблемой, если бы размеры групп были сбалансированы, но это не наш случай (в меньшей группе 33 записи, в большей 52).\n",
    "* Если не исключать выбросы, то: разница между наибольшим и наименьшим групповым ско 30%; наибольшее ско у Rock (средняя по величине группа n = 41), наименьшее ско у Ground (наибольшая по величине группа n = 52), у наименьшей группы третье по величине ско (Ice, n = 33, ско 35.8). Этот вариант ближе к ситуации, когда у групп с меньшим объемом больше ско, что для теста может вылиться в увеличение вероятности отвергнуть корректную нулевую.\n",
    "* Если исключить выбросы, то: выборочные ско групп становятся ближе друг к друг; разница между наибольшим и наименьшим групповым ско 20%; наибольшее ско у Rock и Ground (средняя и наибольшая группа), наименьшее ско у Ice (наименьшая группа). Этот вариант ближе к ситуации, когда у групп с большим объемом больше ско, что для теста может вылиться в заниженную вероятность отвергнуть корректную нулевую и завышенную не отвергнуть некорректную нулевую.\n",
    "* Проведем тест на выборках, исключая выбросы. Так как в этом варианте заметно меньше разница между групповыми ско. И сделать вывод, что разницы между классами нет, хотя на самом деле есть, кажется менее \"дорогой\" ошибкой, чем сделать вывод, что разница есть, хотя ее нет."
   ]
  },
  {
   "cell_type": "code",
   "execution_count": 48,
   "metadata": {},
   "outputs": [
    {
     "name": "stdout",
     "output_type": "stream",
     "text": [
      "ско защита Rock 38.22682623371236\n",
      "(41,)\n",
      "ско защита Ground 29.37709268563916\n",
      "(52,)\n",
      "ско защита Steel 32.157774112917636\n",
      "(40,)\n",
      "ско защита Ice 35.804260581075766\n",
      "(33,)\n",
      "разница между min и max ско 0.30124606416207234\n",
      "\n",
      "ско защита Rock без выбросов 29.083109539023496\n",
      "(39,)\n",
      "ско защита Ground 29.37709268563916\n",
      "(52,)\n",
      "ско защита Steel без выбросов 25.851256243995426\n",
      "(39,)\n",
      "ско защита Ice без выбросов 24.640206674178625\n",
      "(31,)\n",
      "разница между min и max ско 0.19224213798598086\n"
     ]
    }
   ],
   "source": [
    "print('ско защита Rock', rock_def.std())\n",
    "print(rock_def.shape)\n",
    "print('ско защита Ground', gr_def.std())\n",
    "print(gr_def.shape)\n",
    "print('ско защита Steel', st_def.std())\n",
    "print(st_def.shape)\n",
    "print('ско защита Ice', ice_def.std())\n",
    "print(ice_def.shape)\n",
    "print('разница между min и max ско', (rock_def.std() - gr_def.std()) / gr_def.std())\n",
    "print('')\n",
    "print('ско защита Rock без выбросов', rock_def[rock_def < 180].std())\n",
    "print(rock_def[rock_def < 180].shape)\n",
    "print('ско защита Ground', gr_def.std())\n",
    "print(gr_def.shape)\n",
    "print('ско защита Steel без выбросов', st_def[st_def < 200].std())\n",
    "print(st_def[st_def < 200].shape)\n",
    "print('ско защита Ice без выбросов', ice_def[ice_def < 150].std())\n",
    "print(ice_def[ice_def < 150].shape)\n",
    "print('разница между min и max ско', (gr_def.std() - ice_def[ice_def < 150].std()) / ice_def[ice_def < 150].std())"
   ]
  },
  {
   "cell_type": "code",
   "execution_count": 49,
   "metadata": {
    "scrolled": true
   },
   "outputs": [
    {
     "name": "stdout",
     "output_type": "stream",
     "text": [
      "11.960163322833713 4.2778786624304084e-07\n"
     ]
    }
   ],
   "source": [
    "f, p = stats.f_oneway(rock_def[rock_def < 180], gr_def, st_def[st_def < 200], ice_def[ice_def < 150])\n",
    "print(f,p)"
   ]
  },
  {
   "cell_type": "markdown",
   "metadata": {},
   "source": [
    "* При условии, что Н0 верна (т.е. средняя защита у четырех классов одинакова), данные показывают очень маловероятные результаты.\n",
    "* При условии, что Н0 верна, вероятность полученного (или более экстремального) значения тестовой статистики по сути равна 0.\n",
    "* По нашим данным аргументов в пользу H0 практически нет.\n",
    "* Отвергаем Н0 в пользу Н1.\n",
    "* Средняя защита равна не у всех из четырех классов.\n",
    "* Выборочные средние без выбросов 98, 106, 72, 90. По тесту средняя защита минимум одного из классов статистически значимо отличается от остальных. С практической точки зрения разница между классами тоже значима.\n",
    "* Здесь у нас очень уверенное отвержение нулевой, поэтому риск заниженной вероятности отвергнуть корректную нулевую и завышенной вероятности не отвергнуть некорректную нулевую неактуален. "
   ]
  },
  {
   "cell_type": "markdown",
   "metadata": {},
   "source": [
    "Решение об исключении выбросов относится к р-хаккингу, но попробуем провести тест на выборках без исключения выбросов для проверки. Неисключение выбросов несколько изменило тестовую характеристику, но на р-значение по сути не повлияло:"
   ]
  },
  {
   "cell_type": "code",
   "execution_count": 50,
   "metadata": {},
   "outputs": [
    {
     "name": "stdout",
     "output_type": "stream",
     "text": [
      "8.820416931465497 1.885892116821956e-05\n"
     ]
    }
   ],
   "source": [
    "f, p = stats.f_oneway(rock_def, gr_def, st_def, ice_def)\n",
    "print(f,p)"
   ]
  },
  {
   "cell_type": "markdown",
   "metadata": {},
   "source": [
    "Еще существует Welch's ANOVA тест, который делает поправку на неравные ско групп, но он не реализован в scipy. Есть реализация в statsmodels. Статистика немного меняется, но р-значение по-прежнему почти 0:"
   ]
  },
  {
   "cell_type": "code",
   "execution_count": 51,
   "metadata": {},
   "outputs": [],
   "source": [
    "import statsmodels.stats.oneway as anova"
   ]
  },
  {
   "cell_type": "code",
   "execution_count": 52,
   "metadata": {},
   "outputs": [
    {
     "name": "stdout",
     "output_type": "stream",
     "text": [
      "9.195422545212688 2.5207963085148734e-05\n"
     ]
    }
   ],
   "source": [
    "f, p = anova.anova_oneway([rock_def, gr_def, st_def, ice_def], use_var = 'unequal', welch_correction = False)\n",
    "print(f, p)"
   ]
  },
  {
   "cell_type": "markdown",
   "metadata": {},
   "source": [
    "<a href=\"#0\"><h4>Наверх</h4></a>"
   ]
  }
 ],
 "metadata": {
  "kernelspec": {
   "display_name": "Python 3 (ipykernel)",
   "language": "python",
   "name": "python3"
  },
  "language_info": {
   "codemirror_mode": {
    "name": "ipython",
    "version": 3
   },
   "file_extension": ".py",
   "mimetype": "text/x-python",
   "name": "python",
   "nbconvert_exporter": "python",
   "pygments_lexer": "ipython3",
   "version": "3.8.12"
  },
  "toc": {
   "base_numbering": 1,
   "nav_menu": {},
   "number_sections": true,
   "sideBar": true,
   "skip_h1_title": false,
   "title_cell": "Table of Contents",
   "title_sidebar": "Contents",
   "toc_cell": false,
   "toc_position": {},
   "toc_section_display": true,
   "toc_window_display": false
  }
 },
 "nbformat": 4,
 "nbformat_minor": 4
}
