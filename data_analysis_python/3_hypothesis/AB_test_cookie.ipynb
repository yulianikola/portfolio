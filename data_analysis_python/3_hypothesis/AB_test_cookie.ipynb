{
 "cells": [
  {
   "cell_type": "markdown",
   "metadata": {},
   "source": [
    "<div class=\"alert alert-info\">\n",
    "Ссылка для просмотра ноутбука в интерактивном режиме для использования гиперссылок и корректного отображения разметки:<br>\n",
    "<a href='https://nbviewer.org/github/yulianikola/portfolio/blob/master/data_analysis_python/3_hypothesis/AB_test_cookie.ipynb'>AB_test_cookie</a></div>"
   ]
  },
  {
   "cell_type": "markdown",
   "metadata": {},
   "source": [
    "### АВ-тест\n",
    "#### Игра Cookie Cats"
   ]
  },
  {
   "cell_type": "markdown",
   "metadata": {},
   "source": [
    "<div class=\"alert alert-info\">\n",
    "Cookie Cats - популярная мобильная игра-головоломка, разработанная Tactile Entertainment. Это классическая игра-головоломка в стиле «соедините три», в которой игрок должен соединять плитки одного цвета, чтобы очистить поле и выиграть уровень. \n",
    "</div>"
   ]
  },
  {
   "cell_type": "markdown",
   "metadata": {},
   "source": [
    "<p style=\"align: center;\"><img align=center src=\"https://i.ytimg.com/vi/iPxZIp0cbJE/maxresdefault.jpg\"  width=500></p>\n",
    " \n",
    " \n",
    "<p style=\"align: center;\"><img align=center src=\"https://s3.amazonaws.com/assets.datacamp.com/production/project_184/img/cc_gates.png\"  width=500></p>\n"
   ]
  },
  {
   "cell_type": "markdown",
   "metadata": {},
   "source": [
    "<div class=\"alert alert-info\">\n",
    "По мере прохождения уровней игры игроки время от времени сталкиваются с воротами, которые заставляют их ждать нетривиальное количество времени или совершать покупки в приложении, чтобы продолжить. Помимо стимулирования покупок в приложении, эти ворота служат важной цели - дать игрокам вынужденный перерыв в игре, что, как мы надеемся, приведет к увеличению и продлению удовольствия от игры.\n",
    "</div>"
   ]
  },
  {
   "cell_type": "markdown",
   "metadata": {},
   "source": [
    "<div class=\"alert alert-info\">\n",
    "<b>Но где ставить ворота? </b>\n",
    "Первоначально первые ворота были размещены на уровне 30. В этом проекте вам предлагается проанализировать AB-тест, в котором создатели переместили первые ворота в Cookie Cats с 30 уровня на уровень 40. В частности, вам надо рассмотреть влияние A/B теста на удержание игроков.\n",
    "</div>"
   ]
  },
  {
   "cell_type": "markdown",
   "metadata": {},
   "source": [
    "**Данные получены от 90 189 игроков, которые установили игру во время проведения AB-теста. Переменные:**\n",
    "\n",
    "* `userid` - уникальный номер, идентифицирующий каждого игрока.\n",
    "\n",
    "* `version` - был ли игрок помещен в контрольную группу (gate_30 - ворота на уровне 30) или в тестовую группу (gate_40 - ворота на уровне 40).\n",
    "\n",
    "* `sum_gamerounds` - количество игровых раундов, сыгранных игроком в течение первой недели после установки\n",
    "* `retention_1` - проигрыватель вернулся и поиграл через 1 день после установки?\n",
    "* `retention_7` - проигрыватель вернулся и играл через 7 дней после установки?\n",
    "\n",
    "Когда игрок устанавливал игру, ему случайным образом назначали `gate_30` или `gate_40`."
   ]
  },
  {
   "cell_type": "markdown",
   "metadata": {},
   "source": [
    "<h4>Содержание</h4><br>\n",
    "<p id=\"0\">\n",
    "<ul type=\"square\"><a href=\"#1\"><li>Знакомство с данными</li></a>\n",
    "<a href=\"#2\"><li>Влияние на возвращаемость игрока (Хи-кв Пирсона)</li></a>\n",
    "    <ul><a href=\"#2.1\"><li>через 1 день</li></a>\n",
    "    <a href=\"#2.2\"><li>через 7 дней</li></a></ul>\n",
    "<a href=\"#3\"><li>Влияние на кол-во раундов</li></a> \n",
    "    <ul><a href=\"#3.1\"><li>Т-тест</li></a>\n",
    "    <a href=\"#3.2\"><li>Манн-Уитни</li></a>\n",
    "    <a href=\"#3.3\"><li>Логарифмирование</li></a></ul>\n",
    "<a href=\"#4\"><li>Выводы</li></a>"
   ]
  },
  {
   "cell_type": "code",
   "execution_count": 1,
   "metadata": {},
   "outputs": [],
   "source": [
    "import numpy as np\n",
    "import pandas as pd\n",
    "import scipy.stats as stats \n",
    "import matplotlib.pyplot as plt\n",
    "import seaborn as sns"
   ]
  },
  {
   "cell_type": "code",
   "execution_count": 3,
   "metadata": {
    "scrolled": false
   },
   "outputs": [
    {
     "data": {
      "text/html": [
       "<div>\n",
       "<style scoped>\n",
       "    .dataframe tbody tr th:only-of-type {\n",
       "        vertical-align: middle;\n",
       "    }\n",
       "\n",
       "    .dataframe tbody tr th {\n",
       "        vertical-align: top;\n",
       "    }\n",
       "\n",
       "    .dataframe thead th {\n",
       "        text-align: right;\n",
       "    }\n",
       "</style>\n",
       "<table border=\"1\" class=\"dataframe\">\n",
       "  <thead>\n",
       "    <tr style=\"text-align: right;\">\n",
       "      <th></th>\n",
       "      <th>userid</th>\n",
       "      <th>version</th>\n",
       "      <th>sum_gamerounds</th>\n",
       "      <th>retention_1</th>\n",
       "      <th>retention_7</th>\n",
       "    </tr>\n",
       "  </thead>\n",
       "  <tbody>\n",
       "    <tr>\n",
       "      <th>0</th>\n",
       "      <td>116</td>\n",
       "      <td>gate_30</td>\n",
       "      <td>3</td>\n",
       "      <td>False</td>\n",
       "      <td>False</td>\n",
       "    </tr>\n",
       "    <tr>\n",
       "      <th>1</th>\n",
       "      <td>337</td>\n",
       "      <td>gate_30</td>\n",
       "      <td>38</td>\n",
       "      <td>True</td>\n",
       "      <td>False</td>\n",
       "    </tr>\n",
       "    <tr>\n",
       "      <th>2</th>\n",
       "      <td>377</td>\n",
       "      <td>gate_40</td>\n",
       "      <td>165</td>\n",
       "      <td>True</td>\n",
       "      <td>False</td>\n",
       "    </tr>\n",
       "    <tr>\n",
       "      <th>3</th>\n",
       "      <td>483</td>\n",
       "      <td>gate_40</td>\n",
       "      <td>1</td>\n",
       "      <td>False</td>\n",
       "      <td>False</td>\n",
       "    </tr>\n",
       "    <tr>\n",
       "      <th>4</th>\n",
       "      <td>488</td>\n",
       "      <td>gate_40</td>\n",
       "      <td>179</td>\n",
       "      <td>True</td>\n",
       "      <td>True</td>\n",
       "    </tr>\n",
       "  </tbody>\n",
       "</table>\n",
       "</div>"
      ],
      "text/plain": [
       "   userid  version  sum_gamerounds  retention_1  retention_7\n",
       "0     116  gate_30               3        False        False\n",
       "1     337  gate_30              38         True        False\n",
       "2     377  gate_40             165         True        False\n",
       "3     483  gate_40               1        False        False\n",
       "4     488  gate_40             179         True         True"
      ]
     },
     "execution_count": 3,
     "metadata": {},
     "output_type": "execute_result"
    }
   ],
   "source": [
    "data = pd.read_csv('c:\\\\python\\\\portfolio\\\\data_analysis_python\\\\2_hypothesis\\\\data\\\\cookie_cats.csv')\n",
    "data.head()"
   ]
  },
  {
   "cell_type": "markdown",
   "metadata": {},
   "source": [
    "<p id=\"1\">\n",
    "<h4>EDA</h4><br>"
   ]
  },
  {
   "cell_type": "markdown",
   "metadata": {},
   "source": [
    "В датасете 90189 строк, пропусков нет. По столбцам userid и sum_gamerounds определился числовой тип данных, значит среди их значений нет нечисловых символов, которыми могут обозначать пропущенные значения:"
   ]
  },
  {
   "cell_type": "code",
   "execution_count": 4,
   "metadata": {},
   "outputs": [
    {
     "name": "stdout",
     "output_type": "stream",
     "text": [
      "<class 'pandas.core.frame.DataFrame'>\n",
      "RangeIndex: 90189 entries, 0 to 90188\n",
      "Data columns (total 5 columns):\n",
      " #   Column          Non-Null Count  Dtype \n",
      "---  ------          --------------  ----- \n",
      " 0   userid          90189 non-null  int64 \n",
      " 1   version         90189 non-null  object\n",
      " 2   sum_gamerounds  90189 non-null  int64 \n",
      " 3   retention_1     90189 non-null  bool  \n",
      " 4   retention_7     90189 non-null  bool  \n",
      "dtypes: bool(2), int64(2), object(1)\n",
      "memory usage: 2.2+ MB\n"
     ]
    }
   ],
   "source": [
    "data.info()"
   ]
  },
  {
   "cell_type": "markdown",
   "metadata": {},
   "source": [
    "Судя по значениям столбцов категориальных признаков, \"нестандартных\" пустот вроде \"?\" нет:"
   ]
  },
  {
   "cell_type": "code",
   "execution_count": 5,
   "metadata": {
    "scrolled": true
   },
   "outputs": [
    {
     "name": "stdout",
     "output_type": "stream",
     "text": [
      "['gate_30' 'gate_40']\n",
      "\n",
      "[False  True]\n",
      "\n",
      "[False  True]\n"
     ]
    }
   ],
   "source": [
    "print(data.version.unique())\n",
    "print('')\n",
    "print(data.retention_1.unique())\n",
    "print('')\n",
    "print(data.retention_7.unique())"
   ]
  },
  {
   "cell_type": "markdown",
   "metadata": {},
   "source": [
    "Дубликатов в столбце userid нет, так как число уникальных значений равно числу строк. Значит нет пользователей, попавших и в контрольную и в тестовую группы:"
   ]
  },
  {
   "cell_type": "code",
   "execution_count": 6,
   "metadata": {
    "scrolled": true
   },
   "outputs": [
    {
     "data": {
      "text/plain": [
       "90189"
      ]
     },
     "execution_count": 6,
     "metadata": {},
     "output_type": "execute_result"
    }
   ],
   "source": [
    "data.userid.nunique()"
   ]
  },
  {
   "cell_type": "markdown",
   "metadata": {},
   "source": [
    "В тестовой группе немного больше игроков:"
   ]
  },
  {
   "cell_type": "code",
   "execution_count": 7,
   "metadata": {},
   "outputs": [
    {
     "data": {
      "text/plain": [
       "gate_40    0.504374\n",
       "gate_30    0.495626\n",
       "Name: version, dtype: float64"
      ]
     },
     "execution_count": 7,
     "metadata": {},
     "output_type": "execute_result"
    }
   ],
   "source": [
    "data.version.value_counts(normalize = True)"
   ]
  },
  {
   "cell_type": "markdown",
   "metadata": {},
   "source": [
    "Среди участников теста через день вернулись к игре 45%, через 7 дней  - 19%. При этом 51% не вернулись к игре ни через 1 ни через 7 дней (но это не значит, что они не вернулись в промежутке, просто это не фиксировалось):"
   ]
  },
  {
   "cell_type": "code",
   "execution_count": 8,
   "metadata": {
    "scrolled": false
   },
   "outputs": [
    {
     "data": {
      "text/html": [
       "<div>\n",
       "<style scoped>\n",
       "    .dataframe tbody tr th:only-of-type {\n",
       "        vertical-align: middle;\n",
       "    }\n",
       "\n",
       "    .dataframe tbody tr th {\n",
       "        vertical-align: top;\n",
       "    }\n",
       "\n",
       "    .dataframe thead th {\n",
       "        text-align: right;\n",
       "    }\n",
       "</style>\n",
       "<table border=\"1\" class=\"dataframe\">\n",
       "  <thead>\n",
       "    <tr style=\"text-align: right;\">\n",
       "      <th>retention_7</th>\n",
       "      <th>False</th>\n",
       "      <th>True</th>\n",
       "      <th>All</th>\n",
       "    </tr>\n",
       "    <tr>\n",
       "      <th>retention_1</th>\n",
       "      <th></th>\n",
       "      <th></th>\n",
       "      <th></th>\n",
       "    </tr>\n",
       "  </thead>\n",
       "  <tbody>\n",
       "    <tr>\n",
       "      <th>False</th>\n",
       "      <td>0.514885</td>\n",
       "      <td>0.039905</td>\n",
       "      <td>0.55479</td>\n",
       "    </tr>\n",
       "    <tr>\n",
       "      <th>True</th>\n",
       "      <td>0.299050</td>\n",
       "      <td>0.146160</td>\n",
       "      <td>0.44521</td>\n",
       "    </tr>\n",
       "    <tr>\n",
       "      <th>All</th>\n",
       "      <td>0.813935</td>\n",
       "      <td>0.186065</td>\n",
       "      <td>1.00000</td>\n",
       "    </tr>\n",
       "  </tbody>\n",
       "</table>\n",
       "</div>"
      ],
      "text/plain": [
       "retention_7     False      True      All\n",
       "retention_1                             \n",
       "False        0.514885  0.039905  0.55479\n",
       "True         0.299050  0.146160  0.44521\n",
       "All          0.813935  0.186065  1.00000"
      ]
     },
     "execution_count": 8,
     "metadata": {},
     "output_type": "execute_result"
    }
   ],
   "source": [
    "pd.crosstab(data.retention_1, data.retention_7, normalize = True, margins = True )"
   ]
  },
  {
   "cell_type": "markdown",
   "metadata": {},
   "source": [
    "Посмотрим статистики единственного числового показателя количества сыгранных раундов. "
   ]
  },
  {
   "cell_type": "code",
   "execution_count": 9,
   "metadata": {
    "scrolled": true
   },
   "outputs": [
    {
     "data": {
      "text/plain": [
       "count    90189.000000\n",
       "mean        51.872457\n",
       "std        195.050858\n",
       "min          0.000000\n",
       "25%          5.000000\n",
       "50%         16.000000\n",
       "75%         51.000000\n",
       "max      49854.000000\n",
       "Name: sum_gamerounds, dtype: float64"
      ]
     },
     "execution_count": 9,
     "metadata": {},
     "output_type": "execute_result"
    }
   ],
   "source": [
    "data.sum_gamerounds.describe()"
   ]
  },
  {
   "cell_type": "markdown",
   "metadata": {},
   "source": [
    "Минимальное значение сыгранных раундов 0, таких игроков 3994. Мы не можем знать, вернулись ли они вообще к игре за время эксперимента. Так как у нас зафиксировано возвращение только через день и через семь, а игроки могли вернуться в промежутке. Среди людей сыгравших 0 раундов могут быть те, кто не вернулся вообще и те, кто вернулся, но не прошел ни одного раунда. Этого мы выяснить не можем, поэтому с игроками с нулевыми раундами ничего не предпринимаем."
   ]
  },
  {
   "cell_type": "code",
   "execution_count": 10,
   "metadata": {},
   "outputs": [
    {
     "data": {
      "text/plain": [
       "3994"
      ]
     },
     "execution_count": 10,
     "metadata": {},
     "output_type": "execute_result"
    }
   ],
   "source": [
    "len(data[data.sum_gamerounds == 0])"
   ]
  },
  {
   "cell_type": "markdown",
   "metadata": {},
   "source": [
    "При том, что 75% участников сыграли не более чем по 51 раундов, максимальное значение 49854 раунда. Может быть ошибка или выбросы. Значение в 49854 раунда одно такое и очень значительно отличается от остальных значений:"
   ]
  },
  {
   "cell_type": "code",
   "execution_count": 11,
   "metadata": {
    "scrolled": false
   },
   "outputs": [
    {
     "data": {
      "image/png": "[encoded data removed]",
      "text/plain": [
       "<Figure size 864x360 with 2 Axes>"
      ]
     },
     "metadata": {
      "needs_background": "light"
     },
     "output_type": "display_data"
    }
   ],
   "source": [
    "plt.figure(figsize = (12, 5)) \n",
    "plt.subplot(1,2,1)\n",
    "sns.boxplot(y = data.sum_gamerounds);\n",
    "plt.title('sum_gamerounds');\n",
    "plt.subplot(1,2,2)\n",
    "plt.hist(data.sum_gamerounds);\n",
    "plt.title('sum_gamerounds');"
   ]
  },
  {
   "cell_type": "markdown",
   "metadata": {},
   "source": [
    "Посмотрим на этого игрока. Он относится к контрольной группе, где ворота на 30 уровне. Он не вернулся в игру через день, но вернулся через 7 дней:"
   ]
  },
  {
   "cell_type": "code",
   "execution_count": 12,
   "metadata": {
    "scrolled": true
   },
   "outputs": [
    {
     "data": {
      "text/html": [
       "<div>\n",
       "<style scoped>\n",
       "    .dataframe tbody tr th:only-of-type {\n",
       "        vertical-align: middle;\n",
       "    }\n",
       "\n",
       "    .dataframe tbody tr th {\n",
       "        vertical-align: top;\n",
       "    }\n",
       "\n",
       "    .dataframe thead th {\n",
       "        text-align: right;\n",
       "    }\n",
       "</style>\n",
       "<table border=\"1\" class=\"dataframe\">\n",
       "  <thead>\n",
       "    <tr style=\"text-align: right;\">\n",
       "      <th></th>\n",
       "      <th>userid</th>\n",
       "      <th>version</th>\n",
       "      <th>sum_gamerounds</th>\n",
       "      <th>retention_1</th>\n",
       "      <th>retention_7</th>\n",
       "    </tr>\n",
       "  </thead>\n",
       "  <tbody>\n",
       "    <tr>\n",
       "      <th>57702</th>\n",
       "      <td>6390605</td>\n",
       "      <td>gate_30</td>\n",
       "      <td>49854</td>\n",
       "      <td>False</td>\n",
       "      <td>True</td>\n",
       "    </tr>\n",
       "  </tbody>\n",
       "</table>\n",
       "</div>"
      ],
      "text/plain": [
       "        userid  version  sum_gamerounds  retention_1  retention_7\n",
       "57702  6390605  gate_30           49854        False         True"
      ]
     },
     "execution_count": 12,
     "metadata": {},
     "output_type": "execute_result"
    }
   ],
   "source": [
    "data[data.sum_gamerounds == data.sum_gamerounds.max()]"
   ]
  },
  {
   "cell_type": "markdown",
   "metadata": {},
   "source": [
    "Чтобы решить, что это ошибка, нужно знать, какое кол-во раундов вообще возможно в этой игре. Но даже если такое кол-во возможно, то это без сомнения выброс, искажающий данные. Поэтому исключим его:"
   ]
  },
  {
   "cell_type": "code",
   "execution_count": 13,
   "metadata": {},
   "outputs": [],
   "source": [
    "data_1 = data[data.sum_gamerounds < data.sum_gamerounds.max()]"
   ]
  },
  {
   "cell_type": "markdown",
   "metadata": {},
   "source": [
    "Теперь посмотрим на статистики, гистограмму и боксплот без выброса. Распределение все равно очень асимметричное, сильно скошено вправо, очень длинный правый хвост."
   ]
  },
  {
   "cell_type": "code",
   "execution_count": 14,
   "metadata": {},
   "outputs": [
    {
     "data": {
      "text/plain": [
       "count    90188.000000\n",
       "mean        51.320253\n",
       "std        102.682719\n",
       "min          0.000000\n",
       "25%          5.000000\n",
       "50%         16.000000\n",
       "75%         51.000000\n",
       "max       2961.000000\n",
       "Name: sum_gamerounds, dtype: float64"
      ]
     },
     "execution_count": 14,
     "metadata": {},
     "output_type": "execute_result"
    }
   ],
   "source": [
    "data_1.sum_gamerounds.describe()"
   ]
  },
  {
   "cell_type": "code",
   "execution_count": 15,
   "metadata": {
    "scrolled": true
   },
   "outputs": [
    {
     "data": {
      "image/png": "[encoded data removed]",
      "text/plain": [
       "<Figure size 864x360 with 2 Axes>"
      ]
     },
     "metadata": {
      "needs_background": "light"
     },
     "output_type": "display_data"
    }
   ],
   "source": [
    "plt.figure(figsize = (12, 5)) \n",
    "plt.subplot(1,2,1)\n",
    "sns.boxplot(y = data_1.sum_gamerounds);\n",
    "plt.title('sum_gamerounds');\n",
    "plt.subplot(1,2,2)\n",
    "plt.hist(data_1.sum_gamerounds);\n",
    "plt.title('sum_gamerounds');"
   ]
  },
  {
   "cell_type": "markdown",
   "metadata": {},
   "source": [
    "Посчитаем нижнюю границу выбросов правого хвоста по расчетам боксплота и границу так называемых экстремальных выбросов. Даже граница для экстремальных выбросов всего 189, а значения доходят почти до 3000:"
   ]
  },
  {
   "cell_type": "code",
   "execution_count": 16,
   "metadata": {},
   "outputs": [
    {
     "data": {
      "text/plain": [
       "(120.0, 189.0)"
      ]
     },
     "execution_count": 16,
     "metadata": {},
     "output_type": "execute_result"
    }
   ],
   "source": [
    "up_out = (data_1.sum_gamerounds.describe()['75%'] + 1.5 * (data_1.sum_gamerounds.describe()['75%']\n",
    "                                                           - data_1.sum_gamerounds.describe()['25%'] ))\n",
    "up_out_ext = (data_1.sum_gamerounds.describe()['75%'] + 3 * (data_1.sum_gamerounds.describe()['75%']\n",
    "                                                             - data_1.sum_gamerounds.describe()['25%'] )\n",
    "up_out, up_out_ext "
   ]
  },
  {
   "cell_type": "markdown",
   "metadata": {},
   "source": [
    "Будем считать, что раунды (сыгранные за неделю раунды, в показателе sum_gamerounds) и уровни (по которым устанавливаются ворота, 30й или 40й) это одно и то же понятие. Цель АВ-теста оценить влияние ворот на 30 или 40 уровне. На мой взгляд, если за неделю игрок прошел очень много уровней (в количестве достаточно отдаленном от 30 или 40), то вряд ли его поведение (по кол-ву раундов или возвращаемости) связано с воротами, которые были относительно в \"самом начале\". То есть если у ворот на 30/40 уровне есть эффект, то маловероятно, что он будет длиться до 200го, 500го, 1000го и тд уровней. Поэтому сделаем еще одну версию датасета, исключив игроков с выбросами по sum_gamerounds по экстремальной границе. Ниже проверим результаты тестов на устойчивость к таким изменениям:"
   ]
  },
  {
   "cell_type": "code",
   "execution_count": 17,
   "metadata": {},
   "outputs": [],
   "source": [
    "data_2 = data_1[data_1.sum_gamerounds < up_out_ext ]"
   ]
  },
  {
   "cell_type": "markdown",
   "metadata": {},
   "source": [
    "Число записей сократилось с 90189 до 84449:"
   ]
  },
  {
   "cell_type": "code",
   "execution_count": 18,
   "metadata": {
    "scrolled": true
   },
   "outputs": [
    {
     "name": "stdout",
     "output_type": "stream",
     "text": [
      "<class 'pandas.core.frame.DataFrame'>\n",
      "Int64Index: 84449 entries, 0 to 90188\n",
      "Data columns (total 5 columns):\n",
      " #   Column          Non-Null Count  Dtype \n",
      "---  ------          --------------  ----- \n",
      " 0   userid          84449 non-null  int64 \n",
      " 1   version         84449 non-null  object\n",
      " 2   sum_gamerounds  84449 non-null  int64 \n",
      " 3   retention_1     84449 non-null  bool  \n",
      " 4   retention_7     84449 non-null  bool  \n",
      "dtypes: bool(2), int64(2), object(1)\n",
      "memory usage: 2.7+ MB\n"
     ]
    }
   ],
   "source": [
    "data_2.info()"
   ]
  },
  {
   "cell_type": "markdown",
   "metadata": {},
   "source": [
    "Статистики sum_gamerounds после исключения выбросов:"
   ]
  },
  {
   "cell_type": "code",
   "execution_count": 19,
   "metadata": {
    "scrolled": false
   },
   "outputs": [
    {
     "data": {
      "text/plain": [
       "count    84449.000000\n",
       "mean        30.625703\n",
       "std         39.138814\n",
       "min          0.000000\n",
       "25%          4.000000\n",
       "50%         14.000000\n",
       "75%         41.000000\n",
       "max        188.000000\n",
       "Name: sum_gamerounds, dtype: float64"
      ]
     },
     "execution_count": 19,
     "metadata": {},
     "output_type": "execute_result"
    }
   ],
   "source": [
    "data_2.sum_gamerounds.describe()"
   ]
  },
  {
   "cell_type": "markdown",
   "metadata": {},
   "source": [
    "После исключения выбросов на гистограмме стало видно правый хвост:"
   ]
  },
  {
   "cell_type": "code",
   "execution_count": 20,
   "metadata": {
    "scrolled": false
   },
   "outputs": [
    {
     "data": {
      "image/png": "[encoded data removed]",
      "text/plain": [
       "<Figure size 864x360 with 2 Axes>"
      ]
     },
     "metadata": {
      "needs_background": "light"
     },
     "output_type": "display_data"
    }
   ],
   "source": [
    "plt.figure(figsize = (12, 5)) \n",
    "plt.subplot(1,2,1)\n",
    "sns.boxplot(y = data_2.sum_gamerounds);\n",
    "plt.title('sum_gamerounds');\n",
    "plt.subplot(1,2,2)\n",
    "plt.hist(data_2.sum_gamerounds);\n",
    "plt.title('sum_gamerounds');"
   ]
  },
  {
   "cell_type": "markdown",
   "metadata": {},
   "source": [
    "Распределение возвращаемости игроков (на 1й и/или 7й дни) изменились незначительно после исключения выбросов:"
   ]
  },
  {
   "cell_type": "code",
   "execution_count": 21,
   "metadata": {
    "scrolled": false
   },
   "outputs": [
    {
     "data": {
      "text/html": [
       "<div>\n",
       "<style scoped>\n",
       "    .dataframe tbody tr th:only-of-type {\n",
       "        vertical-align: middle;\n",
       "    }\n",
       "\n",
       "    .dataframe tbody tr th {\n",
       "        vertical-align: top;\n",
       "    }\n",
       "\n",
       "    .dataframe thead th {\n",
       "        text-align: right;\n",
       "    }\n",
       "</style>\n",
       "<table border=\"1\" class=\"dataframe\">\n",
       "  <thead>\n",
       "    <tr style=\"text-align: right;\">\n",
       "      <th>retention_7</th>\n",
       "      <th>False</th>\n",
       "      <th>True</th>\n",
       "      <th>All</th>\n",
       "    </tr>\n",
       "    <tr>\n",
       "      <th>retention_1</th>\n",
       "      <th></th>\n",
       "      <th></th>\n",
       "      <th></th>\n",
       "    </tr>\n",
       "  </thead>\n",
       "  <tbody>\n",
       "    <tr>\n",
       "      <th>False</th>\n",
       "      <td>0.548911</td>\n",
       "      <td>0.039018</td>\n",
       "      <td>0.587929</td>\n",
       "    </tr>\n",
       "    <tr>\n",
       "      <th>True</th>\n",
       "      <td>0.309358</td>\n",
       "      <td>0.102713</td>\n",
       "      <td>0.412071</td>\n",
       "    </tr>\n",
       "    <tr>\n",
       "      <th>All</th>\n",
       "      <td>0.858269</td>\n",
       "      <td>0.141731</td>\n",
       "      <td>1.000000</td>\n",
       "    </tr>\n",
       "  </tbody>\n",
       "</table>\n",
       "</div>"
      ],
      "text/plain": [
       "retention_7     False      True       All\n",
       "retention_1                              \n",
       "False        0.548911  0.039018  0.587929\n",
       "True         0.309358  0.102713  0.412071\n",
       "All          0.858269  0.141731  1.000000"
      ]
     },
     "execution_count": 21,
     "metadata": {},
     "output_type": "execute_result"
    }
   ],
   "source": [
    "pd.crosstab(data_2.retention_1, data_2.retention_7, normalize = True, margins = True )"
   ]
  },
  {
   "cell_type": "markdown",
   "metadata": {},
   "source": [
    "Соотношение контрольной и тестовой группы почти не изменилось:"
   ]
  },
  {
   "cell_type": "code",
   "execution_count": 22,
   "metadata": {
    "scrolled": false
   },
   "outputs": [
    {
     "data": {
      "text/plain": [
       "gate_40    0.504612\n",
       "gate_30    0.495388\n",
       "Name: version, dtype: float64"
      ]
     },
     "execution_count": 22,
     "metadata": {},
     "output_type": "execute_result"
    }
   ],
   "source": [
    "data_2.version.value_counts(normalize = True)"
   ]
  },
  {
   "cell_type": "markdown",
   "metadata": {},
   "source": [
    "<a href=\"#0\"><h4>Наверх</h4></a>"
   ]
  },
  {
   "cell_type": "markdown",
   "metadata": {},
   "source": [
    "<p id=\"2\">\n",
    "<h4> Влияние положения ворот на возвращаемость игрока</h4><br>"
   ]
  },
  {
   "cell_type": "markdown",
   "metadata": {},
   "source": [
    "Разделим данные (без одного яркого выброса) на контрольную и тестовую группы:"
   ]
  },
  {
   "cell_type": "code",
   "execution_count": 23,
   "metadata": {},
   "outputs": [],
   "source": [
    "gate_30 = data_1[data_1.version == 'gate_30']\n",
    "gate_40 = data_1[data_1.version == 'gate_40']"
   ]
  },
  {
   "cell_type": "markdown",
   "metadata": {},
   "source": [
    "Распределение возвращаемости игроков (на 1й и/или 7й дни) очень похожи между контрольной и тестовой группами:"
   ]
  },
  {
   "cell_type": "code",
   "execution_count": 24,
   "metadata": {},
   "outputs": [
    {
     "data": {
      "text/html": [
       "<div>\n",
       "<style scoped>\n",
       "    .dataframe tbody tr th:only-of-type {\n",
       "        vertical-align: middle;\n",
       "    }\n",
       "\n",
       "    .dataframe tbody tr th {\n",
       "        vertical-align: top;\n",
       "    }\n",
       "\n",
       "    .dataframe thead th {\n",
       "        text-align: right;\n",
       "    }\n",
       "</style>\n",
       "<table border=\"1\" class=\"dataframe\">\n",
       "  <thead>\n",
       "    <tr style=\"text-align: right;\">\n",
       "      <th>retention_7</th>\n",
       "      <th>False</th>\n",
       "      <th>True</th>\n",
       "      <th>All</th>\n",
       "    </tr>\n",
       "    <tr>\n",
       "      <th>retention_1</th>\n",
       "      <th></th>\n",
       "      <th></th>\n",
       "      <th></th>\n",
       "    </tr>\n",
       "  </thead>\n",
       "  <tbody>\n",
       "    <tr>\n",
       "      <th>False</th>\n",
       "      <td>0.510973</td>\n",
       "      <td>0.040829</td>\n",
       "      <td>0.551802</td>\n",
       "    </tr>\n",
       "    <tr>\n",
       "      <th>True</th>\n",
       "      <td>0.298843</td>\n",
       "      <td>0.149355</td>\n",
       "      <td>0.448198</td>\n",
       "    </tr>\n",
       "    <tr>\n",
       "      <th>All</th>\n",
       "      <td>0.809817</td>\n",
       "      <td>0.190183</td>\n",
       "      <td>1.000000</td>\n",
       "    </tr>\n",
       "  </tbody>\n",
       "</table>\n",
       "</div>"
      ],
      "text/plain": [
       "retention_7     False      True       All\n",
       "retention_1                              \n",
       "False        0.510973  0.040829  0.551802\n",
       "True         0.298843  0.149355  0.448198\n",
       "All          0.809817  0.190183  1.000000"
      ]
     },
     "execution_count": 24,
     "metadata": {},
     "output_type": "execute_result"
    }
   ],
   "source": [
    "pd.crosstab(gate_30.retention_1, gate_30.retention_7, normalize = True, margins = True )"
   ]
  },
  {
   "cell_type": "code",
   "execution_count": 25,
   "metadata": {
    "scrolled": true
   },
   "outputs": [
    {
     "data": {
      "text/html": [
       "<div>\n",
       "<style scoped>\n",
       "    .dataframe tbody tr th:only-of-type {\n",
       "        vertical-align: middle;\n",
       "    }\n",
       "\n",
       "    .dataframe tbody tr th {\n",
       "        vertical-align: top;\n",
       "    }\n",
       "\n",
       "    .dataframe thead th {\n",
       "        text-align: right;\n",
       "    }\n",
       "</style>\n",
       "<table border=\"1\" class=\"dataframe\">\n",
       "  <thead>\n",
       "    <tr style=\"text-align: right;\">\n",
       "      <th>retention_7</th>\n",
       "      <th>False</th>\n",
       "      <th>True</th>\n",
       "      <th>All</th>\n",
       "    </tr>\n",
       "    <tr>\n",
       "      <th>retention_1</th>\n",
       "      <th></th>\n",
       "      <th></th>\n",
       "      <th></th>\n",
       "    </tr>\n",
       "  </thead>\n",
       "  <tbody>\n",
       "    <tr>\n",
       "      <th>False</th>\n",
       "      <td>0.518741</td>\n",
       "      <td>0.038976</td>\n",
       "      <td>0.557717</td>\n",
       "    </tr>\n",
       "    <tr>\n",
       "      <th>True</th>\n",
       "      <td>0.299259</td>\n",
       "      <td>0.143024</td>\n",
       "      <td>0.442283</td>\n",
       "    </tr>\n",
       "    <tr>\n",
       "      <th>All</th>\n",
       "      <td>0.818000</td>\n",
       "      <td>0.182000</td>\n",
       "      <td>1.000000</td>\n",
       "    </tr>\n",
       "  </tbody>\n",
       "</table>\n",
       "</div>"
      ],
      "text/plain": [
       "retention_7     False      True       All\n",
       "retention_1                              \n",
       "False        0.518741  0.038976  0.557717\n",
       "True         0.299259  0.143024  0.442283\n",
       "All          0.818000  0.182000  1.000000"
      ]
     },
     "execution_count": 25,
     "metadata": {},
     "output_type": "execute_result"
    }
   ],
   "source": [
    "pd.crosstab(gate_40.retention_1, gate_40.retention_7, normalize = True, margins = True )"
   ]
  },
  {
   "cell_type": "markdown",
   "metadata": {},
   "source": [
    "Разделим данные (без экстремальных выбросов) на контрольную и тестовую группы:"
   ]
  },
  {
   "cell_type": "code",
   "execution_count": 26,
   "metadata": {},
   "outputs": [],
   "source": [
    "gate_30_2 = data_2[data_2.version == 'gate_30']\n",
    "gate_40_2 = data_2[data_2.version == 'gate_40']"
   ]
  },
  {
   "cell_type": "markdown",
   "metadata": {},
   "source": [
    "<a href=\"#0\"><h4>Наверх</h4></a>"
   ]
  },
  {
   "cell_type": "markdown",
   "metadata": {},
   "source": [
    "<p id=\"2.1\">\n",
    "<h5>Влияние на возвращаемость через 1 день (retention_1)</h5><br>"
   ]
  },
  {
   "cell_type": "markdown",
   "metadata": {},
   "source": [
    "Доля вернувшихся почти одинаковы 44%:"
   ]
  },
  {
   "cell_type": "code",
   "execution_count": 27,
   "metadata": {
    "scrolled": true
   },
   "outputs": [
    {
     "name": "stdout",
     "output_type": "stream",
     "text": [
      "version  retention_1\n",
      "gate_30  False          0.551802\n",
      "         True           0.448198\n",
      "dtype: float64\n",
      "version  retention_1\n",
      "gate_40  False          0.557717\n",
      "         True           0.442283\n",
      "dtype: float64\n"
     ]
    }
   ],
   "source": [
    "print(gate_30[['version','retention_1']].value_counts(normalize = True))\n",
    "print(gate_40[['version','retention_1']].value_counts(normalize = True))"
   ]
  },
  {
   "cell_type": "markdown",
   "metadata": {},
   "source": [
    "Категориальный признак, группы две, независимые - тест Хи-квадрат Пирсона."
   ]
  },
  {
   "cell_type": "markdown",
   "metadata": {},
   "source": [
    "* Нулевая гипотеза: независимость retention_1 и положения ворот, отсутствие взаимосвязи между ними, разница в возвращаемости через день между контрольной и тестовой группами случайна\n",
    "* Альтернативная: между возвращаемостью через 1 день и положением ворот есть взаимосвязь, разница в возвращаемости через день между контрольной и тестовой группами не случайна"
   ]
  },
  {
   "cell_type": "markdown",
   "metadata": {},
   "source": [
    "Подготовим таблицу сопряженности для теста:"
   ]
  },
  {
   "cell_type": "code",
   "execution_count": 28,
   "metadata": {
    "scrolled": false
   },
   "outputs": [
    {
     "data": {
      "text/html": [
       "<div>\n",
       "<style scoped>\n",
       "    .dataframe tbody tr th:only-of-type {\n",
       "        vertical-align: middle;\n",
       "    }\n",
       "\n",
       "    .dataframe tbody tr th {\n",
       "        vertical-align: top;\n",
       "    }\n",
       "\n",
       "    .dataframe thead th {\n",
       "        text-align: right;\n",
       "    }\n",
       "</style>\n",
       "<table border=\"1\" class=\"dataframe\">\n",
       "  <thead>\n",
       "    <tr style=\"text-align: right;\">\n",
       "      <th>retention_1</th>\n",
       "      <th>False</th>\n",
       "      <th>True</th>\n",
       "    </tr>\n",
       "    <tr>\n",
       "      <th>version</th>\n",
       "      <th></th>\n",
       "      <th></th>\n",
       "    </tr>\n",
       "  </thead>\n",
       "  <tbody>\n",
       "    <tr>\n",
       "      <th>gate_30</th>\n",
       "      <td>24665</td>\n",
       "      <td>20034</td>\n",
       "    </tr>\n",
       "    <tr>\n",
       "      <th>gate_40</th>\n",
       "      <td>25370</td>\n",
       "      <td>20119</td>\n",
       "    </tr>\n",
       "  </tbody>\n",
       "</table>\n",
       "</div>"
      ],
      "text/plain": [
       "retention_1  False   True\n",
       "version                  \n",
       "gate_30      24665  20034\n",
       "gate_40      25370  20119"
      ]
     },
     "execution_count": 28,
     "metadata": {},
     "output_type": "execute_result"
    }
   ],
   "source": [
    "cont_matrix_ret1 = pd.crosstab(data_1.version, data_1.retention_1)\n",
    "cont_matrix_ret1"
   ]
  },
  {
   "cell_type": "markdown",
   "metadata": {},
   "source": [
    "Тест непараметрический и не требует нормальности распределения. Таблица сопряженности это матрица 2 на 2, но в каждой из ячеек достаточно записей, поэтому нет необходимости в поправке Йетса:"
   ]
  },
  {
   "cell_type": "code",
   "execution_count": 29,
   "metadata": {
    "scrolled": true
   },
   "outputs": [
    {
     "data": {
      "text/plain": [
       "(3.19373895460949,\n",
       " 0.07392076034183397,\n",
       " 1,\n",
       " array([[24798.35970417, 19900.64029583],\n",
       "        [25236.64029583, 20252.35970417]]))"
      ]
     },
     "execution_count": 29,
     "metadata": {},
     "output_type": "execute_result"
    }
   ],
   "source": [
    "stats.chi2_contingency(cont_matrix_ret1, correction = False)"
   ]
  },
  {
   "cell_type": "markdown",
   "metadata": {},
   "source": [
    "* При условии, что Н0 верна (разница между группами случайна), вероятность полученного (или более экстремального) значения тестовой статистики около 7%.\n",
    "* Здесь и далее возьмем общепринятый 5% уровень значимости.\n",
    "* При уровне значимости 5%  недостаточно аргументов для отвержения нулевой гипотезы.\n",
    "* Не отвергаем Н0 в пользу Н1.\n",
    "* Разница в возвращаемости через 1 день для контрольной и тестовой групп случайна. То есть нет взаимосвязи между положением ворот и возвращаемостью через 1 день. Количества вернувшихся и невернувшихся в группе с воротами на 30м уровне не отличаются статистически значимо от количеств в группе с воротами на 40м уровне."
   ]
  },
  {
   "cell_type": "markdown",
   "metadata": {},
   "source": [
    "В статистике это считается р-хаккингом, но для проверки устойчивости результата можно провести тест на данных без экстремальных выбросов:"
   ]
  },
  {
   "cell_type": "code",
   "execution_count": 30,
   "metadata": {
    "scrolled": true
   },
   "outputs": [
    {
     "data": {
      "text/html": [
       "<div>\n",
       "<style scoped>\n",
       "    .dataframe tbody tr th:only-of-type {\n",
       "        vertical-align: middle;\n",
       "    }\n",
       "\n",
       "    .dataframe tbody tr th {\n",
       "        vertical-align: top;\n",
       "    }\n",
       "\n",
       "    .dataframe thead th {\n",
       "        text-align: right;\n",
       "    }\n",
       "</style>\n",
       "<table border=\"1\" class=\"dataframe\">\n",
       "  <thead>\n",
       "    <tr style=\"text-align: right;\">\n",
       "      <th>retention_1</th>\n",
       "      <th>False</th>\n",
       "      <th>True</th>\n",
       "    </tr>\n",
       "    <tr>\n",
       "      <th>version</th>\n",
       "      <th></th>\n",
       "      <th></th>\n",
       "    </tr>\n",
       "  </thead>\n",
       "  <tbody>\n",
       "    <tr>\n",
       "      <th>gate_30</th>\n",
       "      <td>24481</td>\n",
       "      <td>17354</td>\n",
       "    </tr>\n",
       "    <tr>\n",
       "      <th>gate_40</th>\n",
       "      <td>25169</td>\n",
       "      <td>17445</td>\n",
       "    </tr>\n",
       "  </tbody>\n",
       "</table>\n",
       "</div>"
      ],
      "text/plain": [
       "retention_1  False   True\n",
       "version                  \n",
       "gate_30      24481  17354\n",
       "gate_40      25169  17445"
      ]
     },
     "execution_count": 30,
     "metadata": {},
     "output_type": "execute_result"
    }
   ],
   "source": [
    "cont_matrix_ret1_2 = pd.crosstab(data_2.version, data_2.retention_1)\n",
    "cont_matrix_ret1_2"
   ]
  },
  {
   "cell_type": "markdown",
   "metadata": {},
   "source": [
    "P-значение больше - 11%, при выбранном уровне значимости по-прежнему не отвергаем Н0:"
   ]
  },
  {
   "cell_type": "code",
   "execution_count": 31,
   "metadata": {
    "scrolled": true
   },
   "outputs": [
    {
     "data": {
      "text/plain": [
       "(2.5859146143058958,\n",
       " 0.10781811314914272,\n",
       " 1,\n",
       " array([[24596.00172885, 17238.99827115],\n",
       "        [25053.99827115, 17560.00172885]]))"
      ]
     },
     "execution_count": 31,
     "metadata": {},
     "output_type": "execute_result"
    }
   ],
   "source": [
    "stats.chi2_contingency(cont_matrix_ret1_2, correction = False)"
   ]
  },
  {
   "cell_type": "markdown",
   "metadata": {},
   "source": [
    "Возвращаемость игрока всего через один день имеет не такое важное значение для бизнеса как более долгосрочное удержание игрока. Больший интерес представляет показатель возвращаемости через семь дней."
   ]
  },
  {
   "cell_type": "markdown",
   "metadata": {},
   "source": [
    "<a href=\"#0\"><h4>Наверх</h4></a>"
   ]
  },
  {
   "cell_type": "markdown",
   "metadata": {},
   "source": [
    "<p id=\"2.2\">\n",
    "<h5>Влияние на возвращаемость через 7 дней (retention_7)</h5><br>"
   ]
  },
  {
   "cell_type": "markdown",
   "metadata": {},
   "source": [
    "Доля вернувшихся почти одинаковы 19%:"
   ]
  },
  {
   "cell_type": "code",
   "execution_count": 32,
   "metadata": {},
   "outputs": [
    {
     "name": "stdout",
     "output_type": "stream",
     "text": [
      "version  retention_7\n",
      "gate_30  False          0.809817\n",
      "         True           0.190183\n",
      "dtype: float64\n",
      "version  retention_7\n",
      "gate_40  False          0.818\n",
      "         True           0.182\n",
      "dtype: float64\n"
     ]
    }
   ],
   "source": [
    "print(gate_30[['version','retention_7']].value_counts(normalize = True))\n",
    "print(gate_40[['version','retention_7']].value_counts(normalize = True))"
   ]
  },
  {
   "cell_type": "markdown",
   "metadata": {},
   "source": [
    "* Нулевая гипотеза: независимость retention_7 и положения ворот, отсутствие взаимосвязи между ними, разница в возвращаемости через 7 дней между контрольной и тестовой группами случайна\n",
    "* Альтернативная: между возвращаемостью через 7 дней и положением ворот есть взаимосвязь, разница в возвращаемости через 7 дней между контрольной и тестовой группами не случайна"
   ]
  },
  {
   "cell_type": "markdown",
   "metadata": {},
   "source": [
    "Подготовим таблицу сопряженности для теста:"
   ]
  },
  {
   "cell_type": "code",
   "execution_count": 33,
   "metadata": {
    "scrolled": true
   },
   "outputs": [
    {
     "data": {
      "text/html": [
       "<div>\n",
       "<style scoped>\n",
       "    .dataframe tbody tr th:only-of-type {\n",
       "        vertical-align: middle;\n",
       "    }\n",
       "\n",
       "    .dataframe tbody tr th {\n",
       "        vertical-align: top;\n",
       "    }\n",
       "\n",
       "    .dataframe thead th {\n",
       "        text-align: right;\n",
       "    }\n",
       "</style>\n",
       "<table border=\"1\" class=\"dataframe\">\n",
       "  <thead>\n",
       "    <tr style=\"text-align: right;\">\n",
       "      <th>retention_7</th>\n",
       "      <th>False</th>\n",
       "      <th>True</th>\n",
       "    </tr>\n",
       "    <tr>\n",
       "      <th>version</th>\n",
       "      <th></th>\n",
       "      <th></th>\n",
       "    </tr>\n",
       "  </thead>\n",
       "  <tbody>\n",
       "    <tr>\n",
       "      <th>gate_30</th>\n",
       "      <td>36198</td>\n",
       "      <td>8501</td>\n",
       "    </tr>\n",
       "    <tr>\n",
       "      <th>gate_40</th>\n",
       "      <td>37210</td>\n",
       "      <td>8279</td>\n",
       "    </tr>\n",
       "  </tbody>\n",
       "</table>\n",
       "</div>"
      ],
      "text/plain": [
       "retention_7  False  True\n",
       "version                 \n",
       "gate_30      36198  8501\n",
       "gate_40      37210  8279"
      ]
     },
     "execution_count": 33,
     "metadata": {},
     "output_type": "execute_result"
    }
   ],
   "source": [
    "cont_matrix_ret7_1 = pd.crosstab(data_1.version, data_1.retention_7)\n",
    "cont_matrix_ret7_1"
   ]
  },
  {
   "cell_type": "code",
   "execution_count": 34,
   "metadata": {
    "scrolled": true
   },
   "outputs": [
    {
     "data": {
      "text/plain": [
       "(9.96923845042939,\n",
       " 0.0015917731773992998,\n",
       " 1,\n",
       " array([[36382.49203885,  8316.50796115],\n",
       "        [37025.50796115,  8463.49203885]]))"
      ]
     },
     "execution_count": 34,
     "metadata": {},
     "output_type": "execute_result"
    }
   ],
   "source": [
    "stats.chi2_contingency(cont_matrix_ret7_1, correction = False)"
   ]
  },
  {
   "cell_type": "markdown",
   "metadata": {},
   "source": [
    "* При условии, что Н0 верна (разница между группами случайна), вероятность полученного (или более экстремального) значения тестовой статистики по сути равна 0, данные показывают очень маловероятные результаты.\n",
    "* Даже при уровне значимости 1% аргументов в пользу H0 по сути нет.\n",
    "* Отвергаем Н0 в пользу Н1.\n",
    "* Разница в возвращаемости через 7 дней для контрольной и тестовой групп НЕ случайна. То есть положение ворот и возвращаемость через 7 дней взаимосвязаны. Количества вернувшихся и невернувшихся в группе с воротами на 30м уровне статистически значимо отличаются от количеств в группе с воротами на 40м уровне."
   ]
  },
  {
   "cell_type": "markdown",
   "metadata": {},
   "source": [
    "В статистике это считается р-хаккингом, но для проверки устойчивости результата можно провести тест на данных без экстремальных выбросов:"
   ]
  },
  {
   "cell_type": "code",
   "execution_count": 35,
   "metadata": {
    "scrolled": true
   },
   "outputs": [
    {
     "data": {
      "text/html": [
       "<div>\n",
       "<style scoped>\n",
       "    .dataframe tbody tr th:only-of-type {\n",
       "        vertical-align: middle;\n",
       "    }\n",
       "\n",
       "    .dataframe tbody tr th {\n",
       "        vertical-align: top;\n",
       "    }\n",
       "\n",
       "    .dataframe thead th {\n",
       "        text-align: right;\n",
       "    }\n",
       "</style>\n",
       "<table border=\"1\" class=\"dataframe\">\n",
       "  <thead>\n",
       "    <tr style=\"text-align: right;\">\n",
       "      <th>retention_7</th>\n",
       "      <th>False</th>\n",
       "      <th>True</th>\n",
       "    </tr>\n",
       "    <tr>\n",
       "      <th>version</th>\n",
       "      <th></th>\n",
       "      <th></th>\n",
       "    </tr>\n",
       "  </thead>\n",
       "  <tbody>\n",
       "    <tr>\n",
       "      <th>gate_30</th>\n",
       "      <td>35735</td>\n",
       "      <td>6100</td>\n",
       "    </tr>\n",
       "    <tr>\n",
       "      <th>gate_40</th>\n",
       "      <td>36745</td>\n",
       "      <td>5869</td>\n",
       "    </tr>\n",
       "  </tbody>\n",
       "</table>\n",
       "</div>"
      ],
      "text/plain": [
       "retention_7  False  True\n",
       "version                 \n",
       "gate_30      35735  6100\n",
       "gate_40      36745  5869"
      ]
     },
     "execution_count": 35,
     "metadata": {},
     "output_type": "execute_result"
    }
   ],
   "source": [
    "cont_matrix_ret7_2 = pd.crosstab(data_2.version, data_2.retention_7)\n",
    "cont_matrix_ret7_2"
   ]
  },
  {
   "cell_type": "markdown",
   "metadata": {},
   "source": [
    "Р-значение стало еще ближе к нулю и мы по-прежнему отвергаем Н0:"
   ]
  },
  {
   "cell_type": "code",
   "execution_count": 36,
   "metadata": {
    "scrolled": true
   },
   "outputs": [
    {
     "data": {
      "text/plain": [
       "(11.347572804375679,\n",
       " 0.0007554663854888557,\n",
       " 1,\n",
       " array([[35905.70403439,  5929.29596561],\n",
       "        [36574.29596561,  6039.70403439]]))"
      ]
     },
     "execution_count": 36,
     "metadata": {},
     "output_type": "execute_result"
    }
   ],
   "source": [
    "stats.chi2_contingency(cont_matrix_ret7_2, correction = False)"
   ]
  },
  {
   "cell_type": "markdown",
   "metadata": {},
   "source": [
    "Тест показал взаимосвязь между положением ворот и возвращаемостью игроков через 7дней. Но, к сожалению, мы не знаем в каком направлении: лучше ворота на 30м или 40м уровне. Протестировать направление изменения нам позволит числовой показатель."
   ]
  },
  {
   "cell_type": "markdown",
   "metadata": {},
   "source": [
    "<a href=\"#0\"><h4>Наверх</h4></a>"
   ]
  },
  {
   "cell_type": "markdown",
   "metadata": {},
   "source": [
    "<p id=\"3\">\n",
    "<h4>Влияние на количество пройденных раундов (sum_gamerounds)</h4><br>\n",
    "<p id=\"3.1\">\n",
    "<h5>Т-тест</h5><br>"
   ]
  },
  {
   "cell_type": "markdown",
   "metadata": {},
   "source": [
    "Ворота изначально стоят на уровне 30 и нас интересует, нужно ли что-то менять. Нет смысла что-то менять, если ворота на уровне 40 по результату хуже или не отличаются от ситуации с уровнем 30. Есть смысл что-то поменять, если ворота на уровне 40 по результату лучше. Поэтому с помощью теста хочется ответить на вопрос, в случае с воротами на уровне 40 будет лучше или нет (хуже или нет разницы). Сформулируем гипотезы:<br>\n",
    "* Нулевая гипотеза: среднее кол-во раундов в тестовой группе равно или меньше чем в контрольной.\n",
    "* Альтернативная: среднее кол-во раундов в тестовой группе gate_40 больше чем в контрольной gate_30."
   ]
  },
  {
   "cell_type": "markdown",
   "metadata": {},
   "source": [
    "Посмотрим на гистограммы пройденных раундов для контрольной и тестовой групп. Без исключения экстремальных выбросов на гистограммах практически не виден хвост, но по видимой части гистограмм кажется, что они довольно схожи:"
   ]
  },
  {
   "cell_type": "code",
   "execution_count": 37,
   "metadata": {},
   "outputs": [
    {
     "data": {
      "image/png": "[encoded data removed]",
      "text/plain": [
       "<Figure size 720x504 with 1 Axes>"
      ]
     },
     "metadata": {
      "needs_background": "light"
     },
     "output_type": "display_data"
    }
   ],
   "source": [
    "bins = 100\n",
    "plt.figure(figsize = (10, 7))\n",
    "plt.hist(gate_30.sum_gamerounds, bins = bins, alpha = 1, edgecolor = 'black', label = 'gate 30')\n",
    "plt.hist(gate_40.sum_gamerounds, bins = bins, alpha = 0.7, label = 'gate 40')\n",
    "plt.legend(loc = 'upper right', bbox_to_anchor = (0.45, 0.35))\n",
    "plt.title('sum_gamerounds (без одного выброса)')\n",
    "plt.show()"
   ]
  },
  {
   "cell_type": "markdown",
   "metadata": {},
   "source": [
    "Посмотрим данные без экстремальных выбросов. Гистограммы тоже выглядят очень похоже. Но где-то в районе 30-40 уровней виднеется возвышение частот контрольной группы на тестовой. Возможно это как раз связано с тем, что если эффект от положение ворот на 30-40 уровне и есть, то длится недолго. Поэтому в дополнение возможно стоит рассмотреть совсем усеченные данные, например, с кол-вом раундов от 30 до 60."
   ]
  },
  {
   "cell_type": "code",
   "execution_count": 38,
   "metadata": {},
   "outputs": [
    {
     "data": {
      "image/png": "[encoded data removed]",
      "text/plain": [
       "<Figure size 1080x504 with 1 Axes>"
      ]
     },
     "metadata": {
      "needs_background": "light"
     },
     "output_type": "display_data"
    }
   ],
   "source": [
    "bins = 100\n",
    "plt.figure(figsize = (15, 7))\n",
    "plt.hist(gate_30_2.sum_gamerounds, bins = bins, alpha = 1, edgecolor = 'black', label = 'gate 30')\n",
    "plt.hist(gate_40_2.sum_gamerounds, bins = bins, alpha = 0.7, label = 'gate 40')\n",
    "plt.legend(loc = 'upper right', bbox_to_anchor = (0.45, 0.35))\n",
    "plt.title('sum_gamerounds (без экстремальных выбросов)')\n",
    "plt.show()"
   ]
  },
  {
   "cell_type": "markdown",
   "metadata": {},
   "source": [
    "В выборках среднее число раундов в группах почти одинаково:"
   ]
  },
  {
   "cell_type": "code",
   "execution_count": 39,
   "metadata": {
    "scrolled": false
   },
   "outputs": [
    {
     "name": "stdout",
     "output_type": "stream",
     "text": [
      "среднее число раундов в контрольной группе 51.342110561757536\n",
      "среднее число раундов в тестовой группе 51.29877552814966\n"
     ]
    }
   ],
   "source": [
    "print('среднее число раундов в контрольной группе', gate_30.sum_gamerounds.mean())\n",
    "print('среднее число раундов в тестовой группе', gate_40.sum_gamerounds.mean())"
   ]
  },
  {
   "cell_type": "markdown",
   "metadata": {},
   "source": [
    "Распределения в группах асимметричные и не похожие на нормальные, но в каждой из групп около 45 тыс записей, поэтому положимся на ЦПТ и будем считать распределения средних количеств раундов нормальными:"
   ]
  },
  {
   "cell_type": "code",
   "execution_count": 40,
   "metadata": {},
   "outputs": [
    {
     "name": "stdout",
     "output_type": "stream",
     "text": [
      "(44699, 5)\n",
      "(45489, 5)\n"
     ]
    }
   ],
   "source": [
    "print(gate_30.shape)\n",
    "print(gate_40.shape)"
   ]
  },
  {
   "cell_type": "code",
   "execution_count": 41,
   "metadata": {},
   "outputs": [
    {
     "data": {
      "image/png": "[encoded data removed]",
      "text/plain": [
       "<Figure size 864x504 with 4 Axes>"
      ]
     },
     "metadata": {
      "needs_background": "light"
     },
     "output_type": "display_data"
    }
   ],
   "source": [
    "plt.figure(figsize = (12, 7)) \n",
    "plt.subplot(2,2,1)\n",
    "sns.boxplot(y = gate_30.sum_gamerounds);\n",
    "plt.title('gate_30');\n",
    "plt.subplot(2,2,2)\n",
    "sns.boxplot(y = gate_40.sum_gamerounds);\n",
    "plt.title('gate_40');\n",
    "plt.subplot(2,2,3)\n",
    "plt.hist(gate_30.sum_gamerounds);\n",
    "plt.title('gate_30');\n",
    "plt.subplot(2,2,4)\n",
    "plt.hist(gate_40.sum_gamerounds);\n",
    "plt.title('gate_40');"
   ]
  },
  {
   "cell_type": "markdown",
   "metadata": {},
   "source": [
    "Признак количественный. Две независимых выборки, сравниваем два средних. Используем Т-тест для независимых выборок, односторонний, так как нам важно направление."
   ]
  },
  {
   "cell_type": "markdown",
   "metadata": {},
   "source": [
    "Равны ли дисперсии контрольной и тестовой групп? Разницы между выборочными стандартными отклонениями практически нет. Есть мнение, что при разнице больше 5% считать дисперсии неравными. Есть отдельная группа тестов для проверки равенства дисперсий. Есть мнение, что поправка Уэлча для профилактики не должна навредить. Есть мнение, что использование поправки в случае, когда дисперсии равны, увеличивает вероятность ошибки 2го рода (не отвергнуть некорректную нулевую). В документации теста ttest_ind сказано, что в случае неравных дисперсий, отсутствие поправки занижает р значение. Опираясь на практически отсутствие разницы между ср.кв.откл, поправку Уэлча делать не будем и попробуем учесть все остальные \"но\" при интерпретации."
   ]
  },
  {
   "cell_type": "code",
   "execution_count": 42,
   "metadata": {
    "scrolled": true
   },
   "outputs": [
    {
     "name": "stdout",
     "output_type": "stream",
     "text": [
      "ско раундов gate_30  102.05759789214098\n",
      "ско раундов gate_40  103.29441621653784\n",
      "относительная разница ско  0.01211882652484129\n"
     ]
    }
   ],
   "source": [
    "print('ско раундов gate_30 ', gate_30.sum_gamerounds.std())\n",
    "print('ско раундов gate_40 ', gate_40.sum_gamerounds.std())\n",
    "print('относительная разница ско ', (gate_40.sum_gamerounds.std() - gate_30.sum_gamerounds.std()) /\n",
    "      gate_30.sum_gamerounds.std())"
   ]
  },
  {
   "cell_type": "markdown",
   "metadata": {},
   "source": [
    "Т-тест:"
   ]
  },
  {
   "cell_type": "code",
   "execution_count": 43,
   "metadata": {},
   "outputs": [
    {
     "name": "stdout",
     "output_type": "stream",
     "text": [
      "-0.06337426312892294 0.5252656892267771\n"
     ]
    }
   ],
   "source": [
    "t,p = stats.ttest_ind(gate_40.sum_gamerounds, gate_30.sum_gamerounds, alternative = 'greater', equal_var = False)\n",
    "print(t,p)"
   ]
  },
  {
   "cell_type": "markdown",
   "metadata": {},
   "source": [
    "* При условии, что Н0 верна (т.е. среднее число раундов в тестовой равно или меньше чем в контрольной), данные не противоречат Н0. \n",
    "* При условии, что Н0 верна, вероятность полученного (или более экстремального) значения тестовой статистики около 53%.\n",
    "* По нашим данным достаточно аргументов в пользу H0.\n",
    "* Не отвергаем Н0 в пользу Н1.\n",
    "* Среднее кол-во раундов в тестовой равно или меньше чем в контрольной. То есть нет смысла переставлять ворота с 30го на 40й уровень с целью увеличить число сыгранных раундов."
   ]
  },
  {
   "cell_type": "markdown",
   "metadata": {},
   "source": [
    "Так как поправку на случай неравенства дисперсий не сделали, то есть риск, что р-значение занижено, если дисперсии на самом деле не равны. Но р-значение настолько большое, что в данном случае его заниженность особого значения не имеет. Можем для проверки провести тест с поправкой, хотя в статистике так не принято и это считается р-хаккингом. Наличие поправки на тест практически не повлияло:"
   ]
  },
  {
   "cell_type": "code",
   "execution_count": 44,
   "metadata": {
    "scrolled": false
   },
   "outputs": [
    {
     "name": "stdout",
     "output_type": "stream",
     "text": [
      "-0.0633675766982082 0.5252630270872\n"
     ]
    }
   ],
   "source": [
    "t,p = stats.ttest_ind(gate_40.sum_gamerounds, gate_30.sum_gamerounds, alternative = 'greater', equal_var = True)\n",
    "print(t,p)"
   ]
  },
  {
   "cell_type": "markdown",
   "metadata": {},
   "source": [
    "Для проверки устойчивости результата проведем тест на данных без экстремальных выбросов. P-значение стало меньше - 43%, но по-прежнему достаточно аргументов в пользу Н0:"
   ]
  },
  {
   "cell_type": "code",
   "execution_count": 45,
   "metadata": {},
   "outputs": [
    {
     "name": "stdout",
     "output_type": "stream",
     "text": [
      "среднее число раундов в контрольной группе без выбросов 30.60203179156209\n",
      "среднее число раундов в тестовой группе без выбросов 30.648941662364482\n"
     ]
    }
   ],
   "source": [
    "print('среднее число раундов в контрольной группе без выбросов', gate_30_2.sum_gamerounds.mean())\n",
    "print('среднее число раундов в тестовой группе без выбросов', gate_40_2.sum_gamerounds.mean())"
   ]
  },
  {
   "cell_type": "code",
   "execution_count": 46,
   "metadata": {
    "scrolled": true
   },
   "outputs": [
    {
     "name": "stdout",
     "output_type": "stream",
     "text": [
      "0.17415619552656236 0.4308715638935539\n"
     ]
    }
   ],
   "source": [
    "t,p = stats.ttest_ind(gate_40_2.sum_gamerounds, gate_30_2.sum_gamerounds, alternative = 'greater', equal_var = False)\n",
    "print(t,p)"
   ]
  },
  {
   "cell_type": "markdown",
   "metadata": {},
   "source": [
    "<a href=\"#0\"><h4>Наверх</h4></a>"
   ]
  },
  {
   "cell_type": "markdown",
   "metadata": {},
   "source": [
    "<p id=\"3.2\">\n",
    "<h5>Критерий Манна Уитни</h5><br>"
   ]
  },
  {
   "cell_type": "markdown",
   "metadata": {},
   "source": [
    "Также можно проверить устойчивость теста к предположению нормальности распределения и провести непараметрический тест Манна-Уитни. Если предположить, что у равных распределений равные медианы, то: \n",
    "* Нулевая гипотеза: медианное кол-во раундов в тестовой группе равно или меньше чем в контрольной.\n",
    "* Альтернативная: медианное кол-во раундов в тестовой группе больше чем в контрольной."
   ]
  },
  {
   "cell_type": "markdown",
   "metadata": {},
   "source": [
    "Выборочная медиана в контрольной группе чуть больше чем в тестовой, 17 против 16:"
   ]
  },
  {
   "cell_type": "code",
   "execution_count": 47,
   "metadata": {
    "scrolled": true
   },
   "outputs": [
    {
     "data": {
      "text/plain": [
       "version\n",
       "gate_30    17.0\n",
       "gate_40    16.0\n",
       "Name: sum_gamerounds, dtype: float64"
      ]
     },
     "execution_count": 47,
     "metadata": {},
     "output_type": "execute_result"
    }
   ],
   "source": [
    "data_1.groupby('version').median('sum_gamerounds')['sum_gamerounds']"
   ]
  },
  {
   "cell_type": "markdown",
   "metadata": {},
   "source": [
    "Тест Манна-Уитни:"
   ]
  },
  {
   "cell_type": "code",
   "execution_count": 48,
   "metadata": {},
   "outputs": [
    {
     "data": {
      "text/plain": [
       "(1009027049.5, 0.97455423878383)"
      ]
     },
     "execution_count": 48,
     "metadata": {},
     "output_type": "execute_result"
    }
   ],
   "source": [
    "stat, p = stats.mannwhitneyu(gate_40.sum_gamerounds, gate_30.sum_gamerounds, alternative = 'greater')\n",
    "stat, p"
   ]
  },
  {
   "cell_type": "markdown",
   "metadata": {},
   "source": [
    "* При условии, что Н0 верна (т.е. медианное число раундов в тестовой равно или меньше чем в контрольной), данные не противоречат Н0. \n",
    "* При условии, что Н0 верна, вероятность полученного (или более экстремального) значения тестовой статистики около 97%.\n",
    "* По нашим данным более чем достаточно аргументов в пользу H0.\n",
    "* Не отвергаем Н0 в пользу Н1.\n",
    "* Медианное кол-во раундов в тестовой группе равно или меньше чем в контрольной. То есть нет смысла переставлять ворота с 30го на 40й уровень с целью увеличить число сыгранных раундов."
   ]
  },
  {
   "cell_type": "markdown",
   "metadata": {},
   "source": [
    "<a href=\"#0\"><h4>Наверх</h4></a>"
   ]
  },
  {
   "cell_type": "markdown",
   "metadata": {},
   "source": [
    "<p id=\"3.3\">\n",
    "<h5>Т-тест и логарифмирование</h5><br>"
   ]
  },
  {
   "cell_type": "markdown",
   "metadata": {},
   "source": [
    "Логарифм такого скошенного вправо распределения может иметь более похожее на нормальное распределение. Как мы уже выяснили выше у нас есть 3994 записи с нулевым кол-вом раундов:"
   ]
  },
  {
   "cell_type": "code",
   "execution_count": 49,
   "metadata": {
    "scrolled": true
   },
   "outputs": [
    {
     "data": {
      "text/plain": [
       "3994"
      ]
     },
     "execution_count": 49,
     "metadata": {},
     "output_type": "execute_result"
    }
   ],
   "source": [
    "len(data[data['sum_gamerounds'] == 0])"
   ]
  },
  {
   "cell_type": "markdown",
   "metadata": {},
   "source": [
    "Для логарифмирования нам придется исключить этих игроков:"
   ]
  },
  {
   "cell_type": "code",
   "execution_count": 50,
   "metadata": {},
   "outputs": [],
   "source": [
    "data_log = data.loc[:]\n",
    "data_log = data_log[data_log['sum_gamerounds'] > 0]"
   ]
  },
  {
   "cell_type": "markdown",
   "metadata": {},
   "source": [
    "Добавляем столбец с натуральным логарифмом sum_gamerounds:"
   ]
  },
  {
   "cell_type": "code",
   "execution_count": 51,
   "metadata": {
    "scrolled": true
   },
   "outputs": [
    {
     "data": {
      "text/html": [
       "<div>\n",
       "<style scoped>\n",
       "    .dataframe tbody tr th:only-of-type {\n",
       "        vertical-align: middle;\n",
       "    }\n",
       "\n",
       "    .dataframe tbody tr th {\n",
       "        vertical-align: top;\n",
       "    }\n",
       "\n",
       "    .dataframe thead th {\n",
       "        text-align: right;\n",
       "    }\n",
       "</style>\n",
       "<table border=\"1\" class=\"dataframe\">\n",
       "  <thead>\n",
       "    <tr style=\"text-align: right;\">\n",
       "      <th></th>\n",
       "      <th>userid</th>\n",
       "      <th>version</th>\n",
       "      <th>sum_gamerounds</th>\n",
       "      <th>retention_1</th>\n",
       "      <th>retention_7</th>\n",
       "      <th>log_sum_rounds</th>\n",
       "    </tr>\n",
       "  </thead>\n",
       "  <tbody>\n",
       "    <tr>\n",
       "      <th>0</th>\n",
       "      <td>116</td>\n",
       "      <td>gate_30</td>\n",
       "      <td>3</td>\n",
       "      <td>False</td>\n",
       "      <td>False</td>\n",
       "      <td>1.098612</td>\n",
       "    </tr>\n",
       "    <tr>\n",
       "      <th>1</th>\n",
       "      <td>337</td>\n",
       "      <td>gate_30</td>\n",
       "      <td>38</td>\n",
       "      <td>True</td>\n",
       "      <td>False</td>\n",
       "      <td>3.637586</td>\n",
       "    </tr>\n",
       "    <tr>\n",
       "      <th>2</th>\n",
       "      <td>377</td>\n",
       "      <td>gate_40</td>\n",
       "      <td>165</td>\n",
       "      <td>True</td>\n",
       "      <td>False</td>\n",
       "      <td>5.105945</td>\n",
       "    </tr>\n",
       "    <tr>\n",
       "      <th>3</th>\n",
       "      <td>483</td>\n",
       "      <td>gate_40</td>\n",
       "      <td>1</td>\n",
       "      <td>False</td>\n",
       "      <td>False</td>\n",
       "      <td>0.000000</td>\n",
       "    </tr>\n",
       "    <tr>\n",
       "      <th>4</th>\n",
       "      <td>488</td>\n",
       "      <td>gate_40</td>\n",
       "      <td>179</td>\n",
       "      <td>True</td>\n",
       "      <td>True</td>\n",
       "      <td>5.187386</td>\n",
       "    </tr>\n",
       "  </tbody>\n",
       "</table>\n",
       "</div>"
      ],
      "text/plain": [
       "   userid  version  sum_gamerounds  retention_1  retention_7  log_sum_rounds\n",
       "0     116  gate_30               3        False        False        1.098612\n",
       "1     337  gate_30              38         True        False        3.637586\n",
       "2     377  gate_40             165         True        False        5.105945\n",
       "3     483  gate_40               1        False        False        0.000000\n",
       "4     488  gate_40             179         True         True        5.187386"
      ]
     },
     "execution_count": 51,
     "metadata": {},
     "output_type": "execute_result"
    }
   ],
   "source": [
    "data_log['log_sum_rounds'] = np.log(data_log['sum_gamerounds'])\n",
    "data_log.head()"
   ]
  },
  {
   "cell_type": "markdown",
   "metadata": {},
   "source": [
    "Теперь гистограмма выглядит более похожей на нормальную:"
   ]
  },
  {
   "cell_type": "code",
   "execution_count": 52,
   "metadata": {
    "scrolled": false
   },
   "outputs": [
    {
     "data": {
      "image/png": "[encoded data removed]",
      "text/plain": [
       "<Figure size 864x360 with 2 Axes>"
      ]
     },
     "metadata": {
      "needs_background": "light"
     },
     "output_type": "display_data"
    }
   ],
   "source": [
    "plt.figure(figsize = (12, 5)) \n",
    "plt.subplot(1,2,1)\n",
    "sns.boxplot(y = data_log.log_sum_rounds);\n",
    "plt.title('log_sum_rounds');\n",
    "plt.subplot(1,2,2)\n",
    "plt.hist(data_log.log_sum_rounds);\n",
    "plt.title('log_sum_rounds');"
   ]
  },
  {
   "cell_type": "markdown",
   "metadata": {},
   "source": [
    "Уберем выброс sum_gamerounds = 49854:"
   ]
  },
  {
   "cell_type": "code",
   "execution_count": 53,
   "metadata": {},
   "outputs": [],
   "source": [
    "data_log_1 = data_log[data_log.sum_gamerounds < data_log.sum_gamerounds.max()]"
   ]
  },
  {
   "cell_type": "markdown",
   "metadata": {},
   "source": [
    "Гистограмма и боксплот без самого яркого выброса sum_gamerounds:"
   ]
  },
  {
   "cell_type": "code",
   "execution_count": 54,
   "metadata": {
    "scrolled": true
   },
   "outputs": [
    {
     "data": {
      "image/png": "[encoded data removed]",
      "text/plain": [
       "<Figure size 864x360 with 2 Axes>"
      ]
     },
     "metadata": {
      "needs_background": "light"
     },
     "output_type": "display_data"
    }
   ],
   "source": [
    "plt.figure(figsize = (12, 5)) \n",
    "plt.subplot(1,2,1)\n",
    "sns.boxplot(y = data_log_1.log_sum_rounds);\n",
    "plt.title('log_sum_rounds');\n",
    "plt.subplot(1,2,2)\n",
    "plt.hist(data_log_1.log_sum_rounds);\n",
    "plt.title('log_sum_rounds');"
   ]
  },
  {
   "cell_type": "markdown",
   "metadata": {},
   "source": [
    "Если убрать экстремальные выбросы по sum_gamerounds после 189:"
   ]
  },
  {
   "cell_type": "code",
   "execution_count": 55,
   "metadata": {},
   "outputs": [],
   "source": [
    "data_log_2 = data_log[data_log.sum_gamerounds < 189]"
   ]
  },
  {
   "cell_type": "code",
   "execution_count": 56,
   "metadata": {},
   "outputs": [
    {
     "data": {
      "image/png": "[encoded data removed]",
      "text/plain": [
       "<Figure size 864x360 with 2 Axes>"
      ]
     },
     "metadata": {
      "needs_background": "light"
     },
     "output_type": "display_data"
    }
   ],
   "source": [
    "plt.figure(figsize = (12, 5)) \n",
    "plt.subplot(1,2,1)\n",
    "sns.boxplot(y = data_log_2.log_sum_rounds);\n",
    "plt.title('log_sum_rounds');\n",
    "plt.subplot(1,2,2)\n",
    "plt.hist(data_log_2.log_sum_rounds);\n",
    "plt.title('log_sum_rounds');"
   ]
  },
  {
   "cell_type": "markdown",
   "metadata": {},
   "source": [
    "Разделим данные (без нулевых раундов и без яркого выброса) на контрольную и тестовую группы:"
   ]
  },
  {
   "cell_type": "code",
   "execution_count": 57,
   "metadata": {},
   "outputs": [],
   "source": [
    "gate_30_log = data_log_1[data_log_1.version == 'gate_30']\n",
    "gate_40_log = data_log_1[data_log_1.version == 'gate_40']"
   ]
  },
  {
   "cell_type": "markdown",
   "metadata": {},
   "source": [
    "Разделим данные (без нулевых раундов и без экстремальных выбросов) на контрольную и тестовую группы:"
   ]
  },
  {
   "cell_type": "code",
   "execution_count": 58,
   "metadata": {},
   "outputs": [],
   "source": [
    "gate_30_log_2 = data_log_2[data_log_2.version == 'gate_30']\n",
    "gate_40_log_2 = data_log_2[data_log_2.version == 'gate_40']"
   ]
  },
  {
   "cell_type": "markdown",
   "metadata": {},
   "source": [
    "Сформулируем гипотезы:<br>\n",
    "* Нулевая гипотеза: средний логарифм кол-ва раундов в тестовой группе равен или меньше чем в контрольной.\n",
    "* Альтернативная: средний логарифм кол-ва раундов в тестовой группе gate_40 больше чем в контрольной gate_30."
   ]
  },
  {
   "cell_type": "markdown",
   "metadata": {},
   "source": [
    "Средние в группах почти одинаковые, в контрольной чуть больше:"
   ]
  },
  {
   "cell_type": "code",
   "execution_count": 59,
   "metadata": {
    "scrolled": true
   },
   "outputs": [
    {
     "name": "stdout",
     "output_type": "stream",
     "text": [
      "средний логарифм числа раундов в контрольной группе 2.8895630046553813\n",
      "средний логарифм числа раундов в тестовой группе 2.87454313039857\n"
     ]
    }
   ],
   "source": [
    "print('средний логарифм числа раундов в контрольной группе', gate_30_log.log_sum_rounds.mean())\n",
    "print('средний логарифм числа раундов в тестовой группе', gate_40_log.log_sum_rounds.mean())"
   ]
  },
  {
   "cell_type": "markdown",
   "metadata": {},
   "source": [
    "Равны ли дисперсии контрольной и тестовой групп? Разницы между выборочными стандартными отклонениями практически нет, поправку Уэлча делать не будем и попробуем учесть все остальные \"но\" при интерпретации."
   ]
  },
  {
   "cell_type": "code",
   "execution_count": 60,
   "metadata": {
    "scrolled": true
   },
   "outputs": [
    {
     "name": "stdout",
     "output_type": "stream",
     "text": [
      "ско раундов gate_30  1.5413621223499008\n",
      "ско раундов gate_40  1.5518205519748396\n",
      "относительная разница ско  0.006785186604296659\n"
     ]
    }
   ],
   "source": [
    "print('ско раундов gate_30 ', gate_30_log.log_sum_rounds.std())\n",
    "print('ско раундов gate_40 ', gate_40_log.log_sum_rounds.std())\n",
    "print('относительная разница ско ', (gate_40_log.log_sum_rounds.std() - gate_30_log.log_sum_rounds.std()) /\n",
    "      gate_30_log.log_sum_rounds.std())"
   ]
  },
  {
   "cell_type": "markdown",
   "metadata": {},
   "source": [
    "Т-тест:"
   ]
  },
  {
   "cell_type": "code",
   "execution_count": 61,
   "metadata": {},
   "outputs": [
    {
     "name": "stdout",
     "output_type": "stream",
     "text": [
      "-1.4255913668463311 0.9230050243427721\n"
     ]
    }
   ],
   "source": [
    "t,p = stats.ttest_ind(gate_40_log.log_sum_rounds, gate_30_log.log_sum_rounds, alternative = 'greater', equal_var = False)\n",
    "print(t,p)"
   ]
  },
  {
   "cell_type": "markdown",
   "metadata": {},
   "source": [
    "* При условии, что Н0 верна (т.е. средний логарифм числа раундов в тестовой равен или меньше чем в контрольной), данные не противоречат Н0. \n",
    "* При условии, что Н0 верна, вероятность полученного (или более экстремального) значения тестовой статистики около 92%.\n",
    "* По нашим данным более чем достаточно аргументов в пользу H0.\n",
    "* Не отвергаем Н0 в пользу Н1.\n",
    "* Средний логарифм кол-ва раундов в тестовой равен или меньше чем в контрольной."
   ]
  },
  {
   "cell_type": "markdown",
   "metadata": {},
   "source": [
    "Т-тест на данных без экстремальных выбросов дает почти такой же результат:"
   ]
  },
  {
   "cell_type": "code",
   "execution_count": 62,
   "metadata": {
    "scrolled": true
   },
   "outputs": [
    {
     "name": "stdout",
     "output_type": "stream",
     "text": [
      "-1.4002338223846083 0.9192764163885482\n"
     ]
    }
   ],
   "source": [
    "t,p = stats.ttest_ind(gate_40_log_2.log_sum_rounds, gate_30_log_2.log_sum_rounds, alternative = 'greater', equal_var = False)\n",
    "print(t,p)"
   ]
  },
  {
   "cell_type": "markdown",
   "metadata": {},
   "source": [
    "<a href=\"#0\"><h4>Наверх</h4></a>"
   ]
  },
  {
   "cell_type": "markdown",
   "metadata": {},
   "source": [
    "<p id=\"4\">\n",
    "<h4>Выводы</h4><br>"
   ]
  },
  {
   "cell_type": "markdown",
   "metadata": {},
   "source": [
    "* Тест Хи-квадрат Пирсона не показал статистически значимых различий между вернувшимися/невернувшимися через день игроками и положением ворот. Практическая значимость различий тоже отсутствует: 0.448 доля вернувшихся gate_30 и 0.442 в gate_40.\n",
    "* Тест Хи-квадрат Пирсона показал статистически значимые различия между вернувшимися/невернувшимися через семь дней игроками и положением ворот. С практической точки зрения различия в доле вернувшихся не значимы: 0.19 в gate_30 и 0.182 в gate_40.\n",
    "* Т-тест не отверг гипотезу о том, что среднее кол-во раундов в тестовой группе равно или меньше, чем в контрольной. Практически значимого различия тоже нет: 51.34 в gate_30 и 51.29 в gate_40.\n",
    "* Проверили устойчивость выводов Т-теста: провели Т-тест на данных без экстремальных выбросов; провели непараметрический тест на равенство медиан; провели Т-тест на логарифме кол-ва раундов. Противоречий не возникло.\n",
    "* Нет смысла переставлять ворота с 30 уровня для увеличения возвращаемости и сыгранных раундов."
   ]
  }
 ],
 "metadata": {
  "kernelspec": {
   "display_name": "Python 3 (ipykernel)",
   "language": "python",
   "name": "python3"
  },
  "language_info": {
   "codemirror_mode": {
    "name": "ipython",
    "version": 3
   },
   "file_extension": ".py",
   "mimetype": "text/x-python",
   "name": "python",
   "nbconvert_exporter": "python",
   "pygments_lexer": "ipython3",
   "version": "3.8.12"
  },
  "toc": {
   "base_numbering": 1,
   "nav_menu": {},
   "number_sections": true,
   "sideBar": true,
   "skip_h1_title": false,
   "title_cell": "Table of Contents",
   "title_sidebar": "Contents",
   "toc_cell": false,
   "toc_position": {},
   "toc_section_display": true,
   "toc_window_display": false
  }
 },
 "nbformat": 4,
 "nbformat_minor": 4
}
