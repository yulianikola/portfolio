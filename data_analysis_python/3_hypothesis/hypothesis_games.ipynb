{
 "cells": [
  {
   "cell_type": "markdown",
   "metadata": {},
   "source": [
    "<div class=\"alert alert-info\">\n",
    "Ссылка для просмотра ноутбука в интерактивном режиме для использования гиперссылок и корректного отображения разметки:<br>\n",
    "<a href='https://nbviewer.org/github/yulianikola/portfolio/blob/master/data_analysis_python/2_hypothesis/hypothesis_games.ipynb'>hypothesis_games</a></div>"
   ]
  },
  {
   "cell_type": "markdown",
   "metadata": {},
   "source": [
    "### Тестирование гипотез\n",
    "#### Данные о продажах и оценках видео-игр"
   ]
  },
  {
   "cell_type": "markdown",
   "metadata": {},
   "source": [
    "https://www.kaggle.com/ashaheedq/video-games-sales-2019?select=vgsales-12-4-2019.csv. \n",
    "<h4>Задание</h4>\n",
    "Сформулируйте нулевую и альтернативную гипотезы; выберите пороговый уровень статистической значимости; опишите полученные результаты статистического теста.\n",
    "<p id=\"0\">\n",
    "<h4>Содержание</h4>\n",
    "<ul type=\"square\"><a href=\"#1\"><li>Знакомство с данными</li></a>\n",
    "<a href=\"#2\"><li>Как критики относятся к спортивным играм?</li></a>\n",
    "<a href=\"#3\"><li>Критикам нравятся больше игры на PC или на PS4?</li></a>\n",
    "<a href=\"#4\"><li>Критикам больше нравятся стрелялки или стратегии?</li></a>"
   ]
  },
  {
   "cell_type": "markdown",
   "metadata": {},
   "source": [
    "Данные о продажах и рейтингах спарсены на момент 12 апреля 2019. Столбец Year - это год релиза игры."
   ]
  },
  {
   "cell_type": "code",
   "execution_count": 1,
   "metadata": {},
   "outputs": [],
   "source": [
    "import pandas as pd\n",
    "import scipy.stats as stats\n",
    "import matplotlib.pyplot as plt\n",
    "import seaborn as sns"
   ]
  },
  {
   "cell_type": "markdown",
   "metadata": {},
   "source": [
    "<p id=\"1\">\n",
    "<h4>Знакомство с данными</h4>"
   ]
  },
  {
   "cell_type": "code",
   "execution_count": 2,
   "metadata": {
    "scrolled": false
   },
   "outputs": [
    {
     "data": {
      "text/html": [
       "<div>\n",
       "<style scoped>\n",
       "    .dataframe tbody tr th:only-of-type {\n",
       "        vertical-align: middle;\n",
       "    }\n",
       "\n",
       "    .dataframe tbody tr th {\n",
       "        vertical-align: top;\n",
       "    }\n",
       "\n",
       "    .dataframe thead th {\n",
       "        text-align: right;\n",
       "    }\n",
       "</style>\n",
       "<table border=\"1\" class=\"dataframe\">\n",
       "  <thead>\n",
       "    <tr style=\"text-align: right;\">\n",
       "      <th></th>\n",
       "      <th>Rank</th>\n",
       "      <th>Name</th>\n",
       "      <th>basename</th>\n",
       "      <th>Genre</th>\n",
       "      <th>ESRB_Rating</th>\n",
       "      <th>Platform</th>\n",
       "      <th>Publisher</th>\n",
       "      <th>Developer</th>\n",
       "      <th>VGChartz_Score</th>\n",
       "      <th>Critic_Score</th>\n",
       "      <th>User_Score</th>\n",
       "      <th>Total_Shipped</th>\n",
       "      <th>Global_Sales</th>\n",
       "      <th>NA_Sales</th>\n",
       "      <th>PAL_Sales</th>\n",
       "      <th>JP_Sales</th>\n",
       "      <th>Other_Sales</th>\n",
       "      <th>Year</th>\n",
       "      <th>Last_Update</th>\n",
       "      <th>url</th>\n",
       "      <th>status</th>\n",
       "      <th>Vgchartzscore</th>\n",
       "      <th>img_url</th>\n",
       "    </tr>\n",
       "  </thead>\n",
       "  <tbody>\n",
       "    <tr>\n",
       "      <th>0</th>\n",
       "      <td>1</td>\n",
       "      <td>Wii Sports</td>\n",
       "      <td>wii-sports</td>\n",
       "      <td>Sports</td>\n",
       "      <td>E</td>\n",
       "      <td>Wii</td>\n",
       "      <td>Nintendo</td>\n",
       "      <td>Nintendo EAD</td>\n",
       "      <td>NaN</td>\n",
       "      <td>7.7</td>\n",
       "      <td>NaN</td>\n",
       "      <td>82.86</td>\n",
       "      <td>NaN</td>\n",
       "      <td>NaN</td>\n",
       "      <td>NaN</td>\n",
       "      <td>NaN</td>\n",
       "      <td>NaN</td>\n",
       "      <td>2006.0</td>\n",
       "      <td>NaN</td>\n",
       "      <td>http://www.vgchartz.com/game/2667/wii-sports/?...</td>\n",
       "      <td>1</td>\n",
       "      <td>NaN</td>\n",
       "      <td>/games/boxart/full_2258645AmericaFrontccc.jpg</td>\n",
       "    </tr>\n",
       "    <tr>\n",
       "      <th>1</th>\n",
       "      <td>2</td>\n",
       "      <td>Super Mario Bros.</td>\n",
       "      <td>super-mario-bros</td>\n",
       "      <td>Platform</td>\n",
       "      <td>NaN</td>\n",
       "      <td>NES</td>\n",
       "      <td>Nintendo</td>\n",
       "      <td>Nintendo EAD</td>\n",
       "      <td>NaN</td>\n",
       "      <td>10.0</td>\n",
       "      <td>NaN</td>\n",
       "      <td>40.24</td>\n",
       "      <td>NaN</td>\n",
       "      <td>NaN</td>\n",
       "      <td>NaN</td>\n",
       "      <td>NaN</td>\n",
       "      <td>NaN</td>\n",
       "      <td>1985.0</td>\n",
       "      <td>NaN</td>\n",
       "      <td>http://www.vgchartz.com/game/6455/super-mario-...</td>\n",
       "      <td>1</td>\n",
       "      <td>NaN</td>\n",
       "      <td>/games/boxart/8972270ccc.jpg</td>\n",
       "    </tr>\n",
       "    <tr>\n",
       "      <th>2</th>\n",
       "      <td>3</td>\n",
       "      <td>Mario Kart Wii</td>\n",
       "      <td>mario-kart-wii</td>\n",
       "      <td>Racing</td>\n",
       "      <td>E</td>\n",
       "      <td>Wii</td>\n",
       "      <td>Nintendo</td>\n",
       "      <td>Nintendo EAD</td>\n",
       "      <td>NaN</td>\n",
       "      <td>8.2</td>\n",
       "      <td>9.1</td>\n",
       "      <td>37.14</td>\n",
       "      <td>NaN</td>\n",
       "      <td>NaN</td>\n",
       "      <td>NaN</td>\n",
       "      <td>NaN</td>\n",
       "      <td>NaN</td>\n",
       "      <td>2008.0</td>\n",
       "      <td>11th Apr 18</td>\n",
       "      <td>http://www.vgchartz.com/game/6968/mario-kart-w...</td>\n",
       "      <td>1</td>\n",
       "      <td>8.7</td>\n",
       "      <td>/games/boxart/full_8932480AmericaFrontccc.jpg</td>\n",
       "    </tr>\n",
       "    <tr>\n",
       "      <th>3</th>\n",
       "      <td>4</td>\n",
       "      <td>PlayerUnknown's Battlegrounds</td>\n",
       "      <td>playerunknowns-battlegrounds</td>\n",
       "      <td>Shooter</td>\n",
       "      <td>NaN</td>\n",
       "      <td>PC</td>\n",
       "      <td>PUBG Corporation</td>\n",
       "      <td>PUBG Corporation</td>\n",
       "      <td>NaN</td>\n",
       "      <td>NaN</td>\n",
       "      <td>NaN</td>\n",
       "      <td>36.60</td>\n",
       "      <td>NaN</td>\n",
       "      <td>NaN</td>\n",
       "      <td>NaN</td>\n",
       "      <td>NaN</td>\n",
       "      <td>NaN</td>\n",
       "      <td>2017.0</td>\n",
       "      <td>13th Nov 18</td>\n",
       "      <td>http://www.vgchartz.com/game/215988/playerunkn...</td>\n",
       "      <td>1</td>\n",
       "      <td>NaN</td>\n",
       "      <td>/games/boxart/full_8052843AmericaFrontccc.jpg</td>\n",
       "    </tr>\n",
       "    <tr>\n",
       "      <th>4</th>\n",
       "      <td>5</td>\n",
       "      <td>Wii Sports Resort</td>\n",
       "      <td>wii-sports-resort</td>\n",
       "      <td>Sports</td>\n",
       "      <td>E</td>\n",
       "      <td>Wii</td>\n",
       "      <td>Nintendo</td>\n",
       "      <td>Nintendo EAD</td>\n",
       "      <td>NaN</td>\n",
       "      <td>8.0</td>\n",
       "      <td>8.8</td>\n",
       "      <td>33.09</td>\n",
       "      <td>NaN</td>\n",
       "      <td>NaN</td>\n",
       "      <td>NaN</td>\n",
       "      <td>NaN</td>\n",
       "      <td>NaN</td>\n",
       "      <td>2009.0</td>\n",
       "      <td>NaN</td>\n",
       "      <td>http://www.vgchartz.com/game/24656/wii-sports-...</td>\n",
       "      <td>1</td>\n",
       "      <td>8.8</td>\n",
       "      <td>/games/boxart/full_7295041AmericaFrontccc.jpg</td>\n",
       "    </tr>\n",
       "  </tbody>\n",
       "</table>\n",
       "</div>"
      ],
      "text/plain": [
       "   Rank                           Name                      basename  \\\n",
       "0     1                     Wii Sports                    wii-sports   \n",
       "1     2              Super Mario Bros.              super-mario-bros   \n",
       "2     3                 Mario Kart Wii                mario-kart-wii   \n",
       "3     4  PlayerUnknown's Battlegrounds  playerunknowns-battlegrounds   \n",
       "4     5              Wii Sports Resort             wii-sports-resort   \n",
       "\n",
       "      Genre ESRB_Rating Platform         Publisher         Developer  \\\n",
       "0    Sports           E      Wii          Nintendo      Nintendo EAD   \n",
       "1  Platform         NaN      NES          Nintendo      Nintendo EAD   \n",
       "2    Racing           E      Wii          Nintendo      Nintendo EAD   \n",
       "3   Shooter         NaN       PC  PUBG Corporation  PUBG Corporation   \n",
       "4    Sports           E      Wii          Nintendo      Nintendo EAD   \n",
       "\n",
       "   VGChartz_Score  Critic_Score  User_Score  Total_Shipped  Global_Sales  \\\n",
       "0             NaN           7.7         NaN          82.86           NaN   \n",
       "1             NaN          10.0         NaN          40.24           NaN   \n",
       "2             NaN           8.2         9.1          37.14           NaN   \n",
       "3             NaN           NaN         NaN          36.60           NaN   \n",
       "4             NaN           8.0         8.8          33.09           NaN   \n",
       "\n",
       "   NA_Sales  PAL_Sales  JP_Sales  Other_Sales    Year  Last_Update  \\\n",
       "0       NaN        NaN       NaN          NaN  2006.0          NaN   \n",
       "1       NaN        NaN       NaN          NaN  1985.0          NaN   \n",
       "2       NaN        NaN       NaN          NaN  2008.0  11th Apr 18   \n",
       "3       NaN        NaN       NaN          NaN  2017.0  13th Nov 18   \n",
       "4       NaN        NaN       NaN          NaN  2009.0          NaN   \n",
       "\n",
       "                                                 url  status  Vgchartzscore  \\\n",
       "0  http://www.vgchartz.com/game/2667/wii-sports/?...       1            NaN   \n",
       "1  http://www.vgchartz.com/game/6455/super-mario-...       1            NaN   \n",
       "2  http://www.vgchartz.com/game/6968/mario-kart-w...       1            8.7   \n",
       "3  http://www.vgchartz.com/game/215988/playerunkn...       1            NaN   \n",
       "4  http://www.vgchartz.com/game/24656/wii-sports-...       1            8.8   \n",
       "\n",
       "                                         img_url  \n",
       "0  /games/boxart/full_2258645AmericaFrontccc.jpg  \n",
       "1                   /games/boxart/8972270ccc.jpg  \n",
       "2  /games/boxart/full_8932480AmericaFrontccc.jpg  \n",
       "3  /games/boxart/full_8052843AmericaFrontccc.jpg  \n",
       "4  /games/boxart/full_7295041AmericaFrontccc.jpg  "
      ]
     },
     "execution_count": 2,
     "metadata": {},
     "output_type": "execute_result"
    }
   ],
   "source": [
    "games = pd.read_csv('c:\\\\python\\\\portfolio\\\\data_analysis_python\\\\2_hypothesis\\\\data\\\\video_games_sales.csv')\n",
    "pd.set_option('display.max_columns', 120) # чтобы увидеть все столбцы, так как их больше 20\n",
    "games.head()"
   ]
  },
  {
   "cell_type": "markdown",
   "metadata": {},
   "source": [
    "Перечень столбцов датафрейма:"
   ]
  },
  {
   "cell_type": "code",
   "execution_count": 3,
   "metadata": {
    "scrolled": true
   },
   "outputs": [
    {
     "data": {
      "text/plain": [
       "Index(['Rank', 'Name', 'basename', 'Genre', 'ESRB_Rating', 'Platform',\n",
       "       'Publisher', 'Developer', 'VGChartz_Score', 'Critic_Score',\n",
       "       'User_Score', 'Total_Shipped', 'Global_Sales', 'NA_Sales', 'PAL_Sales',\n",
       "       'JP_Sales', 'Other_Sales', 'Year', 'Last_Update', 'url', 'status',\n",
       "       'Vgchartzscore', 'img_url'],\n",
       "      dtype='object')"
      ]
     },
     "execution_count": 3,
     "metadata": {},
     "output_type": "execute_result"
    }
   ],
   "source": [
    "games.columns"
   ]
  },
  {
   "cell_type": "markdown",
   "metadata": {},
   "source": [
    "Для тестирования гипотез нам понадобятся следующие данные датафрейма:\n",
    "* 'Critic_Score' оценка критика\n",
    "* 'Genre' жанр игры\n",
    "* 'Platform' платформа игры"
   ]
  },
  {
   "cell_type": "markdown",
   "metadata": {},
   "source": [
    "Соответственно смыслу столбцов Critic_Score имеет числовый тип данных, а Genre и Platform - object. Также раз по столбцу Critic_Score в .info() определился числовой тип данных, то среди его значений нет нечисловых символов, которыми могут обозначать пропущенные значения:"
   ]
  },
  {
   "cell_type": "code",
   "execution_count": 4,
   "metadata": {
    "scrolled": true
   },
   "outputs": [
    {
     "name": "stdout",
     "output_type": "stream",
     "text": [
      "<class 'pandas.core.frame.DataFrame'>\n",
      "RangeIndex: 55792 entries, 0 to 55791\n",
      "Data columns (total 23 columns):\n",
      " #   Column          Non-Null Count  Dtype  \n",
      "---  ------          --------------  -----  \n",
      " 0   Rank            55792 non-null  int64  \n",
      " 1   Name            55792 non-null  object \n",
      " 2   basename        55792 non-null  object \n",
      " 3   Genre           55792 non-null  object \n",
      " 4   ESRB_Rating     23623 non-null  object \n",
      " 5   Platform        55792 non-null  object \n",
      " 6   Publisher       55792 non-null  object \n",
      " 7   Developer       55775 non-null  object \n",
      " 8   VGChartz_Score  0 non-null      float64\n",
      " 9   Critic_Score    6536 non-null   float64\n",
      " 10  User_Score      335 non-null    float64\n",
      " 11  Total_Shipped   1827 non-null   float64\n",
      " 12  Global_Sales    19415 non-null  float64\n",
      " 13  NA_Sales        12964 non-null  float64\n",
      " 14  PAL_Sales       13189 non-null  float64\n",
      " 15  JP_Sales        7043 non-null   float64\n",
      " 16  Other_Sales     15522 non-null  float64\n",
      " 17  Year            54813 non-null  float64\n",
      " 18  Last_Update     9186 non-null   object \n",
      " 19  url             55792 non-null  object \n",
      " 20  status          55792 non-null  int64  \n",
      " 21  Vgchartzscore   799 non-null    float64\n",
      " 22  img_url         55792 non-null  object \n",
      "dtypes: float64(11), int64(2), object(10)\n",
      "memory usage: 9.8+ MB\n"
     ]
    }
   ],
   "source": [
    "games.info()"
   ]
  },
  {
   "cell_type": "markdown",
   "metadata": {},
   "source": [
    "Посчитаем непустые значения для столбцов:"
   ]
  },
  {
   "cell_type": "code",
   "execution_count": 5,
   "metadata": {},
   "outputs": [],
   "source": [
    "value_count = games.groupby(games.index).count().sum()"
   ]
  },
  {
   "cell_type": "markdown",
   "metadata": {},
   "source": [
    "По оценкам критиков всего 6536 записей из 55792, а информация о жанре и платформе есть для каждой записи:"
   ]
  },
  {
   "cell_type": "code",
   "execution_count": 6,
   "metadata": {
    "scrolled": true
   },
   "outputs": [
    {
     "data": {
      "text/plain": [
       "Genre           55792\n",
       "Platform        55792\n",
       "Critic_Score     6536\n",
       "dtype: int64"
      ]
     },
     "execution_count": 6,
     "metadata": {},
     "output_type": "execute_result"
    }
   ],
   "source": [
    "value_count[value_count.index.isin(['Critic_Score','Genre','Platform'])]"
   ]
  },
  {
   "cell_type": "markdown",
   "metadata": {},
   "source": [
    "Запишем в отдельный датафрейм записи, для которых есть оценка критиков, и далее будем работать с ним:"
   ]
  },
  {
   "cell_type": "code",
   "execution_count": 7,
   "metadata": {},
   "outputs": [
    {
     "data": {
      "text/plain": [
       "(6536, 23)"
      ]
     },
     "execution_count": 7,
     "metadata": {},
     "output_type": "execute_result"
    }
   ],
   "source": [
    "games_crit = games[~games.Critic_Score.isna()]\n",
    "games_crit.shape"
   ]
  },
  {
   "cell_type": "markdown",
   "metadata": {},
   "source": [
    "Судя по значениям столбцов категориальных признаков, \"нестандартных\" пустот вроде \"?\" нет:"
   ]
  },
  {
   "cell_type": "code",
   "execution_count": 8,
   "metadata": {},
   "outputs": [
    {
     "name": "stdout",
     "output_type": "stream",
     "text": [
      "['Sports' 'Platform' 'Racing' 'Role-Playing' 'Misc' 'Party' 'Simulation'\n",
      " 'Action' 'Shooter' 'Action-Adventure' 'Fighting' 'Strategy' 'Adventure'\n",
      " 'MMO' 'Music' 'Puzzle' 'Sandbox' 'Board Game' 'Education' 'Visual Novel']\n",
      "\n",
      "['Wii' 'NES' 'GB' 'DS' 'PC' 'X360' 'SNES' 'PS3' 'PS4' '3DS' 'PS2' 'GBA'\n",
      " 'NS' 'N64' 'PS' 'XOne' 'WiiU' 'XB' 'PSP' 'GC' 'GBC' 'PSN' 'DC' 'PSV'\n",
      " 'SAT' 'GEN' 'XBL' 'VC' 'DSiW' 'WW' 'AJ' 'NGage' 'Linux' 'OSX' 'iOS' 'SCD']\n"
     ]
    }
   ],
   "source": [
    "print(games_crit.Genre.unique())\n",
    "print('')\n",
    "print(games_crit.Platform.unique())"
   ]
  },
  {
   "cell_type": "markdown",
   "metadata": {},
   "source": [
    "Список столбцов без пропусков:"
   ]
  },
  {
   "cell_type": "code",
   "execution_count": 9,
   "metadata": {},
   "outputs": [
    {
     "data": {
      "text/plain": [
       "55792"
      ]
     },
     "execution_count": 9,
     "metadata": {},
     "output_type": "execute_result"
    }
   ],
   "source": [
    "n_rows = games.shape[0]\n",
    "n_rows"
   ]
  },
  {
   "cell_type": "code",
   "execution_count": 10,
   "metadata": {},
   "outputs": [
    {
     "data": {
      "text/plain": [
       "['Rank',\n",
       " 'Name',\n",
       " 'basename',\n",
       " 'Genre',\n",
       " 'Platform',\n",
       " 'Publisher',\n",
       " 'url',\n",
       " 'status',\n",
       " 'img_url']"
      ]
     },
     "execution_count": 10,
     "metadata": {},
     "output_type": "execute_result"
    }
   ],
   "source": [
    "full_columns = list(value_count[value_count.values==n_rows].index)\n",
    "full_columns"
   ]
  },
  {
   "cell_type": "markdown",
   "metadata": {},
   "source": [
    "Проверим наличие дубликатов среди записей, для которых есть оценка критика, для столбцов без пустот:"
   ]
  },
  {
   "cell_type": "code",
   "execution_count": 11,
   "metadata": {
    "scrolled": true
   },
   "outputs": [
    {
     "data": {
      "text/plain": [
       "0        False\n",
       "15630    False\n",
       "15625    False\n",
       "15624    False\n",
       "15616    False\n",
       "         ...  \n",
       "4753     False\n",
       "4743     False\n",
       "4740     False\n",
       "4775     False\n",
       "55653    False\n",
       "Length: 6536, dtype: bool"
      ]
     },
     "execution_count": 11,
     "metadata": {},
     "output_type": "execute_result"
    }
   ],
   "source": [
    "games_crit.duplicated(full_columns, keep=False).sort_values()"
   ]
  },
  {
   "cell_type": "markdown",
   "metadata": {},
   "source": [
    "Проверим дубликаты среди записей, для которых есть оценка критика, для столбцов без пустот кроме Rank:"
   ]
  },
  {
   "cell_type": "code",
   "execution_count": 12,
   "metadata": {
    "scrolled": true
   },
   "outputs": [
    {
     "data": {
      "text/plain": [
       "0        False\n",
       "15630    False\n",
       "15625    False\n",
       "15624    False\n",
       "15616    False\n",
       "         ...  \n",
       "4753     False\n",
       "4743     False\n",
       "4740     False\n",
       "4775     False\n",
       "55653    False\n",
       "Length: 6536, dtype: bool"
      ]
     },
     "execution_count": 12,
     "metadata": {},
     "output_type": "execute_result"
    }
   ],
   "source": [
    "games_crit.duplicated(full_columns.remove('Rank'), keep = False).sort_values()"
   ]
  },
  {
   "cell_type": "markdown",
   "metadata": {},
   "source": [
    "Дубликатов нет."
   ]
  },
  {
   "cell_type": "markdown",
   "metadata": {},
   "source": [
    "Посчитаем статистики для единственного из интересующих нас столбцов с числовыми значениями. Судя по результатам выбросов или неадекватных значений нет:"
   ]
  },
  {
   "cell_type": "code",
   "execution_count": 13,
   "metadata": {
    "scrolled": true
   },
   "outputs": [
    {
     "data": {
      "text/plain": [
       "count    6536.000000\n",
       "mean        7.213709\n",
       "std         1.454079\n",
       "min         1.000000\n",
       "25%         6.400000\n",
       "50%         7.500000\n",
       "75%         8.300000\n",
       "max        10.000000\n",
       "Name: Critic_Score, dtype: float64"
      ]
     },
     "execution_count": 13,
     "metadata": {},
     "output_type": "execute_result"
    }
   ],
   "source": [
    "games_crit['Critic_Score'].describe()"
   ]
  },
  {
   "cell_type": "markdown",
   "metadata": {},
   "source": [
    "<a href=\"#0\"><h4>Наверх</h4></a>"
   ]
  },
  {
   "cell_type": "markdown",
   "metadata": {},
   "source": [
    "<p id=\"2\">\n",
    "<h4>Как критики относятся к спортивным играм?</h4>"
   ]
  },
  {
   "cell_type": "markdown",
   "metadata": {},
   "source": [
    "Посмотрим, какие значения принимает столбец с жанрами и их частоты. В данном вопросе нас интересуют спортивные игры, которые в данных обозначены как \"Sports\". В наших данных критики оценили 688 спортивных игр:"
   ]
  },
  {
   "cell_type": "code",
   "execution_count": 14,
   "metadata": {
    "scrolled": false
   },
   "outputs": [
    {
     "data": {
      "text/plain": [
       "Action              1024\n",
       "Role-Playing         857\n",
       "Shooter              843\n",
       "Sports               688\n",
       "Platform             564\n",
       "Racing               463\n",
       "Adventure            394\n",
       "Strategy             369\n",
       "Misc                 338\n",
       "Fighting             328\n",
       "Puzzle               285\n",
       "Simulation           229\n",
       "Action-Adventure      99\n",
       "Music                 25\n",
       "Party                 15\n",
       "MMO                   10\n",
       "Visual Novel           2\n",
       "Sandbox                1\n",
       "Board Game             1\n",
       "Education              1\n",
       "Name: Genre, dtype: int64"
      ]
     },
     "execution_count": 14,
     "metadata": {},
     "output_type": "execute_result"
    }
   ],
   "source": [
    "games_crit.Genre.value_counts()"
   ]
  },
  {
   "cell_type": "markdown",
   "metadata": {},
   "source": [
    "Предположу, что критикам не очень нравятся спортивные игры, что выражается в средней оценке менее 8 баллов. Сформулируем гипотезы:<br>\n",
    "* Нулевая гипотеза: средняя оценка критиков по спортивным играм  8 баллов и выше.\n",
    "* Альтернативная: средняя оценка критиков по спортивным играм меньше 8 баллов."
   ]
  },
  {
   "cell_type": "markdown",
   "metadata": {},
   "source": [
    "Выделим оценки критиков по спортивным играм:"
   ]
  },
  {
   "cell_type": "code",
   "execution_count": 15,
   "metadata": {},
   "outputs": [
    {
     "data": {
      "text/plain": [
       "(688,)"
      ]
     },
     "execution_count": 15,
     "metadata": {},
     "output_type": "execute_result"
    }
   ],
   "source": [
    "crit_sport = games_crit.loc[games_crit.Genre == 'Sports']['Critic_Score']\n",
    "crit_sport.shape"
   ]
  },
  {
   "cell_type": "markdown",
   "metadata": {},
   "source": [
    "Средняя оценка критиков по спортивным играм в наших данных составляет 7.3:"
   ]
  },
  {
   "cell_type": "code",
   "execution_count": 16,
   "metadata": {},
   "outputs": [
    {
     "data": {
      "text/plain": [
       "7.291424418604655"
      ]
     },
     "execution_count": 16,
     "metadata": {},
     "output_type": "execute_result"
    }
   ],
   "source": [
    "crit_sport.mean()"
   ]
  },
  {
   "cell_type": "markdown",
   "metadata": {},
   "source": [
    "Посмотрим распределение этих оценок.\n",
    "* Распределение скошено влево, значит высокие оценки ставят чаще чем низкие. По форме распределение выглядит не совсем нормально, но так как выборка немаленького размера - 688 наблюдений, то положимся на ЦПТ и будем считать распределение средних оценок спортивных игр нормальным.\n",
    "* Боксплот также отражает скошенность влево и близость среднего к верхнему краю значений."
   ]
  },
  {
   "cell_type": "code",
   "execution_count": 17,
   "metadata": {
    "scrolled": true
   },
   "outputs": [
    {
     "data": {
      "image/png": "[encoded data removed]",
      "text/plain": [
       "<Figure size 864x360 with 2 Axes>"
      ]
     },
     "metadata": {
      "needs_background": "light"
     },
     "output_type": "display_data"
    }
   ],
   "source": [
    "plt.figure(figsize = (12, 5)) \n",
    "plt.subplot(1,2,1)\n",
    "sns.boxplot(y = crit_sport);\n",
    "plt.title('Sports');\n",
    "plt.subplot(1,2,2)\n",
    "plt.hist(crit_sport);\n",
    "plt.title('Sports');"
   ]
  },
  {
   "cell_type": "markdown",
   "metadata": {},
   "source": [
    "Признак количественный. Распределение средних оценок спортивных игр считаем нормальным. Выборка одна, сравнение с константой. Используем Т-тест односторонний, так как нам важно направление.\n",
    "Уровень значимости здесь и далее возьмем общепринятый 5%."
   ]
  },
  {
   "cell_type": "code",
   "execution_count": 18,
   "metadata": {},
   "outputs": [
    {
     "data": {
      "text/plain": [
       "Ttest_1sampResult(statistic=-12.636478781984286, pvalue=2.3162780528973857e-33)"
      ]
     },
     "execution_count": 18,
     "metadata": {},
     "output_type": "execute_result"
    }
   ],
   "source": [
    "stats.ttest_1samp(a = crit_sport, popmean = 8, alternative = 'less')"
   ]
  },
  {
   "cell_type": "markdown",
   "metadata": {},
   "source": [
    "* При условии, что Н0 верна (т.е. критики в среднем оценивают спортивные игры на 8 баллов и выше), данные показывают очень маловероятные результаты. \n",
    "* При условии, что Н0 верна, вероятность полученного (или более экстремального) значения тестовой статистики по сути равна 0.\n",
    "* По нашим данным аргументов в пользу H0 практически нет.\n",
    "* Отвергаем Н0 в пользу Н1.\n",
    "* Выборочное среднее 7.3. По тесту это статистически значимое отклонение от 8 в меньшую сторону. Пожалуй, с практической точки зрения эту разницу тоже можно считать значимой.\n",
    "* Критики в среднем не высоко оценивают спортивные игры, средняя оценка критиков меньше 8."
   ]
  },
  {
   "cell_type": "markdown",
   "metadata": {},
   "source": [
    "<a href=\"#0\"><h4>Наверх</h4></a>"
   ]
  },
  {
   "cell_type": "markdown",
   "metadata": {},
   "source": [
    "<p id=\"3\">\n",
    "<h4>Критикам нравятся больше игры на PC или на PS4?</h4>"
   ]
  },
  {
   "cell_type": "markdown",
   "metadata": {},
   "source": [
    "Посмотрим, какие значения принимает столбец с платформами и их частоты. В данном вопросе нас интересуют PC и PS4, которые в данных так и обозначены. В наших данных критики оценили 865 игр на PC и 109 игр на PS4:"
   ]
  },
  {
   "cell_type": "code",
   "execution_count": 19,
   "metadata": {
    "scrolled": true
   },
   "outputs": [
    {
     "data": {
      "text/plain": [
       "PC       865\n",
       "X360     626\n",
       "PS3      498\n",
       "PSP      415\n",
       "PS2      381\n",
       "GBA      380\n",
       "PSN      359\n",
       "Wii      347\n",
       "GC       330\n",
       "XBL      328\n",
       "DS       319\n",
       "PS       267\n",
       "DC       246\n",
       "3DS      222\n",
       "XB       132\n",
       "NS       130\n",
       "PS4      109\n",
       "N64      102\n",
       "WW        84\n",
       "WiiU      78\n",
       "VC        70\n",
       "XOne      57\n",
       "NGage     45\n",
       "DSiW      41\n",
       "SNES      27\n",
       "GB        25\n",
       "SAT       21\n",
       "PSV        7\n",
       "GBC        6\n",
       "SCD        5\n",
       "NES        4\n",
       "GEN        3\n",
       "iOS        3\n",
       "OSX        2\n",
       "AJ         1\n",
       "Linux      1\n",
       "Name: Platform, dtype: int64"
      ]
     },
     "execution_count": 19,
     "metadata": {},
     "output_type": "execute_result"
    }
   ],
   "source": [
    "games_crit.Platform.value_counts()"
   ]
  },
  {
   "cell_type": "markdown",
   "metadata": {},
   "source": [
    "Предположу, что критикам больше нравятся игры на РС чем на PS4, что выражается в более высокой средней оценке игр на РС по сравнению с играми на PS4. Сформулируем гипотезы:<br>\n",
    "* Нулевая гипотеза: средняя оценка критиков по играм на РС равна или ниже, чем средняя оценка критиков по играм на PS4.\n",
    "* Альтернативная: средняя оценка критиков по играм на РС выше, чем средняя оценка критиков по играм на PS4."
   ]
  },
  {
   "cell_type": "markdown",
   "metadata": {},
   "source": [
    "Разделим оценки критиков по играм на разных платформах:"
   ]
  },
  {
   "cell_type": "code",
   "execution_count": 20,
   "metadata": {},
   "outputs": [
    {
     "name": "stdout",
     "output_type": "stream",
     "text": [
      "(865,)\n",
      "(109,)\n"
     ]
    }
   ],
   "source": [
    "crit_pc = games_crit.loc[games_crit.Platform == 'PC']['Critic_Score']\n",
    "crit_ps4 = games_crit.loc[games_crit.Platform == 'PS4']['Critic_Score']\n",
    "print(crit_pc.shape)\n",
    "print(crit_ps4.shape)"
   ]
  },
  {
   "cell_type": "markdown",
   "metadata": {},
   "source": [
    "Средняя оценка критиков по PC в наших данных чуть ниже чем по PS4: 7.5 vs. 7.9:"
   ]
  },
  {
   "cell_type": "code",
   "execution_count": 21,
   "metadata": {
    "scrolled": true
   },
   "outputs": [
    {
     "name": "stdout",
     "output_type": "stream",
     "text": [
      "средняя оценка для pc 7.541849710982658\n",
      "средняя оценка для ps4 7.904587155963299\n"
     ]
    }
   ],
   "source": [
    "print('средняя оценка для pc', crit_pc.mean())\n",
    "print('средняя оценка для ps4', crit_ps4.mean())"
   ]
  },
  {
   "cell_type": "markdown",
   "metadata": {},
   "source": [
    "Посмотрим распределение этих оценок.\n",
    "* Распределения скошены влево, выглядят не совсем нормально, но так как выборки немаленького размера - 865 и 109 наблюдений, то положимся на ЦПТ и будем считать распределения средних оценок игр на РС и игр на PS4 нормальными.\n",
    "* Боксплоты также отражает скошенность влево и близость средних к верхнему краю значений."
   ]
  },
  {
   "cell_type": "code",
   "execution_count": 22,
   "metadata": {
    "scrolled": true
   },
   "outputs": [
    {
     "data": {
      "image/png": "[encoded data removed]",
      "text/plain": [
       "<Figure size 864x504 with 4 Axes>"
      ]
     },
     "metadata": {
      "needs_background": "light"
     },
     "output_type": "display_data"
    }
   ],
   "source": [
    "plt.figure(figsize = (12, 7)) \n",
    "plt.subplot(2,2,1)\n",
    "sns.boxplot(y = crit_pc);\n",
    "plt.title('PC');\n",
    "plt.subplot(2,2,2)\n",
    "sns.boxplot(y = crit_ps4);\n",
    "plt.title('PS4');\n",
    "plt.subplot(2,2,3)\n",
    "plt.hist(crit_pc);\n",
    "plt.title('PC');\n",
    "plt.subplot(2,2,4)\n",
    "plt.hist(crit_ps4);\n",
    "plt.title('PS4');"
   ]
  },
  {
   "cell_type": "markdown",
   "metadata": {},
   "source": [
    "Признак количественный. Распределения средних оценок игр на РС и PS4 считаем нормальными. Две независимых выборки, сравниваем два средних. Используем Т-тест для независимых выборок, односторонний, так как нам важно направление."
   ]
  },
  {
   "cell_type": "markdown",
   "metadata": {},
   "source": [
    "Равны ли дисперсии оценок игр на PC и PS4? Разница между выборочными стандартными отклонениями 12%. Есть мнение, что при разнице больше 5 % считать дисперсии неравными. Есть отдельная группа тестов для проверки равенства дисперсий. Есть мнение, что поправка Уэлча для профилактики не должна навредить. Есть мнение, что использование поправки в случае, когда дисперсии равны, увеличивает вероятность ошибки 2го рода (не отвергнуть некорректную нулевую). В документации теста ttest_ind сказано, что в случае неравных дисперсий, отсутствие поправки занижает р значение. Опираясь на разницу между ср.кв.откл в 12 %, сделаем поправку Уэлча и попробуем учесть все остальные \"но\" при интерпретации."
   ]
  },
  {
   "cell_type": "code",
   "execution_count": 23,
   "metadata": {},
   "outputs": [
    {
     "name": "stdout",
     "output_type": "stream",
     "text": [
      "ско оценок для pc  1.435191399217218\n",
      "ско оценок для ps4  1.2851275567977332\n",
      "относительная разница ско  0.11676960907554759\n"
     ]
    }
   ],
   "source": [
    "print('ско оценок для pc ', crit_pc.std())\n",
    "print('ско оценок для ps4 ', crit_ps4.std())\n",
    "print('относительная разница ско ', (crit_pc.std() - crit_ps4.std()) / crit_ps4.std())"
   ]
  },
  {
   "cell_type": "code",
   "execution_count": 24,
   "metadata": {
    "scrolled": true
   },
   "outputs": [
    {
     "name": "stdout",
     "output_type": "stream",
     "text": [
      "-2.7394476056351627 0.996534095874873\n"
     ]
    }
   ],
   "source": [
    "t,p = stats.ttest_ind(crit_pc, crit_ps4, alternative = 'greater', equal_var = False)\n",
    "print(t,p)"
   ]
  },
  {
   "cell_type": "markdown",
   "metadata": {},
   "source": [
    "* При условии, что Н0 верна (т.е. критики в среднем оценивают игры РС также как PS4 или хуже), данные не противоречат Н0. \n",
    "* При условии, что Н0 верна, вероятность полученного (или более экстремального) значения тестовой статистики равна почти 100%.\n",
    "* По нашим данным более чем достаточно аргументов в пользу H0.\n",
    "* Не отвергаем Н0 в пользу Н1.\n",
    "* Выборочные средние 7.5 (PC) и 7.9 (PS4). По тесту средняя оценка PC не отличается статистически значимо в большую сторону от средней оценки PS4. Пожалуй, с практической точки зрения эту разницу тоже можно считать незначимой.\n",
    "* Критики в среднем оценивают игры РС также как PS4 или хуже."
   ]
  },
  {
   "cell_type": "markdown",
   "metadata": {},
   "source": [
    "По итогам теста мы не отвергаем нулевую, поэтому риск повышенной ошибки 2 рода для нас тут актуален. Но р-значение настолько большое, что в данном случае его завышенность значения не имеет. Можем для проверки провести тест без поправки, хотя в статистике так не принято и это считается р-хаккингом. Отсутствие поправки на тест практически не повлияло:"
   ]
  },
  {
   "cell_type": "code",
   "execution_count": 25,
   "metadata": {
    "scrolled": true
   },
   "outputs": [
    {
     "name": "stdout",
     "output_type": "stream",
     "text": [
      "-2.5145460239776942 0.9939604628953504\n"
     ]
    }
   ],
   "source": [
    "t,p = stats.ttest_ind(crit_pc, crit_ps4, alternative = 'greater')\n",
    "print(t,p)"
   ]
  },
  {
   "cell_type": "markdown",
   "metadata": {},
   "source": [
    "<a href=\"#0\"><h4>Наверх</h4></a>"
   ]
  },
  {
   "cell_type": "markdown",
   "metadata": {},
   "source": [
    "<p id=\"4\">\n",
    "<h4>Критикам больше нравятся стрелялки или стратегии?</h4>"
   ]
  },
  {
   "cell_type": "markdown",
   "metadata": {},
   "source": [
    "Вернемся к столбцу с жанрами. В данном вопросе нас интересуют стрелялки и стратегии, которые в данных обозначены как \"Shooter\" и \"Strategy\". В наших данных критики оценили 843 стрелялки и 369 стратегий:"
   ]
  },
  {
   "cell_type": "code",
   "execution_count": 26,
   "metadata": {},
   "outputs": [
    {
     "data": {
      "text/plain": [
       "Action              1024\n",
       "Role-Playing         857\n",
       "Shooter              843\n",
       "Sports               688\n",
       "Platform             564\n",
       "Racing               463\n",
       "Adventure            394\n",
       "Strategy             369\n",
       "Misc                 338\n",
       "Fighting             328\n",
       "Puzzle               285\n",
       "Simulation           229\n",
       "Action-Adventure      99\n",
       "Music                 25\n",
       "Party                 15\n",
       "MMO                   10\n",
       "Visual Novel           2\n",
       "Sandbox                1\n",
       "Board Game             1\n",
       "Education              1\n",
       "Name: Genre, dtype: int64"
      ]
     },
     "execution_count": 26,
     "metadata": {},
     "output_type": "execute_result"
    }
   ],
   "source": [
    "games_crit.Genre.value_counts()"
   ]
  },
  {
   "cell_type": "markdown",
   "metadata": {},
   "source": [
    "Предположу, что критикам больше нравятся стрелялки, чем стратегии, что выражается в более высокой средней оценке стрелялок по сравнению со стратегиями. Сформулируем гипотезы:<br><br>\n",
    "* Нулевая гипотеза: средняя оценка критиков по стрелялкам равна или ниже, чем средняя оценка критиков по стратегиям.\n",
    "* Альтернативная: средняя оценка критиков по стрелялкам выше, чем средняя оценка критиков по стратегиям."
   ]
  },
  {
   "cell_type": "markdown",
   "metadata": {},
   "source": [
    "Разделим оценки критиков по играм разных жанров:"
   ]
  },
  {
   "cell_type": "code",
   "execution_count": 27,
   "metadata": {},
   "outputs": [
    {
     "name": "stdout",
     "output_type": "stream",
     "text": [
      "(843,)\n",
      "(369,)\n"
     ]
    }
   ],
   "source": [
    "crit_shoot = games_crit.loc[games_crit.Genre == 'Shooter']['Critic_Score']\n",
    "crit_strat = games_crit.loc[games_crit.Genre == 'Strategy']['Critic_Score']\n",
    "print(crit_shoot.shape)\n",
    "print(crit_strat.shape)"
   ]
  },
  {
   "cell_type": "markdown",
   "metadata": {},
   "source": [
    "Средняя оценка критиков по стрелялкам в наших данных ниже чем по стратегиям: 7.28 vs. 7.42:"
   ]
  },
  {
   "cell_type": "code",
   "execution_count": 28,
   "metadata": {},
   "outputs": [
    {
     "name": "stdout",
     "output_type": "stream",
     "text": [
      "средняя оценка стрелялок  7.2868327402135264\n",
      "средняя оценка стратегий  7.429268292682925\n"
     ]
    }
   ],
   "source": [
    "print('средняя оценка стрелялок ', crit_shoot.mean())\n",
    "print('средняя оценка стратегий ', crit_strat.mean())"
   ]
  },
  {
   "cell_type": "markdown",
   "metadata": {},
   "source": [
    "Посмотрим распределение этих оценок.\n",
    "* Распределения скошены влево, выглядят не совсем нормально, но так как выборки немаленького размера - 843 и 369 наблюдений, то положимся на ЦПТ и будем считать распределения средних оценок стрелялок и стратегий нормальными.\n",
    "* Боксплоты также отражает скошенность влево и близость средних к верхнему краю значений."
   ]
  },
  {
   "cell_type": "code",
   "execution_count": 29,
   "metadata": {},
   "outputs": [
    {
     "data": {
      "image/png": "[encoded data removed]",
      "text/plain": [
       "<Figure size 864x504 with 4 Axes>"
      ]
     },
     "metadata": {
      "needs_background": "light"
     },
     "output_type": "display_data"
    }
   ],
   "source": [
    "plt.figure(figsize = (12, 7)) \n",
    "plt.subplot(2,2,1)\n",
    "sns.boxplot(y = crit_shoot);\n",
    "plt.title('Shooter');\n",
    "plt.subplot(2,2,2)\n",
    "sns.boxplot(y = crit_strat);\n",
    "plt.title('Strategy');\n",
    "plt.subplot(2,2,3)\n",
    "plt.hist(crit_shoot);\n",
    "plt.title('Shooter');\n",
    "plt.subplot(2,2,4)\n",
    "plt.hist(crit_strat);\n",
    "plt.title('Strategy');"
   ]
  },
  {
   "cell_type": "markdown",
   "metadata": {},
   "source": [
    "Признак количественный. Распределения средних оценок стрелялок и стратегий считаем нормальными. Две независимых выборки, сравниваем два средних. Используем Т-тест для независимых выборок, односторонний, так как нам важно направление."
   ]
  },
  {
   "cell_type": "markdown",
   "metadata": {},
   "source": [
    "Равны ли дисперсии оценок стрелялок и стратегий? Разница между выборочными стандартными отклонениями 7 %. Опираясь на разницу между ср.кв.откл в 7 %, не будем делать поправку Уэлча и попробуем учесть все остальные \"но\" при интерпретации:"
   ]
  },
  {
   "cell_type": "code",
   "execution_count": 30,
   "metadata": {},
   "outputs": [
    {
     "name": "stdout",
     "output_type": "stream",
     "text": [
      "ско оценок стрелялок  1.4923414319201953\n",
      "ско оценок стратегий  1.3865854824373596\n",
      "относительная разница ско  0.07627077509634417\n"
     ]
    }
   ],
   "source": [
    "print('ско оценок стрелялок ',crit_shoot.std())\n",
    "print('ско оценок стратегий ',crit_strat.std())\n",
    "print('относительная разница ско ',(crit_shoot.std() - crit_strat.std()) / crit_strat.std())"
   ]
  },
  {
   "cell_type": "code",
   "execution_count": 31,
   "metadata": {},
   "outputs": [
    {
     "name": "stdout",
     "output_type": "stream",
     "text": [
      "-1.5618791808752566 0.9407110290333128\n"
     ]
    }
   ],
   "source": [
    "t,p = stats.ttest_ind(crit_shoot, crit_strat, alternative = 'greater')\n",
    "print(t,p)"
   ]
  },
  {
   "cell_type": "markdown",
   "metadata": {},
   "source": [
    "* При условии, что Н0 верна (т.е. критики в среднем оценивают стрелялки также как стратегии или хуже), данные не противоречат Н0. \n",
    "* При условии, что Н0 верна, вероятность полученного значения (или более экстремального) тестовой статистики равна почти 95%.\n",
    "* По нашим данным более чем достаточно аргументов в пользу H0.\n",
    "* Не отвергаем Н0 в пользу Н1.\n",
    "* Выборочные средние 7.28 (стрелялки) и 7.42 (стратегии). По тесту средняя оценка стрелялок не отличается статистически значимо в большую сторону от средней оценки стратегий. Пожалуй, с практической точки зрения эту разницу тоже можно считать незначимой.\n",
    "* Критики в среднем оценивают стрелялки также как стратегии или хуже."
   ]
  },
  {
   "cell_type": "markdown",
   "metadata": {},
   "source": [
    "Так как поправку не сделали, то есть риск, что р-значение занижено, если дисперсии на самом деле не равны. Но р-значение настолько большое, что в данном случае его заниженность значения не имеет. Можем для проверки провести тест с поправкой, хотя в статистике так не принято и это считается р-хаккингом. Наличие поправки на тест практически не повлияло:"
   ]
  },
  {
   "cell_type": "code",
   "execution_count": 32,
   "metadata": {},
   "outputs": [
    {
     "name": "stdout",
     "output_type": "stream",
     "text": [
      "-1.6073949711166526 0.9458060679288847\n"
     ]
    }
   ],
   "source": [
    "t,p = stats.ttest_ind(crit_shoot, crit_strat, alternative = 'greater', equal_var = False)\n",
    "print(t,p)"
   ]
  },
  {
   "cell_type": "markdown",
   "metadata": {},
   "source": [
    "<a href=\"#0\"><h4>Наверх</h4></a>"
   ]
  }
 ],
 "metadata": {
  "kernelspec": {
   "display_name": "Python 3 (ipykernel)",
   "language": "python",
   "name": "python3"
  },
  "language_info": {
   "codemirror_mode": {
    "name": "ipython",
    "version": 3
   },
   "file_extension": ".py",
   "mimetype": "text/x-python",
   "name": "python",
   "nbconvert_exporter": "python",
   "pygments_lexer": "ipython3",
   "version": "3.8.12"
  }
 },
 "nbformat": 4,
 "nbformat_minor": 4
}
