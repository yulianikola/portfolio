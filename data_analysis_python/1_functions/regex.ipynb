{
 "cells": [
  {
   "cell_type": "markdown",
   "metadata": {},
   "source": [
    "### Функции и регулярные выражения"
   ]
  },
  {
   "cell_type": "markdown",
   "metadata": {},
   "source": [
    "#### Задание 1\n",
    "\n",
    "Напишите функцию, которая принимает на вход строку и проверяет является ли она валидным транспортным номером (1 буква, 3 цифры, 2 буквы, 2-3 цифры). Обратите внимание, что не все буквы кириллического алфавита используются в транспортных номерах.\n",
    "Если номер валиден, то функция должна возвращать отдельно номер и регион.\n",
    "Примеры работы программы: \n",
    "\n",
    "`car_id = 'А222BС96'`\n",
    "\n",
    "Результат: \n",
    "`Номер А222BС валиден. Регион: 96`"
   ]
  },
  {
   "cell_type": "code",
   "execution_count": 1,
   "metadata": {},
   "outputs": [],
   "source": [
    "import re"
   ]
  },
  {
   "cell_type": "code",
   "execution_count": 2,
   "metadata": {},
   "outputs": [],
   "source": [
    "def valid_car_id(car_id):\n",
    "    \n",
    "    '''\n",
    "    Функция проверяет строку car_id на соответствие шаблону с помощью регулярного выражения.\n",
    "    Если соответствует, то выводит раздельно номер и регион.\n",
    "    Если нет - соответствующее сообщение.\n",
    "    Шаблон: одна из допустимых букв, три цифры, две допустимых буквы, две-три цифры.\n",
    "    Часть \"одна из допустимых букв, три цифры, две допустимых буквы\" выделяется в отдельную группу, это номер.\n",
    "    Часть \"две-три цифры\" выделяется в отдельную группу, это регион.\n",
    "    '''\n",
    "    \n",
    "    letters_allowed = 'АВЕКМНОРСТУХ' # кириллица\n",
    "    car_id_val = re.findall(r'([' + letters_allowed + ']\\d{3}[' + letters_allowed + ']{2})(\\d{2,3})',car_id.upper())\n",
    "    if car_id_val:\n",
    "        print(f'Номер {car_id_val[0][0]} валиден. Регион: {car_id_val[0][1]}')\n",
    "    else:\n",
    "        print('Номер не валиден')"
   ]
  },
  {
   "cell_type": "code",
   "execution_count": 3,
   "metadata": {},
   "outputs": [
    {
     "name": "stdout",
     "output_type": "stream",
     "text": [
      "Номер не валиден\n"
     ]
    }
   ],
   "source": [
    "car_id = 'АБ22ВВ193'\n",
    "valid_car_id(car_id)"
   ]
  },
  {
   "cell_type": "code",
   "execution_count": 4,
   "metadata": {},
   "outputs": [
    {
     "name": "stdout",
     "output_type": "stream",
     "text": [
      "Номер А222ВС валиден. Регион: 96\n"
     ]
    }
   ],
   "source": [
    "car_id = 'А222ВС96' # буквы на кириллице\n",
    "valid_car_id(car_id)"
   ]
  },
  {
   "cell_type": "code",
   "execution_count": 5,
   "metadata": {},
   "outputs": [
    {
     "name": "stdout",
     "output_type": "stream",
     "text": [
      "Номер не валиден\n"
     ]
    }
   ],
   "source": [
    "car_id = 'A222BC95'  # буквы на латинице\n",
    "valid_car_id(car_id)"
   ]
  },
  {
   "cell_type": "markdown",
   "metadata": {},
   "source": [
    "#### Задание 2\n",
    "\n",
    "Напишите функцию, которая будет удалять все последовательные повторы слов из заданной строки при помощи регулярных выражений.\n",
    "Пример работы программы:\n",
    "\n",
    "`some_string = 'Напишите функцию функцию, которая будет будет будет будет удалять все все все все последовательные повторы слов из из из из заданной строки строки при помощи регулярных выражений'`\n",
    "\n",
    "Результат: \n",
    "`Напишите функцию, которая будет удалять все последовательные повторы слов из заданной строки при помощи регулярных выражений.`"
   ]
  },
  {
   "cell_type": "code",
   "execution_count": 6,
   "metadata": {},
   "outputs": [],
   "source": [
    "def excl_double(text):\n",
    "    \n",
    "    '''\n",
    "    Функция в строке text находит подряд повторящиеся слова и заменяет их на одно слово.\n",
    "    Шаблон поиска повторов: какое-то кол-во букв, пробел, та же комбинация букв (минимум 1 раз).\n",
    "    Замена на одну такую комбинацию букв.\n",
    "    Возвращает строку text с осуществленными заменами.\n",
    "    '''  \n",
    "    \n",
    "    return re.sub(r'(\\w+)(\\s\\1)+',r'\\1',text)"
   ]
  },
  {
   "cell_type": "code",
   "execution_count": 7,
   "metadata": {},
   "outputs": [
    {
     "data": {
      "text/plain": [
       "'Напишите функцию, которая будет удалять все последовательные повторы слов из заданной строки при помощи регулярных выражений'"
      ]
     },
     "execution_count": 7,
     "metadata": {},
     "output_type": "execute_result"
    }
   ],
   "source": [
    "some_string = 'Напишите функцию функцию, которая будет будет будет будет \\\n",
    "удалять все все все все последовательные повторы слов из из из из заданной строки строки при помощи регулярных выражений'\n",
    "excl_double(some_string)"
   ]
  },
  {
   "cell_type": "markdown",
   "metadata": {},
   "source": [
    "#### Задание 3\n",
    "\n",
    "Напишите функцию, которая будет возвращать акроним по переданной в нее строке со словами.\n",
    "Примеры работы программы:  \n",
    "\n",
    "`some_words = 'Информационные технологии'`\n",
    "\n",
    "Результат: \n",
    "`ИТ`"
   ]
  },
  {
   "cell_type": "markdown",
   "metadata": {},
   "source": [
    "Вариант 1 (поиск шаблона)"
   ]
  },
  {
   "cell_type": "code",
   "execution_count": 8,
   "metadata": {},
   "outputs": [],
   "source": [
    "def akronym(words):\n",
    "    \n",
    "    '''\n",
    "    Функция делает все буквы в строке words заглавными, находит первые буквы слов и объединяет их в единую строку.\n",
    "    Шаблон поиска: одна буква после границы слова.\n",
    "    Возвращает строку из объединенных первых букв.\n",
    "    '''\n",
    "    \n",
    "    return ''.join(re.findall(r'\\b\\w',words.upper()))"
   ]
  },
  {
   "cell_type": "markdown",
   "metadata": {},
   "source": [
    "Вариант 2 (замена)"
   ]
  },
  {
   "cell_type": "code",
   "execution_count": 9,
   "metadata": {},
   "outputs": [],
   "source": [
    "def akronym_2(words):\n",
    "    \n",
    "    '''\n",
    "    Функция в строке words находит слова, заменяет их на первую букву слова, делает все буквы заглавными.\n",
    "    Шаблон поиска: одна буква (выделяется в отдельную группу), минимум одна буква, пробел или нет.\n",
    "    Замена на: букву выделенную в отдельную группу.\n",
    "    Возвращает строку words с осуществленными заменами.\n",
    "    '''\n",
    "    \n",
    "    return re.sub(r'(\\w)\\w+\\s?',r'\\1',words).upper()"
   ]
  },
  {
   "cell_type": "code",
   "execution_count": 10,
   "metadata": {},
   "outputs": [
    {
     "data": {
      "text/plain": [
       "'NFC'"
      ]
     },
     "execution_count": 10,
     "metadata": {},
     "output_type": "execute_result"
    }
   ],
   "source": [
    "some_words = 'Near Field Communication'\n",
    "akronym(some_words)"
   ]
  },
  {
   "cell_type": "code",
   "execution_count": 11,
   "metadata": {},
   "outputs": [
    {
     "data": {
      "text/plain": [
       "'ИТ'"
      ]
     },
     "execution_count": 11,
     "metadata": {},
     "output_type": "execute_result"
    }
   ],
   "source": [
    "some_words = 'Информационные технологии'\n",
    "akronym_2(some_words)"
   ]
  },
  {
   "cell_type": "markdown",
   "metadata": {},
   "source": [
    "#### Задание 4\n",
    "\n",
    "Напишите функцию, которая будет принимать на вход список email-адресов и выводить их распределение по доменным зонам.\n",
    "Пример работы программы:  \n",
    "\n",
    "`emails = ['test@gmail.com, xyz@test.in, test@ya.ru, xyz@mail.ru, xyz@ya.ru', xyz@gmail.com]`\n",
    "\n",
    "Результат: \n",
    "```\n",
    "gmail.com: 2\n",
    "test.in: 1 \n",
    "ya.ru: 2 \n",
    "mail.ru: 1\n",
    "```"
   ]
  },
  {
   "cell_type": "code",
   "execution_count": 12,
   "metadata": {},
   "outputs": [],
   "source": [
    "def domain_distr(emails):\n",
    "    \n",
    "    '''\n",
    "    Функция для каждого элемента списка emails ищет шаблон домена,\n",
    "    если такого домена еще нет в словаре domain_dict, то добавляет и в качестве значения 1,\n",
    "    если такой домен уже есть, то к его значению +1.\n",
    "    Возвращает словарь domain_dict с доменами и их частотой.\n",
    "    Шаблон для поиска: какое-то кол-во букв, точка, какое-то кол-во букв,\n",
    "    и эта комбинация должна следовать после символа @.\n",
    "    '''\n",
    "    \n",
    "    domain_dict ={}\n",
    "    for email in emails:\n",
    "        if re.findall(r'(?<=@)\\w+\\.\\w+',email)[0] not in domain_dict:\n",
    "            domain_dict[re.findall(r'(?<=@)\\w+\\.\\w+',email)[0]] = 1\n",
    "        else:\n",
    "            domain_dict[re.findall(r'(?<=@)\\w+\\.\\w+',email)[0]] += 1\n",
    "    return domain_dict"
   ]
  },
  {
   "cell_type": "code",
   "execution_count": 13,
   "metadata": {},
   "outputs": [
    {
     "data": {
      "text/plain": [
       "{'gmail.com': 2, 'test.in': 1, 'ya.ru': 2, 'mail.ru': 1}"
      ]
     },
     "execution_count": 13,
     "metadata": {},
     "output_type": "execute_result"
    }
   ],
   "source": [
    "emails = ['test@gmail.com', 'xyz@test.in', 'test@ya.ru', 'xyz@mail.ru', 'xyz@ya.ru', 'xyz@gmail.com']\n",
    "domain_distr(emails)"
   ]
  },
  {
   "cell_type": "markdown",
   "metadata": {},
   "source": [
    "#### Задание 5\n",
    "\n",
    "Напишите функцию, которая будет подсчитывать сколько слов начинается на гласные, а сколько на согласные буквы в тексте (текст может быть написан как с использованием букв кириллицы, так и латиницы). Пример работы программы:  \n",
    "\n",
    "`some_text = 'Эталонной реализацией Python является интерпретатор CPython, поддерживающий большинство активно используемых платформ. Он распространяется под свободной лицензией Python Software Foundation License, позволяющей использовать его без ограничений в любых приложениях, включая проприетарные.'`\n",
    "\n",
    "Результат: \n",
    "```\n",
    "Слов на гласные буквы: 9\n",
    "Слов на согласные буквы: 21 \n",
    "```"
   ]
  },
  {
   "cell_type": "code",
   "execution_count": 14,
   "metadata": {},
   "outputs": [],
   "source": [
    "def vow_cons(text):\n",
    "    \n",
    "    '''\n",
    "    Функция в строке text ищет согласные и гласные в начале слов\n",
    "    и записывает их в списки vow_list и cons_list.\n",
    "    Выводит длину этих списков, то есть кол-во слов на гласные и согласные.\n",
    "    Шаблон поиска: одна из перечня согласных/гласных букв (латиница+кириллица) после границы слова,\n",
    "    какое-то кол-во букв - без учета регистра.    \n",
    "    '''\n",
    "    \n",
    "    vow_list = re.findall(r'\\b[аеёиоуыэюяaeiouy]\\w+',text, flags = re.I)\n",
    "    cons_list = re.findall(r'\\b[^аеёиоуыэюяaeiouy\\s]\\w+',text, flags = re.I)\n",
    "    print(f'Слов на гласные буквы: {len(vow_list)}')\n",
    "    print(f'Слов на согласные буквы: {len(cons_list)}')"
   ]
  },
  {
   "cell_type": "code",
   "execution_count": 15,
   "metadata": {},
   "outputs": [
    {
     "name": "stdout",
     "output_type": "stream",
     "text": [
      "Слов на гласные буквы: 9\n",
      "Слов на согласные буквы: 20\n"
     ]
    }
   ],
   "source": [
    "some_text = 'Эталонной реализацией Python является интерпретатор CPython, поддерживающий большинство активно используемых платформ. Он распространяется под свободной лицензией Python Software Foundation License, позволяющей использовать его без ограничений в любых приложениях, включая проприетарные.'\n",
    "vow_cons(some_text)"
   ]
  },
  {
   "cell_type": "markdown",
   "metadata": {},
   "source": [
    "#### Задание 6\n",
    "Напишите функцию, которая будет проверять номер сотового телефона на валидность, если он валиден, то переводить его в формат:   \n",
    "+7-xxx-xxx-xx-xx.\n",
    "Постарайтесь предусмотреть как можно больше адекватных форматов изначального ввода номера: \n",
    "\n",
    "`phone = '+7 955 555-55-55'`\n",
    "\n",
    "`phone = '8(955)555-55-55'`\n",
    "\n",
    "`phone = '+7 955 555 55 55'`\n",
    "\n",
    "`phone = '7(955) 555-55-55'`\n",
    "\n",
    "`phone = '423-555-55-5555'`"
   ]
  },
  {
   "cell_type": "code",
   "execution_count": 16,
   "metadata": {},
   "outputs": [],
   "source": [
    "def valid_ph(phone):\n",
    "    \n",
    "    '''\n",
    "    Функция в строке phone ищет шаблон номера и выводит его в корректном формате,\n",
    "    иначе сообщение о невалидности.\n",
    "    Шаблон поиска: цифра 7 или 8, тире или скобка или пробел, три цифры, тире или скобка или пробел,\n",
    "    три цифры, тире или пробел, две цифры, тире или пробел, две цифры.\n",
    "    '''\n",
    "    \n",
    "    re_list = re.findall(r'([78])[-\\(\\s]+(\\d{3})[-\\)\\s]+(\\d{3})[\\s-]+(\\d{2})[\\s-]+(\\d{2})', phone)\n",
    "    if re_list:\n",
    "        print(f'+7-{re_list[0][1]}-{re_list[0][2]}-{re_list[0][3]}-{re_list[0][4]}')\n",
    "    else:\n",
    "        print('Номер не валиден')"
   ]
  },
  {
   "cell_type": "code",
   "execution_count": 17,
   "metadata": {},
   "outputs": [
    {
     "name": "stdout",
     "output_type": "stream",
     "text": [
      "Номер не валиден\n"
     ]
    }
   ],
   "source": [
    "phone = '123-456-789'\n",
    "valid_ph(phone)"
   ]
  },
  {
   "cell_type": "code",
   "execution_count": 18,
   "metadata": {},
   "outputs": [
    {
     "name": "stdout",
     "output_type": "stream",
     "text": [
      "+7-955-555-55-55\n"
     ]
    }
   ],
   "source": [
    "phone = '+7 955 555-55-55'\n",
    "valid_ph(phone)"
   ]
  },
  {
   "cell_type": "code",
   "execution_count": 19,
   "metadata": {},
   "outputs": [
    {
     "name": "stdout",
     "output_type": "stream",
     "text": [
      "+7-955-555-55-55\n"
     ]
    }
   ],
   "source": [
    "phone = '8(955)555-55-55'\n",
    "valid_ph(phone)"
   ]
  },
  {
   "cell_type": "code",
   "execution_count": 20,
   "metadata": {},
   "outputs": [
    {
     "name": "stdout",
     "output_type": "stream",
     "text": [
      "+7-955-555-55-55\n"
     ]
    }
   ],
   "source": [
    "phone = '7(955) 555-55-55'\n",
    "valid_ph(phone)"
   ]
  }
 ],
 "metadata": {
  "kernelspec": {
   "display_name": "Python 3 (ipykernel)",
   "language": "python",
   "name": "python3"
  },
  "language_info": {
   "codemirror_mode": {
    "name": "ipython",
    "version": 3
   },
   "file_extension": ".py",
   "mimetype": "text/x-python",
   "name": "python",
   "nbconvert_exporter": "python",
   "pygments_lexer": "ipython3",
   "version": "3.8.12"
  }
 },
 "nbformat": 4,
 "nbformat_minor": 2
}
