{
 "cells": [
  {
   "cell_type": "markdown",
   "metadata": {},
   "source": [
    "### Функции и создание класса"
   ]
  },
  {
   "cell_type": "markdown",
   "metadata": {},
   "source": [
    "#### Задание 1\n",
    "Имеется класс Rate, который делает запрос к сервису https://www.cbr-xml-daily.ru/daily_json.js, обрабатывает словарь от сервиса и оставлять нужную информацию, возвращает инфо для заданной валюты.<br>\n",
    "Напишите метод, который возвращает название валюты (поле ‘Name’) с максимальным значением курса.<br>\n",
    "Предусмотрите параметр diff (со значениями True или False), который в случае значения True в методах курсов валют (eur, usd итд) будет возвращать не курс валюты, а изменение по сравнению в прошлым значением. Считайте, self.diff будет принимать значение True только при возврате значения курса. При отображении всей информации о валюте он не используется."
   ]
  },
  {
   "cell_type": "code",
   "execution_count": 1,
   "metadata": {},
   "outputs": [],
   "source": [
    "class Rate:\n",
    "    def __init__(self, format_='value'):         \n",
    "        '''Задает формат ответа: full - вся инфо о валюте, value - только курс.'''        \n",
    "        self.format = format_\n",
    "    \n",
    "    def exchange_rates(self):\n",
    "        '''\n",
    "        Посылает запрос к сервису с информацией о валютах https://www.cbr-xml-daily.ru/daily_json.js\n",
    "        и возвращает ответ в виде:\n",
    "            {\n",
    "                'AMD': {\n",
    "                    'CharCode': 'AMD',\n",
    "                    'ID': 'R01060',\n",
    "                    'Name': 'Армянских драмов',\n",
    "                    'Nominal': 100,\n",
    "                    'NumCode': '051',\n",
    "                    'Previous': 14.103,\n",
    "                    'Value': 14.0879\n",
    "                    },\n",
    "                ... }\n",
    "        '''\n",
    "        self.r = requests.get('https://www.cbr-xml-daily.ru/daily_json.js') \n",
    "        return self.r.json()['Valute']\n",
    "    \n",
    "    def info(self, currency):\n",
    "        '''\n",
    "        Возвращает информацию о валюте currency в двух вариантах:\n",
    "            * полная информация о валюте при self.format = 'full':\n",
    "                Rate('full').info('EUR')\n",
    "                {\n",
    "                    'CharCode': 'EUR',\n",
    "                    'ID': 'R01239',\n",
    "                    'Name': 'Евро',\n",
    "                    'Nominal': 1,\n",
    "                    'NumCode': '978',\n",
    "                    'Previous': 79.6765,\n",
    "                    'Value': 79.4966        }\n",
    "            * информация только о курсе при self.format = 'value':\n",
    "                Rate('value').info('EUR')\n",
    "                79.4966\n",
    "        '''\n",
    "        response = self.exchange_rates()        \n",
    "        if currency in response:             \n",
    "            if self.format == 'full':\n",
    "                return response[currency]            \n",
    "            if self.format == 'value':\n",
    "                return response[currency]['Value']        \n",
    "        return 'Error'\n",
    "    \n",
    "    def eur(self):\n",
    "        '''Возвращает курс евро на сегодня в формате self.format'''\n",
    "        return self.info('EUR')\n",
    "    \n",
    "    def usd(self):\n",
    "        '''Возвращает курс доллара на сегодня в формате self.format'''\n",
    "        return self.info('USD')\n",
    "    \n",
    "    def brl(self):\n",
    "        '''Возвращает курс бразильского реала на сегодня в формате self.format'''\n",
    "        return self.info('BRL')"
   ]
  },
  {
   "cell_type": "code",
   "execution_count": 2,
   "metadata": {},
   "outputs": [],
   "source": [
    "import requests"
   ]
  },
  {
   "cell_type": "markdown",
   "metadata": {},
   "source": [
    "Дополняем / вносим изменения в класс Rate:"
   ]
  },
  {
   "cell_type": "code",
   "execution_count": 3,
   "metadata": {},
   "outputs": [],
   "source": [
    "class Rate:\n",
    "    \n",
    "# добавляем параметр diff:\n",
    "    def __init__(self, format_='value', diff_= False):\n",
    "        '''\n",
    "       Задает формат ответа:\n",
    "           * format : full - вся инфо о валюте, value - только курс.\n",
    "           * diff : True - изменение курса к прошлому значению, False - текущий курс\n",
    "        '''  \n",
    "        self.format = format_ \n",
    "        self.diff = diff_        \n",
    "    \n",
    "    def exchange_rates(self):\n",
    "        '''\n",
    "        Посылает запрос к сервису с информацией о валютах https://www.cbr-xml-daily.ru/daily_json.js\n",
    "        и возвращает ответ в виде словаря.\n",
    "        '''\n",
    "        self.r = requests.get('https://www.cbr-xml-daily.ru/daily_json.js') \n",
    "        return self.r.json()['Valute']\n",
    "\n",
    "# вносим изменения в связи с появлением параметра diff:\n",
    "    def info(self, currency):\n",
    "        '''\n",
    "         Возвращает информацию о валюте currency в двух вариантах:\n",
    "            * полная информация о валюте при self.format = 'full'\n",
    "            * информация только о курсе при self.format = 'value' и self.diff = False\n",
    "            * информация о изменении курса к прошлому значению при self.format = 'value' и self.diff = True\n",
    "            (округление до 4 знаков)\n",
    "        '''\n",
    "        response = self.exchange_rates()        \n",
    "        if currency in response:             \n",
    "            if self.format == 'full':\n",
    "                if self.diff:\n",
    "                    return \"Параметр diff рассматривается только при format = 'value'\"\n",
    "                else:\n",
    "                    return response[currency]\n",
    "            \n",
    "            if self.format == 'value':\n",
    "                if self.diff:\n",
    "                    return round(response[currency]['Value'] - response[currency]['Previous'],4)\n",
    "                else:\n",
    "                    return response[currency]['Value']        \n",
    "        return 'Error'\n",
    "    \n",
    "    def eur(self):\n",
    "        '''Возвращает курс евро на сегодня в формате self.format и self.diff'''\n",
    "        return self.info('EUR')\n",
    "    \n",
    "    def usd(self):\n",
    "        '''Возвращает курс доллара на сегодня в формате self.format и self.diff'''\n",
    "        return self.info('USD')\n",
    "    \n",
    "    def brl(self):\n",
    "        '''Возвращает курс бразильского реала на сегодня в формате self.format и self.diff'''\n",
    "        return self.info('BRL')\n",
    "\n",
    "# добавляем новый метод:\n",
    "    def max_rate(self):\n",
    "        '''\n",
    "        Возвращает название валюты (поле ‘Name’) с максимальным значением курса (вариант 1).\n",
    "        Перебирает курсы валют в словаре-ответе на запрос \n",
    "        и записывает наибольший курс в max_val и название этой валюты в max_name.\n",
    "        '''\n",
    "        max_val = 0\n",
    "        max_name = ''\n",
    "        response = self.exchange_rates()\n",
    "        for value in response.values():       \n",
    "                if value['Value'] > max_val :\n",
    "                    max_val = value['Value']\n",
    "                    max_name = value['Name']\n",
    "        return max_name\n",
    "    \n",
    "# добавляем новый метод:    \n",
    "    def max_rate_2(self):                                      \n",
    "        '''\n",
    "        Возвращает название валюты (поле ‘Name’) с максимальным значением курса (вариант 2).\n",
    "        Перебирает курсы валют в словаре-ответе на запрос, находит максимальный\n",
    "        и определяет соответствующее ему название валюты.\n",
    "        '''\n",
    "        response = self.exchange_rates()\n",
    "        return max(response.items(), key = lambda x: x[1]['Value'])[1]['Name']\n",
    "    \n",
    "# добавляем новый метод:   \n",
    "    def max_rate_sdr(self, incl_sdr_ = True):\n",
    "        '''\n",
    "        Возвращает название валюты (поле ‘Name’) с максимальным значением курса,\n",
    "        в качестве параметра incl_sdr можно задать, учитывать курс СДР (incl_sdr = True) или нет.\n",
    "        Перебирает курсы валют в словаре-ответе на запрос \n",
    "        и записывает наибольший курс в max_val и название этой валюты в max_name.\n",
    "        '''        \n",
    "        incl_sdr = incl_sdr_\n",
    "        max_val = 0\n",
    "        max_name = ''\n",
    "        response = self.exchange_rates()\n",
    "        \n",
    "        if incl_sdr:\n",
    "            for value in response.values():       \n",
    "                    if value['Value'] > max_val :\n",
    "                        max_val = value['Value']\n",
    "                        max_name = value['Name']\n",
    "        else:\n",
    "            for value in response.values():       \n",
    "                    if value['Value'] > max_val and value['CharCode'] != 'XDR':\n",
    "                        max_val = value['Value']\n",
    "                        max_name = value['Name']                  \n",
    "        return max_name"
   ]
  },
  {
   "cell_type": "code",
   "execution_count": 4,
   "metadata": {},
   "outputs": [],
   "source": [
    "r_full = Rate(format_='full')\n",
    "r_value = Rate(format_='value')"
   ]
  },
  {
   "cell_type": "code",
   "execution_count": 5,
   "metadata": {
    "scrolled": true
   },
   "outputs": [
    {
     "data": {
      "text/plain": [
       "{'ID': 'R01239',\n",
       " 'NumCode': '978',\n",
       " 'CharCode': 'EUR',\n",
       " 'Nominal': 1,\n",
       " 'Name': 'Евро',\n",
       " 'Value': 86.6419,\n",
       " 'Previous': 88.468}"
      ]
     },
     "execution_count": 5,
     "metadata": {},
     "output_type": "execute_result"
    }
   ],
   "source": [
    "r_full.info('EUR')"
   ]
  },
  {
   "cell_type": "code",
   "execution_count": 6,
   "metadata": {},
   "outputs": [
    {
     "data": {
      "text/plain": [
       "77.8174"
      ]
     },
     "execution_count": 6,
     "metadata": {},
     "output_type": "execute_result"
    }
   ],
   "source": [
    "r_value.info('USD')"
   ]
  },
  {
   "cell_type": "code",
   "execution_count": 7,
   "metadata": {},
   "outputs": [
    {
     "data": {
      "text/plain": [
       "{'ID': 'R01239',\n",
       " 'NumCode': '978',\n",
       " 'CharCode': 'EUR',\n",
       " 'Nominal': 1,\n",
       " 'Name': 'Евро',\n",
       " 'Value': 86.6419,\n",
       " 'Previous': 88.468}"
      ]
     },
     "execution_count": 7,
     "metadata": {},
     "output_type": "execute_result"
    }
   ],
   "source": [
    "r_full.eur()"
   ]
  },
  {
   "cell_type": "code",
   "execution_count": 8,
   "metadata": {
    "scrolled": true
   },
   "outputs": [
    {
     "data": {
      "text/plain": [
       "77.8174"
      ]
     },
     "execution_count": 8,
     "metadata": {},
     "output_type": "execute_result"
    }
   ],
   "source": [
    "r_value.usd()"
   ]
  },
  {
   "cell_type": "code",
   "execution_count": 9,
   "metadata": {},
   "outputs": [
    {
     "name": "stdout",
     "output_type": "stream",
     "text": [
      "СДР (специальные права заимствования)\n",
      "СДР (специальные права заимствования)\n",
      "СДР (специальные права заимствования)\n",
      "Фунт стерлингов Соединенного королевства\n"
     ]
    }
   ],
   "source": [
    "print(r_full.max_rate())\n",
    "print(r_full.max_rate_2())\n",
    "print(r_full.max_rate_sdr())\n",
    "print(r_full.max_rate_sdr(incl_sdr_ = False))"
   ]
  },
  {
   "cell_type": "code",
   "execution_count": 10,
   "metadata": {},
   "outputs": [
    {
     "name": "stdout",
     "output_type": "stream",
     "text": [
      "СДР (специальные права заимствования)\n",
      "СДР (специальные права заимствования)\n",
      "СДР (специальные права заимствования)\n",
      "Фунт стерлингов Соединенного королевства\n"
     ]
    }
   ],
   "source": [
    "print(r_value.max_rate())\n",
    "print(r_value.max_rate_2())\n",
    "print(r_value.max_rate_sdr())\n",
    "print(r_value.max_rate_sdr(incl_sdr_ = False))"
   ]
  },
  {
   "cell_type": "code",
   "execution_count": 11,
   "metadata": {
    "scrolled": true
   },
   "outputs": [
    {
     "name": "stdout",
     "output_type": "stream",
     "text": [
      "-1.8261\n",
      "-1.8261\n"
     ]
    }
   ],
   "source": [
    "r = Rate(diff_=True)\n",
    "print(r.eur())\n",
    "print(r.info('EUR'))"
   ]
  },
  {
   "cell_type": "code",
   "execution_count": 12,
   "metadata": {},
   "outputs": [
    {
     "name": "stdout",
     "output_type": "stream",
     "text": [
      "Параметр diff рассматривается только при format = 'value'\n"
     ]
    }
   ],
   "source": [
    "r = Rate(format_='full',diff_=True)\n",
    "print(r.usd())"
   ]
  },
  {
   "cell_type": "code",
   "execution_count": 13,
   "metadata": {},
   "outputs": [
    {
     "name": "stdout",
     "output_type": "stream",
     "text": [
      "{'ID': 'R01235', 'NumCode': '840', 'CharCode': 'USD', 'Nominal': 1, 'Name': 'Доллар США', 'Value': 77.8174, 'Previous': 78.947}\n"
     ]
    }
   ],
   "source": [
    "r = Rate(format_='full')\n",
    "print(r.info('USD'))"
   ]
  },
  {
   "cell_type": "code",
   "execution_count": 14,
   "metadata": {},
   "outputs": [
    {
     "name": "stdout",
     "output_type": "stream",
     "text": [
      "14.392\n",
      "14.392\n"
     ]
    }
   ],
   "source": [
    "r = Rate(format_='value')\n",
    "print(r.info('BRL'))\n",
    "print(r.brl())"
   ]
  },
  {
   "cell_type": "markdown",
   "metadata": {},
   "source": [
    "Альтернативный вариант класса, в котором задавать значение параметров format и diff нужно не при создании инстанса класса, а при вызове методов:"
   ]
  },
  {
   "cell_type": "code",
   "execution_count": 15,
   "metadata": {},
   "outputs": [],
   "source": [
    "class Rate_2: \n",
    "    \n",
    "    def exchange_rates(self):\n",
    "        '''\n",
    "        Посылает запрос к сервису с информацией о валютах https://www.cbr-xml-daily.ru/daily_json.js\n",
    "        и возвращает ответ в виде словаря.\n",
    "        '''\n",
    "        self.r = requests.get('https://www.cbr-xml-daily.ru/daily_json.js') \n",
    "        return self.r.json()['Valute']\n",
    "    \n",
    "    def info(self, currency,  format_ = 'value', diff_ = False):\n",
    "        '''\n",
    "         Возвращает информацию о валюте currency в двух вариантах:\n",
    "            * полная информация о валюте при self.format = 'full'\n",
    "            * информация только о курсе при self.format = 'value' и self.diff = False\n",
    "            * информация о изменении курса к прошлому значению при self.format = 'value' и self.diff = True\n",
    "            (округление до 4 знаков)\n",
    "        '''\n",
    "        self.format = format_\n",
    "        self.diff = diff_         \n",
    "        response = self.exchange_rates()        \n",
    "        if currency in response:             \n",
    "            if self.format == 'full':\n",
    "                if self.diff:\n",
    "                    return \"Параметр diff рассматривается только при format = 'value'\"\n",
    "                else:\n",
    "                    return response[currency]\n",
    "            \n",
    "            if self.format == 'value':\n",
    "                if self.diff:\n",
    "                    return round(response[currency]['Value'] - response[currency]['Previous'],4)\n",
    "                else:\n",
    "                    return response[currency]['Value']        \n",
    "        return 'Error'\n",
    "       \n",
    "    def eur(self, format_='value', diff_= False):\n",
    "        '''Возвращает курс евро на сегодня в формате format и diff'''\n",
    "        return self.info('EUR', format_, diff_)\n",
    "    \n",
    "    def usd(self, format_='value', diff_= False):\n",
    "        '''Возвращает курс доллара на сегодня в формате format и diff'''\n",
    "        return self.info('USD', format_, diff_)\n",
    "    \n",
    "    def brl(self, format_='value', diff_= False):\n",
    "        '''Возвращает курс бразильского реала на сегодня в формате format и diff'''\n",
    "        return self.info('BRL', format_, diff_)"
   ]
  },
  {
   "cell_type": "code",
   "execution_count": 16,
   "metadata": {},
   "outputs": [
    {
     "name": "stdout",
     "output_type": "stream",
     "text": [
      "-1.8261\n",
      "86.6419\n",
      "86.6419\n",
      "Параметр diff рассматривается только при format = 'value'\n",
      "{'ID': 'R01239', 'NumCode': '978', 'CharCode': 'EUR', 'Nominal': 1, 'Name': 'Евро', 'Value': 86.6419, 'Previous': 88.468}\n"
     ]
    }
   ],
   "source": [
    "r_2 = Rate_2()\n",
    "print(r_2.eur(format_='value',diff_=True))\n",
    "print(r_2.info('EUR'))\n",
    "print(r_2.eur())\n",
    "print(r_2.info('EUR',format_='full',diff_=True))\n",
    "print(r_2.info('EUR',format_='full'))"
   ]
  },
  {
   "cell_type": "markdown",
   "metadata": {},
   "source": [
    "#### Задание 2\n",
    "Имеется класс Employee, который повышает уровень сотрудника, публикует грейд, публикует решение по результатам аккредитации.\n",
    "На его основе есть класс Developer для сотрудников соответствующего отдела.<br>\n",
    "Напишите класс Designer, который учитывает количество международных премий. Повышение на 1 грейд за каждые 7 баллов, получение международной премии – это +2 балла. Считайте, что при выходе на работу сотрудник уже имеет две премии и их количество не меняется со стажем."
   ]
  },
  {
   "cell_type": "code",
   "execution_count": 17,
   "metadata": {},
   "outputs": [],
   "source": [
    "class Employee:\n",
    "    def __init__(self, name, seniority):\n",
    "        self.name = name\n",
    "        self.seniority = seniority        \n",
    "        self.grade = 1\n",
    "    \n",
    "    def grade_up(self):\n",
    "        \"\"\"Повышает грейд сотрудника\"\"\"\n",
    "        self.grade += 1\n",
    "    \n",
    "    def publish_grade(self):\n",
    "        \"\"\"Публикация грейда сотрудников\"\"\"\n",
    "        print(self.name, self.grade)\n",
    "    \n",
    "    def check_if_it_is_time_for_upgrade(self):\n",
    "        \"\"\"Публикует грейд сотрудника по результатам аккредитации\"\"\"\n",
    "        pass"
   ]
  },
  {
   "cell_type": "code",
   "execution_count": 18,
   "metadata": {},
   "outputs": [],
   "source": [
    "class Developer(Employee):\n",
    "    def __init__(self, name, seniority):\n",
    "        super().__init__(name, seniority)\n",
    "    \n",
    "    def check_if_it_is_time_for_upgrade(self):\n",
    "        \"\"\"Публикует грейд сотрудника по результатам аккредитации.\n",
    "        Для каждой аккредитации увеличиваем кол-во баллов (seniority) на 1.\n",
    "        Пока считаем, что все разработчики проходят аккредитацию.\n",
    "        Повышение на 1 грейд происходит каждые 5 баллов.\n",
    "        \"\"\"\n",
    "        self.seniority += 1\n",
    "        if self.seniority % 5 == 0:\n",
    "            self.grade_up()\n",
    "        return self.publish_grade()"
   ]
  },
  {
   "cell_type": "markdown",
   "metadata": {},
   "source": [
    "Например, разработчик Александр только пришел в компанию и у него первый грейд:"
   ]
  },
  {
   "cell_type": "code",
   "execution_count": 19,
   "metadata": {
    "scrolled": false
   },
   "outputs": [
    {
     "name": "stdout",
     "output_type": "stream",
     "text": [
      "Александр 1\n"
     ]
    }
   ],
   "source": [
    "alex = Developer('Александр', 0)\n",
    "alex.publish_grade()"
   ]
  },
  {
   "cell_type": "markdown",
   "metadata": {},
   "source": [
    "По какой-то причине Александру повысили грейд и теперь у него грейд 2:"
   ]
  },
  {
   "cell_type": "code",
   "execution_count": 20,
   "metadata": {
    "scrolled": true
   },
   "outputs": [
    {
     "name": "stdout",
     "output_type": "stream",
     "text": [
      "Александр 2\n"
     ]
    }
   ],
   "source": [
    "alex.grade_up()\n",
    "alex.publish_grade()"
   ]
  },
  {
   "cell_type": "markdown",
   "metadata": {},
   "source": [
    "Дальше Александр проходил аккредитации и за каждые пять баллов (то есть за каждую пятую аккредитацию) получал повышение грейда:"
   ]
  },
  {
   "cell_type": "code",
   "execution_count": 21,
   "metadata": {
    "scrolled": true
   },
   "outputs": [
    {
     "name": "stdout",
     "output_type": "stream",
     "text": [
      "Аккредитация №1: \n",
      "Александр 2\n",
      "Аккредитация №2: \n",
      "Александр 2\n",
      "Аккредитация №3: \n",
      "Александр 2\n",
      "Аккредитация №4: \n",
      "Александр 2\n",
      "Аккредитация №5: \n",
      "Александр 3\n",
      "Аккредитация №6: \n",
      "Александр 3\n",
      "Аккредитация №7: \n",
      "Александр 3\n",
      "Аккредитация №8: \n",
      "Александр 3\n",
      "Аккредитация №9: \n",
      "Александр 3\n",
      "Аккредитация №10: \n",
      "Александр 4\n"
     ]
    }
   ],
   "source": [
    "for i in range(10):\n",
    "    print(f\"Аккредитация №{i+1}: \")\n",
    "    alex.check_if_it_is_time_for_upgrade()"
   ]
  },
  {
   "cell_type": "markdown",
   "metadata": {},
   "source": [
    "Создаем класс для дизайнеров:"
   ]
  },
  {
   "cell_type": "code",
   "execution_count": 22,
   "metadata": {},
   "outputs": [],
   "source": [
    "class Designer(Employee):\n",
    "    \n",
    "    def __init__(self, name, seniority, int_prize_ = 2):\n",
    "        self.int_prize = int_prize_  # кол-во международных премий               \n",
    "        super().__init__(name, seniority)\n",
    "    \n",
    "    def check_if_it_is_time_for_upgrade(self):\n",
    "        \"\"\"Публикует грейд сотрудника по результатам аккредитации.\n",
    "        Для каждой аккредитации увеличиваем кол-во баллов (seniority) на 1.\n",
    "        Пока считаем, что все дизайнеры проходят аккредитацию.\n",
    "        Повышение на 1 грейд происходит каждые 7 баллов.\n",
    "        Наличие межд. премий учитывается в баллах.\n",
    "        \"\"\"\n",
    "        self.seniority += 1        \n",
    "        if (self.seniority + self.int_prize * 2) % 7 == 0: # каждая межд. премия стоит 2 балла \n",
    "            self.grade_up()\n",
    "        return self.publish_grade()   "
   ]
  },
  {
   "cell_type": "markdown",
   "metadata": {},
   "source": [
    "Дизайнер Мария только пришла в компанию и у нее первый грейд:"
   ]
  },
  {
   "cell_type": "code",
   "execution_count": 23,
   "metadata": {
    "scrolled": true
   },
   "outputs": [
    {
     "name": "stdout",
     "output_type": "stream",
     "text": [
      "Мария 1\n"
     ]
    }
   ],
   "source": [
    "maria = Designer('Мария',0)\n",
    "maria.publish_grade()"
   ]
  },
  {
   "cell_type": "markdown",
   "metadata": {},
   "source": [
    "Дальше Мария проходила аккредитации и за каждые 7 баллов получала повышение грейда. Первое повышение случилось уже после третьей аккредитации, так как благодаря межд. премиям у Марии было сразу 4 балла. А за первую, вторую и третью аккредитации набралось еще три балла:"
   ]
  },
  {
   "cell_type": "code",
   "execution_count": 24,
   "metadata": {
    "scrolled": true
   },
   "outputs": [
    {
     "name": "stdout",
     "output_type": "stream",
     "text": [
      "Аккредитация №1: \n",
      "Мария 1\n",
      "Аккредитация №2: \n",
      "Мария 1\n",
      "Аккредитация №3: \n",
      "Мария 2\n",
      "Аккредитация №4: \n",
      "Мария 2\n",
      "Аккредитация №5: \n",
      "Мария 2\n",
      "Аккредитация №6: \n",
      "Мария 2\n",
      "Аккредитация №7: \n",
      "Мария 2\n",
      "Аккредитация №8: \n",
      "Мария 2\n",
      "Аккредитация №9: \n",
      "Мария 2\n",
      "Аккредитация №10: \n",
      "Мария 3\n",
      "Аккредитация №11: \n",
      "Мария 3\n",
      "Аккредитация №12: \n",
      "Мария 3\n"
     ]
    }
   ],
   "source": [
    "for i in range(12):\n",
    "    print(f\"Аккредитация №{i+1}: \")\n",
    "    maria.check_if_it_is_time_for_upgrade()"
   ]
  },
  {
   "cell_type": "markdown",
   "metadata": {},
   "source": [
    "Если бы Мария пришла в компанию не с двуми, а тремя межд. премиями, то первое повышение грейдов случилось бы уже после первой аккредитации:"
   ]
  },
  {
   "cell_type": "code",
   "execution_count": 25,
   "metadata": {
    "scrolled": true
   },
   "outputs": [
    {
     "name": "stdout",
     "output_type": "stream",
     "text": [
      "Мария 1\n",
      "Аккредитация №1: \n",
      "Мария 2\n",
      "Аккредитация №2: \n",
      "Мария 2\n",
      "Аккредитация №3: \n",
      "Мария 2\n",
      "Аккредитация №4: \n",
      "Мария 2\n",
      "Аккредитация №5: \n",
      "Мария 2\n",
      "Аккредитация №6: \n",
      "Мария 2\n",
      "Аккредитация №7: \n",
      "Мария 2\n",
      "Аккредитация №8: \n",
      "Мария 3\n",
      "Аккредитация №9: \n",
      "Мария 3\n",
      "Аккредитация №10: \n",
      "Мария 3\n",
      "Аккредитация №11: \n",
      "Мария 3\n",
      "Аккредитация №12: \n",
      "Мария 3\n"
     ]
    }
   ],
   "source": [
    "maria = Designer('Мария',0,3)\n",
    "maria.publish_grade()\n",
    "\n",
    "for i in range(12):\n",
    "    print(f\"Аккредитация №{i+1}: \")\n",
    "    maria.check_if_it_is_time_for_upgrade()"
   ]
  }
 ],
 "metadata": {
  "kernelspec": {
   "display_name": "Python 3 (ipykernel)",
   "language": "python",
   "name": "python3"
  },
  "language_info": {
   "codemirror_mode": {
    "name": "ipython",
    "version": 3
   },
   "file_extension": ".py",
   "mimetype": "text/x-python",
   "name": "python",
   "nbconvert_exporter": "python",
   "pygments_lexer": "ipython3",
   "version": "3.8.12"
  }
 },
 "nbformat": 4,
 "nbformat_minor": 4
}
