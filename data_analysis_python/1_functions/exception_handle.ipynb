{
 "cells": [
  {
   "cell_type": "markdown",
   "metadata": {},
   "source": [
    "### Функции и обработка ошибок"
   ]
  },
  {
   "cell_type": "markdown",
   "metadata": {},
   "source": [
    "#### Задание 1\n",
    "Дан поток дат в формате YYYY-MM-DD, в которых встречаются некорректные значения.\n",
    "Напишите функцию, которая проверяет эти даты на корректность, т.е. для каждой даты возвращает True (дата корректна) или False (некорректная дата)."
   ]
  },
  {
   "cell_type": "code",
   "execution_count": 1,
   "metadata": {},
   "outputs": [],
   "source": [
    "stream = ['2018-04-02', '2018-02-30', '2018-19-02']"
   ]
  },
  {
   "cell_type": "code",
   "execution_count": 2,
   "metadata": {},
   "outputs": [],
   "source": [
    "from datetime import datetime"
   ]
  },
  {
   "cell_type": "markdown",
   "metadata": {},
   "source": [
    "##### Вариант 1 (вывод дат и сообщения по очереди)"
   ]
  },
  {
   "cell_type": "code",
   "execution_count": 3,
   "metadata": {},
   "outputs": [],
   "source": [
    "def corr_date_1 (date_list):\n",
    "    \n",
    "    '''Функция получает на вход список; каждый элемент списка конвертирует в объект datetime;\n",
    "    если это получается без ошибок, то выводит дату и сообщение о корректности;\n",
    "    если дата не корректна и появляется ValueError, то выводится сообщение о некорректности.\n",
    "    '''  \n",
    "    \n",
    "    for date in stream:\n",
    "        try:\n",
    "            datetime.strptime(date,'%Y-%m-%d')\n",
    "            print(date,'дата корректна')\n",
    "        except ValueError:\n",
    "            print(date,'дата НЕкорректна')"
   ]
  },
  {
   "cell_type": "markdown",
   "metadata": {},
   "source": [
    "##### Вариант 2 (вывод списка)"
   ]
  },
  {
   "cell_type": "code",
   "execution_count": 4,
   "metadata": {},
   "outputs": [],
   "source": [
    "def corr_date_2 (date_list):\n",
    "    \n",
    "    '''Функция получает на вход список; каждый элемент списка конвертирует в объект datetime;\n",
    "    если это получается без ошибок, то добавляет дату и комментарий \"True\" в список для вывода;\n",
    "    если дата не корректна и появляется ValueError, то добавляет дату и комментарий \"False\" в список для вывода.\n",
    "    '''     \n",
    "    \n",
    "    check_list=[]\n",
    "    for date in stream:\n",
    "        try:\n",
    "            date_dt=datetime.strptime(date,'%Y-%m-%d')\n",
    "            check_list.append(date +': True')\n",
    "        except ValueError:\n",
    "            check_list.append(date +': False')\n",
    "            # использовать date вместо date_dt, так как\n",
    "            # в случае ValueError date_dt не будет объявлена (для первого элемента списка)\n",
    "            # или будет иметь значение date_dt из последнего отработавшего блока try,\n",
    "            # то есть последняя корректная дата\n",
    "    return check_list"
   ]
  },
  {
   "cell_type": "code",
   "execution_count": 5,
   "metadata": {},
   "outputs": [
    {
     "name": "stdout",
     "output_type": "stream",
     "text": [
      "2018-04-02 дата корректна\n",
      "2018-02-30 дата НЕкорректна\n",
      "2018-19-02 дата НЕкорректна\n"
     ]
    }
   ],
   "source": [
    "corr_date_1 (stream)"
   ]
  },
  {
   "cell_type": "code",
   "execution_count": 6,
   "metadata": {},
   "outputs": [
    {
     "data": {
      "text/plain": [
       "['2018-04-02: True', '2018-02-30: False', '2018-19-02: False']"
      ]
     },
     "execution_count": 6,
     "metadata": {},
     "output_type": "execute_result"
    }
   ],
   "source": [
    "corr_date_2 (stream)"
   ]
  },
  {
   "cell_type": "markdown",
   "metadata": {},
   "source": [
    "#### Задание 2\n",
    "Напишите функцию date_range, которая возвращает список дат за период от start_date до end_date. Даты должны вводиться в формате YYYY-MM-DD. В случае неверного формата или при start_date > end_date должен возвращаться пустой список."
   ]
  },
  {
   "cell_type": "code",
   "execution_count": 7,
   "metadata": {},
   "outputs": [],
   "source": [
    "from datetime import timedelta"
   ]
  },
  {
   "cell_type": "code",
   "execution_count": 8,
   "metadata": {},
   "outputs": [],
   "source": [
    "def date_range(start,end):\n",
    "    \n",
    "    '''Функция получает на вход дату начала и конца; конвертирует их в объект datetime;\n",
    "    если это получается без ошибок и если дата конца позже даты начала,\n",
    "    то формирует и возвращает список с датами между ними;\n",
    "    если одна или обе даты не корректны и появляется ValueError, то возвращает пустой список;\n",
    "    если даты корректны, но дата конца НЕ позже даты начала, то возвращает пустой список.'''\n",
    "    \n",
    "    try:                                        \n",
    "        start_dt = datetime.strptime(start, '%Y-%m-%d')\n",
    "        end_dt = datetime.strptime(end, '%Y-%m-%d')\n",
    "    except:\n",
    "        return []\n",
    "    \n",
    "    list_dt = []\n",
    "    current_dt = start_dt\n",
    "    while current_dt <= end_dt:                 \n",
    "        list_dt.append(current_dt.strftime('%Y-%m-%d'))\n",
    "        current_dt += timedelta(days = 1)\n",
    "    return list_dt"
   ]
  },
  {
   "cell_type": "code",
   "execution_count": 9,
   "metadata": {},
   "outputs": [],
   "source": [
    "start_date='2018-12-30'\n",
    "end_date='2019-01-07'"
   ]
  },
  {
   "cell_type": "code",
   "execution_count": 10,
   "metadata": {},
   "outputs": [
    {
     "data": {
      "text/plain": [
       "['2018-12-30',\n",
       " '2018-12-31',\n",
       " '2019-01-01',\n",
       " '2019-01-02',\n",
       " '2019-01-03',\n",
       " '2019-01-04',\n",
       " '2019-01-05',\n",
       " '2019-01-06',\n",
       " '2019-01-07']"
      ]
     },
     "execution_count": 10,
     "metadata": {},
     "output_type": "execute_result"
    }
   ],
   "source": [
    "date_range(start_date,end_date)"
   ]
  },
  {
   "cell_type": "markdown",
   "metadata": {},
   "source": [
    "#### Задание 3\n",
    "Ваш коллега прислал код функции. При однократном вызове этой функции все работает корректно. Однако, при повторном вызове получается ошибка IndexError: list index out of range. Почему при первом запуске функция работает корректно, а при втором - нет?"
   ]
  },
  {
   "cell_type": "code",
   "execution_count": 11,
   "metadata": {},
   "outputs": [],
   "source": [
    "DEFAULT_USER_COUNT = 3\n",
    "\n",
    "def delete_and_return_last_user(default_list=['A100', 'A101', 'A102']):\n",
    "    \"\"\"\n",
    "    Удаляет из списка default_list последнего пользователя\n",
    "    и возвращает ID нового последнего пользователя.\n",
    "    \"\"\"    \n",
    "    element_to_delete = default_list[-1]\n",
    "    default_list.remove(element_to_delete)\n",
    "    return default_list[DEFAULT_USER_COUNT-2]"
   ]
  },
  {
   "cell_type": "code",
   "execution_count": 12,
   "metadata": {},
   "outputs": [
    {
     "name": "stdout",
     "output_type": "stream",
     "text": [
      "A101\n"
     ]
    },
    {
     "ename": "IndexError",
     "evalue": "list index out of range",
     "output_type": "error",
     "traceback": [
      "\u001b[1;31m---------------------------------------------------------------------------\u001b[0m",
      "\u001b[1;31mIndexError\u001b[0m                                Traceback (most recent call last)",
      "\u001b[1;32mC:\\Users\\YULIAN~2\\AppData\\Local\\Temp/ipykernel_1244/3934222289.py\u001b[0m in \u001b[0;36m<module>\u001b[1;34m\u001b[0m\n\u001b[0;32m      1\u001b[0m \u001b[0mprint\u001b[0m\u001b[1;33m(\u001b[0m\u001b[0mdelete_and_return_last_user\u001b[0m\u001b[1;33m(\u001b[0m\u001b[1;33m)\u001b[0m\u001b[1;33m)\u001b[0m\u001b[1;33m\u001b[0m\u001b[1;33m\u001b[0m\u001b[0m\n\u001b[1;32m----> 2\u001b[1;33m \u001b[0mprint\u001b[0m\u001b[1;33m(\u001b[0m\u001b[0mdelete_and_return_last_user\u001b[0m\u001b[1;33m(\u001b[0m\u001b[1;33m)\u001b[0m\u001b[1;33m)\u001b[0m\u001b[1;33m\u001b[0m\u001b[1;33m\u001b[0m\u001b[0m\n\u001b[0m",
      "\u001b[1;32mC:\\Users\\YULIAN~2\\AppData\\Local\\Temp/ipykernel_1244/2741228844.py\u001b[0m in \u001b[0;36mdelete_and_return_last_user\u001b[1;34m(default_list)\u001b[0m\n\u001b[0;32m      8\u001b[0m     \u001b[0melement_to_delete\u001b[0m \u001b[1;33m=\u001b[0m \u001b[0mdefault_list\u001b[0m\u001b[1;33m[\u001b[0m\u001b[1;33m-\u001b[0m\u001b[1;36m1\u001b[0m\u001b[1;33m]\u001b[0m\u001b[1;33m\u001b[0m\u001b[1;33m\u001b[0m\u001b[0m\n\u001b[0;32m      9\u001b[0m     \u001b[0mdefault_list\u001b[0m\u001b[1;33m.\u001b[0m\u001b[0mremove\u001b[0m\u001b[1;33m(\u001b[0m\u001b[0melement_to_delete\u001b[0m\u001b[1;33m)\u001b[0m\u001b[1;33m\u001b[0m\u001b[1;33m\u001b[0m\u001b[0m\n\u001b[1;32m---> 10\u001b[1;33m     \u001b[1;32mreturn\u001b[0m \u001b[0mdefault_list\u001b[0m\u001b[1;33m[\u001b[0m\u001b[0mDEFAULT_USER_COUNT\u001b[0m\u001b[1;33m-\u001b[0m\u001b[1;36m2\u001b[0m\u001b[1;33m]\u001b[0m\u001b[1;33m\u001b[0m\u001b[1;33m\u001b[0m\u001b[0m\n\u001b[0m",
      "\u001b[1;31mIndexError\u001b[0m: list index out of range"
     ]
    }
   ],
   "source": [
    "print(delete_and_return_last_user())\n",
    "print(delete_and_return_last_user())"
   ]
  },
  {
   "cell_type": "markdown",
   "metadata": {},
   "source": [
    "* Ошибка list index out of range означает, что запрашиваемого индекса нет в запрашиваемом списке.\n",
    "* Выражение def выполняется только один раз, когда функция определяется/задается. В этот же момент оценивается значение параметров по умолчанию. И это пред-рассчитанное значение используется при каждом вызове функции, если не задано значение параметра. Но если параметр со значением по умолчанию является изменяемым типом данных, то пред-рассчитанное значение это ссылка на этот объект. И если в ходе функции этот объект изменяется, то при следующем запуске будет использоваться уже измененное значение.\n",
    "* При первом запуске в списке три индекса: 0, 1, 2. Функция удаляет элемент с индексом 2. Так как в функции к изменяемому типу данных (списку) применяется метод (.remove()), то список default_list изменяется на ['A100', 'A101']. Функция возвращает элемент с индексом 3-2 = 1.\n",
    "* При следующем (втором) запуске функции default_list = ['A100', 'A101'], т.е. в списке два индекса: 0 и 1. Функция удаляет элемент с индексом 1 -> default_list = ['A100']. А вернуть элемент с индексом 3-2=1 уже невозможно, т.к. в списке остался только элемент с индексом 0.\n",
    "* При следующем (третьем) запуске функции default_list = ['A100']."
   ]
  },
  {
   "cell_type": "markdown",
   "metadata": {},
   "source": [
    "Если нужно, чтобы для заданного default_list функция отрабатывала до последнего пользователя, то меняем строку return и привязываем к последнему элементу списка, а не к элементу, чей индекс рассчитывается через DEFAULT_USER_COUNT:"
   ]
  },
  {
   "cell_type": "code",
   "execution_count": 13,
   "metadata": {},
   "outputs": [],
   "source": [
    "DEFAULT_USER_COUNT = 3\n",
    "def delete_and_return_last_user_2(default_list=['A100', 'A101', 'A102']):\n",
    "    \"\"\"\n",
    "    Удаляет из списка default_list последнего пользователя\n",
    "    и возвращает ID нового последнего пользователя.\n",
    "    \"\"\"\n",
    "    element_to_delete = default_list[-1]\n",
    "    default_list.remove(element_to_delete)\n",
    "    return default_list[-1]"
   ]
  },
  {
   "cell_type": "code",
   "execution_count": 14,
   "metadata": {},
   "outputs": [
    {
     "name": "stdout",
     "output_type": "stream",
     "text": [
      "A101\n",
      "A100\n"
     ]
    },
    {
     "ename": "IndexError",
     "evalue": "list index out of range",
     "output_type": "error",
     "traceback": [
      "\u001b[1;31m---------------------------------------------------------------------------\u001b[0m",
      "\u001b[1;31mIndexError\u001b[0m                                Traceback (most recent call last)",
      "\u001b[1;32mC:\\Users\\YULIAN~2\\AppData\\Local\\Temp/ipykernel_1244/1446371178.py\u001b[0m in \u001b[0;36m<module>\u001b[1;34m\u001b[0m\n\u001b[0;32m      1\u001b[0m \u001b[0mprint\u001b[0m\u001b[1;33m(\u001b[0m\u001b[0mdelete_and_return_last_user_2\u001b[0m\u001b[1;33m(\u001b[0m\u001b[1;33m)\u001b[0m\u001b[1;33m)\u001b[0m\u001b[1;33m\u001b[0m\u001b[1;33m\u001b[0m\u001b[0m\n\u001b[0;32m      2\u001b[0m \u001b[0mprint\u001b[0m\u001b[1;33m(\u001b[0m\u001b[0mdelete_and_return_last_user_2\u001b[0m\u001b[1;33m(\u001b[0m\u001b[1;33m)\u001b[0m\u001b[1;33m)\u001b[0m\u001b[1;33m\u001b[0m\u001b[1;33m\u001b[0m\u001b[0m\n\u001b[1;32m----> 3\u001b[1;33m \u001b[0mprint\u001b[0m\u001b[1;33m(\u001b[0m\u001b[0mdelete_and_return_last_user_2\u001b[0m\u001b[1;33m(\u001b[0m\u001b[1;33m)\u001b[0m\u001b[1;33m)\u001b[0m\u001b[1;33m\u001b[0m\u001b[1;33m\u001b[0m\u001b[0m\n\u001b[0m\u001b[0;32m      4\u001b[0m \u001b[0mprint\u001b[0m\u001b[1;33m(\u001b[0m\u001b[0mdelete_and_return_last_user_2\u001b[0m\u001b[1;33m(\u001b[0m\u001b[1;33m)\u001b[0m\u001b[1;33m)\u001b[0m\u001b[1;33m\u001b[0m\u001b[1;33m\u001b[0m\u001b[0m\n",
      "\u001b[1;32mC:\\Users\\YULIAN~2\\AppData\\Local\\Temp/ipykernel_1244/3082807482.py\u001b[0m in \u001b[0;36mdelete_and_return_last_user_2\u001b[1;34m(default_list)\u001b[0m\n\u001b[0;32m      7\u001b[0m     \u001b[0melement_to_delete\u001b[0m \u001b[1;33m=\u001b[0m \u001b[0mdefault_list\u001b[0m\u001b[1;33m[\u001b[0m\u001b[1;33m-\u001b[0m\u001b[1;36m1\u001b[0m\u001b[1;33m]\u001b[0m\u001b[1;33m\u001b[0m\u001b[1;33m\u001b[0m\u001b[0m\n\u001b[0;32m      8\u001b[0m     \u001b[0mdefault_list\u001b[0m\u001b[1;33m.\u001b[0m\u001b[0mremove\u001b[0m\u001b[1;33m(\u001b[0m\u001b[0melement_to_delete\u001b[0m\u001b[1;33m)\u001b[0m\u001b[1;33m\u001b[0m\u001b[1;33m\u001b[0m\u001b[0m\n\u001b[1;32m----> 9\u001b[1;33m     \u001b[1;32mreturn\u001b[0m \u001b[0mdefault_list\u001b[0m\u001b[1;33m[\u001b[0m\u001b[1;33m-\u001b[0m\u001b[1;36m1\u001b[0m\u001b[1;33m]\u001b[0m\u001b[1;33m\u001b[0m\u001b[1;33m\u001b[0m\u001b[0m\n\u001b[0m",
      "\u001b[1;31mIndexError\u001b[0m: list index out of range"
     ]
    }
   ],
   "source": [
    "print(delete_and_return_last_user_2())\n",
    "print(delete_and_return_last_user_2())\n",
    "print(delete_and_return_last_user_2())\n",
    "print(delete_and_return_last_user_2())"
   ]
  },
  {
   "cell_type": "markdown",
   "metadata": {},
   "source": [
    "Если нужно, чтобы при каждом вызове функции для изменяемого типа данных использовалось значение по умолчанию,\n",
    "то:"
   ]
  },
  {
   "cell_type": "code",
   "execution_count": 15,
   "metadata": {},
   "outputs": [],
   "source": [
    "def delete_and_return_last_user_3 (default_list = None):\n",
    "    \n",
    "    if default_list is None:\n",
    "        default_list = ['A100', 'A101', 'A102']\n",
    "    element_to_delete = default_list[-1]\n",
    "    default_list.remove(element_to_delete)\n",
    "    return default_list[DEFAULT_USER_COUNT-2]"
   ]
  },
  {
   "cell_type": "code",
   "execution_count": 16,
   "metadata": {},
   "outputs": [
    {
     "name": "stdout",
     "output_type": "stream",
     "text": [
      "A101\n",
      "A101\n",
      "A101\n",
      "A101\n"
     ]
    }
   ],
   "source": [
    "print(delete_and_return_last_user_3())\n",
    "print(delete_and_return_last_user_3())\n",
    "print(delete_and_return_last_user_3())\n",
    "print(delete_and_return_last_user_3())"
   ]
  }
 ],
 "metadata": {
  "kernelspec": {
   "display_name": "Python 3 (ipykernel)",
   "language": "python",
   "name": "python3"
  },
  "language_info": {
   "codemirror_mode": {
    "name": "ipython",
    "version": 3
   },
   "file_extension": ".py",
   "mimetype": "text/x-python",
   "name": "python",
   "nbconvert_exporter": "python",
   "pygments_lexer": "ipython3",
   "version": "3.8.12"
  }
 },
 "nbformat": 4,
 "nbformat_minor": 4
}
