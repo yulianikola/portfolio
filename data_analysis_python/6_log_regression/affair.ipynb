{
 "cells": [
  {
   "cell_type": "markdown",
   "id": "04f91794",
   "metadata": {},
   "source": [
    "<div class=\"alert alert-info\">\n",
    "Ссылка для просмотра ноутбука в интерактивном режиме для использования гиперссылок и корректного отображения разметки:<br>\n",
    "<a href='https://nbviewer.org/github/yulianikola/portfolio/blob/master/data_analysis_python/6_log_regression/affair.ipynb'>affair</a></div>"
   ]
  },
  {
   "cell_type": "markdown",
   "id": "d284a6a2",
   "metadata": {},
   "source": [
    "### Логистическая регрессия"
   ]
  },
  {
   "cell_type": "markdown",
   "id": "839cbf43",
   "metadata": {},
   "source": [
    "#### Данные о внебрачных связях"
   ]
  },
  {
   "cell_type": "markdown",
   "id": "40b8270d",
   "metadata": {},
   "source": [
    "#### Задачи:\n",
    "1. Построить логистическую регрессию для целевой переменной affair\n",
    "1. Построить кривые ROC и Precision-Recall \"вручную\" и штатными средствами"
   ]
  },
  {
   "cell_type": "markdown",
   "id": "e096dc86",
   "metadata": {},
   "source": [
    "<p id=\"0\">\n",
    "<h4>Содержимое</h4>\n",
    "<ul type=\"square\"><a href=\"#1\"><li>Знакомство с данными</li></a>\n",
    "<a href=\"#2\"><li>Выбор факторов</li></a>\n",
    "<ul>\n",
    "<a href=\"#2.1\"><li>Подход 1 (табл.сопряж., Хи-квадрат)</li></a>\n",
    "<a href=\"#2.2\"><li>Подход 2 (mutual info)</li></a>\n",
    "</ul>\n",
    "<a href=\"#3\"><li>Логистическая регрессия</li></a>\n",
    "<a href=\"#4\"><li>ROC- и PR-кривые</li></a>"
   ]
  },
  {
   "cell_type": "markdown",
   "id": "8b007a72",
   "metadata": {},
   "source": [
    "#### Описание датасета:\n",
    "* Источник датасета вероятно https://fairmodel.econ.yale.edu/rayfair/pdf/2011b.htm, также он есть в statsmodels.\n",
    "* Статья https://fairmodel.econ.yale.edu/rayfair/pdf/1978a200.pdf\n",
    "\n",
    "\n",
    "Выборка - женщины, опрос в 1974.\n",
    "\n",
    "Показатели:\n",
    "* rate_marriage - оценка брака: от 1 = очень плохо до 5 = очень хорошо\n",
    "* age - возрастная группа: \n",
    "                         * 17.5 = до 20\n",
    "                         * 22 = 20-24\n",
    "                         * 27 = 25-29\n",
    "                         * 32 = 30-34\n",
    "                         * 37 = 35-39\n",
    "                         * 42 = 40 и более\n",
    "* yrs_married - лет в браке:\n",
    "                         * 0.5 = меньше 1 года\n",
    "                         * 2.5 = 1-4 года\n",
    "                         * 6 = 5-7 лет\n",
    "                         * 9 = 8-10 лет\n",
    "                         * 13 = более 10 лет и старшему ребенку меньше 12 лет\n",
    "                         * 16.5 = более 10 лет и старшему ребенку 12-17 лет\n",
    "                         * 23 более 10 лет и старшему ребенку 18 и более лет\n",
    "* children - количество детей: 0 = нет, 1 = 1, 2 = 2, 3 = 3, 4 = 4, 5.5 = 5 и более\n",
    "* religious - насколько религиозен: от 1 = нет до 4 = очень\n",
    "* educ - уровень образования: \n",
    "                         * 9 = начальная школа\n",
    "                         * 12 = высшая школа\n",
    "                         * 14 = частично колледж\n",
    "                         * 16 = выпускник колледжа\n",
    "                         * 17 = магистратура\n",
    "                         * 20 = ученая степень\n",
    "* occupation - вид деятельности: \n",
    "                         * 1 = студент\n",
    "                         * 2 = фермерство, с/х, малоквалифицированный, среднеквалифицированный\n",
    "                         * 3 = \"белые воротнички\": продажи, офис, секретарство\n",
    "                         * 4 = учитель, соц. работник, мед.сестра, художник, писатель, техник, квалифицированный работник\n",
    "                         * 5 = управленческий, административный, бизнес\n",
    "                         * 6 = профессионал с ученой степенью\n",
    "* occupation_husb - вид деятельности мужа: как occupation\n",
    "* affair - целевой бинарный показатель, была ли связь на стороне\n"
   ]
  },
  {
   "cell_type": "code",
   "execution_count": 1,
   "id": "5a2f2165",
   "metadata": {},
   "outputs": [],
   "source": [
    "import pandas as pd\n",
    "import matplotlib.pyplot as plt\n",
    "import numpy as np\n",
    "import seaborn as sns\n",
    "from scipy.stats import chi2_contingency\n",
    "from sklearn.feature_selection import SelectKBest\n",
    "from sklearn.feature_selection import mutual_info_classif"
   ]
  },
  {
   "cell_type": "markdown",
   "id": "8b546cc2",
   "metadata": {},
   "source": [
    "<p id=\"1\">\n",
    "<h4>Знакомство с данными</h4>"
   ]
  },
  {
   "cell_type": "code",
   "execution_count": 2,
   "id": "ccae36c4",
   "metadata": {
    "scrolled": false
   },
   "outputs": [
    {
     "data": {
      "text/html": [
       "<div>\n",
       "<style scoped>\n",
       "    .dataframe tbody tr th:only-of-type {\n",
       "        vertical-align: middle;\n",
       "    }\n",
       "\n",
       "    .dataframe tbody tr th {\n",
       "        vertical-align: top;\n",
       "    }\n",
       "\n",
       "    .dataframe thead th {\n",
       "        text-align: right;\n",
       "    }\n",
       "</style>\n",
       "<table border=\"1\" class=\"dataframe\">\n",
       "  <thead>\n",
       "    <tr style=\"text-align: right;\">\n",
       "      <th></th>\n",
       "      <th>rate_marriage</th>\n",
       "      <th>age</th>\n",
       "      <th>yrs_married</th>\n",
       "      <th>children</th>\n",
       "      <th>religious</th>\n",
       "      <th>educ</th>\n",
       "      <th>occupation</th>\n",
       "      <th>occupation_husb</th>\n",
       "      <th>affair</th>\n",
       "    </tr>\n",
       "  </thead>\n",
       "  <tbody>\n",
       "    <tr>\n",
       "      <th>0</th>\n",
       "      <td>3.0</td>\n",
       "      <td>32.0</td>\n",
       "      <td>9.0</td>\n",
       "      <td>3.0</td>\n",
       "      <td>3.0</td>\n",
       "      <td>17.0</td>\n",
       "      <td>2.0</td>\n",
       "      <td>5.0</td>\n",
       "      <td>1</td>\n",
       "    </tr>\n",
       "    <tr>\n",
       "      <th>1</th>\n",
       "      <td>3.0</td>\n",
       "      <td>27.0</td>\n",
       "      <td>13.0</td>\n",
       "      <td>3.0</td>\n",
       "      <td>1.0</td>\n",
       "      <td>14.0</td>\n",
       "      <td>3.0</td>\n",
       "      <td>4.0</td>\n",
       "      <td>1</td>\n",
       "    </tr>\n",
       "    <tr>\n",
       "      <th>2</th>\n",
       "      <td>4.0</td>\n",
       "      <td>22.0</td>\n",
       "      <td>2.5</td>\n",
       "      <td>0.0</td>\n",
       "      <td>1.0</td>\n",
       "      <td>16.0</td>\n",
       "      <td>3.0</td>\n",
       "      <td>5.0</td>\n",
       "      <td>1</td>\n",
       "    </tr>\n",
       "    <tr>\n",
       "      <th>3</th>\n",
       "      <td>4.0</td>\n",
       "      <td>37.0</td>\n",
       "      <td>16.5</td>\n",
       "      <td>4.0</td>\n",
       "      <td>3.0</td>\n",
       "      <td>16.0</td>\n",
       "      <td>5.0</td>\n",
       "      <td>5.0</td>\n",
       "      <td>1</td>\n",
       "    </tr>\n",
       "    <tr>\n",
       "      <th>4</th>\n",
       "      <td>5.0</td>\n",
       "      <td>27.0</td>\n",
       "      <td>9.0</td>\n",
       "      <td>1.0</td>\n",
       "      <td>1.0</td>\n",
       "      <td>14.0</td>\n",
       "      <td>3.0</td>\n",
       "      <td>4.0</td>\n",
       "      <td>1</td>\n",
       "    </tr>\n",
       "  </tbody>\n",
       "</table>\n",
       "</div>"
      ],
      "text/plain": [
       "   rate_marriage   age  yrs_married  children  religious  educ  occupation  \\\n",
       "0            3.0  32.0          9.0       3.0        3.0  17.0         2.0   \n",
       "1            3.0  27.0         13.0       3.0        1.0  14.0         3.0   \n",
       "2            4.0  22.0          2.5       0.0        1.0  16.0         3.0   \n",
       "3            4.0  37.0         16.5       4.0        3.0  16.0         5.0   \n",
       "4            5.0  27.0          9.0       1.0        1.0  14.0         3.0   \n",
       "\n",
       "   occupation_husb  affair  \n",
       "0              5.0       1  \n",
       "1              4.0       1  \n",
       "2              5.0       1  \n",
       "3              5.0       1  \n",
       "4              4.0       1  "
      ]
     },
     "execution_count": 2,
     "metadata": {},
     "output_type": "execute_result"
    }
   ],
   "source": [
    "data = pd.read_csv('C:\\\\python\\\\portfolio\\\\data_analysis_python\\\\6_log_regression\\\\data\\\\affair.csv')\n",
    "data.head()"
   ]
  },
  {
   "cell_type": "markdown",
   "id": "964c4110",
   "metadata": {},
   "source": [
    "В датасете 6366 строк, 9 столбцов. Пропусков нет, пропусков обозначенных какими-то символами тоже нет, так как все типы данных определились как числовые:"
   ]
  },
  {
   "cell_type": "code",
   "execution_count": 3,
   "id": "4889adbf",
   "metadata": {
    "scrolled": true
   },
   "outputs": [
    {
     "name": "stdout",
     "output_type": "stream",
     "text": [
      "<class 'pandas.core.frame.DataFrame'>\n",
      "RangeIndex: 6366 entries, 0 to 6365\n",
      "Data columns (total 9 columns):\n",
      " #   Column           Non-Null Count  Dtype  \n",
      "---  ------           --------------  -----  \n",
      " 0   rate_marriage    6366 non-null   float64\n",
      " 1   age              6366 non-null   float64\n",
      " 2   yrs_married      6366 non-null   float64\n",
      " 3   children         6366 non-null   float64\n",
      " 4   religious        6366 non-null   float64\n",
      " 5   educ             6366 non-null   float64\n",
      " 6   occupation       6366 non-null   float64\n",
      " 7   occupation_husb  6366 non-null   float64\n",
      " 8   affair           6366 non-null   int64  \n",
      "dtypes: float64(8), int64(1)\n",
      "memory usage: 447.7 KB\n"
     ]
    }
   ],
   "source": [
    "data.info()"
   ]
  },
  {
   "cell_type": "markdown",
   "id": "d473df2f",
   "metadata": {},
   "source": [
    "Выведем возможные принимаемые значения. Все сходится с описанием датасета."
   ]
  },
  {
   "cell_type": "code",
   "execution_count": 4,
   "id": "3b0bda59",
   "metadata": {
    "scrolled": false
   },
   "outputs": [
    {
     "name": "stdout",
     "output_type": "stream",
     "text": [
      "rate_marriage\n",
      "5 [1.0, 2.0, 3.0, 4.0, 5.0]\n",
      "----------\n",
      "age\n",
      "6 [17.5, 22.0, 27.0, 32.0, 37.0, 42.0]\n",
      "----------\n",
      "yrs_married\n",
      "7 [0.5, 2.5, 6.0, 9.0, 13.0, 16.5, 23.0]\n",
      "----------\n",
      "children\n",
      "6 [0.0, 1.0, 2.0, 3.0, 4.0, 5.5]\n",
      "----------\n",
      "religious\n",
      "4 [1.0, 2.0, 3.0, 4.0]\n",
      "----------\n",
      "educ\n",
      "6 [9.0, 12.0, 14.0, 16.0, 17.0, 20.0]\n",
      "----------\n",
      "occupation\n",
      "6 [1.0, 2.0, 3.0, 4.0, 5.0, 6.0]\n",
      "----------\n",
      "occupation_husb\n",
      "6 [1.0, 2.0, 3.0, 4.0, 5.0, 6.0]\n",
      "----------\n",
      "affair\n",
      "2 [0, 1]\n",
      "----------\n"
     ]
    }
   ],
   "source": [
    "for c in data.columns:\n",
    "    n = data[c].nunique()\n",
    "    print(c)\n",
    "    if n <= 10:\n",
    "        print(n, sorted(data[c].value_counts().index))\n",
    "    else:\n",
    "        print(n)\n",
    "    print(10 * \"-\")\n"
   ]
  },
  {
   "cell_type": "markdown",
   "id": "7af6c587",
   "metadata": {},
   "source": [
    "* Целевая переменная - бинарная, категориальная номинальная.\n",
    "* Из описания датасета получается, что все факторы категориальные. В целом все их можно воспринимать как порядковые: чем \"выше\" значение категории, тем \"больше/выше\" значение самого фактора. Даже с occupation: чем выше значение категории, тем более профессиональный/квалифицированный вид занятости.\n",
    "* rate_marriage и religious - классическая ранговая шкала с равноудаленными значениями. В психологии и маркетинге их могут часто воспринимать как дискретные. Но так как у нас все остальные факторы категориальные, то и эти будем считать такими же."
   ]
  },
  {
   "cell_type": "markdown",
   "id": "881151e7",
   "metadata": {},
   "source": [
    "<a href=\"#0\"><h4>Наверх</h4></a>"
   ]
  },
  {
   "cell_type": "markdown",
   "id": "b907c4a8",
   "metadata": {},
   "source": [
    "<p id=\"2\">\n",
    "<h4>Выбор факторов</h4>"
   ]
  },
  {
   "cell_type": "markdown",
   "id": "2d35c71c",
   "metadata": {},
   "source": [
    "<p id=\"2.1\">\n",
    "<h5>Подход 1</h5>"
   ]
  },
  {
   "cell_type": "markdown",
   "id": "602028f2",
   "metadata": {},
   "source": [
    "Для отбора факторов в модель логистической регрессии посмотрим на взаимосвязи факторов и целевой переменной. Так как и факторы и таргет категориальные, то будем смотреть графически, таблицы сопряженности, теоретические частоты и тест Хи-квадрат Пирсона."
   ]
  },
  {
   "cell_type": "markdown",
   "id": "32bde0c4",
   "metadata": {},
   "source": [
    "Сначала посмотрим распределение значений таргета: 32% измен."
   ]
  },
  {
   "cell_type": "code",
   "execution_count": 5,
   "id": "8ee897a2",
   "metadata": {},
   "outputs": [
    {
     "data": {
      "text/plain": [
       "0    0.678\n",
       "1    0.322\n",
       "Name: affair, dtype: float64"
      ]
     },
     "execution_count": 5,
     "metadata": {},
     "output_type": "execute_result"
    }
   ],
   "source": [
    "pd.set_option(\"precision\", 3)\n",
    "data.affair.value_counts(normalize = True)"
   ]
  },
  {
   "cell_type": "markdown",
   "id": "896f77d3",
   "metadata": {},
   "source": [
    "##### rate_marriage"
   ]
  },
  {
   "cell_type": "markdown",
   "id": "e1938491",
   "metadata": {},
   "source": [
    "На 5 брак оценили 42% женщин, около 7 % оценили плохо (ответы 1-2):"
   ]
  },
  {
   "cell_type": "code",
   "execution_count": 6,
   "id": "644a03d7",
   "metadata": {},
   "outputs": [
    {
     "data": {
      "text/plain": [
       "5.0    0.422\n",
       "4.0    0.352\n",
       "3.0    0.156\n",
       "2.0    0.055\n",
       "1.0    0.016\n",
       "Name: rate_marriage, dtype: float64"
      ]
     },
     "execution_count": 6,
     "metadata": {},
     "output_type": "execute_result"
    }
   ],
   "source": [
    "data.rate_marriage.value_counts(normalize = True)"
   ]
  },
  {
   "cell_type": "markdown",
   "id": "2161f424",
   "metadata": {},
   "source": [
    "Графическое соотношение измены и верности в разрезе оценки брака. Среди дающих оценки 1-3 измен больше чем верности. А среди оценок 4-5 значительно больше верности, чем измен."
   ]
  },
  {
   "cell_type": "code",
   "execution_count": 7,
   "id": "c473f7bb",
   "metadata": {
    "scrolled": true
   },
   "outputs": [
    {
     "data": {
      "image/png": "[encoded data removed]",
      "text/plain": [
       "<Figure size 432x288 with 1 Axes>"
      ]
     },
     "metadata": {
      "needs_background": "light"
     },
     "output_type": "display_data"
    }
   ],
   "source": [
    "pd.crosstab(data.rate_marriage, data.affair).plot(kind = 'bar');\n",
    "plt.title('rate_marriage и affair');\n",
    "plt.xlabel('rate_marriage');\n",
    "plt.ylabel('частоты');"
   ]
  },
  {
   "cell_type": "markdown",
   "id": "24300a57",
   "metadata": {},
   "source": [
    "Таблица сопряженности для affair и rate_marriage, в долях по столбцам. Доли измен выше, чем доли верности для оценок 1-2-3. Для оценок 4-5 доля измен ниже, чем верных."
   ]
  },
  {
   "cell_type": "code",
   "execution_count": 8,
   "id": "ecb7e9f9",
   "metadata": {
    "scrolled": false
   },
   "outputs": [
    {
     "name": "stdout",
     "output_type": "stream",
     "text": [
      "rate_marriage   1.0   2.0   3.0   4.0   5.0\n",
      "affair                                     \n",
      "0              0.25  0.36  0.45  0.68  0.82\n",
      "1              0.75  0.64  0.55  0.32  0.18\n"
     ]
    }
   ],
   "source": [
    "print(pd.crosstab(data.affair, data.rate_marriage, normalize = 'columns').round(2))"
   ]
  },
  {
   "cell_type": "markdown",
   "id": "2b9f1649",
   "metadata": {},
   "source": [
    "Таблица сопряженности, фактические частоты и теоретические (гипотеза независимости). В теоретическом распределении верность больше в каждой группе, а фактически это так только для оценок 1-2-3."
   ]
  },
  {
   "cell_type": "code",
   "execution_count": 10,
   "id": "478ab078",
   "metadata": {},
   "outputs": [],
   "source": [
    "import statsmodels.api as sm"
   ]
  },
  {
   "cell_type": "code",
   "execution_count": 11,
   "id": "6cc331c8",
   "metadata": {},
   "outputs": [
    {
     "name": "stdout",
     "output_type": "stream",
     "text": [
      "rate_marriage  1.0  2.0  3.0   4.0   5.0\n",
      "affair                                  \n",
      "0               25  127  446  1518  2197\n",
      "1               74  221  547   724   487\n",
      "\n",
      "rate_marriage   1.0    2.0    3.0     4.0     5.0\n",
      "affair                                           \n",
      "0              67.0  236.0  673.0  1519.0  1818.0\n",
      "1              32.0  112.0  320.0   723.0   866.0\n"
     ]
    }
   ],
   "source": [
    "tab_rm = pd.crosstab(data.affair, data.rate_marriage)\n",
    "table = sm.stats.Table(tab_rm)\n",
    "print(table.table_orig)\n",
    "print('')\n",
    "print(table.fittedvalues.round())"
   ]
  },
  {
   "cell_type": "markdown",
   "id": "96b13f71",
   "metadata": {},
   "source": [
    "Тест Хи-квадрат Пирсона на независимость affair и rate_marriage дает нулевое р-значение, то есть более чем достаточно аргументов для отвержения нулевой гипотезы о независимости."
   ]
  },
  {
   "cell_type": "code",
   "execution_count": 12,
   "id": "9a4e6767",
   "metadata": {},
   "outputs": [
    {
     "name": "stdout",
     "output_type": "stream",
     "text": [
      "stat:  718.84 p-value:  2.9045329481179437e-154\n"
     ]
    }
   ],
   "source": [
    "stat, p, *_ = chi2_contingency(tab_rm, correction = False)\n",
    "print('stat: ', stat.round(2), 'p-value: ', p)"
   ]
  },
  {
   "cell_type": "markdown",
   "id": "b9959160",
   "metadata": {},
   "source": [
    "##### age"
   ]
  },
  {
   "cell_type": "markdown",
   "id": "5bbd7583",
   "metadata": {},
   "source": [
    "Больше всего женщин (74%) до 30 лет (значения 17.5, 22, 27), 26% 30-40 лет и 12% больше 40:"
   ]
  },
  {
   "cell_type": "code",
   "execution_count": 13,
   "id": "86cfad30",
   "metadata": {
    "scrolled": true
   },
   "outputs": [
    {
     "data": {
      "text/plain": [
       "27.0    0.303\n",
       "22.0    0.283\n",
       "32.0    0.168\n",
       "42.0    0.125\n",
       "37.0    0.100\n",
       "17.5    0.022\n",
       "Name: age, dtype: float64"
      ]
     },
     "execution_count": 13,
     "metadata": {},
     "output_type": "execute_result"
    }
   ],
   "source": [
    "data.age.value_counts(normalize = True)"
   ]
  },
  {
   "cell_type": "markdown",
   "id": "112495f1",
   "metadata": {},
   "source": [
    "Во всех возрастах верности больше чем измен."
   ]
  },
  {
   "cell_type": "code",
   "execution_count": 14,
   "id": "873083ed",
   "metadata": {
    "scrolled": true
   },
   "outputs": [
    {
     "data": {
      "image/png": "[encoded data removed]",
      "text/plain": [
       "<Figure size 432x288 with 1 Axes>"
      ]
     },
     "metadata": {
      "needs_background": "light"
     },
     "output_type": "display_data"
    }
   ],
   "source": [
    "pd.crosstab(data.age, data.affair).plot(kind = 'bar');\n",
    "plt.title('age и affair');\n",
    "plt.xlabel('age');\n",
    "plt.ylabel('частоты');"
   ]
  },
  {
   "cell_type": "markdown",
   "id": "7f9d252c",
   "metadata": {},
   "source": [
    "Таблица сопряженности для affair и age, в долях по столбцам. Доли измен ниже, чем верных.  Наиболее значительная разница для двух первых категорий возраста."
   ]
  },
  {
   "cell_type": "code",
   "execution_count": 15,
   "id": "438ff4c2",
   "metadata": {
    "scrolled": true
   },
   "outputs": [
    {
     "name": "stdout",
     "output_type": "stream",
     "text": [
      "age     17.5  22.0  27.0  32.0  37.0  42.0\n",
      "affair                                    \n",
      "0       0.91  0.77  0.67   0.6  0.57  0.61\n",
      "1       0.09  0.23  0.33   0.4  0.43  0.39\n"
     ]
    }
   ],
   "source": [
    "print(pd.crosstab(data.affair, data.age, normalize = 'columns').round(2))"
   ]
  },
  {
   "cell_type": "markdown",
   "id": "0ed0a12d",
   "metadata": {},
   "source": [
    "Таблица сопряженности, фактические частоты и теоретические (гипотеза независимости). Частоты схожи для категорий 27, 32, 37, 42, так как там пропорции более менее ровные, около 60 на 40. А для первых двух категорий теоретические частоты измен выше."
   ]
  },
  {
   "cell_type": "code",
   "execution_count": 16,
   "id": "e6b4a2ec",
   "metadata": {
    "scrolled": false
   },
   "outputs": [
    {
     "name": "stdout",
     "output_type": "stream",
     "text": [
      "age     17.5  22.0  27.0  32.0  37.0  42.0\n",
      "affair                                    \n",
      "0        126  1394  1298   644   364   487\n",
      "1         13   406   633   425   270   306\n",
      "\n",
      "age     17.5    22.0    27.0   32.0   37.0   42.0\n",
      "affair                                           \n",
      "0       94.0  1220.0  1308.0  724.0  430.0  537.0\n",
      "1       45.0   580.0   623.0  345.0  204.0  256.0\n"
     ]
    }
   ],
   "source": [
    "tab_ag = pd.crosstab(data.affair, data.age)\n",
    "table = sm.stats.Table(tab_ag)\n",
    "print(table.table_orig)\n",
    "print('')\n",
    "print(table.fittedvalues.round())"
   ]
  },
  {
   "cell_type": "markdown",
   "id": "1c4b80dc",
   "metadata": {},
   "source": [
    "Тест Хи-квадрат Пирсона на независимость affair и age дает нулевое р-значение, то есть более чем достаточно аргументов для отвержения нулевой гипотезы о независимости."
   ]
  },
  {
   "cell_type": "code",
   "execution_count": 17,
   "id": "0f6278be",
   "metadata": {},
   "outputs": [
    {
     "name": "stdout",
     "output_type": "stream",
     "text": [
      "stat:  184.18 p-value:  6.840949774636419e-38\n"
     ]
    }
   ],
   "source": [
    "stat, p, *_ = chi2_contingency(tab_ag, correction = False)\n",
    "print('stat: ', stat.round(2), 'p-value: ', p)"
   ]
  },
  {
   "cell_type": "markdown",
   "id": "63d5624f",
   "metadata": {},
   "source": [
    "##### yrs_married"
   ]
  },
  {
   "cell_type": "markdown",
   "id": "8f9a5514",
   "metadata": {},
   "source": [
    "В браке 1-4 года 32% женщин, больше 10 лет и с детьми около 34% (значения 13, 16.5, 23):"
   ]
  },
  {
   "cell_type": "code",
   "execution_count": 18,
   "id": "970b0c6b",
   "metadata": {
    "scrolled": true
   },
   "outputs": [
    {
     "data": {
      "text/plain": [
       "2.5     0.320\n",
       "6.0     0.179\n",
       "16.5    0.128\n",
       "23.0    0.127\n",
       "9.0     0.095\n",
       "13.0    0.093\n",
       "0.5     0.058\n",
       "Name: yrs_married, dtype: float64"
      ]
     },
     "execution_count": 18,
     "metadata": {},
     "output_type": "execute_result"
    }
   ],
   "source": [
    "data.yrs_married.value_counts(normalize = True)"
   ]
  },
  {
   "cell_type": "markdown",
   "id": "75220893",
   "metadata": {},
   "source": [
    "Для всех категорий лет брака верности больще чем измен."
   ]
  },
  {
   "cell_type": "code",
   "execution_count": 19,
   "id": "c5113148",
   "metadata": {
    "scrolled": true
   },
   "outputs": [
    {
     "data": {
      "image/png": "[encoded data removed]",
      "text/plain": [
       "<Figure size 432x288 with 1 Axes>"
      ]
     },
     "metadata": {
      "needs_background": "light"
     },
     "output_type": "display_data"
    }
   ],
   "source": [
    "pd.crosstab(data.yrs_married, data.affair).plot(kind = 'bar');\n",
    "plt.title('yrs_married и affair');\n",
    "plt.xlabel('yrs_married');\n",
    "plt.ylabel('частоты');"
   ]
  },
  {
   "cell_type": "markdown",
   "id": "eef2a323",
   "metadata": {},
   "source": [
    "Таблица сопряженности для affair и yrs_married, в долях по столбцам. Для всех групп длительности доля измен ниже доли верности.  Наиболее значительная разница для двух первых категорий лет брака."
   ]
  },
  {
   "cell_type": "code",
   "execution_count": 20,
   "id": "0c62caae",
   "metadata": {},
   "outputs": [
    {
     "name": "stdout",
     "output_type": "stream",
     "text": [
      "yrs_married  0.5   2.5   6.0   9.0   13.0  16.5  23.0\n",
      "affair                                               \n",
      "0            0.96  0.78  0.66  0.58  0.59  0.55  0.57\n",
      "1            0.04  0.22  0.34  0.42  0.41  0.45  0.43\n"
     ]
    }
   ],
   "source": [
    "print(pd.crosstab(data.affair, data.yrs_married, normalize = 'columns').round(2))"
   ]
  },
  {
   "cell_type": "markdown",
   "id": "982c38d2",
   "metadata": {},
   "source": [
    "Таблица сопряженности, фактические частоты и теоретические (гипотеза независимости). Для первых двух категорий теоретические частоты измен значительно выше фактических."
   ]
  },
  {
   "cell_type": "code",
   "execution_count": 21,
   "id": "bf22144c",
   "metadata": {},
   "outputs": [
    {
     "name": "stdout",
     "output_type": "stream",
     "text": [
      "yrs_married  0.5   2.5   6.0   9.0   13.0  16.5  23.0\n",
      "affair                                               \n",
      "0             354  1595   754   348   347   449   466\n",
      "1              16   439   387   254   243   369   345\n",
      "\n",
      "yrs_married   0.5     2.5    6.0    9.0    13.0   16.5   23.0\n",
      "affair                                                       \n",
      "0            251.0  1378.0  773.0  408.0  400.0  554.0  549.0\n",
      "1            119.0   656.0  368.0  194.0  190.0  264.0  262.0\n"
     ]
    }
   ],
   "source": [
    "tab_ym = pd.crosstab(data.affair, data.yrs_married)\n",
    "table = sm.stats.Table(tab_ym)\n",
    "print(table.table_orig)\n",
    "print('')\n",
    "print(table.fittedvalues.round())"
   ]
  },
  {
   "cell_type": "markdown",
   "id": "150bc993",
   "metadata": {
    "scrolled": true
   },
   "source": [
    "Тест Хи-квадрат Пирсона на независимость affair и yrs_married дает нулевое р-значение, то есть более чем достаточно аргументов для отвержения нулевой гипотезы о независимости."
   ]
  },
  {
   "cell_type": "code",
   "execution_count": 22,
   "id": "33c88fc2",
   "metadata": {},
   "outputs": [
    {
     "name": "stdout",
     "output_type": "stream",
     "text": [
      "stat:  389.46 p-value:  5.159413266447153e-81\n"
     ]
    }
   ],
   "source": [
    "stat, p, *_ = chi2_contingency(tab_ym, correction = False)\n",
    "print('stat: ', stat.round(2), 'p-value: ', p)"
   ]
  },
  {
   "cell_type": "markdown",
   "id": "9b7f015a",
   "metadata": {},
   "source": [
    "##### children"
   ]
  },
  {
   "cell_type": "markdown",
   "id": "a72c8eaf",
   "metadata": {},
   "source": [
    "У 37% женщин детей нет, второй по частоте ответ 2 детей 23%, а один ребенок только у 18%:"
   ]
  },
  {
   "cell_type": "code",
   "execution_count": 23,
   "id": "22132151",
   "metadata": {},
   "outputs": [
    {
     "data": {
      "text/plain": [
       "0.0    0.379\n",
       "2.0    0.233\n",
       "1.0    0.182\n",
       "3.0    0.123\n",
       "4.0    0.052\n",
       "5.5    0.032\n",
       "Name: children, dtype: float64"
      ]
     },
     "execution_count": 23,
     "metadata": {},
     "output_type": "execute_result"
    }
   ],
   "source": [
    "data.children.value_counts(normalize = True)"
   ]
  },
  {
   "cell_type": "markdown",
   "id": "48612565",
   "metadata": {},
   "source": [
    "Для всех категорий кол-ва детей верности больше чем измен. "
   ]
  },
  {
   "cell_type": "code",
   "execution_count": 24,
   "id": "cbbd9718",
   "metadata": {
    "scrolled": true
   },
   "outputs": [
    {
     "data": {
      "image/png": "[encoded data removed]",
      "text/plain": [
       "<Figure size 432x288 with 1 Axes>"
      ]
     },
     "metadata": {
      "needs_background": "light"
     },
     "output_type": "display_data"
    }
   ],
   "source": [
    "pd.crosstab(data.children, data.affair).plot(kind = 'bar');\n",
    "plt.title('children и affair');\n",
    "plt.xlabel('children');\n",
    "plt.ylabel('частоты');"
   ]
  },
  {
   "cell_type": "markdown",
   "id": "7bc2bed9",
   "metadata": {},
   "source": [
    "Таблица сопряженности для affair и children, в долях по столбцам. Для всех групп детей доля измен ниже доли верности. Наиболее значительная разница для отсутствия детей."
   ]
  },
  {
   "cell_type": "code",
   "execution_count": 25,
   "id": "f25ea394",
   "metadata": {},
   "outputs": [
    {
     "name": "stdout",
     "output_type": "stream",
     "text": [
      "children   0.0   1.0   2.0   3.0  4.0   5.5\n",
      "affair                                     \n",
      "0         0.79  0.64  0.59  0.59  0.6  0.61\n",
      "1         0.21  0.36  0.41  0.41  0.4  0.39\n"
     ]
    }
   ],
   "source": [
    "print(pd.crosstab(data.affair, data.children, normalize = 'columns').round(2))"
   ]
  },
  {
   "cell_type": "markdown",
   "id": "92b93e98",
   "metadata": {},
   "source": [
    "Таблица сопряженности, фактические частоты и теоретические (гипотеза независимости). "
   ]
  },
  {
   "cell_type": "code",
   "execution_count": 26,
   "id": "8a184dd5",
   "metadata": {},
   "outputs": [
    {
     "name": "stdout",
     "output_type": "stream",
     "text": [
      "children   0.0  1.0  2.0  3.0  4.0  5.5\n",
      "affair                                 \n",
      "0         1912  747  873  460  197  124\n",
      "1          502  412  608  321  131   79\n",
      "\n",
      "children     0.0    1.0     2.0    3.0    4.0    5.5\n",
      "affair                                              \n",
      "0         1635.0  785.0  1003.0  529.0  222.0  138.0\n",
      "1          779.0  374.0   478.0  252.0  106.0   65.0\n"
     ]
    }
   ],
   "source": [
    "tab_c = pd.crosstab(data.affair, data.children)\n",
    "table = sm.stats.Table(tab_c)\n",
    "print(table.table_orig)\n",
    "print('')\n",
    "print(table.fittedvalues.round())"
   ]
  },
  {
   "cell_type": "markdown",
   "id": "ff0b610b",
   "metadata": {},
   "source": [
    "Тест Хи-квадрат Пирсона на независимость affair и children дает нулевое р-значение, то есть более чем достаточно аргументов для отвержения нулевой гипотезы о независимости."
   ]
  },
  {
   "cell_type": "code",
   "execution_count": 27,
   "id": "082850a2",
   "metadata": {},
   "outputs": [
    {
     "name": "stdout",
     "output_type": "stream",
     "text": [
      "stat:  244.27 p-value:  9.303019680004575e-51\n"
     ]
    }
   ],
   "source": [
    "stat, p, *_ = chi2_contingency(tab_c, correction = False)\n",
    "print('stat: ', stat.round(2), 'p-value: ', p)"
   ]
  },
  {
   "cell_type": "markdown",
   "id": "432b16e4",
   "metadata": {},
   "source": [
    "##### religious"
   ]
  },
  {
   "cell_type": "markdown",
   "id": "6912ea43",
   "metadata": {},
   "source": [
    "Средне религиозны 73% женщин (ответы 2-3), очень религиозны 10%, не религиозны 16%:"
   ]
  },
  {
   "cell_type": "code",
   "execution_count": 28,
   "id": "82342c27",
   "metadata": {},
   "outputs": [
    {
     "data": {
      "text/plain": [
       "3.0    0.380\n",
       "2.0    0.356\n",
       "1.0    0.160\n",
       "4.0    0.103\n",
       "Name: religious, dtype: float64"
      ]
     },
     "execution_count": 28,
     "metadata": {},
     "output_type": "execute_result"
    }
   ],
   "source": [
    "data.religious.value_counts(normalize = True)"
   ]
  },
  {
   "cell_type": "markdown",
   "id": "9c668a03",
   "metadata": {},
   "source": [
    "Для всех уровней религиозности верности больше чем измен. "
   ]
  },
  {
   "cell_type": "code",
   "execution_count": 29,
   "id": "613d14aa",
   "metadata": {},
   "outputs": [
    {
     "data": {
      "image/png": "[encoded data removed]",
      "text/plain": [
       "<Figure size 432x288 with 1 Axes>"
      ]
     },
     "metadata": {
      "needs_background": "light"
     },
     "output_type": "display_data"
    }
   ],
   "source": [
    "pd.crosstab(data.religious, data.affair).plot(kind = 'bar');\n",
    "plt.title('religious и affair');\n",
    "plt.xlabel('religious');\n",
    "plt.ylabel('частоты');"
   ]
  },
  {
   "cell_type": "markdown",
   "id": "aa4e33f7",
   "metadata": {
    "scrolled": false
   },
   "source": [
    "Таблица сопряженности для affair и religious, в долях по столбцам. Для всех групп религиозности доля измен ниже доли верности. Наиболее значительная разница для очень религиозных."
   ]
  },
  {
   "cell_type": "code",
   "execution_count": 30,
   "id": "45dd3ed0",
   "metadata": {},
   "outputs": [
    {
     "name": "stdout",
     "output_type": "stream",
     "text": [
      "religious  1.0   2.0   3.0   4.0\n",
      "affair                          \n",
      "0          0.6  0.64  0.71  0.82\n",
      "1          0.4  0.36  0.29  0.18\n"
     ]
    }
   ],
   "source": [
    "print(pd.crosstab(data.affair, data.religious, normalize = 'columns').round(2))"
   ]
  },
  {
   "cell_type": "markdown",
   "id": "79bcce66",
   "metadata": {},
   "source": [
    "Таблица сопряженности, фактические частоты и теоретические (гипотеза независимости)."
   ]
  },
  {
   "cell_type": "code",
   "execution_count": 31,
   "id": "7bd49bc8",
   "metadata": {},
   "outputs": [
    {
     "name": "stdout",
     "output_type": "stream",
     "text": [
      "religious  1.0   2.0   3.0  4.0\n",
      "affair                         \n",
      "0          613  1448  1715  537\n",
      "1          408   819   707  119\n"
     ]
    }
   ],
   "source": [
    "tab_r = pd.crosstab(data.affair, data.religious)\n",
    "table = sm.stats.Table(tab_r)\n",
    "print(table.table_orig)"
   ]
  },
  {
   "cell_type": "markdown",
   "id": "a7ef6560",
   "metadata": {},
   "source": [
    "Тест Хи-квадрат Пирсона на независимость affair и religious дает нулевое р-значение, то есть более чем достаточно аргументов для отвержения нулевой гипотезы о независимости."
   ]
  },
  {
   "cell_type": "code",
   "execution_count": 32,
   "id": "98d90fbf",
   "metadata": {},
   "outputs": [
    {
     "name": "stdout",
     "output_type": "stream",
     "text": [
      "stat:  113.53 p-value:  1.909881357296901e-24\n"
     ]
    }
   ],
   "source": [
    "stat, p, *_ = chi2_contingency(tab_r, correction = False)\n",
    "print('stat: ', stat.round(2), 'p-value: ', p)"
   ]
  },
  {
   "cell_type": "markdown",
   "id": "efde967f",
   "metadata": {},
   "source": [
    "##### educ"
   ]
  },
  {
   "cell_type": "markdown",
   "id": "9c5ce46c",
   "metadata": {},
   "source": [
    "Только начальная школа меньше чем у 1% женщин. Высшая школа (без колледжа или частично) у 67%. Закончили колледж 17%."
   ]
  },
  {
   "cell_type": "code",
   "execution_count": 33,
   "id": "84a24b31",
   "metadata": {
    "scrolled": true
   },
   "outputs": [
    {
     "data": {
      "text/plain": [
       "14.0    0.358\n",
       "12.0    0.327\n",
       "16.0    0.175\n",
       "17.0    0.080\n",
       "20.0    0.052\n",
       "9.0     0.008\n",
       "Name: educ, dtype: float64"
      ]
     },
     "execution_count": 33,
     "metadata": {},
     "output_type": "execute_result"
    }
   ],
   "source": [
    "data.educ.value_counts(normalize = True)"
   ]
  },
  {
   "cell_type": "markdown",
   "id": "c12e544e",
   "metadata": {},
   "source": [
    "Для всех уровней образования верности больше чем измен (для первой категории примерно равны). "
   ]
  },
  {
   "cell_type": "code",
   "execution_count": 34,
   "id": "0aa9ad2c",
   "metadata": {},
   "outputs": [
    {
     "data": {
      "image/png": "[encoded data removed]",
      "text/plain": [
       "<Figure size 432x288 with 1 Axes>"
      ]
     },
     "metadata": {
      "needs_background": "light"
     },
     "output_type": "display_data"
    }
   ],
   "source": [
    "pd.crosstab(data.educ, data.affair).plot(kind = 'bar');\n",
    "plt.title('educ и affair');\n",
    "plt.xlabel('educ');\n",
    "plt.ylabel('частоты');"
   ]
  },
  {
   "cell_type": "markdown",
   "id": "b93da8c7",
   "metadata": {
    "scrolled": true
   },
   "source": [
    "Таблица сопряженности для affair и educ, в долях по столбцам. Для всех групп образования доля измен ниже доли верности."
   ]
  },
  {
   "cell_type": "code",
   "execution_count": 35,
   "id": "fae1a632",
   "metadata": {},
   "outputs": [
    {
     "name": "stdout",
     "output_type": "stream",
     "text": [
      "educ    9.0   12.0  14.0  16.0  17.0  20.0\n",
      "affair                                    \n",
      "0       0.56  0.65  0.65  0.76  0.73  0.73\n",
      "1       0.44  0.35  0.35  0.24  0.27  0.27\n"
     ]
    }
   ],
   "source": [
    "print(pd.crosstab(data.affair, data.educ, normalize = 'columns').round(2))"
   ]
  },
  {
   "cell_type": "markdown",
   "id": "0fd70f9f",
   "metadata": {},
   "source": [
    "Таблица сопряженности, фактические частоты и теоретические (гипотеза независимости)."
   ]
  },
  {
   "cell_type": "code",
   "execution_count": 36,
   "id": "18a9bb8e",
   "metadata": {},
   "outputs": [
    {
     "name": "stdout",
     "output_type": "stream",
     "text": [
      "educ    9.0   12.0  14.0  16.0  17.0  20.0\n",
      "affair                                    \n",
      "0         27  1361  1469   844   370   242\n",
      "1         21   723   808   273   140    88\n",
      "\n",
      "educ    9.0     12.0    14.0   16.0   17.0   20.0\n",
      "affair                                           \n",
      "0       33.0  1412.0  1543.0  757.0  346.0  224.0\n",
      "1       15.0   672.0   734.0  360.0  164.0  106.0\n"
     ]
    }
   ],
   "source": [
    "tab_e = pd.crosstab(data.affair, data.educ)\n",
    "table = sm.stats.Table(tab_e)\n",
    "print(table.table_orig)\n",
    "print('')\n",
    "print(table.fittedvalues.round())"
   ]
  },
  {
   "cell_type": "markdown",
   "id": "28be5773",
   "metadata": {},
   "source": [
    "Тест Хи-квадрат Пирсона на независимость affair и educ дает нулевое р-значение, то есть более чем достаточно аргументов для отвержения нулевой гипотезы о независимости."
   ]
  },
  {
   "cell_type": "code",
   "execution_count": 37,
   "id": "3158909c",
   "metadata": {},
   "outputs": [
    {
     "name": "stdout",
     "output_type": "stream",
     "text": [
      "stat:  60.77 p-value:  8.428184255728632e-12\n"
     ]
    }
   ],
   "source": [
    "stat, p, *_ = chi2_contingency(tab_e, correction = False)\n",
    "print('stat: ', stat.round(2), 'p-value: ', p)"
   ]
  },
  {
   "cell_type": "markdown",
   "id": "efda0125",
   "metadata": {},
   "source": [
    "##### occupation"
   ]
  },
  {
   "cell_type": "markdown",
   "id": "4c5bf082",
   "metadata": {},
   "source": [
    "Белых воротничков 43%, управленческая деятельность у 11%:"
   ]
  },
  {
   "cell_type": "code",
   "execution_count": 38,
   "id": "4d56c2ce",
   "metadata": {},
   "outputs": [
    {
     "data": {
      "text/plain": [
       "3.0    0.437\n",
       "4.0    0.288\n",
       "2.0    0.135\n",
       "5.0    0.116\n",
       "6.0    0.017\n",
       "1.0    0.006\n",
       "Name: occupation, dtype: float64"
      ]
     },
     "execution_count": 38,
     "metadata": {},
     "output_type": "execute_result"
    }
   ],
   "source": [
    "data.occupation.value_counts(normalize = True)"
   ]
  },
  {
   "cell_type": "markdown",
   "id": "05e2d8f9",
   "metadata": {},
   "source": [
    "Для всех категорий рода занятий верности больше чем измен. "
   ]
  },
  {
   "cell_type": "code",
   "execution_count": 39,
   "id": "f5c2ad7f",
   "metadata": {},
   "outputs": [
    {
     "data": {
      "image/png": "[encoded data removed]",
      "text/plain": [
       "<Figure size 432x288 with 1 Axes>"
      ]
     },
     "metadata": {
      "needs_background": "light"
     },
     "output_type": "display_data"
    }
   ],
   "source": [
    "pd.crosstab(data.occupation, data.affair).plot(kind = 'bar');\n",
    "plt.title('occupation и affair');\n",
    "plt.xlabel('occupation');\n",
    "plt.ylabel('частоты');"
   ]
  },
  {
   "cell_type": "markdown",
   "id": "bec3d0ca",
   "metadata": {
    "scrolled": true
   },
   "source": [
    "Таблица сопряженности для affair и occupation, в долях по столбцам. Для всех групп деятельности доля измен ниже доли верности. Наиболее значительная разница для первой категории."
   ]
  },
  {
   "cell_type": "code",
   "execution_count": 40,
   "id": "fe25eeb6",
   "metadata": {},
   "outputs": [
    {
     "name": "stdout",
     "output_type": "stream",
     "text": [
      "occupation   1.0   2.0   3.0   4.0   5.0   6.0\n",
      "affair                                        \n",
      "0           0.83  0.71  0.65  0.74  0.58  0.63\n",
      "1           0.17  0.29  0.35  0.26  0.42  0.37\n"
     ]
    }
   ],
   "source": [
    "print(pd.crosstab(data.affair, data.occupation, normalize = 'columns').round(2))"
   ]
  },
  {
   "cell_type": "markdown",
   "id": "210247dd",
   "metadata": {},
   "source": [
    "Таблица сопряженности, фактические частоты и теоретические (гипотеза независимости). "
   ]
  },
  {
   "cell_type": "code",
   "execution_count": 41,
   "id": "4ad1017c",
   "metadata": {},
   "outputs": [
    {
     "name": "stdout",
     "output_type": "stream",
     "text": [
      "occupation  1.0  2.0   3.0   4.0  5.0  6.0\n",
      "affair                                    \n",
      "0            34  607  1818  1354  431   69\n",
      "1             7  252   965   480  309   40\n",
      "\n",
      "occupation   1.0    2.0     3.0     4.0    5.0   6.0\n",
      "affair                                              \n",
      "0           28.0  582.0  1885.0  1243.0  501.0  74.0\n",
      "1           13.0  277.0   898.0   591.0  239.0  35.0\n"
     ]
    }
   ],
   "source": [
    "tab_o = pd.crosstab(data.affair, data.occupation)\n",
    "table = sm.stats.Table(tab_o)\n",
    "print(table.table_orig)\n",
    "print('')\n",
    "print(table.fittedvalues.round())"
   ]
  },
  {
   "cell_type": "markdown",
   "id": "84ca5970",
   "metadata": {},
   "source": [
    "Тест Хи-квадрат Пирсона на независимость affair и occupation дает нулевое р-значение, то есть более чем достаточно аргументов для отвержения нулевой гипотезы о независимости."
   ]
  },
  {
   "cell_type": "code",
   "execution_count": 42,
   "id": "215c7b77",
   "metadata": {},
   "outputs": [
    {
     "name": "stdout",
     "output_type": "stream",
     "text": [
      "stat:  77.75 p-value:  2.477892436591016e-15\n"
     ]
    }
   ],
   "source": [
    "stat, p, *_ = chi2_contingency(tab_o, correction = False)\n",
    "print('stat: ', stat.round(2), 'p-value: ', p)"
   ]
  },
  {
   "cell_type": "markdown",
   "id": "5ccb43f0",
   "metadata": {},
   "source": [
    "##### occupation_husb"
   ]
  },
  {
   "cell_type": "markdown",
   "id": "8d251968",
   "metadata": {},
   "source": [
    "Мужей белых воротничков всего 7%, управленческая деятельность у 28%:"
   ]
  },
  {
   "cell_type": "code",
   "execution_count": 43,
   "id": "362a5a9e",
   "metadata": {
    "scrolled": true
   },
   "outputs": [
    {
     "data": {
      "text/plain": [
       "4.0    0.319\n",
       "5.0    0.279\n",
       "2.0    0.205\n",
       "6.0    0.083\n",
       "3.0    0.077\n",
       "1.0    0.036\n",
       "Name: occupation_husb, dtype: float64"
      ]
     },
     "execution_count": 43,
     "metadata": {},
     "output_type": "execute_result"
    }
   ],
   "source": [
    "data.occupation_husb.value_counts(normalize = True)"
   ]
  },
  {
   "cell_type": "markdown",
   "id": "219a6dd2",
   "metadata": {},
   "source": [
    "Для всех категорий рода деятельности мужей верности больше чем измен. "
   ]
  },
  {
   "cell_type": "code",
   "execution_count": 44,
   "id": "54d559c8",
   "metadata": {},
   "outputs": [
    {
     "data": {
      "image/png": "[encoded data removed]",
      "text/plain": [
       "<Figure size 432x288 with 1 Axes>"
      ]
     },
     "metadata": {
      "needs_background": "light"
     },
     "output_type": "display_data"
    }
   ],
   "source": [
    "pd.crosstab(data.occupation_husb, data.affair).plot(kind = 'bar');\n",
    "plt.title('occupation_husb и affair');\n",
    "plt.xlabel('occupation_husb');\n",
    "plt.ylabel('частоты');"
   ]
  },
  {
   "cell_type": "markdown",
   "id": "b78001e4",
   "metadata": {
    "scrolled": true
   },
   "source": [
    "Таблица сопряженности для affair и occupation_husb, в долях по столбцам. Для всех групп деятельности мужей доля измен ниже доли верности. Пропорции достаточно похожи между всеми группами."
   ]
  },
  {
   "cell_type": "code",
   "execution_count": 45,
   "id": "e467c00b",
   "metadata": {},
   "outputs": [
    {
     "name": "stdout",
     "output_type": "stream",
     "text": [
      "occupation_husb   1.0   2.0   3.0   4.0   5.0   6.0\n",
      "affair                                             \n",
      "0                0.79  0.67  0.65  0.69  0.66  0.69\n",
      "1                0.21  0.33  0.35  0.31  0.34  0.31\n"
     ]
    }
   ],
   "source": [
    "print(pd.crosstab(data.affair, data.occupation_husb, normalize = 'columns').round(2))"
   ]
  },
  {
   "cell_type": "markdown",
   "id": "d7c22bbe",
   "metadata": {},
   "source": [
    "Таблица сопряженности, фактические частоты и теоретические (гипотеза независимости). "
   ]
  },
  {
   "cell_type": "code",
   "execution_count": 46,
   "id": "96409d2c",
   "metadata": {},
   "outputs": [
    {
     "name": "stdout",
     "output_type": "stream",
     "text": [
      "occupation_husb  1.0  2.0  3.0   4.0   5.0  6.0\n",
      "affair                                         \n",
      "0                181  882  317  1391  1177  365\n",
      "1                 48  426  173   639   602  165\n",
      "\n",
      "occupation_husb    1.0    2.0    3.0     4.0     5.0    6.0\n",
      "affair                                                     \n",
      "0                155.0  886.0  332.0  1375.0  1205.0  359.0\n",
      "1                 74.0  422.0  158.0   655.0   574.0  171.0\n"
     ]
    }
   ],
   "source": [
    "tab_oh = pd.crosstab(data.affair, data.occupation_husb)\n",
    "table = sm.stats.Table(tab_oh)\n",
    "print(table.table_orig)\n",
    "print('')\n",
    "print(table.fittedvalues.round())"
   ]
  },
  {
   "cell_type": "markdown",
   "id": "4474e156",
   "metadata": {},
   "source": [
    "Тест Хи-квадрат Пирсона на независимость affair и occupation_husb дает нулевое р-значение, то есть более чем достаточно аргументов для отвержения нулевой гипотезы о независимости."
   ]
  },
  {
   "cell_type": "code",
   "execution_count": 47,
   "id": "4c15454a",
   "metadata": {
    "scrolled": true
   },
   "outputs": [
    {
     "name": "stdout",
     "output_type": "stream",
     "text": [
      "stat:  18.43 p-value:  0.0024564278771048156\n"
     ]
    }
   ],
   "source": [
    "stat, p, *_ = chi2_contingency(tab_oh, correction = False)\n",
    "print('stat: ', stat.round(2), 'p-value: ', p)"
   ]
  },
  {
   "cell_type": "markdown",
   "id": "d6e0ba44",
   "metadata": {},
   "source": [
    "В итоге по всем факторам гипотеза о независимости с affair отвергнута, поэтому возьмем все факторы в модель."
   ]
  },
  {
   "cell_type": "markdown",
   "id": "e80d71f3",
   "metadata": {},
   "source": [
    "<a href=\"#0\"><h4>Наверх</h4></a>"
   ]
  },
  {
   "cell_type": "markdown",
   "id": "ef898a78",
   "metadata": {},
   "source": [
    "<p id=\"2.2\">\n",
    "<h5>Подход 2</h5>"
   ]
  },
  {
   "cell_type": "markdown",
   "id": "709ea1f2",
   "metadata": {},
   "source": [
    "Выбор факторов по критерию mutual information, которая измеряет сокращение неопределенности для одной переменной при известном значении другой. Самый значимый фактор rate_marriage. Далее yrs_married, children, age и educ."
   ]
  },
  {
   "cell_type": "code",
   "execution_count": 48,
   "id": "938d5590",
   "metadata": {},
   "outputs": [],
   "source": [
    "X = data[data.columns[:-1]]\n",
    "y = data.affair"
   ]
  },
  {
   "cell_type": "code",
   "execution_count": 49,
   "id": "1477bc69",
   "metadata": {
    "scrolled": true
   },
   "outputs": [
    {
     "name": "stdout",
     "output_type": "stream",
     "text": [
      "rate_marriage: 0.05559\n",
      "age: 0.01297\n",
      "yrs_married: 0.03404\n",
      "children: 0.02128\n",
      "religious: 0.01872\n",
      "educ: 0.0051\n",
      "occupation: 0.00497\n",
      "occupation_husb: 0.0\n"
     ]
    }
   ],
   "source": [
    "fs = SelectKBest(score_func = mutual_info_classif, k ='all')\n",
    "fs.fit(X, y)\n",
    "X_fs = fs.transform(X)\n",
    "for i in list(data.columns[:-1]):\n",
    "    print(f'{i}: {fs.scores_[list(data.columns[:-1]).index(i)].round(5)}')"
   ]
  },
  {
   "cell_type": "markdown",
   "id": "93302fcd",
   "metadata": {},
   "source": [
    "Второй вариант модели будет с пятью перечисленными выше факторами."
   ]
  },
  {
   "cell_type": "markdown",
   "id": "f2e2202a",
   "metadata": {},
   "source": [
    "<p id=\"3\">\n",
    "<h4>Логистическая регрессия</h4>"
   ]
  },
  {
   "cell_type": "code",
   "execution_count": 50,
   "id": "997989f9",
   "metadata": {},
   "outputs": [],
   "source": [
    "from sklearn.model_selection import train_test_split\n",
    "from sklearn.linear_model import LogisticRegression\n",
    "\n",
    "from sklearn.metrics import roc_curve, roc_auc_score, precision_recall_curve\n",
    "from sklearn.metrics import auc\n",
    "from sklearn.metrics import confusion_matrix, classification_report\n",
    "\n",
    "from sklearn.model_selection import cross_val_score\n",
    "from sklearn.model_selection import RepeatedStratifiedKFold\n",
    "from sklearn.preprocessing import OrdinalEncoder\n",
    "from sklearn.pipeline import Pipeline"
   ]
  },
  {
   "cell_type": "markdown",
   "id": "1f767a17",
   "metadata": {},
   "source": [
    "Первая модель - все факторы."
   ]
  },
  {
   "cell_type": "markdown",
   "id": "b1ef6de7",
   "metadata": {},
   "source": [
    "* Делим датасет на трейн и тест. При этом используем параметр stratify, так как классы у нас не сбалансированы.\n",
    "* Все факторы категориальные, но в числовом выражении и разного масштаба. Поэтому используем OrdinalEncoder, чтобы кодировка была в единой манере.\n",
    "* Сначала проведем кросс-валидацию, чтобы оценить качество модели и сравнить с другой моделью.\n",
    "* Считаем три метрики. Среднее и медианы очень близки. Accuracy 0.73, но эта метрика хороша для сбалансированных классов. Precision, среди определенных моделью как измена, фактических измен 63%. Recall, среди фактических измен модель нашла только 38%."
   ]
  },
  {
   "cell_type": "code",
   "execution_count": 51,
   "id": "6f3ee31f",
   "metadata": {
    "scrolled": true
   },
   "outputs": [
    {
     "name": "stdout",
     "output_type": "stream",
     "text": [
      "accuracy среднее 0.7303 медиана 0.7295\n",
      "precision среднее 0.6365 медиана 0.6349\n",
      "recall среднее 0.38 медиана 0.375\n"
     ]
    }
   ],
   "source": [
    "X = data[data.columns[:-1]]\n",
    "y = data.affair\n",
    "\n",
    "X_train, X_test, y_train, y_test = train_test_split(X, y, test_size = 0.3, random_state = 42, stratify =  y, shuffle = True)\n",
    "\n",
    "pipe = Pipeline( [ (\"oe\", OrdinalEncoder()), (\"log\", LogisticRegression())] )\n",
    "\n",
    "cv = RepeatedStratifiedKFold(n_splits = 10, n_repeats = 3, random_state = 1)\n",
    "\n",
    "scores_acc = cross_val_score(pipe, X_train, y_train, scoring = 'accuracy', cv = cv)\n",
    "print('accuracy', 'среднее', round(np.mean(scores_acc),4), 'медиана', round(np.median(scores_acc),4))\n",
    "\n",
    "scores_pr = cross_val_score(pipe, X_train, y_train, scoring = 'precision', cv = cv)\n",
    "print('precision', 'среднее',  round(np.mean(scores_pr),4), 'медиана', round(np.median(scores_pr),4))\n",
    "\n",
    "scores_re = cross_val_score(pipe, X_train, y_train, scoring = 'recall', cv = cv)\n",
    "print('recall', 'среднее',  round(np.mean(scores_re),4), 'медиана', round(np.median(scores_re),4))"
   ]
  },
  {
   "cell_type": "markdown",
   "id": "31e89b6f",
   "metadata": {},
   "source": [
    "Вторая модель - факторы rate_marriage, yrs_married, children, age и educ."
   ]
  },
  {
   "cell_type": "markdown",
   "id": "96ef48e0",
   "metadata": {},
   "source": [
    "Среднее и медианы метрик также очень близки. Accuracy 0.73, но эта метрика хороша для сбалансированных классов. Precision, среди определенных моделью как измена, фактических измен 63%. Recall, среди фактических измен модель нашла только 34%. По Recall вторая модель похуже. В задаче с прогнозом измен сложно оценить, цена какой ошибки выше: \"не определить измену\" (False Negative) или ложно определить измену (False Positive). Поэтому сложно выбрать на что опираться, на Precision или Recall."
   ]
  },
  {
   "cell_type": "code",
   "execution_count": 52,
   "id": "8186d0a6",
   "metadata": {
    "scrolled": true
   },
   "outputs": [
    {
     "name": "stdout",
     "output_type": "stream",
     "text": [
      "accuracy среднее 0.7249 медиана 0.7228\n",
      "precision среднее 0.6371 медиана 0.6354\n",
      "recall среднее 0.3421 медиана 0.3472\n"
     ]
    }
   ],
   "source": [
    "X_2 = data[['rate_marriage', 'yrs_married', 'children', 'age', 'educ']]\n",
    "y_2 = data.affair\n",
    "\n",
    "X_2_train, X_2_test, y_2_train, y_2_test = train_test_split(X_2, y_2,\n",
    "                                                            test_size = 0.3, random_state = 42,\n",
    "                                                            stratify =  y_2, shuffle = True)\n",
    "pipe_2 = Pipeline( [ (\"oe\", OrdinalEncoder()), (\"log\", LogisticRegression())] )\n",
    "\n",
    "cv_2 = RepeatedStratifiedKFold(n_splits = 10, n_repeats = 3, random_state = 1)\n",
    "\n",
    "scores_acc_2 = cross_val_score(pipe_2, X_2_train, y_2_train, scoring = 'accuracy', cv = cv_2)\n",
    "print('accuracy',  'среднее', round(np.mean(scores_acc_2),4), 'медиана', round(np.median(scores_acc_2),4))\n",
    "\n",
    "scores_pr_2 = cross_val_score(pipe_2, X_2_train, y_2_train, scoring = 'precision', cv = cv_2)\n",
    "print('precision',  'среднее', round(np.mean(scores_pr_2),4), 'медиана', round(np.median(scores_pr_2),4))\n",
    "\n",
    "scores_re_2 = cross_val_score(pipe_2, X_2_train, y_2_train, scoring = 'recall', cv = cv_2)\n",
    "print('recall',  'среднее', round(np.mean(scores_re_2),4), 'медиана', round(np.median(scores_re_2),4))"
   ]
  },
  {
   "cell_type": "markdown",
   "id": "bd86ce54",
   "metadata": {},
   "source": [
    "Выбираем первую модель. И теперь обучаем ее на всем трейне, кодируем категориальные факторы. По коэффициентам наиболее значимый фактор - rate_marriage, как и во втором подходе к отбору факторов. Наименее значимые children, educ, occupation_husb."
   ]
  },
  {
   "cell_type": "code",
   "execution_count": 53,
   "id": "3117f86e",
   "metadata": {
    "scrolled": true
   },
   "outputs": [
    {
     "data": {
      "text/plain": [
       "[('rate_marriage', -0.75),\n",
       " ('age', -0.39),\n",
       " ('yrs_married', 0.53),\n",
       " ('children', -0.05),\n",
       " ('religious', -0.38),\n",
       " ('educ', -0.05),\n",
       " ('occupation', 0.18),\n",
       " ('occupation_husb', 0.02)]"
      ]
     },
     "execution_count": 53,
     "metadata": {},
     "output_type": "execute_result"
    }
   ],
   "source": [
    "oe = OrdinalEncoder()\n",
    "oe.fit(X_train)\n",
    "X_train_enc = oe.transform(X_train)\n",
    "X_test_enc = oe.transform(X_test)\n",
    "\n",
    "lr = LogisticRegression()\n",
    "lr.fit(X_train_enc, y_train)\n",
    "\n",
    "list(zip(list(X_train.columns), lr.coef_[0].round(2)))"
   ]
  },
  {
   "cell_type": "markdown",
   "id": "a3233997",
   "metadata": {},
   "source": [
    "Доли измен в трейн и тест выборках такие же как во всем датасете, около 32%:"
   ]
  },
  {
   "cell_type": "code",
   "execution_count": 54,
   "id": "16b5d17e",
   "metadata": {},
   "outputs": [
    {
     "name": "stdout",
     "output_type": "stream",
     "text": [
      "0.32248653500897667\n",
      "0.3225130890052356\n"
     ]
    }
   ],
   "source": [
    "print(y_train.mean())\n",
    "print(y_test.mean())"
   ]
  },
  {
   "cell_type": "markdown",
   "id": "38b10fdb",
   "metadata": {},
   "source": [
    "Делаем прогнозы на тестовой выборке. А также считаем вероятности, они понадобятся нам для построения кривых ниже. Метрики получились почти такие же как в кросс-валидации."
   ]
  },
  {
   "cell_type": "code",
   "execution_count": 55,
   "id": "c6321f73",
   "metadata": {
    "scrolled": true
   },
   "outputs": [
    {
     "name": "stdout",
     "output_type": "stream",
     "text": [
      "              precision    recall  f1-score   support\n",
      "\n",
      "           0       0.75      0.87      0.81      1294\n",
      "           1       0.59      0.38      0.46       616\n",
      "\n",
      "    accuracy                           0.72      1910\n",
      "   macro avg       0.67      0.63      0.64      1910\n",
      "weighted avg       0.70      0.72      0.70      1910\n",
      "\n"
     ]
    }
   ],
   "source": [
    "pred = lr.predict(X_test_enc)\n",
    "prob_pred = lr.predict_proba(X_test_enc)\n",
    "\n",
    "print(classification_report(y_test, pred))"
   ]
  },
  {
   "cell_type": "markdown",
   "id": "e58827fc",
   "metadata": {},
   "source": [
    "<a href=\"#0\"><h4>Наверх</h4></a>"
   ]
  },
  {
   "cell_type": "markdown",
   "id": "a7a4b591",
   "metadata": {},
   "source": [
    "<p id=\"4\">\n",
    "<h4>ROC и PR кривые \"вручную\" и штатными средствами</h4>"
   ]
  },
  {
   "cell_type": "markdown",
   "id": "a95d9dee",
   "metadata": {},
   "source": [
    "Ручной алгоритм расчета для разных значений порога (отнесения к тому или иному классу по вероятности) TruePositiveRate и FalsePositiveRate для кривой ROC, Precision и Recall для кривой PR:"
   ]
  },
  {
   "cell_type": "code",
   "execution_count": 56,
   "id": "1774bca2",
   "metadata": {},
   "outputs": [],
   "source": [
    "thresholds = np.linspace(0, 1, 100)\n",
    "\n",
    "fpr_list = []\n",
    "tpr_list = []\n",
    "prec_list = []\n",
    "rec_list = []\n",
    "no_skill = y_test.mean()\n",
    "\n",
    "for i in thresholds:\n",
    "    tp = 0 \n",
    "    fp = 0 \n",
    "    fn = 0 \n",
    "    tn = 0 \n",
    "    \n",
    "    for pred_prob, actual in zip( prob_pred[:, 1], y_test ):\n",
    "        if pred_prob >= i:\n",
    "            pred = 1\n",
    "        else:\n",
    "            pred = 0\n",
    "\n",
    "        if pred == 1:\n",
    "            if actual == 1:\n",
    "                tp += 1\n",
    "            else:\n",
    "                fp += 1\n",
    "\n",
    "        else:\n",
    "            if actual == 1:\n",
    "                fn += 1\n",
    "            else:\n",
    "                tn += 1\n",
    "                \n",
    "    tpr = (tp) / (tp + fn) # также и recall\n",
    "    fpr = (fp) / (fp + tn)\n",
    "    fpr_list.append(fpr)\n",
    "    tpr_list.append(tpr)\n",
    "    \n",
    "    try: # избежать деления на ноль\n",
    "        prec = (tp) / (tp + fp)\n",
    "        if prec > no_skill:\n",
    "            prec_list.append(prec)\n",
    "            rec_list.append(tpr)            \n",
    "    except:\n",
    "        pass\n"
   ]
  },
  {
   "cell_type": "markdown",
   "id": "b0001377",
   "metadata": {},
   "source": [
    "ROC кривая: <br>\n",
    "* Каждая точка это пара значений TPR и FPR для конкретного значения порога\n",
    "* TPR это то же самое что Recall - доля корректно определенных измен среди фактических измен\n",
    "* FPR это доля некорректно определенных измен среди верности\n",
    "* Чем меньше значение по Х тем меньше значения FP и выше TN.\n",
    "* Чем больше значение по У тем выше TP и ниже FN.\n",
    "* Построение кривой помогает понять трейд-офф для разных значений порога\n",
    "* Считается приемлемой для сбалансированных классов, так как иначе она может давать слишком оптимистичную картину. В случае несбалансированных классов лучше использовать PR кривую. У нас измен около 32%, умеренная степень дисбаланса.\n",
    "* Диагональ это генератор случайных чисел, то есть модель которая определяет класс случайным образом.\n",
    "* На нашем графике кривая слева от генератора, значит лучше его. В идеале кривая должны стремиться к точке (0,1). У нас она где-то посередине между идеальной точкой и генератором."
   ]
  },
  {
   "cell_type": "code",
   "execution_count": 57,
   "id": "82eed66e",
   "metadata": {
    "scrolled": false
   },
   "outputs": [
    {
     "data": {
      "image/png": "[encoded data removed]",
      "text/plain": [
       "<Figure size 1080x360 with 2 Axes>"
      ]
     },
     "metadata": {
      "needs_background": "light"
     },
     "output_type": "display_data"
    }
   ],
   "source": [
    "lw = 2\n",
    "plt.figure(figsize = (15, 5))\n",
    "plt.subplot(1,2,1)\n",
    "plt.grid()\n",
    "plt.plot(fpr_list, tpr_list, lw = lw, label = 'ROC curve ');\n",
    "plt.plot([0, 1], [0, 1]);\n",
    "plt.xlim([0.0, 1.0]);\n",
    "plt.ylim([0.0, 1.05]);\n",
    "plt.xlabel('False Positive Rate');\n",
    "plt.ylabel('True Positive Rate');\n",
    "plt.title('ROC curve_manual');\n",
    "\n",
    "plt.subplot(1,2,2)\n",
    "plt.grid()\n",
    "lr_fpr, lr_tpr, __ = roc_curve(y_test, prob_pred[:, 1], pos_label=1)\n",
    "plt.plot(lr_fpr, lr_tpr, lw = lw, label = 'ROC curve ');\n",
    "plt.plot([0, 1], [0, 1]);\n",
    "plt.xlim([0.0, 1.0]);\n",
    "plt.ylim([0.0, 1.05]);\n",
    "plt.xlabel('False Positive Rate');\n",
    "plt.ylabel('True Positive Rate');\n",
    "plt.title('ROC curve');"
   ]
  },
  {
   "cell_type": "markdown",
   "id": "a410e428",
   "metadata": {},
   "source": [
    "* Площадь под кривой помогает оценить качество модели в целом, без привязки к конкретному значению порога.\n",
    "* У нас площадь около 0.74, неплохой показатель (площадь под случайным генератором - 0.5)"
   ]
  },
  {
   "cell_type": "code",
   "execution_count": 58,
   "id": "55f904ff",
   "metadata": {
    "scrolled": true
   },
   "outputs": [
    {
     "name": "stdout",
     "output_type": "stream",
     "text": [
      "ROC-AUC_manual:  0.7422\n",
      "ROC-AUC:  0.7426\n"
     ]
    }
   ],
   "source": [
    "print('ROC-AUC_manual: ',round(auc( fpr_list, tpr_list ),4))\n",
    "print('ROC-AUC: ',round(auc( lr_fpr, lr_tpr ),4))"
   ]
  },
  {
   "cell_type": "markdown",
   "id": "35d3275e",
   "metadata": {},
   "source": [
    "PR кривая:<br>\n",
    "* Каждая точка это пара значений Recall и Precision для конкретного значения порога.\n",
    "* Построение кривой помогает понять трейд-офф для разных значений порога\n",
    "* Чем ниже порог, тем легче причисляют к категории 1: минимизируется FN и выше Recall (выше FP и ниже Precision).\n",
    "* Чем выше порог, тем сложнее причисляют к категории 1, больше причисляют к категории 0: минимизируется FP и выше Precision (выше FN и ниже Recall).\n",
    "* Пунктир это случайный классификатор.\n",
    "* На нашем графика кривая выше него, значит лучше. Но идеальный случай это стремиться к точке (1,1), от этого наша кривая далековата."
   ]
  },
  {
   "cell_type": "code",
   "execution_count": 59,
   "id": "5fe58e0d",
   "metadata": {
    "scrolled": true
   },
   "outputs": [
    {
     "data": {
      "image/png": "[encoded data removed]",
      "text/plain": [
       "<Figure size 1080x360 with 2 Axes>"
      ]
     },
     "metadata": {
      "needs_background": "light"
     },
     "output_type": "display_data"
    }
   ],
   "source": [
    "plt.figure(figsize=(15, 5))\n",
    "plt.subplot(1,2,1)\n",
    "plt.plot([0, 1], [no_skill, no_skill], linestyle = '--', label = 'No Skill');\n",
    "plt.plot(rec_list, prec_list, marker = '.', label = 'Logistic');\n",
    "plt.xlabel('Recall');\n",
    "plt.ylabel('Precision');\n",
    "plt.legend();\n",
    "plt.title('PR curve_manual');\n",
    "\n",
    "plt.subplot(1,2,2)\n",
    "lr_precision, lr_recall, _ = precision_recall_curve(y_test, prob_pred[:, 1])\n",
    "plt.plot([0, 1], [no_skill, no_skill], linestyle = '--', label = 'No Skill');\n",
    "plt.plot(lr_recall, lr_precision, marker = '.', label = 'Logistic');\n",
    "plt.xlabel('Recall');\n",
    "plt.ylabel('Precision');\n",
    "plt.legend();\n",
    "plt.title('PR curve');"
   ]
  },
  {
   "cell_type": "markdown",
   "id": "50f61494",
   "metadata": {},
   "source": [
    "* Площадь под кривой помогает оценить качество модели в целом, без привязки к конкретному значению порога.\n",
    "* Наша площадь около 0.56 (против 0.3 для случайного), среднее качество."
   ]
  },
  {
   "cell_type": "code",
   "execution_count": 60,
   "id": "8ac3acf6",
   "metadata": {
    "scrolled": true
   },
   "outputs": [
    {
     "name": "stdout",
     "output_type": "stream",
     "text": [
      "Precision-Recall AUC_manual:  0.56\n",
      "Precision-Recall AUC:  0.5617\n"
     ]
    }
   ],
   "source": [
    "print('Precision-Recall AUC_manual: ', round(auc(rec_list, prec_list),4))\n",
    "print('Precision-Recall AUC: ', round(auc(lr_recall, lr_precision),4))"
   ]
  },
  {
   "cell_type": "markdown",
   "id": "f960a630",
   "metadata": {},
   "source": [
    "<a href=\"#0\"><h4>Наверх</h4></a>"
   ]
  }
 ],
 "metadata": {
  "kernelspec": {
   "display_name": "Python 3 (ipykernel)",
   "language": "python",
   "name": "python3"
  },
  "language_info": {
   "codemirror_mode": {
    "name": "ipython",
    "version": 3
   },
   "file_extension": ".py",
   "mimetype": "text/x-python",
   "name": "python",
   "nbconvert_exporter": "python",
   "pygments_lexer": "ipython3",
   "version": "3.8.12"
  }
 },
 "nbformat": 4,
 "nbformat_minor": 5
}
