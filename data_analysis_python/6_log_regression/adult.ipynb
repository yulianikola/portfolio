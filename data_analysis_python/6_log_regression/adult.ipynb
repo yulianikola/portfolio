{
 "cells": [
  {
   "cell_type": "markdown",
   "id": "36978b68",
   "metadata": {},
   "source": [
    "<div class=\"alert alert-info\">\n",
    "Ссылка для просмотра ноутбука в интерактивном режиме для использования гиперссылок и корректного отображения разметки:<br>\n",
    "<a href='https://nbviewer.org/github/yulianikola/portfolio/blob/master/data_analysis_python/6_log_regression/adult.ipynb'>adult</a></div>"
   ]
  },
  {
   "cell_type": "markdown",
   "id": "b95ed79f",
   "metadata": {},
   "source": [
    "### Логистическая регрессия"
   ]
  },
  {
   "cell_type": "markdown",
   "id": "fa757291",
   "metadata": {},
   "source": [
    "#### Данные о доходе взрослых\n",
    "http://www.cs.toronto.edu/~delve/data/adult/adultDetail.html"
   ]
  },
  {
   "cell_type": "markdown",
   "id": "1bc0b04c",
   "metadata": {},
   "source": [
    "#### Задачи:\n",
    "1. Ответить на вопросы по данным\n",
    "1. Построить модель логистической регрессии, которая предсказывает уровень дохода человека"
   ]
  },
  {
   "cell_type": "markdown",
   "id": "530b83ae",
   "metadata": {},
   "source": [
    "<p id=\"0\">\n",
    "<h4>Содержимое</h4>\n",
    "<ul type=\"square\"><a href=\"#1\"><li>Знакомство с данными</li></a>\n",
    "<a href=\"#2\"><li>Эксплоративный анализ</li></a>\n",
    "<a href=\"#3\"><li>Отбор факторов</li></a>\n",
    "<a href=\"#4\"><li>Логистическая регрессия</li></a>"
   ]
  },
  {
   "cell_type": "code",
   "execution_count": 1,
   "id": "a261a21e",
   "metadata": {},
   "outputs": [],
   "source": [
    "import pandas as pd\n",
    "import numpy as np\n",
    "import matplotlib.pyplot as plt\n",
    "import seaborn as sns"
   ]
  },
  {
   "cell_type": "markdown",
   "id": "83cad054",
   "metadata": {},
   "source": [
    "<p id=\"1\">\n",
    "<h4>Знакомство с данными</h4>"
   ]
  },
  {
   "cell_type": "code",
   "execution_count": 2,
   "id": "617cb736",
   "metadata": {
    "scrolled": false
   },
   "outputs": [
    {
     "data": {
      "text/html": [
       "<div>\n",
       "<style scoped>\n",
       "    .dataframe tbody tr th:only-of-type {\n",
       "        vertical-align: middle;\n",
       "    }\n",
       "\n",
       "    .dataframe tbody tr th {\n",
       "        vertical-align: top;\n",
       "    }\n",
       "\n",
       "    .dataframe thead th {\n",
       "        text-align: right;\n",
       "    }\n",
       "</style>\n",
       "<table border=\"1\" class=\"dataframe\">\n",
       "  <thead>\n",
       "    <tr style=\"text-align: right;\">\n",
       "      <th></th>\n",
       "      <th>age</th>\n",
       "      <th>workclass</th>\n",
       "      <th>fnlwgt</th>\n",
       "      <th>education</th>\n",
       "      <th>educational_num</th>\n",
       "      <th>marital_status</th>\n",
       "      <th>occupation</th>\n",
       "      <th>relationship</th>\n",
       "      <th>race</th>\n",
       "      <th>gender</th>\n",
       "      <th>capital_gain</th>\n",
       "      <th>capital_loss</th>\n",
       "      <th>hours_per_week</th>\n",
       "      <th>native_country</th>\n",
       "      <th>income</th>\n",
       "    </tr>\n",
       "  </thead>\n",
       "  <tbody>\n",
       "    <tr>\n",
       "      <th>0</th>\n",
       "      <td>25</td>\n",
       "      <td>Private</td>\n",
       "      <td>226802</td>\n",
       "      <td>11th</td>\n",
       "      <td>7</td>\n",
       "      <td>Never-married</td>\n",
       "      <td>Machine-op-inspct</td>\n",
       "      <td>Own-child</td>\n",
       "      <td>Black</td>\n",
       "      <td>Male</td>\n",
       "      <td>0</td>\n",
       "      <td>0</td>\n",
       "      <td>40</td>\n",
       "      <td>United-States</td>\n",
       "      <td>&lt;=50K</td>\n",
       "    </tr>\n",
       "    <tr>\n",
       "      <th>1</th>\n",
       "      <td>38</td>\n",
       "      <td>Private</td>\n",
       "      <td>89814</td>\n",
       "      <td>HS-grad</td>\n",
       "      <td>9</td>\n",
       "      <td>Married-civ-spouse</td>\n",
       "      <td>Farming-fishing</td>\n",
       "      <td>Husband</td>\n",
       "      <td>White</td>\n",
       "      <td>Male</td>\n",
       "      <td>0</td>\n",
       "      <td>0</td>\n",
       "      <td>50</td>\n",
       "      <td>United-States</td>\n",
       "      <td>&lt;=50K</td>\n",
       "    </tr>\n",
       "    <tr>\n",
       "      <th>2</th>\n",
       "      <td>28</td>\n",
       "      <td>Local-gov</td>\n",
       "      <td>336951</td>\n",
       "      <td>Assoc-acdm</td>\n",
       "      <td>12</td>\n",
       "      <td>Married-civ-spouse</td>\n",
       "      <td>Protective-serv</td>\n",
       "      <td>Husband</td>\n",
       "      <td>White</td>\n",
       "      <td>Male</td>\n",
       "      <td>0</td>\n",
       "      <td>0</td>\n",
       "      <td>40</td>\n",
       "      <td>United-States</td>\n",
       "      <td>&gt;50K</td>\n",
       "    </tr>\n",
       "    <tr>\n",
       "      <th>3</th>\n",
       "      <td>44</td>\n",
       "      <td>Private</td>\n",
       "      <td>160323</td>\n",
       "      <td>Some-college</td>\n",
       "      <td>10</td>\n",
       "      <td>Married-civ-spouse</td>\n",
       "      <td>Machine-op-inspct</td>\n",
       "      <td>Husband</td>\n",
       "      <td>Black</td>\n",
       "      <td>Male</td>\n",
       "      <td>7688</td>\n",
       "      <td>0</td>\n",
       "      <td>40</td>\n",
       "      <td>United-States</td>\n",
       "      <td>&gt;50K</td>\n",
       "    </tr>\n",
       "    <tr>\n",
       "      <th>4</th>\n",
       "      <td>18</td>\n",
       "      <td>?</td>\n",
       "      <td>103497</td>\n",
       "      <td>Some-college</td>\n",
       "      <td>10</td>\n",
       "      <td>Never-married</td>\n",
       "      <td>?</td>\n",
       "      <td>Own-child</td>\n",
       "      <td>White</td>\n",
       "      <td>Female</td>\n",
       "      <td>0</td>\n",
       "      <td>0</td>\n",
       "      <td>30</td>\n",
       "      <td>United-States</td>\n",
       "      <td>&lt;=50K</td>\n",
       "    </tr>\n",
       "  </tbody>\n",
       "</table>\n",
       "</div>"
      ],
      "text/plain": [
       "   age  workclass  fnlwgt     education  educational_num      marital_status  \\\n",
       "0   25    Private  226802          11th                7       Never-married   \n",
       "1   38    Private   89814       HS-grad                9  Married-civ-spouse   \n",
       "2   28  Local-gov  336951    Assoc-acdm               12  Married-civ-spouse   \n",
       "3   44    Private  160323  Some-college               10  Married-civ-spouse   \n",
       "4   18          ?  103497  Some-college               10       Never-married   \n",
       "\n",
       "          occupation relationship   race  gender  capital_gain  capital_loss  \\\n",
       "0  Machine-op-inspct    Own-child  Black    Male             0             0   \n",
       "1    Farming-fishing      Husband  White    Male             0             0   \n",
       "2    Protective-serv      Husband  White    Male             0             0   \n",
       "3  Machine-op-inspct      Husband  Black    Male          7688             0   \n",
       "4                  ?    Own-child  White  Female             0             0   \n",
       "\n",
       "   hours_per_week native_country income  \n",
       "0              40  United-States  <=50K  \n",
       "1              50  United-States  <=50K  \n",
       "2              40  United-States   >50K  \n",
       "3              40  United-States   >50K  \n",
       "4              30  United-States  <=50K  "
      ]
     },
     "execution_count": 2,
     "metadata": {},
     "output_type": "execute_result"
    }
   ],
   "source": [
    "data = pd.read_csv('C:\\\\python\\\\portfolio\\\\data_analysis_python\\\\6_log_regression\\\\data\\\\adult.csv')\n",
    "data.columns = data.columns.str.replace(\"-\", \"_\")\n",
    "data.head()"
   ]
  },
  {
   "cell_type": "markdown",
   "id": "fc0facbc",
   "metadata": {},
   "source": [
    "В датасете 48842 строки, 15 столбцов. Пропусков нет. Типы данных определились корректно. Но в превью данных видны знаки вопросов,  судя по описанию датасета это пропуски."
   ]
  },
  {
   "cell_type": "code",
   "execution_count": 3,
   "id": "838e106a",
   "metadata": {
    "scrolled": false
   },
   "outputs": [
    {
     "name": "stdout",
     "output_type": "stream",
     "text": [
      "<class 'pandas.core.frame.DataFrame'>\n",
      "RangeIndex: 48842 entries, 0 to 48841\n",
      "Data columns (total 15 columns):\n",
      " #   Column           Non-Null Count  Dtype \n",
      "---  ------           --------------  ----- \n",
      " 0   age              48842 non-null  int64 \n",
      " 1   workclass        48842 non-null  object\n",
      " 2   fnlwgt           48842 non-null  int64 \n",
      " 3   education        48842 non-null  object\n",
      " 4   educational_num  48842 non-null  int64 \n",
      " 5   marital_status   48842 non-null  object\n",
      " 6   occupation       48842 non-null  object\n",
      " 7   relationship     48842 non-null  object\n",
      " 8   race             48842 non-null  object\n",
      " 9   gender           48842 non-null  object\n",
      " 10  capital_gain     48842 non-null  int64 \n",
      " 11  capital_loss     48842 non-null  int64 \n",
      " 12  hours_per_week   48842 non-null  int64 \n",
      " 13  native_country   48842 non-null  object\n",
      " 14  income           48842 non-null  object\n",
      "dtypes: int64(6), object(9)\n",
      "memory usage: 5.6+ MB\n"
     ]
    }
   ],
   "source": [
    "data.info()"
   ]
  },
  {
   "cell_type": "markdown",
   "id": "8e3d4897",
   "metadata": {},
   "source": [
    "Проверим в каких столбцах есть вопросительные знаки:"
   ]
  },
  {
   "cell_type": "code",
   "execution_count": 4,
   "id": "4f42aa3d",
   "metadata": {},
   "outputs": [
    {
     "name": "stdout",
     "output_type": "stream",
     "text": [
      "workclass\n",
      "occupation\n",
      "native_country\n"
     ]
    }
   ],
   "source": [
    "for col in data.select_dtypes('object').columns:\n",
    "    if '?' in data[col].values:\n",
    "        print(col)"
   ]
  },
  {
   "cell_type": "markdown",
   "id": "de3a0702",
   "metadata": {},
   "source": [
    "Удалим строки с пропусками. Как и в описании датасета, осталось 45222 строк:"
   ]
  },
  {
   "cell_type": "code",
   "execution_count": 5,
   "id": "6e5b602c",
   "metadata": {},
   "outputs": [
    {
     "data": {
      "text/plain": [
       "45222"
      ]
     },
     "execution_count": 5,
     "metadata": {},
     "output_type": "execute_result"
    }
   ],
   "source": [
    "data = data.drop(data[(data.workclass == '?') | (data.occupation == '?') | (data.native_country == '?')].index)\n",
    "len(data)"
   ]
  },
  {
   "cell_type": "markdown",
   "id": "d189dc00",
   "metadata": {},
   "source": [
    "В данных 9 категориальных номинальных показателей, в т.ч. таргет:"
   ]
  },
  {
   "cell_type": "code",
   "execution_count": 6,
   "id": "950643df",
   "metadata": {},
   "outputs": [
    {
     "data": {
      "text/plain": [
       "Index(['workclass', 'education', 'marital_status', 'occupation',\n",
       "       'relationship', 'race', 'gender', 'native_country', 'income'],\n",
       "      dtype='object')"
      ]
     },
     "execution_count": 6,
     "metadata": {},
     "output_type": "execute_result"
    }
   ],
   "source": [
    "data.select_dtypes('object').columns"
   ]
  },
  {
   "cell_type": "markdown",
   "id": "d732d09f",
   "metadata": {},
   "source": [
    "Числовых показателей 6. Посмотрим на их статистики. Показатель fnlwgt - вес, для скольки человек репрезентативно. Показатель educational_num - числовая кодировка education."
   ]
  },
  {
   "cell_type": "code",
   "execution_count": 7,
   "id": "6c5b2904",
   "metadata": {
    "scrolled": true
   },
   "outputs": [
    {
     "data": {
      "text/html": [
       "<div>\n",
       "<style scoped>\n",
       "    .dataframe tbody tr th:only-of-type {\n",
       "        vertical-align: middle;\n",
       "    }\n",
       "\n",
       "    .dataframe tbody tr th {\n",
       "        vertical-align: top;\n",
       "    }\n",
       "\n",
       "    .dataframe thead th {\n",
       "        text-align: right;\n",
       "    }\n",
       "</style>\n",
       "<table border=\"1\" class=\"dataframe\">\n",
       "  <thead>\n",
       "    <tr style=\"text-align: right;\">\n",
       "      <th></th>\n",
       "      <th>age</th>\n",
       "      <th>fnlwgt</th>\n",
       "      <th>educational_num</th>\n",
       "      <th>capital_gain</th>\n",
       "      <th>capital_loss</th>\n",
       "      <th>hours_per_week</th>\n",
       "    </tr>\n",
       "  </thead>\n",
       "  <tbody>\n",
       "    <tr>\n",
       "      <th>count</th>\n",
       "      <td>45222.000</td>\n",
       "      <td>4.522e+04</td>\n",
       "      <td>45222.000</td>\n",
       "      <td>45222.00</td>\n",
       "      <td>45222.000</td>\n",
       "      <td>45222.000</td>\n",
       "    </tr>\n",
       "    <tr>\n",
       "      <th>mean</th>\n",
       "      <td>38.548</td>\n",
       "      <td>1.897e+05</td>\n",
       "      <td>10.118</td>\n",
       "      <td>1101.43</td>\n",
       "      <td>88.595</td>\n",
       "      <td>40.938</td>\n",
       "    </tr>\n",
       "    <tr>\n",
       "      <th>std</th>\n",
       "      <td>13.218</td>\n",
       "      <td>1.056e+05</td>\n",
       "      <td>2.553</td>\n",
       "      <td>7506.43</td>\n",
       "      <td>404.956</td>\n",
       "      <td>12.008</td>\n",
       "    </tr>\n",
       "    <tr>\n",
       "      <th>min</th>\n",
       "      <td>17.000</td>\n",
       "      <td>1.349e+04</td>\n",
       "      <td>1.000</td>\n",
       "      <td>0.00</td>\n",
       "      <td>0.000</td>\n",
       "      <td>1.000</td>\n",
       "    </tr>\n",
       "    <tr>\n",
       "      <th>25%</th>\n",
       "      <td>28.000</td>\n",
       "      <td>1.174e+05</td>\n",
       "      <td>9.000</td>\n",
       "      <td>0.00</td>\n",
       "      <td>0.000</td>\n",
       "      <td>40.000</td>\n",
       "    </tr>\n",
       "    <tr>\n",
       "      <th>50%</th>\n",
       "      <td>37.000</td>\n",
       "      <td>1.783e+05</td>\n",
       "      <td>10.000</td>\n",
       "      <td>0.00</td>\n",
       "      <td>0.000</td>\n",
       "      <td>40.000</td>\n",
       "    </tr>\n",
       "    <tr>\n",
       "      <th>75%</th>\n",
       "      <td>47.000</td>\n",
       "      <td>2.379e+05</td>\n",
       "      <td>13.000</td>\n",
       "      <td>0.00</td>\n",
       "      <td>0.000</td>\n",
       "      <td>45.000</td>\n",
       "    </tr>\n",
       "    <tr>\n",
       "      <th>max</th>\n",
       "      <td>90.000</td>\n",
       "      <td>1.490e+06</td>\n",
       "      <td>16.000</td>\n",
       "      <td>99999.00</td>\n",
       "      <td>4356.000</td>\n",
       "      <td>99.000</td>\n",
       "    </tr>\n",
       "  </tbody>\n",
       "</table>\n",
       "</div>"
      ],
      "text/plain": [
       "             age     fnlwgt  educational_num  capital_gain  capital_loss  \\\n",
       "count  45222.000  4.522e+04        45222.000      45222.00     45222.000   \n",
       "mean      38.548  1.897e+05           10.118       1101.43        88.595   \n",
       "std       13.218  1.056e+05            2.553       7506.43       404.956   \n",
       "min       17.000  1.349e+04            1.000          0.00         0.000   \n",
       "25%       28.000  1.174e+05            9.000          0.00         0.000   \n",
       "50%       37.000  1.783e+05           10.000          0.00         0.000   \n",
       "75%       47.000  2.379e+05           13.000          0.00         0.000   \n",
       "max       90.000  1.490e+06           16.000      99999.00      4356.000   \n",
       "\n",
       "       hours_per_week  \n",
       "count       45222.000  \n",
       "mean           40.938  \n",
       "std            12.008  \n",
       "min             1.000  \n",
       "25%            40.000  \n",
       "50%            40.000  \n",
       "75%            45.000  \n",
       "max            99.000  "
      ]
     },
     "execution_count": 7,
     "metadata": {},
     "output_type": "execute_result"
    }
   ],
   "source": [
    "pd.set_option(\"precision\", 3)\n",
    "data.describe()"
   ]
  },
  {
   "cell_type": "markdown",
   "id": "16fc13db",
   "metadata": {},
   "source": [
    "В статистиках странно выглядят значения capital_gain и capital_loss, 75% значений это ноль. Посмотрим, какие они принимают значения. Большая часть значений это ноль, а в остальном признаки можно считать непрерывными:"
   ]
  },
  {
   "cell_type": "code",
   "execution_count": 8,
   "id": "5c848827",
   "metadata": {
    "scrolled": true
   },
   "outputs": [
    {
     "data": {
      "text/plain": [
       "0        41432\n",
       "15024      498\n",
       "7688       391\n",
       "7298       351\n",
       "99999      229\n",
       "         ...  \n",
       "22040        1\n",
       "1731         1\n",
       "7262         1\n",
       "1639         1\n",
       "2387         1\n",
       "Name: capital_gain, Length: 121, dtype: int64"
      ]
     },
     "execution_count": 8,
     "metadata": {},
     "output_type": "execute_result"
    }
   ],
   "source": [
    "data.capital_gain.value_counts()"
   ]
  },
  {
   "cell_type": "code",
   "execution_count": 9,
   "id": "c015d0af",
   "metadata": {
    "scrolled": true
   },
   "outputs": [
    {
     "data": {
      "text/plain": [
       "0       43082\n",
       "1902      294\n",
       "1977      246\n",
       "1887      228\n",
       "2415       68\n",
       "        ...  \n",
       "419         1\n",
       "155         1\n",
       "1539        1\n",
       "2201        1\n",
       "1421        1\n",
       "Name: capital_loss, Length: 97, dtype: int64"
      ]
     },
     "execution_count": 9,
     "metadata": {},
     "output_type": "execute_result"
    }
   ],
   "source": [
    "data.capital_loss.value_counts()"
   ]
  },
  {
   "cell_type": "markdown",
   "id": "9e226521",
   "metadata": {},
   "source": [
    "Посмотрим на боксплоты числовых показателей. У всех есть выбросы."
   ]
  },
  {
   "cell_type": "code",
   "execution_count": 10,
   "id": "93eff127",
   "metadata": {
    "scrolled": true
   },
   "outputs": [
    {
     "data": {
      "image/png": "[encoded data removed]",
      "text/plain": [
       "<Figure size 1080x360 with 4 Axes>"
      ]
     },
     "metadata": {
      "needs_background": "light"
     },
     "output_type": "display_data"
    }
   ],
   "source": [
    "l = ['age', 'capital_gain', 'capital_loss','hours_per_week']\n",
    "number_of_columns =  4\n",
    "number_of_rows = - (- len(l) // number_of_columns) # round up\n",
    "plt.figure(figsize = (15, 5))\n",
    "for i in range(0, len(l)):\n",
    "    plt.subplot(number_of_rows, number_of_columns, i + 1)\n",
    "    sns.set_style('whitegrid')\n",
    "    sns.boxplot(x = data[l[i]], data = data)"
   ]
  },
  {
   "cell_type": "markdown",
   "id": "fe03c5d3",
   "metadata": {},
   "source": [
    "Посмотрим на распределения:"
   ]
  },
  {
   "cell_type": "code",
   "execution_count": 11,
   "id": "484227b1",
   "metadata": {
    "scrolled": false
   },
   "outputs": [
    {
     "data": {
      "image/png": "[encoded data removed]",
      "text/plain": [
       "<Figure size 720x360 with 2 Axes>"
      ]
     },
     "metadata": {},
     "output_type": "display_data"
    }
   ],
   "source": [
    "l = ['age', 'hours_per_week']\n",
    "number_of_columns =  2\n",
    "plt.figure(figsize = (10, 5))\n",
    "for i in range(0, len(l)):\n",
    "    plt.subplot(number_of_rows, number_of_columns, i + 1)\n",
    "    sns.histplot(data[l[i]])"
   ]
  },
  {
   "cell_type": "markdown",
   "id": "9b7ee1cf",
   "metadata": {},
   "source": [
    "Распределение таргета: 25% доход более 50К и 75% менее 50к."
   ]
  },
  {
   "cell_type": "code",
   "execution_count": 12,
   "id": "5f32bfb8",
   "metadata": {},
   "outputs": [
    {
     "data": {
      "text/plain": [
       "<=50K    0.752\n",
       ">50K     0.248\n",
       "Name: income, dtype: float64"
      ]
     },
     "execution_count": 12,
     "metadata": {},
     "output_type": "execute_result"
    }
   ],
   "source": [
    "data.income.value_counts(normalize = True)"
   ]
  },
  {
   "cell_type": "markdown",
   "id": "965a7fc5",
   "metadata": {},
   "source": [
    "<a href=\"#0\"><h4>Наверх</h4></a>"
   ]
  },
  {
   "cell_type": "markdown",
   "id": "54879288",
   "metadata": {},
   "source": [
    "<p id=\"2\">\n",
    "<h4>Эксплоративный анализ</h4>"
   ]
  },
  {
   "cell_type": "markdown",
   "id": "aeed281f",
   "metadata": {},
   "source": [
    "Сколько мужчин и женщин представлено в датасете? Мужчин 30527, женщин 14695."
   ]
  },
  {
   "cell_type": "code",
   "execution_count": 13,
   "id": "85f37658",
   "metadata": {
    "scrolled": true
   },
   "outputs": [
    {
     "data": {
      "text/plain": [
       "Male      30527\n",
       "Female    14695\n",
       "Name: gender, dtype: int64"
      ]
     },
     "execution_count": 13,
     "metadata": {},
     "output_type": "execute_result"
    }
   ],
   "source": [
    "data.gender.value_counts()"
   ]
  },
  {
   "cell_type": "markdown",
   "id": "03c46ddf",
   "metadata": {},
   "source": [
    "Каков средний возраст женщин? Около 37 лет."
   ]
  },
  {
   "cell_type": "code",
   "execution_count": 14,
   "id": "abd9624a",
   "metadata": {},
   "outputs": [
    {
     "data": {
      "text/plain": [
       "36.98"
      ]
     },
     "execution_count": 14,
     "metadata": {},
     "output_type": "execute_result"
    }
   ],
   "source": [
    "round(data[data.gender == 'Female']['age'].mean(),2)"
   ]
  },
  {
   "cell_type": "markdown",
   "id": "b4d3a763",
   "metadata": {},
   "source": [
    "Какая доля граждан Германии? 0.4 %"
   ]
  },
  {
   "cell_type": "code",
   "execution_count": 15,
   "id": "11a81f46",
   "metadata": {
    "scrolled": true
   },
   "outputs": [
    {
     "data": {
      "text/plain": [
       "0.0043"
      ]
     },
     "execution_count": 15,
     "metadata": {},
     "output_type": "execute_result"
    }
   ],
   "source": [
    "round(data.native_country.value_counts(normalize = True).Germany, 4)"
   ]
  },
  {
   "cell_type": "markdown",
   "id": "4caccd4b",
   "metadata": {},
   "source": [
    "Среднее и ско возраста тех, кто зарабатывает более 50к  и тех кто меньше 50к?"
   ]
  },
  {
   "cell_type": "code",
   "execution_count": 16,
   "id": "02ad6a0d",
   "metadata": {
    "scrolled": true
   },
   "outputs": [
    {
     "data": {
      "text/html": [
       "<div>\n",
       "<style scoped>\n",
       "    .dataframe tbody tr th:only-of-type {\n",
       "        vertical-align: middle;\n",
       "    }\n",
       "\n",
       "    .dataframe tbody tr th {\n",
       "        vertical-align: top;\n",
       "    }\n",
       "\n",
       "    .dataframe thead th {\n",
       "        text-align: right;\n",
       "    }\n",
       "</style>\n",
       "<table border=\"1\" class=\"dataframe\">\n",
       "  <thead>\n",
       "    <tr style=\"text-align: right;\">\n",
       "      <th></th>\n",
       "      <th>avg_age</th>\n",
       "      <th>std_age</th>\n",
       "    </tr>\n",
       "    <tr>\n",
       "      <th>income</th>\n",
       "      <th></th>\n",
       "      <th></th>\n",
       "    </tr>\n",
       "  </thead>\n",
       "  <tbody>\n",
       "    <tr>\n",
       "      <th>&lt;=50K</th>\n",
       "      <td>36.75</td>\n",
       "      <td>13.56</td>\n",
       "    </tr>\n",
       "    <tr>\n",
       "      <th>&gt;50K</th>\n",
       "      <td>44.01</td>\n",
       "      <td>10.34</td>\n",
       "    </tr>\n",
       "  </tbody>\n",
       "</table>\n",
       "</div>"
      ],
      "text/plain": [
       "        avg_age  std_age\n",
       "income                  \n",
       "<=50K     36.75    13.56\n",
       ">50K      44.01    10.34"
      ]
     },
     "execution_count": 16,
     "metadata": {},
     "output_type": "execute_result"
    }
   ],
   "source": [
    "data.groupby('income')['age'].agg(['mean','std']).rename(columns={'mean':'avg_age','std':'std_age'}).round(2)"
   ]
  },
  {
   "cell_type": "markdown",
   "id": "75fb6ccf",
   "metadata": {},
   "source": [
    "С каким образованием встречаются люди, зарабатывающие больше 50к ?"
   ]
  },
  {
   "cell_type": "code",
   "execution_count": 17,
   "id": "bbb04a05",
   "metadata": {
    "scrolled": true
   },
   "outputs": [
    {
     "data": {
      "text/plain": [
       "array(['Assoc-acdm', 'Some-college', 'Prof-school', 'HS-grad', 'Masters',\n",
       "       'Bachelors', 'Assoc-voc', 'Doctorate', '9th', '10th', '7th-8th',\n",
       "       '11th', '5th-6th', '1st-4th', '12th', 'Preschool'], dtype=object)"
      ]
     },
     "execution_count": 17,
     "metadata": {},
     "output_type": "execute_result"
    }
   ],
   "source": [
    "data[data.income == '>50K']['education'].value_counts()\n",
    "data.loc[data.income == '>50K','education'].value_counts()\n",
    "data.loc[data.income == '>50K','education'].unique()"
   ]
  },
  {
   "cell_type": "markdown",
   "id": "2cd9ba6b",
   "metadata": {},
   "source": [
    "Возрастная статистика по расам и полам:"
   ]
  },
  {
   "cell_type": "code",
   "execution_count": 18,
   "id": "ff688cd6",
   "metadata": {
    "scrolled": true
   },
   "outputs": [
    {
     "data": {
      "text/html": [
       "<div>\n",
       "<style scoped>\n",
       "    .dataframe tbody tr th:only-of-type {\n",
       "        vertical-align: middle;\n",
       "    }\n",
       "\n",
       "    .dataframe tbody tr th {\n",
       "        vertical-align: top;\n",
       "    }\n",
       "\n",
       "    .dataframe thead th {\n",
       "        text-align: right;\n",
       "    }\n",
       "</style>\n",
       "<table border=\"1\" class=\"dataframe\">\n",
       "  <thead>\n",
       "    <tr style=\"text-align: right;\">\n",
       "      <th></th>\n",
       "      <th></th>\n",
       "      <th>count</th>\n",
       "      <th>mean</th>\n",
       "      <th>std</th>\n",
       "      <th>min</th>\n",
       "      <th>25%</th>\n",
       "      <th>50%</th>\n",
       "      <th>75%</th>\n",
       "      <th>max</th>\n",
       "    </tr>\n",
       "    <tr>\n",
       "      <th>race</th>\n",
       "      <th>gender</th>\n",
       "      <th></th>\n",
       "      <th></th>\n",
       "      <th></th>\n",
       "      <th></th>\n",
       "      <th></th>\n",
       "      <th></th>\n",
       "      <th></th>\n",
       "      <th></th>\n",
       "    </tr>\n",
       "  </thead>\n",
       "  <tbody>\n",
       "    <tr>\n",
       "      <th rowspan=\"2\" valign=\"top\">Amer-Indian-Eskimo</th>\n",
       "      <th>Female</th>\n",
       "      <td>166.0</td>\n",
       "      <td>36.53</td>\n",
       "      <td>12.73</td>\n",
       "      <td>17.0</td>\n",
       "      <td>27.00</td>\n",
       "      <td>35.0</td>\n",
       "      <td>46.00</td>\n",
       "      <td>80.0</td>\n",
       "    </tr>\n",
       "    <tr>\n",
       "      <th>Male</th>\n",
       "      <td>269.0</td>\n",
       "      <td>36.27</td>\n",
       "      <td>10.64</td>\n",
       "      <td>17.0</td>\n",
       "      <td>29.00</td>\n",
       "      <td>35.0</td>\n",
       "      <td>43.00</td>\n",
       "      <td>71.0</td>\n",
       "    </tr>\n",
       "    <tr>\n",
       "      <th rowspan=\"2\" valign=\"top\">Asian-Pac-Islander</th>\n",
       "      <th>Female</th>\n",
       "      <td>436.0</td>\n",
       "      <td>35.98</td>\n",
       "      <td>12.34</td>\n",
       "      <td>17.0</td>\n",
       "      <td>26.00</td>\n",
       "      <td>35.0</td>\n",
       "      <td>44.00</td>\n",
       "      <td>81.0</td>\n",
       "    </tr>\n",
       "    <tr>\n",
       "      <th>Male</th>\n",
       "      <td>867.0</td>\n",
       "      <td>39.18</td>\n",
       "      <td>12.67</td>\n",
       "      <td>18.0</td>\n",
       "      <td>30.00</td>\n",
       "      <td>38.0</td>\n",
       "      <td>47.00</td>\n",
       "      <td>90.0</td>\n",
       "    </tr>\n",
       "    <tr>\n",
       "      <th rowspan=\"2\" valign=\"top\">Black</th>\n",
       "      <th>Female</th>\n",
       "      <td>2084.0</td>\n",
       "      <td>38.10</td>\n",
       "      <td>12.48</td>\n",
       "      <td>17.0</td>\n",
       "      <td>28.00</td>\n",
       "      <td>37.0</td>\n",
       "      <td>46.00</td>\n",
       "      <td>90.0</td>\n",
       "    </tr>\n",
       "    <tr>\n",
       "      <th>Male</th>\n",
       "      <td>2144.0</td>\n",
       "      <td>37.89</td>\n",
       "      <td>12.64</td>\n",
       "      <td>17.0</td>\n",
       "      <td>28.00</td>\n",
       "      <td>36.0</td>\n",
       "      <td>46.00</td>\n",
       "      <td>90.0</td>\n",
       "    </tr>\n",
       "    <tr>\n",
       "      <th rowspan=\"2\" valign=\"top\">Other</th>\n",
       "      <th>Female</th>\n",
       "      <td>126.0</td>\n",
       "      <td>31.70</td>\n",
       "      <td>10.28</td>\n",
       "      <td>17.0</td>\n",
       "      <td>23.25</td>\n",
       "      <td>29.5</td>\n",
       "      <td>38.75</td>\n",
       "      <td>64.0</td>\n",
       "    </tr>\n",
       "    <tr>\n",
       "      <th>Male</th>\n",
       "      <td>227.0</td>\n",
       "      <td>35.03</td>\n",
       "      <td>11.44</td>\n",
       "      <td>17.0</td>\n",
       "      <td>26.50</td>\n",
       "      <td>32.0</td>\n",
       "      <td>42.00</td>\n",
       "      <td>77.0</td>\n",
       "    </tr>\n",
       "    <tr>\n",
       "      <th rowspan=\"2\" valign=\"top\">White</th>\n",
       "      <th>Female</th>\n",
       "      <td>11883.0</td>\n",
       "      <td>36.89</td>\n",
       "      <td>13.98</td>\n",
       "      <td>17.0</td>\n",
       "      <td>25.00</td>\n",
       "      <td>35.0</td>\n",
       "      <td>46.00</td>\n",
       "      <td>90.0</td>\n",
       "    </tr>\n",
       "    <tr>\n",
       "      <th>Male</th>\n",
       "      <td>27020.0</td>\n",
       "      <td>39.48</td>\n",
       "      <td>12.96</td>\n",
       "      <td>17.0</td>\n",
       "      <td>30.00</td>\n",
       "      <td>38.0</td>\n",
       "      <td>48.00</td>\n",
       "      <td>90.0</td>\n",
       "    </tr>\n",
       "  </tbody>\n",
       "</table>\n",
       "</div>"
      ],
      "text/plain": [
       "                             count   mean    std   min    25%   50%    75%  \\\n",
       "race               gender                                                    \n",
       "Amer-Indian-Eskimo Female    166.0  36.53  12.73  17.0  27.00  35.0  46.00   \n",
       "                   Male      269.0  36.27  10.64  17.0  29.00  35.0  43.00   \n",
       "Asian-Pac-Islander Female    436.0  35.98  12.34  17.0  26.00  35.0  44.00   \n",
       "                   Male      867.0  39.18  12.67  18.0  30.00  38.0  47.00   \n",
       "Black              Female   2084.0  38.10  12.48  17.0  28.00  37.0  46.00   \n",
       "                   Male     2144.0  37.89  12.64  17.0  28.00  36.0  46.00   \n",
       "Other              Female    126.0  31.70  10.28  17.0  23.25  29.5  38.75   \n",
       "                   Male      227.0  35.03  11.44  17.0  26.50  32.0  42.00   \n",
       "White              Female  11883.0  36.89  13.98  17.0  25.00  35.0  46.00   \n",
       "                   Male    27020.0  39.48  12.96  17.0  30.00  38.0  48.00   \n",
       "\n",
       "                            max  \n",
       "race               gender        \n",
       "Amer-Indian-Eskimo Female  80.0  \n",
       "                   Male    71.0  \n",
       "Asian-Pac-Islander Female  81.0  \n",
       "                   Male    90.0  \n",
       "Black              Female  90.0  \n",
       "                   Male    90.0  \n",
       "Other              Female  64.0  \n",
       "                   Male    77.0  \n",
       "White              Female  90.0  \n",
       "                   Male    90.0  "
      ]
     },
     "execution_count": 18,
     "metadata": {},
     "output_type": "execute_result"
    }
   ],
   "source": [
    "data.groupby(['race','gender'])['age'].describe().round(2)"
   ]
  },
  {
   "cell_type": "markdown",
   "id": "44d88e7c",
   "metadata": {},
   "source": [
    "Доля зарабатывающих больше 50к выше среди женатых или свободных мужчин? Среди женатых 45%, среди свободных 7%."
   ]
  },
  {
   "cell_type": "code",
   "execution_count": 19,
   "id": "cf2306b6",
   "metadata": {
    "scrolled": true
   },
   "outputs": [
    {
     "data": {
      "text/html": [
       "<div>\n",
       "<style scoped>\n",
       "    .dataframe tbody tr th:only-of-type {\n",
       "        vertical-align: middle;\n",
       "    }\n",
       "\n",
       "    .dataframe tbody tr th {\n",
       "        vertical-align: top;\n",
       "    }\n",
       "\n",
       "    .dataframe thead th {\n",
       "        text-align: right;\n",
       "    }\n",
       "</style>\n",
       "<table border=\"1\" class=\"dataframe\">\n",
       "  <thead>\n",
       "    <tr style=\"text-align: right;\">\n",
       "      <th>married_single</th>\n",
       "      <th>married</th>\n",
       "      <th>single</th>\n",
       "    </tr>\n",
       "    <tr>\n",
       "      <th>income</th>\n",
       "      <th></th>\n",
       "      <th></th>\n",
       "    </tr>\n",
       "  </thead>\n",
       "  <tbody>\n",
       "    <tr>\n",
       "      <th>&lt;=50K</th>\n",
       "      <td>0.555</td>\n",
       "      <td>0.933</td>\n",
       "    </tr>\n",
       "    <tr>\n",
       "      <th>&gt;50K</th>\n",
       "      <td>0.445</td>\n",
       "      <td>0.067</td>\n",
       "    </tr>\n",
       "  </tbody>\n",
       "</table>\n",
       "</div>"
      ],
      "text/plain": [
       "married_single  married  single\n",
       "income                         \n",
       "<=50K             0.555   0.933\n",
       ">50K              0.445   0.067"
      ]
     },
     "execution_count": 19,
     "metadata": {},
     "output_type": "execute_result"
    }
   ],
   "source": [
    "data_2 = data.copy()\n",
    "data_2['married_single'] = data_2['marital_status'].apply(lambda x: 'married' if 'Married' in x else 'single')\n",
    "pd.crosstab(data_2.income, data_2.married_single, normalize = 'columns')"
   ]
  },
  {
   "cell_type": "markdown",
   "id": "21438d1a",
   "metadata": {},
   "source": [
    "Сколько людей работают максимум часов в неделю? Какая доля зарабатывающих больше 50к среди них? Максимум часов в неделею работают 123 человка. Среди них 33% зарабатывают больше 50к. "
   ]
  },
  {
   "cell_type": "code",
   "execution_count": 20,
   "id": "d289693a",
   "metadata": {
    "scrolled": true
   },
   "outputs": [
    {
     "name": "stdout",
     "output_type": "stream",
     "text": [
      "123\n",
      "<=50K    0.67\n",
      ">50K     0.33\n",
      "Name: income, dtype: float64\n"
     ]
    }
   ],
   "source": [
    "print(data.loc[data.hours_per_week == data.hours_per_week.max(),:].shape[0])\n",
    "print(data.loc[data.hours_per_week == data.hours_per_week.max(),'income'].value_counts(normalize = True).round(2))"
   ]
  },
  {
   "cell_type": "markdown",
   "id": "e169c710",
   "metadata": {},
   "source": [
    "Среднее число часов в неделю для зарабатывающих больше и меньше 50к в Японии?"
   ]
  },
  {
   "cell_type": "code",
   "execution_count": 21,
   "id": "e749650d",
   "metadata": {
    "scrolled": true
   },
   "outputs": [
    {
     "data": {
      "text/plain": [
       "income\n",
       "<=50K    39.90\n",
       ">50K     47.13\n",
       "Name: Japan, dtype: float64"
      ]
     },
     "execution_count": 21,
     "metadata": {},
     "output_type": "execute_result"
    }
   ],
   "source": [
    "pd.crosstab(data.income, data.native_country, values = data.hours_per_week, aggfunc = 'mean').round(2)['Japan']"
   ]
  },
  {
   "cell_type": "markdown",
   "id": "5561f29b",
   "metadata": {},
   "source": [
    "<a href=\"#0\"><h4>Наверх</h4></a>"
   ]
  },
  {
   "cell_type": "markdown",
   "id": "23a6edba",
   "metadata": {},
   "source": [
    "<p id=\"3\">\n",
    "<h4>Отбор факторов</h4>"
   ]
  },
  {
   "cell_type": "markdown",
   "id": "4c90e4d6",
   "metadata": {},
   "source": [
    "Посмотрим взаимосвязь между числовыми факторами и категориальным таргетом на групповых средних и медианах. На глаз заметные практические различия средних и медиан только у age. Распределение capital_gain и capital_loss очень асимметричны, средние различаются, а медианы нет. У hours_per_week распределение сосредоточено вокруг значения 40, средние различаются, а медиана нет."
   ]
  },
  {
   "cell_type": "code",
   "execution_count": 22,
   "id": "876cbdd5",
   "metadata": {
    "scrolled": true
   },
   "outputs": [
    {
     "name": "stdout",
     "output_type": "stream",
     "text": [
      "age mean_>50K:  44.006 mean_<=50K:  36.749\n",
      "age median_>50K:  43.0 median_<=50K:  34.0\n",
      "\n",
      "capital_gain mean_>50K:  3991.792 mean_<=50K:  149.023\n",
      "capital_gain median_>50K:  0.0 median_<=50K:  0.0\n",
      "\n",
      "capital_loss mean_>50K:  193.487 mean_<=50K:  54.032\n",
      "capital_loss median_>50K:  0.0 median_<=50K:  0.0\n",
      "\n",
      "hours_per_week mean_>50K:  45.69 mean_<=50K:  39.372\n",
      "hours_per_week median_>50K:  40.0 median_<=50K:  40.0\n",
      "\n"
     ]
    }
   ],
   "source": [
    "num_column = ['age', 'capital_gain', 'capital_loss','hours_per_week']\n",
    "for col in num_column:\n",
    "    print(col, 'mean_>50K: ', round(data[data.income == '>50K'][col].mean(),3),\n",
    "          'mean_<=50K: ', round(data[data.income == '<=50K'][col].mean(),3))\n",
    "    print(col, 'median_>50K: ', round(data[data.income == '>50K'][col].median(),3),\n",
    "          'median_<=50K: ', round(data[data.income == '<=50K'][col].median(),3))\n",
    "    print('')"
   ]
  },
  {
   "cell_type": "markdown",
   "id": "05da425e",
   "metadata": {},
   "source": [
    "Проверим, какие из различий в средних статистически значимы с помощью двустороннего теста Т-теста Стьюдента (распределение факторов не похоже на нормальное, но у нас достаточный объем данных, так что положимся на ЦПТ). По все факторам отвержение нулевой гипотезы о равенстве средних, и довольно высокие тест-статистики."
   ]
  },
  {
   "cell_type": "code",
   "execution_count": 23,
   "id": "5aa6d804",
   "metadata": {},
   "outputs": [],
   "source": [
    "import scipy.stats as stats"
   ]
  },
  {
   "cell_type": "code",
   "execution_count": 24,
   "id": "a86aef15",
   "metadata": {
    "scrolled": true
   },
   "outputs": [
    {
     "name": "stdout",
     "output_type": "stream",
     "text": [
      "age stat= 51.89 , p= 0.0\n",
      "capital_gain stat= 48.19 , p= 0.0\n",
      "capital_loss stat= 31.97 , p= 0.0\n",
      "hours_per_week stat= 49.61 , p= 0.0\n"
     ]
    }
   ],
   "source": [
    "for col in num_column:\n",
    "    t,p = stats.ttest_ind(data[data.income == '>50K'][col], data[data.income == '<=50K'][col])\n",
    "    print(col,'stat=', round(t,2),', p=', round(p,4))"
   ]
  },
  {
   "cell_type": "markdown",
   "id": "9173c707",
   "metadata": {},
   "source": [
    "Для категориальных факторов проведем тест Хи-квадрат. По всем факторам тест дает нулевое р-значение, то есть более чем достаточно аргументов для отвержения нулевой гипотезы о независимости. Наибольшая тест-статистика у relationship, далее education и occupation."
   ]
  },
  {
   "cell_type": "code",
   "execution_count": 25,
   "id": "8ef61a33",
   "metadata": {},
   "outputs": [],
   "source": [
    "from scipy.stats import chi2_contingency"
   ]
  },
  {
   "cell_type": "code",
   "execution_count": 26,
   "id": "ca3931c5",
   "metadata": {
    "scrolled": true
   },
   "outputs": [
    {
     "name": "stdout",
     "output_type": "stream",
     "text": [
      "workclass stat:  1207.26 p-value:  0.0\n",
      "education stat:  5996.0 p-value:  0.0\n",
      "marital_status stat:  9109.23 p-value:  0.0\n",
      "occupation stat:  5415.14 p-value:  0.0\n",
      "relationship stat:  9357.04 p-value:  0.0\n",
      "race stat:  452.3 p-value:  0.0\n",
      "gender stat:  2105.2 p-value:  0.0\n",
      "native_country stat:  456.01 p-value:  0.0\n"
     ]
    }
   ],
   "source": [
    "cat_column = data.select_dtypes('object').columns[:-1]\n",
    "\n",
    "for col in cat_column:\n",
    "    tab = pd.crosstab(data.income, data[col])\n",
    "    stat, p, *_ = chi2_contingency(tab, correction = False)\n",
    "    print(col, 'stat: ', stat.round(2), 'p-value: ', p.round(4))"
   ]
  },
  {
   "cell_type": "markdown",
   "id": "be89429e",
   "metadata": {},
   "source": [
    "Другой подход к выбору факторов по критерию mutual information, которая измеряет сокращение неопределенности для одной переменной при известном значении другой."
   ]
  },
  {
   "cell_type": "code",
   "execution_count": 27,
   "id": "ce56212d",
   "metadata": {},
   "outputs": [],
   "source": [
    "from sklearn.preprocessing import OrdinalEncoder\n",
    "from sklearn.preprocessing import LabelEncoder\n",
    "from sklearn.feature_selection import SelectKBest\n",
    "from sklearn.feature_selection import mutual_info_classif"
   ]
  },
  {
   "cell_type": "markdown",
   "id": "06a939ad",
   "metadata": {},
   "source": [
    "Кодируем значения таргета:"
   ]
  },
  {
   "cell_type": "code",
   "execution_count": 28,
   "id": "8efd4c79",
   "metadata": {},
   "outputs": [],
   "source": [
    "le = LabelEncoder()\n",
    "le.fit( data.income )\n",
    "income_enc = le.transform( data.income )"
   ]
  },
  {
   "cell_type": "markdown",
   "id": "ddfc6581",
   "metadata": {},
   "source": [
    "Кодируем категориальные нечисловые факторы (кроме education, так для него уже есть educational_num):"
   ]
  },
  {
   "cell_type": "code",
   "execution_count": 29,
   "id": "295bbc2e",
   "metadata": {
    "scrolled": true
   },
   "outputs": [],
   "source": [
    "cat_column = ['workclass', 'marital_status', 'occupation', 'relationship', 'race', 'gender', 'native_country']\n",
    "oe = OrdinalEncoder()\n",
    "oe.fit( data[cat_column])\n",
    "cat_enc = oe.transform(data[cat_column])\n",
    "cat_enc_df = pd.DataFrame( data = cat_enc, columns = cat_column)"
   ]
  },
  {
   "cell_type": "markdown",
   "id": "dddc9d83",
   "metadata": {},
   "source": [
    "Факторы не сильно отличаются друг от друга по значимости. Самые значимые - marital_status и relationship."
   ]
  },
  {
   "cell_type": "code",
   "execution_count": 30,
   "id": "4b71f1a0",
   "metadata": {
    "scrolled": true
   },
   "outputs": [
    {
     "name": "stdout",
     "output_type": "stream",
     "text": [
      "age: 0.06609\n",
      "capital_gain: 0.08502\n",
      "capital_loss: 0.0349\n",
      "hours_per_week: 0.04098\n",
      "educational_num: 0.06171\n",
      "workclass: 0.01453\n",
      "marital_status: 0.1122\n",
      "occupation: 0.06226\n",
      "relationship: 0.11401\n",
      "race: 0.01125\n",
      "gender: 0.02565\n",
      "native_country: 0.012\n"
     ]
    }
   ],
   "source": [
    "num_column = ['age', 'capital_gain', 'capital_loss','hours_per_week', 'educational_num']\n",
    "fs = SelectKBest(score_func = mutual_info_classif, k ='all')\n",
    "X = pd.concat([data[num_column].reset_index().drop(['index'], axis=1), cat_enc_df], axis = 1) \n",
    "y = income_enc\n",
    "fs.fit(X, y)\n",
    "X_fs = fs.transform(X)\n",
    "for i in X.columns:\n",
    "    print(f'{i}: {fs.scores_[list(X.columns).index(i)].round(5)}')"
   ]
  },
  {
   "cell_type": "markdown",
   "id": "f2888a03",
   "metadata": {},
   "source": [
    "Итак, построим логистическую регрессию по трем моделям:\n",
    "* все факторы (кроме fnlwgt)\n",
    "* age, relationship, educational_num и occupation (по результатам теста Стьюдента и Хи-квадрата)\n",
    "* relationship, marital_status, capital_gain и occupation (по результатам mutual information)"
   ]
  },
  {
   "cell_type": "markdown",
   "id": "0cc16691",
   "metadata": {},
   "source": [
    "<a href=\"#0\"><h4>Наверх</h4></a>"
   ]
  },
  {
   "cell_type": "markdown",
   "id": "4dedb9f5",
   "metadata": {},
   "source": [
    "<p id=\"4\">\n",
    "<h4>Логистическая регрессия</h4>"
   ]
  },
  {
   "cell_type": "code",
   "execution_count": 31,
   "id": "01bff103",
   "metadata": {},
   "outputs": [],
   "source": [
    "from sklearn.model_selection import train_test_split\n",
    "from sklearn.linear_model import LogisticRegression\n",
    "from sklearn.model_selection import cross_val_score\n",
    "from sklearn.model_selection import RepeatedStratifiedKFold\n",
    "from sklearn.metrics import confusion_matrix, classification_report\n",
    "from sklearn.compose import ColumnTransformer\n",
    "from sklearn.pipeline import Pipeline\n",
    "from sklearn.preprocessing import StandardScaler\n",
    "from sklearn.preprocessing import OneHotEncoder"
   ]
  },
  {
   "cell_type": "markdown",
   "id": "d2f610aa",
   "metadata": {},
   "source": [
    "Сначала с помощью кросс-валидации выберем модель."
   ]
  },
  {
   "cell_type": "markdown",
   "id": "396e8c4c",
   "metadata": {},
   "source": [
    "Создадим функцию, которая разбивает на обучающую/тестовую выборки (классы таргета не сбалансированы 25% vs 75%, поэтому при разделении на выборки применяем параметр stratify, а также shuffle), проводит кросс-валидацию регресcии на обучающей выборке (создает дамми для категориальных факторов, так как кроме education они не порядковые) и возвращает среднее и медиану метрик accuracy, precision, recall и f1."
   ]
  },
  {
   "cell_type": "code",
   "execution_count": 32,
   "id": "e24587b6",
   "metadata": {},
   "outputs": [],
   "source": [
    "def logreg_cross_val (X, y, cat_col, num_col):\n",
    "    \n",
    "    X_train, X_test, y_train, y_test = train_test_split(X, y, test_size = 0.3,\n",
    "                                                        random_state = 42, stratify =  y, shuffle = True)  \n",
    "    \n",
    "    trans = ColumnTransformer(transformers = [('cat', OneHotEncoder(), cat_col), \n",
    "                                              ('sc', StandardScaler(), num_col)], remainder = 'passthrough')\n",
    "    \n",
    "    pipe = Pipeline( [ (\"tr\", trans), (\"log\", LogisticRegression(max_iter = 700))] )\n",
    "     \n",
    "    cv = RepeatedStratifiedKFold(n_splits = 10, n_repeats = 3, random_state = 42)\n",
    "   \n",
    "    scores_acc = cross_val_score(pipe, X_train, y_train, scoring = 'accuracy', cv = cv)\n",
    "\n",
    "    scores_pr = cross_val_score(pipe, X_train, y_train, scoring = 'precision', cv = cv)\n",
    "\n",
    "    scores_re = cross_val_score(pipe, X_train, y_train, scoring = 'recall', cv = cv)\n",
    "    \n",
    "    scores_f = cross_val_score(pipe, X_train, y_train, scoring = 'f1', cv = cv)\n",
    "\n",
    "    return print('accuracy: средн=', round(np.mean(scores_acc),4), ', мед=', round(np.median(scores_acc),4),\n",
    "                '\\nprecision: средн=', round(np.mean(scores_pr),4), ', мед=', round(np.median(scores_pr),4),\n",
    "                '\\nrecall: средн=', round(np.mean(scores_re),4), ', мед=', round(np.median(scores_re),4),\n",
    "                '\\nf1-score: средн=', round(np.mean(scores_f),4), ', мед=', round(np.median(scores_f),4))"
   ]
  },
  {
   "cell_type": "markdown",
   "id": "4f476d13",
   "metadata": {},
   "source": [
    "Модель 1 (все факторы)"
   ]
  },
  {
   "cell_type": "code",
   "execution_count": 33,
   "id": "9ab386ee",
   "metadata": {},
   "outputs": [
    {
     "name": "stdout",
     "output_type": "stream",
     "text": [
      "accuracy: средн= 0.8491 , мед= 0.849 \n",
      "precision: средн= 0.7365 , мед= 0.7347 \n",
      "recall: средн= 0.6097 , мед= 0.6089 \n",
      "f1-score: средн= 0.667 , мед= 0.666\n"
     ]
    }
   ],
   "source": [
    "col = ['age', 'workclass', 'educational_num',\n",
    "       'marital_status', 'occupation', 'relationship', 'race', 'gender',\n",
    "       'capital_gain', 'capital_loss', 'hours_per_week']\n",
    "cat_col = ['workclass', 'marital_status', 'occupation', 'relationship', 'race', 'gender']\n",
    "num_col = ['age', 'capital_gain', 'capital_loss', 'hours_per_week']\n",
    "\n",
    "X = data[col]\n",
    "y = LabelEncoder().fit_transform(data.income)\n",
    "\n",
    "logreg_cross_val (X, y, cat_col, num_col)"
   ]
  },
  {
   "cell_type": "markdown",
   "id": "0fb4b742",
   "metadata": {},
   "source": [
    "Модель 2 (age, relationship, educational_num, occupation)"
   ]
  },
  {
   "cell_type": "code",
   "execution_count": 34,
   "id": "168d454b",
   "metadata": {},
   "outputs": [
    {
     "name": "stdout",
     "output_type": "stream",
     "text": [
      "accuracy: средн= 0.8266 , мед= 0.8264 \n",
      "precision: средн= 0.6931 , мед= 0.6911 \n",
      "recall: средн= 0.5394 , мед= 0.5417 \n",
      "f1-score: средн= 0.6065 , мед= 0.6063\n"
     ]
    }
   ],
   "source": [
    "col = ['age', 'relationship', 'educational_num', 'occupation']\n",
    "cat_col = ['relationship', 'occupation']\n",
    "num_col = ['age']\n",
    "\n",
    "X = data[col]\n",
    "y = LabelEncoder().fit_transform(data.income)\n",
    "\n",
    "logreg_cross_val (X, y, cat_col, num_col)"
   ]
  },
  {
   "cell_type": "markdown",
   "id": "f4437251",
   "metadata": {},
   "source": [
    "Модель 3 (relationship, marital_status, capital_gain, occupation)"
   ]
  },
  {
   "cell_type": "code",
   "execution_count": 35,
   "id": "32bcaaac",
   "metadata": {
    "scrolled": true
   },
   "outputs": [
    {
     "name": "stdout",
     "output_type": "stream",
     "text": [
      "accuracy: средн= 0.8347 , мед= 0.8337 \n",
      "precision: средн= 0.7144 , мед= 0.7123 \n",
      "recall: средн= 0.555 , мед= 0.5567 \n",
      "f1-score: средн= 0.6246 , мед= 0.6266\n"
     ]
    }
   ],
   "source": [
    "col = ['marital_status', 'relationship', 'capital_gain', 'occupation']\n",
    "cat_col = ['relationship', 'marital_status', 'occupation']\n",
    "num_col = ['capital_gain']\n",
    "\n",
    "X = data[col]\n",
    "y = LabelEncoder().fit_transform(data.income)\n",
    "\n",
    "logreg_cross_val (X, y, cat_col, num_col)"
   ]
  },
  {
   "cell_type": "markdown",
   "id": "db6b1d6d",
   "metadata": {},
   "source": [
    "Accuracy хороша для сбалансированных классов. В задаче с прогнозом уровня дохода сложно оценить, цена какой ошибки выше: False Negative или False Positive, поэтому сложно выбрать между Precision и Recall. Будем опираться на \"среднее\" между Precision и Recall - f1_score. По этой метрике модели не так сильно различаются, у модели со всеми (11) факторами метрика 0.66, у модели 3 (5 факторов) метрика 0.62. Поэтому остановимся на модели 3, так качество незначительно ниже, а модель значительно проще."
   ]
  },
  {
   "cell_type": "markdown",
   "id": "3702c8bd",
   "metadata": {},
   "source": [
    "Теперь обучаем выбранную модель на всем трейне, кодируем категориальные факторы. "
   ]
  },
  {
   "cell_type": "code",
   "execution_count": 36,
   "id": "5f124e35",
   "metadata": {},
   "outputs": [
    {
     "data": {
      "text/plain": [
       "LogisticRegression(max_iter=200)"
      ]
     },
     "execution_count": 36,
     "metadata": {},
     "output_type": "execute_result"
    }
   ],
   "source": [
    "col = ['marital_status', 'relationship', 'capital_gain', 'occupation']\n",
    "cat_col = ['relationship', 'marital_status', 'occupation']\n",
    "num_col = ['capital_gain']\n",
    "\n",
    "X = data[col]\n",
    "y = LabelEncoder().fit_transform(data.income)\n",
    "\n",
    "X_train, X_test, y_train, y_test = train_test_split(X, y, test_size = 0.3,\n",
    "                                                        random_state = 42, stratify =  y, shuffle = True)  \n",
    "\n",
    "trans = ColumnTransformer(transformers = [('cat', OneHotEncoder(), cat_col),\n",
    "                                         ('sc', StandardScaler(), num_col)], remainder = 'passthrough')\n",
    "pipe = Pipeline( [(\"tr\", trans)] )\n",
    "                                 \n",
    "pipe.fit(X_train)\n",
    "X_train_enc = pipe.transform(X_train)\n",
    "X_test_enc = pipe.transform(X_test)\n",
    "\n",
    "lr = LogisticRegression(max_iter = 200)\n",
    "lr.fit(X_train_enc, y_train)"
   ]
  },
  {
   "cell_type": "markdown",
   "id": "31594923",
   "metadata": {},
   "source": [
    "Делаем прогнозы на тестовой выборке. Метрики получились чуть ниже, чем в кросс-валидации. f1_score для класса дохода <50к = 0.89, для дохода >50к = 0.59."
   ]
  },
  {
   "cell_type": "code",
   "execution_count": 37,
   "id": "93c2105f",
   "metadata": {
    "scrolled": false
   },
   "outputs": [
    {
     "name": "stdout",
     "output_type": "stream",
     "text": [
      "              precision    recall  f1-score   support\n",
      "\n",
      "           0       0.85      0.92      0.89     10205\n",
      "           1       0.68      0.53      0.59      3362\n",
      "\n",
      "    accuracy                           0.82     13567\n",
      "   macro avg       0.77      0.72      0.74     13567\n",
      "weighted avg       0.81      0.82      0.81     13567\n",
      "\n"
     ]
    }
   ],
   "source": [
    "pred = lr.predict(X_test_enc)\n",
    "print(classification_report(y_test, pred))"
   ]
  },
  {
   "cell_type": "markdown",
   "id": "987d933a",
   "metadata": {},
   "source": [
    "<a href=\"#0\"><h4>Наверх</h4></a>"
   ]
  }
 ],
 "metadata": {
  "kernelspec": {
   "display_name": "Python 3 (ipykernel)",
   "language": "python",
   "name": "python3"
  },
  "language_info": {
   "codemirror_mode": {
    "name": "ipython",
    "version": 3
   },
   "file_extension": ".py",
   "mimetype": "text/x-python",
   "name": "python",
   "nbconvert_exporter": "python",
   "pygments_lexer": "ipython3",
   "version": "3.8.12"
  }
 },
 "nbformat": 4,
 "nbformat_minor": 5
}
