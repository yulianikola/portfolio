{
 "cells": [
  {
   "cell_type": "markdown",
   "metadata": {},
   "source": [
    "<div class=\"alert alert-info\">\n",
    "Ссылка для просмотра ноутбука в интерактивном режиме для использования гиперссылок и корректного отображения разметки:<br>\n",
    "<a href='https://nbviewer.org/github/yulianikola/portfolio/blob/master/data_analysis_python/3_expl_data_analysis/horse_surge.ipynb'>horse_surge</a></div>"
   ]
  },
  {
   "cell_type": "markdown",
   "metadata": {},
   "source": [
    "### Подготовка данных\n",
    "#### Данные о состоянии здоровья лошадей с кишечными коликами"
   ]
  },
  {
   "cell_type": "markdown",
   "metadata": {},
   "source": [
    "Описание данных:<br>\n",
    "https://raw.githubusercontent.com/obulygin/pyda_homeworks/master/statistics_basics/horse_data.names<br>\n",
    "Данные:<br>\n",
    "https://raw.githubusercontent.com/obulygin/pyda_homeworks/master/statistics_basics/horse_data.csv<br>"
   ]
  },
  {
   "cell_type": "markdown",
   "metadata": {},
   "source": [
    "#### Задачи:\n",
    "1. Изучить набор данных на основе описания его столбцов и выбрать столбцы для дальнейшего изучения (среди них должны быть как числовые, так и категориальные). Провести расчет базовых метрик для них.\n",
    "1. В выбранных числовых столбцах найти выбросы, выдвинуть гипотезы об их причинах и проинтерпретировать результаты. Принять и обосновать решение о дальнейшей работе с ними.\n",
    "1. Рассчитать количество пропусков для всех выбранных столбцов. Принять и обосновать решение о методе работы с пропусками по каждому столбцу, сформировать датафрейм, в котором пропуски будут отсутствовать."
   ]
  },
  {
   "cell_type": "markdown",
   "metadata": {},
   "source": [
    "<p id=\"0\">\n",
    "<h4>Содержание</h4>\n",
    "<ul type=\"square\"><a href=\"#1\"><li>Знакомство с данными</li></a>\n",
    "<a href=\"#2\"><li>Дубликаты</li></a>\n",
    "<a href=\"#3\"><li>Анализ признаков (распределение, пропуски, выбросы)</li></a>"
   ]
  },
  {
   "cell_type": "code",
   "execution_count": 1,
   "metadata": {},
   "outputs": [],
   "source": [
    "import pandas as pd\n",
    "import re"
   ]
  },
  {
   "cell_type": "markdown",
   "metadata": {},
   "source": [
    "<p id=\"1\">\n",
    "<h4>Знакомство с данными</h4><br>"
   ]
  },
  {
   "cell_type": "markdown",
   "metadata": {},
   "source": [
    "Извлечем названия переменных из описания для наименования столбцов:"
   ]
  },
  {
   "cell_type": "code",
   "execution_count": 2,
   "metadata": {},
   "outputs": [],
   "source": [
    "f = open(\"C:\\\\python\\\\portfolio\\\\data_analysis_python\\\\3_expl_data_analysis\\\\data\\\\horse_descr.txt\", 'r', encoding ='utf-8')\n",
    "descr = f.readlines()"
   ]
  },
  {
   "cell_type": "code",
   "execution_count": 3,
   "metadata": {},
   "outputs": [],
   "source": [
    "for line in descr:\n",
    "    if 'Attribute Information' in line:\n",
    "        ind = descr.index(line)\n",
    "        break"
   ]
  },
  {
   "cell_type": "markdown",
   "metadata": {},
   "source": [
    "С помощью регулярных выражений создадим список для названий столбцов на основе описания показателей:"
   ]
  },
  {
   "cell_type": "code",
   "execution_count": 4,
   "metadata": {},
   "outputs": [
    {
     "name": "stdout",
     "output_type": "stream",
     "text": [
      "28\n",
      "['surgery', 'age', 'hospital_number', 'rectal_temperature', 'pulse', 'respiratory_rate', 'temperature_of_extremities', 'peripheral_pulse', 'mucous_membranes', 'capillary_refill_time', 'pain', 'peristalsis', 'abdominal_distension', 'nasogastric_tube', 'nasogastric_reflux', 'nasogastric_reflux_ph', 'rectal_examination', 'abdomen', 'packed_cell_volume', 'total_protein', 'abdominocentesis_appearance', 'abdomcentesis_total_protein', 'outcome', 'surgical_lesion', 'type_of_lesion', 'type_of_lesion_0', 'type_of_lesion_1', 'cp_data']\n"
     ]
    }
   ],
   "source": [
    "names = ''.join(descr[ind:])\n",
    "names_1 = re.findall(r'(?<=\\d:)\\s*(?:\\w+[ ]*)+',names)\n",
    "names_final = list(map(lambda name: name.strip().lower().replace(' ','_'), names_1))\n",
    "# Добавить два столбца, тк в описании три под одним именем: 25, 26, 27: type of lesion.\n",
    "names_final.insert(names_final.index('type_of_lesion') + 1,'type_of_lesion_0')\n",
    "names_final.insert(names_final.index('type_of_lesion_0') + 1,'type_of_lesion_1')\n",
    "print(len(names_final))\n",
    "print(names_final)"
   ]
  },
  {
   "cell_type": "markdown",
   "metadata": {},
   "source": [
    "Загружаем данные в датафрейм и присваиваем названия столбцам:"
   ]
  },
  {
   "cell_type": "code",
   "execution_count": 5,
   "metadata": {
    "scrolled": true
   },
   "outputs": [
    {
     "data": {
      "text/html": [
       "<div>\n",
       "<style scoped>\n",
       "    .dataframe tbody tr th:only-of-type {\n",
       "        vertical-align: middle;\n",
       "    }\n",
       "\n",
       "    .dataframe tbody tr th {\n",
       "        vertical-align: top;\n",
       "    }\n",
       "\n",
       "    .dataframe thead th {\n",
       "        text-align: right;\n",
       "    }\n",
       "</style>\n",
       "<table border=\"1\" class=\"dataframe\">\n",
       "  <thead>\n",
       "    <tr style=\"text-align: right;\">\n",
       "      <th></th>\n",
       "      <th>surgery</th>\n",
       "      <th>age</th>\n",
       "      <th>hospital_number</th>\n",
       "      <th>rectal_temperature</th>\n",
       "      <th>pulse</th>\n",
       "      <th>respiratory_rate</th>\n",
       "      <th>temperature_of_extremities</th>\n",
       "      <th>peripheral_pulse</th>\n",
       "      <th>mucous_membranes</th>\n",
       "      <th>capillary_refill_time</th>\n",
       "      <th>...</th>\n",
       "      <th>packed_cell_volume</th>\n",
       "      <th>total_protein</th>\n",
       "      <th>abdominocentesis_appearance</th>\n",
       "      <th>abdomcentesis_total_protein</th>\n",
       "      <th>outcome</th>\n",
       "      <th>surgical_lesion</th>\n",
       "      <th>type_of_lesion</th>\n",
       "      <th>type_of_lesion_0</th>\n",
       "      <th>type_of_lesion_1</th>\n",
       "      <th>cp_data</th>\n",
       "    </tr>\n",
       "  </thead>\n",
       "  <tbody>\n",
       "    <tr>\n",
       "      <th>0</th>\n",
       "      <td>2</td>\n",
       "      <td>1</td>\n",
       "      <td>530101</td>\n",
       "      <td>38.50</td>\n",
       "      <td>66</td>\n",
       "      <td>28</td>\n",
       "      <td>3</td>\n",
       "      <td>3</td>\n",
       "      <td>?</td>\n",
       "      <td>2</td>\n",
       "      <td>...</td>\n",
       "      <td>45.00</td>\n",
       "      <td>8.40</td>\n",
       "      <td>?</td>\n",
       "      <td>?</td>\n",
       "      <td>2</td>\n",
       "      <td>2</td>\n",
       "      <td>11300</td>\n",
       "      <td>0</td>\n",
       "      <td>0</td>\n",
       "      <td>2</td>\n",
       "    </tr>\n",
       "    <tr>\n",
       "      <th>1</th>\n",
       "      <td>1</td>\n",
       "      <td>1</td>\n",
       "      <td>534817</td>\n",
       "      <td>39.2</td>\n",
       "      <td>88</td>\n",
       "      <td>20</td>\n",
       "      <td>?</td>\n",
       "      <td>?</td>\n",
       "      <td>4</td>\n",
       "      <td>1</td>\n",
       "      <td>...</td>\n",
       "      <td>50</td>\n",
       "      <td>85</td>\n",
       "      <td>2</td>\n",
       "      <td>2</td>\n",
       "      <td>3</td>\n",
       "      <td>2</td>\n",
       "      <td>2208</td>\n",
       "      <td>0</td>\n",
       "      <td>0</td>\n",
       "      <td>2</td>\n",
       "    </tr>\n",
       "    <tr>\n",
       "      <th>2</th>\n",
       "      <td>2</td>\n",
       "      <td>1</td>\n",
       "      <td>530334</td>\n",
       "      <td>38.30</td>\n",
       "      <td>40</td>\n",
       "      <td>24</td>\n",
       "      <td>1</td>\n",
       "      <td>1</td>\n",
       "      <td>3</td>\n",
       "      <td>1</td>\n",
       "      <td>...</td>\n",
       "      <td>33.00</td>\n",
       "      <td>6.70</td>\n",
       "      <td>?</td>\n",
       "      <td>?</td>\n",
       "      <td>1</td>\n",
       "      <td>2</td>\n",
       "      <td>0</td>\n",
       "      <td>0</td>\n",
       "      <td>0</td>\n",
       "      <td>1</td>\n",
       "    </tr>\n",
       "    <tr>\n",
       "      <th>3</th>\n",
       "      <td>1</td>\n",
       "      <td>9</td>\n",
       "      <td>5290409</td>\n",
       "      <td>39.10</td>\n",
       "      <td>164</td>\n",
       "      <td>84</td>\n",
       "      <td>4</td>\n",
       "      <td>1</td>\n",
       "      <td>6</td>\n",
       "      <td>2</td>\n",
       "      <td>...</td>\n",
       "      <td>48.00</td>\n",
       "      <td>7.20</td>\n",
       "      <td>3</td>\n",
       "      <td>5.30</td>\n",
       "      <td>2</td>\n",
       "      <td>1</td>\n",
       "      <td>2208</td>\n",
       "      <td>0</td>\n",
       "      <td>0</td>\n",
       "      <td>1</td>\n",
       "    </tr>\n",
       "    <tr>\n",
       "      <th>4</th>\n",
       "      <td>2</td>\n",
       "      <td>1</td>\n",
       "      <td>530255</td>\n",
       "      <td>37.30</td>\n",
       "      <td>104</td>\n",
       "      <td>35</td>\n",
       "      <td>?</td>\n",
       "      <td>?</td>\n",
       "      <td>6</td>\n",
       "      <td>2</td>\n",
       "      <td>...</td>\n",
       "      <td>74.00</td>\n",
       "      <td>7.40</td>\n",
       "      <td>?</td>\n",
       "      <td>?</td>\n",
       "      <td>2</td>\n",
       "      <td>2</td>\n",
       "      <td>4300</td>\n",
       "      <td>0</td>\n",
       "      <td>0</td>\n",
       "      <td>2</td>\n",
       "    </tr>\n",
       "  </tbody>\n",
       "</table>\n",
       "<p>5 rows × 28 columns</p>\n",
       "</div>"
      ],
      "text/plain": [
       "  surgery  age  hospital_number rectal_temperature pulse respiratory_rate  \\\n",
       "0       2    1           530101              38.50    66               28   \n",
       "1       1    1           534817               39.2    88               20   \n",
       "2       2    1           530334              38.30    40               24   \n",
       "3       1    9          5290409              39.10   164               84   \n",
       "4       2    1           530255              37.30   104               35   \n",
       "\n",
       "  temperature_of_extremities peripheral_pulse mucous_membranes  \\\n",
       "0                          3                3                ?   \n",
       "1                          ?                ?                4   \n",
       "2                          1                1                3   \n",
       "3                          4                1                6   \n",
       "4                          ?                ?                6   \n",
       "\n",
       "  capillary_refill_time  ... packed_cell_volume total_protein  \\\n",
       "0                     2  ...              45.00          8.40   \n",
       "1                     1  ...                 50            85   \n",
       "2                     1  ...              33.00          6.70   \n",
       "3                     2  ...              48.00          7.20   \n",
       "4                     2  ...              74.00          7.40   \n",
       "\n",
       "  abdominocentesis_appearance abdomcentesis_total_protein outcome  \\\n",
       "0                           ?                           ?       2   \n",
       "1                           2                           2       3   \n",
       "2                           ?                           ?       1   \n",
       "3                           3                        5.30       2   \n",
       "4                           ?                           ?       2   \n",
       "\n",
       "  surgical_lesion type_of_lesion type_of_lesion_0 type_of_lesion_1 cp_data  \n",
       "0               2          11300                0                0       2  \n",
       "1               2           2208                0                0       2  \n",
       "2               2              0                0                0       1  \n",
       "3               1           2208                0                0       1  \n",
       "4               2           4300                0                0       2  \n",
       "\n",
       "[5 rows x 28 columns]"
      ]
     },
     "execution_count": 5,
     "metadata": {},
     "output_type": "execute_result"
    }
   ],
   "source": [
    "horse = pd.read_csv('C:\\\\python\\\\portfolio\\\\data_analysis_python\\\\3_expl_data_analysis\\\\data\\\\horse_surge.csv',\n",
    "                    names = names_final)\n",
    "horse.head()"
   ]
  },
  {
   "cell_type": "markdown",
   "metadata": {},
   "source": [
    "В датасете 300 записей, пропусков нет. Судя по предварительному просмотру выше у всех показателей числовые значения, но у большей части столбцов определился тип данных object. Это значит, что среди значений есть нечисловые. И действительно, в предварительном просмотре видны значения \"?\", которые видимо означают пропуски:"
   ]
  },
  {
   "cell_type": "code",
   "execution_count": 6,
   "metadata": {},
   "outputs": [
    {
     "name": "stdout",
     "output_type": "stream",
     "text": [
      "<class 'pandas.core.frame.DataFrame'>\n",
      "RangeIndex: 300 entries, 0 to 299\n",
      "Data columns (total 28 columns):\n",
      " #   Column                       Non-Null Count  Dtype \n",
      "---  ------                       --------------  ----- \n",
      " 0   surgery                      300 non-null    object\n",
      " 1   age                          300 non-null    int64 \n",
      " 2   hospital_number              300 non-null    int64 \n",
      " 3   rectal_temperature           300 non-null    object\n",
      " 4   pulse                        300 non-null    object\n",
      " 5   respiratory_rate             300 non-null    object\n",
      " 6   temperature_of_extremities   300 non-null    object\n",
      " 7   peripheral_pulse             300 non-null    object\n",
      " 8   mucous_membranes             300 non-null    object\n",
      " 9   capillary_refill_time        300 non-null    object\n",
      " 10  pain                         300 non-null    object\n",
      " 11  peristalsis                  300 non-null    object\n",
      " 12  abdominal_distension         300 non-null    object\n",
      " 13  nasogastric_tube             300 non-null    object\n",
      " 14  nasogastric_reflux           300 non-null    object\n",
      " 15  nasogastric_reflux_ph        300 non-null    object\n",
      " 16  rectal_examination           300 non-null    object\n",
      " 17  abdomen                      300 non-null    object\n",
      " 18  packed_cell_volume           300 non-null    object\n",
      " 19  total_protein                300 non-null    object\n",
      " 20  abdominocentesis_appearance  300 non-null    object\n",
      " 21  abdomcentesis_total_protein  300 non-null    object\n",
      " 22  outcome                      300 non-null    object\n",
      " 23  surgical_lesion              300 non-null    int64 \n",
      " 24  type_of_lesion               300 non-null    int64 \n",
      " 25  type_of_lesion_0             300 non-null    int64 \n",
      " 26  type_of_lesion_1             300 non-null    int64 \n",
      " 27  cp_data                      300 non-null    int64 \n",
      "dtypes: int64(7), object(21)\n",
      "memory usage: 65.8+ KB\n"
     ]
    }
   ],
   "source": [
    "horse.info()"
   ]
  },
  {
   "cell_type": "markdown",
   "metadata": {},
   "source": [
    "Увеличиваем число отображаемых столбцов в pandas. Перезагружаем данные, приравнивая вопросительные знаки к пропускам:"
   ]
  },
  {
   "cell_type": "code",
   "execution_count": 7,
   "metadata": {
    "scrolled": true
   },
   "outputs": [
    {
     "data": {
      "text/html": [
       "<div>\n",
       "<style scoped>\n",
       "    .dataframe tbody tr th:only-of-type {\n",
       "        vertical-align: middle;\n",
       "    }\n",
       "\n",
       "    .dataframe tbody tr th {\n",
       "        vertical-align: top;\n",
       "    }\n",
       "\n",
       "    .dataframe thead th {\n",
       "        text-align: right;\n",
       "    }\n",
       "</style>\n",
       "<table border=\"1\" class=\"dataframe\">\n",
       "  <thead>\n",
       "    <tr style=\"text-align: right;\">\n",
       "      <th></th>\n",
       "      <th>surgery</th>\n",
       "      <th>age</th>\n",
       "      <th>hospital_number</th>\n",
       "      <th>rectal_temperature</th>\n",
       "      <th>pulse</th>\n",
       "      <th>respiratory_rate</th>\n",
       "      <th>temperature_of_extremities</th>\n",
       "      <th>peripheral_pulse</th>\n",
       "      <th>mucous_membranes</th>\n",
       "      <th>capillary_refill_time</th>\n",
       "      <th>pain</th>\n",
       "      <th>peristalsis</th>\n",
       "      <th>abdominal_distension</th>\n",
       "      <th>nasogastric_tube</th>\n",
       "      <th>nasogastric_reflux</th>\n",
       "      <th>nasogastric_reflux_ph</th>\n",
       "      <th>rectal_examination</th>\n",
       "      <th>abdomen</th>\n",
       "      <th>packed_cell_volume</th>\n",
       "      <th>total_protein</th>\n",
       "      <th>abdominocentesis_appearance</th>\n",
       "      <th>abdomcentesis_total_protein</th>\n",
       "      <th>outcome</th>\n",
       "      <th>surgical_lesion</th>\n",
       "      <th>type_of_lesion</th>\n",
       "      <th>type_of_lesion_0</th>\n",
       "      <th>type_of_lesion_1</th>\n",
       "      <th>cp_data</th>\n",
       "    </tr>\n",
       "  </thead>\n",
       "  <tbody>\n",
       "    <tr>\n",
       "      <th>0</th>\n",
       "      <td>2.0</td>\n",
       "      <td>1</td>\n",
       "      <td>530101</td>\n",
       "      <td>38.5</td>\n",
       "      <td>66.0</td>\n",
       "      <td>28.0</td>\n",
       "      <td>3.0</td>\n",
       "      <td>3.0</td>\n",
       "      <td>NaN</td>\n",
       "      <td>2.0</td>\n",
       "      <td>5.0</td>\n",
       "      <td>4.0</td>\n",
       "      <td>4.0</td>\n",
       "      <td>NaN</td>\n",
       "      <td>NaN</td>\n",
       "      <td>NaN</td>\n",
       "      <td>3.0</td>\n",
       "      <td>5.0</td>\n",
       "      <td>45.0</td>\n",
       "      <td>8.4</td>\n",
       "      <td>NaN</td>\n",
       "      <td>NaN</td>\n",
       "      <td>2.0</td>\n",
       "      <td>2</td>\n",
       "      <td>11300</td>\n",
       "      <td>0</td>\n",
       "      <td>0</td>\n",
       "      <td>2</td>\n",
       "    </tr>\n",
       "    <tr>\n",
       "      <th>1</th>\n",
       "      <td>1.0</td>\n",
       "      <td>1</td>\n",
       "      <td>534817</td>\n",
       "      <td>39.2</td>\n",
       "      <td>88.0</td>\n",
       "      <td>20.0</td>\n",
       "      <td>NaN</td>\n",
       "      <td>NaN</td>\n",
       "      <td>4.0</td>\n",
       "      <td>1.0</td>\n",
       "      <td>3.0</td>\n",
       "      <td>4.0</td>\n",
       "      <td>2.0</td>\n",
       "      <td>NaN</td>\n",
       "      <td>NaN</td>\n",
       "      <td>NaN</td>\n",
       "      <td>4.0</td>\n",
       "      <td>2.0</td>\n",
       "      <td>50.0</td>\n",
       "      <td>85.0</td>\n",
       "      <td>2.0</td>\n",
       "      <td>2.0</td>\n",
       "      <td>3.0</td>\n",
       "      <td>2</td>\n",
       "      <td>2208</td>\n",
       "      <td>0</td>\n",
       "      <td>0</td>\n",
       "      <td>2</td>\n",
       "    </tr>\n",
       "    <tr>\n",
       "      <th>2</th>\n",
       "      <td>2.0</td>\n",
       "      <td>1</td>\n",
       "      <td>530334</td>\n",
       "      <td>38.3</td>\n",
       "      <td>40.0</td>\n",
       "      <td>24.0</td>\n",
       "      <td>1.0</td>\n",
       "      <td>1.0</td>\n",
       "      <td>3.0</td>\n",
       "      <td>1.0</td>\n",
       "      <td>3.0</td>\n",
       "      <td>3.0</td>\n",
       "      <td>1.0</td>\n",
       "      <td>NaN</td>\n",
       "      <td>NaN</td>\n",
       "      <td>NaN</td>\n",
       "      <td>1.0</td>\n",
       "      <td>1.0</td>\n",
       "      <td>33.0</td>\n",
       "      <td>6.7</td>\n",
       "      <td>NaN</td>\n",
       "      <td>NaN</td>\n",
       "      <td>1.0</td>\n",
       "      <td>2</td>\n",
       "      <td>0</td>\n",
       "      <td>0</td>\n",
       "      <td>0</td>\n",
       "      <td>1</td>\n",
       "    </tr>\n",
       "    <tr>\n",
       "      <th>3</th>\n",
       "      <td>1.0</td>\n",
       "      <td>9</td>\n",
       "      <td>5290409</td>\n",
       "      <td>39.1</td>\n",
       "      <td>164.0</td>\n",
       "      <td>84.0</td>\n",
       "      <td>4.0</td>\n",
       "      <td>1.0</td>\n",
       "      <td>6.0</td>\n",
       "      <td>2.0</td>\n",
       "      <td>2.0</td>\n",
       "      <td>4.0</td>\n",
       "      <td>4.0</td>\n",
       "      <td>1.0</td>\n",
       "      <td>2.0</td>\n",
       "      <td>5.0</td>\n",
       "      <td>3.0</td>\n",
       "      <td>NaN</td>\n",
       "      <td>48.0</td>\n",
       "      <td>7.2</td>\n",
       "      <td>3.0</td>\n",
       "      <td>5.3</td>\n",
       "      <td>2.0</td>\n",
       "      <td>1</td>\n",
       "      <td>2208</td>\n",
       "      <td>0</td>\n",
       "      <td>0</td>\n",
       "      <td>1</td>\n",
       "    </tr>\n",
       "    <tr>\n",
       "      <th>4</th>\n",
       "      <td>2.0</td>\n",
       "      <td>1</td>\n",
       "      <td>530255</td>\n",
       "      <td>37.3</td>\n",
       "      <td>104.0</td>\n",
       "      <td>35.0</td>\n",
       "      <td>NaN</td>\n",
       "      <td>NaN</td>\n",
       "      <td>6.0</td>\n",
       "      <td>2.0</td>\n",
       "      <td>NaN</td>\n",
       "      <td>NaN</td>\n",
       "      <td>NaN</td>\n",
       "      <td>NaN</td>\n",
       "      <td>NaN</td>\n",
       "      <td>NaN</td>\n",
       "      <td>NaN</td>\n",
       "      <td>NaN</td>\n",
       "      <td>74.0</td>\n",
       "      <td>7.4</td>\n",
       "      <td>NaN</td>\n",
       "      <td>NaN</td>\n",
       "      <td>2.0</td>\n",
       "      <td>2</td>\n",
       "      <td>4300</td>\n",
       "      <td>0</td>\n",
       "      <td>0</td>\n",
       "      <td>2</td>\n",
       "    </tr>\n",
       "  </tbody>\n",
       "</table>\n",
       "</div>"
      ],
      "text/plain": [
       "   surgery  age  hospital_number  rectal_temperature  pulse  respiratory_rate  \\\n",
       "0      2.0    1           530101                38.5   66.0              28.0   \n",
       "1      1.0    1           534817                39.2   88.0              20.0   \n",
       "2      2.0    1           530334                38.3   40.0              24.0   \n",
       "3      1.0    9          5290409                39.1  164.0              84.0   \n",
       "4      2.0    1           530255                37.3  104.0              35.0   \n",
       "\n",
       "   temperature_of_extremities  peripheral_pulse  mucous_membranes  \\\n",
       "0                         3.0               3.0               NaN   \n",
       "1                         NaN               NaN               4.0   \n",
       "2                         1.0               1.0               3.0   \n",
       "3                         4.0               1.0               6.0   \n",
       "4                         NaN               NaN               6.0   \n",
       "\n",
       "   capillary_refill_time  pain  peristalsis  abdominal_distension  \\\n",
       "0                    2.0   5.0          4.0                   4.0   \n",
       "1                    1.0   3.0          4.0                   2.0   \n",
       "2                    1.0   3.0          3.0                   1.0   \n",
       "3                    2.0   2.0          4.0                   4.0   \n",
       "4                    2.0   NaN          NaN                   NaN   \n",
       "\n",
       "   nasogastric_tube  nasogastric_reflux  nasogastric_reflux_ph  \\\n",
       "0               NaN                 NaN                    NaN   \n",
       "1               NaN                 NaN                    NaN   \n",
       "2               NaN                 NaN                    NaN   \n",
       "3               1.0                 2.0                    5.0   \n",
       "4               NaN                 NaN                    NaN   \n",
       "\n",
       "   rectal_examination  abdomen  packed_cell_volume  total_protein  \\\n",
       "0                 3.0      5.0                45.0            8.4   \n",
       "1                 4.0      2.0                50.0           85.0   \n",
       "2                 1.0      1.0                33.0            6.7   \n",
       "3                 3.0      NaN                48.0            7.2   \n",
       "4                 NaN      NaN                74.0            7.4   \n",
       "\n",
       "   abdominocentesis_appearance  abdomcentesis_total_protein  outcome  \\\n",
       "0                          NaN                          NaN      2.0   \n",
       "1                          2.0                          2.0      3.0   \n",
       "2                          NaN                          NaN      1.0   \n",
       "3                          3.0                          5.3      2.0   \n",
       "4                          NaN                          NaN      2.0   \n",
       "\n",
       "   surgical_lesion  type_of_lesion  type_of_lesion_0  type_of_lesion_1  \\\n",
       "0                2           11300                 0                 0   \n",
       "1                2            2208                 0                 0   \n",
       "2                2               0                 0                 0   \n",
       "3                1            2208                 0                 0   \n",
       "4                2            4300                 0                 0   \n",
       "\n",
       "   cp_data  \n",
       "0        2  \n",
       "1        2  \n",
       "2        1  \n",
       "3        1  \n",
       "4        2  "
      ]
     },
     "execution_count": 7,
     "metadata": {},
     "output_type": "execute_result"
    }
   ],
   "source": [
    "pd.set_option('display.max_columns', 30)\n",
    "horse = pd.read_csv('C:\\\\python\\\\portfolio\\\\data_analysis_python\\\\3_expl_data_analysis\\\\data\\\\horse_surge.csv',\n",
    "                    names = names_final, na_values = '?')\n",
    "horse.head()"
   ]
  },
  {
   "cell_type": "markdown",
   "metadata": {},
   "source": [
    "Теперь по всем столбцам определились числовые типы данных и видно, что наличие пропусков между столбцами значительно различается:"
   ]
  },
  {
   "cell_type": "code",
   "execution_count": 8,
   "metadata": {
    "scrolled": true
   },
   "outputs": [
    {
     "name": "stdout",
     "output_type": "stream",
     "text": [
      "<class 'pandas.core.frame.DataFrame'>\n",
      "RangeIndex: 300 entries, 0 to 299\n",
      "Data columns (total 28 columns):\n",
      " #   Column                       Non-Null Count  Dtype  \n",
      "---  ------                       --------------  -----  \n",
      " 0   surgery                      299 non-null    float64\n",
      " 1   age                          300 non-null    int64  \n",
      " 2   hospital_number              300 non-null    int64  \n",
      " 3   rectal_temperature           240 non-null    float64\n",
      " 4   pulse                        276 non-null    float64\n",
      " 5   respiratory_rate             242 non-null    float64\n",
      " 6   temperature_of_extremities   244 non-null    float64\n",
      " 7   peripheral_pulse             231 non-null    float64\n",
      " 8   mucous_membranes             253 non-null    float64\n",
      " 9   capillary_refill_time        268 non-null    float64\n",
      " 10  pain                         245 non-null    float64\n",
      " 11  peristalsis                  256 non-null    float64\n",
      " 12  abdominal_distension         244 non-null    float64\n",
      " 13  nasogastric_tube             196 non-null    float64\n",
      " 14  nasogastric_reflux           194 non-null    float64\n",
      " 15  nasogastric_reflux_ph        53 non-null     float64\n",
      " 16  rectal_examination           198 non-null    float64\n",
      " 17  abdomen                      182 non-null    float64\n",
      " 18  packed_cell_volume           271 non-null    float64\n",
      " 19  total_protein                267 non-null    float64\n",
      " 20  abdominocentesis_appearance  135 non-null    float64\n",
      " 21  abdomcentesis_total_protein  102 non-null    float64\n",
      " 22  outcome                      299 non-null    float64\n",
      " 23  surgical_lesion              300 non-null    int64  \n",
      " 24  type_of_lesion               300 non-null    int64  \n",
      " 25  type_of_lesion_0             300 non-null    int64  \n",
      " 26  type_of_lesion_1             300 non-null    int64  \n",
      " 27  cp_data                      300 non-null    int64  \n",
      "dtypes: float64(21), int64(7)\n",
      "memory usage: 65.8 KB\n"
     ]
    }
   ],
   "source": [
    "horse.info()"
   ]
  },
  {
   "cell_type": "markdown",
   "metadata": {},
   "source": [
    "Посчитаем долю пропусков для каждого признака:"
   ]
  },
  {
   "cell_type": "code",
   "execution_count": 9,
   "metadata": {
    "scrolled": true
   },
   "outputs": [
    {
     "name": "stdout",
     "output_type": "stream",
     "text": [
      "surgery - 0.3%\n",
      "age - 0.0%\n",
      "hospital_number - 0.0%\n",
      "rectal_temperature - 20.0%\n",
      "pulse - 8.0%\n",
      "respiratory_rate - 19.3%\n",
      "temperature_of_extremities - 18.7%\n",
      "peripheral_pulse - 23.0%\n",
      "mucous_membranes - 15.7%\n",
      "capillary_refill_time - 10.7%\n",
      "pain - 18.3%\n",
      "peristalsis - 14.7%\n",
      "abdominal_distension - 18.7%\n",
      "nasogastric_tube - 34.7%\n",
      "nasogastric_reflux - 35.3%\n",
      "nasogastric_reflux_ph - 82.3%\n",
      "rectal_examination - 34.0%\n",
      "abdomen - 39.3%\n",
      "packed_cell_volume - 9.7%\n",
      "total_protein - 11.0%\n",
      "abdominocentesis_appearance - 55.0%\n",
      "abdomcentesis_total_protein - 66.0%\n",
      "outcome - 0.3%\n",
      "surgical_lesion - 0.0%\n",
      "type_of_lesion - 0.0%\n",
      "type_of_lesion_0 - 0.0%\n",
      "type_of_lesion_1 - 0.0%\n",
      "cp_data - 0.0%\n"
     ]
    }
   ],
   "source": [
    "for col in horse.columns:\n",
    "    share_missing = horse[col].isna().mean()\n",
    "    print(f'{col} - {share_missing :.1%}')"
   ]
  },
  {
   "cell_type": "markdown",
   "metadata": {},
   "source": [
    "Отбираем признаки для дальнейшего изучения (тип показателей на основе описания показателей в источнике):"
   ]
  },
  {
   "cell_type": "markdown",
   "metadata": {},
   "source": [
    "Берем признаки:<br>\n",
    "* surgery: как важный исход лечения, категориальный\n",
    "* age: как важный фактор для лечения, количественный\n",
    "* hospital_number: для идентификации лошадей, но не записей (лошадь могла лечиться более одного раза), категориальный\n",
    "* количественные факторы, на взгляд непрофессионала важные и разносторонне характеризующие состояние:<br>\n",
    "rectal_temperature, pulse, respiratory_rate, total_protein, abdomcentesis_total_protein<br>\n",
    "* категориальные факторы, на взгляд непрофессионала важные и разносторонне характеризующие состояние:<br>\n",
    "temperature_of_extremities, pain, abdominal_distension (отмечен как важный в описании)<br>\n",
    "* outcome: как важный исход лечения, категориальный<br>\n",
    "<br>\n",
    "Не берем признаки:<br>\n",
    "* peripheral_pulse: категориальный признак в отличие от количественного pulse, вероятно они связаны, предпочитаю количественный pulse\n",
    "* abdominocentesis_appearance и nasogastric_reflux_ph: больше половины пропусков\n",
    "* cp_data: отмечено как не имеющее смысла для данного датасета\n",
    "* факторы, на взгляд непрофессионала неважные или \"дублирующие\" по смыслу уже отобранные:<br>\n",
    "surgical_lesion, mucous_membranes, capillary_refill_time, peristalsis, nasogastric_tube, nasogastric_reflux,<br>\n",
    "rectal_examination, abdomen, packed_cell_volume<br>\n",
    "* type_of_lesion, type_of_lesion_0, type_of_lesion_1: система типологии случаев, есть нулевые значения, по сути пропуски"
   ]
  },
  {
   "cell_type": "markdown",
   "metadata": {},
   "source": [
    "Датафрейм с отобранными столбцами:"
   ]
  },
  {
   "cell_type": "code",
   "execution_count": 10,
   "metadata": {
    "scrolled": true
   },
   "outputs": [],
   "source": [
    "horse_sample = (horse.loc[:,['surgery','age','hospital_number',\n",
    "                       'rectal_temperature','pulse','respiratory_rate',\n",
    "                       'temperature_of_extremities','abdominal_distension',\n",
    "                       'pain','outcome','abdomcentesis_total_protein','total_protein']])"
   ]
  },
  {
   "cell_type": "markdown",
   "metadata": {},
   "source": [
    "<a href=\"#0\"><h4>Наверх</h4></a>"
   ]
  },
  {
   "cell_type": "markdown",
   "metadata": {},
   "source": [
    "<p id=\"2\">\n",
    "<h4>Дубликаты</h4><br>"
   ]
  },
  {
   "cell_type": "markdown",
   "metadata": {},
   "source": [
    "Проверим наличие дубликатов по hospital_number, как и ожидалось из описания датасета такие есть, номера дублируются в 16 записях:"
   ]
  },
  {
   "cell_type": "code",
   "execution_count": 11,
   "metadata": {},
   "outputs": [
    {
     "data": {
      "text/plain": [
       "16"
      ]
     },
     "execution_count": 11,
     "metadata": {},
     "output_type": "execute_result"
    }
   ],
   "source": [
    "len(horse_sample) - horse_sample.hospital_number.nunique()"
   ]
  },
  {
   "cell_type": "markdown",
   "metadata": {},
   "source": [
    "Проверим наличие дубликатов полных строк, таких 22 записи:"
   ]
  },
  {
   "cell_type": "code",
   "execution_count": 12,
   "metadata": {
    "scrolled": true
   },
   "outputs": [
    {
     "data": {
      "text/plain": [
       "False    278\n",
       "True      22\n",
       "dtype: int64"
      ]
     },
     "execution_count": 12,
     "metadata": {},
     "output_type": "execute_result"
    }
   ],
   "source": [
    "horse_sample.duplicated(keep = False).value_counts()"
   ]
  },
  {
   "cell_type": "markdown",
   "metadata": {},
   "source": [
    "Посмотрим на эти строки, значения в столбцах частично заполнены, частично есть пропуски:"
   ]
  },
  {
   "cell_type": "code",
   "execution_count": 13,
   "metadata": {
    "scrolled": true
   },
   "outputs": [
    {
     "data": {
      "text/html": [
       "<div>\n",
       "<style scoped>\n",
       "    .dataframe tbody tr th:only-of-type {\n",
       "        vertical-align: middle;\n",
       "    }\n",
       "\n",
       "    .dataframe tbody tr th {\n",
       "        vertical-align: top;\n",
       "    }\n",
       "\n",
       "    .dataframe thead th {\n",
       "        text-align: right;\n",
       "    }\n",
       "</style>\n",
       "<table border=\"1\" class=\"dataframe\">\n",
       "  <thead>\n",
       "    <tr style=\"text-align: right;\">\n",
       "      <th></th>\n",
       "      <th>surgery</th>\n",
       "      <th>age</th>\n",
       "      <th>hospital_number</th>\n",
       "      <th>rectal_temperature</th>\n",
       "      <th>pulse</th>\n",
       "      <th>respiratory_rate</th>\n",
       "      <th>temperature_of_extremities</th>\n",
       "      <th>abdominal_distension</th>\n",
       "      <th>pain</th>\n",
       "      <th>outcome</th>\n",
       "      <th>abdomcentesis_total_protein</th>\n",
       "      <th>total_protein</th>\n",
       "    </tr>\n",
       "  </thead>\n",
       "  <tbody>\n",
       "    <tr>\n",
       "      <th>26</th>\n",
       "      <td>1.0</td>\n",
       "      <td>1</td>\n",
       "      <td>530526</td>\n",
       "      <td>38.3</td>\n",
       "      <td>72.0</td>\n",
       "      <td>30.0</td>\n",
       "      <td>4.0</td>\n",
       "      <td>3.0</td>\n",
       "      <td>3.0</td>\n",
       "      <td>1.0</td>\n",
       "      <td>3.9</td>\n",
       "      <td>7.0</td>\n",
       "    </tr>\n",
       "    <tr>\n",
       "      <th>34</th>\n",
       "      <td>1.0</td>\n",
       "      <td>1</td>\n",
       "      <td>529796</td>\n",
       "      <td>NaN</td>\n",
       "      <td>100.0</td>\n",
       "      <td>30.0</td>\n",
       "      <td>3.0</td>\n",
       "      <td>4.0</td>\n",
       "      <td>5.0</td>\n",
       "      <td>1.0</td>\n",
       "      <td>NaN</td>\n",
       "      <td>6.6</td>\n",
       "    </tr>\n",
       "    <tr>\n",
       "      <th>48</th>\n",
       "      <td>1.0</td>\n",
       "      <td>1</td>\n",
       "      <td>528890</td>\n",
       "      <td>38.9</td>\n",
       "      <td>80.0</td>\n",
       "      <td>44.0</td>\n",
       "      <td>3.0</td>\n",
       "      <td>3.0</td>\n",
       "      <td>2.0</td>\n",
       "      <td>2.0</td>\n",
       "      <td>NaN</td>\n",
       "      <td>6.5</td>\n",
       "    </tr>\n",
       "    <tr>\n",
       "      <th>59</th>\n",
       "      <td>2.0</td>\n",
       "      <td>1</td>\n",
       "      <td>528904</td>\n",
       "      <td>NaN</td>\n",
       "      <td>96.0</td>\n",
       "      <td>NaN</td>\n",
       "      <td>3.0</td>\n",
       "      <td>4.0</td>\n",
       "      <td>5.0</td>\n",
       "      <td>2.0</td>\n",
       "      <td>NaN</td>\n",
       "      <td>NaN</td>\n",
       "    </tr>\n",
       "    <tr>\n",
       "      <th>71</th>\n",
       "      <td>1.0</td>\n",
       "      <td>1</td>\n",
       "      <td>529424</td>\n",
       "      <td>37.8</td>\n",
       "      <td>48.0</td>\n",
       "      <td>28.0</td>\n",
       "      <td>1.0</td>\n",
       "      <td>1.0</td>\n",
       "      <td>1.0</td>\n",
       "      <td>1.0</td>\n",
       "      <td>7.0</td>\n",
       "      <td>5.9</td>\n",
       "    </tr>\n",
       "    <tr>\n",
       "      <th>73</th>\n",
       "      <td>1.0</td>\n",
       "      <td>1</td>\n",
       "      <td>528469</td>\n",
       "      <td>38.1</td>\n",
       "      <td>52.0</td>\n",
       "      <td>24.0</td>\n",
       "      <td>1.0</td>\n",
       "      <td>1.0</td>\n",
       "      <td>4.0</td>\n",
       "      <td>2.0</td>\n",
       "      <td>2.6</td>\n",
       "      <td>7.5</td>\n",
       "    </tr>\n",
       "    <tr>\n",
       "      <th>78</th>\n",
       "      <td>1.0</td>\n",
       "      <td>1</td>\n",
       "      <td>530693</td>\n",
       "      <td>NaN</td>\n",
       "      <td>NaN</td>\n",
       "      <td>NaN</td>\n",
       "      <td>3.0</td>\n",
       "      <td>3.0</td>\n",
       "      <td>5.0</td>\n",
       "      <td>2.0</td>\n",
       "      <td>NaN</td>\n",
       "      <td>5.9</td>\n",
       "    </tr>\n",
       "    <tr>\n",
       "      <th>83</th>\n",
       "      <td>1.0</td>\n",
       "      <td>1</td>\n",
       "      <td>5279822</td>\n",
       "      <td>38.0</td>\n",
       "      <td>NaN</td>\n",
       "      <td>24.0</td>\n",
       "      <td>3.0</td>\n",
       "      <td>4.0</td>\n",
       "      <td>5.0</td>\n",
       "      <td>2.0</td>\n",
       "      <td>NaN</td>\n",
       "      <td>7.8</td>\n",
       "    </tr>\n",
       "    <tr>\n",
       "      <th>94</th>\n",
       "      <td>2.0</td>\n",
       "      <td>1</td>\n",
       "      <td>528729</td>\n",
       "      <td>37.5</td>\n",
       "      <td>48.0</td>\n",
       "      <td>30.0</td>\n",
       "      <td>4.0</td>\n",
       "      <td>1.0</td>\n",
       "      <td>NaN</td>\n",
       "      <td>1.0</td>\n",
       "      <td>NaN</td>\n",
       "      <td>8.6</td>\n",
       "    </tr>\n",
       "    <tr>\n",
       "      <th>110</th>\n",
       "      <td>1.0</td>\n",
       "      <td>1</td>\n",
       "      <td>527544</td>\n",
       "      <td>NaN</td>\n",
       "      <td>70.0</td>\n",
       "      <td>16.0</td>\n",
       "      <td>3.0</td>\n",
       "      <td>2.0</td>\n",
       "      <td>2.0</td>\n",
       "      <td>2.0</td>\n",
       "      <td>NaN</td>\n",
       "      <td>7.5</td>\n",
       "    </tr>\n",
       "    <tr>\n",
       "      <th>136</th>\n",
       "      <td>1.0</td>\n",
       "      <td>1</td>\n",
       "      <td>530693</td>\n",
       "      <td>NaN</td>\n",
       "      <td>NaN</td>\n",
       "      <td>NaN</td>\n",
       "      <td>3.0</td>\n",
       "      <td>3.0</td>\n",
       "      <td>5.0</td>\n",
       "      <td>2.0</td>\n",
       "      <td>NaN</td>\n",
       "      <td>5.9</td>\n",
       "    </tr>\n",
       "    <tr>\n",
       "      <th>143</th>\n",
       "      <td>1.0</td>\n",
       "      <td>1</td>\n",
       "      <td>529424</td>\n",
       "      <td>37.8</td>\n",
       "      <td>48.0</td>\n",
       "      <td>28.0</td>\n",
       "      <td>1.0</td>\n",
       "      <td>1.0</td>\n",
       "      <td>1.0</td>\n",
       "      <td>1.0</td>\n",
       "      <td>7.0</td>\n",
       "      <td>5.9</td>\n",
       "    </tr>\n",
       "    <tr>\n",
       "      <th>179</th>\n",
       "      <td>2.0</td>\n",
       "      <td>1</td>\n",
       "      <td>528151</td>\n",
       "      <td>38.5</td>\n",
       "      <td>100.0</td>\n",
       "      <td>NaN</td>\n",
       "      <td>3.0</td>\n",
       "      <td>4.0</td>\n",
       "      <td>4.0</td>\n",
       "      <td>3.0</td>\n",
       "      <td>NaN</td>\n",
       "      <td>NaN</td>\n",
       "    </tr>\n",
       "    <tr>\n",
       "      <th>182</th>\n",
       "      <td>1.0</td>\n",
       "      <td>1</td>\n",
       "      <td>5279822</td>\n",
       "      <td>38.0</td>\n",
       "      <td>NaN</td>\n",
       "      <td>24.0</td>\n",
       "      <td>3.0</td>\n",
       "      <td>4.0</td>\n",
       "      <td>5.0</td>\n",
       "      <td>2.0</td>\n",
       "      <td>NaN</td>\n",
       "      <td>7.8</td>\n",
       "    </tr>\n",
       "    <tr>\n",
       "      <th>205</th>\n",
       "      <td>2.0</td>\n",
       "      <td>1</td>\n",
       "      <td>528151</td>\n",
       "      <td>38.5</td>\n",
       "      <td>100.0</td>\n",
       "      <td>NaN</td>\n",
       "      <td>3.0</td>\n",
       "      <td>4.0</td>\n",
       "      <td>4.0</td>\n",
       "      <td>3.0</td>\n",
       "      <td>NaN</td>\n",
       "      <td>NaN</td>\n",
       "    </tr>\n",
       "    <tr>\n",
       "      <th>233</th>\n",
       "      <td>1.0</td>\n",
       "      <td>1</td>\n",
       "      <td>530526</td>\n",
       "      <td>38.3</td>\n",
       "      <td>72.0</td>\n",
       "      <td>30.0</td>\n",
       "      <td>4.0</td>\n",
       "      <td>3.0</td>\n",
       "      <td>3.0</td>\n",
       "      <td>1.0</td>\n",
       "      <td>3.9</td>\n",
       "      <td>7.0</td>\n",
       "    </tr>\n",
       "    <tr>\n",
       "      <th>234</th>\n",
       "      <td>2.0</td>\n",
       "      <td>1</td>\n",
       "      <td>528729</td>\n",
       "      <td>37.5</td>\n",
       "      <td>48.0</td>\n",
       "      <td>30.0</td>\n",
       "      <td>4.0</td>\n",
       "      <td>1.0</td>\n",
       "      <td>NaN</td>\n",
       "      <td>1.0</td>\n",
       "      <td>NaN</td>\n",
       "      <td>8.6</td>\n",
       "    </tr>\n",
       "    <tr>\n",
       "      <th>235</th>\n",
       "      <td>1.0</td>\n",
       "      <td>1</td>\n",
       "      <td>528469</td>\n",
       "      <td>38.1</td>\n",
       "      <td>52.0</td>\n",
       "      <td>24.0</td>\n",
       "      <td>1.0</td>\n",
       "      <td>1.0</td>\n",
       "      <td>4.0</td>\n",
       "      <td>2.0</td>\n",
       "      <td>2.6</td>\n",
       "      <td>7.5</td>\n",
       "    </tr>\n",
       "    <tr>\n",
       "      <th>245</th>\n",
       "      <td>2.0</td>\n",
       "      <td>1</td>\n",
       "      <td>528904</td>\n",
       "      <td>NaN</td>\n",
       "      <td>96.0</td>\n",
       "      <td>NaN</td>\n",
       "      <td>3.0</td>\n",
       "      <td>4.0</td>\n",
       "      <td>5.0</td>\n",
       "      <td>2.0</td>\n",
       "      <td>NaN</td>\n",
       "      <td>NaN</td>\n",
       "    </tr>\n",
       "    <tr>\n",
       "      <th>272</th>\n",
       "      <td>1.0</td>\n",
       "      <td>1</td>\n",
       "      <td>529796</td>\n",
       "      <td>NaN</td>\n",
       "      <td>100.0</td>\n",
       "      <td>30.0</td>\n",
       "      <td>3.0</td>\n",
       "      <td>4.0</td>\n",
       "      <td>5.0</td>\n",
       "      <td>1.0</td>\n",
       "      <td>NaN</td>\n",
       "      <td>6.6</td>\n",
       "    </tr>\n",
       "    <tr>\n",
       "      <th>282</th>\n",
       "      <td>1.0</td>\n",
       "      <td>1</td>\n",
       "      <td>527544</td>\n",
       "      <td>NaN</td>\n",
       "      <td>70.0</td>\n",
       "      <td>16.0</td>\n",
       "      <td>3.0</td>\n",
       "      <td>2.0</td>\n",
       "      <td>2.0</td>\n",
       "      <td>2.0</td>\n",
       "      <td>NaN</td>\n",
       "      <td>7.5</td>\n",
       "    </tr>\n",
       "    <tr>\n",
       "      <th>291</th>\n",
       "      <td>1.0</td>\n",
       "      <td>1</td>\n",
       "      <td>528890</td>\n",
       "      <td>38.9</td>\n",
       "      <td>80.0</td>\n",
       "      <td>44.0</td>\n",
       "      <td>3.0</td>\n",
       "      <td>3.0</td>\n",
       "      <td>2.0</td>\n",
       "      <td>2.0</td>\n",
       "      <td>NaN</td>\n",
       "      <td>6.5</td>\n",
       "    </tr>\n",
       "  </tbody>\n",
       "</table>\n",
       "</div>"
      ],
      "text/plain": [
       "     surgery  age  hospital_number  rectal_temperature  pulse  \\\n",
       "26       1.0    1           530526                38.3   72.0   \n",
       "34       1.0    1           529796                 NaN  100.0   \n",
       "48       1.0    1           528890                38.9   80.0   \n",
       "59       2.0    1           528904                 NaN   96.0   \n",
       "71       1.0    1           529424                37.8   48.0   \n",
       "73       1.0    1           528469                38.1   52.0   \n",
       "78       1.0    1           530693                 NaN    NaN   \n",
       "83       1.0    1          5279822                38.0    NaN   \n",
       "94       2.0    1           528729                37.5   48.0   \n",
       "110      1.0    1           527544                 NaN   70.0   \n",
       "136      1.0    1           530693                 NaN    NaN   \n",
       "143      1.0    1           529424                37.8   48.0   \n",
       "179      2.0    1           528151                38.5  100.0   \n",
       "182      1.0    1          5279822                38.0    NaN   \n",
       "205      2.0    1           528151                38.5  100.0   \n",
       "233      1.0    1           530526                38.3   72.0   \n",
       "234      2.0    1           528729                37.5   48.0   \n",
       "235      1.0    1           528469                38.1   52.0   \n",
       "245      2.0    1           528904                 NaN   96.0   \n",
       "272      1.0    1           529796                 NaN  100.0   \n",
       "282      1.0    1           527544                 NaN   70.0   \n",
       "291      1.0    1           528890                38.9   80.0   \n",
       "\n",
       "     respiratory_rate  temperature_of_extremities  abdominal_distension  pain  \\\n",
       "26               30.0                         4.0                   3.0   3.0   \n",
       "34               30.0                         3.0                   4.0   5.0   \n",
       "48               44.0                         3.0                   3.0   2.0   \n",
       "59                NaN                         3.0                   4.0   5.0   \n",
       "71               28.0                         1.0                   1.0   1.0   \n",
       "73               24.0                         1.0                   1.0   4.0   \n",
       "78                NaN                         3.0                   3.0   5.0   \n",
       "83               24.0                         3.0                   4.0   5.0   \n",
       "94               30.0                         4.0                   1.0   NaN   \n",
       "110              16.0                         3.0                   2.0   2.0   \n",
       "136               NaN                         3.0                   3.0   5.0   \n",
       "143              28.0                         1.0                   1.0   1.0   \n",
       "179               NaN                         3.0                   4.0   4.0   \n",
       "182              24.0                         3.0                   4.0   5.0   \n",
       "205               NaN                         3.0                   4.0   4.0   \n",
       "233              30.0                         4.0                   3.0   3.0   \n",
       "234              30.0                         4.0                   1.0   NaN   \n",
       "235              24.0                         1.0                   1.0   4.0   \n",
       "245               NaN                         3.0                   4.0   5.0   \n",
       "272              30.0                         3.0                   4.0   5.0   \n",
       "282              16.0                         3.0                   2.0   2.0   \n",
       "291              44.0                         3.0                   3.0   2.0   \n",
       "\n",
       "     outcome  abdomcentesis_total_protein  total_protein  \n",
       "26       1.0                          3.9            7.0  \n",
       "34       1.0                          NaN            6.6  \n",
       "48       2.0                          NaN            6.5  \n",
       "59       2.0                          NaN            NaN  \n",
       "71       1.0                          7.0            5.9  \n",
       "73       2.0                          2.6            7.5  \n",
       "78       2.0                          NaN            5.9  \n",
       "83       2.0                          NaN            7.8  \n",
       "94       1.0                          NaN            8.6  \n",
       "110      2.0                          NaN            7.5  \n",
       "136      2.0                          NaN            5.9  \n",
       "143      1.0                          7.0            5.9  \n",
       "179      3.0                          NaN            NaN  \n",
       "182      2.0                          NaN            7.8  \n",
       "205      3.0                          NaN            NaN  \n",
       "233      1.0                          3.9            7.0  \n",
       "234      1.0                          NaN            8.6  \n",
       "235      2.0                          2.6            7.5  \n",
       "245      2.0                          NaN            NaN  \n",
       "272      1.0                          NaN            6.6  \n",
       "282      2.0                          NaN            7.5  \n",
       "291      2.0                          NaN            6.5  "
      ]
     },
     "execution_count": 13,
     "metadata": {},
     "output_type": "execute_result"
    }
   ],
   "source": [
    "horse_sample[horse_sample.duplicated(keep = False)]"
   ]
  },
  {
   "cell_type": "markdown",
   "metadata": {},
   "source": [
    "Про дубликаты строк в описании ничего не сказано, могут ли они существовать в датасете без ошибки? Можно было бы предположить, что причина дубликатов это появление лошади в клинике в течение дня, например, и поэтому показатели одинаковые. Сгруппируем дубликаты по номеру и исходу. Среди дубликатов есть лошади с исходом смерти и усыплением, с точки зрения здравого смысла такого быть не может:"
   ]
  },
  {
   "cell_type": "code",
   "execution_count": 14,
   "metadata": {
    "scrolled": true
   },
   "outputs": [
    {
     "data": {
      "text/html": [
       "<div>\n",
       "<style scoped>\n",
       "    .dataframe tbody tr th:only-of-type {\n",
       "        vertical-align: middle;\n",
       "    }\n",
       "\n",
       "    .dataframe tbody tr th {\n",
       "        vertical-align: top;\n",
       "    }\n",
       "\n",
       "    .dataframe thead th {\n",
       "        text-align: right;\n",
       "    }\n",
       "</style>\n",
       "<table border=\"1\" class=\"dataframe\">\n",
       "  <thead>\n",
       "    <tr style=\"text-align: right;\">\n",
       "      <th></th>\n",
       "      <th></th>\n",
       "      <th>surgery</th>\n",
       "    </tr>\n",
       "    <tr>\n",
       "      <th>hospital_number</th>\n",
       "      <th>outcome</th>\n",
       "      <th></th>\n",
       "    </tr>\n",
       "  </thead>\n",
       "  <tbody>\n",
       "    <tr>\n",
       "      <th>528729</th>\n",
       "      <th>1.0</th>\n",
       "      <td>2</td>\n",
       "    </tr>\n",
       "    <tr>\n",
       "      <th>529424</th>\n",
       "      <th>1.0</th>\n",
       "      <td>2</td>\n",
       "    </tr>\n",
       "    <tr>\n",
       "      <th>529796</th>\n",
       "      <th>1.0</th>\n",
       "      <td>2</td>\n",
       "    </tr>\n",
       "    <tr>\n",
       "      <th>530526</th>\n",
       "      <th>1.0</th>\n",
       "      <td>2</td>\n",
       "    </tr>\n",
       "    <tr>\n",
       "      <th>527544</th>\n",
       "      <th>2.0</th>\n",
       "      <td>2</td>\n",
       "    </tr>\n",
       "    <tr>\n",
       "      <th>528469</th>\n",
       "      <th>2.0</th>\n",
       "      <td>2</td>\n",
       "    </tr>\n",
       "    <tr>\n",
       "      <th>528890</th>\n",
       "      <th>2.0</th>\n",
       "      <td>2</td>\n",
       "    </tr>\n",
       "    <tr>\n",
       "      <th>528904</th>\n",
       "      <th>2.0</th>\n",
       "      <td>2</td>\n",
       "    </tr>\n",
       "    <tr>\n",
       "      <th>530693</th>\n",
       "      <th>2.0</th>\n",
       "      <td>2</td>\n",
       "    </tr>\n",
       "    <tr>\n",
       "      <th>5279822</th>\n",
       "      <th>2.0</th>\n",
       "      <td>2</td>\n",
       "    </tr>\n",
       "    <tr>\n",
       "      <th>528151</th>\n",
       "      <th>3.0</th>\n",
       "      <td>2</td>\n",
       "    </tr>\n",
       "  </tbody>\n",
       "</table>\n",
       "</div>"
      ],
      "text/plain": [
       "                         surgery\n",
       "hospital_number outcome         \n",
       "528729          1.0            2\n",
       "529424          1.0            2\n",
       "529796          1.0            2\n",
       "530526          1.0            2\n",
       "527544          2.0            2\n",
       "528469          2.0            2\n",
       "528890          2.0            2\n",
       "528904          2.0            2\n",
       "530693          2.0            2\n",
       "5279822         2.0            2\n",
       "528151          3.0            2"
      ]
     },
     "execution_count": 14,
     "metadata": {},
     "output_type": "execute_result"
    }
   ],
   "source": [
    "(pd.DataFrame(horse_sample[horse_sample.duplicated(keep = False)].\n",
    "              groupby(['hospital_number','outcome'])['surgery'].count()).\n",
    " sort_index(level = [1]))"
   ]
  },
  {
   "cell_type": "markdown",
   "metadata": {},
   "source": [
    "Удалим лишние дублирущиеся строки:"
   ]
  },
  {
   "cell_type": "code",
   "execution_count": 15,
   "metadata": {
    "scrolled": true
   },
   "outputs": [],
   "source": [
    "horse_sample.drop_duplicates(keep = 'first', inplace = True)"
   ]
  },
  {
   "cell_type": "markdown",
   "metadata": {},
   "source": [
    "После этого все равно остались дубли по номерам, но они, видимо, как раз относятся к случаям нескольких лечений одной лошади:"
   ]
  },
  {
   "cell_type": "code",
   "execution_count": 16,
   "metadata": {},
   "outputs": [
    {
     "data": {
      "text/plain": [
       "5"
      ]
     },
     "execution_count": 16,
     "metadata": {},
     "output_type": "execute_result"
    }
   ],
   "source": [
    "len(horse_sample) - horse_sample.hospital_number.nunique()"
   ]
  },
  {
   "cell_type": "markdown",
   "metadata": {},
   "source": [
    "Число строк сократилось с 300 до 289:"
   ]
  },
  {
   "cell_type": "code",
   "execution_count": 17,
   "metadata": {
    "scrolled": false
   },
   "outputs": [
    {
     "name": "stdout",
     "output_type": "stream",
     "text": [
      "<class 'pandas.core.frame.DataFrame'>\n",
      "Int64Index: 289 entries, 0 to 299\n",
      "Data columns (total 12 columns):\n",
      " #   Column                       Non-Null Count  Dtype  \n",
      "---  ------                       --------------  -----  \n",
      " 0   surgery                      288 non-null    float64\n",
      " 1   age                          289 non-null    int64  \n",
      " 2   hospital_number              289 non-null    int64  \n",
      " 3   rectal_temperature           233 non-null    float64\n",
      " 4   pulse                        267 non-null    float64\n",
      " 5   respiratory_rate             234 non-null    float64\n",
      " 6   temperature_of_extremities   233 non-null    float64\n",
      " 7   abdominal_distension         233 non-null    float64\n",
      " 8   pain                         235 non-null    float64\n",
      " 9   outcome                      288 non-null    float64\n",
      " 10  abdomcentesis_total_protein  99 non-null     float64\n",
      " 11  total_protein                258 non-null    float64\n",
      "dtypes: float64(10), int64(2)\n",
      "memory usage: 29.4 KB\n"
     ]
    }
   ],
   "source": [
    "horse_sample.info()"
   ]
  },
  {
   "cell_type": "markdown",
   "metadata": {},
   "source": [
    "<a href=\"#0\"><h4>Наверх</h4></a>"
   ]
  },
  {
   "cell_type": "markdown",
   "metadata": {},
   "source": [
    "<p id=\"3\">\n",
    "<h4>Анализ признаков: распределение, выбросы, пропуски</h4><br>\n",
    "Изучаем выбранные признаки на предмет пропусков и выбросов:"
   ]
  },
  {
   "cell_type": "markdown",
   "metadata": {},
   "source": [
    "### Признак surgery"
   ]
  },
  {
   "cell_type": "markdown",
   "metadata": {},
   "source": [
    "#### Распределение значений:"
   ]
  },
  {
   "cell_type": "markdown",
   "metadata": {},
   "source": [
    "Мода:"
   ]
  },
  {
   "cell_type": "code",
   "execution_count": 18,
   "metadata": {
    "scrolled": true
   },
   "outputs": [
    {
     "name": "stdout",
     "output_type": "stream",
     "text": [
      "мода 0    1.0\n",
      "dtype: float64\n"
     ]
    }
   ],
   "source": [
    "print(\"мода\", horse_sample.surgery.mode())"
   ]
  },
  {
   "cell_type": "markdown",
   "metadata": {},
   "source": [
    "Распределение значений в долях:"
   ]
  },
  {
   "cell_type": "code",
   "execution_count": 19,
   "metadata": {
    "scrolled": true
   },
   "outputs": [
    {
     "name": "stdout",
     "output_type": "stream",
     "text": [
      "1.0    0.597222\n",
      "2.0    0.402778\n",
      "Name: surgery, dtype: float64\n"
     ]
    }
   ],
   "source": [
    "print(horse_sample.surgery.value_counts(normalize = True))"
   ]
  },
  {
   "cell_type": "markdown",
   "metadata": {},
   "source": [
    "Распределение значений, частоты:"
   ]
  },
  {
   "cell_type": "code",
   "execution_count": 20,
   "metadata": {},
   "outputs": [
    {
     "name": "stdout",
     "output_type": "stream",
     "text": [
      "1.0    172\n",
      "2.0    116\n",
      "Name: surgery, dtype: int64\n"
     ]
    }
   ],
   "source": [
    "print(horse_sample.surgery.value_counts())"
   ]
  },
  {
   "cell_type": "markdown",
   "metadata": {},
   "source": [
    "* Категориальный показатель: 1-операция, 2-нет.<br>\n",
    "* Мода, наиболее часто встречающееся значение: 1, операция.<br>\n",
    "* В 60% случаев была проведена операция.<br>"
   ]
  },
  {
   "cell_type": "markdown",
   "metadata": {},
   "source": [
    "#### Пропуски:"
   ]
  },
  {
   "cell_type": "markdown",
   "metadata": {},
   "source": [
    "Количество пропусков - один:"
   ]
  },
  {
   "cell_type": "code",
   "execution_count": 21,
   "metadata": {
    "scrolled": false
   },
   "outputs": [
    {
     "name": "stdout",
     "output_type": "stream",
     "text": [
      "0.35000000000000003\n",
      "1\n"
     ]
    }
   ],
   "source": [
    "print(horse_sample['surgery'].isna().mean().round(4)*100)  \n",
    "print(horse_sample['surgery'].isna().sum())"
   ]
  },
  {
   "cell_type": "markdown",
   "metadata": {},
   "source": [
    "Фильтруем пропуски - запись с индексом 132, pain = 4: "
   ]
  },
  {
   "cell_type": "code",
   "execution_count": 22,
   "metadata": {
    "scrolled": true
   },
   "outputs": [
    {
     "data": {
      "text/html": [
       "<div>\n",
       "<style scoped>\n",
       "    .dataframe tbody tr th:only-of-type {\n",
       "        vertical-align: middle;\n",
       "    }\n",
       "\n",
       "    .dataframe tbody tr th {\n",
       "        vertical-align: top;\n",
       "    }\n",
       "\n",
       "    .dataframe thead th {\n",
       "        text-align: right;\n",
       "    }\n",
       "</style>\n",
       "<table border=\"1\" class=\"dataframe\">\n",
       "  <thead>\n",
       "    <tr style=\"text-align: right;\">\n",
       "      <th></th>\n",
       "      <th>surgery</th>\n",
       "      <th>age</th>\n",
       "      <th>hospital_number</th>\n",
       "      <th>rectal_temperature</th>\n",
       "      <th>pulse</th>\n",
       "      <th>respiratory_rate</th>\n",
       "      <th>temperature_of_extremities</th>\n",
       "      <th>abdominal_distension</th>\n",
       "      <th>pain</th>\n",
       "      <th>outcome</th>\n",
       "      <th>abdomcentesis_total_protein</th>\n",
       "      <th>total_protein</th>\n",
       "    </tr>\n",
       "  </thead>\n",
       "  <tbody>\n",
       "    <tr>\n",
       "      <th>132</th>\n",
       "      <td>NaN</td>\n",
       "      <td>1</td>\n",
       "      <td>534572</td>\n",
       "      <td>38.0</td>\n",
       "      <td>48.0</td>\n",
       "      <td>20.0</td>\n",
       "      <td>3.0</td>\n",
       "      <td>1.0</td>\n",
       "      <td>4.0</td>\n",
       "      <td>NaN</td>\n",
       "      <td>1.0</td>\n",
       "      <td>73.0</td>\n",
       "    </tr>\n",
       "  </tbody>\n",
       "</table>\n",
       "</div>"
      ],
      "text/plain": [
       "     surgery  age  hospital_number  rectal_temperature  pulse  \\\n",
       "132      NaN    1           534572                38.0   48.0   \n",
       "\n",
       "     respiratory_rate  temperature_of_extremities  abdominal_distension  pain  \\\n",
       "132              20.0                         3.0                   1.0   4.0   \n",
       "\n",
       "     outcome  abdomcentesis_total_protein  total_protein  \n",
       "132      NaN                          1.0           73.0  "
      ]
     },
     "execution_count": 22,
     "metadata": {},
     "output_type": "execute_result"
    }
   ],
   "source": [
    "horse_sample[horse_sample.surgery.isna()]"
   ]
  },
  {
   "cell_type": "markdown",
   "metadata": {},
   "source": [
    "Заполнение пропусков модой surgery для конкретного значения pain:"
   ]
  },
  {
   "cell_type": "code",
   "execution_count": 23,
   "metadata": {},
   "outputs": [
    {
     "data": {
      "text/plain": [
       "1.0    173\n",
       "2.0    116\n",
       "Name: surgery, dtype: int64"
      ]
     },
     "execution_count": 23,
     "metadata": {},
     "output_type": "execute_result"
    }
   ],
   "source": [
    "horse_sample.surgery.fillna(horse_sample[horse_sample.pain == 4].surgery.mode()[0], inplace = True)\n",
    "horse_sample.surgery.value_counts()"
   ]
  },
  {
   "cell_type": "markdown",
   "metadata": {},
   "source": [
    "* По смыслу хотелось бы подставить моду по значениям pain, т.к. в среднем чем болезненнее, тем вероятнее операция:<br>\n",
    "horse_sample.surgery.fillna(horse.groupby('pain').surgery.transform(lambda x: x.mode()[0]), inplace=True)<br>\n",
    "* Но это сделать нельзя, если в группирующем столбце есть пропуски, а в pain около 50 пропусков.<br>\n",
    "* В данном случае пропуск surgery только один, можно посмотреть, что в этом случае pain = 4, и \" вручную\" заменить модой surgery для pain = 4."
   ]
  },
  {
   "cell_type": "markdown",
   "metadata": {},
   "source": [
    "### Признак age"
   ]
  },
  {
   "cell_type": "markdown",
   "metadata": {},
   "source": [
    "#### Распределение значений:"
   ]
  },
  {
   "cell_type": "markdown",
   "metadata": {},
   "source": [
    "Мода:"
   ]
  },
  {
   "cell_type": "code",
   "execution_count": 24,
   "metadata": {
    "scrolled": true
   },
   "outputs": [
    {
     "data": {
      "text/plain": [
       "0    1\n",
       "dtype: int64"
      ]
     },
     "execution_count": 24,
     "metadata": {},
     "output_type": "execute_result"
    }
   ],
   "source": [
    "horse_sample.age.mode()"
   ]
  },
  {
   "cell_type": "markdown",
   "metadata": {},
   "source": [
    "Распределение значений, частоты:"
   ]
  },
  {
   "cell_type": "code",
   "execution_count": 25,
   "metadata": {
    "scrolled": true
   },
   "outputs": [
    {
     "data": {
      "text/plain": [
       "1    265\n",
       "9     24\n",
       "Name: age, dtype: int64"
      ]
     },
     "execution_count": 25,
     "metadata": {},
     "output_type": "execute_result"
    }
   ],
   "source": [
    "horse_sample.age.value_counts()"
   ]
  },
  {
   "cell_type": "markdown",
   "metadata": {},
   "source": [
    "Распределение значений в долях:"
   ]
  },
  {
   "cell_type": "code",
   "execution_count": 26,
   "metadata": {},
   "outputs": [
    {
     "data": {
      "text/plain": [
       "1    0.916955\n",
       "9    0.083045\n",
       "Name: age, dtype: float64"
      ]
     },
     "execution_count": 26,
     "metadata": {},
     "output_type": "execute_result"
    }
   ],
   "source": [
    "horse_sample.age.value_counts(normalize = True)"
   ]
  },
  {
   "cell_type": "markdown",
   "metadata": {},
   "source": [
    "* Категориальный показатель: 1 - adult, 9 - young (а не \"2\" как заявлено в описании).<br>\n",
    "* Мода, наиболее часто встречающееся значение: 1, взрослые.<br>\n",
    "* 92% случаев - взрослые лошади.<br>"
   ]
  },
  {
   "cell_type": "markdown",
   "metadata": {},
   "source": [
    "#### Пропуски:"
   ]
  },
  {
   "cell_type": "markdown",
   "metadata": {},
   "source": [
    "Количество и доля пропусков - 0 пропусков, 289 непустых значений:"
   ]
  },
  {
   "cell_type": "code",
   "execution_count": 27,
   "metadata": {},
   "outputs": [
    {
     "name": "stdout",
     "output_type": "stream",
     "text": [
      "0.0\n",
      "289\n"
     ]
    }
   ],
   "source": [
    "print(horse_sample['age'].isna().mean().round(4) * 100) \n",
    "print(horse_sample['age'].count())"
   ]
  },
  {
   "cell_type": "markdown",
   "metadata": {},
   "source": [
    "Пропусков нет."
   ]
  },
  {
   "cell_type": "markdown",
   "metadata": {},
   "source": [
    "### Признак hospital_number"
   ]
  },
  {
   "cell_type": "markdown",
   "metadata": {},
   "source": [
    "Уникальных значений 284:"
   ]
  },
  {
   "cell_type": "code",
   "execution_count": 28,
   "metadata": {},
   "outputs": [
    {
     "data": {
      "text/plain": [
       "284"
      ]
     },
     "execution_count": 28,
     "metadata": {},
     "output_type": "execute_result"
    }
   ],
   "source": [
    "horse_sample['hospital_number'].nunique()"
   ]
  },
  {
   "cell_type": "markdown",
   "metadata": {},
   "source": [
    "Категориальный."
   ]
  },
  {
   "cell_type": "markdown",
   "metadata": {},
   "source": [
    "Количество и доля пропусков - 0 пропусков, 289 непустых значений:"
   ]
  },
  {
   "cell_type": "code",
   "execution_count": 29,
   "metadata": {
    "scrolled": true
   },
   "outputs": [
    {
     "name": "stdout",
     "output_type": "stream",
     "text": [
      "0.0\n",
      "289\n"
     ]
    }
   ],
   "source": [
    "print(horse_sample['hospital_number'].isna().mean().round(4) * 100)\n",
    "print(horse_sample['hospital_number'].count())"
   ]
  },
  {
   "cell_type": "markdown",
   "metadata": {},
   "source": [
    "Пропусков нет."
   ]
  },
  {
   "cell_type": "markdown",
   "metadata": {},
   "source": [
    "### Признак outcome"
   ]
  },
  {
   "cell_type": "markdown",
   "metadata": {},
   "source": [
    "#### Распределение значений:"
   ]
  },
  {
   "cell_type": "markdown",
   "metadata": {},
   "source": [
    "Мода:"
   ]
  },
  {
   "cell_type": "code",
   "execution_count": 30,
   "metadata": {
    "scrolled": true
   },
   "outputs": [
    {
     "data": {
      "text/plain": [
       "0    1.0\n",
       "dtype: float64"
      ]
     },
     "execution_count": 30,
     "metadata": {},
     "output_type": "execute_result"
    }
   ],
   "source": [
    "horse_sample.outcome.mode()"
   ]
  },
  {
   "cell_type": "markdown",
   "metadata": {},
   "source": [
    "Распределение значений в долях:"
   ]
  },
  {
   "cell_type": "code",
   "execution_count": 31,
   "metadata": {
    "scrolled": true
   },
   "outputs": [
    {
     "data": {
      "text/plain": [
       "1.0    0.604167\n",
       "2.0    0.246528\n",
       "3.0    0.149306\n",
       "Name: outcome, dtype: float64"
      ]
     },
     "execution_count": 31,
     "metadata": {},
     "output_type": "execute_result"
    }
   ],
   "source": [
    "horse_sample.outcome.value_counts(normalize = True)"
   ]
  },
  {
   "cell_type": "markdown",
   "metadata": {},
   "source": [
    "Распределение значений, частоты:"
   ]
  },
  {
   "cell_type": "code",
   "execution_count": 32,
   "metadata": {},
   "outputs": [
    {
     "data": {
      "text/plain": [
       "1.0    174\n",
       "2.0     71\n",
       "3.0     43\n",
       "Name: outcome, dtype: int64"
      ]
     },
     "execution_count": 32,
     "metadata": {},
     "output_type": "execute_result"
    }
   ],
   "source": [
    "horse_sample.outcome.value_counts()"
   ]
  },
  {
   "cell_type": "markdown",
   "metadata": {},
   "source": [
    "* Категориальный: 1 = lived,2 = died,3 = was euthanized.<br>\n",
    "* Мода, наиболее часто встречающееся значение: 1, выжившие лошади.<br>\n",
    "* 60% выживших, 25% смертей и 15% усыплений.<br>"
   ]
  },
  {
   "cell_type": "markdown",
   "metadata": {},
   "source": [
    "#### Пропуски:"
   ]
  },
  {
   "cell_type": "markdown",
   "metadata": {},
   "source": [
    "Количество пропусков - 1 пропуск:"
   ]
  },
  {
   "cell_type": "code",
   "execution_count": 33,
   "metadata": {
    "scrolled": false
   },
   "outputs": [
    {
     "name": "stdout",
     "output_type": "stream",
     "text": [
      "0.35000000000000003\n",
      "1\n"
     ]
    }
   ],
   "source": [
    "print(horse_sample['outcome'].isna().mean().round(4) * 100) \n",
    "print(horse_sample['outcome'].isna().sum())"
   ]
  },
  {
   "cell_type": "markdown",
   "metadata": {},
   "source": [
    "Фильтруем пропуски:"
   ]
  },
  {
   "cell_type": "code",
   "execution_count": 34,
   "metadata": {
    "scrolled": true
   },
   "outputs": [
    {
     "data": {
      "text/html": [
       "<div>\n",
       "<style scoped>\n",
       "    .dataframe tbody tr th:only-of-type {\n",
       "        vertical-align: middle;\n",
       "    }\n",
       "\n",
       "    .dataframe tbody tr th {\n",
       "        vertical-align: top;\n",
       "    }\n",
       "\n",
       "    .dataframe thead th {\n",
       "        text-align: right;\n",
       "    }\n",
       "</style>\n",
       "<table border=\"1\" class=\"dataframe\">\n",
       "  <thead>\n",
       "    <tr style=\"text-align: right;\">\n",
       "      <th></th>\n",
       "      <th>surgery</th>\n",
       "      <th>age</th>\n",
       "      <th>hospital_number</th>\n",
       "      <th>rectal_temperature</th>\n",
       "      <th>pulse</th>\n",
       "      <th>respiratory_rate</th>\n",
       "      <th>temperature_of_extremities</th>\n",
       "      <th>abdominal_distension</th>\n",
       "      <th>pain</th>\n",
       "      <th>outcome</th>\n",
       "      <th>abdomcentesis_total_protein</th>\n",
       "      <th>total_protein</th>\n",
       "    </tr>\n",
       "  </thead>\n",
       "  <tbody>\n",
       "    <tr>\n",
       "      <th>132</th>\n",
       "      <td>1.0</td>\n",
       "      <td>1</td>\n",
       "      <td>534572</td>\n",
       "      <td>38.0</td>\n",
       "      <td>48.0</td>\n",
       "      <td>20.0</td>\n",
       "      <td>3.0</td>\n",
       "      <td>1.0</td>\n",
       "      <td>4.0</td>\n",
       "      <td>NaN</td>\n",
       "      <td>1.0</td>\n",
       "      <td>73.0</td>\n",
       "    </tr>\n",
       "  </tbody>\n",
       "</table>\n",
       "</div>"
      ],
      "text/plain": [
       "     surgery  age  hospital_number  rectal_temperature  pulse  \\\n",
       "132      1.0    1           534572                38.0   48.0   \n",
       "\n",
       "     respiratory_rate  temperature_of_extremities  abdominal_distension  pain  \\\n",
       "132              20.0                         3.0                   1.0   4.0   \n",
       "\n",
       "     outcome  abdomcentesis_total_protein  total_protein  \n",
       "132      NaN                          1.0           73.0  "
      ]
     },
     "execution_count": 34,
     "metadata": {},
     "output_type": "execute_result"
    }
   ],
   "source": [
    "horse_sample[horse_sample.outcome.isna()] "
   ]
  },
  {
   "cell_type": "markdown",
   "metadata": {},
   "source": [
    "Распределение значений outcome в разрезе surgery-pain:"
   ]
  },
  {
   "cell_type": "code",
   "execution_count": 35,
   "metadata": {
    "scrolled": true
   },
   "outputs": [
    {
     "data": {
      "text/plain": [
       "surgery  pain  outcome\n",
       "1.0      1.0   1.0         8\n",
       "         2.0   1.0        15\n",
       "               2.0         9\n",
       "               3.0         8\n",
       "         3.0   1.0        32\n",
       "               2.0         5\n",
       "               3.0         1\n",
       "         4.0   2.0        14\n",
       "               1.0         8\n",
       "               3.0         5\n",
       "         5.0   2.0        15\n",
       "               1.0         9\n",
       "               3.0         6\n",
       "2.0      1.0   1.0        26\n",
       "               2.0         2\n",
       "               3.0         1\n",
       "         2.0   1.0        18\n",
       "               3.0         4\n",
       "               2.0         3\n",
       "         3.0   1.0        21\n",
       "               3.0         4\n",
       "               2.0         3\n",
       "         4.0   3.0         5\n",
       "               1.0         2\n",
       "               2.0         2\n",
       "         5.0   2.0         6\n",
       "               1.0         2\n",
       "Name: outcome, dtype: int64"
      ]
     },
     "execution_count": 35,
     "metadata": {},
     "output_type": "execute_result"
    }
   ],
   "source": [
    "horse_sample.groupby(['surgery','pain']).outcome.value_counts()"
   ]
  },
  {
   "cell_type": "markdown",
   "metadata": {},
   "source": [
    "Заполнение пропусков модой outcome для конкретных значений pain и surgery:"
   ]
  },
  {
   "cell_type": "code",
   "execution_count": 36,
   "metadata": {},
   "outputs": [
    {
     "data": {
      "text/plain": [
       "1.0    174\n",
       "2.0     72\n",
       "3.0     43\n",
       "Name: outcome, dtype: int64"
      ]
     },
     "execution_count": 36,
     "metadata": {},
     "output_type": "execute_result"
    }
   ],
   "source": [
    "(horse_sample.outcome.fillna(\n",
    "    horse_sample[(horse_sample.pain == 4) & (horse_sample.surgery == 1) ].outcome.mode()[0], inplace=True))\n",
    "horse_sample.outcome.value_counts()"
   ]
  },
  {
   "cell_type": "markdown",
   "metadata": {},
   "source": [
    "* Тот же случай, где был пропуск по surgery (pain=4, surgery заполнили 1).<br>\n",
    "* В группировке по [surgery, pain] кол-ва значений хватает.<br>\n",
    "* Но так как в pain есть пропуски, которые будут заполняться на основе значений других столбцов,<br>\n",
    "то для большей корректности заполним пропуск outcome не с помощью groupby(['surgery','pain'])-transform,<br>\n",
    "а на основе моды внутри группы pain=4, surgery=1."
   ]
  },
  {
   "cell_type": "markdown",
   "metadata": {},
   "source": [
    "### Признак rectal_temperature"
   ]
  },
  {
   "cell_type": "markdown",
   "metadata": {},
   "source": [
    "#### Распределение значений:"
   ]
  },
  {
   "cell_type": "markdown",
   "metadata": {},
   "source": [
    "Мода:"
   ]
  },
  {
   "cell_type": "code",
   "execution_count": 37,
   "metadata": {
    "scrolled": true
   },
   "outputs": [
    {
     "data": {
      "text/plain": [
       "0    38.0\n",
       "dtype: float64"
      ]
     },
     "execution_count": 37,
     "metadata": {},
     "output_type": "execute_result"
    }
   ],
   "source": [
    "horse_sample.rectal_temperature.mode()"
   ]
  },
  {
   "cell_type": "markdown",
   "metadata": {},
   "source": [
    "IQR, разброс:"
   ]
  },
  {
   "cell_type": "code",
   "execution_count": 38,
   "metadata": {
    "scrolled": true
   },
   "outputs": [
    {
     "name": "stdout",
     "output_type": "stream",
     "text": [
      "IQR 0.7\n",
      "Разброс 5.4\n"
     ]
    }
   ],
   "source": [
    "horse_stat = horse_sample.describe()\n",
    "print(\"IQR\", round(horse_stat['rectal_temperature']['75%'] - horse_stat['rectal_temperature']['25%'], 4))\n",
    "print(\"Разброс\", round(horse_stat['rectal_temperature']['max'] - horse_stat['rectal_temperature']['min'], 4))"
   ]
  },
  {
   "cell_type": "markdown",
   "metadata": {},
   "source": [
    "Статистики:"
   ]
  },
  {
   "cell_type": "code",
   "execution_count": 39,
   "metadata": {},
   "outputs": [
    {
     "data": {
      "text/plain": [
       "count    233.000000\n",
       "mean      38.168240\n",
       "std        0.739539\n",
       "min       35.400000\n",
       "25%       37.800000\n",
       "50%       38.200000\n",
       "75%       38.500000\n",
       "max       40.800000\n",
       "Name: rectal_temperature, dtype: float64"
      ]
     },
     "execution_count": 39,
     "metadata": {},
     "output_type": "execute_result"
    }
   ],
   "source": [
    "rect_temp_pre = horse_stat['rectal_temperature']\n",
    "rect_temp_pre"
   ]
  },
  {
   "cell_type": "markdown",
   "metadata": {},
   "source": [
    "* Мода, наиболее часто встречающееся значение: 38 градусов.<br>\n",
    "* Среднее 38.16, медиана 38.2, по всем мерам центральной тенденции - около 38, чуть выше нормы 37.8.\n",
    "* В среднем значения отклоняются от среднего всего на 0.7 градуса.<br>\n",
    "* IQR 0.7 градуса, разброс 5.4 градуса.<br>"
   ]
  },
  {
   "cell_type": "markdown",
   "metadata": {},
   "source": [
    "#### Выбросы:"
   ]
  },
  {
   "cell_type": "markdown",
   "metadata": {},
   "source": [
    "Границы выбросов по методу IQR:"
   ]
  },
  {
   "cell_type": "code",
   "execution_count": 40,
   "metadata": {
    "scrolled": true
   },
   "outputs": [
    {
     "data": {
      "text/plain": [
       "(36.75, 39.55)"
      ]
     },
     "execution_count": 40,
     "metadata": {},
     "output_type": "execute_result"
    }
   ],
   "source": [
    "rectal_temperature_lb = (horse_stat['rectal_temperature']['25%'] - \n",
    "                         (1.5 * (horse_stat['rectal_temperature']['75%']-horse_stat['rectal_temperature']['25%']))) \n",
    "rectal_temperature_ub = (horse_stat['rectal_temperature']['75%'] + \n",
    "                         (1.5 * (horse_stat['rectal_temperature']['75%']-horse_stat['rectal_temperature']['25%'])))\n",
    "round(rectal_temperature_lb, 2), round(rectal_temperature_ub, 2)"
   ]
  },
  {
   "cell_type": "markdown",
   "metadata": {},
   "source": [
    "Распределение значений:"
   ]
  },
  {
   "cell_type": "code",
   "execution_count": 41,
   "metadata": {
    "scrolled": true
   },
   "outputs": [
    {
     "data": {
      "text/plain": [
       "35.4     1\n",
       "36.0     1\n",
       "36.1     1\n",
       "36.4     1\n",
       "36.5     2\n",
       "36.6     1\n",
       "36.8     1\n",
       "36.9     1\n",
       "37.0     2\n",
       "37.1     3\n",
       "37.2     7\n",
       "37.3     6\n",
       "37.4     3\n",
       "37.5    11\n",
       "37.6     7\n",
       "37.7     7\n",
       "37.8    16\n",
       "37.9     7\n",
       "38.0    25\n",
       "38.1    11\n",
       "38.2    16\n",
       "38.3    17\n",
       "38.4    11\n",
       "38.5    18\n",
       "38.6    12\n",
       "38.7     7\n",
       "38.8     6\n",
       "38.9     3\n",
       "39.0     4\n",
       "39.1     2\n",
       "39.2     5\n",
       "39.3     4\n",
       "39.4     3\n",
       "39.5     4\n",
       "39.6     1\n",
       "39.7     1\n",
       "39.9     1\n",
       "40.0     1\n",
       "40.3     2\n",
       "40.8     1\n",
       "Name: rectal_temperature, dtype: int64"
      ]
     },
     "execution_count": 41,
     "metadata": {},
     "output_type": "execute_result"
    }
   ],
   "source": [
    "horse_sample.rectal_temperature.value_counts().sort_index()"
   ]
  },
  {
   "cell_type": "markdown",
   "metadata": {},
   "source": [
    "Статистики до и после исключения потенциальных выбросов:"
   ]
  },
  {
   "cell_type": "code",
   "execution_count": 42,
   "metadata": {
    "scrolled": true
   },
   "outputs": [
    {
     "name": "stdout",
     "output_type": "stream",
     "text": [
      "before count    233.000000\n",
      "mean      38.168240\n",
      "std        0.739539\n",
      "min       35.400000\n",
      "25%       37.800000\n",
      "50%       38.200000\n",
      "75%       38.500000\n",
      "max       40.800000\n",
      "Name: rectal_temperature, dtype: float64\n",
      "\n",
      "after count    219.000000\n",
      "mean      38.169406\n",
      "std        0.575991\n",
      "min       36.800000\n",
      "25%       37.800000\n",
      "50%       38.200000\n",
      "75%       38.500000\n",
      "max       39.500000\n",
      "Name: rectal_temperature, dtype: float64\n"
     ]
    },
    {
     "name": "stderr",
     "output_type": "stream",
     "text": [
      "C:\\Users\\YULIAN~2\\AppData\\Local\\Temp/ipykernel_10920/1133261043.py:1: FutureWarning: Boolean inputs to the `inclusive` argument are deprecated infavour of `both` or `neither`.\n",
      "  horse_excl_out_rect_temp = (horse_sample[horse_sample.rectal_temperature.\n"
     ]
    }
   ],
   "source": [
    "horse_excl_out_rect_temp = (horse_sample[horse_sample.rectal_temperature.\n",
    "                                         between(rectal_temperature_lb, rectal_temperature_ub, inclusive = True)])\n",
    "print(\"before\", rect_temp_pre)\n",
    "print('')\n",
    "print(\"after\", horse_excl_out_rect_temp.describe()['rectal_temperature'])"
   ]
  },
  {
   "cell_type": "markdown",
   "metadata": {},
   "source": [
    "Фильтруем потенциальные выбросы:"
   ]
  },
  {
   "cell_type": "code",
   "execution_count": 43,
   "metadata": {},
   "outputs": [
    {
     "data": {
      "text/html": [
       "<div>\n",
       "<style scoped>\n",
       "    .dataframe tbody tr th:only-of-type {\n",
       "        vertical-align: middle;\n",
       "    }\n",
       "\n",
       "    .dataframe tbody tr th {\n",
       "        vertical-align: top;\n",
       "    }\n",
       "\n",
       "    .dataframe thead th {\n",
       "        text-align: right;\n",
       "    }\n",
       "</style>\n",
       "<table border=\"1\" class=\"dataframe\">\n",
       "  <thead>\n",
       "    <tr style=\"text-align: right;\">\n",
       "      <th></th>\n",
       "      <th>surgery</th>\n",
       "      <th>age</th>\n",
       "      <th>hospital_number</th>\n",
       "      <th>rectal_temperature</th>\n",
       "      <th>pulse</th>\n",
       "      <th>respiratory_rate</th>\n",
       "      <th>temperature_of_extremities</th>\n",
       "      <th>abdominal_distension</th>\n",
       "      <th>pain</th>\n",
       "      <th>outcome</th>\n",
       "      <th>abdomcentesis_total_protein</th>\n",
       "      <th>total_protein</th>\n",
       "    </tr>\n",
       "  </thead>\n",
       "  <tbody>\n",
       "    <tr>\n",
       "      <th>20</th>\n",
       "      <td>1.0</td>\n",
       "      <td>1</td>\n",
       "      <td>530157</td>\n",
       "      <td>39.9</td>\n",
       "      <td>72.0</td>\n",
       "      <td>60.0</td>\n",
       "      <td>1.0</td>\n",
       "      <td>4.0</td>\n",
       "      <td>5.0</td>\n",
       "      <td>1.0</td>\n",
       "      <td>NaN</td>\n",
       "      <td>6.1</td>\n",
       "    </tr>\n",
       "    <tr>\n",
       "      <th>44</th>\n",
       "      <td>1.0</td>\n",
       "      <td>1</td>\n",
       "      <td>535407</td>\n",
       "      <td>35.4</td>\n",
       "      <td>140.0</td>\n",
       "      <td>24.0</td>\n",
       "      <td>3.0</td>\n",
       "      <td>NaN</td>\n",
       "      <td>4.0</td>\n",
       "      <td>3.0</td>\n",
       "      <td>2.0</td>\n",
       "      <td>69.0</td>\n",
       "    </tr>\n",
       "    <tr>\n",
       "      <th>54</th>\n",
       "      <td>2.0</td>\n",
       "      <td>1</td>\n",
       "      <td>529461</td>\n",
       "      <td>40.3</td>\n",
       "      <td>114.0</td>\n",
       "      <td>36.0</td>\n",
       "      <td>3.0</td>\n",
       "      <td>3.0</td>\n",
       "      <td>2.0</td>\n",
       "      <td>3.0</td>\n",
       "      <td>4.5</td>\n",
       "      <td>8.1</td>\n",
       "    </tr>\n",
       "    <tr>\n",
       "      <th>75</th>\n",
       "      <td>1.0</td>\n",
       "      <td>9</td>\n",
       "      <td>534092</td>\n",
       "      <td>39.7</td>\n",
       "      <td>100.0</td>\n",
       "      <td>NaN</td>\n",
       "      <td>3.0</td>\n",
       "      <td>NaN</td>\n",
       "      <td>2.0</td>\n",
       "      <td>3.0</td>\n",
       "      <td>2.0</td>\n",
       "      <td>57.0</td>\n",
       "    </tr>\n",
       "    <tr>\n",
       "      <th>80</th>\n",
       "      <td>1.0</td>\n",
       "      <td>1</td>\n",
       "      <td>527518</td>\n",
       "      <td>36.4</td>\n",
       "      <td>98.0</td>\n",
       "      <td>35.0</td>\n",
       "      <td>3.0</td>\n",
       "      <td>2.0</td>\n",
       "      <td>4.0</td>\n",
       "      <td>2.0</td>\n",
       "      <td>3.6</td>\n",
       "      <td>6.4</td>\n",
       "    </tr>\n",
       "    <tr>\n",
       "      <th>91</th>\n",
       "      <td>2.0</td>\n",
       "      <td>1</td>\n",
       "      <td>529461</td>\n",
       "      <td>40.3</td>\n",
       "      <td>114.0</td>\n",
       "      <td>36.0</td>\n",
       "      <td>3.0</td>\n",
       "      <td>3.0</td>\n",
       "      <td>2.0</td>\n",
       "      <td>2.0</td>\n",
       "      <td>4.5</td>\n",
       "      <td>8.1</td>\n",
       "    </tr>\n",
       "    <tr>\n",
       "      <th>99</th>\n",
       "      <td>2.0</td>\n",
       "      <td>1</td>\n",
       "      <td>530002</td>\n",
       "      <td>39.6</td>\n",
       "      <td>108.0</td>\n",
       "      <td>51.0</td>\n",
       "      <td>3.0</td>\n",
       "      <td>3.0</td>\n",
       "      <td>2.0</td>\n",
       "      <td>1.0</td>\n",
       "      <td>2.6</td>\n",
       "      <td>8.0</td>\n",
       "    </tr>\n",
       "    <tr>\n",
       "      <th>118</th>\n",
       "      <td>1.0</td>\n",
       "      <td>1</td>\n",
       "      <td>533983</td>\n",
       "      <td>36.5</td>\n",
       "      <td>78.0</td>\n",
       "      <td>30.0</td>\n",
       "      <td>1.0</td>\n",
       "      <td>1.0</td>\n",
       "      <td>5.0</td>\n",
       "      <td>1.0</td>\n",
       "      <td>1.0</td>\n",
       "      <td>75.0</td>\n",
       "    </tr>\n",
       "    <tr>\n",
       "      <th>141</th>\n",
       "      <td>2.0</td>\n",
       "      <td>1</td>\n",
       "      <td>522979</td>\n",
       "      <td>36.0</td>\n",
       "      <td>42.0</td>\n",
       "      <td>30.0</td>\n",
       "      <td>NaN</td>\n",
       "      <td>NaN</td>\n",
       "      <td>NaN</td>\n",
       "      <td>2.0</td>\n",
       "      <td>NaN</td>\n",
       "      <td>6.8</td>\n",
       "    </tr>\n",
       "    <tr>\n",
       "      <th>238</th>\n",
       "      <td>2.0</td>\n",
       "      <td>1</td>\n",
       "      <td>528702</td>\n",
       "      <td>36.1</td>\n",
       "      <td>88.0</td>\n",
       "      <td>NaN</td>\n",
       "      <td>3.0</td>\n",
       "      <td>2.0</td>\n",
       "      <td>3.0</td>\n",
       "      <td>3.0</td>\n",
       "      <td>4.8</td>\n",
       "      <td>7.0</td>\n",
       "    </tr>\n",
       "    <tr>\n",
       "      <th>251</th>\n",
       "      <td>2.0</td>\n",
       "      <td>1</td>\n",
       "      <td>527940</td>\n",
       "      <td>36.6</td>\n",
       "      <td>42.0</td>\n",
       "      <td>18.0</td>\n",
       "      <td>3.0</td>\n",
       "      <td>1.0</td>\n",
       "      <td>1.0</td>\n",
       "      <td>2.0</td>\n",
       "      <td>NaN</td>\n",
       "      <td>7.1</td>\n",
       "    </tr>\n",
       "    <tr>\n",
       "      <th>259</th>\n",
       "      <td>1.0</td>\n",
       "      <td>1</td>\n",
       "      <td>527734</td>\n",
       "      <td>40.8</td>\n",
       "      <td>72.0</td>\n",
       "      <td>42.0</td>\n",
       "      <td>3.0</td>\n",
       "      <td>1.0</td>\n",
       "      <td>2.0</td>\n",
       "      <td>2.0</td>\n",
       "      <td>NaN</td>\n",
       "      <td>7.4</td>\n",
       "    </tr>\n",
       "    <tr>\n",
       "      <th>281</th>\n",
       "      <td>2.0</td>\n",
       "      <td>1</td>\n",
       "      <td>530624</td>\n",
       "      <td>40.0</td>\n",
       "      <td>78.0</td>\n",
       "      <td>NaN</td>\n",
       "      <td>3.0</td>\n",
       "      <td>1.0</td>\n",
       "      <td>2.0</td>\n",
       "      <td>2.0</td>\n",
       "      <td>NaN</td>\n",
       "      <td>6.5</td>\n",
       "    </tr>\n",
       "    <tr>\n",
       "      <th>298</th>\n",
       "      <td>1.0</td>\n",
       "      <td>1</td>\n",
       "      <td>530612</td>\n",
       "      <td>36.5</td>\n",
       "      <td>100.0</td>\n",
       "      <td>24.0</td>\n",
       "      <td>3.0</td>\n",
       "      <td>3.0</td>\n",
       "      <td>3.0</td>\n",
       "      <td>1.0</td>\n",
       "      <td>3.4</td>\n",
       "      <td>6.0</td>\n",
       "    </tr>\n",
       "  </tbody>\n",
       "</table>\n",
       "</div>"
      ],
      "text/plain": [
       "     surgery  age  hospital_number  rectal_temperature  pulse  \\\n",
       "20       1.0    1           530157                39.9   72.0   \n",
       "44       1.0    1           535407                35.4  140.0   \n",
       "54       2.0    1           529461                40.3  114.0   \n",
       "75       1.0    9           534092                39.7  100.0   \n",
       "80       1.0    1           527518                36.4   98.0   \n",
       "91       2.0    1           529461                40.3  114.0   \n",
       "99       2.0    1           530002                39.6  108.0   \n",
       "118      1.0    1           533983                36.5   78.0   \n",
       "141      2.0    1           522979                36.0   42.0   \n",
       "238      2.0    1           528702                36.1   88.0   \n",
       "251      2.0    1           527940                36.6   42.0   \n",
       "259      1.0    1           527734                40.8   72.0   \n",
       "281      2.0    1           530624                40.0   78.0   \n",
       "298      1.0    1           530612                36.5  100.0   \n",
       "\n",
       "     respiratory_rate  temperature_of_extremities  abdominal_distension  pain  \\\n",
       "20               60.0                         1.0                   4.0   5.0   \n",
       "44               24.0                         3.0                   NaN   4.0   \n",
       "54               36.0                         3.0                   3.0   2.0   \n",
       "75                NaN                         3.0                   NaN   2.0   \n",
       "80               35.0                         3.0                   2.0   4.0   \n",
       "91               36.0                         3.0                   3.0   2.0   \n",
       "99               51.0                         3.0                   3.0   2.0   \n",
       "118              30.0                         1.0                   1.0   5.0   \n",
       "141              30.0                         NaN                   NaN   NaN   \n",
       "238               NaN                         3.0                   2.0   3.0   \n",
       "251              18.0                         3.0                   1.0   1.0   \n",
       "259              42.0                         3.0                   1.0   2.0   \n",
       "281               NaN                         3.0                   1.0   2.0   \n",
       "298              24.0                         3.0                   3.0   3.0   \n",
       "\n",
       "     outcome  abdomcentesis_total_protein  total_protein  \n",
       "20       1.0                          NaN            6.1  \n",
       "44       3.0                          2.0           69.0  \n",
       "54       3.0                          4.5            8.1  \n",
       "75       3.0                          2.0           57.0  \n",
       "80       2.0                          3.6            6.4  \n",
       "91       2.0                          4.5            8.1  \n",
       "99       1.0                          2.6            8.0  \n",
       "118      1.0                          1.0           75.0  \n",
       "141      2.0                          NaN            6.8  \n",
       "238      3.0                          4.8            7.0  \n",
       "251      2.0                          NaN            7.1  \n",
       "259      2.0                          NaN            7.4  \n",
       "281      2.0                          NaN            6.5  \n",
       "298      1.0                          3.4            6.0  "
      ]
     },
     "execution_count": 43,
     "metadata": {},
     "output_type": "execute_result"
    }
   ],
   "source": [
    "rect_temp_out = pd.concat([horse_sample, horse_excl_out_rect_temp]).drop_duplicates(keep = False)\n",
    "rect_temp_out[rect_temp_out.rectal_temperature.notnull()]"
   ]
  },
  {
   "cell_type": "markdown",
   "metadata": {},
   "source": [
    "* На взгляд и в левом и в правом хвостах значения увеличиваются постепенно, без скачков - на ошибки не похоже.<br>\n",
    "* Меры центральной тенденции схожи, iqr и ср.кв.откл тоже - не похоже на наличие выбросов. Или выбросы и в правом и в левом конце балансируют друг друга.<br>\n",
    "\n",
    "* Статистики почти не изменились при исключении выбросов.<br>\n",
    "* Будем считать, что у значений в правом и левом концах естественные причины и их нужно оставить в выборке. Низкая температура может быть в случае шока, высокая в случае инфекции, а исключение выбросов по правилу iqr исключает/дискриминирует эти случаи.\n",
    "* Для проверки ошибочности можно еще проверить выбросы на согласованность со значениями других признаков, например, temperature_of_extremities."
   ]
  },
  {
   "cell_type": "markdown",
   "metadata": {},
   "source": [
    "#### Пропуски:"
   ]
  },
  {
   "cell_type": "markdown",
   "metadata": {},
   "source": [
    "Кол-во пропусков - 19% пропусков, 56 пропусков:"
   ]
  },
  {
   "cell_type": "code",
   "execution_count": 44,
   "metadata": {
    "scrolled": true
   },
   "outputs": [
    {
     "name": "stdout",
     "output_type": "stream",
     "text": [
      "19.38\n",
      "56\n"
     ]
    }
   ],
   "source": [
    "print(horse_sample['rectal_temperature'].isna().mean().round(4) * 100) \n",
    "print(horse_sample['rectal_temperature'].isna().sum()) "
   ]
  },
  {
   "cell_type": "markdown",
   "metadata": {},
   "source": [
    "Фильтруем пропуски:"
   ]
  },
  {
   "cell_type": "code",
   "execution_count": 45,
   "metadata": {
    "scrolled": true
   },
   "outputs": [
    {
     "data": {
      "text/html": [
       "<div>\n",
       "<style scoped>\n",
       "    .dataframe tbody tr th:only-of-type {\n",
       "        vertical-align: middle;\n",
       "    }\n",
       "\n",
       "    .dataframe tbody tr th {\n",
       "        vertical-align: top;\n",
       "    }\n",
       "\n",
       "    .dataframe thead th {\n",
       "        text-align: right;\n",
       "    }\n",
       "</style>\n",
       "<table border=\"1\" class=\"dataframe\">\n",
       "  <thead>\n",
       "    <tr style=\"text-align: right;\">\n",
       "      <th></th>\n",
       "      <th>surgery</th>\n",
       "      <th>age</th>\n",
       "      <th>hospital_number</th>\n",
       "      <th>rectal_temperature</th>\n",
       "      <th>pulse</th>\n",
       "      <th>respiratory_rate</th>\n",
       "      <th>temperature_of_extremities</th>\n",
       "      <th>abdominal_distension</th>\n",
       "      <th>pain</th>\n",
       "      <th>outcome</th>\n",
       "      <th>abdomcentesis_total_protein</th>\n",
       "      <th>total_protein</th>\n",
       "    </tr>\n",
       "  </thead>\n",
       "  <tbody>\n",
       "    <tr>\n",
       "      <th>5</th>\n",
       "      <td>2.0</td>\n",
       "      <td>1</td>\n",
       "      <td>528355</td>\n",
       "      <td>NaN</td>\n",
       "      <td>NaN</td>\n",
       "      <td>NaN</td>\n",
       "      <td>2.0</td>\n",
       "      <td>2.0</td>\n",
       "      <td>2.0</td>\n",
       "      <td>1.0</td>\n",
       "      <td>NaN</td>\n",
       "      <td>NaN</td>\n",
       "    </tr>\n",
       "    <tr>\n",
       "      <th>7</th>\n",
       "      <td>1.0</td>\n",
       "      <td>1</td>\n",
       "      <td>529607</td>\n",
       "      <td>NaN</td>\n",
       "      <td>60.0</td>\n",
       "      <td>NaN</td>\n",
       "      <td>3.0</td>\n",
       "      <td>2.0</td>\n",
       "      <td>NaN</td>\n",
       "      <td>2.0</td>\n",
       "      <td>NaN</td>\n",
       "      <td>8.3</td>\n",
       "    </tr>\n",
       "    <tr>\n",
       "      <th>8</th>\n",
       "      <td>2.0</td>\n",
       "      <td>1</td>\n",
       "      <td>530051</td>\n",
       "      <td>NaN</td>\n",
       "      <td>80.0</td>\n",
       "      <td>36.0</td>\n",
       "      <td>3.0</td>\n",
       "      <td>4.0</td>\n",
       "      <td>4.0</td>\n",
       "      <td>3.0</td>\n",
       "      <td>NaN</td>\n",
       "      <td>6.2</td>\n",
       "    </tr>\n",
       "    <tr>\n",
       "      <th>16</th>\n",
       "      <td>1.0</td>\n",
       "      <td>9</td>\n",
       "      <td>5301219</td>\n",
       "      <td>NaN</td>\n",
       "      <td>128.0</td>\n",
       "      <td>36.0</td>\n",
       "      <td>3.0</td>\n",
       "      <td>3.0</td>\n",
       "      <td>4.0</td>\n",
       "      <td>2.0</td>\n",
       "      <td>4.7</td>\n",
       "      <td>7.8</td>\n",
       "    </tr>\n",
       "    <tr>\n",
       "      <th>28</th>\n",
       "      <td>1.0</td>\n",
       "      <td>1</td>\n",
       "      <td>5279442</td>\n",
       "      <td>NaN</td>\n",
       "      <td>NaN</td>\n",
       "      <td>NaN</td>\n",
       "      <td>NaN</td>\n",
       "      <td>NaN</td>\n",
       "      <td>NaN</td>\n",
       "      <td>2.0</td>\n",
       "      <td>NaN</td>\n",
       "      <td>NaN</td>\n",
       "    </tr>\n",
       "  </tbody>\n",
       "</table>\n",
       "</div>"
      ],
      "text/plain": [
       "    surgery  age  hospital_number  rectal_temperature  pulse  \\\n",
       "5       2.0    1           528355                 NaN    NaN   \n",
       "7       1.0    1           529607                 NaN   60.0   \n",
       "8       2.0    1           530051                 NaN   80.0   \n",
       "16      1.0    9          5301219                 NaN  128.0   \n",
       "28      1.0    1          5279442                 NaN    NaN   \n",
       "\n",
       "    respiratory_rate  temperature_of_extremities  abdominal_distension  pain  \\\n",
       "5                NaN                         2.0                   2.0   2.0   \n",
       "7                NaN                         3.0                   2.0   NaN   \n",
       "8               36.0                         3.0                   4.0   4.0   \n",
       "16              36.0                         3.0                   3.0   4.0   \n",
       "28               NaN                         NaN                   NaN   NaN   \n",
       "\n",
       "    outcome  abdomcentesis_total_protein  total_protein  \n",
       "5       1.0                          NaN            NaN  \n",
       "7       2.0                          NaN            8.3  \n",
       "8       3.0                          NaN            6.2  \n",
       "16      2.0                          4.7            7.8  \n",
       "28      2.0                          NaN            NaN  "
      ]
     },
     "execution_count": 45,
     "metadata": {},
     "output_type": "execute_result"
    }
   ],
   "source": [
    "horse_sample[horse_sample.rectal_temperature.isna()].head()"
   ]
  },
  {
   "cell_type": "markdown",
   "metadata": {},
   "source": [
    "Медиана в разрезе temperature_of_extremities, незначительно отличаются между группами:"
   ]
  },
  {
   "cell_type": "code",
   "execution_count": 46,
   "metadata": {
    "scrolled": true
   },
   "outputs": [
    {
     "data": {
      "text/plain": [
       "temperature_of_extremities\n",
       "1.0    38.20\n",
       "2.0    38.20\n",
       "3.0    38.10\n",
       "4.0    38.45\n",
       "Name: rectal_temperature, dtype: float64"
      ]
     },
     "execution_count": 46,
     "metadata": {},
     "output_type": "execute_result"
    }
   ],
   "source": [
    "horse_sample.groupby('temperature_of_extremities').rectal_temperature.median()"
   ]
  },
  {
   "cell_type": "markdown",
   "metadata": {},
   "source": [
    "Заполнение пропусков медианой rectal_temperature в разрезе значений temperature_of_extremities:"
   ]
  },
  {
   "cell_type": "code",
   "execution_count": 47,
   "metadata": {},
   "outputs": [],
   "source": [
    "(horse_sample.rectal_temperature.fillna(horse_sample.groupby('temperature_of_extremities').\n",
    "                                        rectal_temperature.transform('median'), inplace = True))"
   ]
  },
  {
   "cell_type": "markdown",
   "metadata": {},
   "source": [
    "Медиана в разрезе temperature_of_extremities после заполнения:"
   ]
  },
  {
   "cell_type": "code",
   "execution_count": 48,
   "metadata": {
    "scrolled": true
   },
   "outputs": [
    {
     "data": {
      "text/plain": [
       "temperature_of_extremities\n",
       "1.0    38.20\n",
       "2.0    38.20\n",
       "3.0    38.10\n",
       "4.0    38.45\n",
       "Name: rectal_temperature, dtype: float64"
      ]
     },
     "execution_count": 48,
     "metadata": {},
     "output_type": "execute_result"
    }
   ],
   "source": [
    "horse_sample.groupby('temperature_of_extremities').rectal_temperature.median()"
   ]
  },
  {
   "cell_type": "markdown",
   "metadata": {},
   "source": [
    "Фильтруем оставшиеся пропуски:"
   ]
  },
  {
   "cell_type": "code",
   "execution_count": 49,
   "metadata": {
    "scrolled": true
   },
   "outputs": [
    {
     "data": {
      "text/html": [
       "<div>\n",
       "<style scoped>\n",
       "    .dataframe tbody tr th:only-of-type {\n",
       "        vertical-align: middle;\n",
       "    }\n",
       "\n",
       "    .dataframe tbody tr th {\n",
       "        vertical-align: top;\n",
       "    }\n",
       "\n",
       "    .dataframe thead th {\n",
       "        text-align: right;\n",
       "    }\n",
       "</style>\n",
       "<table border=\"1\" class=\"dataframe\">\n",
       "  <thead>\n",
       "    <tr style=\"text-align: right;\">\n",
       "      <th></th>\n",
       "      <th>surgery</th>\n",
       "      <th>age</th>\n",
       "      <th>hospital_number</th>\n",
       "      <th>rectal_temperature</th>\n",
       "      <th>pulse</th>\n",
       "      <th>respiratory_rate</th>\n",
       "      <th>temperature_of_extremities</th>\n",
       "      <th>abdominal_distension</th>\n",
       "      <th>pain</th>\n",
       "      <th>outcome</th>\n",
       "      <th>abdomcentesis_total_protein</th>\n",
       "      <th>total_protein</th>\n",
       "    </tr>\n",
       "  </thead>\n",
       "  <tbody>\n",
       "    <tr>\n",
       "      <th>28</th>\n",
       "      <td>1.0</td>\n",
       "      <td>1</td>\n",
       "      <td>5279442</td>\n",
       "      <td>NaN</td>\n",
       "      <td>NaN</td>\n",
       "      <td>NaN</td>\n",
       "      <td>NaN</td>\n",
       "      <td>NaN</td>\n",
       "      <td>NaN</td>\n",
       "      <td>2.0</td>\n",
       "      <td>NaN</td>\n",
       "      <td>NaN</td>\n",
       "    </tr>\n",
       "    <tr>\n",
       "      <th>56</th>\n",
       "      <td>1.0</td>\n",
       "      <td>1</td>\n",
       "      <td>528872</td>\n",
       "      <td>NaN</td>\n",
       "      <td>NaN</td>\n",
       "      <td>NaN</td>\n",
       "      <td>NaN</td>\n",
       "      <td>NaN</td>\n",
       "      <td>NaN</td>\n",
       "      <td>1.0</td>\n",
       "      <td>NaN</td>\n",
       "      <td>6.7</td>\n",
       "    </tr>\n",
       "    <tr>\n",
       "      <th>74</th>\n",
       "      <td>1.0</td>\n",
       "      <td>9</td>\n",
       "      <td>5292929</td>\n",
       "      <td>NaN</td>\n",
       "      <td>NaN</td>\n",
       "      <td>NaN</td>\n",
       "      <td>NaN</td>\n",
       "      <td>NaN</td>\n",
       "      <td>NaN</td>\n",
       "      <td>2.0</td>\n",
       "      <td>NaN</td>\n",
       "      <td>4.9</td>\n",
       "    </tr>\n",
       "    <tr>\n",
       "      <th>87</th>\n",
       "      <td>2.0</td>\n",
       "      <td>1</td>\n",
       "      <td>528006</td>\n",
       "      <td>NaN</td>\n",
       "      <td>40.0</td>\n",
       "      <td>16.0</td>\n",
       "      <td>NaN</td>\n",
       "      <td>NaN</td>\n",
       "      <td>NaN</td>\n",
       "      <td>3.0</td>\n",
       "      <td>3.9</td>\n",
       "      <td>7.0</td>\n",
       "    </tr>\n",
       "    <tr>\n",
       "      <th>96</th>\n",
       "      <td>2.0</td>\n",
       "      <td>1</td>\n",
       "      <td>530319</td>\n",
       "      <td>NaN</td>\n",
       "      <td>84.0</td>\n",
       "      <td>36.0</td>\n",
       "      <td>NaN</td>\n",
       "      <td>1.0</td>\n",
       "      <td>NaN</td>\n",
       "      <td>1.0</td>\n",
       "      <td>NaN</td>\n",
       "      <td>8.5</td>\n",
       "    </tr>\n",
       "  </tbody>\n",
       "</table>\n",
       "</div>"
      ],
      "text/plain": [
       "    surgery  age  hospital_number  rectal_temperature  pulse  \\\n",
       "28      1.0    1          5279442                 NaN    NaN   \n",
       "56      1.0    1           528872                 NaN    NaN   \n",
       "74      1.0    9          5292929                 NaN    NaN   \n",
       "87      2.0    1           528006                 NaN   40.0   \n",
       "96      2.0    1           530319                 NaN   84.0   \n",
       "\n",
       "    respiratory_rate  temperature_of_extremities  abdominal_distension  pain  \\\n",
       "28               NaN                         NaN                   NaN   NaN   \n",
       "56               NaN                         NaN                   NaN   NaN   \n",
       "74               NaN                         NaN                   NaN   NaN   \n",
       "87              16.0                         NaN                   NaN   NaN   \n",
       "96              36.0                         NaN                   1.0   NaN   \n",
       "\n",
       "    outcome  abdomcentesis_total_protein  total_protein  \n",
       "28      2.0                          NaN            NaN  \n",
       "56      1.0                          NaN            6.7  \n",
       "74      2.0                          NaN            4.9  \n",
       "87      3.0                          3.9            7.0  \n",
       "96      1.0                          NaN            8.5  "
      ]
     },
     "execution_count": 49,
     "metadata": {},
     "output_type": "execute_result"
    }
   ],
   "source": [
    "horse_sample[horse_sample.rectal_temperature.isna()].head()"
   ]
  },
  {
   "cell_type": "markdown",
   "metadata": {},
   "source": [
    "Медиана в разрезе surgery-outcome:"
   ]
  },
  {
   "cell_type": "code",
   "execution_count": 50,
   "metadata": {
    "scrolled": true
   },
   "outputs": [
    {
     "name": "stdout",
     "output_type": "stream",
     "text": [
      "surgery  outcome\n",
      "1.0      1.0        38.2\n",
      "         2.0        38.1\n",
      "         3.0        38.1\n",
      "2.0      1.0        38.2\n",
      "         2.0        38.1\n",
      "         3.0        38.1\n",
      "Name: rectal_temperature, dtype: float64\n"
     ]
    }
   ],
   "source": [
    "print(horse_sample.groupby(['surgery', 'outcome']).rectal_temperature.median())"
   ]
  },
  {
   "cell_type": "markdown",
   "metadata": {},
   "source": [
    "Заполняем пропуски медианой rectal_temperature в разрезе значений surgery-outcome. Смотрим медианы в разрезе surgery-outcome после заполнения:"
   ]
  },
  {
   "cell_type": "code",
   "execution_count": 51,
   "metadata": {
    "scrolled": false
   },
   "outputs": [
    {
     "data": {
      "text/plain": [
       "surgery  outcome\n",
       "1.0      1.0        38.2\n",
       "         2.0        38.1\n",
       "         3.0        38.1\n",
       "2.0      1.0        38.2\n",
       "         2.0        38.1\n",
       "         3.0        38.1\n",
       "Name: rectal_temperature, dtype: float64"
      ]
     },
     "execution_count": 51,
     "metadata": {},
     "output_type": "execute_result"
    }
   ],
   "source": [
    "(horse_sample.rectal_temperature.fillna(horse_sample.groupby(['surgery', 'outcome']).\n",
    "                                        rectal_temperature.transform('median'), inplace = True))\n",
    "horse_sample.groupby(['surgery', 'outcome']).rectal_temperature.median()"
   ]
  },
  {
   "cell_type": "markdown",
   "metadata": {},
   "source": [
    "Статистики до и после заполнения:"
   ]
  },
  {
   "cell_type": "code",
   "execution_count": 52,
   "metadata": {},
   "outputs": [
    {
     "name": "stdout",
     "output_type": "stream",
     "text": [
      "before count    233.000000\n",
      "mean      38.168240\n",
      "std        0.739539\n",
      "min       35.400000\n",
      "25%       37.800000\n",
      "50%       38.200000\n",
      "75%       38.500000\n",
      "max       40.800000\n",
      "Name: rectal_temperature, dtype: float64\n",
      "after count    289.000000\n",
      "mean      38.169377\n",
      "std        0.665641\n",
      "min       35.400000\n",
      "25%       37.900000\n",
      "50%       38.100000\n",
      "75%       38.500000\n",
      "max       40.800000\n",
      "Name: rectal_temperature, dtype: float64\n"
     ]
    }
   ],
   "source": [
    "print(\"before\", rect_temp_pre)\n",
    "print(\"after\", horse_sample.describe()['rectal_temperature'])"
   ]
  },
  {
   "cell_type": "markdown",
   "metadata": {},
   "source": [
    "* rectal_temperature это числовой показатель, у которого есть смежный по смыслу temperature_of_extremities.\n",
    "* Подставляем медиану на основе группировки по temperature_of_extremities.\n",
    "* Но в temperature_of_extremities есть пропуски, для этих случаев подставляем медиану по surgery и outcome.\n",
    "* Surgery и outcome единственные полностью (с учетом одного заполненного ранее пропуска) заполненные смысловые столбцы, значения которых наиболее вероятно связаны с другими показателями. Столбец type_of_lesion судя по описанию имеет слишком много значений, потеря обобщения. К тому же в нем есть нулевые значения, то есть пропуски. Значение столбца surgical_lesion не до конца ясно и кажется менее надежным для заполнения пропусков.\n",
    "* После подстановки групповые медианы не изменились. Общие статистики изменились незначительно."
   ]
  },
  {
   "cell_type": "markdown",
   "metadata": {},
   "source": [
    "### Признак pulse"
   ]
  },
  {
   "cell_type": "markdown",
   "metadata": {},
   "source": [
    "#### Распределение значений:"
   ]
  },
  {
   "cell_type": "markdown",
   "metadata": {},
   "source": [
    "IQR, разброс:"
   ]
  },
  {
   "cell_type": "code",
   "execution_count": 53,
   "metadata": {
    "scrolled": true
   },
   "outputs": [
    {
     "name": "stdout",
     "output_type": "stream",
     "text": [
      "40.0\n",
      "154.0\n"
     ]
    }
   ],
   "source": [
    "horse_stat = horse_sample.describe()\n",
    "print(horse_stat['pulse']['75%'] - horse_stat['pulse']['25%'])\n",
    "print(horse_stat['pulse']['max'] - horse_stat['pulse']['min'])"
   ]
  },
  {
   "cell_type": "markdown",
   "metadata": {},
   "source": [
    "Статистики:"
   ]
  },
  {
   "cell_type": "code",
   "execution_count": 54,
   "metadata": {},
   "outputs": [
    {
     "data": {
      "text/plain": [
       "count    267.000000\n",
       "mean      71.842697\n",
       "std       28.866519\n",
       "min       30.000000\n",
       "25%       48.000000\n",
       "50%       64.000000\n",
       "75%       88.000000\n",
       "max      184.000000\n",
       "Name: pulse, dtype: float64"
      ]
     },
     "execution_count": 54,
     "metadata": {},
     "output_type": "execute_result"
    }
   ],
   "source": [
    "puls_pre = horse_stat['pulse']\n",
    "puls_pre "
   ]
  },
  {
   "cell_type": "markdown",
   "metadata": {},
   "source": [
    "* Среднее 71.8, медиана 64 уд/мин, среднее выше медианы, вероятно распределение скошено вправо. Норма для взрослых лошадей 30-40, то есть в среднем пульс повышен.<br>\n",
    "* В среднем значения отклоняются от среднего на 28.9, учитывая норму - довольно значительная вариация.<br>\n",
    "* IQR 40, разброс 154.<br>\n",
    "* 75% случаев показатель меньше 88, норма 30-40, max 184 кажется запредельным, возможно выброс или ошибка."
   ]
  },
  {
   "cell_type": "markdown",
   "metadata": {},
   "source": [
    "#### Выбросы:"
   ]
  },
  {
   "cell_type": "markdown",
   "metadata": {},
   "source": [
    "Границы выбросов по методу IQR. Отрицательное значение говорит о значительной вариации:"
   ]
  },
  {
   "cell_type": "code",
   "execution_count": 55,
   "metadata": {
    "scrolled": true
   },
   "outputs": [
    {
     "data": {
      "text/plain": [
       "(-12.0, 148.0)"
      ]
     },
     "execution_count": 55,
     "metadata": {},
     "output_type": "execute_result"
    }
   ],
   "source": [
    "pulse_lb = horse_stat['pulse']['25%'] - (1.5 * (horse_stat['pulse']['75%'] - horse_stat['pulse']['25%'])) \n",
    "pulse_ub = horse_stat['pulse']['75%'] + (1.5 * (horse_stat['pulse']['75%'] - horse_stat['pulse']['25%']))\n",
    "pulse_lb, pulse_ub"
   ]
  },
  {
   "cell_type": "markdown",
   "metadata": {},
   "source": [
    "Распределение значений:"
   ]
  },
  {
   "cell_type": "code",
   "execution_count": 56,
   "metadata": {
    "scrolled": true
   },
   "outputs": [
    {
     "data": {
      "text/plain": [
       "30.0      2\n",
       "36.0      3\n",
       "38.0      1\n",
       "40.0     18\n",
       "42.0     10\n",
       "44.0     11\n",
       "45.0      2\n",
       "46.0      1\n",
       "48.0     26\n",
       "49.0      1\n",
       "50.0      6\n",
       "52.0     11\n",
       "54.0      7\n",
       "56.0      7\n",
       "60.0     25\n",
       "64.0      8\n",
       "65.0      1\n",
       "66.0      6\n",
       "68.0      5\n",
       "70.0      3\n",
       "72.0     10\n",
       "75.0      1\n",
       "76.0      4\n",
       "78.0      3\n",
       "80.0      7\n",
       "82.0      1\n",
       "84.0      8\n",
       "86.0      3\n",
       "88.0     12\n",
       "90.0      3\n",
       "92.0      4\n",
       "96.0      7\n",
       "98.0      1\n",
       "100.0     9\n",
       "104.0     5\n",
       "108.0     3\n",
       "110.0     1\n",
       "112.0     3\n",
       "114.0     2\n",
       "120.0    10\n",
       "124.0     2\n",
       "128.0     1\n",
       "129.0     1\n",
       "130.0     2\n",
       "132.0     1\n",
       "136.0     1\n",
       "140.0     2\n",
       "146.0     1\n",
       "150.0     2\n",
       "160.0     1\n",
       "164.0     1\n",
       "184.0     1\n",
       "Name: pulse, dtype: int64"
      ]
     },
     "execution_count": 56,
     "metadata": {},
     "output_type": "execute_result"
    }
   ],
   "source": [
    "horse_sample.pulse.value_counts().sort_index()"
   ]
  },
  {
   "cell_type": "markdown",
   "metadata": {},
   "source": [
    "Статистики до и после исключения потенциальных выбросов:"
   ]
  },
  {
   "cell_type": "code",
   "execution_count": 57,
   "metadata": {
    "scrolled": true
   },
   "outputs": [
    {
     "name": "stdout",
     "output_type": "stream",
     "text": [
      "before count    267.000000\n",
      "mean      71.842697\n",
      "std       28.866519\n",
      "min       30.000000\n",
      "25%       48.000000\n",
      "50%       64.000000\n",
      "75%       88.000000\n",
      "max      184.000000\n",
      "Name: pulse, dtype: float64\n",
      "\n",
      "after count    262.000000\n",
      "mean      70.129771\n",
      "std       26.248269\n",
      "min       30.000000\n",
      "25%       48.000000\n",
      "50%       62.000000\n",
      "75%       88.000000\n",
      "max      146.000000\n",
      "Name: pulse, dtype: float64\n"
     ]
    },
    {
     "name": "stderr",
     "output_type": "stream",
     "text": [
      "C:\\Users\\YULIAN~2\\AppData\\Local\\Temp/ipykernel_10920/4272104808.py:1: FutureWarning: Boolean inputs to the `inclusive` argument are deprecated infavour of `both` or `neither`.\n",
      "  horse_excl_out_pulse = horse_sample[horse_sample.pulse.between(pulse_lb, pulse_ub, inclusive = True)]\n"
     ]
    }
   ],
   "source": [
    "horse_excl_out_pulse = horse_sample[horse_sample.pulse.between(pulse_lb, pulse_ub, inclusive = True)]\n",
    "print(\"before\", puls_pre)\n",
    "print('')\n",
    "print(\"after\", horse_excl_out_pulse.describe()['pulse'])"
   ]
  },
  {
   "cell_type": "markdown",
   "metadata": {},
   "source": [
    "Фильтруем потенциальные выбросы:"
   ]
  },
  {
   "cell_type": "code",
   "execution_count": 58,
   "metadata": {
    "scrolled": true
   },
   "outputs": [
    {
     "data": {
      "text/html": [
       "<div>\n",
       "<style scoped>\n",
       "    .dataframe tbody tr th:only-of-type {\n",
       "        vertical-align: middle;\n",
       "    }\n",
       "\n",
       "    .dataframe tbody tr th {\n",
       "        vertical-align: top;\n",
       "    }\n",
       "\n",
       "    .dataframe thead th {\n",
       "        text-align: right;\n",
       "    }\n",
       "</style>\n",
       "<table border=\"1\" class=\"dataframe\">\n",
       "  <thead>\n",
       "    <tr style=\"text-align: right;\">\n",
       "      <th></th>\n",
       "      <th>surgery</th>\n",
       "      <th>age</th>\n",
       "      <th>hospital_number</th>\n",
       "      <th>rectal_temperature</th>\n",
       "      <th>pulse</th>\n",
       "      <th>respiratory_rate</th>\n",
       "      <th>temperature_of_extremities</th>\n",
       "      <th>abdominal_distension</th>\n",
       "      <th>pain</th>\n",
       "      <th>outcome</th>\n",
       "      <th>abdomcentesis_total_protein</th>\n",
       "      <th>total_protein</th>\n",
       "    </tr>\n",
       "  </thead>\n",
       "  <tbody>\n",
       "    <tr>\n",
       "      <th>3</th>\n",
       "      <td>1.0</td>\n",
       "      <td>9</td>\n",
       "      <td>5290409</td>\n",
       "      <td>39.1</td>\n",
       "      <td>164.0</td>\n",
       "      <td>84.0</td>\n",
       "      <td>4.0</td>\n",
       "      <td>4.0</td>\n",
       "      <td>2.0</td>\n",
       "      <td>2.0</td>\n",
       "      <td>5.3</td>\n",
       "      <td>7.2</td>\n",
       "    </tr>\n",
       "    <tr>\n",
       "      <th>41</th>\n",
       "      <td>2.0</td>\n",
       "      <td>9</td>\n",
       "      <td>5288249</td>\n",
       "      <td>39.0</td>\n",
       "      <td>150.0</td>\n",
       "      <td>72.0</td>\n",
       "      <td>NaN</td>\n",
       "      <td>NaN</td>\n",
       "      <td>NaN</td>\n",
       "      <td>1.0</td>\n",
       "      <td>0.1</td>\n",
       "      <td>8.5</td>\n",
       "    </tr>\n",
       "    <tr>\n",
       "      <th>55</th>\n",
       "      <td>1.0</td>\n",
       "      <td>9</td>\n",
       "      <td>5282839</td>\n",
       "      <td>38.6</td>\n",
       "      <td>160.0</td>\n",
       "      <td>20.0</td>\n",
       "      <td>3.0</td>\n",
       "      <td>4.0</td>\n",
       "      <td>3.0</td>\n",
       "      <td>2.0</td>\n",
       "      <td>NaN</td>\n",
       "      <td>NaN</td>\n",
       "    </tr>\n",
       "    <tr>\n",
       "      <th>255</th>\n",
       "      <td>1.0</td>\n",
       "      <td>9</td>\n",
       "      <td>5294539</td>\n",
       "      <td>38.8</td>\n",
       "      <td>184.0</td>\n",
       "      <td>84.0</td>\n",
       "      <td>1.0</td>\n",
       "      <td>3.0</td>\n",
       "      <td>4.0</td>\n",
       "      <td>2.0</td>\n",
       "      <td>NaN</td>\n",
       "      <td>3.3</td>\n",
       "    </tr>\n",
       "    <tr>\n",
       "      <th>275</th>\n",
       "      <td>1.0</td>\n",
       "      <td>9</td>\n",
       "      <td>5297159</td>\n",
       "      <td>38.8</td>\n",
       "      <td>150.0</td>\n",
       "      <td>50.0</td>\n",
       "      <td>1.0</td>\n",
       "      <td>2.0</td>\n",
       "      <td>5.0</td>\n",
       "      <td>2.0</td>\n",
       "      <td>NaN</td>\n",
       "      <td>6.2</td>\n",
       "    </tr>\n",
       "  </tbody>\n",
       "</table>\n",
       "</div>"
      ],
      "text/plain": [
       "     surgery  age  hospital_number  rectal_temperature  pulse  \\\n",
       "3        1.0    9          5290409                39.1  164.0   \n",
       "41       2.0    9          5288249                39.0  150.0   \n",
       "55       1.0    9          5282839                38.6  160.0   \n",
       "255      1.0    9          5294539                38.8  184.0   \n",
       "275      1.0    9          5297159                38.8  150.0   \n",
       "\n",
       "     respiratory_rate  temperature_of_extremities  abdominal_distension  pain  \\\n",
       "3                84.0                         4.0                   4.0   2.0   \n",
       "41               72.0                         NaN                   NaN   NaN   \n",
       "55               20.0                         3.0                   4.0   3.0   \n",
       "255              84.0                         1.0                   3.0   4.0   \n",
       "275              50.0                         1.0                   2.0   5.0   \n",
       "\n",
       "     outcome  abdomcentesis_total_protein  total_protein  \n",
       "3        2.0                          5.3            7.2  \n",
       "41       1.0                          0.1            8.5  \n",
       "55       2.0                          NaN            NaN  \n",
       "255      2.0                          NaN            3.3  \n",
       "275      2.0                          NaN            6.2  "
      ]
     },
     "execution_count": 58,
     "metadata": {},
     "output_type": "execute_result"
    }
   ],
   "source": [
    "pulse_out = pd.concat([horse_sample, horse_excl_out_pulse]).drop_duplicates(keep = False)\n",
    "pulse_out[pulse_out.pulse.notnull()]"
   ]
  },
  {
   "cell_type": "markdown",
   "metadata": {},
   "source": [
    "Исключаем выброс:"
   ]
  },
  {
   "cell_type": "code",
   "execution_count": 59,
   "metadata": {},
   "outputs": [],
   "source": [
    "horse_sample = horse_sample.drop(horse_sample[horse_sample.pulse == 184].index)"
   ]
  },
  {
   "cell_type": "markdown",
   "metadata": {},
   "source": [
    "* В правом хвосте значения увеличиваются постепенно, без скачков до 164, потом скачок на 184 - может быть ошибка ввода/измерения.<br>\n",
    "* Левый хвост начинается с нижней границы нормы - странно, но не похоже на ошибку. Возможно при таких болезнях этот показатель ниже нормы не бывает.<br>\n",
    "<br>\n",
    "* Исключение выбросов немного изменило среднее, ср.кв.откл и медиану.<br>\n",
    "* Будем считать, что у выбросов естественные причины и их нужно оставить в выборке, кроме значения 184. В случае с значением 184 была операция, сильная боль, смерть - значения разных показателей выглядят вполне согласованно.<br>\n",
    "* Можно сгруппировать случаи с сильной болью, операцией, смертью и посмотреть какой там интверал значений pulse. Можно попробовать выяснить, является ли такое значение теоретически возможным.<br>\n",
    "* Но на данный момент, так как есть скачок в значениях - исключим 184.<br>"
   ]
  },
  {
   "cell_type": "markdown",
   "metadata": {},
   "source": [
    "#### Пропуски:"
   ]
  },
  {
   "cell_type": "markdown",
   "metadata": {},
   "source": [
    "Кол-во пропусков - 7% пропусков, 22 пропуска:"
   ]
  },
  {
   "cell_type": "code",
   "execution_count": 60,
   "metadata": {
    "scrolled": true
   },
   "outputs": [
    {
     "name": "stdout",
     "output_type": "stream",
     "text": [
      "7.64\n",
      "22\n"
     ]
    }
   ],
   "source": [
    "print(horse_sample['pulse'].isna().mean().round(4) * 100) \n",
    "print(horse_sample['pulse'].isna().sum())"
   ]
  },
  {
   "cell_type": "markdown",
   "metadata": {},
   "source": [
    "Фильтруем пропуски:"
   ]
  },
  {
   "cell_type": "code",
   "execution_count": 61,
   "metadata": {
    "scrolled": true
   },
   "outputs": [
    {
     "data": {
      "text/html": [
       "<div>\n",
       "<style scoped>\n",
       "    .dataframe tbody tr th:only-of-type {\n",
       "        vertical-align: middle;\n",
       "    }\n",
       "\n",
       "    .dataframe tbody tr th {\n",
       "        vertical-align: top;\n",
       "    }\n",
       "\n",
       "    .dataframe thead th {\n",
       "        text-align: right;\n",
       "    }\n",
       "</style>\n",
       "<table border=\"1\" class=\"dataframe\">\n",
       "  <thead>\n",
       "    <tr style=\"text-align: right;\">\n",
       "      <th></th>\n",
       "      <th>surgery</th>\n",
       "      <th>age</th>\n",
       "      <th>hospital_number</th>\n",
       "      <th>rectal_temperature</th>\n",
       "      <th>pulse</th>\n",
       "      <th>respiratory_rate</th>\n",
       "      <th>temperature_of_extremities</th>\n",
       "      <th>abdominal_distension</th>\n",
       "      <th>pain</th>\n",
       "      <th>outcome</th>\n",
       "      <th>abdomcentesis_total_protein</th>\n",
       "      <th>total_protein</th>\n",
       "    </tr>\n",
       "  </thead>\n",
       "  <tbody>\n",
       "    <tr>\n",
       "      <th>5</th>\n",
       "      <td>2.0</td>\n",
       "      <td>1</td>\n",
       "      <td>528355</td>\n",
       "      <td>38.20</td>\n",
       "      <td>NaN</td>\n",
       "      <td>NaN</td>\n",
       "      <td>2.0</td>\n",
       "      <td>2.0</td>\n",
       "      <td>2.0</td>\n",
       "      <td>1.0</td>\n",
       "      <td>NaN</td>\n",
       "      <td>NaN</td>\n",
       "    </tr>\n",
       "    <tr>\n",
       "      <th>28</th>\n",
       "      <td>1.0</td>\n",
       "      <td>1</td>\n",
       "      <td>5279442</td>\n",
       "      <td>38.10</td>\n",
       "      <td>NaN</td>\n",
       "      <td>NaN</td>\n",
       "      <td>NaN</td>\n",
       "      <td>NaN</td>\n",
       "      <td>NaN</td>\n",
       "      <td>2.0</td>\n",
       "      <td>NaN</td>\n",
       "      <td>NaN</td>\n",
       "    </tr>\n",
       "    <tr>\n",
       "      <th>52</th>\n",
       "      <td>2.0</td>\n",
       "      <td>1</td>\n",
       "      <td>529483</td>\n",
       "      <td>38.20</td>\n",
       "      <td>NaN</td>\n",
       "      <td>NaN</td>\n",
       "      <td>1.0</td>\n",
       "      <td>1.0</td>\n",
       "      <td>1.0</td>\n",
       "      <td>1.0</td>\n",
       "      <td>NaN</td>\n",
       "      <td>7.7</td>\n",
       "    </tr>\n",
       "    <tr>\n",
       "      <th>56</th>\n",
       "      <td>1.0</td>\n",
       "      <td>1</td>\n",
       "      <td>528872</td>\n",
       "      <td>38.20</td>\n",
       "      <td>NaN</td>\n",
       "      <td>NaN</td>\n",
       "      <td>NaN</td>\n",
       "      <td>NaN</td>\n",
       "      <td>NaN</td>\n",
       "      <td>1.0</td>\n",
       "      <td>NaN</td>\n",
       "      <td>6.7</td>\n",
       "    </tr>\n",
       "    <tr>\n",
       "      <th>58</th>\n",
       "      <td>1.0</td>\n",
       "      <td>1</td>\n",
       "      <td>528298</td>\n",
       "      <td>38.45</td>\n",
       "      <td>NaN</td>\n",
       "      <td>20.0</td>\n",
       "      <td>4.0</td>\n",
       "      <td>3.0</td>\n",
       "      <td>5.0</td>\n",
       "      <td>2.0</td>\n",
       "      <td>NaN</td>\n",
       "      <td>5.9</td>\n",
       "    </tr>\n",
       "  </tbody>\n",
       "</table>\n",
       "</div>"
      ],
      "text/plain": [
       "    surgery  age  hospital_number  rectal_temperature  pulse  \\\n",
       "5       2.0    1           528355               38.20    NaN   \n",
       "28      1.0    1          5279442               38.10    NaN   \n",
       "52      2.0    1           529483               38.20    NaN   \n",
       "56      1.0    1           528872               38.20    NaN   \n",
       "58      1.0    1           528298               38.45    NaN   \n",
       "\n",
       "    respiratory_rate  temperature_of_extremities  abdominal_distension  pain  \\\n",
       "5                NaN                         2.0                   2.0   2.0   \n",
       "28               NaN                         NaN                   NaN   NaN   \n",
       "52               NaN                         1.0                   1.0   1.0   \n",
       "56               NaN                         NaN                   NaN   NaN   \n",
       "58              20.0                         4.0                   3.0   5.0   \n",
       "\n",
       "    outcome  abdomcentesis_total_protein  total_protein  \n",
       "5       1.0                          NaN            NaN  \n",
       "28      2.0                          NaN            NaN  \n",
       "52      1.0                          NaN            7.7  \n",
       "56      1.0                          NaN            6.7  \n",
       "58      2.0                          NaN            5.9  "
      ]
     },
     "execution_count": 61,
     "metadata": {},
     "output_type": "execute_result"
    }
   ],
   "source": [
    "horse_sample[horse_sample.pulse.isna()].head()"
   ]
  },
  {
   "cell_type": "markdown",
   "metadata": {},
   "source": [
    "Медиана в разрезе surgery-outcome:"
   ]
  },
  {
   "cell_type": "code",
   "execution_count": 62,
   "metadata": {
    "scrolled": true
   },
   "outputs": [
    {
     "name": "stdout",
     "output_type": "stream",
     "text": [
      "surgery  outcome\n",
      "1.0      1.0        60.0\n",
      "         2.0        84.0\n",
      "         3.0        80.0\n",
      "2.0      1.0        52.0\n",
      "         2.0        90.0\n",
      "         3.0        82.0\n",
      "Name: pulse, dtype: float64\n"
     ]
    }
   ],
   "source": [
    "print(horse_sample.groupby(['surgery', 'outcome']).pulse.median()) "
   ]
  },
  {
   "cell_type": "markdown",
   "metadata": {},
   "source": [
    "Заполнение пропусков медианой в разрезе значений surgery-outcome:"
   ]
  },
  {
   "cell_type": "code",
   "execution_count": 63,
   "metadata": {},
   "outputs": [],
   "source": [
    "(horse_sample.pulse.fillna(horse_sample.groupby(['surgery', 'outcome']).\n",
    "                                        pulse.transform('median'), inplace = True))"
   ]
  },
  {
   "cell_type": "markdown",
   "metadata": {},
   "source": [
    "Медиана в разрезе surgery-outcome после заполнения пропусков:"
   ]
  },
  {
   "cell_type": "code",
   "execution_count": 64,
   "metadata": {
    "scrolled": true
   },
   "outputs": [
    {
     "data": {
      "text/plain": [
       "surgery  outcome\n",
       "1.0      1.0        60.0\n",
       "         2.0        84.0\n",
       "         3.0        80.0\n",
       "2.0      1.0        52.0\n",
       "         2.0        90.0\n",
       "         3.0        82.0\n",
       "Name: pulse, dtype: float64"
      ]
     },
     "execution_count": 64,
     "metadata": {},
     "output_type": "execute_result"
    }
   ],
   "source": [
    "horse_sample.groupby(['surgery', 'outcome']).pulse.median()"
   ]
  },
  {
   "cell_type": "markdown",
   "metadata": {},
   "source": [
    "Статистики до и после заполнения:"
   ]
  },
  {
   "cell_type": "code",
   "execution_count": 65,
   "metadata": {},
   "outputs": [
    {
     "name": "stdout",
     "output_type": "stream",
     "text": [
      "before count    267.000000\n",
      "mean      71.842697\n",
      "std       28.866519\n",
      "min       30.000000\n",
      "25%       48.000000\n",
      "50%       64.000000\n",
      "75%       88.000000\n",
      "max      184.000000\n",
      "Name: pulse, dtype: float64\n",
      "\n",
      "after count    288.000000\n",
      "mean      71.277778\n",
      "std       27.289120\n",
      "min       30.000000\n",
      "25%       48.000000\n",
      "50%       64.000000\n",
      "75%       88.000000\n",
      "max      164.000000\n",
      "Name: pulse, dtype: float64\n"
     ]
    }
   ],
   "source": [
    "print(\"before\", puls_pre)\n",
    "print('')\n",
    "print(\"after\", horse_sample.describe()['pulse'])"
   ]
  },
  {
   "cell_type": "markdown",
   "metadata": {},
   "source": [
    "* Числовой показатель, подставляем медиану на основе группировки по surgery и outcome.<br>\n",
    "* После подстановки групповые медианы не изменились. Общие статистики изменились незначительно."
   ]
  },
  {
   "cell_type": "markdown",
   "metadata": {},
   "source": [
    "### Признак respiratory_rate"
   ]
  },
  {
   "cell_type": "markdown",
   "metadata": {},
   "source": [
    "#### Распределение значений:"
   ]
  },
  {
   "cell_type": "markdown",
   "metadata": {},
   "source": [
    "IQR, разброс:"
   ]
  },
  {
   "cell_type": "code",
   "execution_count": 66,
   "metadata": {
    "scrolled": true
   },
   "outputs": [
    {
     "name": "stdout",
     "output_type": "stream",
     "text": [
      "18.0\n",
      "88.0\n"
     ]
    }
   ],
   "source": [
    "horse_stat = horse_sample.describe()\n",
    "print(horse_stat['respiratory_rate']['75%'] - horse_stat['respiratory_rate']['25%'])\n",
    "print(horse_stat['respiratory_rate']['max'] - horse_stat['respiratory_rate']['min'])"
   ]
  },
  {
   "cell_type": "markdown",
   "metadata": {},
   "source": [
    "Статистики:"
   ]
  },
  {
   "cell_type": "code",
   "execution_count": 67,
   "metadata": {},
   "outputs": [
    {
     "data": {
      "text/plain": [
       "count    233.000000\n",
       "mean      30.261803\n",
       "std       17.574108\n",
       "min        8.000000\n",
       "25%       18.000000\n",
       "50%       24.000000\n",
       "75%       36.000000\n",
       "max       96.000000\n",
       "Name: respiratory_rate, dtype: float64"
      ]
     },
     "execution_count": 67,
     "metadata": {},
     "output_type": "execute_result"
    }
   ],
   "source": [
    "resp_rat_pre = horse_stat['respiratory_rate']\n",
    "resp_rat_pre"
   ]
  },
  {
   "cell_type": "markdown",
   "metadata": {},
   "source": [
    "* Среднее 30.3, медиана 24, среднее выше медианы, вероятно распределение скошено вправо. Норма 8-10, то есть в среднем значение повышенное.<br>\n",
    "* В среднем значения отклоняются от среднего на 17.6, учитывая норму - довольно значительная вариация.<br>\n",
    "* IQR 18, разброс 88, учитывая норму  - очень большой разброс.<br>\n",
    "* 75% случаев показатель меньше 36, max в 96 возможно выброс или ошибка.<br>\n",
    "* Странно, что минимальное значение в выборке является нижней границей нормы - 8. Возможно при таких болезнях этот показатель ниже нормы не бывает."
   ]
  },
  {
   "cell_type": "markdown",
   "metadata": {},
   "source": [
    "#### Выбросы:"
   ]
  },
  {
   "cell_type": "markdown",
   "metadata": {},
   "source": [
    "Границы выбросов методом IQR. Отрицательное значение говорит о значительной вариации:"
   ]
  },
  {
   "cell_type": "code",
   "execution_count": 68,
   "metadata": {},
   "outputs": [
    {
     "data": {
      "text/plain": [
       "(-9.0, 63.0)"
      ]
     },
     "execution_count": 68,
     "metadata": {},
     "output_type": "execute_result"
    }
   ],
   "source": [
    "respiratory_rate_lb = (horse_stat['respiratory_rate']['25%'] - \n",
    "                       (1.5 * (horse_stat['respiratory_rate']['75%'] - horse_stat['respiratory_rate']['25%']))) \n",
    "respiratory_rate_ub = (horse_stat['respiratory_rate']['75%'] + \n",
    "                       (1.5 * (horse_stat['respiratory_rate']['75%'] - horse_stat['respiratory_rate']['25%'])))\n",
    "respiratory_rate_lb, respiratory_rate_ub "
   ]
  },
  {
   "cell_type": "markdown",
   "metadata": {},
   "source": [
    "Распределение значений:"
   ]
  },
  {
   "cell_type": "code",
   "execution_count": 69,
   "metadata": {
    "scrolled": true
   },
   "outputs": [
    {
     "data": {
      "text/plain": [
       "8.0      1\n",
       "9.0      2\n",
       "10.0     3\n",
       "12.0    19\n",
       "13.0     1\n",
       "14.0     4\n",
       "15.0     1\n",
       "16.0    21\n",
       "18.0     8\n",
       "20.0    28\n",
       "21.0     2\n",
       "22.0     2\n",
       "23.0     1\n",
       "24.0    25\n",
       "25.0     1\n",
       "26.0     1\n",
       "28.0    12\n",
       "30.0    16\n",
       "32.0    11\n",
       "34.0     1\n",
       "35.0     3\n",
       "36.0    16\n",
       "40.0    17\n",
       "42.0     3\n",
       "44.0     2\n",
       "48.0     6\n",
       "50.0     2\n",
       "51.0     2\n",
       "52.0     1\n",
       "58.0     1\n",
       "60.0     4\n",
       "66.0     1\n",
       "68.0     3\n",
       "70.0     2\n",
       "72.0     1\n",
       "80.0     3\n",
       "84.0     1\n",
       "88.0     1\n",
       "90.0     2\n",
       "96.0     2\n",
       "Name: respiratory_rate, dtype: int64"
      ]
     },
     "execution_count": 69,
     "metadata": {},
     "output_type": "execute_result"
    }
   ],
   "source": [
    "horse_sample.respiratory_rate.value_counts().sort_index()"
   ]
  },
  {
   "cell_type": "markdown",
   "metadata": {},
   "source": [
    "Статистики после исключения потенциальных выбросов:"
   ]
  },
  {
   "cell_type": "code",
   "execution_count": 70,
   "metadata": {
    "scrolled": true
   },
   "outputs": [
    {
     "name": "stdout",
     "output_type": "stream",
     "text": [
      "before count    233.000000\n",
      "mean      30.261803\n",
      "std       17.574108\n",
      "min        8.000000\n",
      "25%       18.000000\n",
      "50%       24.000000\n",
      "75%       36.000000\n",
      "max       96.000000\n",
      "Name: respiratory_rate, dtype: float64\n",
      "\n",
      "after count    217.000000\n",
      "mean      26.658986\n",
      "std       11.579589\n",
      "min        8.000000\n",
      "25%       18.000000\n",
      "50%       24.000000\n",
      "75%       35.000000\n",
      "max       60.000000\n",
      "Name: respiratory_rate, dtype: float64\n"
     ]
    },
    {
     "name": "stderr",
     "output_type": "stream",
     "text": [
      "C:\\Users\\YULIAN~2\\AppData\\Local\\Temp/ipykernel_10920/345136059.py:1: FutureWarning: Boolean inputs to the `inclusive` argument are deprecated infavour of `both` or `neither`.\n",
      "  horse_excl_out_resp_rat = (horse_sample[horse_sample.respiratory_rate.\n"
     ]
    }
   ],
   "source": [
    "horse_excl_out_resp_rat = (horse_sample[horse_sample.respiratory_rate.\n",
    "                                        between(respiratory_rate_lb, respiratory_rate_ub, inclusive = True)])\n",
    "print(\"before\",resp_rat_pre)\n",
    "print('')\n",
    "print(\"after\",horse_excl_out_resp_rat.describe()['respiratory_rate'])"
   ]
  },
  {
   "cell_type": "markdown",
   "metadata": {},
   "source": [
    "Фильтруем потенциальные выбросы:"
   ]
  },
  {
   "cell_type": "code",
   "execution_count": 71,
   "metadata": {
    "scrolled": true
   },
   "outputs": [
    {
     "data": {
      "text/html": [
       "<div>\n",
       "<style scoped>\n",
       "    .dataframe tbody tr th:only-of-type {\n",
       "        vertical-align: middle;\n",
       "    }\n",
       "\n",
       "    .dataframe tbody tr th {\n",
       "        vertical-align: top;\n",
       "    }\n",
       "\n",
       "    .dataframe thead th {\n",
       "        text-align: right;\n",
       "    }\n",
       "</style>\n",
       "<table border=\"1\" class=\"dataframe\">\n",
       "  <thead>\n",
       "    <tr style=\"text-align: right;\">\n",
       "      <th></th>\n",
       "      <th>surgery</th>\n",
       "      <th>age</th>\n",
       "      <th>hospital_number</th>\n",
       "      <th>rectal_temperature</th>\n",
       "      <th>pulse</th>\n",
       "      <th>respiratory_rate</th>\n",
       "      <th>temperature_of_extremities</th>\n",
       "      <th>abdominal_distension</th>\n",
       "      <th>pain</th>\n",
       "      <th>outcome</th>\n",
       "      <th>abdomcentesis_total_protein</th>\n",
       "      <th>total_protein</th>\n",
       "    </tr>\n",
       "  </thead>\n",
       "  <tbody>\n",
       "    <tr>\n",
       "      <th>3</th>\n",
       "      <td>1.0</td>\n",
       "      <td>9</td>\n",
       "      <td>5290409</td>\n",
       "      <td>39.10</td>\n",
       "      <td>164.0</td>\n",
       "      <td>84.0</td>\n",
       "      <td>4.0</td>\n",
       "      <td>4.0</td>\n",
       "      <td>2.0</td>\n",
       "      <td>2.0</td>\n",
       "      <td>5.3</td>\n",
       "      <td>7.2</td>\n",
       "    </tr>\n",
       "    <tr>\n",
       "      <th>39</th>\n",
       "      <td>1.0</td>\n",
       "      <td>9</td>\n",
       "      <td>5277409</td>\n",
       "      <td>39.20</td>\n",
       "      <td>146.0</td>\n",
       "      <td>96.0</td>\n",
       "      <td>NaN</td>\n",
       "      <td>NaN</td>\n",
       "      <td>NaN</td>\n",
       "      <td>2.0</td>\n",
       "      <td>NaN</td>\n",
       "      <td>NaN</td>\n",
       "    </tr>\n",
       "    <tr>\n",
       "      <th>41</th>\n",
       "      <td>2.0</td>\n",
       "      <td>9</td>\n",
       "      <td>5288249</td>\n",
       "      <td>39.00</td>\n",
       "      <td>150.0</td>\n",
       "      <td>72.0</td>\n",
       "      <td>NaN</td>\n",
       "      <td>NaN</td>\n",
       "      <td>NaN</td>\n",
       "      <td>1.0</td>\n",
       "      <td>0.1</td>\n",
       "      <td>8.5</td>\n",
       "    </tr>\n",
       "    <tr>\n",
       "      <th>82</th>\n",
       "      <td>1.0</td>\n",
       "      <td>9</td>\n",
       "      <td>5290759</td>\n",
       "      <td>38.10</td>\n",
       "      <td>100.0</td>\n",
       "      <td>80.0</td>\n",
       "      <td>3.0</td>\n",
       "      <td>1.0</td>\n",
       "      <td>3.0</td>\n",
       "      <td>1.0</td>\n",
       "      <td>NaN</td>\n",
       "      <td>5.7</td>\n",
       "    </tr>\n",
       "    <tr>\n",
       "      <th>84</th>\n",
       "      <td>1.0</td>\n",
       "      <td>1</td>\n",
       "      <td>529849</td>\n",
       "      <td>37.80</td>\n",
       "      <td>60.0</td>\n",
       "      <td>80.0</td>\n",
       "      <td>1.0</td>\n",
       "      <td>3.0</td>\n",
       "      <td>2.0</td>\n",
       "      <td>1.0</td>\n",
       "      <td>NaN</td>\n",
       "      <td>4.5</td>\n",
       "    </tr>\n",
       "    <tr>\n",
       "      <th>103</th>\n",
       "      <td>1.0</td>\n",
       "      <td>9</td>\n",
       "      <td>5292489</td>\n",
       "      <td>38.00</td>\n",
       "      <td>140.0</td>\n",
       "      <td>68.0</td>\n",
       "      <td>1.0</td>\n",
       "      <td>2.0</td>\n",
       "      <td>3.0</td>\n",
       "      <td>1.0</td>\n",
       "      <td>NaN</td>\n",
       "      <td>5.3</td>\n",
       "    </tr>\n",
       "    <tr>\n",
       "      <th>106</th>\n",
       "      <td>1.0</td>\n",
       "      <td>1</td>\n",
       "      <td>528668</td>\n",
       "      <td>38.30</td>\n",
       "      <td>52.0</td>\n",
       "      <td>96.0</td>\n",
       "      <td>NaN</td>\n",
       "      <td>NaN</td>\n",
       "      <td>NaN</td>\n",
       "      <td>1.0</td>\n",
       "      <td>NaN</td>\n",
       "      <td>6.1</td>\n",
       "    </tr>\n",
       "    <tr>\n",
       "      <th>120</th>\n",
       "      <td>1.0</td>\n",
       "      <td>1</td>\n",
       "      <td>528682</td>\n",
       "      <td>39.40</td>\n",
       "      <td>54.0</td>\n",
       "      <td>66.0</td>\n",
       "      <td>1.0</td>\n",
       "      <td>2.0</td>\n",
       "      <td>2.0</td>\n",
       "      <td>1.0</td>\n",
       "      <td>NaN</td>\n",
       "      <td>6.0</td>\n",
       "    </tr>\n",
       "    <tr>\n",
       "      <th>125</th>\n",
       "      <td>1.0</td>\n",
       "      <td>1</td>\n",
       "      <td>528461</td>\n",
       "      <td>38.00</td>\n",
       "      <td>42.0</td>\n",
       "      <td>68.0</td>\n",
       "      <td>4.0</td>\n",
       "      <td>2.0</td>\n",
       "      <td>3.0</td>\n",
       "      <td>1.0</td>\n",
       "      <td>NaN</td>\n",
       "      <td>7.6</td>\n",
       "    </tr>\n",
       "    <tr>\n",
       "      <th>186</th>\n",
       "      <td>1.0</td>\n",
       "      <td>1</td>\n",
       "      <td>5278331</td>\n",
       "      <td>39.30</td>\n",
       "      <td>64.0</td>\n",
       "      <td>90.0</td>\n",
       "      <td>2.0</td>\n",
       "      <td>1.0</td>\n",
       "      <td>NaN</td>\n",
       "      <td>1.0</td>\n",
       "      <td>NaN</td>\n",
       "      <td>6.7</td>\n",
       "    </tr>\n",
       "    <tr>\n",
       "      <th>208</th>\n",
       "      <td>1.0</td>\n",
       "      <td>1</td>\n",
       "      <td>535338</td>\n",
       "      <td>37.80</td>\n",
       "      <td>88.0</td>\n",
       "      <td>80.0</td>\n",
       "      <td>3.0</td>\n",
       "      <td>3.0</td>\n",
       "      <td>NaN</td>\n",
       "      <td>3.0</td>\n",
       "      <td>NaN</td>\n",
       "      <td>89.0</td>\n",
       "    </tr>\n",
       "    <tr>\n",
       "      <th>229</th>\n",
       "      <td>1.0</td>\n",
       "      <td>9</td>\n",
       "      <td>534597</td>\n",
       "      <td>38.50</td>\n",
       "      <td>120.0</td>\n",
       "      <td>70.0</td>\n",
       "      <td>NaN</td>\n",
       "      <td>NaN</td>\n",
       "      <td>NaN</td>\n",
       "      <td>1.0</td>\n",
       "      <td>1.0</td>\n",
       "      <td>54.0</td>\n",
       "    </tr>\n",
       "    <tr>\n",
       "      <th>244</th>\n",
       "      <td>1.0</td>\n",
       "      <td>9</td>\n",
       "      <td>5291409</td>\n",
       "      <td>38.20</td>\n",
       "      <td>124.0</td>\n",
       "      <td>88.0</td>\n",
       "      <td>1.0</td>\n",
       "      <td>4.0</td>\n",
       "      <td>2.0</td>\n",
       "      <td>1.0</td>\n",
       "      <td>NaN</td>\n",
       "      <td>8.0</td>\n",
       "    </tr>\n",
       "    <tr>\n",
       "      <th>265</th>\n",
       "      <td>2.0</td>\n",
       "      <td>1</td>\n",
       "      <td>528590</td>\n",
       "      <td>38.10</td>\n",
       "      <td>56.0</td>\n",
       "      <td>68.0</td>\n",
       "      <td>3.0</td>\n",
       "      <td>1.0</td>\n",
       "      <td>3.0</td>\n",
       "      <td>3.0</td>\n",
       "      <td>NaN</td>\n",
       "      <td>6.0</td>\n",
       "    </tr>\n",
       "    <tr>\n",
       "      <th>269</th>\n",
       "      <td>1.0</td>\n",
       "      <td>1</td>\n",
       "      <td>527883</td>\n",
       "      <td>39.30</td>\n",
       "      <td>64.0</td>\n",
       "      <td>90.0</td>\n",
       "      <td>2.0</td>\n",
       "      <td>1.0</td>\n",
       "      <td>NaN</td>\n",
       "      <td>1.0</td>\n",
       "      <td>NaN</td>\n",
       "      <td>6.7</td>\n",
       "    </tr>\n",
       "    <tr>\n",
       "      <th>295</th>\n",
       "      <td>1.0</td>\n",
       "      <td>1</td>\n",
       "      <td>533886</td>\n",
       "      <td>38.45</td>\n",
       "      <td>120.0</td>\n",
       "      <td>70.0</td>\n",
       "      <td>4.0</td>\n",
       "      <td>NaN</td>\n",
       "      <td>2.0</td>\n",
       "      <td>3.0</td>\n",
       "      <td>NaN</td>\n",
       "      <td>65.0</td>\n",
       "    </tr>\n",
       "  </tbody>\n",
       "</table>\n",
       "</div>"
      ],
      "text/plain": [
       "     surgery  age  hospital_number  rectal_temperature  pulse  \\\n",
       "3        1.0    9          5290409               39.10  164.0   \n",
       "39       1.0    9          5277409               39.20  146.0   \n",
       "41       2.0    9          5288249               39.00  150.0   \n",
       "82       1.0    9          5290759               38.10  100.0   \n",
       "84       1.0    1           529849               37.80   60.0   \n",
       "103      1.0    9          5292489               38.00  140.0   \n",
       "106      1.0    1           528668               38.30   52.0   \n",
       "120      1.0    1           528682               39.40   54.0   \n",
       "125      1.0    1           528461               38.00   42.0   \n",
       "186      1.0    1          5278331               39.30   64.0   \n",
       "208      1.0    1           535338               37.80   88.0   \n",
       "229      1.0    9           534597               38.50  120.0   \n",
       "244      1.0    9          5291409               38.20  124.0   \n",
       "265      2.0    1           528590               38.10   56.0   \n",
       "269      1.0    1           527883               39.30   64.0   \n",
       "295      1.0    1           533886               38.45  120.0   \n",
       "\n",
       "     respiratory_rate  temperature_of_extremities  abdominal_distension  pain  \\\n",
       "3                84.0                         4.0                   4.0   2.0   \n",
       "39               96.0                         NaN                   NaN   NaN   \n",
       "41               72.0                         NaN                   NaN   NaN   \n",
       "82               80.0                         3.0                   1.0   3.0   \n",
       "84               80.0                         1.0                   3.0   2.0   \n",
       "103              68.0                         1.0                   2.0   3.0   \n",
       "106              96.0                         NaN                   NaN   NaN   \n",
       "120              66.0                         1.0                   2.0   2.0   \n",
       "125              68.0                         4.0                   2.0   3.0   \n",
       "186              90.0                         2.0                   1.0   NaN   \n",
       "208              80.0                         3.0                   3.0   NaN   \n",
       "229              70.0                         NaN                   NaN   NaN   \n",
       "244              88.0                         1.0                   4.0   2.0   \n",
       "265              68.0                         3.0                   1.0   3.0   \n",
       "269              90.0                         2.0                   1.0   NaN   \n",
       "295              70.0                         4.0                   NaN   2.0   \n",
       "\n",
       "     outcome  abdomcentesis_total_protein  total_protein  \n",
       "3        2.0                          5.3            7.2  \n",
       "39       2.0                          NaN            NaN  \n",
       "41       1.0                          0.1            8.5  \n",
       "82       1.0                          NaN            5.7  \n",
       "84       1.0                          NaN            4.5  \n",
       "103      1.0                          NaN            5.3  \n",
       "106      1.0                          NaN            6.1  \n",
       "120      1.0                          NaN            6.0  \n",
       "125      1.0                          NaN            7.6  \n",
       "186      1.0                          NaN            6.7  \n",
       "208      3.0                          NaN           89.0  \n",
       "229      1.0                          1.0           54.0  \n",
       "244      1.0                          NaN            8.0  \n",
       "265      3.0                          NaN            6.0  \n",
       "269      1.0                          NaN            6.7  \n",
       "295      3.0                          NaN           65.0  "
      ]
     },
     "execution_count": 71,
     "metadata": {},
     "output_type": "execute_result"
    }
   ],
   "source": [
    "resp_rat_out = pd.concat([horse_sample, horse_excl_out_resp_rat]).drop_duplicates(keep = False)\n",
    "resp_rat_out[resp_rat_out.respiratory_rate.notnull()]"
   ]
  },
  {
   "cell_type": "markdown",
   "metadata": {},
   "source": [
    "Исключаем признак из данных:"
   ]
  },
  {
   "cell_type": "code",
   "execution_count": 72,
   "metadata": {},
   "outputs": [],
   "source": [
    "horse_sample = horse_sample.drop(['respiratory_rate'], axis = 1)"
   ]
  },
  {
   "cell_type": "markdown",
   "metadata": {},
   "source": [
    "* В правом хвосте значения увеличиваются постепенно, без скачков - не похоже на ошибку.<br>\n",
    "* В рез-те искл. выбросов среднее несколько снизилось, приблизилось к медиане.<br>\n",
    "* Будем считать, что у значений в правом конце естественные причины.\n",
    "* В описании говорится о значительных колебаниях этого показателя и сомнениях в его полезности. Исключим этот признак из анализа."
   ]
  },
  {
   "cell_type": "markdown",
   "metadata": {},
   "source": [
    "### Признак temperature_of_extremities"
   ]
  },
  {
   "cell_type": "markdown",
   "metadata": {},
   "source": [
    "#### Распределение значений:"
   ]
  },
  {
   "cell_type": "markdown",
   "metadata": {},
   "source": [
    "Мода:"
   ]
  },
  {
   "cell_type": "code",
   "execution_count": 73,
   "metadata": {},
   "outputs": [
    {
     "data": {
      "text/plain": [
       "0    3.0\n",
       "dtype: float64"
      ]
     },
     "execution_count": 73,
     "metadata": {},
     "output_type": "execute_result"
    }
   ],
   "source": [
    "horse_sample.temperature_of_extremities.mode()"
   ]
  },
  {
   "cell_type": "markdown",
   "metadata": {},
   "source": [
    "Распределение значений:"
   ]
  },
  {
   "cell_type": "code",
   "execution_count": 74,
   "metadata": {},
   "outputs": [
    {
     "data": {
      "text/plain": [
       "3.0    102\n",
       "1.0     75\n",
       "2.0     30\n",
       "4.0     25\n",
       "Name: temperature_of_extremities, dtype: int64"
      ]
     },
     "execution_count": 74,
     "metadata": {},
     "output_type": "execute_result"
    }
   ],
   "source": [
    "horse_sample.temperature_of_extremities.value_counts()"
   ]
  },
  {
   "cell_type": "markdown",
   "metadata": {},
   "source": [
    "Распределение значений в долях:"
   ]
  },
  {
   "cell_type": "code",
   "execution_count": 75,
   "metadata": {},
   "outputs": [
    {
     "data": {
      "text/plain": [
       "3.0    0.439655\n",
       "1.0    0.323276\n",
       "2.0    0.129310\n",
       "4.0    0.107759\n",
       "Name: temperature_of_extremities, dtype: float64"
      ]
     },
     "execution_count": 75,
     "metadata": {},
     "output_type": "execute_result"
    }
   ],
   "source": [
    "horse_sample.temperature_of_extremities.value_counts(normalize = True)"
   ]
  },
  {
   "cell_type": "markdown",
   "metadata": {},
   "source": [
    "* Категориальный  1 Normal, 2 Warm, 3 Cool, 4 Cold.<br>\n",
    "* Мода, наиболее часто встречающееся значение: 3 , то есть не норма, возможный шок.<br>\n",
    "* 44% случаев - возможный шок, при этом треть - норма."
   ]
  },
  {
   "cell_type": "markdown",
   "metadata": {},
   "source": [
    "#### Пропуски:"
   ]
  },
  {
   "cell_type": "markdown",
   "metadata": {},
   "source": [
    "Кол-вo пропусков - 19% пропусков, 56 пропусков:"
   ]
  },
  {
   "cell_type": "code",
   "execution_count": 76,
   "metadata": {},
   "outputs": [
    {
     "name": "stdout",
     "output_type": "stream",
     "text": [
      "19.439999999999998\n",
      "56\n"
     ]
    }
   ],
   "source": [
    "print(horse_sample['temperature_of_extremities'].isna().mean().round(4) * 100)\n",
    "print(horse_sample['temperature_of_extremities'].isna().sum())"
   ]
  },
  {
   "cell_type": "markdown",
   "metadata": {},
   "source": [
    "Исключаем признак из данных:"
   ]
  },
  {
   "cell_type": "code",
   "execution_count": 77,
   "metadata": {},
   "outputs": [],
   "source": [
    "horse_sample.drop(['temperature_of_extremities'], axis = 1, inplace = True)"
   ]
  },
  {
   "cell_type": "markdown",
   "metadata": {},
   "source": [
    "Смежные по смыслу столбцы с rectal_temperature, поэтому можно использовать\n",
    "temperature_of_extremities для заполнения пропусков rectal_temperature,\n",
    "а сам temperature_of_extremities не использовать."
   ]
  },
  {
   "cell_type": "markdown",
   "metadata": {},
   "source": [
    "### Признак abdominal_distension"
   ]
  },
  {
   "cell_type": "markdown",
   "metadata": {},
   "source": [
    "#### Распределение значений:"
   ]
  },
  {
   "cell_type": "markdown",
   "metadata": {},
   "source": [
    "Мода:"
   ]
  },
  {
   "cell_type": "code",
   "execution_count": 78,
   "metadata": {},
   "outputs": [
    {
     "data": {
      "text/plain": [
       "0    1.0\n",
       "dtype: float64"
      ]
     },
     "execution_count": 78,
     "metadata": {},
     "output_type": "execute_result"
    }
   ],
   "source": [
    "horse_sample.abdominal_distension.mode()"
   ]
  },
  {
   "cell_type": "markdown",
   "metadata": {},
   "source": [
    "Распределение значений в долях:"
   ]
  },
  {
   "cell_type": "code",
   "execution_count": 79,
   "metadata": {},
   "outputs": [
    {
     "data": {
      "text/plain": [
       "1.0    0.314655\n",
       "2.0    0.275862\n",
       "3.0    0.262931\n",
       "4.0    0.146552\n",
       "Name: abdominal_distension, dtype: float64"
      ]
     },
     "execution_count": 79,
     "metadata": {},
     "output_type": "execute_result"
    }
   ],
   "source": [
    "horse_sample.abdominal_distension.value_counts(normalize = True)"
   ]
  },
  {
   "cell_type": "markdown",
   "metadata": {},
   "source": [
    "Распределение значений:"
   ]
  },
  {
   "cell_type": "code",
   "execution_count": 80,
   "metadata": {
    "scrolled": true
   },
   "outputs": [
    {
     "data": {
      "text/plain": [
       "1.0    73\n",
       "2.0    64\n",
       "3.0    61\n",
       "4.0    34\n",
       "Name: abdominal_distension, dtype: int64"
      ]
     },
     "execution_count": 80,
     "metadata": {},
     "output_type": "execute_result"
    }
   ],
   "source": [
    "horse_sample.abdominal_distension.value_counts()"
   ]
  },
  {
   "cell_type": "markdown",
   "metadata": {},
   "source": [
    "* Категориальный: 1 none, 2 slight, 3 moderate, 4 severe.<br>\n",
    "* Мода, наиболее часто встречающееся значение: 1 , то есть норма, скорее всего без боли, без необходимости операции.<br>\n",
    "* Относительно равномерное распределение между значениями, норма - 31 %, 15% - тяжелая форма с вероятной операцией."
   ]
  },
  {
   "cell_type": "markdown",
   "metadata": {},
   "source": [
    "#### Пропуски:"
   ]
  },
  {
   "cell_type": "markdown",
   "metadata": {},
   "source": [
    "Кол-во пропусков - 19% пропусков,  56 пропусков:"
   ]
  },
  {
   "cell_type": "code",
   "execution_count": 81,
   "metadata": {
    "scrolled": true
   },
   "outputs": [
    {
     "name": "stdout",
     "output_type": "stream",
     "text": [
      "19.439999999999998\n",
      "56\n"
     ]
    }
   ],
   "source": [
    "print(horse_sample['abdominal_distension'].isna().mean().round(4) * 100) \n",
    "print(horse_sample['abdominal_distension'].isna().sum())"
   ]
  },
  {
   "cell_type": "markdown",
   "metadata": {},
   "source": [
    "Фильтруем пропуски:"
   ]
  },
  {
   "cell_type": "code",
   "execution_count": 82,
   "metadata": {
    "scrolled": true
   },
   "outputs": [
    {
     "data": {
      "text/html": [
       "<div>\n",
       "<style scoped>\n",
       "    .dataframe tbody tr th:only-of-type {\n",
       "        vertical-align: middle;\n",
       "    }\n",
       "\n",
       "    .dataframe tbody tr th {\n",
       "        vertical-align: top;\n",
       "    }\n",
       "\n",
       "    .dataframe thead th {\n",
       "        text-align: right;\n",
       "    }\n",
       "</style>\n",
       "<table border=\"1\" class=\"dataframe\">\n",
       "  <thead>\n",
       "    <tr style=\"text-align: right;\">\n",
       "      <th></th>\n",
       "      <th>surgery</th>\n",
       "      <th>age</th>\n",
       "      <th>hospital_number</th>\n",
       "      <th>rectal_temperature</th>\n",
       "      <th>pulse</th>\n",
       "      <th>abdominal_distension</th>\n",
       "      <th>pain</th>\n",
       "      <th>outcome</th>\n",
       "      <th>abdomcentesis_total_protein</th>\n",
       "      <th>total_protein</th>\n",
       "    </tr>\n",
       "  </thead>\n",
       "  <tbody>\n",
       "    <tr>\n",
       "      <th>4</th>\n",
       "      <td>2.0</td>\n",
       "      <td>1</td>\n",
       "      <td>530255</td>\n",
       "      <td>37.3</td>\n",
       "      <td>104.0</td>\n",
       "      <td>NaN</td>\n",
       "      <td>NaN</td>\n",
       "      <td>2.0</td>\n",
       "      <td>NaN</td>\n",
       "      <td>7.4</td>\n",
       "    </tr>\n",
       "    <tr>\n",
       "      <th>17</th>\n",
       "      <td>2.0</td>\n",
       "      <td>1</td>\n",
       "      <td>526639</td>\n",
       "      <td>37.5</td>\n",
       "      <td>48.0</td>\n",
       "      <td>NaN</td>\n",
       "      <td>NaN</td>\n",
       "      <td>1.0</td>\n",
       "      <td>NaN</td>\n",
       "      <td>NaN</td>\n",
       "    </tr>\n",
       "    <tr>\n",
       "      <th>23</th>\n",
       "      <td>1.0</td>\n",
       "      <td>9</td>\n",
       "      <td>534998</td>\n",
       "      <td>38.3</td>\n",
       "      <td>130.0</td>\n",
       "      <td>NaN</td>\n",
       "      <td>2.0</td>\n",
       "      <td>1.0</td>\n",
       "      <td>NaN</td>\n",
       "      <td>70.0</td>\n",
       "    </tr>\n",
       "    <tr>\n",
       "      <th>25</th>\n",
       "      <td>2.0</td>\n",
       "      <td>1</td>\n",
       "      <td>529518</td>\n",
       "      <td>37.8</td>\n",
       "      <td>60.0</td>\n",
       "      <td>NaN</td>\n",
       "      <td>NaN</td>\n",
       "      <td>1.0</td>\n",
       "      <td>NaN</td>\n",
       "      <td>NaN</td>\n",
       "    </tr>\n",
       "    <tr>\n",
       "      <th>28</th>\n",
       "      <td>1.0</td>\n",
       "      <td>1</td>\n",
       "      <td>5279442</td>\n",
       "      <td>38.1</td>\n",
       "      <td>84.0</td>\n",
       "      <td>NaN</td>\n",
       "      <td>NaN</td>\n",
       "      <td>2.0</td>\n",
       "      <td>NaN</td>\n",
       "      <td>NaN</td>\n",
       "    </tr>\n",
       "  </tbody>\n",
       "</table>\n",
       "</div>"
      ],
      "text/plain": [
       "    surgery  age  hospital_number  rectal_temperature  pulse  \\\n",
       "4       2.0    1           530255                37.3  104.0   \n",
       "17      2.0    1           526639                37.5   48.0   \n",
       "23      1.0    9           534998                38.3  130.0   \n",
       "25      2.0    1           529518                37.8   60.0   \n",
       "28      1.0    1          5279442                38.1   84.0   \n",
       "\n",
       "    abdominal_distension  pain  outcome  abdomcentesis_total_protein  \\\n",
       "4                    NaN   NaN      2.0                          NaN   \n",
       "17                   NaN   NaN      1.0                          NaN   \n",
       "23                   NaN   2.0      1.0                          NaN   \n",
       "25                   NaN   NaN      1.0                          NaN   \n",
       "28                   NaN   NaN      2.0                          NaN   \n",
       "\n",
       "    total_protein  \n",
       "4             7.4  \n",
       "17            NaN  \n",
       "23           70.0  \n",
       "25            NaN  \n",
       "28            NaN  "
      ]
     },
     "execution_count": 82,
     "metadata": {},
     "output_type": "execute_result"
    }
   ],
   "source": [
    "horse_sample[horse_sample.abdominal_distension.isna()].head()"
   ]
  },
  {
   "cell_type": "markdown",
   "metadata": {},
   "source": [
    "Заполняем пропуски модой в разрезе значений surgery-outcome:"
   ]
  },
  {
   "cell_type": "code",
   "execution_count": 83,
   "metadata": {},
   "outputs": [
    {
     "data": {
      "text/plain": [
       "1.0    104\n",
       "3.0     74\n",
       "2.0     64\n",
       "4.0     46\n",
       "Name: abdominal_distension, dtype: int64"
      ]
     },
     "execution_count": 83,
     "metadata": {},
     "output_type": "execute_result"
    }
   ],
   "source": [
    "(horse_sample.abdominal_distension.fillna(horse_sample.groupby(['surgery','outcome']).\n",
    "                                          abdominal_distension.transform(lambda x: x.mode()[0]), inplace = True))\n",
    "horse_sample.abdominal_distension.value_counts()"
   ]
  },
  {
   "cell_type": "markdown",
   "metadata": {},
   "source": [
    "### Признак pain"
   ]
  },
  {
   "cell_type": "markdown",
   "metadata": {},
   "source": [
    "#### Распределение значений:"
   ]
  },
  {
   "cell_type": "markdown",
   "metadata": {},
   "source": [
    "Мода:"
   ]
  },
  {
   "cell_type": "code",
   "execution_count": 84,
   "metadata": {
    "scrolled": true
   },
   "outputs": [
    {
     "data": {
      "text/plain": [
       "0    3.0\n",
       "dtype: float64"
      ]
     },
     "execution_count": 84,
     "metadata": {},
     "output_type": "execute_result"
    }
   ],
   "source": [
    "horse_sample.pain.mode()"
   ]
  },
  {
   "cell_type": "markdown",
   "metadata": {},
   "source": [
    "Распределение значений в долях:"
   ]
  },
  {
   "cell_type": "code",
   "execution_count": 85,
   "metadata": {
    "scrolled": false
   },
   "outputs": [
    {
     "data": {
      "text/plain": [
       "3.0    0.282051\n",
       "2.0    0.243590\n",
       "5.0    0.162393\n",
       "1.0    0.158120\n",
       "4.0    0.153846\n",
       "Name: pain, dtype: float64"
      ]
     },
     "execution_count": 85,
     "metadata": {},
     "output_type": "execute_result"
    }
   ],
   "source": [
    "horse_sample.pain.value_counts(normalize = True)"
   ]
  },
  {
   "cell_type": "markdown",
   "metadata": {},
   "source": [
    "Распределение значений:"
   ]
  },
  {
   "cell_type": "code",
   "execution_count": 86,
   "metadata": {},
   "outputs": [
    {
     "data": {
      "text/plain": [
       "3.0    66\n",
       "2.0    57\n",
       "5.0    38\n",
       "1.0    37\n",
       "4.0    36\n",
       "Name: pain, dtype: int64"
      ]
     },
     "execution_count": 86,
     "metadata": {},
     "output_type": "execute_result"
    }
   ],
   "source": [
    "horse_sample.pain.value_counts()"
   ]
  },
  {
   "cell_type": "markdown",
   "metadata": {},
   "source": [
    "* Категориальный: 1 alert, no pain, 2 = depressed,3 = intermittent mild pain,4 = intermittent severe pain,5 = continuous severe pain.<br>\n",
    "* Мода, наиболее часто встречающееся значение: 3, прерывистая неострая боль.<br>\n",
    "* Относительно равномерное распределение между значениями, мода - 28 %.<br>"
   ]
  },
  {
   "cell_type": "markdown",
   "metadata": {},
   "source": [
    "#### Пропуски:"
   ]
  },
  {
   "cell_type": "markdown",
   "metadata": {},
   "source": [
    "Кол-во пропусков - 18% пропусков, 54 пропусков:"
   ]
  },
  {
   "cell_type": "code",
   "execution_count": 87,
   "metadata": {
    "scrolled": true
   },
   "outputs": [
    {
     "name": "stdout",
     "output_type": "stream",
     "text": [
      "18.75\n",
      "54\n"
     ]
    }
   ],
   "source": [
    "print(horse_sample['pain'].isna().mean().round(4) * 100) \n",
    "print(horse_sample['pain'].isna().sum())"
   ]
  },
  {
   "cell_type": "markdown",
   "metadata": {},
   "source": [
    "Фильтруем пропуски:"
   ]
  },
  {
   "cell_type": "code",
   "execution_count": 88,
   "metadata": {
    "scrolled": true
   },
   "outputs": [
    {
     "data": {
      "text/html": [
       "<div>\n",
       "<style scoped>\n",
       "    .dataframe tbody tr th:only-of-type {\n",
       "        vertical-align: middle;\n",
       "    }\n",
       "\n",
       "    .dataframe tbody tr th {\n",
       "        vertical-align: top;\n",
       "    }\n",
       "\n",
       "    .dataframe thead th {\n",
       "        text-align: right;\n",
       "    }\n",
       "</style>\n",
       "<table border=\"1\" class=\"dataframe\">\n",
       "  <thead>\n",
       "    <tr style=\"text-align: right;\">\n",
       "      <th></th>\n",
       "      <th>surgery</th>\n",
       "      <th>age</th>\n",
       "      <th>hospital_number</th>\n",
       "      <th>rectal_temperature</th>\n",
       "      <th>pulse</th>\n",
       "      <th>abdominal_distension</th>\n",
       "      <th>pain</th>\n",
       "      <th>outcome</th>\n",
       "      <th>abdomcentesis_total_protein</th>\n",
       "      <th>total_protein</th>\n",
       "    </tr>\n",
       "  </thead>\n",
       "  <tbody>\n",
       "    <tr>\n",
       "      <th>4</th>\n",
       "      <td>2.0</td>\n",
       "      <td>1</td>\n",
       "      <td>530255</td>\n",
       "      <td>37.3</td>\n",
       "      <td>104.0</td>\n",
       "      <td>4.0</td>\n",
       "      <td>NaN</td>\n",
       "      <td>2.0</td>\n",
       "      <td>NaN</td>\n",
       "      <td>7.4</td>\n",
       "    </tr>\n",
       "    <tr>\n",
       "      <th>7</th>\n",
       "      <td>1.0</td>\n",
       "      <td>1</td>\n",
       "      <td>529607</td>\n",
       "      <td>38.1</td>\n",
       "      <td>60.0</td>\n",
       "      <td>2.0</td>\n",
       "      <td>NaN</td>\n",
       "      <td>2.0</td>\n",
       "      <td>NaN</td>\n",
       "      <td>8.3</td>\n",
       "    </tr>\n",
       "    <tr>\n",
       "      <th>17</th>\n",
       "      <td>2.0</td>\n",
       "      <td>1</td>\n",
       "      <td>526639</td>\n",
       "      <td>37.5</td>\n",
       "      <td>48.0</td>\n",
       "      <td>1.0</td>\n",
       "      <td>NaN</td>\n",
       "      <td>1.0</td>\n",
       "      <td>NaN</td>\n",
       "      <td>NaN</td>\n",
       "    </tr>\n",
       "    <tr>\n",
       "      <th>19</th>\n",
       "      <td>2.0</td>\n",
       "      <td>1</td>\n",
       "      <td>532110</td>\n",
       "      <td>39.4</td>\n",
       "      <td>110.0</td>\n",
       "      <td>3.0</td>\n",
       "      <td>NaN</td>\n",
       "      <td>1.0</td>\n",
       "      <td>NaN</td>\n",
       "      <td>8.7</td>\n",
       "    </tr>\n",
       "    <tr>\n",
       "      <th>24</th>\n",
       "      <td>1.0</td>\n",
       "      <td>1</td>\n",
       "      <td>533692</td>\n",
       "      <td>38.1</td>\n",
       "      <td>60.0</td>\n",
       "      <td>3.0</td>\n",
       "      <td>NaN</td>\n",
       "      <td>1.0</td>\n",
       "      <td>NaN</td>\n",
       "      <td>65.0</td>\n",
       "    </tr>\n",
       "  </tbody>\n",
       "</table>\n",
       "</div>"
      ],
      "text/plain": [
       "    surgery  age  hospital_number  rectal_temperature  pulse  \\\n",
       "4       2.0    1           530255                37.3  104.0   \n",
       "7       1.0    1           529607                38.1   60.0   \n",
       "17      2.0    1           526639                37.5   48.0   \n",
       "19      2.0    1           532110                39.4  110.0   \n",
       "24      1.0    1           533692                38.1   60.0   \n",
       "\n",
       "    abdominal_distension  pain  outcome  abdomcentesis_total_protein  \\\n",
       "4                    4.0   NaN      2.0                          NaN   \n",
       "7                    2.0   NaN      2.0                          NaN   \n",
       "17                   1.0   NaN      1.0                          NaN   \n",
       "19                   3.0   NaN      1.0                          NaN   \n",
       "24                   3.0   NaN      1.0                          NaN   \n",
       "\n",
       "    total_protein  \n",
       "4             7.4  \n",
       "7             8.3  \n",
       "17            NaN  \n",
       "19            8.7  \n",
       "24           65.0  "
      ]
     },
     "execution_count": 88,
     "metadata": {},
     "output_type": "execute_result"
    }
   ],
   "source": [
    "horse_sample[horse_sample.pain.isna()].head()"
   ]
  },
  {
   "cell_type": "markdown",
   "metadata": {},
   "source": [
    "Заполнение пропусков модой в разрезе значений surgery-outcome:"
   ]
  },
  {
   "cell_type": "code",
   "execution_count": 89,
   "metadata": {},
   "outputs": [
    {
     "data": {
      "text/plain": [
       "3.0    86\n",
       "2.0    64\n",
       "5.0    50\n",
       "1.0    50\n",
       "4.0    38\n",
       "Name: pain, dtype: int64"
      ]
     },
     "execution_count": 89,
     "metadata": {},
     "output_type": "execute_result"
    }
   ],
   "source": [
    "(horse_sample.pain.fillna(horse_sample.groupby(['surgery','outcome']).\n",
    "                          pain.transform(lambda x: x.value_counts().idxmax()), inplace = True))\n",
    "horse_sample.pain.value_counts()"
   ]
  },
  {
   "cell_type": "markdown",
   "metadata": {},
   "source": [
    "### Признак abdomcentesis total protein"
   ]
  },
  {
   "cell_type": "markdown",
   "metadata": {},
   "source": [
    "#### Распределение значений:"
   ]
  },
  {
   "cell_type": "markdown",
   "metadata": {},
   "source": [
    "IQR, разброс:"
   ]
  },
  {
   "cell_type": "code",
   "execution_count": 90,
   "metadata": {
    "scrolled": true
   },
   "outputs": [
    {
     "name": "stdout",
     "output_type": "stream",
     "text": [
      "1.9\n",
      "10.0\n"
     ]
    }
   ],
   "source": [
    "horse_stat = horse_sample.describe()\n",
    "print(horse_stat['abdomcentesis_total_protein']['75%'] - horse_stat['abdomcentesis_total_protein']['25%'])\n",
    "print(horse_stat['abdomcentesis_total_protein']['max'] - horse_stat['abdomcentesis_total_protein']['min'])"
   ]
  },
  {
   "cell_type": "markdown",
   "metadata": {},
   "source": [
    "Статистики:"
   ]
  },
  {
   "cell_type": "code",
   "execution_count": 91,
   "metadata": {},
   "outputs": [
    {
     "data": {
      "text/plain": [
       "count    99.000000\n",
       "mean      2.974747\n",
       "std       1.954604\n",
       "min       0.100000\n",
       "25%       2.000000\n",
       "50%       2.100000\n",
       "75%       3.900000\n",
       "max      10.100000\n",
       "Name: abdomcentesis_total_protein, dtype: float64"
      ]
     },
     "execution_count": 91,
     "metadata": {},
     "output_type": "execute_result"
    }
   ],
   "source": [
    "abd_tot_prot_pre = horse_stat['abdomcentesis_total_protein']\n",
    "abd_tot_prot_pre"
   ]
  },
  {
   "cell_type": "markdown",
   "metadata": {},
   "source": [
    "* Среднее 3, медиана 2.1, среднее выше медианы, вероятно распределение немного скошено вправо. В среднем значения отклоняются от среднего на 1.9.<br>\n",
    "* IQR 1.9, разброс 10.<br>\n",
    "* 75% случаев показатель меньше 3.9, max в 10 возможно выброс или ошибка.<br>"
   ]
  },
  {
   "cell_type": "markdown",
   "metadata": {},
   "source": [
    "#### Выбросы:"
   ]
  },
  {
   "cell_type": "markdown",
   "metadata": {},
   "source": [
    "Границы потенциальных выбросов по методу IQR. Отрицательное значение говорит о значительной вариации:"
   ]
  },
  {
   "cell_type": "code",
   "execution_count": 92,
   "metadata": {
    "scrolled": true
   },
   "outputs": [
    {
     "data": {
      "text/plain": [
       "(-0.85, 6.75)"
      ]
     },
     "execution_count": 92,
     "metadata": {},
     "output_type": "execute_result"
    }
   ],
   "source": [
    "abdomcentesis_total_protein_lb = (horse_stat['abdomcentesis_total_protein']['25%'] - \n",
    "                                  (1.5 * (horse_stat['abdomcentesis_total_protein']['75%'] - \n",
    "                                          horse_stat['abdomcentesis_total_protein']['25%']))) \n",
    "abdomcentesis_total_protein_ub = (horse_stat['abdomcentesis_total_protein']['75%'] + \n",
    "                                  (1.5 * (horse_stat['abdomcentesis_total_protein']['75%'] - \n",
    "                                          horse_stat['abdomcentesis_total_protein']['25%'])))\n",
    "round(abdomcentesis_total_protein_lb, 2), round(abdomcentesis_total_protein_ub, 2)"
   ]
  },
  {
   "cell_type": "markdown",
   "metadata": {},
   "source": [
    "Распределение значений:"
   ]
  },
  {
   "cell_type": "code",
   "execution_count": 93,
   "metadata": {
    "scrolled": true
   },
   "outputs": [
    {
     "data": {
      "text/plain": [
       "0.1      1\n",
       "1.0     17\n",
       "1.3      1\n",
       "1.4      1\n",
       "1.5      1\n",
       "1.6      2\n",
       "2.0     26\n",
       "2.1      1\n",
       "2.2      1\n",
       "2.3      2\n",
       "2.5      1\n",
       "2.6      3\n",
       "2.8      3\n",
       "2.9      1\n",
       "3.0      2\n",
       "3.2      1\n",
       "3.3      1\n",
       "3.4      3\n",
       "3.6      3\n",
       "3.7      1\n",
       "3.9      3\n",
       "4.1      2\n",
       "4.3      2\n",
       "4.4      1\n",
       "4.5      2\n",
       "4.7      1\n",
       "4.8      1\n",
       "5.0      3\n",
       "5.2      1\n",
       "5.3      2\n",
       "6.0      2\n",
       "6.6      1\n",
       "7.0      2\n",
       "7.4      1\n",
       "8.0      1\n",
       "10.0     1\n",
       "10.1     1\n",
       "Name: abdomcentesis_total_protein, dtype: int64"
      ]
     },
     "execution_count": 93,
     "metadata": {},
     "output_type": "execute_result"
    }
   ],
   "source": [
    "horse_sample.abdomcentesis_total_protein.value_counts().sort_index()"
   ]
  },
  {
   "cell_type": "markdown",
   "metadata": {},
   "source": [
    "Статистики после исключения выбросов:"
   ]
  },
  {
   "cell_type": "code",
   "execution_count": 94,
   "metadata": {
    "scrolled": true
   },
   "outputs": [
    {
     "name": "stdout",
     "output_type": "stream",
     "text": [
      "before count    99.000000\n",
      "mean      2.974747\n",
      "std       1.954604\n",
      "min       0.100000\n",
      "25%       2.000000\n",
      "50%       2.100000\n",
      "75%       3.900000\n",
      "max      10.100000\n",
      "Name: abdomcentesis_total_protein, dtype: float64\n",
      "\n",
      "after count    92.000000\n",
      "mean      2.661957\n",
      "std       1.405550\n",
      "min       1.000000\n",
      "25%       2.000000\n",
      "50%       2.000000\n",
      "75%       3.600000\n",
      "max       6.600000\n",
      "Name: abdomcentesis_total_protein, dtype: float64\n"
     ]
    },
    {
     "name": "stderr",
     "output_type": "stream",
     "text": [
      "C:\\Users\\YULIAN~2\\AppData\\Local\\Temp/ipykernel_10920/885684618.py:1: FutureWarning: Boolean inputs to the `inclusive` argument are deprecated infavour of `both` or `neither`.\n",
      "  horse_excl_out_abd_prot = (horse_sample[horse_sample.abdomcentesis_total_protein.\n"
     ]
    }
   ],
   "source": [
    "horse_excl_out_abd_prot = (horse_sample[horse_sample.abdomcentesis_total_protein.\n",
    "                                        between(1, abdomcentesis_total_protein_ub, inclusive = True)])\n",
    "# abdomcentesis_total_protein_lb или 1 (следующее после подозрительного 0.1) - разницы в статистиках почти нет.\n",
    "print(\"before\",abd_tot_prot_pre)\n",
    "print('')\n",
    "print(\"after\",horse_excl_out_abd_prot.describe()['abdomcentesis_total_protein'])"
   ]
  },
  {
   "cell_type": "markdown",
   "metadata": {},
   "source": [
    "Фильтруем потенциальные выбросы:"
   ]
  },
  {
   "cell_type": "code",
   "execution_count": 95,
   "metadata": {},
   "outputs": [
    {
     "data": {
      "text/html": [
       "<div>\n",
       "<style scoped>\n",
       "    .dataframe tbody tr th:only-of-type {\n",
       "        vertical-align: middle;\n",
       "    }\n",
       "\n",
       "    .dataframe tbody tr th {\n",
       "        vertical-align: top;\n",
       "    }\n",
       "\n",
       "    .dataframe thead th {\n",
       "        text-align: right;\n",
       "    }\n",
       "</style>\n",
       "<table border=\"1\" class=\"dataframe\">\n",
       "  <thead>\n",
       "    <tr style=\"text-align: right;\">\n",
       "      <th></th>\n",
       "      <th>surgery</th>\n",
       "      <th>age</th>\n",
       "      <th>hospital_number</th>\n",
       "      <th>rectal_temperature</th>\n",
       "      <th>pulse</th>\n",
       "      <th>abdominal_distension</th>\n",
       "      <th>pain</th>\n",
       "      <th>outcome</th>\n",
       "      <th>abdomcentesis_total_protein</th>\n",
       "      <th>total_protein</th>\n",
       "    </tr>\n",
       "  </thead>\n",
       "  <tbody>\n",
       "    <tr>\n",
       "      <th>31</th>\n",
       "      <td>2.0</td>\n",
       "      <td>1</td>\n",
       "      <td>530242</td>\n",
       "      <td>37.2</td>\n",
       "      <td>108.0</td>\n",
       "      <td>2.0</td>\n",
       "      <td>2.0</td>\n",
       "      <td>3.0</td>\n",
       "      <td>7.4</td>\n",
       "      <td>8.2</td>\n",
       "    </tr>\n",
       "    <tr>\n",
       "      <th>41</th>\n",
       "      <td>2.0</td>\n",
       "      <td>9</td>\n",
       "      <td>5288249</td>\n",
       "      <td>39.0</td>\n",
       "      <td>150.0</td>\n",
       "      <td>1.0</td>\n",
       "      <td>1.0</td>\n",
       "      <td>1.0</td>\n",
       "      <td>0.1</td>\n",
       "      <td>8.5</td>\n",
       "    </tr>\n",
       "    <tr>\n",
       "      <th>71</th>\n",
       "      <td>1.0</td>\n",
       "      <td>1</td>\n",
       "      <td>529424</td>\n",
       "      <td>37.8</td>\n",
       "      <td>48.0</td>\n",
       "      <td>1.0</td>\n",
       "      <td>1.0</td>\n",
       "      <td>1.0</td>\n",
       "      <td>7.0</td>\n",
       "      <td>5.9</td>\n",
       "    </tr>\n",
       "    <tr>\n",
       "      <th>113</th>\n",
       "      <td>1.0</td>\n",
       "      <td>1</td>\n",
       "      <td>527933</td>\n",
       "      <td>36.8</td>\n",
       "      <td>60.0</td>\n",
       "      <td>3.0</td>\n",
       "      <td>5.0</td>\n",
       "      <td>2.0</td>\n",
       "      <td>10.0</td>\n",
       "      <td>NaN</td>\n",
       "    </tr>\n",
       "    <tr>\n",
       "      <th>211</th>\n",
       "      <td>1.0</td>\n",
       "      <td>1</td>\n",
       "      <td>529893</td>\n",
       "      <td>38.0</td>\n",
       "      <td>86.0</td>\n",
       "      <td>4.0</td>\n",
       "      <td>2.0</td>\n",
       "      <td>2.0</td>\n",
       "      <td>10.1</td>\n",
       "      <td>5.5</td>\n",
       "    </tr>\n",
       "    <tr>\n",
       "      <th>225</th>\n",
       "      <td>2.0</td>\n",
       "      <td>1</td>\n",
       "      <td>528931</td>\n",
       "      <td>38.4</td>\n",
       "      <td>54.0</td>\n",
       "      <td>1.0</td>\n",
       "      <td>1.0</td>\n",
       "      <td>1.0</td>\n",
       "      <td>8.0</td>\n",
       "      <td>7.2</td>\n",
       "    </tr>\n",
       "    <tr>\n",
       "      <th>284</th>\n",
       "      <td>2.0</td>\n",
       "      <td>1</td>\n",
       "      <td>530439</td>\n",
       "      <td>38.5</td>\n",
       "      <td>54.0</td>\n",
       "      <td>1.0</td>\n",
       "      <td>3.0</td>\n",
       "      <td>1.0</td>\n",
       "      <td>7.0</td>\n",
       "      <td>6.8</td>\n",
       "    </tr>\n",
       "  </tbody>\n",
       "</table>\n",
       "</div>"
      ],
      "text/plain": [
       "     surgery  age  hospital_number  rectal_temperature  pulse  \\\n",
       "31       2.0    1           530242                37.2  108.0   \n",
       "41       2.0    9          5288249                39.0  150.0   \n",
       "71       1.0    1           529424                37.8   48.0   \n",
       "113      1.0    1           527933                36.8   60.0   \n",
       "211      1.0    1           529893                38.0   86.0   \n",
       "225      2.0    1           528931                38.4   54.0   \n",
       "284      2.0    1           530439                38.5   54.0   \n",
       "\n",
       "     abdominal_distension  pain  outcome  abdomcentesis_total_protein  \\\n",
       "31                    2.0   2.0      3.0                          7.4   \n",
       "41                    1.0   1.0      1.0                          0.1   \n",
       "71                    1.0   1.0      1.0                          7.0   \n",
       "113                   3.0   5.0      2.0                         10.0   \n",
       "211                   4.0   2.0      2.0                         10.1   \n",
       "225                   1.0   1.0      1.0                          8.0   \n",
       "284                   1.0   3.0      1.0                          7.0   \n",
       "\n",
       "     total_protein  \n",
       "31             8.2  \n",
       "41             8.5  \n",
       "71             5.9  \n",
       "113            NaN  \n",
       "211            5.5  \n",
       "225            7.2  \n",
       "284            6.8  "
      ]
     },
     "execution_count": 95,
     "metadata": {},
     "output_type": "execute_result"
    }
   ],
   "source": [
    "abd_prot_out = pd.concat([horse_sample, horse_excl_out_abd_prot]).drop_duplicates(keep = False)\n",
    "abd_prot_out[abd_prot_out.abdomcentesis_total_protein.notnull()]"
   ]
  },
  {
   "cell_type": "markdown",
   "metadata": {},
   "source": [
    "* В правом хвосте значения увеличиваются постепенно до 8, потом 10 и 10.1 - может ошибка ввода/измерения.<br>\n",
    "* В левом хвосте значения увеличиваются постепенно, кроме 0.1 - похоже на ошибку.<br>\n",
    "* В рез-те исключения выбросов среднее несколько снизилось, приблизилось к медиане.<br>\n",
    "* Считаю, что у выбросов естественные причины, кроме 0.1, 10 и 10.1 - их лучше исключить как потенциальные ошибки. Для проверки ошибочности можно посмотреть согласованность со значениями других показателей.<br>\n",
    "* Так как по этому признаку много пропусков, то исключим его."
   ]
  },
  {
   "cell_type": "markdown",
   "metadata": {},
   "source": [
    "#### Пропуски:"
   ]
  },
  {
   "cell_type": "markdown",
   "metadata": {},
   "source": [
    "Кол-во пропусков - 66% пропусков:"
   ]
  },
  {
   "cell_type": "code",
   "execution_count": 96,
   "metadata": {},
   "outputs": [
    {
     "data": {
      "text/plain": [
       "65.62"
      ]
     },
     "execution_count": 96,
     "metadata": {},
     "output_type": "execute_result"
    }
   ],
   "source": [
    "horse_sample['abdomcentesis_total_protein'].isna().mean().round(4) * 100"
   ]
  },
  {
   "cell_type": "markdown",
   "metadata": {},
   "source": [
    "Исключаем признак из данных:"
   ]
  },
  {
   "cell_type": "code",
   "execution_count": 97,
   "metadata": {},
   "outputs": [],
   "source": [
    "horse_sample.drop(['abdomcentesis_total_protein'], axis = 1, inplace = True)"
   ]
  },
  {
   "cell_type": "markdown",
   "metadata": {},
   "source": [
    "* 66% пропусков, больше половины!<br>\n",
    "* Не брать в рассмотрение этот показатель, вместо него выбрать какой-то смежный, может быть peristalsis, который тоже отражает состояние кишечника."
   ]
  },
  {
   "cell_type": "markdown",
   "metadata": {},
   "source": [
    "### Признак total_protein"
   ]
  },
  {
   "cell_type": "markdown",
   "metadata": {},
   "source": [
    "#### Распределение значений:"
   ]
  },
  {
   "cell_type": "markdown",
   "metadata": {},
   "source": [
    "IQR, разброс:"
   ]
  },
  {
   "cell_type": "code",
   "execution_count": 98,
   "metadata": {},
   "outputs": [
    {
     "name": "stdout",
     "output_type": "stream",
     "text": [
      "51.5\n",
      "85.0\n"
     ]
    }
   ],
   "source": [
    "horse_stat = horse_sample.describe()\n",
    "print(horse_stat['total_protein']['75%'] - horse_stat['total_protein']['25%'])\n",
    "print(horse_stat['total_protein']['max'] - horse_stat['total_protein']['min'])"
   ]
  },
  {
   "cell_type": "markdown",
   "metadata": {},
   "source": [
    "Мода:"
   ]
  },
  {
   "cell_type": "code",
   "execution_count": 99,
   "metadata": {
    "scrolled": true
   },
   "outputs": [
    {
     "data": {
      "text/plain": [
       "0    6.5\n",
       "1    7.0\n",
       "dtype: float64"
      ]
     },
     "execution_count": 99,
     "metadata": {},
     "output_type": "execute_result"
    }
   ],
   "source": [
    "horse_sample.total_protein.mode() "
   ]
  },
  {
   "cell_type": "markdown",
   "metadata": {},
   "source": [
    "Статистики:"
   ]
  },
  {
   "cell_type": "code",
   "execution_count": 100,
   "metadata": {},
   "outputs": [
    {
     "data": {
      "text/plain": [
       "count    257.000000\n",
       "mean      25.149416\n",
       "std       27.774725\n",
       "min        4.000000\n",
       "25%        6.500000\n",
       "50%        7.500000\n",
       "75%       58.000000\n",
       "max       89.000000\n",
       "Name: total_protein, dtype: float64"
      ]
     },
     "execution_count": 100,
     "metadata": {},
     "output_type": "execute_result"
    }
   ],
   "source": [
    "tot_prot_pre = horse_stat['total_protein']\n",
    "tot_prot_pre"
   ]
  },
  {
   "cell_type": "markdown",
   "metadata": {
    "scrolled": true
   },
   "source": [
    "* Среднее 25, медиана 7.5, среднее значительно выше медианы, вероятно распределение значительно скошено вправо/есть выбросы. По медиане - в среднем в норме.<br>\n",
    "* Бимодальное распределение 6.5 и 7 - значения нормы.<br>\n",
    "* В среднем значения отклоняются от среднего на 27.8, учитывая норму - вариация значительная.<br>\n",
    "* IQR 51.5, разброс 85. Для нормы в 6-7 показатели разброса очень велики, вероятно есть выбросы в правом конце распределения.\n",
    "* max в 89 возможно выброс или ошибка."
   ]
  },
  {
   "cell_type": "markdown",
   "metadata": {},
   "source": [
    "#### Выбросы:"
   ]
  },
  {
   "cell_type": "markdown",
   "metadata": {},
   "source": [
    "Границы потенциальных выбросов по методу IQR. Обе границы вышли за min, max - очень значительная вариация:"
   ]
  },
  {
   "cell_type": "code",
   "execution_count": 101,
   "metadata": {},
   "outputs": [
    {
     "data": {
      "text/plain": [
       "(-70.75, 135.25)"
      ]
     },
     "execution_count": 101,
     "metadata": {},
     "output_type": "execute_result"
    }
   ],
   "source": [
    "total_protein_lb = (horse_stat['total_protein']['25%'] - \n",
    "                    (1.5 * (horse_stat['total_protein']['75%'] - horse_stat['total_protein']['25%']))) \n",
    "total_protein_ub = (horse_stat['total_protein']['75%'] + \n",
    "                    (1.5 * (horse_stat['total_protein']['75%'] - horse_stat['total_protein']['25%'])))\n",
    "total_protein_lb, total_protein_ub"
   ]
  },
  {
   "cell_type": "markdown",
   "metadata": {},
   "source": [
    "Распределение значений меньше 13:"
   ]
  },
  {
   "cell_type": "code",
   "execution_count": 102,
   "metadata": {
    "scrolled": true
   },
   "outputs": [
    {
     "data": {
      "text/plain": [
       "4.0      1\n",
       "4.5      2\n",
       "4.6      1\n",
       "4.7      1\n",
       "4.9      2\n",
       "5.0      1\n",
       "5.3      2\n",
       "5.5      4\n",
       "5.7      3\n",
       "5.8      1\n",
       "5.9      6\n",
       "6.0      7\n",
       "6.1      5\n",
       "6.2      6\n",
       "6.3      5\n",
       "6.4      4\n",
       "6.5     14\n",
       "6.6     10\n",
       "6.7      8\n",
       "6.8      6\n",
       "6.9      2\n",
       "7.0     14\n",
       "7.1      1\n",
       "7.2      9\n",
       "7.3      3\n",
       "7.4      4\n",
       "7.5     11\n",
       "7.6      5\n",
       "7.7      5\n",
       "7.8      3\n",
       "7.9      1\n",
       "8.0      5\n",
       "8.1      4\n",
       "8.2      1\n",
       "8.3      2\n",
       "8.4      2\n",
       "8.5      5\n",
       "8.6      3\n",
       "8.7      2\n",
       "8.8      1\n",
       "8.9      1\n",
       "9.0      1\n",
       "9.1      1\n",
       "10.2     1\n",
       "11.0     1\n",
       "13.0     1\n",
       "Name: total_protein, dtype: int64"
      ]
     },
     "execution_count": 102,
     "metadata": {},
     "output_type": "execute_result"
    }
   ],
   "source": [
    "horse_sample.total_protein[horse_sample.total_protein <= 13].value_counts().sort_index()"
   ]
  },
  {
   "cell_type": "markdown",
   "metadata": {},
   "source": [
    "Распределение значений больше 13:"
   ]
  },
  {
   "cell_type": "code",
   "execution_count": 103,
   "metadata": {},
   "outputs": [
    {
     "data": {
      "text/plain": [
       "46.0    1\n",
       "50.0    1\n",
       "51.0    1\n",
       "53.0    1\n",
       "54.0    2\n",
       "55.0    2\n",
       "56.0    3\n",
       "57.0    2\n",
       "58.0    4\n",
       "59.0    1\n",
       "60.0    3\n",
       "61.0    3\n",
       "62.0    3\n",
       "63.0    1\n",
       "64.0    5\n",
       "65.0    8\n",
       "66.0    4\n",
       "67.0    4\n",
       "68.0    2\n",
       "69.0    3\n",
       "70.0    5\n",
       "71.0    2\n",
       "72.0    1\n",
       "73.0    1\n",
       "74.0    2\n",
       "75.0    3\n",
       "76.0    1\n",
       "77.0    2\n",
       "80.0    2\n",
       "81.0    2\n",
       "82.0    1\n",
       "85.0    1\n",
       "86.0    1\n",
       "89.0    1\n",
       "Name: total_protein, dtype: int64"
      ]
     },
     "execution_count": 103,
     "metadata": {},
     "output_type": "execute_result"
    }
   ],
   "source": [
    "horse_sample.total_protein[horse_sample.total_protein > 13].value_counts().sort_index()"
   ]
  },
  {
   "cell_type": "markdown",
   "metadata": {},
   "source": [
    "* В значениях есть скачок, странно делятся на две части: до 13 и после 46.<br>\n",
    "* В обеих частях значения увеличиваются постепенно, без скачков - не похоже на ошибку.<br>\n",
    "* Нужно предметное понимание возможных причин для таких подгрупп значений. Возможно, две части значений стоит рассмотреть отдельно.<br>\n",
    "* Пока считаем, что у значений естественные причины.<br>"
   ]
  },
  {
   "cell_type": "markdown",
   "metadata": {},
   "source": [
    "#### Пропуски:"
   ]
  },
  {
   "cell_type": "markdown",
   "metadata": {},
   "source": [
    "Кол-во пропусков - 11% пропусков, 31 пропуск:"
   ]
  },
  {
   "cell_type": "code",
   "execution_count": 104,
   "metadata": {
    "scrolled": true
   },
   "outputs": [
    {
     "name": "stdout",
     "output_type": "stream",
     "text": [
      "10.76\n",
      "31\n"
     ]
    }
   ],
   "source": [
    "print(horse_sample['total_protein'].isna().mean().round(4) * 100)\n",
    "print(horse_sample['total_protein'].isna().sum()) "
   ]
  },
  {
   "cell_type": "markdown",
   "metadata": {},
   "source": [
    "Фильтруем пропуски:"
   ]
  },
  {
   "cell_type": "code",
   "execution_count": 105,
   "metadata": {
    "scrolled": true
   },
   "outputs": [
    {
     "data": {
      "text/html": [
       "<div>\n",
       "<style scoped>\n",
       "    .dataframe tbody tr th:only-of-type {\n",
       "        vertical-align: middle;\n",
       "    }\n",
       "\n",
       "    .dataframe tbody tr th {\n",
       "        vertical-align: top;\n",
       "    }\n",
       "\n",
       "    .dataframe thead th {\n",
       "        text-align: right;\n",
       "    }\n",
       "</style>\n",
       "<table border=\"1\" class=\"dataframe\">\n",
       "  <thead>\n",
       "    <tr style=\"text-align: right;\">\n",
       "      <th></th>\n",
       "      <th>surgery</th>\n",
       "      <th>age</th>\n",
       "      <th>hospital_number</th>\n",
       "      <th>rectal_temperature</th>\n",
       "      <th>pulse</th>\n",
       "      <th>abdominal_distension</th>\n",
       "      <th>pain</th>\n",
       "      <th>outcome</th>\n",
       "      <th>total_protein</th>\n",
       "    </tr>\n",
       "  </thead>\n",
       "  <tbody>\n",
       "    <tr>\n",
       "      <th>5</th>\n",
       "      <td>2.0</td>\n",
       "      <td>1</td>\n",
       "      <td>528355</td>\n",
       "      <td>38.2</td>\n",
       "      <td>52.0</td>\n",
       "      <td>2.0</td>\n",
       "      <td>2.0</td>\n",
       "      <td>1.0</td>\n",
       "      <td>NaN</td>\n",
       "    </tr>\n",
       "    <tr>\n",
       "      <th>17</th>\n",
       "      <td>2.0</td>\n",
       "      <td>1</td>\n",
       "      <td>526639</td>\n",
       "      <td>37.5</td>\n",
       "      <td>48.0</td>\n",
       "      <td>1.0</td>\n",
       "      <td>1.0</td>\n",
       "      <td>1.0</td>\n",
       "      <td>NaN</td>\n",
       "    </tr>\n",
       "    <tr>\n",
       "      <th>25</th>\n",
       "      <td>2.0</td>\n",
       "      <td>1</td>\n",
       "      <td>529518</td>\n",
       "      <td>37.8</td>\n",
       "      <td>60.0</td>\n",
       "      <td>1.0</td>\n",
       "      <td>1.0</td>\n",
       "      <td>1.0</td>\n",
       "      <td>NaN</td>\n",
       "    </tr>\n",
       "    <tr>\n",
       "      <th>28</th>\n",
       "      <td>1.0</td>\n",
       "      <td>1</td>\n",
       "      <td>5279442</td>\n",
       "      <td>38.1</td>\n",
       "      <td>84.0</td>\n",
       "      <td>3.0</td>\n",
       "      <td>5.0</td>\n",
       "      <td>2.0</td>\n",
       "      <td>NaN</td>\n",
       "    </tr>\n",
       "    <tr>\n",
       "      <th>39</th>\n",
       "      <td>1.0</td>\n",
       "      <td>9</td>\n",
       "      <td>5277409</td>\n",
       "      <td>39.2</td>\n",
       "      <td>146.0</td>\n",
       "      <td>3.0</td>\n",
       "      <td>5.0</td>\n",
       "      <td>2.0</td>\n",
       "      <td>NaN</td>\n",
       "    </tr>\n",
       "  </tbody>\n",
       "</table>\n",
       "</div>"
      ],
      "text/plain": [
       "    surgery  age  hospital_number  rectal_temperature  pulse  \\\n",
       "5       2.0    1           528355                38.2   52.0   \n",
       "17      2.0    1           526639                37.5   48.0   \n",
       "25      2.0    1           529518                37.8   60.0   \n",
       "28      1.0    1          5279442                38.1   84.0   \n",
       "39      1.0    9          5277409                39.2  146.0   \n",
       "\n",
       "    abdominal_distension  pain  outcome  total_protein  \n",
       "5                    2.0   2.0      1.0            NaN  \n",
       "17                   1.0   1.0      1.0            NaN  \n",
       "25                   1.0   1.0      1.0            NaN  \n",
       "28                   3.0   5.0      2.0            NaN  \n",
       "39                   3.0   5.0      2.0            NaN  "
      ]
     },
     "execution_count": 105,
     "metadata": {},
     "output_type": "execute_result"
    }
   ],
   "source": [
    "horse_sample[horse_sample.total_protein.isna()].head()"
   ]
  },
  {
   "cell_type": "markdown",
   "metadata": {},
   "source": [
    "Медиана в разрезе surgery-outcome. Медиана для операции-эвтаназии очень высокая:"
   ]
  },
  {
   "cell_type": "code",
   "execution_count": 106,
   "metadata": {
    "scrolled": true
   },
   "outputs": [
    {
     "name": "stdout",
     "output_type": "stream",
     "text": [
      "surgery  outcome\n",
      "1.0      1.0         7.55\n",
      "         2.0         7.10\n",
      "         3.0        64.00\n",
      "2.0      1.0         7.50\n",
      "         2.0         6.50\n",
      "         3.0         7.00\n",
      "Name: total_protein, dtype: float64\n"
     ]
    }
   ],
   "source": [
    "print(horse_sample.groupby(['surgery', 'outcome']).total_protein.median())"
   ]
  },
  {
   "cell_type": "markdown",
   "metadata": {},
   "source": [
    "Заполнение пропусков медианой в разрезе значений surgery-outcome:"
   ]
  },
  {
   "cell_type": "code",
   "execution_count": 107,
   "metadata": {},
   "outputs": [
    {
     "data": {
      "text/html": [
       "<div>\n",
       "<style scoped>\n",
       "    .dataframe tbody tr th:only-of-type {\n",
       "        vertical-align: middle;\n",
       "    }\n",
       "\n",
       "    .dataframe tbody tr th {\n",
       "        vertical-align: top;\n",
       "    }\n",
       "\n",
       "    .dataframe thead th {\n",
       "        text-align: right;\n",
       "    }\n",
       "</style>\n",
       "<table border=\"1\" class=\"dataframe\">\n",
       "  <thead>\n",
       "    <tr style=\"text-align: right;\">\n",
       "      <th></th>\n",
       "      <th>surgery</th>\n",
       "      <th>age</th>\n",
       "      <th>hospital_number</th>\n",
       "      <th>rectal_temperature</th>\n",
       "      <th>pulse</th>\n",
       "      <th>abdominal_distension</th>\n",
       "      <th>pain</th>\n",
       "      <th>outcome</th>\n",
       "      <th>total_protein</th>\n",
       "    </tr>\n",
       "  </thead>\n",
       "  <tbody>\n",
       "  </tbody>\n",
       "</table>\n",
       "</div>"
      ],
      "text/plain": [
       "Empty DataFrame\n",
       "Columns: [surgery, age, hospital_number, rectal_temperature, pulse, abdominal_distension, pain, outcome, total_protein]\n",
       "Index: []"
      ]
     },
     "execution_count": 107,
     "metadata": {},
     "output_type": "execute_result"
    }
   ],
   "source": [
    "(horse_sample.total_protein.fillna(horse_sample.groupby(['surgery', 'outcome']).\n",
    "                                        total_protein.transform('median'), inplace = True))\n",
    "horse_sample[horse_sample.total_protein.isna()] "
   ]
  },
  {
   "cell_type": "markdown",
   "metadata": {},
   "source": [
    "Медиана в разрезе surgery-outcome после заполнения:"
   ]
  },
  {
   "cell_type": "code",
   "execution_count": 108,
   "metadata": {
    "scrolled": false
   },
   "outputs": [
    {
     "data": {
      "text/plain": [
       "surgery  outcome\n",
       "1.0      1.0         7.55\n",
       "         2.0         7.10\n",
       "         3.0        64.00\n",
       "2.0      1.0         7.50\n",
       "         2.0         6.50\n",
       "         3.0         7.00\n",
       "Name: total_protein, dtype: float64"
      ]
     },
     "execution_count": 108,
     "metadata": {},
     "output_type": "execute_result"
    }
   ],
   "source": [
    "horse_sample.groupby(['surgery', 'outcome']).total_protein.median()"
   ]
  },
  {
   "cell_type": "markdown",
   "metadata": {},
   "source": [
    "Статистики до и после заполнения:"
   ]
  },
  {
   "cell_type": "code",
   "execution_count": 109,
   "metadata": {},
   "outputs": [
    {
     "name": "stdout",
     "output_type": "stream",
     "text": [
      "before count    257.000000\n",
      "mean      25.149416\n",
      "std       27.774725\n",
      "min        4.000000\n",
      "25%        6.500000\n",
      "50%        7.500000\n",
      "75%       58.000000\n",
      "max       89.000000\n",
      "Name: total_protein, dtype: float64\n",
      "\n",
      "after count    288.000000\n",
      "mean      24.209028\n",
      "std       27.249106\n",
      "min        4.000000\n",
      "25%        6.600000\n",
      "50%        7.500000\n",
      "75%       57.000000\n",
      "max       89.000000\n",
      "Name: total_protein, dtype: float64\n"
     ]
    }
   ],
   "source": [
    "print(\"before\", tot_prot_pre)\n",
    "print(\"\")\n",
    "print(\"after\", horse_sample.describe()['total_protein'])"
   ]
  },
  {
   "cell_type": "markdown",
   "metadata": {},
   "source": [
    "* Числовой показатель, подставляем медиану на основе группировки по surgery и outcome.<br>\n",
    "* После подстановки групповые медианы не изменились. Общие статистики изменились незначительно."
   ]
  },
  {
   "cell_type": "markdown",
   "metadata": {},
   "source": [
    "### Итоговый датафрейм"
   ]
  },
  {
   "cell_type": "code",
   "execution_count": 110,
   "metadata": {
    "scrolled": false
   },
   "outputs": [
    {
     "name": "stdout",
     "output_type": "stream",
     "text": [
      "<class 'pandas.core.frame.DataFrame'>\n",
      "Int64Index: 288 entries, 0 to 299\n",
      "Data columns (total 9 columns):\n",
      " #   Column                Non-Null Count  Dtype  \n",
      "---  ------                --------------  -----  \n",
      " 0   surgery               288 non-null    float64\n",
      " 1   age                   288 non-null    int64  \n",
      " 2   hospital_number       288 non-null    int64  \n",
      " 3   rectal_temperature    288 non-null    float64\n",
      " 4   pulse                 288 non-null    float64\n",
      " 5   abdominal_distension  288 non-null    float64\n",
      " 6   pain                  288 non-null    float64\n",
      " 7   outcome               288 non-null    float64\n",
      " 8   total_protein         288 non-null    float64\n",
      "dtypes: float64(7), int64(2)\n",
      "memory usage: 22.5 KB\n"
     ]
    }
   ],
   "source": [
    "horse_sample.head()\n",
    "horse_sample.info()"
   ]
  },
  {
   "cell_type": "markdown",
   "metadata": {},
   "source": [
    "<a href=\"#0\"><h4>Наверх</h4></a>"
   ]
  }
 ],
 "metadata": {
  "kernelspec": {
   "display_name": "Python 3 (ipykernel)",
   "language": "python",
   "name": "python3"
  },
  "language_info": {
   "codemirror_mode": {
    "name": "ipython",
    "version": 3
   },
   "file_extension": ".py",
   "mimetype": "text/x-python",
   "name": "python",
   "nbconvert_exporter": "python",
   "pygments_lexer": "ipython3",
   "version": "3.8.12"
  }
 },
 "nbformat": 4,
 "nbformat_minor": 2
}
