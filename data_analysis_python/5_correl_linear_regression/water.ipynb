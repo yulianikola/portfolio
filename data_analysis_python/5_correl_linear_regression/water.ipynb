{
 "cells": [
  {
   "cell_type": "markdown",
   "metadata": {},
   "source": [
    "<div class=\"alert alert-info\">\n",
    "Ссылка для просмотра ноутбука в интерактивном режиме для использования гиперссылок и корректного отображения разметки:<br>\n",
    "<a href='https://nbviewer.org/github/yulianikola/portfolio/blob/master/data_analysis_python/5_correl_linear_regression/water.ipynb'>water</a></div>"
   ]
  },
  {
   "cell_type": "markdown",
   "metadata": {},
   "source": [
    "### Корреляция, линейная регрессия"
   ]
  },
  {
   "cell_type": "markdown",
   "metadata": {},
   "source": [
    "#### Данные Mortality and Water Hardness"
   ]
  },
  {
   "cell_type": "markdown",
   "metadata": {},
   "source": [
    "В этом датасете содержатся данные по средней годовой смертности на\n",
    "100000 населения и концентрации кальция в питьевой воде для 61\n",
    "большого города в Англии и Уэльсе. Города дополнительно поделены на\n",
    "северные и южные.<br>\n",
    "https://www.kaggle.com/ukveteran/mortality-and-water-hardness"
   ]
  },
  {
   "cell_type": "markdown",
   "metadata": {},
   "source": [
    "#### Задачи:\n",
    "1. Есть ли связь между жёсткостью воды и средней годовой смертностью?\n",
    "    - Построить точечный график\n",
    "    - Рассчитать коэффициенты корреляции Пирсона и Спирмена\n",
    "    - Построить модель линейной регрессии\n",
    "    - Рассчитать коэффициент детерминации\n",
    "    - Вывести график остатков\n",
    "1. Сохраняется ли аналогичная зависимость для северных и южных городов по отдельности?\n",
    "    - Разделить данные на 2 группы\n",
    "    - Повторить аналогичные шаги из пункта 1 для каждой группы по отдельности"
   ]
  },
  {
   "cell_type": "markdown",
   "metadata": {},
   "source": [
    "<p id=\"0\">\n",
    "<h4>Содержание</h4>\n",
    "<ul type=\"square\"><a href=\"#1\"><li>Знакомство с данными</li></a>\n",
    "<a href=\"#2\"><li>Полный датасет</li></a>\n",
    "    <ul>\n",
    "    <a href=\"#2.1\"><li>Корреляция</li></a>\n",
    "    <a href=\"#2.2\"><li>Регрессия 1 (train/test 80/20)</li></a>\n",
    "    <a href=\"#2.3\"><li>Кросс-валидация 1</li></a> \n",
    "    <a href=\"#2.4\"><li>Регрессия 2 (train/test 70/30)</li></a>\n",
    "    <a href=\"#2.5\"><li>Вывод</li></a>\n",
    "    </ul>\n",
    "<a href=\"#3\"><li>Две подгруппы: юг и север</li></a>\n",
    "    <ul>\n",
    "    <a href=\"#3.1\"><li>Корреляция</li></a>\n",
    "    <a href=\"#3.2\"><li>Регрессия</li></a>\n",
    "    <a href=\"#3.3\"><li>Кросс-валидация</li></a>\n",
    "    <a href=\"#3.4\"><li>Вывод</li></a>\n",
    "    </ul>\n",
    "<a href=\"#4\"><li>Двухфакторная регрессия</li></a>\n",
    "    <ul>\n",
    "    <a href=\"#4.1\"><li>Регрессия</li></a>\n",
    "    <a href=\"#4.2\"><li>Кросс-валидация</li></a>\n",
    "    <a href=\"#4.3\"><li>Вывод</li></a>"
   ]
  },
  {
   "cell_type": "code",
   "execution_count": 1,
   "metadata": {},
   "outputs": [],
   "source": [
    "import pandas as pd\n",
    "import matplotlib.pyplot as plt\n",
    "import seaborn as sns\n",
    "from sklearn.linear_model import LinearRegression\n",
    "from sklearn.model_selection import train_test_split \n",
    "import statsmodels.api\n",
    "import warnings\n",
    "warnings.filterwarnings('ignore')"
   ]
  },
  {
   "cell_type": "markdown",
   "metadata": {},
   "source": [
    "<p id=\"1\">\n",
    "<h4>Знакомство с данными</h4>"
   ]
  },
  {
   "cell_type": "markdown",
   "metadata": {},
   "source": [
    "Загружаем данные, используем нулевой столбец как индексный:"
   ]
  },
  {
   "cell_type": "code",
   "execution_count": 2,
   "metadata": {},
   "outputs": [],
   "source": [
    "water = pd.read_csv('C:\\\\python\\\\portfolio\\\\data_analysis_python\\\\5_correl_linear_regression\\\\data\\\\water.csv',\n",
    "                    index_col = 0)"
   ]
  },
  {
   "cell_type": "markdown",
   "metadata": {},
   "source": [
    "В данных четыре столбца: север/юг, название города и числовые смертность и жесткость воды:"
   ]
  },
  {
   "cell_type": "code",
   "execution_count": 3,
   "metadata": {
    "scrolled": false
   },
   "outputs": [
    {
     "data": {
      "text/html": [
       "<div>\n",
       "<style scoped>\n",
       "    .dataframe tbody tr th:only-of-type {\n",
       "        vertical-align: middle;\n",
       "    }\n",
       "\n",
       "    .dataframe tbody tr th {\n",
       "        vertical-align: top;\n",
       "    }\n",
       "\n",
       "    .dataframe thead th {\n",
       "        text-align: right;\n",
       "    }\n",
       "</style>\n",
       "<table border=\"1\" class=\"dataframe\">\n",
       "  <thead>\n",
       "    <tr style=\"text-align: right;\">\n",
       "      <th></th>\n",
       "      <th>location</th>\n",
       "      <th>town</th>\n",
       "      <th>mortality</th>\n",
       "      <th>hardness</th>\n",
       "    </tr>\n",
       "  </thead>\n",
       "  <tbody>\n",
       "    <tr>\n",
       "      <th>1</th>\n",
       "      <td>South</td>\n",
       "      <td>Bath</td>\n",
       "      <td>1247</td>\n",
       "      <td>105</td>\n",
       "    </tr>\n",
       "    <tr>\n",
       "      <th>2</th>\n",
       "      <td>North</td>\n",
       "      <td>Birkenhead</td>\n",
       "      <td>1668</td>\n",
       "      <td>17</td>\n",
       "    </tr>\n",
       "    <tr>\n",
       "      <th>3</th>\n",
       "      <td>South</td>\n",
       "      <td>Birmingham</td>\n",
       "      <td>1466</td>\n",
       "      <td>5</td>\n",
       "    </tr>\n",
       "    <tr>\n",
       "      <th>4</th>\n",
       "      <td>North</td>\n",
       "      <td>Blackburn</td>\n",
       "      <td>1800</td>\n",
       "      <td>14</td>\n",
       "    </tr>\n",
       "    <tr>\n",
       "      <th>5</th>\n",
       "      <td>North</td>\n",
       "      <td>Blackpool</td>\n",
       "      <td>1609</td>\n",
       "      <td>18</td>\n",
       "    </tr>\n",
       "  </tbody>\n",
       "</table>\n",
       "</div>"
      ],
      "text/plain": [
       "  location        town  mortality  hardness\n",
       "1    South        Bath       1247       105\n",
       "2    North  Birkenhead       1668        17\n",
       "3    South  Birmingham       1466         5\n",
       "4    North   Blackburn       1800        14\n",
       "5    North   Blackpool       1609        18"
      ]
     },
     "execution_count": 3,
     "metadata": {},
     "output_type": "execute_result"
    }
   ],
   "source": [
    "water.head()"
   ]
  },
  {
   "cell_type": "markdown",
   "metadata": {},
   "source": [
    "Всего 61 строка в данных. Пропусков нет, числовые столбцы определились как числовой тип данных, значит нет и \"пропусков\", выраженных другими символами:"
   ]
  },
  {
   "cell_type": "code",
   "execution_count": 4,
   "metadata": {},
   "outputs": [
    {
     "name": "stdout",
     "output_type": "stream",
     "text": [
      "<class 'pandas.core.frame.DataFrame'>\n",
      "Int64Index: 61 entries, 1 to 61\n",
      "Data columns (total 4 columns):\n",
      " #   Column     Non-Null Count  Dtype \n",
      "---  ------     --------------  ----- \n",
      " 0   location   61 non-null     object\n",
      " 1   town       61 non-null     object\n",
      " 2   mortality  61 non-null     int64 \n",
      " 3   hardness   61 non-null     int64 \n",
      "dtypes: int64(2), object(2)\n",
      "memory usage: 2.4+ KB\n"
     ]
    }
   ],
   "source": [
    "water.info()"
   ]
  },
  {
   "cell_type": "markdown",
   "metadata": {},
   "source": [
    "Статистики числовых показателей. Большой разброс по жесткости от 5 до 138, при этом не более чем в 75% городов жесткость меньше 75."
   ]
  },
  {
   "cell_type": "code",
   "execution_count": 5,
   "metadata": {
    "scrolled": true
   },
   "outputs": [
    {
     "data": {
      "text/html": [
       "<div>\n",
       "<style scoped>\n",
       "    .dataframe tbody tr th:only-of-type {\n",
       "        vertical-align: middle;\n",
       "    }\n",
       "\n",
       "    .dataframe tbody tr th {\n",
       "        vertical-align: top;\n",
       "    }\n",
       "\n",
       "    .dataframe thead th {\n",
       "        text-align: right;\n",
       "    }\n",
       "</style>\n",
       "<table border=\"1\" class=\"dataframe\">\n",
       "  <thead>\n",
       "    <tr style=\"text-align: right;\">\n",
       "      <th></th>\n",
       "      <th>mortality</th>\n",
       "      <th>hardness</th>\n",
       "    </tr>\n",
       "  </thead>\n",
       "  <tbody>\n",
       "    <tr>\n",
       "      <th>count</th>\n",
       "      <td>61.000000</td>\n",
       "      <td>61.000000</td>\n",
       "    </tr>\n",
       "    <tr>\n",
       "      <th>mean</th>\n",
       "      <td>1524.147541</td>\n",
       "      <td>47.180328</td>\n",
       "    </tr>\n",
       "    <tr>\n",
       "      <th>std</th>\n",
       "      <td>187.668754</td>\n",
       "      <td>38.093966</td>\n",
       "    </tr>\n",
       "    <tr>\n",
       "      <th>min</th>\n",
       "      <td>1096.000000</td>\n",
       "      <td>5.000000</td>\n",
       "    </tr>\n",
       "    <tr>\n",
       "      <th>25%</th>\n",
       "      <td>1379.000000</td>\n",
       "      <td>14.000000</td>\n",
       "    </tr>\n",
       "    <tr>\n",
       "      <th>50%</th>\n",
       "      <td>1555.000000</td>\n",
       "      <td>39.000000</td>\n",
       "    </tr>\n",
       "    <tr>\n",
       "      <th>75%</th>\n",
       "      <td>1668.000000</td>\n",
       "      <td>75.000000</td>\n",
       "    </tr>\n",
       "    <tr>\n",
       "      <th>max</th>\n",
       "      <td>1987.000000</td>\n",
       "      <td>138.000000</td>\n",
       "    </tr>\n",
       "  </tbody>\n",
       "</table>\n",
       "</div>"
      ],
      "text/plain": [
       "         mortality    hardness\n",
       "count    61.000000   61.000000\n",
       "mean   1524.147541   47.180328\n",
       "std     187.668754   38.093966\n",
       "min    1096.000000    5.000000\n",
       "25%    1379.000000   14.000000\n",
       "50%    1555.000000   39.000000\n",
       "75%    1668.000000   75.000000\n",
       "max    1987.000000  138.000000"
      ]
     },
     "execution_count": 5,
     "metadata": {},
     "output_type": "execute_result"
    }
   ],
   "source": [
    "water.describe()"
   ]
  },
  {
   "cell_type": "markdown",
   "metadata": {},
   "source": [
    "По боксплотам и гистограммам можно сказать, что у смертности более менее симметричное распределение. У жесткости асимметричное и скошено вправо. По боксплотам выбросов нет."
   ]
  },
  {
   "cell_type": "code",
   "execution_count": 6,
   "metadata": {},
   "outputs": [
    {
     "data": {
      "image/png": "[encoded data removed]",
      "text/plain": [
       "<Figure size 720x504 with 2 Axes>"
      ]
     },
     "metadata": {
      "needs_background": "light"
     },
     "output_type": "display_data"
    }
   ],
   "source": [
    "plt.figure(figsize = (10, 7)) \n",
    "plt.subplot(2, 2, 1)\n",
    "sns.boxplot(y = water.mortality);\n",
    "plt.title('Смертность');\n",
    "plt.subplot(2, 2, 2)\n",
    "sns.boxplot(y = water.hardness);\n",
    "plt.title('Жесткость');"
   ]
  },
  {
   "cell_type": "code",
   "execution_count": 7,
   "metadata": {
    "scrolled": false
   },
   "outputs": [
    {
     "data": {
      "image/png": "[encoded data removed]",
      "text/plain": [
       "<Figure size 864x360 with 2 Axes>"
      ]
     },
     "metadata": {
      "needs_background": "light"
     },
     "output_type": "display_data"
    }
   ],
   "source": [
    "plt.figure(figsize = (12, 5)) \n",
    "plt.subplot(1, 2, 1)\n",
    "plt.hist(water.mortality);\n",
    "plt.title('Смертность');\n",
    "plt.subplot(1, 2, 2)\n",
    "plt.hist(water.hardness);\n",
    "plt.title('Жесткость');"
   ]
  },
  {
   "cell_type": "markdown",
   "metadata": {},
   "source": [
    "<a href=\"#0\"><h4>Наверх</h4></a>"
   ]
  },
  {
   "cell_type": "markdown",
   "metadata": {},
   "source": [
    "<p id=\"2\">\n",
    "<p id=\"2.1\">\n",
    "<h3>Часть 1 (полный датасет)</h3>\n",
    "<h4>Корреляция</h4>"
   ]
  },
  {
   "cell_type": "markdown",
   "metadata": {},
   "source": [
    "Построим точечный график смертности и жесткости воды. Оба показателя непрерывного количественного типа. Наблюдается средняя линейная обратная связь: с увеличением жесткости воды смертность имеет тенденцию к снижению. Значительных выбросов не видно, но бросается в глаза точка со смертностью около 2000."
   ]
  },
  {
   "cell_type": "code",
   "execution_count": 8,
   "metadata": {
    "scrolled": false
   },
   "outputs": [
    {
     "data": {
      "image/png": "[encoded data removed]",
      "text/plain": [
       "<Figure size 432x288 with 1 Axes>"
      ]
     },
     "metadata": {
      "needs_background": "light"
     },
     "output_type": "display_data"
    }
   ],
   "source": [
    "water.plot(kind = 'scatter', x = 'hardness', y = 'mortality', title = 'Смертность vs жесткость воды');"
   ]
  },
  {
   "cell_type": "markdown",
   "metadata": {},
   "source": [
    "Линейный коэффициент корреляции Пирсона: обратная связь, средней силы - при увеличении жесткости воды смертность имеет тенденцию к уменьшению. Исключение выброса со смертностью около 2000 на коэффициент почти не повлияло."
   ]
  },
  {
   "cell_type": "code",
   "execution_count": 9,
   "metadata": {},
   "outputs": [
    {
     "name": "stdout",
     "output_type": "stream",
     "text": [
      "коэф Пирсона -0.6548486232042469\n",
      "коэф Пирсона, без выброса -0.6519355265052948\n"
     ]
    }
   ],
   "source": [
    "print('коэф Пирсона', water[['mortality', 'hardness']].corr().loc['mortality','hardness'])\n",
    "print('коэф Пирсона, без выброса', water[water.mortality < 1900][['mortality', 'hardness']].corr().loc['mortality','hardness'])"
   ]
  },
  {
   "cell_type": "markdown",
   "metadata": {},
   "source": [
    "У нас два непрерывных количественных признака и это случай использования коэффициента Пирсона. Но некоторые рекомендуют использовать Спирмена в случае с отклонением от нормальности. Хотя есть мнение, что доказательства того, что Спирмен справится лучше, неочевидны. Также есть мнение, что значительное различие Пирсона и Спирмена может указывать на наличие значительных выбросов. Ранговый коэффициент корреляции Спирмена получился немного ниже Пирсона, что на мой взгляд скорее всего означает отсутствие серьезных проблем с выбросами и асимметричностью."
   ]
  },
  {
   "cell_type": "code",
   "execution_count": 10,
   "metadata": {
    "scrolled": true
   },
   "outputs": [
    {
     "data": {
      "text/plain": [
       "-0.6316646189166502"
      ]
     },
     "execution_count": 10,
     "metadata": {},
     "output_type": "execute_result"
    }
   ],
   "source": [
    "water[['mortality', 'hardness']].corr(method = 'spearman').loc['mortality','hardness']"
   ]
  },
  {
   "cell_type": "markdown",
   "metadata": {},
   "source": [
    "<a href=\"#0\"><h4>Наверх</h4></a>"
   ]
  },
  {
   "cell_type": "markdown",
   "metadata": {},
   "source": [
    "<p id=\"2.2\">\n",
    "<h4>Регрессия 1</h4>"
   ]
  },
  {
   "cell_type": "markdown",
   "metadata": {},
   "source": [
    "Определяем зависимую и независимую переменные, будем прогнозировать смертность на основе жесткости воды:"
   ]
  },
  {
   "cell_type": "code",
   "execution_count": 11,
   "metadata": {},
   "outputs": [],
   "source": [
    "X = water[['hardness']]\n",
    "y = water['mortality']"
   ]
  },
  {
   "cell_type": "markdown",
   "metadata": {},
   "source": [
    "Поделим данные случайным образом на обучающую и тестовую выборку, с общепринятыми 30% на тест:"
   ]
  },
  {
   "cell_type": "code",
   "execution_count": 12,
   "metadata": {},
   "outputs": [],
   "source": [
    "X_train, X_test, y_train, y_test = train_test_split(X, y, test_size = 0.30, random_state = 42)"
   ]
  },
  {
   "cell_type": "markdown",
   "metadata": {},
   "source": [
    "Обучим модель линейной регрессии на обучающей выборке:"
   ]
  },
  {
   "cell_type": "code",
   "execution_count": 13,
   "metadata": {},
   "outputs": [
    {
     "data": {
      "text/plain": [
       "LinearRegression()"
      ]
     },
     "execution_count": 13,
     "metadata": {},
     "output_type": "execute_result"
    }
   ],
   "source": [
    "model = LinearRegression()\n",
    "model.fit(X_train, y_train)"
   ]
  },
  {
   "cell_type": "markdown",
   "metadata": {},
   "source": [
    "* Модель однофакторной линейной регресии.\n",
    "* Угловой коэффициент отрицательный, что согласуется с обратной корреляцией между переменными.\n",
    "* При сравнении двух городов, в городе с жесткостью воды на единицу выше, ожидается (в среднем) смертность на 3,1 (на 100тыс) ниже.\n",
    "* При нулевой жесткости смертность ожидается на уровне 1668 (константа). Не знаю, возможна ли в приципе нулевая жесткость воды, но в наших данных минимум это 5. Грубо говоря, получается это такая максимальная смертность по модели, так как при возрастании Х от 0 выше, прогнозная смертность будет понижаться."
   ]
  },
  {
   "cell_type": "code",
   "execution_count": 14,
   "metadata": {},
   "outputs": [
    {
     "name": "stdout",
     "output_type": "stream",
     "text": [
      "y = -3.13 X + 1668.97\n"
     ]
    }
   ],
   "source": [
    "print(f'y = {model.coef_[0]:.2f} X + {model.intercept_:.2f}')"
   ]
  },
  {
   "cell_type": "markdown",
   "metadata": {},
   "source": [
    "Коэффициент детерминации: наша модель объясняет зависимость между смертностью и жесткостью воды лучше чем наивная модель, но на средне-слабом уровне, 50 % дисперсии смертности объясняется жесткостью воды, нашей регрессионной моделью."
   ]
  },
  {
   "cell_type": "code",
   "execution_count": 15,
   "metadata": {},
   "outputs": [
    {
     "data": {
      "text/plain": [
       "0.5046490611017092"
      ]
     },
     "execution_count": 15,
     "metadata": {},
     "output_type": "execute_result"
    }
   ],
   "source": [
    "y_pred = model.predict(X_test)\n",
    "model.score(X_test, y_test)"
   ]
  },
  {
   "cell_type": "markdown",
   "metadata": {},
   "source": [
    "Посмотрим на взаимосвязь между переменными в обучающей и тестовой выборках. При такой разбивке в обеих выборках прослеживается обратная линейная средняя связь."
   ]
  },
  {
   "cell_type": "code",
   "execution_count": 16,
   "metadata": {
    "scrolled": true
   },
   "outputs": [
    {
     "data": {
      "image/png": "[encoded data removed]",
      "text/plain": [
       "<Figure size 1080x360 with 2 Axes>"
      ]
     },
     "metadata": {
      "needs_background": "light"
     },
     "output_type": "display_data"
    }
   ],
   "source": [
    "plt.figure(figsize = (15, 5)) \n",
    "plt.subplot(1, 2, 1)\n",
    "plt.scatter(X_train, y_train);\n",
    "plt.title('обучающая выборка');\n",
    "plt.xlabel('жесткость');\n",
    "plt.ylabel('смертность');\n",
    "plt.subplot(1, 2, 2)\n",
    "plt.scatter(X_test, y_test);\n",
    "plt.title('тестовая выборка');\n",
    "plt.xlabel('жесткость');\n",
    "plt.ylabel('смертность');"
   ]
  },
  {
   "cell_type": "markdown",
   "metadata": {},
   "source": [
    "Проверим выполнение условий регрессионной процедуры."
   ]
  },
  {
   "cell_type": "markdown",
   "metadata": {},
   "source": [
    "Посмотрим распределение остатков. Ошибка прогноза, остаток - необъясненная вариация смертности. Гистограмма разве что отдаленно напоминает нормальное распределение."
   ]
  },
  {
   "cell_type": "code",
   "execution_count": 17,
   "metadata": {
    "scrolled": true
   },
   "outputs": [
    {
     "data": {
      "image/png": "[encoded data removed]",
      "text/plain": [
       "<Figure size 432x288 with 1 Axes>"
      ]
     },
     "metadata": {
      "needs_background": "light"
     },
     "output_type": "display_data"
    }
   ],
   "source": [
    "plt.hist(y_test - y_pred);\n",
    "plt.title('остатки');"
   ]
  },
  {
   "cell_type": "markdown",
   "metadata": {},
   "source": [
    "Построим QQ plot - точки в целом двигаются вдоль прямой. Будем считать, что серьезного отклонения остатков от нормального распределения нет."
   ]
  },
  {
   "cell_type": "code",
   "execution_count": 18,
   "metadata": {},
   "outputs": [
    {
     "data": {
      "image/png": "[encoded data removed]",
      "text/plain": [
       "<Figure size 432x288 with 1 Axes>"
      ]
     },
     "metadata": {
      "needs_background": "light"
     },
     "output_type": "display_data"
    }
   ],
   "source": [
    "statsmodels.graphics.gofplots.qqplot(y_test - y_pred, line = 'q');"
   ]
  },
  {
   "cell_type": "markdown",
   "metadata": {},
   "source": [
    "Посмотрим на взаимосвязь прогнозных значений и остатков. У нас не временные ряды, но тем не менее какой-то зависимости не наблюдается. Остатки выглядят достаточно хаотичными, в чередованиии знаков закономерности не наблюдается (независимость остатков). Вариация остатков в целом одинакова вдоль оси х, тенденции не наблюдается (гомоскедастичность). Точки достаточно рассеяны/удалены относительно нуля - невысокая точность прогноза."
   ]
  },
  {
   "cell_type": "code",
   "execution_count": 19,
   "metadata": {
    "scrolled": true
   },
   "outputs": [
    {
     "data": {
      "image/png": "[encoded data removed]",
      "text/plain": [
       "<Figure size 504x360 with 1 Axes>"
      ]
     },
     "metadata": {
      "needs_background": "light"
     },
     "output_type": "display_data"
    }
   ],
   "source": [
    "plt.figure(figsize = (7, 5)) \n",
    "plt.scatter(y_pred, y_test - y_pred);\n",
    "plt.title('остатки vs прогнозная смертность');\n",
    "plt.xlabel('прогноз смертности');\n",
    "plt.ylabel('остатки');"
   ]
  },
  {
   "cell_type": "markdown",
   "metadata": {},
   "source": [
    "Построение графика остатков против независимой переменной может помочь обнаружить упущенную нелинейность модели. В данном случае остатки достаточно хаотично распределены, нелинейной зависимости не наблюдается."
   ]
  },
  {
   "cell_type": "code",
   "execution_count": 20,
   "metadata": {
    "scrolled": true
   },
   "outputs": [
    {
     "data": {
      "image/png": "[encoded data removed]",
      "text/plain": [
       "<Figure size 504x360 with 1 Axes>"
      ]
     },
     "metadata": {
      "needs_background": "light"
     },
     "output_type": "display_data"
    }
   ],
   "source": [
    "plt.figure(figsize = (7, 5)) \n",
    "plt.scatter(X_test, y_test - y_pred);\n",
    "plt.title('остатки vs жесткость');\n",
    "plt.xlabel('жесткость');\n",
    "plt.ylabel('остатки');"
   ]
  },
  {
   "cell_type": "markdown",
   "metadata": {},
   "source": [
    "Посмотрим еще раз на взаимосвязь жесткости и смертности на тестовой выборке. Нанесем на график линию регресии, т.е. прогнозные значения, и выделим остатки. Снова видим, что многие точки прогноза значительно удалены от фактических:"
   ]
  },
  {
   "cell_type": "code",
   "execution_count": 21,
   "metadata": {},
   "outputs": [
    {
     "data": {
      "image/png": "[encoded data removed]",
      "text/plain": [
       "<Figure size 360x360 with 1 Axes>"
      ]
     },
     "metadata": {
      "needs_background": "light"
     },
     "output_type": "display_data"
    }
   ],
   "source": [
    "fig, ax = plt.subplots()\n",
    "fig.set_figheight(5)\n",
    "fig.set_figwidth(5)\n",
    "ax.plot(X_test, y_pred);\n",
    "ax.scatter(X_test, y_test);\n",
    "ax.vlines(X_test, y_pred, y_test);\n",
    "ax.set(xlabel = 'hardness', ylabel = 'mortality')\n",
    "plt.title('тестовая выборка, регрессия, остатки');\n",
    "plt.xlabel('жесткость');\n",
    "plt.ylabel('смертность');"
   ]
  },
  {
   "cell_type": "code",
   "execution_count": 22,
   "metadata": {},
   "outputs": [],
   "source": [
    "import numpy as np"
   ]
  },
  {
   "cell_type": "markdown",
   "metadata": {},
   "source": [
    "<a href=\"#0\"><h4>Наверх</h4></a>"
   ]
  },
  {
   "cell_type": "markdown",
   "metadata": {},
   "source": [
    "<p id=\"2.3\">\n",
    "<h4>Кросс-валидация 1</h4>"
   ]
  },
  {
   "cell_type": "markdown",
   "metadata": {},
   "source": [
    "Датасет очень маленький, в таких случаях разделение выборки на обучающую и тестовую может иметь значительное влияние на результат. Проверим устойчивость наших результатов с помощью \"ручной\" кросс-валидации."
   ]
  },
  {
   "cell_type": "markdown",
   "metadata": {},
   "source": [
    "* Построим модель на 1000 случайных обучающих выборок. Посчитаем коэффициенты регрессии: средние, медианные, min, max.\n",
    "* Оценим модель на 1000 случайных тестовых выборках. Посчитаем коэффициент детерминации: средний, медианный, min, max.\n",
    "* Получившийся выше коэффициент детерминации 0.5 скорее всего случайным образом завышен, тк на 1000 выборок средний 0.34, медианный 0.38.\n",
    "* Коэффициенты регрессии отличаются незначительно.\n",
    "* Так как данных мало, а в тестовой выборе их оказывается совсем немного, то разбивка на выборки вероятно оказывает влияние на расчет коэффициента детерминации."
   ]
  },
  {
   "cell_type": "code",
   "execution_count": 23,
   "metadata": {
    "scrolled": true
   },
   "outputs": [
    {
     "name": "stdout",
     "output_type": "stream",
     "text": [
      "угловой коэффициент\n",
      "-3.224223735811647 -3.2208267281682534 -4.209923889250558 -2.128715869197192\n",
      "свободный коэффициент\n",
      "1676.6393305716895 1676.610741148414 1616.5961179749117 1743.2960189145974\n",
      "коэф. детерминации\n",
      "0.3332891222287791 0.3789493776522817 -0.6520265100023732 0.6605159109816967\n"
     ]
    }
   ],
   "source": [
    "reg_dict = {'a':[],'b':[],'R':[]}\n",
    "for i in range(1000):\n",
    "    X_train_, X_test_, y_train_, y_test_ = train_test_split(X, y, test_size = 0.30)\n",
    "    model_ = LinearRegression()\n",
    "    model_.fit(X_train_, y_train_)\n",
    "    reg_dict['a'].append(model_.coef_[0])\n",
    "    reg_dict['b'].append(model_.intercept_)\n",
    "    y_pred_ = model_.predict(X_test_)\n",
    "    reg_dict['R'].append(model_.score(X_test_, y_test_))\n",
    "\n",
    "print('угловой коэффициент')\n",
    "print(np.mean(np.array(reg_dict['a'])), \n",
    "        np.median(np.array(reg_dict['a'])), \n",
    "        np.min(np.array(reg_dict['a'])), \n",
    "        np.max(np.array(reg_dict['a'])))\n",
    "print('свободный коэффициент')\n",
    "print(np.mean(np.array(reg_dict['b'])), \n",
    "      np.median(np.array(reg_dict['b'])),\n",
    "      np.min(np.array(reg_dict['b'])), \n",
    "      np.max(np.array(reg_dict['b'])))\n",
    "print('коэф. детерминации')\n",
    "print(np.mean(np.array(reg_dict['R'])),\n",
    "      np.median(np.array(reg_dict['R'])),\n",
    "      np.min(np.array(reg_dict['R'])),\n",
    "      np.max(np.array(reg_dict['R'])))"
   ]
  },
  {
   "cell_type": "markdown",
   "metadata": {},
   "source": [
    "<a href=\"#0\"><h4>Наверх</h4></a>"
   ]
  },
  {
   "cell_type": "markdown",
   "metadata": {},
   "source": [
    "<p id=\"2.4\">\n",
    "<h4>Регрессия 2</h4>"
   ]
  },
  {
   "cell_type": "markdown",
   "metadata": {},
   "source": [
    "Объем данных маленький, всего 61 строка. Попробуем оставить больше долю на учебную выборку, так как важнее, чтобы модель лучше обучилась. Указываем то же зерно случайности как выше. Все коэффициенты изменились незначительно по сравнению с разбивкой 30/70."
   ]
  },
  {
   "cell_type": "code",
   "execution_count": 24,
   "metadata": {
    "scrolled": true
   },
   "outputs": [
    {
     "name": "stdout",
     "output_type": "stream",
     "text": [
      "y = -3.28 X + 1683.92\n",
      "0.5099679408034544\n"
     ]
    }
   ],
   "source": [
    "X_train_2, X_test_2, y_train_2, y_test_2 = train_test_split(X, y, test_size = 0.20, random_state = 42)\n",
    "model_2 = LinearRegression()\n",
    "model_2.fit(X_train_2, y_train_2)\n",
    "print(f'y = {model_2.coef_[0]:.2f} X + {model_2.intercept_:.2f}')\n",
    "y_pred_2 = model_2.predict(X_test_2)\n",
    "print(model_2.score(X_test_2, y_test_2))"
   ]
  },
  {
   "cell_type": "markdown",
   "metadata": {},
   "source": [
    "Поведение остатков по сути не отличается:"
   ]
  },
  {
   "cell_type": "code",
   "execution_count": 25,
   "metadata": {},
   "outputs": [
    {
     "data": {
      "image/png": "[encoded data removed]",
      "text/plain": [
       "<Figure size 432x288 with 1 Axes>"
      ]
     },
     "metadata": {
      "needs_background": "light"
     },
     "output_type": "display_data"
    }
   ],
   "source": [
    "statsmodels.graphics.gofplots.qqplot(y_test_2 - y_pred_2, line = 'q');"
   ]
  },
  {
   "cell_type": "code",
   "execution_count": 26,
   "metadata": {
    "scrolled": false
   },
   "outputs": [
    {
     "data": {
      "image/png": "[encoded data removed]",
      "text/plain": [
       "<Figure size 360x360 with 1 Axes>"
      ]
     },
     "metadata": {
      "needs_background": "light"
     },
     "output_type": "display_data"
    }
   ],
   "source": [
    "plt.figure(figsize = (5, 5)) \n",
    "plt.scatter(y_pred_2, y_test_2 - y_pred_2);\n",
    "plt.title('остатки vs прогнозная смертность');\n",
    "plt.xlabel('прогноз смертности');\n",
    "plt.ylabel('остатки');"
   ]
  },
  {
   "cell_type": "markdown",
   "metadata": {},
   "source": [
    "Проведем кросс-валидацию.<br>\n",
    "* Коэффициенты регрессии отличаются незначительно от 1000 выборок с разбивкой 30/70 и от случайной разбивки 20/80.\n",
    "* По коэффициенту детерминации разброс больше чем на выборках 30/70: средний 0.29, медианный 0.36. Коэффициент, полученный на случайной выборке 20/80 так же выглядит завышенным."
   ]
  },
  {
   "cell_type": "code",
   "execution_count": 27,
   "metadata": {
    "scrolled": true
   },
   "outputs": [
    {
     "name": "stdout",
     "output_type": "stream",
     "text": [
      "угловой коэффициент\n",
      "-3.228217472752208 -3.2319819397045064 -3.8936239368713768 -2.3691349897268017\n",
      "свободный коэффициент\n",
      "1676.6099007739956 1676.885980561556 1625.04648983287 1724.107845993206\n",
      "коэф. детерминации\n",
      "0.30807857930264426 0.3549922353778145 -1.004040071854578 0.7775539049513844\n"
     ]
    }
   ],
   "source": [
    "reg_dict_2 = {'a':[],'b':[],'R':[]}\n",
    "for i in range(1000):\n",
    "    X_train_2_, X_test_2_, y_train_2_, y_test_2_ = train_test_split(X, y, test_size=0.20)\n",
    "    model_2_ = LinearRegression()\n",
    "    model_2_.fit(X_train_2_, y_train_2_)\n",
    "    reg_dict_2['a'].append(model_2_.coef_[0])\n",
    "    reg_dict_2['b'].append(model_2_.intercept_)\n",
    "    y_pred_2_ = model_2_.predict(X_test_2_)\n",
    "    reg_dict_2['R'].append(model_2_.score(X_test_2_, y_test_2_))\n",
    "\n",
    "print('угловой коэффициент')\n",
    "print(np.mean(np.array(reg_dict_2['a'])),\n",
    "     np.median(np.array(reg_dict_2['a'])),\n",
    "     np.min(np.array(reg_dict_2['a'])),\n",
    "     np.max(np.array(reg_dict_2['a'])))\n",
    "print('свободный коэффициент')\n",
    "print(np.mean(np.array(reg_dict_2['b'])),\n",
    "     np.median(np.array(reg_dict_2['b'])),\n",
    "      np.min(np.array(reg_dict_2['b'])),\n",
    "      np.max(np.array(reg_dict_2['b'])))\n",
    "print('коэф. детерминации')\n",
    "print(np.mean(np.array(reg_dict_2['R'])),\n",
    "     np.median(np.array(reg_dict_2['R'])),\n",
    "     np.min(np.array(reg_dict_2['R'])),\n",
    "     np.max(np.array(reg_dict_2['R'])))"
   ]
  },
  {
   "cell_type": "markdown",
   "metadata": {},
   "source": [
    "<a href=\"#0\"><h4>Наверх</h4></a>"
   ]
  },
  {
   "cell_type": "markdown",
   "metadata": {},
   "source": [
    "<p id=\"2.5\">\n",
    "<h4>Вывод</h4><br>\n",
    "* По одной случайной разбивке на обучающую и тестовую выборки (20 и 30%) получается модель, по которой 50 % дисперсии смертности объясняется жесткостью воды.<br>\n",
    "* Но если построить и оценить модель на 1000 случайных разбивок, получается что в среднем коэффициенты этих моделей незначительно отличаются,  а вот коэф. детерминации средний 0.3, медианный 0.37.<br>\n",
    "* При этом разброс его значений в выборках 30/70 от -0.6 до 0.6, а в выборках 20/80 еще больше: от -2.5 до 0.7.<br>\n",
    "* Я бы сказала, что средняя корреляция между смертностью и жесткостью есть. Но опираться на прогноз смертности на основе жесткости воды не стоит - качество такой модели судя по всему достаточно низкое.<br>\n",
    "* Возможно есть какой-то \"третий\" признак, который связывает смертность и жесткость."
   ]
  },
  {
   "cell_type": "markdown",
   "metadata": {},
   "source": [
    "<p id=\"3\">\n",
    "<h3>Часть 2 (юг и север)</h3>\n"
   ]
  },
  {
   "cell_type": "markdown",
   "metadata": {},
   "source": [
    "Разделим данные на две группы: южные и северные города."
   ]
  },
  {
   "cell_type": "code",
   "execution_count": 28,
   "metadata": {},
   "outputs": [],
   "source": [
    "water_south = water[water.location == 'South']\n",
    "water_north = water[water.location == 'North']"
   ]
  },
  {
   "cell_type": "markdown",
   "metadata": {},
   "source": [
    "* Показатели смертности на севере выше чем на юге: и по среднему, по всем квартилям, по min и max.\n",
    "* Показатели жесткости воды на севере ниже чем на юге: по среднему и по всем квантилям.\n",
    "* Может быть есть какой-то \"третий\" фактор, связанные с повышенной смертностью на севере?"
   ]
  },
  {
   "cell_type": "code",
   "execution_count": 29,
   "metadata": {
    "scrolled": true
   },
   "outputs": [
    {
     "data": {
      "text/html": [
       "<div>\n",
       "<style scoped>\n",
       "    .dataframe tbody tr th:only-of-type {\n",
       "        vertical-align: middle;\n",
       "    }\n",
       "\n",
       "    .dataframe tbody tr th {\n",
       "        vertical-align: top;\n",
       "    }\n",
       "\n",
       "    .dataframe thead th {\n",
       "        text-align: right;\n",
       "    }\n",
       "</style>\n",
       "<table border=\"1\" class=\"dataframe\">\n",
       "  <thead>\n",
       "    <tr style=\"text-align: right;\">\n",
       "      <th></th>\n",
       "      <th>mortality</th>\n",
       "      <th>hardness</th>\n",
       "    </tr>\n",
       "  </thead>\n",
       "  <tbody>\n",
       "    <tr>\n",
       "      <th>count</th>\n",
       "      <td>26.000000</td>\n",
       "      <td>26.000000</td>\n",
       "    </tr>\n",
       "    <tr>\n",
       "      <th>mean</th>\n",
       "      <td>1376.807692</td>\n",
       "      <td>69.769231</td>\n",
       "    </tr>\n",
       "    <tr>\n",
       "      <th>std</th>\n",
       "      <td>140.269175</td>\n",
       "      <td>40.360682</td>\n",
       "    </tr>\n",
       "    <tr>\n",
       "      <th>min</th>\n",
       "      <td>1096.000000</td>\n",
       "      <td>5.000000</td>\n",
       "    </tr>\n",
       "    <tr>\n",
       "      <th>25%</th>\n",
       "      <td>1259.250000</td>\n",
       "      <td>40.250000</td>\n",
       "    </tr>\n",
       "    <tr>\n",
       "      <th>50%</th>\n",
       "      <td>1364.000000</td>\n",
       "      <td>75.500000</td>\n",
       "    </tr>\n",
       "    <tr>\n",
       "      <th>75%</th>\n",
       "      <td>1485.750000</td>\n",
       "      <td>99.750000</td>\n",
       "    </tr>\n",
       "    <tr>\n",
       "      <th>max</th>\n",
       "      <td>1627.000000</td>\n",
       "      <td>138.000000</td>\n",
       "    </tr>\n",
       "  </tbody>\n",
       "</table>\n",
       "</div>"
      ],
      "text/plain": [
       "         mortality    hardness\n",
       "count    26.000000   26.000000\n",
       "mean   1376.807692   69.769231\n",
       "std     140.269175   40.360682\n",
       "min    1096.000000    5.000000\n",
       "25%    1259.250000   40.250000\n",
       "50%    1364.000000   75.500000\n",
       "75%    1485.750000   99.750000\n",
       "max    1627.000000  138.000000"
      ]
     },
     "execution_count": 29,
     "metadata": {},
     "output_type": "execute_result"
    }
   ],
   "source": [
    "water_south.describe()"
   ]
  },
  {
   "cell_type": "code",
   "execution_count": 30,
   "metadata": {
    "scrolled": false
   },
   "outputs": [
    {
     "data": {
      "text/html": [
       "<div>\n",
       "<style scoped>\n",
       "    .dataframe tbody tr th:only-of-type {\n",
       "        vertical-align: middle;\n",
       "    }\n",
       "\n",
       "    .dataframe tbody tr th {\n",
       "        vertical-align: top;\n",
       "    }\n",
       "\n",
       "    .dataframe thead th {\n",
       "        text-align: right;\n",
       "    }\n",
       "</style>\n",
       "<table border=\"1\" class=\"dataframe\">\n",
       "  <thead>\n",
       "    <tr style=\"text-align: right;\">\n",
       "      <th></th>\n",
       "      <th>mortality</th>\n",
       "      <th>hardness</th>\n",
       "    </tr>\n",
       "  </thead>\n",
       "  <tbody>\n",
       "    <tr>\n",
       "      <th>count</th>\n",
       "      <td>35.000000</td>\n",
       "      <td>35.000000</td>\n",
       "    </tr>\n",
       "    <tr>\n",
       "      <th>mean</th>\n",
       "      <td>1633.600000</td>\n",
       "      <td>30.400000</td>\n",
       "    </tr>\n",
       "    <tr>\n",
       "      <th>std</th>\n",
       "      <td>136.936911</td>\n",
       "      <td>26.134494</td>\n",
       "    </tr>\n",
       "    <tr>\n",
       "      <th>min</th>\n",
       "      <td>1378.000000</td>\n",
       "      <td>6.000000</td>\n",
       "    </tr>\n",
       "    <tr>\n",
       "      <th>25%</th>\n",
       "      <td>1557.500000</td>\n",
       "      <td>12.500000</td>\n",
       "    </tr>\n",
       "    <tr>\n",
       "      <th>50%</th>\n",
       "      <td>1637.000000</td>\n",
       "      <td>17.000000</td>\n",
       "    </tr>\n",
       "    <tr>\n",
       "      <th>75%</th>\n",
       "      <td>1718.000000</td>\n",
       "      <td>44.000000</td>\n",
       "    </tr>\n",
       "    <tr>\n",
       "      <th>max</th>\n",
       "      <td>1987.000000</td>\n",
       "      <td>94.000000</td>\n",
       "    </tr>\n",
       "  </tbody>\n",
       "</table>\n",
       "</div>"
      ],
      "text/plain": [
       "         mortality   hardness\n",
       "count    35.000000  35.000000\n",
       "mean   1633.600000  30.400000\n",
       "std     136.936911  26.134494\n",
       "min    1378.000000   6.000000\n",
       "25%    1557.500000  12.500000\n",
       "50%    1637.000000  17.000000\n",
       "75%    1718.000000  44.000000\n",
       "max    1987.000000  94.000000"
      ]
     },
     "execution_count": 30,
     "metadata": {},
     "output_type": "execute_result"
    }
   ],
   "source": [
    "water_north.describe()"
   ]
  },
  {
   "cell_type": "markdown",
   "metadata": {},
   "source": [
    "Распределение жесткости на севере значительно асимметричное (скошено вправо) по сравнению с югом:"
   ]
  },
  {
   "cell_type": "code",
   "execution_count": 31,
   "metadata": {},
   "outputs": [
    {
     "data": {
      "image/png": "[encoded data removed]",
      "text/plain": [
       "<Figure size 864x576 with 4 Axes>"
      ]
     },
     "metadata": {
      "needs_background": "light"
     },
     "output_type": "display_data"
    }
   ],
   "source": [
    "plt.figure(figsize = (12, 8)) \n",
    "plt.subplot(2, 2, 1)\n",
    "plt.hist(water_north.mortality);\n",
    "plt.title('Смертность - север');\n",
    "plt.subplot(2, 2, 2)\n",
    "plt.hist(water_south.mortality);\n",
    "plt.title('Смертность - юг');\n",
    "plt.subplot(2, 2, 3)\n",
    "plt.hist(water_north.hardness);\n",
    "plt.title('Жесткость - север');\n",
    "plt.subplot(2, 2, 4)\n",
    "plt.hist(water_south.hardness);\n",
    "plt.title('Жесткость - юг');"
   ]
  },
  {
   "cell_type": "markdown",
   "metadata": {},
   "source": [
    "<p id=\"3.1\">\n",
    "<h4>Корреляция</h4>\n"
   ]
  },
  {
   "cell_type": "markdown",
   "metadata": {},
   "source": [
    "* Наблюдается средняя линейная обратная связь по южным городам. При увеличении жесткости воды смертность имеет тенденцию к снижению.\n",
    "* Но по северным городам график более хаотичный, связь слабая или может быть нелинейная (немного напоминает гиперболу)?\n",
    "* На севере снова бросается в глаза точка со смертностью около 2000.\n",
    "* На севере связь лучше прослеживается в зоне низкой жесткости воды."
   ]
  },
  {
   "cell_type": "code",
   "execution_count": 32,
   "metadata": {
    "scrolled": true
   },
   "outputs": [
    {
     "data": {
      "image/png": "[encoded data removed]",
      "text/plain": [
       "<Figure size 864x360 with 2 Axes>"
      ]
     },
     "metadata": {
      "needs_background": "light"
     },
     "output_type": "display_data"
    }
   ],
   "source": [
    "plt.figure(figsize = (12, 5)) \n",
    "plt.subplot(1, 2, 1)\n",
    "plt.scatter(water_south.hardness, water_south.mortality);\n",
    "plt.title('Юг');\n",
    "plt.xlabel('жесткость');\n",
    "plt.ylabel('смертность');\n",
    "plt.subplot(1, 2, 2)\n",
    "plt.scatter(water_north.hardness, water_north.mortality);\n",
    "plt.title('Север');\n",
    "plt.xlabel('жесткость');\n",
    "plt.ylabel('смертность');"
   ]
  },
  {
   "cell_type": "markdown",
   "metadata": {},
   "source": [
    "Коэффициент Пирсона по южным городам похож на коэффициент по общей выборке - средняя обратная связь. А коэффициент по северным значительно меньше - слабая обратная линейная связь. Исключение выброса со смертностью около 2000 на коэффициент севера почти не повлияло:"
   ]
  },
  {
   "cell_type": "code",
   "execution_count": 33,
   "metadata": {},
   "outputs": [
    {
     "name": "stdout",
     "output_type": "stream",
     "text": [
      "юг -0.6021532715484159\n",
      "север -0.3685978383288716\n",
      "север, без выброса -0.3413952194063407\n"
     ]
    }
   ],
   "source": [
    "print('юг', water_south[['mortality', 'hardness']].corr().loc['mortality','hardness'])\n",
    "print('север', water_north[['mortality', 'hardness']].corr().loc['mortality','hardness'])\n",
    "print('север, без выброса', water_north[water.mortality < 1900][['mortality', 'hardness']].corr().loc['mortality','hardness'])"
   ]
  },
  {
   "cell_type": "markdown",
   "metadata": {},
   "source": [
    "Коэффициент Спирмена по обеим группам близок Пирсону:"
   ]
  },
  {
   "cell_type": "code",
   "execution_count": 34,
   "metadata": {
    "scrolled": false
   },
   "outputs": [
    {
     "name": "stdout",
     "output_type": "stream",
     "text": [
      "юг -0.5957229185013566\n",
      "север -0.4042078956511175\n"
     ]
    }
   ],
   "source": [
    "print('юг', water_south[['mortality', 'hardness']].corr(method='spearman').loc['mortality','hardness'])\n",
    "print('север', water_north[['mortality', 'hardness']].corr(method='spearman').loc['mortality','hardness'])"
   ]
  },
  {
   "cell_type": "markdown",
   "metadata": {},
   "source": [
    "<a href=\"#0\"><h4>Наверх</h4></a>"
   ]
  },
  {
   "cell_type": "markdown",
   "metadata": {},
   "source": [
    "<p id=\"3.2\">\n",
    "<h4>Регрессия</h4>"
   ]
  },
  {
   "cell_type": "markdown",
   "metadata": {},
   "source": [
    "Построим регрессии для юга и севера отдельно:"
   ]
  },
  {
   "cell_type": "code",
   "execution_count": 35,
   "metadata": {},
   "outputs": [],
   "source": [
    "X_s = water_south[['hardness']]\n",
    "y_s = water_south['mortality']\n",
    "X_n = water_north[['hardness']]\n",
    "y_n = water_north['mortality']"
   ]
  },
  {
   "cell_type": "markdown",
   "metadata": {},
   "source": [
    "Так как и без того небольшой объем данных делится на две группы,  а увеличение обучающей выборки с 70 до 80% не дало явного преимущества, то оставим долю обучающей выборки на 70%. Оставляем то же зерно случайности как выше."
   ]
  },
  {
   "cell_type": "code",
   "execution_count": 36,
   "metadata": {},
   "outputs": [],
   "source": [
    "X_s_train, X_s_test, y_s_train, y_s_test = train_test_split(X_s, y_s, test_size = 0.30, random_state = 42)\n",
    "X_n_train, X_n_test, y_n_train, y_n_test = train_test_split(X_n, y_n, test_size = 0.30, random_state = 42)"
   ]
  },
  {
   "cell_type": "code",
   "execution_count": 37,
   "metadata": {},
   "outputs": [
    {
     "data": {
      "text/plain": [
       "LinearRegression()"
      ]
     },
     "execution_count": 37,
     "metadata": {},
     "output_type": "execute_result"
    }
   ],
   "source": [
    "model_s = LinearRegression()\n",
    "model_s.fit(X_s_train, y_s_train)\n",
    "model_n = LinearRegression()\n",
    "model_n.fit(X_n_train, y_n_train)"
   ]
  },
  {
   "cell_type": "markdown",
   "metadata": {},
   "source": [
    "* В обеих группах угловой коэффициент отрицательный, что согласуется с обратной корреляцией между переменными.\n",
    "* При сравнении двух южных городов, в городе с жесткостью воды на единицу выше, ожидается (в среднем) смертность на 3,5 (на 100тыс) ниже. Значение схоже с коэффициентом по общей выборке.\n",
    "* При нулевой жесткости смертность ожидается на уровне 1640 (константа).\n",
    "<br><br>\n",
    "* При сравнении двух северных городов, в городе с жесткостью воды на единицу выше, ожидается (в среднем) смертность на 2 (на 100тыс) ниже. Значение меньше по модулю чем в общей выборке и в группе южных городов.\n",
    "* При нулевой жесткости смертность ожидается на уровне 1688."
   ]
  },
  {
   "cell_type": "code",
   "execution_count": 38,
   "metadata": {
    "scrolled": true
   },
   "outputs": [
    {
     "name": "stdout",
     "output_type": "stream",
     "text": [
      "юг -3.513429212378231 1640.2204603423374\n",
      "север -1.9768622600638235 1688.150229031281\n"
     ]
    }
   ],
   "source": [
    "print('юг', model_s.coef_[0], model_s.intercept_)\n",
    "print('север', model_n.coef_[0], model_n.intercept_)"
   ]
  },
  {
   "cell_type": "markdown",
   "metadata": {},
   "source": [
    "* По южным городам получается неадекватное значение коэффициента детерминации - модель работает хуже наивной?\n",
    "* По северным городам коэффициент по сути равен 0. \n",
    "* Вариация смертности не объясняется жесткостью воды, если разделить города на северные и южные."
   ]
  },
  {
   "cell_type": "code",
   "execution_count": 39,
   "metadata": {
    "scrolled": true
   },
   "outputs": [
    {
     "name": "stdout",
     "output_type": "stream",
     "text": [
      "юг -2.5519223012352077\n",
      "север 0.018885304285745863\n"
     ]
    }
   ],
   "source": [
    "y_s_pred = model_s.predict(X_s_test)\n",
    "print('юг', model_s.score(X_s_test, y_s_test))\n",
    "y_n_pred = model_n.predict(X_n_test)\n",
    "print('север', model_n.score(X_n_test, y_n_test))"
   ]
  },
  {
   "cell_type": "markdown",
   "metadata": {},
   "source": [
    "На обучающей выборке южных городов прослеживается обратная средняя связь. А на тестовой - мало точек и достаточно хаотичны,\n",
    "что видимо и привело к неадекватному коэф. детерминации."
   ]
  },
  {
   "cell_type": "code",
   "execution_count": 40,
   "metadata": {
    "scrolled": false
   },
   "outputs": [
    {
     "data": {
      "image/png": "[encoded data removed]",
      "text/plain": [
       "<Figure size 864x360 with 2 Axes>"
      ]
     },
     "metadata": {
      "needs_background": "light"
     },
     "output_type": "display_data"
    }
   ],
   "source": [
    "plt.figure(figsize = (12, 5)) \n",
    "plt.subplot(1, 2, 1)\n",
    "plt.scatter(X_s_train, y_s_train);\n",
    "plt.title('Юг (обучающая)');\n",
    "plt.xlabel('жесткость');\n",
    "plt.ylabel('смертность');\n",
    "plt.subplot(1, 2, 2)\n",
    "plt.scatter(X_s_test, y_s_test);\n",
    "plt.title('Юг (тестовая)');\n",
    "plt.xlabel('жесткость');\n",
    "plt.ylabel('смертность');"
   ]
  },
  {
   "cell_type": "markdown",
   "metadata": {},
   "source": [
    "На обучающей выборке северных городов обратная средняя связь тоже прослеживается в зоне низкой жесткости. А на тестовой- мало точек и достаточно хаотичны, что видимо и привело к неадекватному коэф. детерминации. Хотя в зоне низкой жесткости можно увидеть некоторую обратную связь."
   ]
  },
  {
   "cell_type": "code",
   "execution_count": 41,
   "metadata": {
    "scrolled": false
   },
   "outputs": [
    {
     "data": {
      "image/png": "[encoded data removed]",
      "text/plain": [
       "<Figure size 864x360 with 2 Axes>"
      ]
     },
     "metadata": {
      "needs_background": "light"
     },
     "output_type": "display_data"
    }
   ],
   "source": [
    "plt.figure(figsize = (12, 5)) \n",
    "plt.subplot(1, 2, 1)\n",
    "plt.scatter(X_n_train, y_n_train);\n",
    "plt.title('Север (обучающая)');\n",
    "plt.xlabel('жесткость');\n",
    "plt.ylabel('смертность');\n",
    "plt.subplot(1, 2, 2)\n",
    "plt.scatter(X_n_test, y_n_test);\n",
    "plt.title('Север (тестовая)');\n",
    "plt.xlabel('жесткость');\n",
    "plt.ylabel('смертность');"
   ]
  },
  {
   "cell_type": "markdown",
   "metadata": {},
   "source": [
    "Посмотрим распределение остатков. Очень мало точек, но гистограмма юга отдаленно напоминает нормальное распределение, а север - меньше."
   ]
  },
  {
   "cell_type": "code",
   "execution_count": 42,
   "metadata": {
    "scrolled": false
   },
   "outputs": [
    {
     "data": {
      "image/png": "[encoded data removed]",
      "text/plain": [
       "<Figure size 864x360 with 2 Axes>"
      ]
     },
     "metadata": {
      "needs_background": "light"
     },
     "output_type": "display_data"
    }
   ],
   "source": [
    "plt.figure(figsize = (12, 5)) \n",
    "plt.subplot(1, 2, 1)\n",
    "plt.hist(y_n_test - y_n_pred);\n",
    "plt.title('остатки (север)');\n",
    "plt.subplot(1, 2, 2)\n",
    "plt.hist(y_s_test - y_s_pred);\n",
    "plt.title('остатки (юг)');"
   ]
  },
  {
   "cell_type": "markdown",
   "metadata": {},
   "source": [
    "На QQ plot севера точки в целом двигаются вдоль прямой, на юге - более значительные отклонения по краям. Но в целом серьезного отклонения от нормального распределения, тем более для такого числа точек, нет."
   ]
  },
  {
   "cell_type": "code",
   "execution_count": 43,
   "metadata": {},
   "outputs": [
    {
     "data": {
      "image/png": "[encoded data removed]",
      "text/plain": [
       "<Figure size 432x288 with 1 Axes>"
      ]
     },
     "metadata": {
      "needs_background": "light"
     },
     "output_type": "display_data"
    }
   ],
   "source": [
    "statsmodels.graphics.gofplots.qqplot(y_n_test - y_n_pred, line = 'q');"
   ]
  },
  {
   "cell_type": "code",
   "execution_count": 44,
   "metadata": {},
   "outputs": [
    {
     "data": {
      "image/png": "[encoded data removed]",
      "text/plain": [
       "<Figure size 432x288 with 1 Axes>"
      ]
     },
     "metadata": {
      "needs_background": "light"
     },
     "output_type": "display_data"
    }
   ],
   "source": [
    "statsmodels.graphics.gofplots.qqplot(y_s_test - y_s_pred, line = 'q');"
   ]
  },
  {
   "cell_type": "markdown",
   "metadata": {},
   "source": [
    "* На юге остатки выстраиваются в некоторую систему, при меньших значениях прогноза - положительные ошибки, при более высоких - отрицательные. Точки достаточно рассеяны/удалены относительно нуля - невысокая точность прогноза.\n",
    "* На севере в чередовании знаков закономерности не наблюдается. Остатки выглядят достаточно хаотично. Точность тоже невысокая."
   ]
  },
  {
   "cell_type": "code",
   "execution_count": 45,
   "metadata": {
    "scrolled": false
   },
   "outputs": [
    {
     "data": {
      "image/png": "[encoded data removed]",
      "text/plain": [
       "<Figure size 864x360 with 2 Axes>"
      ]
     },
     "metadata": {
      "needs_background": "light"
     },
     "output_type": "display_data"
    }
   ],
   "source": [
    "plt.figure(figsize = (12, 5)) \n",
    "plt.subplot(1, 2, 1)\n",
    "plt.scatter(y_s_pred, y_s_test - y_s_pred);\n",
    "plt.title('Юг: остатки vs прогноз');\n",
    "plt.xlabel('прогнозная смертность');\n",
    "plt.ylabel('остатки');\n",
    "plt.subplot(1, 2, 2)\n",
    "plt.scatter(y_n_pred, y_n_test - y_n_pred);\n",
    "plt.title('Север: остатки vs прогноз');\n",
    "plt.xlabel('прогнозная смертность');\n",
    "plt.ylabel('остатки');"
   ]
  },
  {
   "cell_type": "markdown",
   "metadata": {},
   "source": [
    "Снова видим, что многие точки прогноза значительно удалены от фактических:"
   ]
  },
  {
   "cell_type": "code",
   "execution_count": 46,
   "metadata": {
    "scrolled": true
   },
   "outputs": [
    {
     "data": {
      "image/png": "[encoded data removed]",
      "text/plain": [
       "<Figure size 864x360 with 2 Axes>"
      ]
     },
     "metadata": {
      "needs_background": "light"
     },
     "output_type": "display_data"
    }
   ],
   "source": [
    "fig, ax = plt.subplots(1, 2, figsize = (12, 5))\n",
    "ax[0].plot(X_s_test, y_s_pred);\n",
    "ax[0].scatter(X_s_test, y_s_test);\n",
    "ax[0].vlines(X_s_test, y_s_pred, y_s_test);\n",
    "ax[0].set(title = 'Юг: тестовая выборка, регрессия, остатки', ylabel = 'смертность', xlabel = 'жесткость');\n",
    "ax[1].plot(X_n_test, y_n_pred);\n",
    "ax[1].scatter(X_n_test, y_n_test);\n",
    "ax[1].vlines(X_n_test, y_n_pred, y_n_test);\n",
    "ax[1].set(title = 'Север: тестовая выборка, регрессия, остатки', ylabel = 'смертность', xlabel = 'жесткость');"
   ]
  },
  {
   "cell_type": "markdown",
   "metadata": {},
   "source": [
    "<a href=\"#0\"><h4>Наверх</h4></a>"
   ]
  },
  {
   "cell_type": "markdown",
   "metadata": {},
   "source": [
    "<p id=\"3.3\">\n",
    "<h4>Кросс-валидация</h4>"
   ]
  },
  {
   "cell_type": "markdown",
   "metadata": {},
   "source": [
    "* Построим модель на 1000 случайных выборок. Посчитаем коэффициенты регрессии и коэффициент детерминации.\n",
    "* На юге коэффициенты регресии на 1000 выборках в среднем получились слабее, чем на одной случайной: угловой -2 и константа 1520 против углового -3.5 и константы 1650. Коэф. детерминации средний и медианный около 0.2.\n",
    "* На севере коэффициенты регресии на 1000 выборках близки к результатам одной случайной. Коэф. детерминации средний -0.15, медианный тоже отрицательный, но практически 0."
   ]
  },
  {
   "cell_type": "code",
   "execution_count": 47,
   "metadata": {
    "scrolled": true
   },
   "outputs": [
    {
     "name": "stdout",
     "output_type": "stream",
     "text": [
      "Юг\n",
      "угловой коэффициент\n",
      "-2.0804248101472993 -2.078161790011193 -3.445874063479983 -0.7850109047650516\n",
      "свободный коэффициент\n",
      "1522.21664967435 1521.9924533770163 1405.2230474545079 1644.9003057221207\n",
      "коэф. детерминации\n",
      "0.041195790824476844 0.20480444537586123 -3.9587577534100085 0.7966304594590113\n",
      "\n",
      "Север\n",
      "угловой коэффициент\n",
      "-1.9187227319893938 -1.910968878663919 -3.885350415155056 -0.12811418082467324\n",
      "свободный коэффициент\n",
      "1691.873180734969 1692.2459653660208 1615.4779416733568 1758.3592277317662\n",
      "коэф. детерминации\n",
      "-0.13993997093692037 0.009363878275554405 -4.670093752795147 0.39947637541945746\n"
     ]
    }
   ],
   "source": [
    "reg_dict_s = {'a':[],'b':[],'R':[]}\n",
    "reg_dict_n = {'a':[],'b':[],'R':[]}\n",
    "for i in range(1000):\n",
    "    X_s_train_2, X_s_test_2, y_s_train_2, y_s_test_2 = train_test_split(X_s, y_s, test_size = 0.30)\n",
    "    model_s_2 = LinearRegression()\n",
    "    model_s_2.fit(X_s_train_2, y_s_train_2)\n",
    "    reg_dict_s['a'].append(model_s_2.coef_[0])\n",
    "    reg_dict_s['b'].append(model_s_2.intercept_)\n",
    "    y_s_pred_2 = model_s_2.predict(X_s_test_2)\n",
    "    reg_dict_s['R'].append(model_s_2.score(X_s_test_2, y_s_test_2))\n",
    "    \n",
    "    X_n_train_2, X_n_test_2, y_n_train_2, y_n_test_2 = train_test_split(X_n, y_n, test_size = 0.30)\n",
    "    model_n_2 = LinearRegression()\n",
    "    model_n_2.fit(X_n_train_2, y_n_train_2)\n",
    "    reg_dict_n['a'].append(model_n_2.coef_[0])\n",
    "    reg_dict_n['b'].append(model_n_2.intercept_)\n",
    "    y_n_pred_2 = model_n_2.predict(X_n_test_2)\n",
    "    reg_dict_n['R'].append(model_n_2.score(X_n_test_2, y_n_test_2))\n",
    "\n",
    "print('Юг')\n",
    "print('угловой коэффициент')\n",
    "print(np.mean(np.array(reg_dict_s['a'])),\n",
    "      np.median(np.array(reg_dict_s['a'])),\n",
    "      np.min(np.array(reg_dict_s['a'])),\n",
    "      np.max(np.array(reg_dict_s['a'])))\n",
    "print('свободный коэффициент')\n",
    "print(np.mean(np.array(reg_dict_s['b'])),\n",
    "      np.median(np.array(reg_dict_s['b'])),\n",
    "      np.min(np.array(reg_dict_s['b'])),\n",
    "      np.max(np.array(reg_dict_s['b'])))\n",
    "print('коэф. детерминации')\n",
    "print(np.mean(np.array(reg_dict_s['R'])),\n",
    "      np.median(np.array(reg_dict_s['R'])),\n",
    "      np.min(np.array(reg_dict_s['R'])),\n",
    "      np.max(np.array(reg_dict_s['R'])))\n",
    "print()\n",
    "print('Север')\n",
    "print('угловой коэффициент')\n",
    "print(np.mean(np.array(reg_dict_n['a'])),\n",
    "      np.median(np.array(reg_dict_n['a'])),\n",
    "      np.min(np.array(reg_dict_n['a'])),\n",
    "      np.max(np.array(reg_dict_n['a'])))\n",
    "print('свободный коэффициент')\n",
    "print(np.mean(np.array(reg_dict_n['b'])),\n",
    "      np.median(np.array(reg_dict_n['b'])),\n",
    "      np.min(np.array(reg_dict_n['b'])),\n",
    "      np.max(np.array(reg_dict_n['b'])))\n",
    "print('коэф. детерминации')\n",
    "print(np.mean(np.array(reg_dict_n['R'])),\n",
    "      np.median(np.array(reg_dict_n['R'])),\n",
    "      np.min(np.array(reg_dict_n['R'])),\n",
    "      np.max(np.array(reg_dict_n['R'])))"
   ]
  },
  {
   "cell_type": "markdown",
   "metadata": {},
   "source": [
    "<a href=\"#0\"><h4>Наверх</h4></a>"
   ]
  },
  {
   "cell_type": "markdown",
   "metadata": {},
   "source": [
    "<p id=\"3.4\">\n",
    "<h4>Вывод</h4><br>\n",
    "* Я бы сказала, что средняя, близкая к слабой корреляция между смертностью и жесткостью есть в южных городах, в северных она слабая.<br>\n",
    "* И на севере и на юге, и по одной случайной разбивке на обучающую и тестовую выборки и по 1000 разбивкам, получаются модели, по которым в среднем жесткость воды практически не объясняет вариацию смертности."
   ]
  },
  {
   "cell_type": "markdown",
   "metadata": {},
   "source": [
    "<p id=\"4\">\n",
    "<h3>Дополнительно (двухфакторная)</h3>\n",
    "<p id=\"4.1\">\n",
    "<h4>Регрессия</h4>"
   ]
  },
  {
   "cell_type": "markdown",
   "metadata": {},
   "source": [
    "Чтобы посмотреть взаимосвязь между жесткостью и смертностью на всей выборке, но при этому учитывать локацию города, добавим dummy переменную, отражающую место нахождение города - север или юг."
   ]
  },
  {
   "cell_type": "code",
   "execution_count": 48,
   "metadata": {
    "scrolled": false
   },
   "outputs": [
    {
     "data": {
      "text/html": [
       "<div>\n",
       "<style scoped>\n",
       "    .dataframe tbody tr th:only-of-type {\n",
       "        vertical-align: middle;\n",
       "    }\n",
       "\n",
       "    .dataframe tbody tr th {\n",
       "        vertical-align: top;\n",
       "    }\n",
       "\n",
       "    .dataframe thead th {\n",
       "        text-align: right;\n",
       "    }\n",
       "</style>\n",
       "<table border=\"1\" class=\"dataframe\">\n",
       "  <thead>\n",
       "    <tr style=\"text-align: right;\">\n",
       "      <th></th>\n",
       "      <th>location</th>\n",
       "      <th>town</th>\n",
       "      <th>mortality</th>\n",
       "      <th>hardness</th>\n",
       "      <th>loc_ind</th>\n",
       "    </tr>\n",
       "  </thead>\n",
       "  <tbody>\n",
       "    <tr>\n",
       "      <th>1</th>\n",
       "      <td>South</td>\n",
       "      <td>Bath</td>\n",
       "      <td>1247</td>\n",
       "      <td>105</td>\n",
       "      <td>0</td>\n",
       "    </tr>\n",
       "    <tr>\n",
       "      <th>2</th>\n",
       "      <td>North</td>\n",
       "      <td>Birkenhead</td>\n",
       "      <td>1668</td>\n",
       "      <td>17</td>\n",
       "      <td>1</td>\n",
       "    </tr>\n",
       "    <tr>\n",
       "      <th>3</th>\n",
       "      <td>South</td>\n",
       "      <td>Birmingham</td>\n",
       "      <td>1466</td>\n",
       "      <td>5</td>\n",
       "      <td>0</td>\n",
       "    </tr>\n",
       "    <tr>\n",
       "      <th>4</th>\n",
       "      <td>North</td>\n",
       "      <td>Blackburn</td>\n",
       "      <td>1800</td>\n",
       "      <td>14</td>\n",
       "      <td>1</td>\n",
       "    </tr>\n",
       "    <tr>\n",
       "      <th>5</th>\n",
       "      <td>North</td>\n",
       "      <td>Blackpool</td>\n",
       "      <td>1609</td>\n",
       "      <td>18</td>\n",
       "      <td>1</td>\n",
       "    </tr>\n",
       "  </tbody>\n",
       "</table>\n",
       "</div>"
      ],
      "text/plain": [
       "  location        town  mortality  hardness  loc_ind\n",
       "1    South        Bath       1247       105        0\n",
       "2    North  Birkenhead       1668        17        1\n",
       "3    South  Birmingham       1466         5        0\n",
       "4    North   Blackburn       1800        14        1\n",
       "5    North   Blackpool       1609        18        1"
      ]
     },
     "execution_count": 48,
     "metadata": {},
     "output_type": "execute_result"
    }
   ],
   "source": [
    "water['loc_ind'] = water.apply(lambda x: 1 if x.location == 'North' else 0, axis = 1)\n",
    "water.head()"
   ]
  },
  {
   "cell_type": "code",
   "execution_count": 49,
   "metadata": {},
   "outputs": [],
   "source": [
    "X_3 = water[['hardness','loc_ind']]\n",
    "y = water['mortality']"
   ]
  },
  {
   "cell_type": "code",
   "execution_count": 50,
   "metadata": {},
   "outputs": [],
   "source": [
    "X_train_3, X_test_3, y_train_3, y_test_3 = train_test_split(X_3, y, test_size = 0.30, random_state = 42)"
   ]
  },
  {
   "cell_type": "markdown",
   "metadata": {},
   "source": [
    "* Теперь два фактора, жесткость воды и север/юг.\n",
    "* При сравнении двух городов с одинаковой жесткостью воды, смертность в северном городе ожидается (в среднем) на 169 больше, чем в южном.\n",
    "* При сравнении двух северных или двух южных городов, в городе с жесткостью большей на 1 ед. смертность ожидается (в среднем) на 2.1 меньше.\n",
    "* Коэф. детерминации стал выше 0.67."
   ]
  },
  {
   "cell_type": "code",
   "execution_count": 51,
   "metadata": {
    "scrolled": true
   },
   "outputs": [
    {
     "name": "stdout",
     "output_type": "stream",
     "text": [
      "y = -2.13 Hard + 169.23 Loc + 1530.17\n",
      "0.6744447795073282\n"
     ]
    }
   ],
   "source": [
    "model_3 = LinearRegression()\n",
    "model_3.fit(X_train_3, y_train_3)\n",
    "print(f'y = {model_3.coef_[0]:.2f} Hard + {model_3.coef_[1]:.2f} Loc + {model_3.intercept_:.2f}')\n",
    "y_pred_3 = model_3.predict(X_test_3)\n",
    "print(model_3.score(X_test_3, y_test_3))"
   ]
  },
  {
   "cell_type": "markdown",
   "metadata": {},
   "source": [
    "Гистограмма остатков разве что отдаленно напоминает нормальное распределение."
   ]
  },
  {
   "cell_type": "code",
   "execution_count": 52,
   "metadata": {
    "scrolled": true
   },
   "outputs": [
    {
     "data": {
      "image/png": "[encoded data removed]",
      "text/plain": [
       "<Figure size 432x288 with 1 Axes>"
      ]
     },
     "metadata": {
      "needs_background": "light"
     },
     "output_type": "display_data"
    }
   ],
   "source": [
    "plt.hist(y_test_3 - y_pred_3);\n",
    "plt.title('остатки');"
   ]
  },
  {
   "cell_type": "markdown",
   "metadata": {},
   "source": [
    "На QQ plot точки в целом двигаются вдоль прямой. Будем считать, что серьезного отклонения остатков от нормального распределения нет."
   ]
  },
  {
   "cell_type": "code",
   "execution_count": 53,
   "metadata": {},
   "outputs": [
    {
     "data": {
      "image/png": "[encoded data removed]",
      "text/plain": [
       "<Figure size 432x288 with 1 Axes>"
      ]
     },
     "metadata": {
      "needs_background": "light"
     },
     "output_type": "display_data"
    }
   ],
   "source": [
    "statsmodels.graphics.gofplots.qqplot(y_test_3 - y_pred_3, line = 'q');"
   ]
  },
  {
   "cell_type": "markdown",
   "metadata": {},
   "source": [
    "Остатки достаточно хаотичны, в чередовании знаков закономерности не наблюдается:"
   ]
  },
  {
   "cell_type": "code",
   "execution_count": 54,
   "metadata": {
    "scrolled": false
   },
   "outputs": [
    {
     "data": {
      "image/png": "[encoded data removed]",
      "text/plain": [
       "<Figure size 360x360 with 1 Axes>"
      ]
     },
     "metadata": {
      "needs_background": "light"
     },
     "output_type": "display_data"
    }
   ],
   "source": [
    "plt.figure(figsize = (5, 5)) \n",
    "plt.scatter(y_pred_3, y_test_3 - y_pred_3);\n",
    "plt.title('остатки vs прогнозная смертность');\n",
    "plt.xlabel('смертность прогноз');\n",
    "plt.ylabel('остатки');"
   ]
  },
  {
   "cell_type": "markdown",
   "metadata": {},
   "source": [
    "<a href=\"#0\"><h4>Наверх</h4></a>"
   ]
  },
  {
   "cell_type": "markdown",
   "metadata": {},
   "source": [
    "<p id=\"4.2\">\n",
    "<h4>Кросс-валидация</h4>"
   ]
  },
  {
   "cell_type": "markdown",
   "metadata": {},
   "source": [
    "* На 1000 выборках средние и медианные коэффициенты достаточно близки к результатам одной случайной выборки. Коэф детерминации поменьше, около 0.5 по сравнению с 0.67.\n",
    "* По сравнению с однофакторной моделью коэффициент фактора жесткости стал слабее,  вероятно взаимосвязь со смертностью на себя частично оттянула переменная север/юг.\n",
    "* То есть какой-то признак связан со смертностью и с расположением на севере или юге. А так как жесткость воды при этом на севере ниже, то на общей выборке могло выглядеть так, как будто это из-за связи жесткости и смертности.\n",
    "* Качество модели по коэф. детерминации увеличилось с 0.35 для однофакторной до 0.5 для двухфакторной."
   ]
  },
  {
   "cell_type": "code",
   "execution_count": 55,
   "metadata": {
    "scrolled": true
   },
   "outputs": [
    {
     "name": "stdout",
     "output_type": "stream",
     "text": [
      "коэффициент жесткости\n",
      "-2.0352754965705375 -2.0444469043246114 -3.1489903911813046 -0.8373874269147957\n",
      "коэффициент локации\n",
      "175.11355690822052 175.56936815781546 92.50665837890065 287.25412362376863\n",
      "свободный коэффициент\n",
      "1519.0265990521968 1518.791484783691 1388.4561016450973 1616.701911926559\n",
      "коэф. детерминации\n",
      "0.5036390599890546 0.5300759528161415 -0.31023703039755435 0.8043518618808743\n"
     ]
    }
   ],
   "source": [
    "reg_dict_3 = {'int':[],'Hard':[],'Loc':[],'R':[]}\n",
    "for i in range(1000):\n",
    "    X_train_3, X_test_3, y_train_3, y_test_3 = train_test_split(X_3, y, test_size=0.30)\n",
    "    model_3 = LinearRegression()\n",
    "    model_3.fit(X_train_3, y_train_3)\n",
    "    reg_dict_3['Hard'].append(model_3.coef_[0])\n",
    "    reg_dict_3['Loc'].append(model_3.coef_[1])\n",
    "    reg_dict_3['int'].append(model_3.intercept_)\n",
    "    y_pred_3 = model_3.predict(X_test_3)\n",
    "    reg_dict_3['R'].append(model_3.score(X_test_3, y_test_3))\n",
    "\n",
    "print('коэффициент жесткости')\n",
    "print(np.mean(np.array(reg_dict_3['Hard'])), \n",
    "        np.median(np.array(reg_dict_3['Hard'])), \n",
    "        np.min(np.array(reg_dict_3['Hard'])), \n",
    "        np.max(np.array(reg_dict_3['Hard'])))\n",
    "print('коэффициент локации')\n",
    "print(np.mean(np.array(reg_dict_3['Loc'])), \n",
    "      np.median(np.array(reg_dict_3['Loc'])),\n",
    "      np.min(np.array(reg_dict_3['Loc'])), \n",
    "      np.max(np.array(reg_dict_3['Loc'])))\n",
    "print('свободный коэффициент')\n",
    "print(np.mean(np.array(reg_dict_3['int'])), \n",
    "      np.median(np.array(reg_dict_3['int'])),\n",
    "      np.min(np.array(reg_dict_3['int'])), \n",
    "      np.max(np.array(reg_dict_3['int'])))\n",
    "print('коэф. детерминации')\n",
    "print(np.mean(np.array(reg_dict_3['R'])),\n",
    "      np.median(np.array(reg_dict_3['R'])),\n",
    "      np.min(np.array(reg_dict_3['R'])),\n",
    "      np.max(np.array(reg_dict_3['R'])))"
   ]
  },
  {
   "cell_type": "markdown",
   "metadata": {},
   "source": [
    "<a href=\"#0\"><h4>Наверх</h4></a>"
   ]
  },
  {
   "cell_type": "markdown",
   "metadata": {},
   "source": [
    "<p id=\"4.3\">\n",
    "<h4>Вывод:</h4><br>\n",
    "* Однофакторная модель: при сравнении двух городов, в городе с жесткостью воды на единицу выше, ожидается (в среднем) смертность на 3,1 (на 100тыс) ниже; жесткость объясняет 37% процентов вариации смертности (медианное значение коэф. детерминации)<br>\n",
    "* Однофакторная модель (юг): при сравнении двух южных городов, в городе с жесткостью воды на единицу выше, ожидается (в среднем) смертность на 2 (на 100тыс) ниже (медианное значение); жесткость объясняет 20% процентов вариации смертности (медианное значение коэф. детерминации)<br>\n",
    "* Однофакторная модель (север): при сравнении двух северных городов, в городе с жесткостью воды на единицу выше, ожидается (в среднем) смертность на 2 (на 100тыс) ниже (медианное значение); жесткость не объясняет вариацию смертности<br>\n",
    "* Двухфакторная модель: при сравнении городов одной локации, в городе с жесткостью воды на единицу выше, ожидается (в среднем) смертность на 2 (на 100тыс) ниже; при сравнении северного и южного городов с одинаковой жесткостью, в северном смертность ожидается на 169 выше; жесткость и локация объясняют 52% процента вариации смертности (медианное значение коэф. детерминации)<br>\n",
    "* Среди описанных выше моделей двухфакторная кажется более корректной, так учитывает и жесткость и локацию города. Смертность больше связана с локацией города, чем с жесткостью. Вероятно, есть какой-то скрытый фактор, который ассоциируется с повышенной смертностью на севере."
   ]
  },
  {
   "cell_type": "markdown",
   "metadata": {},
   "source": [
    "<a href=\"#0\"><h4>Наверх</h4></a>"
   ]
  }
 ],
 "metadata": {
  "kernelspec": {
   "display_name": "Python 3 (ipykernel)",
   "language": "python",
   "name": "python3"
  },
  "language_info": {
   "codemirror_mode": {
    "name": "ipython",
    "version": 3
   },
   "file_extension": ".py",
   "mimetype": "text/x-python",
   "name": "python",
   "nbconvert_exporter": "python",
   "pygments_lexer": "ipython3",
   "version": "3.8.12"
  }
 },
 "nbformat": 4,
 "nbformat_minor": 4
}
