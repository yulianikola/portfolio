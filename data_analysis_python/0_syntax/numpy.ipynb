{
 "cells": [
  {
   "cell_type": "markdown",
   "metadata": {},
   "source": [
    "### Синтаксис Numpy"
   ]
  },
  {
   "cell_type": "code",
   "execution_count": 1,
   "metadata": {},
   "outputs": [],
   "source": [
    "import numpy as np"
   ]
  },
  {
   "cell_type": "markdown",
   "metadata": {},
   "source": [
    "#### Задание 1\n",
    "Создайте numpy array с элементами от числа N до 0 (например, для N = 10 это будет array([9, 8, 7, 6, 5, 4, 3, 2, 1, 0]))."
   ]
  },
  {
   "cell_type": "code",
   "execution_count": 2,
   "metadata": {},
   "outputs": [
    {
     "data": {
      "text/plain": [
       "array([9, 8, 7, 6, 5, 4, 3, 2, 1, 0])"
      ]
     },
     "execution_count": 2,
     "metadata": {},
     "output_type": "execute_result"
    }
   ],
   "source": [
    "N = 10\n",
    "np.arange(N - 1, -1, -1)"
   ]
  },
  {
   "cell_type": "markdown",
   "metadata": {},
   "source": [
    "#### Задание 2\n",
    "Создайте диагональную матрицу с элементами от N до 0. Посчитайте сумму ее значений на диагонали."
   ]
  },
  {
   "cell_type": "code",
   "execution_count": 3,
   "metadata": {
    "scrolled": true
   },
   "outputs": [
    {
     "name": "stdout",
     "output_type": "stream",
     "text": [
      "[[9 0 0 0 0 0 0 0 0 0]\n",
      " [0 8 0 0 0 0 0 0 0 0]\n",
      " [0 0 7 0 0 0 0 0 0 0]\n",
      " [0 0 0 6 0 0 0 0 0 0]\n",
      " [0 0 0 0 5 0 0 0 0 0]\n",
      " [0 0 0 0 0 4 0 0 0 0]\n",
      " [0 0 0 0 0 0 3 0 0 0]\n",
      " [0 0 0 0 0 0 0 2 0 0]\n",
      " [0 0 0 0 0 0 0 0 1 0]\n",
      " [0 0 0 0 0 0 0 0 0 0]]\n",
      "45\n"
     ]
    }
   ],
   "source": [
    "N = 10\n",
    "diag_N = np.diag(np.arange(N - 1, -1, -1), k = 0)\n",
    "print(diag_N)\n",
    "print(diag_N.ravel().sum())"
   ]
  },
  {
   "cell_type": "markdown",
   "metadata": {},
   "source": [
    "#### Задание 3\n",
    "Решите систему уравнений:<br>\n",
    "4x + 2y + z = 4<br>\n",
    "x + 3y = 12<br>\n",
    "5y + 4z = -3<br>"
   ]
  },
  {
   "cell_type": "code",
   "execution_count": 4,
   "metadata": {},
   "outputs": [
    {
     "name": "stdout",
     "output_type": "stream",
     "text": [
      "Верно\n",
      "Неверно\n",
      "Решение системы: [ 0.46666667  3.84444444 -5.55555556]\n"
     ]
    }
   ],
   "source": [
    "left = np.array([ [4, 2, 1], [1, 3, 0], [0, 5, 4] ])\n",
    "right = np.array([4, 12, -3])\n",
    "\n",
    "from numpy import linalg\n",
    "solution = linalg.solve(left, right)\n",
    "\n",
    "print('Верно') if np.allclose(np.dot(left, solution), right) else print('Неверно') # проверить правильное решение\n",
    "\n",
    "fake_solution = np.array([ 0.46666667, 3.84444444, -5])\n",
    "print('Верно') if np.allclose(np.dot(left, fake_solution), right) else print('Неверно')  # проверить неправильное решение\n",
    "\n",
    "print(f'Решение системы: {solution}')"
   ]
  },
  {
   "cell_type": "markdown",
   "metadata": {},
   "source": [
    "#### Задание 4\n",
    "Имеется матрица покупок в интернет-магазине. Строки - ID пользователя (нумерация начинается с 1 и по порядку). Cтолбцы - количество покупок категорий товаров этим пользователем. На сайт заходит очередной посетитель, найдите самого похожего на него пользователя, т.е. посчитайте косинусное сходство между этим пользователем и всеми пользователями из массива user_stats."
   ]
  },
  {
   "cell_type": "code",
   "execution_count": 5,
   "metadata": {},
   "outputs": [],
   "source": [
    "users_stats = np.array(\n",
    "    [\n",
    "        [2, 1, 0, 0, 0, 0],\n",
    "        [1, 1, 2, 1, 0, 0],\n",
    "        [2, 0, 1, 0, 0, 0],\n",
    "        [1, 1, 2, 1, 0, 1],\n",
    "        [0, 0, 1, 2, 0, 0],\n",
    "        [0, 0, 0, 0, 0, 5],\n",
    "        [1, 0, 0, 0, 0, 0],\n",
    "        [0, 1, 1, 0, 0, 0],\n",
    "        [0, 0, 0, 1, 1, 3],\n",
    "        [1, 0, 0, 2, 1, 4]\n",
    "                            ], np.int32)\n",
    "\n",
    "next_user_stats = np.array([0, 1, 2, 0, 0, 0])"
   ]
  },
  {
   "cell_type": "code",
   "execution_count": 6,
   "metadata": {},
   "outputs": [],
   "source": [
    "def cosine( a, b ):\n",
    "    '''Функция, вычисляющая косинусное сходство по координатам векторов'''\n",
    "    aLength = np.linalg.norm( a )\n",
    "    bLength = np.linalg.norm( b )    \n",
    "    return np.dot( a, b ) / ( aLength * bLength )"
   ]
  },
  {
   "cell_type": "markdown",
   "metadata": {},
   "source": [
    "##### Вариант 1 (просто вывод)"
   ]
  },
  {
   "cell_type": "code",
   "execution_count": 7,
   "metadata": {},
   "outputs": [
    {
     "name": "stdout",
     "output_type": "stream",
     "text": [
      "Максимальное сходство:  0.9487, id: 8\n"
     ]
    }
   ],
   "source": [
    "cosine_max = 0\n",
    "max_id = 0\n",
    "\n",
    "for i,el in enumerate(users_stats):\n",
    "    if cosine(el, next_user_stats) > cosine_max:\n",
    "        cosine_max = cosine(el, next_user_stats)\n",
    "        max_id = i + 1                            \n",
    "print(f'Максимальное сходство: {cosine_max: .4f}, id: {max_id}')    "
   ]
  },
  {
   "cell_type": "markdown",
   "metadata": {},
   "source": [
    "##### Вариант 2 (словарь)"
   ]
  },
  {
   "cell_type": "code",
   "execution_count": 8,
   "metadata": {},
   "outputs": [
    {
     "data": {
      "text/plain": [
       "(8, 0.9487)"
      ]
     },
     "execution_count": 8,
     "metadata": {},
     "output_type": "execute_result"
    }
   ],
   "source": [
    "cosine_dict = {}\n",
    "\n",
    "for i,el in enumerate(users_stats):\n",
    "    cosine_dict[i + 1] = round(cosine(el, next_user_stats), 4)\n",
    "    \n",
    "max(cosine_dict.items(), key = lambda x: x[1])"
   ]
  },
  {
   "cell_type": "markdown",
   "metadata": {},
   "source": [
    "##### Вариант 3 (массив)"
   ]
  },
  {
   "cell_type": "code",
   "execution_count": 9,
   "metadata": {},
   "outputs": [
    {
     "name": "stdout",
     "output_type": "stream",
     "text": [
      "Максимальное сходство:  0.9487\n",
      "Самый похожий пользователь с id: 8\n"
     ]
    }
   ],
   "source": [
    "cosine_array = np.array( [] )\n",
    "\n",
    "for i,el in enumerate(users_stats):\n",
    "    cosine_array = np.append(cosine_array, cosine(el, next_user_stats))\n",
    "    \n",
    "print(f'Максимальное сходство: {np.amax(cosine_array): .4f}')\n",
    "print(f'Самый похожий пользователь с id: {np.argmax(cosine_array) + 1}')"
   ]
  }
 ],
 "metadata": {
  "kernelspec": {
   "display_name": "Python 3 (ipykernel)",
   "language": "python",
   "name": "python3"
  },
  "language_info": {
   "codemirror_mode": {
    "name": "ipython",
    "version": 3
   },
   "file_extension": ".py",
   "mimetype": "text/x-python",
   "name": "python",
   "nbconvert_exporter": "python",
   "pygments_lexer": "ipython3",
   "version": "3.8.12"
  }
 },
 "nbformat": 4,
 "nbformat_minor": 4
}
