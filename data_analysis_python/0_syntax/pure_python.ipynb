{
 "cells": [
  {
   "cell_type": "markdown",
   "id": "3ce0f57c",
   "metadata": {},
   "source": [
    "<div class=\"alert alert-info\">\n",
    "Ссылка для просмотра ноутбука в интерактивном режиме для использования гиперссылок и корректного отображения разметки:<br>\n",
    "<a href='https://nbviewer.org/github/yulianikola/portfolio/blob/master/data_analysis_python/0_syntax/pure_python.ipynb'>pure_python</a></div>"
   ]
  },
  {
   "cell_type": "markdown",
   "id": "386110bc",
   "metadata": {},
   "source": [
    "### Синтаксис Python"
   ]
  },
  {
   "cell_type": "markdown",
   "id": "919d2cca",
   "metadata": {},
   "source": [
    "<p id=\"0\">\n",
    "<ul type=\"square\"><a href=\"#1\"><li>Задание 1 (строки, if-elif-else)</li></a>\n",
    "<a href=\"#2\"><li>Задание 2 (ариф-ка, if-else)</li></a>\n",
    "<a href=\"#3\"><li>Задание 3 (if-elif-else, input, словарь)</li></a>\n",
    "<a href=\"#4\"><li>Задание 4 (if-else)</li></a>\n",
    "<a href=\"#5\"><li>Задание 5 (ариф-ка, строки, if-else)</li></a>\n",
    "<a href=\"#6\"><li>Задание 6 (.format, if-elif-else, input)</li></a>\n",
    "<a href=\"#7\"><li>Задание 7 (ариф-ка, if-else, строки)</li></a>\n",
    "<a href=\"#8\"><li>Задание 8 (while, список)</li></a>\n",
    "<a href=\"#9\"><li>Задание 9 (список, for, range, f-строка, zip)</li></a>\n",
    "<a href=\"#10\"><li>Задание 10 (список, for, f-строка)</li></a>\n",
    "<a href=\"#11\"><li>Задание 11 (генератор списка, for, f-строка, словарь)</li></a>\n",
    "<a href=\"#12\"><li>Задание 12 (список, input, map, join, for, if)</li></a>\n",
    "<a href=\"#13\"><li>Задание 13 (словарь, множество)</li></a>\n",
    "<a href=\"#14\"><li>Задание 14 (генератор списка, for, f-строка)</li></a>\n",
    "<a href=\"#15\"><li>Задание 15 (словарь, for)</li></a>\n",
    "<a href=\"#16\"><li>Задание 16 (словарь, for, if, f-строка)</li></a>\n",
    "<a href=\"#17\"><li>Задание 17 (список,словарь, for, if-else)</li></a>\n",
    "<a href=\"#18\"><li>Задание 18 (словарь, for, if-else, f-строка)</li></a>\n",
    "<a href=\"#19\"><li>Задание 19 (json, чтение и запись файла)</li></a>"
   ]
  },
  {
   "cell_type": "markdown",
   "id": "63983abf",
   "metadata": {},
   "source": [
    "<p id=\"1\"> \n",
    "<h4> Задание 1 </h4><br>\n",
    "Даны 2 переменных, в которых хранятся строки произвольной длины: phrase_1 и phrase_2.\n",
    "Напишите код, который проверяет какая из этих строк длиннее."
   ]
  },
  {
   "cell_type": "code",
   "execution_count": 1,
   "id": "e11f0971",
   "metadata": {},
   "outputs": [
    {
     "name": "stdout",
     "output_type": "stream",
     "text": [
      "phrase_1 длиннее phrase_2\n"
     ]
    }
   ],
   "source": [
    "phrase_1 = 'Насколько проще было бы писать программы, если бы не заказчики'\n",
    "phrase_2 = '640Кб должно хватить для любых задач. Билл Гейтс (по легенде)'\n",
    "\n",
    "if len(phrase_1) > len(phrase_2):\n",
    "    print(\"phrase_1 длиннее phrase_2\")\n",
    "elif len(phrase_1) < len(phrase_2):\n",
    "    print(\"phrase_2 длиннее phrase_1\")\n",
    "else:\n",
    "    print(\"phrase_1 и phrase_2 равной длины\")"
   ]
  },
  {
   "cell_type": "markdown",
   "id": "593a6b6e",
   "metadata": {},
   "source": [
    "<h4><a href=\"#0\">Наверх</a></h4>"
   ]
  },
  {
   "cell_type": "markdown",
   "id": "0c2bbdbc",
   "metadata": {},
   "source": [
    "<p id=\"2\">\n",
    "<h4> Задание 2 </h4><br>\n",
    "Дана переменная, в которой хранится четырехзначное число (год). Необходимо написать программу, которая выведет, является ли данный год високосным или обычным."
   ]
  },
  {
   "cell_type": "code",
   "execution_count": 2,
   "id": "ccb80807",
   "metadata": {
    "scrolled": true
   },
   "outputs": [
    {
     "name": "stdout",
     "output_type": "stream",
     "text": [
      "2020 - високосный год\n"
     ]
    }
   ],
   "source": [
    "year = 2020\n",
    "\n",
    "if (year % 4 == 0 and year % 100 != 0) or year % 400 == 0:\n",
    "    print(year,'- високосный год')\n",
    "else:\n",
    "    print(year,'- обычный год')"
   ]
  },
  {
   "cell_type": "markdown",
   "id": "d5728ff8",
   "metadata": {},
   "source": [
    "<h4><a href=\"#0\">Наверх</a></h4>"
   ]
  },
  {
   "cell_type": "markdown",
   "id": "d5dbed8a",
   "metadata": {},
   "source": [
    "<p id=\"3\">\n",
    "<h4> Задание 3 </h4><br>\n",
    "Необходимо написать программу, которая будет запрашивать у пользователя месяц и дату рождения и выводить соответствующий знак зодиака."
   ]
  },
  {
   "cell_type": "markdown",
   "id": "807eda4a",
   "metadata": {},
   "source": [
    "##### Вариант 1 (if-elif)"
   ]
  },
  {
   "cell_type": "code",
   "execution_count": 3,
   "id": "b9ff4aae",
   "metadata": {},
   "outputs": [
    {
     "name": "stdout",
     "output_type": "stream",
     "text": [
      "Введите день (рождения), от 1 до 31: 28\n",
      "Введите месяц (рождения), январь-декабрь: сентябрь\n",
      "Знак зодиака Весы\n"
     ]
    }
   ],
   "source": [
    "day = int(input('Введите день (рождения), от 1 до 31: '))\n",
    "mnth = input('Введите месяц (рождения), январь-декабрь: ')\n",
    "\n",
    "if (mnth == 'январь'and day <= 20) or (mnth == 'декабрь'and day >= 23):\n",
    "    print('Знак зодиака Козерог')\n",
    "elif (mnth == 'февраль'and day <= 19) or (mnth == 'январь'and day >= 21):\n",
    "    print('Знак зодиака Водолей')\n",
    "elif (mnth == 'март'and day <= 20) or (mnth == 'февраль'and day >= 20):\n",
    "    print('Знак зодиака Рыбы')\n",
    "elif (mnth == 'апрель'and day <= 20) or (mnth == 'март'and day >= 21):\n",
    "    print('Знак зодиака Овен')\n",
    "elif (mnth == 'май'and day <= 21) or (mnth == 'апрель'and day >= 21):\n",
    "    print('Знак зодиака Телец')\n",
    "elif (mnth == 'июнь'and day <= 21) or (mnth == 'май'and day >= 22):\n",
    "    print('Знак зодиака Близнецы')\n",
    "elif (mnth == 'июль'and day <= 22) or (mnth == 'июнь'and day >= 22):\n",
    "    print('Знак зодиака Рак')\n",
    "elif (mnth == 'август'and day <= 21) or (mnth == 'июль'and day >= 23):\n",
    "    print('Знак зодиака Лев')\n",
    "elif (mnth == 'сентябрь'and day <= 23) or (mnth == 'август'and day >= 22):\n",
    "    print('Знак зодиака Дева')\n",
    "elif (mnth == 'октябрь'and day <= 23) or (mnth == 'сентябрь'and day >= 24):\n",
    "    print('Знак зодиака Весы')\n",
    "elif (mnth == 'ноябрь'and day <= 22) or (mnth == 'октябрь'and day >= 24):\n",
    "    print('Знак зодиака Скорпион')\n",
    "else:\n",
    "    print('Знак зодиака Стрелец')"
   ]
  },
  {
   "cell_type": "markdown",
   "id": "fcfaef35",
   "metadata": {},
   "source": [
    "##### Вариант 2 (словарь)"
   ]
  },
  {
   "cell_type": "code",
   "execution_count": 4,
   "id": "6cb80840",
   "metadata": {
    "scrolled": true
   },
   "outputs": [
    {
     "name": "stdout",
     "output_type": "stream",
     "text": [
      "Введите день (рождения), от 1 до 31: 15\n",
      "Введите месяц (рождения), январь-декабрь: декабрь\n",
      "Знак зодиака Стрелец\n"
     ]
    }
   ],
   "source": [
    "day = int(input('Введите день (рождения), от 1 до 31: '))\n",
    "mnth = input('Введите месяц (рождения), январь-декабрь: ')\n",
    "\n",
    "zodiac_dict={\"март\": (21, \"Рыбы\", \"Овен\"), \"апрель\": (21, \"Овен\", \"Телец\"), \"май\": (22, \"Телец\", \"Близнецы\"),\n",
    "        \"июнь\": (22, \"Близнецы\", \"Рак\"), \"июль\": (23, \"Рак\", \"Лев\"), \"август\": (24, \"Лев\", \"Дева\"),\n",
    "        \"сентябрь\": (24, \"Дева\", \"Весы\"), \"октябрь\": (24, \"Весы\", \"Скорпион\"),\n",
    "        \"ноябрь\": (23, \"Скорпион\", \"Стрелец\"), \"декабрь\": (23, \"Стрелец\", \"Козерог\"),\n",
    "        \"январь\": (21, \"Козерог\", \"Водолей\"), \"февраль\": (20, \"Водолей\",\"Рыбы\")}\n",
    "\n",
    "if day >= zodiac_dict[mnth][0]:\n",
    "    print(f'Знак зодиака {zodiac_dict[mnth][2]}')\n",
    "else:\n",
    "    print(f'Знак зодиака {zodiac_dict[mnth][1]}')"
   ]
  },
  {
   "cell_type": "markdown",
   "id": "9ce069c3",
   "metadata": {},
   "source": [
    "<h4><a href=\"#0\">Наверх</a></h4>"
   ]
  },
  {
   "cell_type": "markdown",
   "id": "4b7c60e1",
   "metadata": {},
   "source": [
    "<p id=\"4\"> \n",
    "<h4> Задание 4 </h4><br>\n",
    "Вам нужно написать программу для подбора упаковок по размерам товара. Размеры (ширина, длина, высота) хранятся в переменных (в сантиметрах). Используйте следующие правила:<br>\n",
    "* если каждое из трех измерений менее или равно 15 сантиметрам, то выведите на экран “Коробка №1”;<br>\n",
    "* если хотя бы одно из измерений больше 15 сантиметров, но менее 50 сантиметров, то выводите “Коробка №2”;<br>\n",
    "* если длина товара больше 2 метров, то выводите “Упаковка для лыж”;<br>\n",
    "* во всех остальных случаях выводите “Стандартная коробка №3”."
   ]
  },
  {
   "cell_type": "code",
   "execution_count": 5,
   "id": "49cdedf8",
   "metadata": {},
   "outputs": [
    {
     "name": "stdout",
     "output_type": "stream",
     "text": [
      "Коробка №1\n"
     ]
    }
   ],
   "source": [
    "width = 15\n",
    "length = 15\n",
    "height = 15\n",
    "\n",
    "if length >= 200:\n",
    "    print('Упаковка для лыж')\n",
    "elif (width <= 15 and length <= 15 and height <= 15):\n",
    "    print('Коробка №1')\n",
    "elif (15 < width < 50 or 15 < length < 50 or 15 < height < 50):\n",
    "    print('Коробка №2')\n",
    "else:\n",
    "    print('Стандартная коробка №3')"
   ]
  },
  {
   "cell_type": "markdown",
   "id": "8f232733",
   "metadata": {},
   "source": [
    "<h4><a href=\"#0\">Наверх</a></h4>"
   ]
  },
  {
   "cell_type": "markdown",
   "id": "b7e3fd3c",
   "metadata": {},
   "source": [
    "<p id=\"5\"> \n",
    "<h4> Задание 5 </h4><br>\n",
    "Дана переменная, в которой хранится шестизначное число (номер проездного билета). Напишите программу, которая будет определять, является ли данный билет “счастливым”.\n",
    "Билет считается счастливым, если сумма первых трех цифр совпадает с суммой последних трех цифр номера."
   ]
  },
  {
   "cell_type": "markdown",
   "id": "a69ed8f7",
   "metadata": {},
   "source": [
    "##### Вариант 1 (целочисленное деление)"
   ]
  },
  {
   "cell_type": "code",
   "execution_count": 6,
   "id": "2eb5055e",
   "metadata": {},
   "outputs": [
    {
     "name": "stdout",
     "output_type": "stream",
     "text": [
      "Счастливый билет!\n"
     ]
    }
   ],
   "source": [
    "number = 180801\n",
    "\n",
    "n1 = number // (10**5)\n",
    "n2 = (number - (10**5)*n1) // (10**4)\n",
    "n3 = (number - (10**5)*n1 - (10**4)*n2) // (10**3)\n",
    "n4 = (number - (10**5)*n1 - (10**4)*n2 - (10**3)*n3) // (10**2)\n",
    "n5 = (number - (10**5)*n1 - (10**4)*n2 - (10**3)*n3 - (10**2)*n4) // 10\n",
    "n6 = number - (10**5)*n1 - (10**4)*n2 - (10**3)*n3 - (10**2)*n4 - 10*n5\n",
    "\n",
    "if n1 + n2 + n3 == n4 + n5 + n6:\n",
    "    print('Счастливый билет!')\n",
    "else:\n",
    "    print('Несчастливый билет...')"
   ]
  },
  {
   "cell_type": "markdown",
   "id": "a2977d20",
   "metadata": {},
   "source": [
    "##### Вариант 2 (строка)"
   ]
  },
  {
   "cell_type": "code",
   "execution_count": 7,
   "id": "a28f3775",
   "metadata": {},
   "outputs": [
    {
     "name": "stdout",
     "output_type": "stream",
     "text": [
      "Несчастливый билет...\n"
     ]
    }
   ],
   "source": [
    "number = 100102\n",
    "number_str = str(number)\n",
    "\n",
    "if int(number_str[0]) + int(number_str[1]) + int(number_str[2]) == \\\n",
    "    int(number_str[3]) + int(number_str[4]) + int(number_str[5]):\n",
    "    print('Счастливый билет!')\n",
    "else:\n",
    "    print('Несчастливый билет...')"
   ]
  },
  {
   "cell_type": "markdown",
   "id": "c265231b",
   "metadata": {},
   "source": [
    "<h4><a href=\"#0\">Наверх</a></h4>"
   ]
  },
  {
   "cell_type": "markdown",
   "id": "03f3a83c",
   "metadata": {},
   "source": [
    "<p id=\"6\">\n",
    "<h4> Задание 6 </h4><br>\n",
    "Напишите программу, которая сможет вычислять площади трех фигур (круг, треугольник и прямоугольник). Тип фигуры запрашиваем через пользовательский ввод, после чего делаем запрос характеристик фигуры:<br>\n",
    "* если пользователь выбрал круг, запрашиваем его радиус<br>\n",
    "* если треугольник – длины трех его сторон<br>\n",
    "* если прямоугольник – длины двух его сторон"
   ]
  },
  {
   "cell_type": "code",
   "execution_count": 8,
   "id": "dac6b86d",
   "metadata": {
    "scrolled": true
   },
   "outputs": [
    {
     "name": "stdout",
     "output_type": "stream",
     "text": [
      "Введите к (если круг), т (если треугольник), п (если прямоугольник) п\n",
      "Введите длину первой стороны 10\n",
      "Введите длину второй стороны 5\n",
      "Площадь прямоугольника: 50.0 кв. см\n"
     ]
    }
   ],
   "source": [
    "import math\n",
    "\n",
    "shape = input('Введите к (если круг), т (если треугольник), п (если прямоугольник) ')\n",
    "\n",
    "if shape == 'к':\n",
    "    r = float(input('Введите радиус круга '))\n",
    "    circ_sq = round(math.pi * r ** 2, 2)\n",
    "    print('Площадь круга: {} кв. см'.format(circ_sq))\n",
    "elif shape == 'т':\n",
    "    l1 = float(input('Введите длину первой стороны '))\n",
    "    l2 = float(input('Введите длину второй стороны '))\n",
    "    l3 = float(input('Введите длину третьей стороны '))\n",
    "    p = (l1 + l2 + l3) / 2\n",
    "    tria_sq = round((p * (p - l1) * (p - l2) * (p - l3)) ** (0.5), 2)\n",
    "    print('Площадь треугольника: {} кв. см'.format(tria_sq))\n",
    "elif shape == 'п':\n",
    "    m1 = float(input('Введите длину первой стороны '))\n",
    "    m2 = float(input('Введите длину второй стороны '))\n",
    "    rect_sq = round(m1 * m2,2)\n",
    "    print('Площадь прямоугольника: {} кв. см'.format(rect_sq))\n",
    "else:\n",
    "    print('Введите либо к либо т либо п')"
   ]
  },
  {
   "cell_type": "markdown",
   "id": "33ac2bcf",
   "metadata": {},
   "source": [
    "<h4><a href=\"#0\">Наверх</a></h4>"
   ]
  },
  {
   "cell_type": "markdown",
   "id": "e5288a25",
   "metadata": {},
   "source": [
    "<p id=\"7\"> \n",
    "<h4> Задание 7 </h4><br>\n",
    "Дана переменная, в которой хранится слово из латинских букв. Напишите код, который выводит на экран:<br>\n",
    "* среднюю букву, если число букв в слове нечетное<br>\n",
    "* две средних буквы, если число букв четное"
   ]
  },
  {
   "cell_type": "code",
   "execution_count": 9,
   "id": "5271e936",
   "metadata": {},
   "outputs": [
    {
     "name": "stdout",
     "output_type": "stream",
     "text": [
      "t\n"
     ]
    }
   ],
   "source": [
    "word='testing'\n",
    "\n",
    "if len(word) % 2 == 0:\n",
    "    print(word[(len(word) // 2 - 1):(len(word) // 2 + 1)])\n",
    "else:\n",
    "    print(word[len(word) // 2])"
   ]
  },
  {
   "cell_type": "markdown",
   "id": "c56db06b",
   "metadata": {},
   "source": [
    "<h4><a href=\"#0\">Наверх</a></h4>"
   ]
  },
  {
   "cell_type": "markdown",
   "id": "8194e26c",
   "metadata": {},
   "source": [
    "<p id=\"8\"> \n",
    "<h4> Задание 8 </h4><br>\n",
    "Напишите программу, которая последовательно запрашивает у пользователя числа (по одному за раз) и после первого нуля выводит сумму всех ранее введенных чисел."
   ]
  },
  {
   "cell_type": "markdown",
   "id": "378697bb",
   "metadata": {},
   "source": [
    "##### Вариант 1 (while)"
   ]
  },
  {
   "cell_type": "code",
   "execution_count": 10,
   "id": "011960c4",
   "metadata": {},
   "outputs": [
    {
     "name": "stdout",
     "output_type": "stream",
     "text": [
      "Введите число: 1\n",
      "Введите число: 2\n",
      "Введите число: 7\n",
      "Введите число: 4\n",
      "Введите число: 0\n",
      "14\n"
     ]
    }
   ],
   "source": [
    "number_list = []\n",
    "number = 1\n",
    "\n",
    "while number != 0:\n",
    "    number = int(input('Введите число: '))\n",
    "    number_list.append(number)\n",
    "print(sum(number_list))"
   ]
  },
  {
   "cell_type": "markdown",
   "id": "c6a17169",
   "metadata": {},
   "source": [
    "##### Вариант 2 (while True)"
   ]
  },
  {
   "cell_type": "code",
   "execution_count": 11,
   "id": "b5e11e97",
   "metadata": {
    "scrolled": true
   },
   "outputs": [
    {
     "name": "stdout",
     "output_type": "stream",
     "text": [
      "Введите число: 4\n",
      "Введите число: 5\n",
      "Введите число: 2\n",
      "Введите число: 0\n",
      "11\n"
     ]
    }
   ],
   "source": [
    "number_list = []\n",
    "number = 1\n",
    "\n",
    "while True:\n",
    "    number = int(input('Введите число: '))\n",
    "    number_list.append(number)\n",
    "    if number == 0:\n",
    "        print(sum(number_list))\n",
    "        break"
   ]
  },
  {
   "cell_type": "markdown",
   "id": "bb757cec",
   "metadata": {},
   "source": [
    "<h4><a href=\"#0\">Наверх</a></h4>"
   ]
  },
  {
   "cell_type": "markdown",
   "id": "30f4b80f",
   "metadata": {},
   "source": [
    "<p id=\"9\">\n",
    "<h4> Задание 9 </h4><br>\n",
    "Мы делаем MVP dating-сервиса, и у нас есть список парней и девушек.\n",
    "Выдвигаем гипотезу: лучшие рекомендации мы получим, если просто отсортируем имена по алфавиту и познакомим людей с одинаковыми индексами после сортировки. Но мы не будем никого знакомить, если кто-то может остаться без пары."
   ]
  },
  {
   "cell_type": "markdown",
   "id": "f1141dd8",
   "metadata": {},
   "source": [
    "##### Вариант 1 (range)"
   ]
  },
  {
   "cell_type": "code",
   "execution_count": 12,
   "id": "6000ee65",
   "metadata": {},
   "outputs": [
    {
     "name": "stdout",
     "output_type": "stream",
     "text": [
      "Идеальные пары: \n",
      "Alex и Emma\n",
      "Arthur и Kate\n",
      "John и Kira\n",
      "Peter и Liza\n",
      "Richard и Trisha\n"
     ]
    }
   ],
   "source": [
    "boys = ['Peter', 'Alex', 'John', 'Arthur', 'Richard']\n",
    "girls = ['Kate','Liza', 'Kira', 'Emma', 'Trisha']\n",
    "\n",
    "if len(boys) == len(girls):\n",
    "    print('Идеальные пары: ')\n",
    "    for index in range(len(boys)):\n",
    "        print(f'{sorted(boys)[index]} и {sorted(girls)[index]}')\n",
    "else:\n",
    "    print('Внимание, кто-то может остаться без пары!')"
   ]
  },
  {
   "cell_type": "markdown",
   "id": "c6ba7e5a",
   "metadata": {},
   "source": [
    "##### Вариант 2 (zip)"
   ]
  },
  {
   "cell_type": "code",
   "execution_count": 13,
   "id": "c259196e",
   "metadata": {
    "scrolled": true
   },
   "outputs": [
    {
     "name": "stdout",
     "output_type": "stream",
     "text": [
      "Идеальные пары: \n",
      "Alex и Emma \n",
      "Arthur и Kate \n",
      "John и Kira \n",
      "Peter и Liza \n",
      "Richard и Trisha \n"
     ]
    }
   ],
   "source": [
    "boys = ['Peter', 'Alex', 'John', 'Arthur', 'Richard']\n",
    "girls = ['Kate','Liza', 'Kira', 'Emma', 'Trisha']\n",
    "\n",
    "if len(boys) == len(girls):\n",
    "    boy_girl = list(zip(sorted(boys),sorted(girls)))\n",
    "    print('Идеальные пары: ')\n",
    "    for pair in boy_girl:\n",
    "        print(f'{pair[0]} и {pair[1]} ')\n",
    "else:\n",
    "    print('Внимание, кто-то может остаться без пары!')"
   ]
  },
  {
   "cell_type": "markdown",
   "id": "6f903567",
   "metadata": {},
   "source": [
    "<h4><a href=\"#0\">Наверх</a></h4>"
   ]
  },
  {
   "cell_type": "markdown",
   "id": "c0d32ffa",
   "metadata": {},
   "source": [
    "<p id=\"10\">\n",
    "<h4> Задание 10 </h4><br>\n",
    "У нас есть список, содержащий информацию о среднедневной температуре в Фаренгейтах за произвольный период по странам (структура данных в примере). Необходимо написать код, который рассчитает среднюю температуру за период в Цельсиях для каждой страны."
   ]
  },
  {
   "cell_type": "markdown",
   "id": "756adc77",
   "metadata": {},
   "source": [
    "##### Вариант 1 (список)"
   ]
  },
  {
   "cell_type": "code",
   "execution_count": 14,
   "id": "51f1c990",
   "metadata": {},
   "outputs": [
    {
     "name": "stdout",
     "output_type": "stream",
     "text": [
      "Thailand - 23.9 C\n",
      "Germany - 13.8 C\n",
      "Russia - 3.7 C\n",
      "Poland - 12.0 C\n"
     ]
    }
   ],
   "source": [
    "countries_temperature = [\n",
    "['Thailand', [75.2, 77, 78.8, 73.4, 68, 75.2, 77]],\n",
    "['Germany', [57.2, 55.4, 59, 59, 53.6]],\n",
    "['Russia', [35.6, 37.4, 39.2, 41, 42.8, 39.2, 35.6]],\n",
    "['Poland', [50, 50, 53.6, 57.2, 55.4, 55.4]]\n",
    "]\n",
    "\n",
    "for country in countries_temperature:\n",
    "    temp_c = [(temp - 32) * 5 / 9 for temp in country[1]]\n",
    "    print(f'{country[0]} - {round(sum(temp_c) / len(temp_c),1)} C')"
   ]
  },
  {
   "cell_type": "markdown",
   "id": "f75f0f71",
   "metadata": {},
   "source": [
    "##### Вариант 2 (без списка)"
   ]
  },
  {
   "cell_type": "code",
   "execution_count": 15,
   "id": "9a83920b",
   "metadata": {
    "scrolled": true
   },
   "outputs": [
    {
     "name": "stdout",
     "output_type": "stream",
     "text": [
      "Thailand - 23.9 C\n",
      "Germany - 13.8 C\n",
      "Russia - 3.7 C\n",
      "Poland - 12.0 C\n"
     ]
    }
   ],
   "source": [
    "for element in countries_temperature:\n",
    "    avg_temp = sum(element[1]) / len(element[1])\n",
    "    print(f'{element[0]} - {round((avg_temp - 32) * 5 / 9,1)} C')"
   ]
  },
  {
   "cell_type": "markdown",
   "id": "ce31566d",
   "metadata": {},
   "source": [
    "<h4><a href=\"#0\">Наверх</a></h4>"
   ]
  },
  {
   "cell_type": "markdown",
   "id": "2804635d",
   "metadata": {},
   "source": [
    "<p id=\"11\"> \n",
    "<h4> Задание 11 </h4><br>\n",
    "Дан поток логов по количеству просмотренных страниц для каждого пользователя. Вам необходимо написать алгоритм, который считает среднее значение просмотров на пользователя. Т. е. надо посчитать отношение суммы всех просмотров к количеству уникальных пользователей."
   ]
  },
  {
   "cell_type": "markdown",
   "id": "745da0a2",
   "metadata": {},
   "source": [
    "##### Вариант 1 (раздельные списки)"
   ]
  },
  {
   "cell_type": "code",
   "execution_count": 16,
   "id": "24e52f0d",
   "metadata": {},
   "outputs": [
    {
     "data": {
      "text/plain": [
       "'Среднее кол-во просмотров на уникального пользователя: 23.25'"
      ]
     },
     "execution_count": 16,
     "metadata": {},
     "output_type": "execute_result"
    }
   ],
   "source": [
    "stream = [\n",
    "    '2018-01-01,user1,3',\n",
    "    '2018-01-07,user1,4',\n",
    "    '2018-03-29,user1,1',\n",
    "    '2018-04-04,user1,13',\n",
    "    '2018-01-05,user2,7',\n",
    "    '2018-06-14,user3,4',\n",
    "    '2018-07-02,user3,10',\n",
    "    '2018-03-21,user4,19',\n",
    "    '2018-03-22,user4,4',\n",
    "    '2018-04-22,user4,8',\n",
    "    '2018-05-03,user4,9',\n",
    "    '2018-05-11,user4,11']\n",
    "\n",
    "# создание списка из списков вместо списка из строк\n",
    "stream_list = [log.split(',') for log in stream]\n",
    "\n",
    "# создание списка с уникальными пользователями\n",
    "user_list = list(set([log[1] for log in stream_list]))\n",
    "\n",
    "# создание списка с суммарными просмотрами пользователей\n",
    "view_list=[]\n",
    "for user in user_list:\n",
    "    view_list.append(sum([int(log[2]) for log in stream_list if log[1]==user]))\n",
    "\n",
    "f'Среднее кол-во просмотров на уникального пользователя: {round(sum(view_list)/len(view_list),2)}' "
   ]
  },
  {
   "cell_type": "markdown",
   "id": "8ba774e5",
   "metadata": {},
   "source": [
    "##### Вариант 2 (один список)"
   ]
  },
  {
   "cell_type": "code",
   "execution_count": 17,
   "id": "3343b7fc",
   "metadata": {},
   "outputs": [
    {
     "data": {
      "text/plain": [
       "'Среднее кол-во просмотров на уникального пользователя: 145.33'"
      ]
     },
     "execution_count": 17,
     "metadata": {},
     "output_type": "execute_result"
    }
   ],
   "source": [
    "stream = [\n",
    "    '2018-01-01,user100,150',\n",
    "    '2018-01-07,user99,205',\n",
    "    '2018-03-29,user1001,81']\n",
    "\n",
    "user_list = []\n",
    "views = 0\n",
    "\n",
    "for el in stream:\n",
    "    splitted_el = el.split(',')\n",
    "    views += int(splitted_el[2])\n",
    "    user_list.append(splitted_el[1]) # создание списка с пользователями\n",
    "    \n",
    "f'Среднее кол-во просмотров на уникального пользователя: {round(views/len(set(user_list)),2)}' "
   ]
  },
  {
   "cell_type": "markdown",
   "id": "85cd029d",
   "metadata": {},
   "source": [
    "##### Вариант 3 (доп-но посчитать суммарные просмотры для каждого пользователя)"
   ]
  },
  {
   "cell_type": "code",
   "execution_count": 18,
   "id": "d3ab88d6",
   "metadata": {},
   "outputs": [
    {
     "data": {
      "text/plain": [
       "{'user1': 21, 'user2': 7, 'user3': 14, 'user4': 51}"
      ]
     },
     "execution_count": 18,
     "metadata": {},
     "output_type": "execute_result"
    }
   ],
   "source": [
    "stream = [\n",
    "    '2018-01-01,user1,3',\n",
    "    '2018-01-07,user1,4',\n",
    "    '2018-03-29,user1,1',\n",
    "    '2018-04-04,user1,13',\n",
    "    '2018-01-05,user2,7',\n",
    "    '2018-06-14,user3,4',\n",
    "    '2018-07-02,user3,10',\n",
    "    '2018-03-21,user4,19',\n",
    "    '2018-03-22,user4,4',\n",
    "    '2018-04-22,user4,8',\n",
    "    '2018-05-03,user4,9',\n",
    "    '2018-05-11,user4,11']\n",
    "\n",
    "user_view = {}\n",
    "\n",
    "for el in stream:\n",
    "    splitted_el = el.split(',')\n",
    "    if splitted_el[1] not in user_view:\n",
    "        user_view[splitted_el[1]] = int(splitted_el[2])\n",
    "    else:\n",
    "        user_view[splitted_el[1]] += int(splitted_el[2])\n",
    "        \n",
    "user_view"
   ]
  },
  {
   "cell_type": "markdown",
   "id": "3a7ea9bf",
   "metadata": {},
   "source": [
    "<h4><a href=\"#0\">Наверх</a></h4>"
   ]
  },
  {
   "cell_type": "markdown",
   "id": "cd215230",
   "metadata": {},
   "source": [
    "<p id=\"12\"> \n",
    "<h4> Задание 12 </h4><br>\n",
    "Необходимо у пользователя запрашивать набор чисел разделенных пробелом. В результате в отсортированном порядке должны выводиться числа, которые повторяются в вводе более одного раза."
   ]
  },
  {
   "cell_type": "code",
   "execution_count": 19,
   "id": "dbe1d391",
   "metadata": {},
   "outputs": [
    {
     "name": "stdout",
     "output_type": "stream",
     "text": [
      "Введите числа через пробел: 1 1 2 3 3 3 \n",
      "1 3\n"
     ]
    }
   ],
   "source": [
    "user_input = input('Введите числа через пробел: ').split()\n",
    "user_input_int = list(map(int, user_input))\n",
    "number_list = []\n",
    "\n",
    "for number in user_input_int:\n",
    "    if (number not in number_list) and (user_input_int.count(number) > 1) :\n",
    "        number_list.append(number)\n",
    "        \n",
    "print(' '.join(map(str, sorted(number_list))))"
   ]
  },
  {
   "cell_type": "markdown",
   "id": "d61ad863",
   "metadata": {},
   "source": [
    "<h4><a href=\"#0\">Наверх</a></h4>"
   ]
  },
  {
   "cell_type": "markdown",
   "id": "393b2ac3",
   "metadata": {},
   "source": [
    "<p id=\"13\">\n",
    "<h4> Задание 13 </h4><br>\n",
    "Дана переменная, в которой хранится словарь, содержащий гео-метки для каждого пользователя (пример структуры данных приведен ниже). Вам необходимо написать программу, которая выведет на экран множество уникальных гео-меток всех пользователей."
   ]
  },
  {
   "cell_type": "code",
   "execution_count": 20,
   "id": "f972f21c",
   "metadata": {},
   "outputs": [
    {
     "data": {
      "text/plain": [
       "{15, 35, 54, 98, 119, 213}"
      ]
     },
     "execution_count": 20,
     "metadata": {},
     "output_type": "execute_result"
    }
   ],
   "source": [
    "ids = {'user1': [213, 213, 213, 15, 213], \n",
    "       'user2': [54, 54, 119, 119, 119], \n",
    "       'user3': [213, 98, 98, 35]}\n",
    "set(sum(list(ids.values()),[]))"
   ]
  },
  {
   "cell_type": "markdown",
   "id": "0a24485d",
   "metadata": {},
   "source": [
    "<h4><a href=\"#0\">Наверх</a></h4>"
   ]
  },
  {
   "cell_type": "markdown",
   "id": "43e0151f",
   "metadata": {},
   "source": [
    "<p id=\"14\"> \n",
    "<h4> Задание 14 </h4><br>\n",
    "Дана переменная, в которой хранится список поисковых запросов пользователя (пример структуры данных приведен ниже). Вам необходимо написать программу, которая выведет на экран распределение количества слов в запросах в требуемом виде."
   ]
  },
  {
   "cell_type": "code",
   "execution_count": 21,
   "id": "45d4348a",
   "metadata": {},
   "outputs": [
    {
     "name": "stdout",
     "output_type": "stream",
     "text": [
      "Поисковых запросов, содержащих 2 слов(а): 42.86%\n",
      "Поисковых запросов, содержащих 3 слов(а): 57.14%\n"
     ]
    }
   ],
   "source": [
    "queries = [\n",
    "    'смотреть сериалы онлайн',\n",
    "    'новости спорта',\n",
    "    'афиша кино',\n",
    "    'курс доллара',\n",
    "    'сериалы этим летом',\n",
    "    'курс по питону',\n",
    "    'сериалы про спорт'\n",
    "]\n",
    "\n",
    "word_n_list = [query.count(' ') + 1 for query in queries]\n",
    "\n",
    "for n in set(word_n_list):\n",
    "    print(f'Поисковых запросов, содержащих {n} слов(а): {word_n_list.count(n) / len(word_n_list) * 100:.2f}%')  "
   ]
  },
  {
   "cell_type": "markdown",
   "id": "ccbb9109",
   "metadata": {},
   "source": [
    "<h4><a href=\"#0\">Наверх</a></h4>"
   ]
  },
  {
   "cell_type": "markdown",
   "id": "83fcada0",
   "metadata": {},
   "source": [
    "<p id=\"15\"> \n",
    "<h4> Задание 15 </h4><br>\n",
    "Дана переменная, в которой хранится информация о затратах и доходе рекламных кампаний по различным источникам. Необходимо дополнить исходную структуру показателем ROI, который рассчитаем по формуле: (revenue / cost - 1) * 100"
   ]
  },
  {
   "cell_type": "code",
   "execution_count": 22,
   "id": "9dc80519",
   "metadata": {
    "scrolled": true
   },
   "outputs": [
    {
     "data": {
      "text/plain": [
       "{'adwords': {'ROI': 2.94, 'cost': 34, 'revenue': 35},\n",
       " 'facebook': {'ROI': -6.36, 'cost': 110, 'revenue': 103},\n",
       " 'twitter': {'ROI': -54.17, 'cost': 24, 'revenue': 11},\n",
       " 'vk': {'ROI': 5.1, 'cost': 98, 'revenue': 103},\n",
       " 'yandex': {'ROI': 16.99, 'cost': 153, 'revenue': 179}}"
      ]
     },
     "execution_count": 22,
     "metadata": {},
     "output_type": "execute_result"
    }
   ],
   "source": [
    "results = {\n",
    "    'vk': {'revenue': 103, 'cost': 98},\n",
    "    'yandex': {'revenue': 179, 'cost': 153},\n",
    "    'facebook': {'revenue': 103, 'cost': 110},\n",
    "    'adwords': {'revenue': 35, 'cost': 34},\n",
    "    'twitter': {'revenue': 11, 'cost': 24}}\n",
    "\n",
    "for site, info in results.items():\n",
    "    info['ROI'] = round((info['revenue'] / info['cost'] - 1) * 100,2)\n",
    "    results[site] = dict(sorted(info.items()))  # сортировка вложенного словаря по ключам\n",
    "    \n",
    "results = dict(sorted(results.items())) # сортировка по ключам внешнего словаря\n",
    "results"
   ]
  },
  {
   "cell_type": "markdown",
   "id": "220d6b21",
   "metadata": {},
   "source": [
    "<h4><a href=\"#0\">Наверх</a></h4>"
   ]
  },
  {
   "cell_type": "markdown",
   "id": "0a877332",
   "metadata": {},
   "source": [
    "<p id=\"16\"> \n",
    "<h4> Задание 16 </h4><br>\n",
    "Дана переменная, в которой хранится статистика рекламных каналов по объемам продаж (пример структуры данных приведен ниже). Напишите программу, которая возвращает название канала с максимальным объемом продаж."
   ]
  },
  {
   "cell_type": "code",
   "execution_count": 23,
   "id": "2d31c0b3",
   "metadata": {},
   "outputs": [
    {
     "name": "stdout",
     "output_type": "stream",
     "text": [
      "Максимальный объем продаж на рекламном канале: vk\n"
     ]
    }
   ],
   "source": [
    "stats = {'facebook': 55, 'yandex': 115, 'vk': 120, 'google': 99, 'email': 42, 'ok': 98}\n",
    "\n",
    "for channel, sales in stats.items():\n",
    "    if sales == max(list(stats.values())):\n",
    "        print(f'Максимальный объем продаж на рекламном канале: {channel}')"
   ]
  },
  {
   "cell_type": "markdown",
   "id": "d1ccf29a",
   "metadata": {},
   "source": [
    "<h4><a href=\"#0\">Наверх</a></h4>"
   ]
  },
  {
   "cell_type": "markdown",
   "id": "e93c8421",
   "metadata": {},
   "source": [
    "<p id=\"17\"> \n",
    "<h4> Задание 17 </h4><br>\n",
    "Дан список произвольной длины. Необходимо написать код, который на основе исходного списка составит словарь такого уровня вложенности, какова длина исхондого списка."
   ]
  },
  {
   "cell_type": "code",
   "execution_count": 24,
   "id": "9fc36886",
   "metadata": {},
   "outputs": [
    {
     "data": {
      "text/plain": [
       "{'a': {'b': {'c': {'d': {'e': 'f'}}}}}"
      ]
     },
     "execution_count": 24,
     "metadata": {},
     "output_type": "execute_result"
    }
   ],
   "source": [
    "my_list = ['a', 'b', 'c', 'd', 'e', 'f']\n",
    "dictionary={}\n",
    "\n",
    "for element in reversed(my_list):                   \n",
    "    if my_list.index(element) == (len(my_list)-1):\n",
    "        dictionary = element                              \n",
    "    else:\n",
    "        dictionary = {element:dictionary}\n",
    "dictionary"
   ]
  },
  {
   "cell_type": "markdown",
   "id": "224bf4f3",
   "metadata": {},
   "source": [
    "<h4><a href=\"#0\">Наверх</a></h4>"
   ]
  },
  {
   "cell_type": "markdown",
   "id": "a713af5b",
   "metadata": {},
   "source": [
    "<p id=\"18\"> \n",
    "<h4> Задание 18 </h4><br>\n",
    "Дана книга рецептов с информацией о том, сколько ингредиентов нужно для приготовления блюда в расчете на одну порцию (пример данных представлен ниже).<br>\n",
    "Напишите программу, которая будет запрашивать у пользователя количество порций для приготовления этих блюд и отображать информацию о суммарном количестве требуемых ингредиентов в указанном виде. Одинаковые ингридиенты с разными размерностями нужно считать раздельно. Пример вывода: <br>\n",
    "Сыр: 210 гр<br>\n",
    "Томаты: 6 шт<br>\n",
    "Оливки: 30 гр<br>\n",
    "Томаты: 60 гр..."
   ]
  },
  {
   "cell_type": "code",
   "execution_count": 25,
   "id": "fa3b8b54",
   "metadata": {
    "scrolled": true
   },
   "outputs": [
    {
     "name": "stdout",
     "output_type": "stream",
     "text": [
      "Введите количество порций: 2\n",
      "Сыр: 140 гр\n",
      "Томаты: 4 шт\n",
      "Огурцы: 40 гр\n",
      "Маслины: 20 гр\n",
      "Оливковое масло: 40 мл\n",
      "Салат: 20 гр\n",
      "Перец: 40 гр\n",
      "Колбаса: 60 гр\n",
      "Бекон: 60 гр\n",
      "Оливки: 20 гр\n",
      "Томаты: 40 гр\n",
      "Тесто: 200 гр\n",
      "Лимон: 2 шт\n",
      "Вода: 400 мл\n",
      "Сахар: 20 гр\n",
      "Лайм: 40 гр\n"
     ]
    }
   ],
   "source": [
    "cook_book = {\n",
    "  'салат': [\n",
    "     {'ingredient_name': 'сыр', 'quantity': 50, 'measure': 'гр'},\n",
    "     {'ingredient_name': 'томаты', 'quantity': 2, 'measure': 'шт'},\n",
    "     {'ingredient_name': 'огурцы', 'quantity': 20, 'measure': 'гр'},\n",
    "     {'ingredient_name': 'маслины', 'quantity': 10, 'measure': 'гр'},\n",
    "     {'ingredient_name': 'оливковое масло', 'quantity': 20, 'measure': 'мл'},\n",
    "     {'ingredient_name': 'салат', 'quantity': 10, 'measure': 'гр'},\n",
    "     {'ingredient_name': 'перец', 'quantity': 20, 'measure': 'гр'}\n",
    "    ],\n",
    "  'пицца': [\n",
    "     {'ingredient_name': 'сыр', 'quantity': 20, 'measure': 'гр'},\n",
    "     {'ingredient_name': 'колбаса', 'quantity': 30, 'measure': 'гр'},\n",
    "     {'ingredient_name': 'бекон', 'quantity': 30, 'measure': 'гр'},\n",
    "     {'ingredient_name': 'оливки', 'quantity': 10, 'measure': 'гр'},\n",
    "     {'ingredient_name': 'томаты', 'quantity': 20, 'measure': 'гр'},\n",
    "     {'ingredient_name': 'тесто', 'quantity': 100, 'measure': 'гр'},   \n",
    "    ],\n",
    "  'лимонад': [\n",
    "     {'ingredient_name': 'лимон', 'quantity': 1, 'measure': 'шт'},\n",
    "     {'ingredient_name': 'вода', 'quantity': 200, 'measure': 'мл'},\n",
    "     {'ingredient_name': 'сахар', 'quantity': 10, 'measure': 'гр'},\n",
    "     {'ingredient_name': 'лайм', 'quantity': 20, 'measure': 'гр'},    \n",
    "    ]\n",
    "}\n",
    "\n",
    "person = int(input('Введите количество порций: '))\n",
    "ingr_dict = {}\n",
    "    \n",
    "for el in sum(list(cook_book.values()),[]):\n",
    "    if el['ingredient_name']+'_'+el['measure'] in ingr_dict:\n",
    "        ingr_dict[el['ingredient_name']+'_'+el['measure']] += el['quantity'] * person\n",
    "    else:\n",
    "        ingr_dict[el['ingredient_name']+'_'+el['measure']] = el['quantity'] * person # ключи словаря в формате \"продукт_мера\"\n",
    "\n",
    "for ingr_unit, q_ty in ingr_dict.items():\n",
    "    print(f\"{ingr_unit[:ingr_unit.index('_')].capitalize()}: {q_ty} {ingr_unit[ingr_unit.index('_')+1:]}\")\n",
    "    # ключи словаря \"продукт_мера\", а вывести нужно отдельно продукт и меру: делаем срез строки на основе индекса \"_\""
   ]
  },
  {
   "cell_type": "markdown",
   "id": "94530417",
   "metadata": {},
   "source": [
    "<h4><a href=\"#0\">Наверх</a></h4>"
   ]
  },
  {
   "cell_type": "markdown",
   "id": "c332c27b",
   "metadata": {},
   "source": [
    "<p id=\"19\"> \n",
    "<h4> Задание 19 </h4><br>\n",
    "<u>Часть 1:</u><br>\n",
    "Переведите содержимое файла purchase_log.txt <br>(структура файла:<br>\n",
    "{\"user_id\": \"user_id\", \"category\": \"category\"}<br>\n",
    "{\"user_id\": \"1840e0b9d4\", \"category\": \"Продукты\"}<br>\n",
    "...)<br>\n",
    "в словарь purchases вида:<br>\n",
    "{‘1840e0b9d4’: ‘Продукты’, …}"
   ]
  },
  {
   "cell_type": "code",
   "execution_count": 27,
   "id": "720ffb88",
   "metadata": {},
   "outputs": [],
   "source": [
    "import json\n",
    "purchases={}\n",
    "\n",
    "with open (\"C:\\\\python\\\\portfolio\\\\data_analysis_python\\\\0_syntax\\\\data\\\\purchase_log.txt\", encoding='utf-8') as purchase_file:\n",
    "    purchase_file.readline() # пропустить строку заголовков\n",
    "    for line in purchase_file:\n",
    "            line_dict = json.loads(line.strip())\n",
    "            purchases[line_dict['user_id']] = line_dict['category']"
   ]
  },
  {
   "cell_type": "markdown",
   "id": "92b7e5b5",
   "metadata": {},
   "source": [
    "<u>Часть 2:</u>\n",
    "Для каждого user_id в файле visit_log.csv <br>(структура файла:<br>\n",
    "user_id,source<br>\n",
    "6450655ae8,other<br>\n",
    "...)<br>\n",
    "определите третий столбец с категорией покупки (если покупка была, сам файл visit_log.csv изменять не надо). Запишите в файл funnel.csv визиты из файла visit_log.csv, в которых были покупки с указанием категории. Учтите условия на данные:\n",
    "содержимое purchase_log.txt помещается в оперативную память компьютера; содержимое visit_log.csv - нет; используйте только построчную обработку этого файла."
   ]
  },
  {
   "cell_type": "code",
   "execution_count": 28,
   "id": "19ee06f5",
   "metadata": {},
   "outputs": [],
   "source": [
    "with open (\"C:\\\\python\\\\portfolio\\\\data_analysis_python\\\\0_syntax\\\\data\\\\visit_log.csv\", encoding='utf-8') as visit_file:\n",
    "        with open (\"C:\\\\python\\\\portfolio\\\\data_analysis_python\\\\0_syntax\\\\data\\\\funnel.csv\", 'w') as funnel_file:  \n",
    "            visit_file.readline()\n",
    "            for visit_line in visit_file:\n",
    "                if visit_line.strip().split(',')[0] in purchases:\n",
    "                    funnel_file.write(visit_line.strip() + ',' + purchases[visit_line.strip().split(',')[0]]+'\\n')"
   ]
  },
  {
   "cell_type": "markdown",
   "id": "4ae29991",
   "metadata": {},
   "source": [
    "<h4><a href=\"#0\">Наверх</a></h4>"
   ]
  }
 ],
 "metadata": {
  "kernelspec": {
   "display_name": "Python 3 (ipykernel)",
   "language": "python",
   "name": "python3"
  },
  "language_info": {
   "codemirror_mode": {
    "name": "ipython",
    "version": 3
   },
   "file_extension": ".py",
   "mimetype": "text/x-python",
   "name": "python",
   "nbconvert_exporter": "python",
   "pygments_lexer": "ipython3",
   "version": "3.8.12"
  }
 },
 "nbformat": 4,
 "nbformat_minor": 5
}
