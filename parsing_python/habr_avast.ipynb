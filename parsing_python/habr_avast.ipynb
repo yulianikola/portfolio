{
 "cells": [
  {
   "cell_type": "markdown",
   "metadata": {},
   "source": [
    "<div class=\"alert alert-info\">\n",
    "Ссылка для просмотра ноутбука в интерактивном режиме для использования гиперссылок и корректного отображения разметки:<br>\n",
    "<a href='https://nbviewer.org/github/yulianikola/portfolio/blob/master/parsing_python/habr_avast.ipynb'>habr_avast</a></div>"
   ]
  },
  {
   "cell_type": "markdown",
   "metadata": {},
   "source": [
    "### Парсинг \n",
    "#### Сайты habr.ru и avast.com"
   ]
  },
  {
   "cell_type": "markdown",
   "metadata": {},
   "source": [
    "<p id=\"0\"> \n",
    "<ul type=\"square\"><a href=\"#1\"><li>Задание 1 (habr)</li></a>\n",
    "<a href=\"#2\"><li>Задание 2 (avast)</li></a>\n",
    "<ul><a href=\"#2.1\"><li>Парсинг</li></a>\n",
    "<a href=\"#2.2\"><li>Формирование датафрейма (вар. 1)</li></a>\n",
    "<a href=\"#2.3\"><li>Формирование датафрейма (вар. 2)</li></a></ul>"
   ]
  },
  {
   "cell_type": "markdown",
   "metadata": {},
   "source": [
    "<p id=\"1\"> \n",
    "<h4>Задание 1 (habr)</h4>"
   ]
  },
  {
   "cell_type": "markdown",
   "metadata": {},
   "source": [
    "* Спарсить страницу со свежими новостям на habr.com/ru/all/.\n",
    "* Необходимо собирать только те статьи, в которых встречается хотя бы одно требуемое ключевое слово. \n",
    "* Поиск вести по всей доступной preview-информации и всего текста статьи целиком.\n",
    "* Сформировать датафрейм со столбцами: <дата> - <заголовок> - <ссылка> - <текст_статьи>"
   ]
  },
  {
   "cell_type": "code",
   "execution_count": 1,
   "metadata": {},
   "outputs": [],
   "source": [
    "import requests\n",
    "from bs4 import BeautifulSoup\n",
    "import pandas as pd\n",
    "import time"
   ]
  },
  {
   "cell_type": "markdown",
   "metadata": {},
   "source": [
    "Задаем адрес сайта и список ключевых слов для поиска:"
   ]
  },
  {
   "cell_type": "code",
   "execution_count": 2,
   "metadata": {},
   "outputs": [],
   "source": [
    "url = 'https://habr.com/ru/all/'\n",
    "keywords = ['python', 'аналитик', 'data science']"
   ]
  },
  {
   "cell_type": "markdown",
   "metadata": {},
   "source": [
    "Создаем функцию, которая принимает адрес сайта и список ключевых слов и возвращает датафрейм со столбцами: дата - заголовок - ссылка - текст статьи."
   ]
  },
  {
   "cell_type": "code",
   "execution_count": 4,
   "metadata": {},
   "outputs": [],
   "source": [
    "def get_habr_news(url, keywords):  \n",
    "    \n",
    "    \"\"\"\n",
    "    Функция парсит страницу с новостями Хабра.\n",
    "    Параметры: адрес страницы, список ключевых слов.\n",
    "    Отбирает статьи на основе вхождения ключевых слов в превью, хабы, заголовок и текст статьи.\n",
    "    Возвращает датафрейм со столбцами: дата - заголовок - ссылка - текст статьи.\n",
    "    \"\"\"\n",
    "    \n",
    "    req = requests.get(url)\n",
    "    soup = BeautifulSoup(req.text, 'html.parser')\n",
    "    \n",
    "    # собираем посты с новостями\n",
    "    posts = soup.find_all('article', class_ = 'tm-articles-list__item')\n",
    "    \n",
    "    habr_news = pd.DataFrame()\n",
    "    \n",
    "    for post in posts:\n",
    "\n",
    "        # извлекаем id поста, если его нет, то, наверное, это что-то странное и пропускаем\n",
    "        post_id = post.attrs.get('id')\n",
    "        if not post_id:\n",
    "            continue\n",
    "\n",
    "        # достаем превью, может быть в коде в двух вариантах\n",
    "        if post.find('div', class_='article-formatted-body article-formatted-body_version-1'):\n",
    "            preview = post.find('div',\n",
    "                                class_='article-formatted-body article-formatted-body_version-1').text.replace('\\n\\r\\n','')\n",
    "        else:\n",
    "            preview = post.find('div', class_='article-formatted-body article-formatted-body_version-2').text\n",
    "            \n",
    "        # достаем заголовок, хабы\n",
    "        title = post.find('a', class_='tm-article-snippet__title-link').text\n",
    "        hubs = post.find_all('a', class_='tm-article-snippet__hubs-item-link')\n",
    "        \n",
    "        # достаем ссылку, дополняем до полной\n",
    "        art_link = 'https://habr.com' + post.find('a', class_='tm-article-snippet__title-link').get('href')\n",
    "        \n",
    "        # переходим по ссылке статьи и извлекаем ее текст, может быть в коде в двух вариантах\n",
    "        article_soup = BeautifulSoup(requests.get(art_link).text, 'html.parser')\n",
    "        time.sleep(0.1)\n",
    "        if article_soup.find('div', class_='article-formatted-body article-formatted-body_version-1'):\n",
    "            art_text = article_soup.find('div', class_='article-formatted-body article-formatted-body_version-1').text\n",
    "        else:\n",
    "            art_text = article_soup.find('div', class_='article-formatted-body article-formatted-body_version-2').text\n",
    "\n",
    "        # проверяем, есть ли ключевые слова в заголовке, превью, хабах поста или тексте статьи\n",
    "        # если да, то записываем в переменные\n",
    "        if any([(keyword in preview.lower()) or (keyword in title.lower()) or (keyword in art_text.lower()) or\n",
    "                any([keyword in hub.text.lower() for hub in hubs]) \n",
    "                for keyword in keywords]):        \n",
    "\n",
    "            # извлекаем дату в формате для datetime и переводим в объект datetime\n",
    "            date =  pd.to_datetime(\n",
    "                post.find('span', class_='tm-article-snippet__datetime-published').find('time').get('datetime'), dayfirst=True)\n",
    "\n",
    "            # записываем извлеченную выше ссылку\n",
    "            link = art_link\n",
    "\n",
    "            # собираем полученные данные в словарик\n",
    "            # дату представляем в удобном нам формате\n",
    "            row = {'date': date.strftime('%d.%m.%y, %H:%M'), 'title': title.strip(), 'link': link, 'text': art_text}\n",
    "            \n",
    "            # записываем словарик в датафрейм\n",
    "            habr_news = pd.concat([habr_news, pd.DataFrame([row])]) \n",
    "            \n",
    "    habr_news = habr_news.reset_index().drop('index', axis = 1)\n",
    "    return habr_news"
   ]
  },
  {
   "cell_type": "markdown",
   "metadata": {},
   "source": [
    "Применяем функцию, получаем искомый датафрейм."
   ]
  },
  {
   "cell_type": "code",
   "execution_count": 5,
   "metadata": {
    "scrolled": true
   },
   "outputs": [
    {
     "data": {
      "text/html": [
       "<div>\n",
       "<style scoped>\n",
       "    .dataframe tbody tr th:only-of-type {\n",
       "        vertical-align: middle;\n",
       "    }\n",
       "\n",
       "    .dataframe tbody tr th {\n",
       "        vertical-align: top;\n",
       "    }\n",
       "\n",
       "    .dataframe thead th {\n",
       "        text-align: right;\n",
       "    }\n",
       "</style>\n",
       "<table border=\"1\" class=\"dataframe\">\n",
       "  <thead>\n",
       "    <tr style=\"text-align: right;\">\n",
       "      <th></th>\n",
       "      <th>date</th>\n",
       "      <th>title</th>\n",
       "      <th>link</th>\n",
       "      <th>text</th>\n",
       "    </tr>\n",
       "  </thead>\n",
       "  <tbody>\n",
       "    <tr>\n",
       "      <th>0</th>\n",
       "      <td>25.07.21, 16:46</td>\n",
       "      <td>Машинное обучение в Excel при помощи Python и ...</td>\n",
       "      <td>https://habr.com/ru/company/skillfactory/blog/...</td>\n",
       "      <td>К старту курса о машинном и глубоком обучении ...</td>\n",
       "    </tr>\n",
       "    <tr>\n",
       "      <th>1</th>\n",
       "      <td>25.07.21, 15:21</td>\n",
       "      <td>Мой уход из Яндекса, как не потерять мотивацию...</td>\n",
       "      <td>https://habr.com/ru/post/569522/</td>\n",
       "      <td>Всем привет! Хотела бы поделиться своей истори...</td>\n",
       "    </tr>\n",
       "    <tr>\n",
       "      <th>2</th>\n",
       "      <td>25.07.21, 14:50</td>\n",
       "      <td>А я у тебя точно первый? Или как выбрать (перв...</td>\n",
       "      <td>https://habr.com/ru/post/569518/</td>\n",
       "      <td>Я часто вижу, как разработчики разного уровня ...</td>\n",
       "    </tr>\n",
       "    <tr>\n",
       "      <th>3</th>\n",
       "      <td>25.07.21, 12:05</td>\n",
       "      <td>Настройка рекламы в TikTok для продвижения инт...</td>\n",
       "      <td>https://habr.com/ru/post/569490/</td>\n",
       "      <td>На данный момент TikTok является самой популяр...</td>\n",
       "    </tr>\n",
       "    <tr>\n",
       "      <th>4</th>\n",
       "      <td>25.07.21, 12:01</td>\n",
       "      <td>Сборка с Bazel в реальном проекте</td>\n",
       "      <td>https://habr.com/ru/company/ntechlab/blog/540728/</td>\n",
       "      <td>Привет, Хабр.В этой статье я расскажу о практи...</td>\n",
       "    </tr>\n",
       "    <tr>\n",
       "      <th>5</th>\n",
       "      <td>25.07.21, 11:13</td>\n",
       "      <td>Дайджест интересных материалов для мобильного ...</td>\n",
       "      <td>https://habr.com/ru/company/productivity_insid...</td>\n",
       "      <td>В новом дайджесте тесты и танцы с ассетами в i...</td>\n",
       "    </tr>\n",
       "    <tr>\n",
       "      <th>6</th>\n",
       "      <td>25.07.21, 10:49</td>\n",
       "      <td>Фреймворк на PHP: CodeIgniter 4. «Лёгкий приме...</td>\n",
       "      <td>https://habr.com/ru/post/569474/</td>\n",
       "      <td>\\n​ Copyright 2021, codeigniter.com: a project...</td>\n",
       "    </tr>\n",
       "    <tr>\n",
       "      <th>7</th>\n",
       "      <td>25.07.21, 09:56</td>\n",
       "      <td>Подсчёт ссылок не так прост, как кажется: опыт...</td>\n",
       "      <td>https://habr.com/ru/post/569450/</td>\n",
       "      <td>Подсчёт ссылок обычно предлагается как самый п...</td>\n",
       "    </tr>\n",
       "    <tr>\n",
       "      <th>8</th>\n",
       "      <td>25.07.21, 09:18</td>\n",
       "      <td>UX/UI-дизайнер: все, что вы хотели знать, но б...</td>\n",
       "      <td>https://habr.com/ru/company/hays/blog/569434/</td>\n",
       "      <td>На связи опять ребята из Hays, и сегодня мы ра...</td>\n",
       "    </tr>\n",
       "  </tbody>\n",
       "</table>\n",
       "</div>"
      ],
      "text/plain": [
       "              date                                              title  \\\n",
       "0  25.07.21, 16:46  Машинное обучение в Excel при помощи Python и ...   \n",
       "1  25.07.21, 15:21  Мой уход из Яндекса, как не потерять мотивацию...   \n",
       "2  25.07.21, 14:50  А я у тебя точно первый? Или как выбрать (перв...   \n",
       "3  25.07.21, 12:05  Настройка рекламы в TikTok для продвижения инт...   \n",
       "4  25.07.21, 12:01                  Сборка с Bazel в реальном проекте   \n",
       "5  25.07.21, 11:13  Дайджест интересных материалов для мобильного ...   \n",
       "6  25.07.21, 10:49  Фреймворк на PHP: CodeIgniter 4. «Лёгкий приме...   \n",
       "7  25.07.21, 09:56  Подсчёт ссылок не так прост, как кажется: опыт...   \n",
       "8  25.07.21, 09:18  UX/UI-дизайнер: все, что вы хотели знать, но б...   \n",
       "\n",
       "                                                link  \\\n",
       "0  https://habr.com/ru/company/skillfactory/blog/...   \n",
       "1                   https://habr.com/ru/post/569522/   \n",
       "2                   https://habr.com/ru/post/569518/   \n",
       "3                   https://habr.com/ru/post/569490/   \n",
       "4  https://habr.com/ru/company/ntechlab/blog/540728/   \n",
       "5  https://habr.com/ru/company/productivity_insid...   \n",
       "6                   https://habr.com/ru/post/569474/   \n",
       "7                   https://habr.com/ru/post/569450/   \n",
       "8      https://habr.com/ru/company/hays/blog/569434/   \n",
       "\n",
       "                                                text  \n",
       "0  К старту курса о машинном и глубоком обучении ...  \n",
       "1  Всем привет! Хотела бы поделиться своей истори...  \n",
       "2  Я часто вижу, как разработчики разного уровня ...  \n",
       "3  На данный момент TikTok является самой популяр...  \n",
       "4  Привет, Хабр.В этой статье я расскажу о практи...  \n",
       "5  В новом дайджесте тесты и танцы с ассетами в i...  \n",
       "6  \\n​ Copyright 2021, codeigniter.com: a project...  \n",
       "7  Подсчёт ссылок обычно предлагается как самый п...  \n",
       "8  На связи опять ребята из Hays, и сегодня мы ра...  "
      ]
     },
     "execution_count": 5,
     "metadata": {},
     "output_type": "execute_result"
    }
   ],
   "source": [
    "get_habr_news(url, keywords)"
   ]
  },
  {
   "cell_type": "markdown",
   "metadata": {},
   "source": [
    "<h4><a href=\"#0\">Наверх</a></h4>"
   ]
  },
  {
   "cell_type": "markdown",
   "metadata": {},
   "source": [
    "<p id=\"2\"> \n",
    "<h4>Задание 2 (avast)</h4>"
   ]
  },
  {
   "cell_type": "markdown",
   "metadata": {},
   "source": [
    "* Написать скрипт, который будет проверять список e-mail адресов на утечку при помощи сервиса Avast Hack Check https://www.avast.com/hackcheck/.\n",
    "* Список email задаем переменной в начале кода: EMAIL = [xxx@x.ru, yyy@y.com]\n",
    "* Сформировать датафрейм со столбцами: <дата утечки> - <источник утечки> - <описание утечки>\n",
    "* Подсказка: сервис работает при помощи \"скрытого\" API. Внимательно изучите post-запросы."
   ]
  },
  {
   "cell_type": "markdown",
   "metadata": {},
   "source": [
    "<p id=\"2.1\"> \n",
    "<h5>Парсинг</h5>"
   ]
  },
  {
   "cell_type": "code",
   "execution_count": 1,
   "metadata": {},
   "outputs": [],
   "source": [
    "import json"
   ]
  },
  {
   "cell_type": "code",
   "execution_count": 2,
   "metadata": {},
   "outputs": [],
   "source": [
    "email_list = ['xxx@x.ru', 'yyy@y.com']"
   ]
  },
  {
   "cell_type": "markdown",
   "metadata": {},
   "source": [
    "В инструменте разработчика видно, что при запросе на проверку отправляется post запрос на другой сайт. Заполняем из раздела Request Payload и раздела Request Headers:"
   ]
  },
  {
   "cell_type": "code",
   "execution_count": 3,
   "metadata": {},
   "outputs": [],
   "source": [
    "url = 'https://identityprotection.avast.com/v1/web/query/site-breaches/unauthorized-data'\n",
    "payload = {'emailAddresses': email_list}\n",
    "headers = {'Vaar-Version': '0', 'Vaar-Header-App-Product': 'hackcheck-web-avast', 'Vaar-Header-App-Product-Name': 'hackcheck-web-avast', 'Vaar-Header-App-Build-Version': '1.0.0' }"
   ]
  },
  {
   "cell_type": "markdown",
   "metadata": {},
   "source": [
    "Отправляем post-запрос:"
   ]
  },
  {
   "cell_type": "code",
   "execution_count": 6,
   "metadata": {},
   "outputs": [
    {
     "data": {
      "text/plain": [
       "<Response [200]>"
      ]
     },
     "execution_count": 6,
     "metadata": {},
     "output_type": "execute_result"
    }
   ],
   "source": [
    "req_2 = requests.post(url, json = payload, headers = headers)\n",
    "req_2"
   ]
  },
  {
   "cell_type": "markdown",
   "metadata": {},
   "source": [
    "Ответ на запрос приходит в виде словаря, значит из него можно сделать датафрейм:"
   ]
  },
  {
   "cell_type": "code",
   "execution_count": 7,
   "metadata": {},
   "outputs": [],
   "source": [
    "resp_dict = req_2.json()"
   ]
  },
  {
   "cell_type": "markdown",
   "metadata": {},
   "source": [
    "Разберем структуру словаря, приходящего в ответ на запрос. <br>Ключи словаря:"
   ]
  },
  {
   "cell_type": "code",
   "execution_count": 8,
   "metadata": {},
   "outputs": [
    {
     "data": {
      "text/plain": [
       "dict_keys(['breaches', 'data', 'summary'])"
      ]
     },
     "execution_count": 8,
     "metadata": {},
     "output_type": "execute_result"
    }
   ],
   "source": [
    "resp_dict.keys()"
   ]
  },
  {
   "cell_type": "markdown",
   "metadata": {},
   "source": [
    "Разберем значение по ключу 'breaches'. Значение по ключу 'breaches' - словарь, назовем его вложенный словарь (первого уровня).\n",
    "Первая пара его значений:"
   ]
  },
  {
   "cell_type": "code",
   "execution_count": 12,
   "metadata": {
    "scrolled": true
   },
   "outputs": [
    {
     "data": {
      "text/plain": [
       "('2',\n",
       " {'breachId': 2,\n",
       "  'site': 'linkedin.com',\n",
       "  'recordsCount': 158591429,\n",
       "  'description': \"In 2012, online professional networking platform LinkedIn fell victim to a breach of its members' passwords. Four years later, 117 million email and password combinations from that breach appeared for sale on a dark web marketplace. \\n\\nThe leaked passwords had only been protected by unsalted SHA-1 cryptographic hashing, which prompted LinkedIn to enforce salted hashing after the breach. Russian national Yevgeniy Nikulin was accused of the breach and was extradited from the Czech Republic to the United States as of March 2018.\",\n",
       "  'publishDate': '2016-10-21T00:00:00Z',\n",
       "  'statistics': {'usernames': 0, 'passwords': 111975337, 'emails': 158591429}})"
      ]
     },
     "execution_count": 12,
     "metadata": {},
     "output_type": "execute_result"
    }
   ],
   "source": [
    "list(resp_dict['breaches'].items())[0]"
   ]
  },
  {
   "cell_type": "markdown",
   "metadata": {},
   "source": [
    "Ключи вложенного словаря (первого уровня) - номера утечек:"
   ]
  },
  {
   "cell_type": "code",
   "execution_count": 13,
   "metadata": {
    "scrolled": true
   },
   "outputs": [
    {
     "data": {
      "text/plain": [
       "dict_keys(['2', '3', '12', '15', '41', '2961', '3164', '3176', '3520', '3587', '3669', '13094', '13662', '16768', '17009', '17110', '17670', '37177'])"
      ]
     },
     "execution_count": 13,
     "metadata": {},
     "output_type": "execute_result"
    }
   ],
   "source": [
    "resp_dict['breaches'].keys()"
   ]
  },
  {
   "cell_type": "markdown",
   "metadata": {},
   "source": [
    "Значения вложенного словаря (первого уровня) - вложенный словарь (второго уровня).\n",
    "На примере первого значения:"
   ]
  },
  {
   "cell_type": "code",
   "execution_count": 14,
   "metadata": {
    "scrolled": true
   },
   "outputs": [
    {
     "data": {
      "text/plain": [
       "{'breachId': 2,\n",
       " 'site': 'linkedin.com',\n",
       " 'recordsCount': 158591429,\n",
       " 'description': \"In 2012, online professional networking platform LinkedIn fell victim to a breach of its members' passwords. Four years later, 117 million email and password combinations from that breach appeared for sale on a dark web marketplace. \\n\\nThe leaked passwords had only been protected by unsalted SHA-1 cryptographic hashing, which prompted LinkedIn to enforce salted hashing after the breach. Russian national Yevgeniy Nikulin was accused of the breach and was extradited from the Czech Republic to the United States as of March 2018.\",\n",
       " 'publishDate': '2016-10-21T00:00:00Z',\n",
       " 'statistics': {'usernames': 0, 'passwords': 111975337, 'emails': 158591429}}"
      ]
     },
     "execution_count": 14,
     "metadata": {},
     "output_type": "execute_result"
    }
   ],
   "source": [
    "list(resp_dict['breaches'].values())[0]"
   ]
  },
  {
   "cell_type": "markdown",
   "metadata": {},
   "source": [
    "Среди ключей вложенного словаря (второго уровня) видим нужную информацию:\n",
    "- под ключом 'site' хранится источник утечки\n",
    "- под ключом 'description' хранится описание утечки\n",
    "- под ключом 'publishDate' хранится дата утечки"
   ]
  },
  {
   "cell_type": "code",
   "execution_count": 15,
   "metadata": {},
   "outputs": [
    {
     "data": {
      "text/plain": [
       "dict_keys(['breachId', 'site', 'recordsCount', 'description', 'publishDate', 'statistics'])"
      ]
     },
     "execution_count": 15,
     "metadata": {},
     "output_type": "execute_result"
    }
   ],
   "source": [
    "list(resp_dict['breaches'].values())[0].keys()"
   ]
  },
  {
   "cell_type": "markdown",
   "metadata": {},
   "source": [
    "Разберем значение по ключу 'data'. Значение по ключу 'data' - вложенный словарь (первого уровня).\n",
    "Первая пара его значений:"
   ]
  },
  {
   "cell_type": "code",
   "execution_count": 16,
   "metadata": {
    "scrolled": false
   },
   "outputs": [
    {
     "data": {
      "text/plain": [
       "('parapa.mail.ru',\n",
       " {'xxx@x.ru': [{'breachId': 3176,\n",
       "    'usernameBreached': True,\n",
       "    'passwordBreached': True}]})"
      ]
     },
     "execution_count": 16,
     "metadata": {},
     "output_type": "execute_result"
    }
   ],
   "source": [
    "list(resp_dict['data'].items())[0]"
   ]
  },
  {
   "cell_type": "markdown",
   "metadata": {},
   "source": [
    "Ключи вложенного словаря (первого уровня) - сайты/источники утечек:"
   ]
  },
  {
   "cell_type": "code",
   "execution_count": 16,
   "metadata": {
    "scrolled": true
   },
   "outputs": [
    {
     "data": {
      "text/plain": [
       "dict_keys(['parapa.mail.ru', 'adobe.com', 'cdprojektred.com', 'azcentral.com', 'linkedin.com', 'dropbox.com', 'wishbone.io', 'youku.com', 'myheritage.com', 'rayli.com.cn', 'canva.com', 'globalreach.eu', 'cfire.mail.ru', 'vk.com', 'forums.vkmonline.com', 'netlog.com', 'imesh.com', 'zynga.com'])"
      ]
     },
     "execution_count": 16,
     "metadata": {},
     "output_type": "execute_result"
    }
   ],
   "source": [
    "resp_dict['data'].keys()"
   ]
  },
  {
   "cell_type": "markdown",
   "metadata": {},
   "source": [
    "Значения вложенного словаря (первого уровня) - вложенный словарь (второго уровня).\n",
    "Ключи вложенного словаря (второго уровня) - мейлы из запроса на проверку.\n",
    "В качестве значений - список словарей, в каждом из которых номер утечки и утечка логина/пароля Да/Нет."
   ]
  },
  {
   "cell_type": "code",
   "execution_count": 17,
   "metadata": {
    "scrolled": false
   },
   "outputs": [
    {
     "data": {
      "text/plain": [
       "{'xxx@x.ru': [{'breachId': 3176,\n",
       "   'usernameBreached': True,\n",
       "   'passwordBreached': True}]}"
      ]
     },
     "execution_count": 17,
     "metadata": {},
     "output_type": "execute_result"
    }
   ],
   "source": [
    "list(resp_dict['data'].values())[0]"
   ]
  },
  {
   "cell_type": "markdown",
   "metadata": {},
   "source": [
    "Разберем значение по ключу 'summary'. Значение по ключу 'summary' - вложенный словарь (первого уровня):"
   ]
  },
  {
   "cell_type": "code",
   "execution_count": 18,
   "metadata": {
    "scrolled": false
   },
   "outputs": [
    {
     "data": {
      "text/plain": [
       "{'xxx@x.ru': {'breaches': [3, 12, 15, 2961, 3164, 3176]},\n",
       " 'yyy@y.com': {'breaches': [2,\n",
       "   3,\n",
       "   15,\n",
       "   41,\n",
       "   3520,\n",
       "   3587,\n",
       "   3669,\n",
       "   13094,\n",
       "   13662,\n",
       "   16768,\n",
       "   17009,\n",
       "   17110,\n",
       "   17670,\n",
       "   37177]}}"
      ]
     },
     "execution_count": 18,
     "metadata": {},
     "output_type": "execute_result"
    }
   ],
   "source": [
    "resp_dict['summary']"
   ]
  },
  {
   "cell_type": "markdown",
   "metadata": {},
   "source": [
    "Ключи вложенного словаря (первого уровня) - мейлы из запроса на проверку:"
   ]
  },
  {
   "cell_type": "code",
   "execution_count": 19,
   "metadata": {},
   "outputs": [
    {
     "data": {
      "text/plain": [
       "dict_keys(['xxx@x.ru', 'yyy@y.com'])"
      ]
     },
     "execution_count": 19,
     "metadata": {},
     "output_type": "execute_result"
    }
   ],
   "source": [
    "resp_dict['summary'].keys()"
   ]
  },
  {
   "cell_type": "markdown",
   "metadata": {},
   "source": [
    "Значения вложенного словаря (первого уровня) - вложенный словарь (второго уровня).\n",
    "В качестве значений вложенного словаря (второго уровня)- список номеров утечек:"
   ]
  },
  {
   "cell_type": "code",
   "execution_count": 20,
   "metadata": {
    "scrolled": true
   },
   "outputs": [
    {
     "data": {
      "text/plain": [
       "('xxx@x.ru', {'breaches': [3, 12, 15, 2961, 3164, 3176]})"
      ]
     },
     "execution_count": 20,
     "metadata": {},
     "output_type": "execute_result"
    }
   ],
   "source": [
    "list(resp_dict['summary'].items())[0]"
   ]
  },
  {
   "cell_type": "markdown",
   "metadata": {},
   "source": [
    "Сформируем датафрейм."
   ]
  },
  {
   "cell_type": "markdown",
   "metadata": {},
   "source": [
    "<h4><a href=\"#0\">Наверх</a></h4>"
   ]
  },
  {
   "cell_type": "markdown",
   "metadata": {},
   "source": [
    "<p id=\"2.2\">\n",
    "<h5>Формирование датафрейма (вар. 1)</h5>"
   ]
  },
  {
   "cell_type": "markdown",
   "metadata": {},
   "source": [
    "Сформируем датафрейм с информацией о номере, сайте, дате и описании утечки."
   ]
  },
  {
   "cell_type": "markdown",
   "metadata": {},
   "source": [
    "Формируем датафрейм на основе вложенного словаря по ключу 'breaches'.\n",
    "Ключи-номера утечек становятся столбцами, ключи вложенных словарей второго уровня становятся индексами:"
   ]
  },
  {
   "cell_type": "code",
   "execution_count": 21,
   "metadata": {
    "scrolled": true
   },
   "outputs": [
    {
     "data": {
      "text/html": [
       "<div>\n",
       "<style scoped>\n",
       "    .dataframe tbody tr th:only-of-type {\n",
       "        vertical-align: middle;\n",
       "    }\n",
       "\n",
       "    .dataframe tbody tr th {\n",
       "        vertical-align: top;\n",
       "    }\n",
       "\n",
       "    .dataframe thead th {\n",
       "        text-align: right;\n",
       "    }\n",
       "</style>\n",
       "<table border=\"1\" class=\"dataframe\">\n",
       "  <thead>\n",
       "    <tr style=\"text-align: right;\">\n",
       "      <th></th>\n",
       "      <th>2</th>\n",
       "      <th>3</th>\n",
       "      <th>12</th>\n",
       "      <th>15</th>\n",
       "      <th>41</th>\n",
       "      <th>2961</th>\n",
       "      <th>3164</th>\n",
       "      <th>3176</th>\n",
       "      <th>3520</th>\n",
       "      <th>3587</th>\n",
       "      <th>3669</th>\n",
       "      <th>13094</th>\n",
       "      <th>13662</th>\n",
       "      <th>16768</th>\n",
       "      <th>17009</th>\n",
       "      <th>17110</th>\n",
       "      <th>17670</th>\n",
       "      <th>37177</th>\n",
       "    </tr>\n",
       "  </thead>\n",
       "  <tbody>\n",
       "    <tr>\n",
       "      <th>breachId</th>\n",
       "      <td>2</td>\n",
       "      <td>3</td>\n",
       "      <td>12</td>\n",
       "      <td>15</td>\n",
       "      <td>41</td>\n",
       "      <td>2961</td>\n",
       "      <td>3164</td>\n",
       "      <td>3176</td>\n",
       "      <td>3520</td>\n",
       "      <td>3587</td>\n",
       "      <td>3669</td>\n",
       "      <td>13094</td>\n",
       "      <td>13662</td>\n",
       "      <td>16768</td>\n",
       "      <td>17009</td>\n",
       "      <td>17110</td>\n",
       "      <td>17670</td>\n",
       "      <td>37177</td>\n",
       "    </tr>\n",
       "    <tr>\n",
       "      <th>site</th>\n",
       "      <td>linkedin.com</td>\n",
       "      <td>adobe.com</td>\n",
       "      <td>vk.com</td>\n",
       "      <td>imesh.com</td>\n",
       "      <td>dropbox.com</td>\n",
       "      <td>cdprojektred.com</td>\n",
       "      <td>cfire.mail.ru</td>\n",
       "      <td>parapa.mail.ru</td>\n",
       "      <td>globalreach.eu</td>\n",
       "      <td>rayli.com.cn</td>\n",
       "      <td>youku.com</td>\n",
       "      <td>myheritage.com</td>\n",
       "      <td>netlog.com</td>\n",
       "      <td>canva.com</td>\n",
       "      <td>zynga.com</td>\n",
       "      <td>azcentral.com</td>\n",
       "      <td>wishbone.io</td>\n",
       "      <td>forums.vkmonline.com</td>\n",
       "    </tr>\n",
       "    <tr>\n",
       "      <th>recordsCount</th>\n",
       "      <td>158591429</td>\n",
       "      <td>152046506</td>\n",
       "      <td>110121799</td>\n",
       "      <td>50913222</td>\n",
       "      <td>68591031</td>\n",
       "      <td>1871459</td>\n",
       "      <td>12880232</td>\n",
       "      <td>5029003</td>\n",
       "      <td>921298</td>\n",
       "      <td>4844179</td>\n",
       "      <td>94244880</td>\n",
       "      <td>110041653</td>\n",
       "      <td>52904632</td>\n",
       "      <td>137434010</td>\n",
       "      <td>216159495</td>\n",
       "      <td>705538</td>\n",
       "      <td>37475476</td>\n",
       "      <td>825654</td>\n",
       "    </tr>\n",
       "    <tr>\n",
       "      <th>description</th>\n",
       "      <td>In 2012, online professional networking platfo...</td>\n",
       "      <td>In October of 2013, criminals penetrated Adobe...</td>\n",
       "      <td>Popular Russian social networking platform VKo...</td>\n",
       "      <td>In June 2016, a cache of over 51 million user ...</td>\n",
       "      <td>Cloud storage company Dropbox suffered a major...</td>\n",
       "      <td>In March 2016, CDProjektRed.com.com's forum da...</td>\n",
       "      <td>In July and August of 2016, two criminals carr...</td>\n",
       "      <td>In July and August 2016, two criminals execute...</td>\n",
       "      <td>In 2016, Global Reach Technology's database wa...</td>\n",
       "      <td>On an unconfirmed date, Chinese gossip site Ra...</td>\n",
       "      <td>Youku is a large Chinese video content company...</td>\n",
       "      <td>In October 2017, a customer database belonging...</td>\n",
       "      <td>Netlog (formerly known as Facebox and Bingbox)...</td>\n",
       "      <td>In May 2019, graphic-design site Canva's datab...</td>\n",
       "      <td>In September 2019, the game developer Zynga wa...</td>\n",
       "      <td>At an unconfirmed date, online Arizona newspap...</td>\n",
       "      <td>In January 2020, the online poll website Wishb...</td>\n",
       "      <td>At an unconfirmed date, the Russian-language m...</td>\n",
       "    </tr>\n",
       "    <tr>\n",
       "      <th>publishDate</th>\n",
       "      <td>2016-10-21T00:00:00Z</td>\n",
       "      <td>2016-10-21T00:00:00Z</td>\n",
       "      <td>2016-10-29T00:00:00Z</td>\n",
       "      <td>2016-10-23T00:00:00Z</td>\n",
       "      <td>2016-10-24T00:00:00Z</td>\n",
       "      <td>2017-01-31T00:00:00Z</td>\n",
       "      <td>2017-02-14T00:00:00Z</td>\n",
       "      <td>2017-02-14T00:00:00Z</td>\n",
       "      <td>2017-03-15T00:00:00Z</td>\n",
       "      <td>2017-03-01T00:00:00Z</td>\n",
       "      <td>2017-03-24T00:00:00Z</td>\n",
       "      <td>2017-11-04T00:00:00Z</td>\n",
       "      <td>2018-02-18T00:00:00Z</td>\n",
       "      <td>2019-06-13T00:00:00Z</td>\n",
       "      <td>2019-10-17T00:00:00Z</td>\n",
       "      <td>2020-01-03T00:00:00Z</td>\n",
       "      <td>2020-05-28T00:00:00Z</td>\n",
       "      <td>2021-02-11T00:00:00Z</td>\n",
       "    </tr>\n",
       "    <tr>\n",
       "      <th>statistics</th>\n",
       "      <td>{'usernames': 0, 'passwords': 111975337, 'emai...</td>\n",
       "      <td>{'usernames': 0, 'passwords': 129430596, 'emai...</td>\n",
       "      <td>{'usernames': 0, 'passwords': 107425364, 'emai...</td>\n",
       "      <td>{'usernames': 50909015, 'passwords': 50913222,...</td>\n",
       "      <td>{'usernames': 0, 'passwords': 68591031, 'email...</td>\n",
       "      <td>{'usernames': 1871410, 'passwords': 1871457, '...</td>\n",
       "      <td>{'usernames': 12880232, 'passwords': 12880222,...</td>\n",
       "      <td>{'usernames': 5029000, 'passwords': 5029003, '...</td>\n",
       "      <td>{'usernames': 13492, 'passwords': 921298, 'ema...</td>\n",
       "      <td>{'usernames': 4841886, 'passwords': 4833694, '...</td>\n",
       "      <td>{'usernames': 0, 'passwords': 94238535, 'email...</td>\n",
       "      <td>{'usernames': 0, 'passwords': 110041647, 'emai...</td>\n",
       "      <td>{'usernames': 0, 'passwords': 52902665, 'email...</td>\n",
       "      <td>{'usernames': 137304104, 'passwords': 61348974...</td>\n",
       "      <td>{'usernames': 214648143, 'passwords': 13476279...</td>\n",
       "      <td>{'usernames': 0, 'passwords': 702971, 'emails'...</td>\n",
       "      <td>{'usernames': 31111127, 'passwords': 10648734,...</td>\n",
       "      <td>{'usernames': 825566, 'passwords': 825654, 'em...</td>\n",
       "    </tr>\n",
       "  </tbody>\n",
       "</table>\n",
       "</div>"
      ],
      "text/plain": [
       "                                                              2  \\\n",
       "breachId                                                      2   \n",
       "site                                               linkedin.com   \n",
       "recordsCount                                          158591429   \n",
       "description   In 2012, online professional networking platfo...   \n",
       "publishDate                                2016-10-21T00:00:00Z   \n",
       "statistics    {'usernames': 0, 'passwords': 111975337, 'emai...   \n",
       "\n",
       "                                                              3  \\\n",
       "breachId                                                      3   \n",
       "site                                                  adobe.com   \n",
       "recordsCount                                          152046506   \n",
       "description   In October of 2013, criminals penetrated Adobe...   \n",
       "publishDate                                2016-10-21T00:00:00Z   \n",
       "statistics    {'usernames': 0, 'passwords': 129430596, 'emai...   \n",
       "\n",
       "                                                             12  \\\n",
       "breachId                                                     12   \n",
       "site                                                     vk.com   \n",
       "recordsCount                                          110121799   \n",
       "description   Popular Russian social networking platform VKo...   \n",
       "publishDate                                2016-10-29T00:00:00Z   \n",
       "statistics    {'usernames': 0, 'passwords': 107425364, 'emai...   \n",
       "\n",
       "                                                             15  \\\n",
       "breachId                                                     15   \n",
       "site                                                  imesh.com   \n",
       "recordsCount                                           50913222   \n",
       "description   In June 2016, a cache of over 51 million user ...   \n",
       "publishDate                                2016-10-23T00:00:00Z   \n",
       "statistics    {'usernames': 50909015, 'passwords': 50913222,...   \n",
       "\n",
       "                                                             41  \\\n",
       "breachId                                                     41   \n",
       "site                                                dropbox.com   \n",
       "recordsCount                                           68591031   \n",
       "description   Cloud storage company Dropbox suffered a major...   \n",
       "publishDate                                2016-10-24T00:00:00Z   \n",
       "statistics    {'usernames': 0, 'passwords': 68591031, 'email...   \n",
       "\n",
       "                                                           2961  \\\n",
       "breachId                                                   2961   \n",
       "site                                           cdprojektred.com   \n",
       "recordsCount                                            1871459   \n",
       "description   In March 2016, CDProjektRed.com.com's forum da...   \n",
       "publishDate                                2017-01-31T00:00:00Z   \n",
       "statistics    {'usernames': 1871410, 'passwords': 1871457, '...   \n",
       "\n",
       "                                                           3164  \\\n",
       "breachId                                                   3164   \n",
       "site                                              cfire.mail.ru   \n",
       "recordsCount                                           12880232   \n",
       "description   In July and August of 2016, two criminals carr...   \n",
       "publishDate                                2017-02-14T00:00:00Z   \n",
       "statistics    {'usernames': 12880232, 'passwords': 12880222,...   \n",
       "\n",
       "                                                           3176  \\\n",
       "breachId                                                   3176   \n",
       "site                                             parapa.mail.ru   \n",
       "recordsCount                                            5029003   \n",
       "description   In July and August 2016, two criminals execute...   \n",
       "publishDate                                2017-02-14T00:00:00Z   \n",
       "statistics    {'usernames': 5029000, 'passwords': 5029003, '...   \n",
       "\n",
       "                                                           3520  \\\n",
       "breachId                                                   3520   \n",
       "site                                             globalreach.eu   \n",
       "recordsCount                                             921298   \n",
       "description   In 2016, Global Reach Technology's database wa...   \n",
       "publishDate                                2017-03-15T00:00:00Z   \n",
       "statistics    {'usernames': 13492, 'passwords': 921298, 'ema...   \n",
       "\n",
       "                                                           3587  \\\n",
       "breachId                                                   3587   \n",
       "site                                               rayli.com.cn   \n",
       "recordsCount                                            4844179   \n",
       "description   On an unconfirmed date, Chinese gossip site Ra...   \n",
       "publishDate                                2017-03-01T00:00:00Z   \n",
       "statistics    {'usernames': 4841886, 'passwords': 4833694, '...   \n",
       "\n",
       "                                                           3669  \\\n",
       "breachId                                                   3669   \n",
       "site                                                  youku.com   \n",
       "recordsCount                                           94244880   \n",
       "description   Youku is a large Chinese video content company...   \n",
       "publishDate                                2017-03-24T00:00:00Z   \n",
       "statistics    {'usernames': 0, 'passwords': 94238535, 'email...   \n",
       "\n",
       "                                                          13094  \\\n",
       "breachId                                                  13094   \n",
       "site                                             myheritage.com   \n",
       "recordsCount                                          110041653   \n",
       "description   In October 2017, a customer database belonging...   \n",
       "publishDate                                2017-11-04T00:00:00Z   \n",
       "statistics    {'usernames': 0, 'passwords': 110041647, 'emai...   \n",
       "\n",
       "                                                          13662  \\\n",
       "breachId                                                  13662   \n",
       "site                                                 netlog.com   \n",
       "recordsCount                                           52904632   \n",
       "description   Netlog (formerly known as Facebox and Bingbox)...   \n",
       "publishDate                                2018-02-18T00:00:00Z   \n",
       "statistics    {'usernames': 0, 'passwords': 52902665, 'email...   \n",
       "\n",
       "                                                          16768  \\\n",
       "breachId                                                  16768   \n",
       "site                                                  canva.com   \n",
       "recordsCount                                          137434010   \n",
       "description   In May 2019, graphic-design site Canva's datab...   \n",
       "publishDate                                2019-06-13T00:00:00Z   \n",
       "statistics    {'usernames': 137304104, 'passwords': 61348974...   \n",
       "\n",
       "                                                          17009  \\\n",
       "breachId                                                  17009   \n",
       "site                                                  zynga.com   \n",
       "recordsCount                                          216159495   \n",
       "description   In September 2019, the game developer Zynga wa...   \n",
       "publishDate                                2019-10-17T00:00:00Z   \n",
       "statistics    {'usernames': 214648143, 'passwords': 13476279...   \n",
       "\n",
       "                                                          17110  \\\n",
       "breachId                                                  17110   \n",
       "site                                              azcentral.com   \n",
       "recordsCount                                             705538   \n",
       "description   At an unconfirmed date, online Arizona newspap...   \n",
       "publishDate                                2020-01-03T00:00:00Z   \n",
       "statistics    {'usernames': 0, 'passwords': 702971, 'emails'...   \n",
       "\n",
       "                                                          17670  \\\n",
       "breachId                                                  17670   \n",
       "site                                                wishbone.io   \n",
       "recordsCount                                           37475476   \n",
       "description   In January 2020, the online poll website Wishb...   \n",
       "publishDate                                2020-05-28T00:00:00Z   \n",
       "statistics    {'usernames': 31111127, 'passwords': 10648734,...   \n",
       "\n",
       "                                                          37177  \n",
       "breachId                                                  37177  \n",
       "site                                       forums.vkmonline.com  \n",
       "recordsCount                                             825654  \n",
       "description   At an unconfirmed date, the Russian-language m...  \n",
       "publishDate                                2021-02-11T00:00:00Z  \n",
       "statistics    {'usernames': 825566, 'passwords': 825654, 'em...  "
      ]
     },
     "execution_count": 21,
     "metadata": {},
     "output_type": "execute_result"
    }
   ],
   "source": [
    "pd.DataFrame(req_2.json()['breaches'])"
   ]
  },
  {
   "cell_type": "markdown",
   "metadata": {},
   "source": [
    "Транспонируем, чтобы номера утечек стали индексами, а ключи вложенного словаря - столбцами:"
   ]
  },
  {
   "cell_type": "code",
   "execution_count": 22,
   "metadata": {
    "scrolled": false
   },
   "outputs": [
    {
     "data": {
      "text/html": [
       "<div>\n",
       "<style scoped>\n",
       "    .dataframe tbody tr th:only-of-type {\n",
       "        vertical-align: middle;\n",
       "    }\n",
       "\n",
       "    .dataframe tbody tr th {\n",
       "        vertical-align: top;\n",
       "    }\n",
       "\n",
       "    .dataframe thead th {\n",
       "        text-align: right;\n",
       "    }\n",
       "</style>\n",
       "<table border=\"1\" class=\"dataframe\">\n",
       "  <thead>\n",
       "    <tr style=\"text-align: right;\">\n",
       "      <th></th>\n",
       "      <th>breachId</th>\n",
       "      <th>site</th>\n",
       "      <th>recordsCount</th>\n",
       "      <th>description</th>\n",
       "      <th>publishDate</th>\n",
       "      <th>statistics</th>\n",
       "    </tr>\n",
       "  </thead>\n",
       "  <tbody>\n",
       "    <tr>\n",
       "      <th>2</th>\n",
       "      <td>2</td>\n",
       "      <td>linkedin.com</td>\n",
       "      <td>158591429</td>\n",
       "      <td>In 2012, online professional networking platfo...</td>\n",
       "      <td>2016-10-21T00:00:00Z</td>\n",
       "      <td>{'usernames': 0, 'passwords': 111975337, 'emai...</td>\n",
       "    </tr>\n",
       "    <tr>\n",
       "      <th>3</th>\n",
       "      <td>3</td>\n",
       "      <td>adobe.com</td>\n",
       "      <td>152046506</td>\n",
       "      <td>In October of 2013, criminals penetrated Adobe...</td>\n",
       "      <td>2016-10-21T00:00:00Z</td>\n",
       "      <td>{'usernames': 0, 'passwords': 129430596, 'emai...</td>\n",
       "    </tr>\n",
       "    <tr>\n",
       "      <th>12</th>\n",
       "      <td>12</td>\n",
       "      <td>vk.com</td>\n",
       "      <td>110121799</td>\n",
       "      <td>Popular Russian social networking platform VKo...</td>\n",
       "      <td>2016-10-29T00:00:00Z</td>\n",
       "      <td>{'usernames': 0, 'passwords': 107425364, 'emai...</td>\n",
       "    </tr>\n",
       "    <tr>\n",
       "      <th>15</th>\n",
       "      <td>15</td>\n",
       "      <td>imesh.com</td>\n",
       "      <td>50913222</td>\n",
       "      <td>In June 2016, a cache of over 51 million user ...</td>\n",
       "      <td>2016-10-23T00:00:00Z</td>\n",
       "      <td>{'usernames': 50909015, 'passwords': 50913222,...</td>\n",
       "    </tr>\n",
       "    <tr>\n",
       "      <th>41</th>\n",
       "      <td>41</td>\n",
       "      <td>dropbox.com</td>\n",
       "      <td>68591031</td>\n",
       "      <td>Cloud storage company Dropbox suffered a major...</td>\n",
       "      <td>2016-10-24T00:00:00Z</td>\n",
       "      <td>{'usernames': 0, 'passwords': 68591031, 'email...</td>\n",
       "    </tr>\n",
       "  </tbody>\n",
       "</table>\n",
       "</div>"
      ],
      "text/plain": [
       "   breachId          site recordsCount  \\\n",
       "2         2  linkedin.com    158591429   \n",
       "3         3     adobe.com    152046506   \n",
       "12       12        vk.com    110121799   \n",
       "15       15     imesh.com     50913222   \n",
       "41       41   dropbox.com     68591031   \n",
       "\n",
       "                                          description           publishDate  \\\n",
       "2   In 2012, online professional networking platfo...  2016-10-21T00:00:00Z   \n",
       "3   In October of 2013, criminals penetrated Adobe...  2016-10-21T00:00:00Z   \n",
       "12  Popular Russian social networking platform VKo...  2016-10-29T00:00:00Z   \n",
       "15  In June 2016, a cache of over 51 million user ...  2016-10-23T00:00:00Z   \n",
       "41  Cloud storage company Dropbox suffered a major...  2016-10-24T00:00:00Z   \n",
       "\n",
       "                                           statistics  \n",
       "2   {'usernames': 0, 'passwords': 111975337, 'emai...  \n",
       "3   {'usernames': 0, 'passwords': 129430596, 'emai...  \n",
       "12  {'usernames': 0, 'passwords': 107425364, 'emai...  \n",
       "15  {'usernames': 50909015, 'passwords': 50913222,...  \n",
       "41  {'usernames': 0, 'passwords': 68591031, 'email...  "
      ]
     },
     "execution_count": 22,
     "metadata": {},
     "output_type": "execute_result"
    }
   ],
   "source": [
    "pd.DataFrame(req_2.json()['breaches']).T.head()"
   ]
  },
  {
   "cell_type": "markdown",
   "metadata": {},
   "source": [
    "Сбрасываем индекс, получаем датафрейм с порядковым индексом:"
   ]
  },
  {
   "cell_type": "code",
   "execution_count": 23,
   "metadata": {
    "scrolled": true
   },
   "outputs": [
    {
     "data": {
      "text/html": [
       "<div>\n",
       "<style scoped>\n",
       "    .dataframe tbody tr th:only-of-type {\n",
       "        vertical-align: middle;\n",
       "    }\n",
       "\n",
       "    .dataframe tbody tr th {\n",
       "        vertical-align: top;\n",
       "    }\n",
       "\n",
       "    .dataframe thead th {\n",
       "        text-align: right;\n",
       "    }\n",
       "</style>\n",
       "<table border=\"1\" class=\"dataframe\">\n",
       "  <thead>\n",
       "    <tr style=\"text-align: right;\">\n",
       "      <th></th>\n",
       "      <th>index</th>\n",
       "      <th>breachId</th>\n",
       "      <th>site</th>\n",
       "      <th>recordsCount</th>\n",
       "      <th>description</th>\n",
       "      <th>publishDate</th>\n",
       "      <th>statistics</th>\n",
       "    </tr>\n",
       "  </thead>\n",
       "  <tbody>\n",
       "    <tr>\n",
       "      <th>0</th>\n",
       "      <td>2</td>\n",
       "      <td>2</td>\n",
       "      <td>linkedin.com</td>\n",
       "      <td>158591429</td>\n",
       "      <td>In 2012, online professional networking platfo...</td>\n",
       "      <td>2016-10-21T00:00:00Z</td>\n",
       "      <td>{'usernames': 0, 'passwords': 111975337, 'emai...</td>\n",
       "    </tr>\n",
       "    <tr>\n",
       "      <th>1</th>\n",
       "      <td>3</td>\n",
       "      <td>3</td>\n",
       "      <td>adobe.com</td>\n",
       "      <td>152046506</td>\n",
       "      <td>In October of 2013, criminals penetrated Adobe...</td>\n",
       "      <td>2016-10-21T00:00:00Z</td>\n",
       "      <td>{'usernames': 0, 'passwords': 129430596, 'emai...</td>\n",
       "    </tr>\n",
       "    <tr>\n",
       "      <th>2</th>\n",
       "      <td>12</td>\n",
       "      <td>12</td>\n",
       "      <td>vk.com</td>\n",
       "      <td>110121799</td>\n",
       "      <td>Popular Russian social networking platform VKo...</td>\n",
       "      <td>2016-10-29T00:00:00Z</td>\n",
       "      <td>{'usernames': 0, 'passwords': 107425364, 'emai...</td>\n",
       "    </tr>\n",
       "    <tr>\n",
       "      <th>3</th>\n",
       "      <td>15</td>\n",
       "      <td>15</td>\n",
       "      <td>imesh.com</td>\n",
       "      <td>50913222</td>\n",
       "      <td>In June 2016, a cache of over 51 million user ...</td>\n",
       "      <td>2016-10-23T00:00:00Z</td>\n",
       "      <td>{'usernames': 50909015, 'passwords': 50913222,...</td>\n",
       "    </tr>\n",
       "    <tr>\n",
       "      <th>4</th>\n",
       "      <td>41</td>\n",
       "      <td>41</td>\n",
       "      <td>dropbox.com</td>\n",
       "      <td>68591031</td>\n",
       "      <td>Cloud storage company Dropbox suffered a major...</td>\n",
       "      <td>2016-10-24T00:00:00Z</td>\n",
       "      <td>{'usernames': 0, 'passwords': 68591031, 'email...</td>\n",
       "    </tr>\n",
       "  </tbody>\n",
       "</table>\n",
       "</div>"
      ],
      "text/plain": [
       "  index breachId          site recordsCount  \\\n",
       "0     2        2  linkedin.com    158591429   \n",
       "1     3        3     adobe.com    152046506   \n",
       "2    12       12        vk.com    110121799   \n",
       "3    15       15     imesh.com     50913222   \n",
       "4    41       41   dropbox.com     68591031   \n",
       "\n",
       "                                         description           publishDate  \\\n",
       "0  In 2012, online professional networking platfo...  2016-10-21T00:00:00Z   \n",
       "1  In October of 2013, criminals penetrated Adobe...  2016-10-21T00:00:00Z   \n",
       "2  Popular Russian social networking platform VKo...  2016-10-29T00:00:00Z   \n",
       "3  In June 2016, a cache of over 51 million user ...  2016-10-23T00:00:00Z   \n",
       "4  Cloud storage company Dropbox suffered a major...  2016-10-24T00:00:00Z   \n",
       "\n",
       "                                          statistics  \n",
       "0  {'usernames': 0, 'passwords': 111975337, 'emai...  \n",
       "1  {'usernames': 0, 'passwords': 129430596, 'emai...  \n",
       "2  {'usernames': 0, 'passwords': 107425364, 'emai...  \n",
       "3  {'usernames': 50909015, 'passwords': 50913222,...  \n",
       "4  {'usernames': 0, 'passwords': 68591031, 'email...  "
      ]
     },
     "execution_count": 23,
     "metadata": {},
     "output_type": "execute_result"
    }
   ],
   "source": [
    "df = pd.DataFrame(req_2.json()['breaches']).T.reset_index()\n",
    "df.head()"
   ]
  },
  {
   "cell_type": "markdown",
   "metadata": {},
   "source": [
    "Столбец с датой в удобном формате:"
   ]
  },
  {
   "cell_type": "code",
   "execution_count": 24,
   "metadata": {
    "scrolled": true
   },
   "outputs": [
    {
     "data": {
      "text/html": [
       "<div>\n",
       "<style scoped>\n",
       "    .dataframe tbody tr th:only-of-type {\n",
       "        vertical-align: middle;\n",
       "    }\n",
       "\n",
       "    .dataframe tbody tr th {\n",
       "        vertical-align: top;\n",
       "    }\n",
       "\n",
       "    .dataframe thead th {\n",
       "        text-align: right;\n",
       "    }\n",
       "</style>\n",
       "<table border=\"1\" class=\"dataframe\">\n",
       "  <thead>\n",
       "    <tr style=\"text-align: right;\">\n",
       "      <th></th>\n",
       "      <th>index</th>\n",
       "      <th>breachId</th>\n",
       "      <th>site</th>\n",
       "      <th>recordsCount</th>\n",
       "      <th>description</th>\n",
       "      <th>publishDate</th>\n",
       "      <th>statistics</th>\n",
       "      <th>date</th>\n",
       "    </tr>\n",
       "  </thead>\n",
       "  <tbody>\n",
       "    <tr>\n",
       "      <th>0</th>\n",
       "      <td>2</td>\n",
       "      <td>2</td>\n",
       "      <td>linkedin.com</td>\n",
       "      <td>158591429</td>\n",
       "      <td>In 2012, online professional networking platfo...</td>\n",
       "      <td>2016-10-21T00:00:00Z</td>\n",
       "      <td>{'usernames': 0, 'passwords': 111975337, 'emai...</td>\n",
       "      <td>21.10.2016</td>\n",
       "    </tr>\n",
       "    <tr>\n",
       "      <th>1</th>\n",
       "      <td>3</td>\n",
       "      <td>3</td>\n",
       "      <td>adobe.com</td>\n",
       "      <td>152046506</td>\n",
       "      <td>In October of 2013, criminals penetrated Adobe...</td>\n",
       "      <td>2016-10-21T00:00:00Z</td>\n",
       "      <td>{'usernames': 0, 'passwords': 129430596, 'emai...</td>\n",
       "      <td>21.10.2016</td>\n",
       "    </tr>\n",
       "    <tr>\n",
       "      <th>2</th>\n",
       "      <td>12</td>\n",
       "      <td>12</td>\n",
       "      <td>vk.com</td>\n",
       "      <td>110121799</td>\n",
       "      <td>Popular Russian social networking platform VKo...</td>\n",
       "      <td>2016-10-29T00:00:00Z</td>\n",
       "      <td>{'usernames': 0, 'passwords': 107425364, 'emai...</td>\n",
       "      <td>29.10.2016</td>\n",
       "    </tr>\n",
       "    <tr>\n",
       "      <th>3</th>\n",
       "      <td>15</td>\n",
       "      <td>15</td>\n",
       "      <td>imesh.com</td>\n",
       "      <td>50913222</td>\n",
       "      <td>In June 2016, a cache of over 51 million user ...</td>\n",
       "      <td>2016-10-23T00:00:00Z</td>\n",
       "      <td>{'usernames': 50909015, 'passwords': 50913222,...</td>\n",
       "      <td>23.10.2016</td>\n",
       "    </tr>\n",
       "    <tr>\n",
       "      <th>4</th>\n",
       "      <td>41</td>\n",
       "      <td>41</td>\n",
       "      <td>dropbox.com</td>\n",
       "      <td>68591031</td>\n",
       "      <td>Cloud storage company Dropbox suffered a major...</td>\n",
       "      <td>2016-10-24T00:00:00Z</td>\n",
       "      <td>{'usernames': 0, 'passwords': 68591031, 'email...</td>\n",
       "      <td>24.10.2016</td>\n",
       "    </tr>\n",
       "  </tbody>\n",
       "</table>\n",
       "</div>"
      ],
      "text/plain": [
       "  index breachId          site recordsCount  \\\n",
       "0     2        2  linkedin.com    158591429   \n",
       "1     3        3     adobe.com    152046506   \n",
       "2    12       12        vk.com    110121799   \n",
       "3    15       15     imesh.com     50913222   \n",
       "4    41       41   dropbox.com     68591031   \n",
       "\n",
       "                                         description           publishDate  \\\n",
       "0  In 2012, online professional networking platfo...  2016-10-21T00:00:00Z   \n",
       "1  In October of 2013, criminals penetrated Adobe...  2016-10-21T00:00:00Z   \n",
       "2  Popular Russian social networking platform VKo...  2016-10-29T00:00:00Z   \n",
       "3  In June 2016, a cache of over 51 million user ...  2016-10-23T00:00:00Z   \n",
       "4  Cloud storage company Dropbox suffered a major...  2016-10-24T00:00:00Z   \n",
       "\n",
       "                                          statistics        date  \n",
       "0  {'usernames': 0, 'passwords': 111975337, 'emai...  21.10.2016  \n",
       "1  {'usernames': 0, 'passwords': 129430596, 'emai...  21.10.2016  \n",
       "2  {'usernames': 0, 'passwords': 107425364, 'emai...  29.10.2016  \n",
       "3  {'usernames': 50909015, 'passwords': 50913222,...  23.10.2016  \n",
       "4  {'usernames': 0, 'passwords': 68591031, 'email...  24.10.2016  "
      ]
     },
     "execution_count": 24,
     "metadata": {},
     "output_type": "execute_result"
    }
   ],
   "source": [
    "df['date'] = pd.to_datetime(df['publishDate'], dayfirst = True).dt.strftime('%d.%m.%Y')\n",
    "df.head()"
   ]
  },
  {
   "cell_type": "markdown",
   "metadata": {},
   "source": [
    "Оставляем нужные столбцы:"
   ]
  },
  {
   "cell_type": "code",
   "execution_count": 25,
   "metadata": {
    "scrolled": false
   },
   "outputs": [
    {
     "data": {
      "text/html": [
       "<div>\n",
       "<style scoped>\n",
       "    .dataframe tbody tr th:only-of-type {\n",
       "        vertical-align: middle;\n",
       "    }\n",
       "\n",
       "    .dataframe tbody tr th {\n",
       "        vertical-align: top;\n",
       "    }\n",
       "\n",
       "    .dataframe thead th {\n",
       "        text-align: right;\n",
       "    }\n",
       "</style>\n",
       "<table border=\"1\" class=\"dataframe\">\n",
       "  <thead>\n",
       "    <tr style=\"text-align: right;\">\n",
       "      <th></th>\n",
       "      <th>date</th>\n",
       "      <th>site</th>\n",
       "      <th>description</th>\n",
       "      <th>breachId</th>\n",
       "    </tr>\n",
       "  </thead>\n",
       "  <tbody>\n",
       "    <tr>\n",
       "      <th>0</th>\n",
       "      <td>21.10.2016</td>\n",
       "      <td>linkedin.com</td>\n",
       "      <td>In 2012, online professional networking platfo...</td>\n",
       "      <td>2</td>\n",
       "    </tr>\n",
       "    <tr>\n",
       "      <th>1</th>\n",
       "      <td>21.10.2016</td>\n",
       "      <td>adobe.com</td>\n",
       "      <td>In October of 2013, criminals penetrated Adobe...</td>\n",
       "      <td>3</td>\n",
       "    </tr>\n",
       "    <tr>\n",
       "      <th>2</th>\n",
       "      <td>29.10.2016</td>\n",
       "      <td>vk.com</td>\n",
       "      <td>Popular Russian social networking platform VKo...</td>\n",
       "      <td>12</td>\n",
       "    </tr>\n",
       "    <tr>\n",
       "      <th>3</th>\n",
       "      <td>23.10.2016</td>\n",
       "      <td>imesh.com</td>\n",
       "      <td>In June 2016, a cache of over 51 million user ...</td>\n",
       "      <td>15</td>\n",
       "    </tr>\n",
       "    <tr>\n",
       "      <th>4</th>\n",
       "      <td>24.10.2016</td>\n",
       "      <td>dropbox.com</td>\n",
       "      <td>Cloud storage company Dropbox suffered a major...</td>\n",
       "      <td>41</td>\n",
       "    </tr>\n",
       "  </tbody>\n",
       "</table>\n",
       "</div>"
      ],
      "text/plain": [
       "         date          site  \\\n",
       "0  21.10.2016  linkedin.com   \n",
       "1  21.10.2016     adobe.com   \n",
       "2  29.10.2016        vk.com   \n",
       "3  23.10.2016     imesh.com   \n",
       "4  24.10.2016   dropbox.com   \n",
       "\n",
       "                                         description breachId  \n",
       "0  In 2012, online professional networking platfo...        2  \n",
       "1  In October of 2013, criminals penetrated Adobe...        3  \n",
       "2  Popular Russian social networking platform VKo...       12  \n",
       "3  In June 2016, a cache of over 51 million user ...       15  \n",
       "4  Cloud storage company Dropbox suffered a major...       41  "
      ]
     },
     "execution_count": 25,
     "metadata": {},
     "output_type": "execute_result"
    }
   ],
   "source": [
    "df = df.loc[:,['date', 'site', 'description', 'breachId']]\n",
    "df.head()"
   ]
  },
  {
   "cell_type": "markdown",
   "metadata": {},
   "source": [
    "Дополним датафрейм столбцом с запрошенными имейлами."
   ]
  },
  {
   "cell_type": "markdown",
   "metadata": {},
   "source": [
    "Нужно получить список мейлов в соответствующем нашему датафрейму порядке. \n",
    "Для этого отсортируем датафрейм по номеру утечек.\n",
    "И отбросим столбец с номером утечки:"
   ]
  },
  {
   "cell_type": "code",
   "execution_count": 26,
   "metadata": {},
   "outputs": [],
   "source": [
    "df = df.sort_values('breachId')\n",
    "df.drop('breachId', inplace = True, axis = 1)"
   ]
  },
  {
   "cell_type": "markdown",
   "metadata": {},
   "source": [
    "Связка номер утечки-мейл есть в словаре под ключом 'data'.\n",
    "Упорядочим вложенный словарь по номеру утечек:"
   ]
  },
  {
   "cell_type": "code",
   "execution_count": 27,
   "metadata": {},
   "outputs": [],
   "source": [
    "df_mail = dict(sorted(req_2.json()['data'].items(), key=lambda kv: list(kv[1].values())[0][0]['breachId'], reverse=False)) \n",
    "\n",
    "# kv[1] - вложенный словарь с ключом-мейлом\n",
    "# list(kv[1].values()) - список значений вложенного словаря\n",
    "# list(kv[1].values())[0][0]['breachId'] - добираемся до номера утечки"
   ]
  },
  {
   "cell_type": "markdown",
   "metadata": {},
   "source": [
    "Извлекаем по порядку из словаря мейлы и добавляем в датафрейм столбец с мейлами:"
   ]
  },
  {
   "cell_type": "code",
   "execution_count": 28,
   "metadata": {},
   "outputs": [],
   "source": [
    "df['email'] = [', '.join(el.keys()) for el in list(df_mail.values())]\n",
    "\n",
    "# list(df_mail.values()) список вложенных словарей\n",
    "# el.keys() мейлы, в объекте типа списка\n",
    "# ', '.join(el.keys()) преобразование списка в строку через запятую"
   ]
  },
  {
   "cell_type": "markdown",
   "metadata": {},
   "source": [
    "Итоговый датафрейм:"
   ]
  },
  {
   "cell_type": "code",
   "execution_count": 29,
   "metadata": {
    "scrolled": true
   },
   "outputs": [
    {
     "data": {
      "text/html": [
       "<div>\n",
       "<style scoped>\n",
       "    .dataframe tbody tr th:only-of-type {\n",
       "        vertical-align: middle;\n",
       "    }\n",
       "\n",
       "    .dataframe tbody tr th {\n",
       "        vertical-align: top;\n",
       "    }\n",
       "\n",
       "    .dataframe thead th {\n",
       "        text-align: right;\n",
       "    }\n",
       "</style>\n",
       "<table border=\"1\" class=\"dataframe\">\n",
       "  <thead>\n",
       "    <tr style=\"text-align: right;\">\n",
       "      <th></th>\n",
       "      <th>date</th>\n",
       "      <th>site</th>\n",
       "      <th>description</th>\n",
       "      <th>email</th>\n",
       "    </tr>\n",
       "  </thead>\n",
       "  <tbody>\n",
       "    <tr>\n",
       "      <th>0</th>\n",
       "      <td>21.10.2016</td>\n",
       "      <td>linkedin.com</td>\n",
       "      <td>In 2012, online professional networking platfo...</td>\n",
       "      <td>yyy@y.com</td>\n",
       "    </tr>\n",
       "    <tr>\n",
       "      <th>1</th>\n",
       "      <td>21.10.2016</td>\n",
       "      <td>adobe.com</td>\n",
       "      <td>In October of 2013, criminals penetrated Adobe...</td>\n",
       "      <td>xxx@x.ru, yyy@y.com</td>\n",
       "    </tr>\n",
       "    <tr>\n",
       "      <th>2</th>\n",
       "      <td>29.10.2016</td>\n",
       "      <td>vk.com</td>\n",
       "      <td>Popular Russian social networking platform VKo...</td>\n",
       "      <td>xxx@x.ru</td>\n",
       "    </tr>\n",
       "    <tr>\n",
       "      <th>3</th>\n",
       "      <td>23.10.2016</td>\n",
       "      <td>imesh.com</td>\n",
       "      <td>In June 2016, a cache of over 51 million user ...</td>\n",
       "      <td>xxx@x.ru, yyy@y.com</td>\n",
       "    </tr>\n",
       "    <tr>\n",
       "      <th>4</th>\n",
       "      <td>24.10.2016</td>\n",
       "      <td>dropbox.com</td>\n",
       "      <td>Cloud storage company Dropbox suffered a major...</td>\n",
       "      <td>yyy@y.com</td>\n",
       "    </tr>\n",
       "    <tr>\n",
       "      <th>5</th>\n",
       "      <td>31.01.2017</td>\n",
       "      <td>cdprojektred.com</td>\n",
       "      <td>In March 2016, CDProjektRed.com.com's forum da...</td>\n",
       "      <td>xxx@x.ru</td>\n",
       "    </tr>\n",
       "    <tr>\n",
       "      <th>6</th>\n",
       "      <td>14.02.2017</td>\n",
       "      <td>cfire.mail.ru</td>\n",
       "      <td>In July and August of 2016, two criminals carr...</td>\n",
       "      <td>xxx@x.ru</td>\n",
       "    </tr>\n",
       "    <tr>\n",
       "      <th>7</th>\n",
       "      <td>14.02.2017</td>\n",
       "      <td>parapa.mail.ru</td>\n",
       "      <td>In July and August 2016, two criminals execute...</td>\n",
       "      <td>xxx@x.ru</td>\n",
       "    </tr>\n",
       "    <tr>\n",
       "      <th>8</th>\n",
       "      <td>15.03.2017</td>\n",
       "      <td>globalreach.eu</td>\n",
       "      <td>In 2016, Global Reach Technology's database wa...</td>\n",
       "      <td>yyy@y.com</td>\n",
       "    </tr>\n",
       "    <tr>\n",
       "      <th>9</th>\n",
       "      <td>01.03.2017</td>\n",
       "      <td>rayli.com.cn</td>\n",
       "      <td>On an unconfirmed date, Chinese gossip site Ra...</td>\n",
       "      <td>yyy@y.com</td>\n",
       "    </tr>\n",
       "    <tr>\n",
       "      <th>10</th>\n",
       "      <td>24.03.2017</td>\n",
       "      <td>youku.com</td>\n",
       "      <td>Youku is a large Chinese video content company...</td>\n",
       "      <td>yyy@y.com</td>\n",
       "    </tr>\n",
       "    <tr>\n",
       "      <th>11</th>\n",
       "      <td>04.11.2017</td>\n",
       "      <td>myheritage.com</td>\n",
       "      <td>In October 2017, a customer database belonging...</td>\n",
       "      <td>yyy@y.com</td>\n",
       "    </tr>\n",
       "    <tr>\n",
       "      <th>12</th>\n",
       "      <td>18.02.2018</td>\n",
       "      <td>netlog.com</td>\n",
       "      <td>Netlog (formerly known as Facebox and Bingbox)...</td>\n",
       "      <td>yyy@y.com</td>\n",
       "    </tr>\n",
       "    <tr>\n",
       "      <th>13</th>\n",
       "      <td>13.06.2019</td>\n",
       "      <td>canva.com</td>\n",
       "      <td>In May 2019, graphic-design site Canva's datab...</td>\n",
       "      <td>yyy@y.com</td>\n",
       "    </tr>\n",
       "    <tr>\n",
       "      <th>14</th>\n",
       "      <td>17.10.2019</td>\n",
       "      <td>zynga.com</td>\n",
       "      <td>In September 2019, the game developer Zynga wa...</td>\n",
       "      <td>yyy@y.com</td>\n",
       "    </tr>\n",
       "    <tr>\n",
       "      <th>15</th>\n",
       "      <td>03.01.2020</td>\n",
       "      <td>azcentral.com</td>\n",
       "      <td>At an unconfirmed date, online Arizona newspap...</td>\n",
       "      <td>yyy@y.com</td>\n",
       "    </tr>\n",
       "    <tr>\n",
       "      <th>16</th>\n",
       "      <td>28.05.2020</td>\n",
       "      <td>wishbone.io</td>\n",
       "      <td>In January 2020, the online poll website Wishb...</td>\n",
       "      <td>yyy@y.com</td>\n",
       "    </tr>\n",
       "    <tr>\n",
       "      <th>17</th>\n",
       "      <td>11.02.2021</td>\n",
       "      <td>forums.vkmonline.com</td>\n",
       "      <td>At an unconfirmed date, the Russian-language m...</td>\n",
       "      <td>yyy@y.com</td>\n",
       "    </tr>\n",
       "  </tbody>\n",
       "</table>\n",
       "</div>"
      ],
      "text/plain": [
       "          date                  site  \\\n",
       "0   21.10.2016          linkedin.com   \n",
       "1   21.10.2016             adobe.com   \n",
       "2   29.10.2016                vk.com   \n",
       "3   23.10.2016             imesh.com   \n",
       "4   24.10.2016           dropbox.com   \n",
       "5   31.01.2017      cdprojektred.com   \n",
       "6   14.02.2017         cfire.mail.ru   \n",
       "7   14.02.2017        parapa.mail.ru   \n",
       "8   15.03.2017        globalreach.eu   \n",
       "9   01.03.2017          rayli.com.cn   \n",
       "10  24.03.2017             youku.com   \n",
       "11  04.11.2017        myheritage.com   \n",
       "12  18.02.2018            netlog.com   \n",
       "13  13.06.2019             canva.com   \n",
       "14  17.10.2019             zynga.com   \n",
       "15  03.01.2020         azcentral.com   \n",
       "16  28.05.2020           wishbone.io   \n",
       "17  11.02.2021  forums.vkmonline.com   \n",
       "\n",
       "                                          description                email  \n",
       "0   In 2012, online professional networking platfo...            yyy@y.com  \n",
       "1   In October of 2013, criminals penetrated Adobe...  xxx@x.ru, yyy@y.com  \n",
       "2   Popular Russian social networking platform VKo...             xxx@x.ru  \n",
       "3   In June 2016, a cache of over 51 million user ...  xxx@x.ru, yyy@y.com  \n",
       "4   Cloud storage company Dropbox suffered a major...            yyy@y.com  \n",
       "5   In March 2016, CDProjektRed.com.com's forum da...             xxx@x.ru  \n",
       "6   In July and August of 2016, two criminals carr...             xxx@x.ru  \n",
       "7   In July and August 2016, two criminals execute...             xxx@x.ru  \n",
       "8   In 2016, Global Reach Technology's database wa...            yyy@y.com  \n",
       "9   On an unconfirmed date, Chinese gossip site Ra...            yyy@y.com  \n",
       "10  Youku is a large Chinese video content company...            yyy@y.com  \n",
       "11  In October 2017, a customer database belonging...            yyy@y.com  \n",
       "12  Netlog (formerly known as Facebox and Bingbox)...            yyy@y.com  \n",
       "13  In May 2019, graphic-design site Canva's datab...            yyy@y.com  \n",
       "14  In September 2019, the game developer Zynga wa...            yyy@y.com  \n",
       "15  At an unconfirmed date, online Arizona newspap...            yyy@y.com  \n",
       "16  In January 2020, the online poll website Wishb...            yyy@y.com  \n",
       "17  At an unconfirmed date, the Russian-language m...            yyy@y.com  "
      ]
     },
     "execution_count": 29,
     "metadata": {},
     "output_type": "execute_result"
    }
   ],
   "source": [
    "df"
   ]
  },
  {
   "cell_type": "markdown",
   "metadata": {},
   "source": [
    "<h4><a href=\"#0\">Наверх</a></h4>"
   ]
  },
  {
   "cell_type": "markdown",
   "metadata": {},
   "source": [
    "<p id=\"2.3\"> \n",
    "<h5>Формирование датафрейма (вар. 2)</h5>"
   ]
  },
  {
   "cell_type": "markdown",
   "metadata": {},
   "source": [
    "Сформируем датафрейм через извлечение информации из вложенных словарей в цикле."
   ]
  },
  {
   "cell_type": "code",
   "execution_count": 30,
   "metadata": {},
   "outputs": [],
   "source": [
    "def get_breach_info (emails, url, headers):\n",
    "    \"\"\"\n",
    "    Функция запрашивает информацию об утечках для списка мейлов на сайте avast.\n",
    "    Параметры: список мейлов, адрес страницы, заголовки.\n",
    "    Извлекает нужную информацию об утечках из словаря, приходящего в ответ на запрос.\n",
    "    Возвращает датафрейм со столбцами: мейл - дата - источник - описание.\n",
    "    \"\"\"\n",
    "    payload = {'emailAddresses': emails}\n",
    "    resp_dict = requests.post(url, json = payload, headers = headers).json()\n",
    "    df2 = pd.DataFrame()\n",
    "    for email in resp_dict['summary'].keys():\n",
    "        for breach_id in resp_dict['summary'][email]['breaches']:\n",
    "            site = resp_dict['breaches'][str(breach_id)]['site']\n",
    "            date = resp_dict['breaches'][str(breach_id)]['publishDate']\n",
    "            descr = resp_dict['breaches'][str(breach_id)]['description']\n",
    "            row = {'email': email, 'date': date, 'site': site, 'description': descr}\n",
    "            df2 = pd.concat([df2, pd.DataFrame([row])])\n",
    "\n",
    "    df2 = df2.reset_index().drop('index', axis = 1)\n",
    "    df2['date'] = pd.to_datetime(df2['date'], format = '%Y-%m-%dT%H:%M:%SZ').dt.strftime('%d.%m.%y') \n",
    "    return df2"
   ]
  },
  {
   "cell_type": "markdown",
   "metadata": {},
   "source": [
    "Используем функцию и получаем итоговый датафрейм:"
   ]
  },
  {
   "cell_type": "code",
   "execution_count": 31,
   "metadata": {
    "scrolled": true
   },
   "outputs": [
    {
     "data": {
      "text/html": [
       "<div>\n",
       "<style scoped>\n",
       "    .dataframe tbody tr th:only-of-type {\n",
       "        vertical-align: middle;\n",
       "    }\n",
       "\n",
       "    .dataframe tbody tr th {\n",
       "        vertical-align: top;\n",
       "    }\n",
       "\n",
       "    .dataframe thead th {\n",
       "        text-align: right;\n",
       "    }\n",
       "</style>\n",
       "<table border=\"1\" class=\"dataframe\">\n",
       "  <thead>\n",
       "    <tr style=\"text-align: right;\">\n",
       "      <th></th>\n",
       "      <th>email</th>\n",
       "      <th>date</th>\n",
       "      <th>site</th>\n",
       "      <th>description</th>\n",
       "    </tr>\n",
       "  </thead>\n",
       "  <tbody>\n",
       "    <tr>\n",
       "      <th>0</th>\n",
       "      <td>xxx@x.ru</td>\n",
       "      <td>21.10.16</td>\n",
       "      <td>adobe.com</td>\n",
       "      <td>In October of 2013, criminals penetrated Adobe...</td>\n",
       "    </tr>\n",
       "    <tr>\n",
       "      <th>1</th>\n",
       "      <td>xxx@x.ru</td>\n",
       "      <td>29.10.16</td>\n",
       "      <td>vk.com</td>\n",
       "      <td>Popular Russian social networking platform VKo...</td>\n",
       "    </tr>\n",
       "    <tr>\n",
       "      <th>2</th>\n",
       "      <td>xxx@x.ru</td>\n",
       "      <td>23.10.16</td>\n",
       "      <td>imesh.com</td>\n",
       "      <td>In June 2016, a cache of over 51 million user ...</td>\n",
       "    </tr>\n",
       "    <tr>\n",
       "      <th>3</th>\n",
       "      <td>xxx@x.ru</td>\n",
       "      <td>31.01.17</td>\n",
       "      <td>cdprojektred.com</td>\n",
       "      <td>In March 2016, CDProjektRed.com.com's forum da...</td>\n",
       "    </tr>\n",
       "    <tr>\n",
       "      <th>4</th>\n",
       "      <td>xxx@x.ru</td>\n",
       "      <td>14.02.17</td>\n",
       "      <td>cfire.mail.ru</td>\n",
       "      <td>In July and August of 2016, two criminals carr...</td>\n",
       "    </tr>\n",
       "    <tr>\n",
       "      <th>5</th>\n",
       "      <td>xxx@x.ru</td>\n",
       "      <td>14.02.17</td>\n",
       "      <td>parapa.mail.ru</td>\n",
       "      <td>In July and August 2016, two criminals execute...</td>\n",
       "    </tr>\n",
       "    <tr>\n",
       "      <th>6</th>\n",
       "      <td>yyy@y.com</td>\n",
       "      <td>21.10.16</td>\n",
       "      <td>linkedin.com</td>\n",
       "      <td>In 2012, online professional networking platfo...</td>\n",
       "    </tr>\n",
       "    <tr>\n",
       "      <th>7</th>\n",
       "      <td>yyy@y.com</td>\n",
       "      <td>21.10.16</td>\n",
       "      <td>adobe.com</td>\n",
       "      <td>In October of 2013, criminals penetrated Adobe...</td>\n",
       "    </tr>\n",
       "    <tr>\n",
       "      <th>8</th>\n",
       "      <td>yyy@y.com</td>\n",
       "      <td>23.10.16</td>\n",
       "      <td>imesh.com</td>\n",
       "      <td>In June 2016, a cache of over 51 million user ...</td>\n",
       "    </tr>\n",
       "    <tr>\n",
       "      <th>9</th>\n",
       "      <td>yyy@y.com</td>\n",
       "      <td>24.10.16</td>\n",
       "      <td>dropbox.com</td>\n",
       "      <td>Cloud storage company Dropbox suffered a major...</td>\n",
       "    </tr>\n",
       "    <tr>\n",
       "      <th>10</th>\n",
       "      <td>yyy@y.com</td>\n",
       "      <td>15.03.17</td>\n",
       "      <td>globalreach.eu</td>\n",
       "      <td>In 2016, Global Reach Technology's database wa...</td>\n",
       "    </tr>\n",
       "    <tr>\n",
       "      <th>11</th>\n",
       "      <td>yyy@y.com</td>\n",
       "      <td>01.03.17</td>\n",
       "      <td>rayli.com.cn</td>\n",
       "      <td>On an unconfirmed date, Chinese gossip site Ra...</td>\n",
       "    </tr>\n",
       "    <tr>\n",
       "      <th>12</th>\n",
       "      <td>yyy@y.com</td>\n",
       "      <td>24.03.17</td>\n",
       "      <td>youku.com</td>\n",
       "      <td>Youku is a large Chinese video content company...</td>\n",
       "    </tr>\n",
       "    <tr>\n",
       "      <th>13</th>\n",
       "      <td>yyy@y.com</td>\n",
       "      <td>04.11.17</td>\n",
       "      <td>myheritage.com</td>\n",
       "      <td>In October 2017, a customer database belonging...</td>\n",
       "    </tr>\n",
       "    <tr>\n",
       "      <th>14</th>\n",
       "      <td>yyy@y.com</td>\n",
       "      <td>18.02.18</td>\n",
       "      <td>netlog.com</td>\n",
       "      <td>Netlog (formerly known as Facebox and Bingbox)...</td>\n",
       "    </tr>\n",
       "    <tr>\n",
       "      <th>15</th>\n",
       "      <td>yyy@y.com</td>\n",
       "      <td>13.06.19</td>\n",
       "      <td>canva.com</td>\n",
       "      <td>In May 2019, graphic-design site Canva's datab...</td>\n",
       "    </tr>\n",
       "    <tr>\n",
       "      <th>16</th>\n",
       "      <td>yyy@y.com</td>\n",
       "      <td>17.10.19</td>\n",
       "      <td>zynga.com</td>\n",
       "      <td>In September 2019, the game developer Zynga wa...</td>\n",
       "    </tr>\n",
       "    <tr>\n",
       "      <th>17</th>\n",
       "      <td>yyy@y.com</td>\n",
       "      <td>03.01.20</td>\n",
       "      <td>azcentral.com</td>\n",
       "      <td>At an unconfirmed date, online Arizona newspap...</td>\n",
       "    </tr>\n",
       "    <tr>\n",
       "      <th>18</th>\n",
       "      <td>yyy@y.com</td>\n",
       "      <td>28.05.20</td>\n",
       "      <td>wishbone.io</td>\n",
       "      <td>In January 2020, the online poll website Wishb...</td>\n",
       "    </tr>\n",
       "    <tr>\n",
       "      <th>19</th>\n",
       "      <td>yyy@y.com</td>\n",
       "      <td>11.02.21</td>\n",
       "      <td>forums.vkmonline.com</td>\n",
       "      <td>At an unconfirmed date, the Russian-language m...</td>\n",
       "    </tr>\n",
       "  </tbody>\n",
       "</table>\n",
       "</div>"
      ],
      "text/plain": [
       "        email      date                  site  \\\n",
       "0    xxx@x.ru  21.10.16             adobe.com   \n",
       "1    xxx@x.ru  29.10.16                vk.com   \n",
       "2    xxx@x.ru  23.10.16             imesh.com   \n",
       "3    xxx@x.ru  31.01.17      cdprojektred.com   \n",
       "4    xxx@x.ru  14.02.17         cfire.mail.ru   \n",
       "5    xxx@x.ru  14.02.17        parapa.mail.ru   \n",
       "6   yyy@y.com  21.10.16          linkedin.com   \n",
       "7   yyy@y.com  21.10.16             adobe.com   \n",
       "8   yyy@y.com  23.10.16             imesh.com   \n",
       "9   yyy@y.com  24.10.16           dropbox.com   \n",
       "10  yyy@y.com  15.03.17        globalreach.eu   \n",
       "11  yyy@y.com  01.03.17          rayli.com.cn   \n",
       "12  yyy@y.com  24.03.17             youku.com   \n",
       "13  yyy@y.com  04.11.17        myheritage.com   \n",
       "14  yyy@y.com  18.02.18            netlog.com   \n",
       "15  yyy@y.com  13.06.19             canva.com   \n",
       "16  yyy@y.com  17.10.19             zynga.com   \n",
       "17  yyy@y.com  03.01.20         azcentral.com   \n",
       "18  yyy@y.com  28.05.20           wishbone.io   \n",
       "19  yyy@y.com  11.02.21  forums.vkmonline.com   \n",
       "\n",
       "                                          description  \n",
       "0   In October of 2013, criminals penetrated Adobe...  \n",
       "1   Popular Russian social networking platform VKo...  \n",
       "2   In June 2016, a cache of over 51 million user ...  \n",
       "3   In March 2016, CDProjektRed.com.com's forum da...  \n",
       "4   In July and August of 2016, two criminals carr...  \n",
       "5   In July and August 2016, two criminals execute...  \n",
       "6   In 2012, online professional networking platfo...  \n",
       "7   In October of 2013, criminals penetrated Adobe...  \n",
       "8   In June 2016, a cache of over 51 million user ...  \n",
       "9   Cloud storage company Dropbox suffered a major...  \n",
       "10  In 2016, Global Reach Technology's database wa...  \n",
       "11  On an unconfirmed date, Chinese gossip site Ra...  \n",
       "12  Youku is a large Chinese video content company...  \n",
       "13  In October 2017, a customer database belonging...  \n",
       "14  Netlog (formerly known as Facebox and Bingbox)...  \n",
       "15  In May 2019, graphic-design site Canva's datab...  \n",
       "16  In September 2019, the game developer Zynga wa...  \n",
       "17  At an unconfirmed date, online Arizona newspap...  \n",
       "18  In January 2020, the online poll website Wishb...  \n",
       "19  At an unconfirmed date, the Russian-language m...  "
      ]
     },
     "execution_count": 31,
     "metadata": {},
     "output_type": "execute_result"
    }
   ],
   "source": [
    "get_breach_info(email_list, url, headers)"
   ]
  },
  {
   "cell_type": "markdown",
   "metadata": {},
   "source": [
    "<h4><a href=\"#0\">Наверх</a></h4>"
   ]
  }
 ],
 "metadata": {
  "kernelspec": {
   "display_name": "Python 3 (ipykernel)",
   "language": "python",
   "name": "python3"
  },
  "language_info": {
   "codemirror_mode": {
    "name": "ipython",
    "version": 3
   },
   "file_extension": ".py",
   "mimetype": "text/x-python",
   "name": "python",
   "nbconvert_exporter": "python",
   "pygments_lexer": "ipython3",
   "version": "3.8.12"
  }
 },
 "nbformat": 4,
 "nbformat_minor": 4
}
