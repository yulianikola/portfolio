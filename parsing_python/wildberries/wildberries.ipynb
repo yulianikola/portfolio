{
 "cells": [
  {
   "cell_type": "markdown",
   "metadata": {},
   "source": [
    "<div class=\"alert alert-info\">\n",
    "Ссылка для просмотра ноутбука в интерактивном режиме для использования гиперссылок и корректного отображения разметки:<br>\n",
    "<a href='https://nbviewer.org/github/yulianikola/portfolio/blob/master/parsing_python/wildberries/wildberries.ipynb'>wildberries</a></div>"
   ]
  },
  {
   "cell_type": "markdown",
   "metadata": {},
   "source": [
    "### Парсинг\n",
    "#### Сайт wildberries.ru"
   ]
  },
  {
   "cell_type": "markdown",
   "metadata": {},
   "source": [
    "#### Задача:\n",
    "* Собрать информацию из карточек товаров по ссылкам из excel\n",
    "* Искомая информация: артикул, наименование, бренд, страна производства, цена без скидки, цена со скидкой, число отзывов, рейтинг, кол-во продаж\n",
    "* Консолидировать ежемесячную выгрузку в excel"
   ]
  },
  {
   "cell_type": "markdown",
   "metadata": {},
   "source": [
    "<p id=\"0\">\n",
    "<ul type=\"square\"><a href=\"#1\"><li>Парсинг</li></a>\n",
    "<a href=\"#2\"><li>Обработка данных</li></a>\n",
    "<a href=\"#3\"><li>Консолидация данных</li></a>"
   ]
  },
  {
   "cell_type": "code",
   "execution_count": 1,
   "metadata": {},
   "outputs": [],
   "source": [
    "import pandas as pd\n",
    "import numpy as np\n",
    "import requests\n",
    "from bs4 import BeautifulSoup\n",
    "import time\n",
    "import re"
   ]
  },
  {
   "cell_type": "markdown",
   "metadata": {},
   "source": [
    "<p id=\"1\"> \n",
    "<h4>Парсинг</h4>"
   ]
  },
  {
   "cell_type": "markdown",
   "metadata": {},
   "source": [
    "Загружаем ссылки интересующих нас товаров:"
   ]
  },
  {
   "cell_type": "code",
   "execution_count": 2,
   "metadata": {},
   "outputs": [
    {
     "data": {
      "text/html": [
       "<div>\n",
       "<style scoped>\n",
       "    .dataframe tbody tr th:only-of-type {\n",
       "        vertical-align: middle;\n",
       "    }\n",
       "\n",
       "    .dataframe tbody tr th {\n",
       "        vertical-align: top;\n",
       "    }\n",
       "\n",
       "    .dataframe thead th {\n",
       "        text-align: right;\n",
       "    }\n",
       "</style>\n",
       "<table border=\"1\" class=\"dataframe\">\n",
       "  <thead>\n",
       "    <tr style=\"text-align: right;\">\n",
       "      <th></th>\n",
       "      <th>0</th>\n",
       "      <th>1</th>\n",
       "    </tr>\n",
       "  </thead>\n",
       "  <tbody>\n",
       "    <tr>\n",
       "      <th>0</th>\n",
       "      <td>Флакон с дозатором</td>\n",
       "      <td>https://www.wildberries.ru/catalog/5378143/det...</td>\n",
       "    </tr>\n",
       "    <tr>\n",
       "      <th>1</th>\n",
       "      <td>Банка</td>\n",
       "      <td>https://www.wildberries.ru/catalog/4803233/det...</td>\n",
       "    </tr>\n",
       "  </tbody>\n",
       "</table>\n",
       "</div>"
      ],
      "text/plain": [
       "                    0                                                  1\n",
       "0  Флакон с дозатором  https://www.wildberries.ru/catalog/5378143/det...\n",
       "1               Банка  https://www.wildberries.ru/catalog/4803233/det..."
      ]
     },
     "execution_count": 2,
     "metadata": {},
     "output_type": "execute_result"
    }
   ],
   "source": [
    "links = pd.read_excel('C:\\\\python\\\\portfolio\\\\parsing_python\\\\wildberries\\\\data\\\\face_cream_links.xlsx', header = None)\n",
    "links.head(2)"
   ]
  },
  {
   "cell_type": "code",
   "execution_count": 3,
   "metadata": {
    "scrolled": true
   },
   "outputs": [
    {
     "data": {
      "text/html": [
       "<div>\n",
       "<style scoped>\n",
       "    .dataframe tbody tr th:only-of-type {\n",
       "        vertical-align: middle;\n",
       "    }\n",
       "\n",
       "    .dataframe tbody tr th {\n",
       "        vertical-align: top;\n",
       "    }\n",
       "\n",
       "    .dataframe thead th {\n",
       "        text-align: right;\n",
       "    }\n",
       "</style>\n",
       "<table border=\"1\" class=\"dataframe\">\n",
       "  <thead>\n",
       "    <tr style=\"text-align: right;\">\n",
       "      <th></th>\n",
       "      <th>package</th>\n",
       "      <th>link</th>\n",
       "    </tr>\n",
       "  </thead>\n",
       "  <tbody>\n",
       "    <tr>\n",
       "      <th>0</th>\n",
       "      <td>Флакон с дозатором</td>\n",
       "      <td>https://www.wildberries.ru/catalog/5378143/det...</td>\n",
       "    </tr>\n",
       "    <tr>\n",
       "      <th>1</th>\n",
       "      <td>Банка</td>\n",
       "      <td>https://www.wildberries.ru/catalog/4803233/det...</td>\n",
       "    </tr>\n",
       "  </tbody>\n",
       "</table>\n",
       "</div>"
      ],
      "text/plain": [
       "              package                                               link\n",
       "0  Флакон с дозатором  https://www.wildberries.ru/catalog/5378143/det...\n",
       "1               Банка  https://www.wildberries.ru/catalog/4803233/det..."
      ]
     },
     "execution_count": 3,
     "metadata": {},
     "output_type": "execute_result"
    }
   ],
   "source": [
    "links.columns = ['package', 'link']\n",
    "links.head(2)"
   ]
  },
  {
   "cell_type": "code",
   "execution_count": 4,
   "metadata": {},
   "outputs": [],
   "source": [
    "links_list = links.link.values"
   ]
  },
  {
   "cell_type": "markdown",
   "metadata": {},
   "source": [
    "Код сайта часто меняется. Чтобы не тратить время и лимит подключений к сайту, сделаем пробный прогон по парсингу нужной информации. По первой ссылке вся информация считалась корректно, кроме цен, так как товар не в наличии."
   ]
  },
  {
   "cell_type": "code",
   "execution_count": 5,
   "metadata": {
    "scrolled": false
   },
   "outputs": [
    {
     "name": "stdout",
     "output_type": "stream",
     "text": [
      "https://www.wildberries.ru/catalog/5378143/detail.aspx?targetUrl=XS\n",
      "артикул 5378143\n",
      "наименование Крем для лица мужской Ультра увлажнение, 115 мл / крем после бритья мужской / мужской крем для лица\n",
      "бренд L Cosmetics\n",
      "отзывы 194\n",
      "рейтинг 5\n",
      "страна Россия\n",
      "продажи 7000\n"
     ]
    },
    {
     "ename": "AttributeError",
     "evalue": "'NoneType' object has no attribute 'group'",
     "output_type": "error",
     "traceback": [
      "\u001b[1;31m----------------------------------------\u001b[0m",
      "\u001b[1;31mAttributeError\u001b[0mTraceback (most recent call last)",
      "\u001b[1;32mC:\\Users\\YULIAN~2\\AppData\\Local\\Temp/ipykernel_2236/2992500259.py\u001b[0m in \u001b[0;36m<module>\u001b[1;34m\u001b[0m\n\u001b[0;32m     16\u001b[0m \u001b[1;33m\u001b[0m\u001b[0m\n\u001b[0;32m     17\u001b[0m \u001b[0mprint\u001b[0m\u001b[1;33m(\u001b[0m\u001b[1;34m'продажи'\u001b[0m\u001b[1;33m,\u001b[0m \u001b[0mint\u001b[0m\u001b[1;33m(\u001b[0m \u001b[0mre\u001b[0m\u001b[1;33m.\u001b[0m\u001b[0msearch\u001b[0m\u001b[1;33m(\u001b[0m\u001b[1;34mr'(?<=,\"ordersCount\":)\\d+'\u001b[0m\u001b[1;33m,\u001b[0m\u001b[0mstr\u001b[0m\u001b[1;33m(\u001b[0m\u001b[0mscripts\u001b[0m\u001b[1;33m[\u001b[0m\u001b[0mscript_ind\u001b[0m\u001b[1;33m]\u001b[0m\u001b[1;33m)\u001b[0m\u001b[1;33m)\u001b[0m\u001b[1;33m.\u001b[0m\u001b[0mgroup\u001b[0m\u001b[1;33m(\u001b[0m\u001b[1;36m0\u001b[0m\u001b[1;33m)\u001b[0m\u001b[1;33m)\u001b[0m\u001b[1;33m)\u001b[0m\u001b[1;33m\u001b[0m\u001b[1;33m\u001b[0m\u001b[0m\n\u001b[1;32m---> 18\u001b[1;33m \u001b[0mprint\u001b[0m\u001b[1;33m(\u001b[0m\u001b[1;34m'цена изначальная'\u001b[0m\u001b[1;33m,\u001b[0m \u001b[0mint\u001b[0m\u001b[1;33m(\u001b[0m \u001b[0mre\u001b[0m\u001b[1;33m.\u001b[0m\u001b[0msearch\u001b[0m\u001b[1;33m(\u001b[0m\u001b[1;34mr'(?<=,\"price\":)\\d+'\u001b[0m\u001b[1;33m,\u001b[0m\u001b[0mstr\u001b[0m\u001b[1;33m(\u001b[0m\u001b[0mscripts\u001b[0m\u001b[1;33m[\u001b[0m\u001b[0mscript_ind\u001b[0m\u001b[1;33m]\u001b[0m\u001b[1;33m)\u001b[0m\u001b[1;33m)\u001b[0m\u001b[1;33m.\u001b[0m\u001b[0mgroup\u001b[0m\u001b[1;33m(\u001b[0m\u001b[1;36m0\u001b[0m\u001b[1;33m)\u001b[0m\u001b[1;33m)\u001b[0m\u001b[1;33m)\u001b[0m\u001b[1;33m\u001b[0m\u001b[1;33m\u001b[0m\u001b[0m\n\u001b[0m\u001b[0;32m     19\u001b[0m \u001b[0mprint\u001b[0m\u001b[1;33m(\u001b[0m\u001b[1;34m'цена финальная'\u001b[0m\u001b[1;33m,\u001b[0m \u001b[0mint\u001b[0m\u001b[1;33m(\u001b[0m \u001b[0mre\u001b[0m\u001b[1;33m.\u001b[0m\u001b[0msearch\u001b[0m\u001b[1;33m(\u001b[0m\u001b[1;34mr'(?<=,\"salePrice\":)\\d+'\u001b[0m\u001b[1;33m,\u001b[0m\u001b[0mstr\u001b[0m\u001b[1;33m(\u001b[0m\u001b[0mscripts\u001b[0m\u001b[1;33m[\u001b[0m\u001b[0mscript_ind\u001b[0m\u001b[1;33m]\u001b[0m\u001b[1;33m)\u001b[0m\u001b[1;33m)\u001b[0m\u001b[1;33m.\u001b[0m\u001b[0mgroup\u001b[0m\u001b[1;33m(\u001b[0m\u001b[1;36m0\u001b[0m\u001b[1;33m)\u001b[0m\u001b[1;33m)\u001b[0m\u001b[1;33m)\u001b[0m\u001b[1;33m\u001b[0m\u001b[1;33m\u001b[0m\u001b[0m\n",
      "\u001b[1;31mAttributeError\u001b[0m: 'NoneType' object has no attribute 'group'"
     ]
    }
   ],
   "source": [
    "req = requests.get(links_list[0]) \n",
    "soup = BeautifulSoup(req.text, 'html.parser')\n",
    "print(links_list[0])     \n",
    "print('артикул', int(soup.find('p', class_='same-part-kt__article').select_one('span[data-link]').text))               \n",
    "print('наименование', soup.find('h1', class_='same-part-kt__header').select_one('span[data-link*=\"goodsName\"]').text) \n",
    "print('бренд', soup.find('h1', class_='same-part-kt__header').select_one('span[data-link*=\"brandName\"]').text)\n",
    "print('отзывы', int(re.search(r'\\d+',soup.find('span', class_='same-part-kt__count-review').text.strip()).group(0)))\n",
    "print('рейтинг', int(soup.select_one('span[data-link*=\"product^star\"]').text.strip()))\n",
    "print('страна', soup.find(string = 'Страна производства').find_parents('tr')[0].find('td').text)\n",
    "\n",
    "scripts = soup.find_all('script')\n",
    "keyword = 'preview_SpaWalletHistoryEntrypoint' \n",
    "for i in scripts: \n",
    "    if keyword in str(i):\n",
    "        script_ind = scripts.index(i)\n",
    "\n",
    "print('продажи', int( re.search(r'(?<=,\"ordersCount\":)\\d+',str(scripts[script_ind])).group(0)))\n",
    "print('цена изначальная', int( re.search(r'(?<=,\"price\":)\\d+',str(scripts[script_ind])).group(0))) \n",
    "print('цена финальная', int( re.search(r'(?<=,\"salePrice\":)\\d+',str(scripts[script_ind])).group(0)))"
   ]
  },
  {
   "cell_type": "markdown",
   "metadata": {},
   "source": [
    "Проверим на второй ссылке, этот товар в наличии и цены извлекаются:"
   ]
  },
  {
   "cell_type": "code",
   "execution_count": 6,
   "metadata": {},
   "outputs": [
    {
     "name": "stdout",
     "output_type": "stream",
     "text": [
      "https://www.wildberries.ru/catalog/4803233/detail.aspx?targetUrl=XS\n",
      "цена изначальная 248\n",
      "цена финальная 181\n"
     ]
    }
   ],
   "source": [
    "req = requests.get(links_list[1]) \n",
    "soup = BeautifulSoup(req.text, 'html.parser')\n",
    "print(links_list[1])     \n",
    "\n",
    "scripts = soup.find_all('script')\n",
    "keyword = 'preview_SpaWalletHistoryEntrypoint' \n",
    "for i in scripts: \n",
    "    if keyword in str(i):\n",
    "        script_ind = scripts.index(i)\n",
    "\n",
    "print('цена изначальная', int( re.search(r'(?<=,\"price\":)\\d+',str(scripts[script_ind])).group(0))) \n",
    "print('цена финальная', int( re.search(r'(?<=,\"salePrice\":)\\d+',str(scripts[script_ind])).group(0)))"
   ]
  },
  {
   "cell_type": "markdown",
   "metadata": {},
   "source": [
    "Информация об артикуле, наименовании, бренде, числе отзывов, рейтинге по идее всегда должна быть в карточке товара. Поэтому в коде ниже для этих полей нет блока if-else NaN, так как ошибка будет означать изменение кода сайта. <br><br>\n",
    "Информация о стране производства может отсутствовать в карточке товара. Так как мы предварительно проверили, не изменился ли код сайта, то в коде ошибку парсинга этого поля записываем как пропуск.<br><br>\n",
    "Информация о ценах и продажах извлекается из скрипта/словаря. Продажи там по идее всегда должны быть, а вот информации о ценах может не быть, если товара нет в наличии. Поэтому по ценам тоже ошибку записываем как пропуск.<br><br>\n",
    "За время использования данного кода парсинга код сайта менялся несколько раз. До какого-то момента из скрипта/словаря можно было извлечь точное количество продаж, а не округленное, которое отражается в самой карточке товара. Но теперь и в скрипте/словаре это кол-во только округленное. Найти, откуда извлечь точное кол-во, не удалось."
   ]
  },
  {
   "cell_type": "code",
   "execution_count": 7,
   "metadata": {
    "scrolled": false
   },
   "outputs": [
    {
     "name": "stdout",
     "output_type": "stream",
     "text": [
      "Wall time: 3min 49s\n"
     ]
    }
   ],
   "source": [
    "%%time\n",
    "\n",
    "n_retries = 3\n",
    "req = None\n",
    "\n",
    "data = pd.DataFrame()\n",
    "no_req = pd.DataFrame()\n",
    "\n",
    "for link in links_list:\n",
    "\n",
    "    # обращение к ссылкам через паузу во избежание ограничения запросов к сайту\n",
    "    time.sleep(0.3)    \n",
    "\n",
    "    # попытки достучаться до ссылки в случае не получения ответа(проблема с интернетом, сервером)\n",
    "    for i in range(n_retries): \n",
    "        try:\n",
    "            req = requests.get(link, timeout = 15)            \n",
    "        except requests.Timeout as e:\n",
    "            time.sleep(2**(i+1))\n",
    "            req = None\n",
    "\n",
    "    # проверка, если от ссылки нет ответа или, например, она больше не существует\n",
    "    if req is None or req.status_code != 200: \n",
    "        # добавляем такую ссылку в отдельную таблицу, чтобы просмотреть позже\n",
    "        no_req = pd.concat([no_req, pd.DataFrame([{'link':link}])]) \n",
    "        \n",
    "    else:    \n",
    "        soup = BeautifulSoup(req.text, 'html.parser')         \n",
    "\n",
    "        # извлекаем артикул:        \n",
    "        item_n = int(soup.find('p', class_='same-part-kt__article').select_one('span[data-link]').text) \n",
    "\n",
    "        # извлекаем наименование товара:                \n",
    "        item_name = soup.find('h1', class_='same-part-kt__header').select_one('span[data-link*=\"goodsName\"]').text \n",
    "\n",
    "        # извлекаем бренд:\n",
    "        brand = soup.find('h1', class_='same-part-kt__header').select_one('span[data-link*=\"brandName\"]').text \n",
    "\n",
    "        # извлекаем кол-во отзывов:\n",
    "        review_n = int(re.search(r'\\d+',soup.find('span', class_='same-part-kt__count-review').text.strip()).group(0))\n",
    "\n",
    "        # извлекаем рейтинг:\n",
    "        rating = int(soup.select_one('span[data-link*=\"product^star\"]').text.strip())            \n",
    "\n",
    "        # извлекаем страну производства:\n",
    "        if soup.find(string='Страна производства'): \n",
    "            country = soup.find(string='Страна производства').find_parents('tr')[0].find('td').text\n",
    "        else:\n",
    "            country = np.NaN\n",
    "\n",
    "        # извлекаем финальную цену:\n",
    "        scripts = soup.find_all('script')\n",
    "        keyword = 'preview_SpaWalletHistoryEntrypoint' \n",
    "        # найдем индекс нужного скрипта в списке по ключевому слову\n",
    "        for i in scripts: \n",
    "            if keyword in str(i):\n",
    "                script_ind = scripts.index(i)\n",
    "\n",
    "        if re.search(r'(?<=,\"salePrice\":)\\d+',str(scripts[script_ind])): \n",
    "            final_price = int( re.search(r'(?<=,\"salePrice\":)\\d+',str(scripts[script_ind])).group(0)) \n",
    "        else:\n",
    "            final_price = np.NaN                     \n",
    "\n",
    "        # извлекаем изначальную цену:       \n",
    "        if re.search(r'(?<=,\"price\":)\\d+',str(scripts[script_ind])): \n",
    "            price = int( re.search(r'(?<=,\"price\":)\\d+',str(scripts[script_ind])).group(0)) \n",
    "        else:\n",
    "            price = np.NaN\n",
    "\n",
    "        # извлекаем количество продаж:          \n",
    "        sales = int( re.search(r'(?<=,\"ordersCount\":)\\d+',str(scripts[script_ind])).group(0)) \n",
    "\n",
    "        #записываем в строку\n",
    "        row = {'link': link, 'item_n':item_n, 'item_name':item_name, 'brand':brand, 'country':country,\n",
    "               'price':price, 'final_price':final_price,\n",
    "               'review_n':review_n, 'rating':rating,'sales':sales}\n",
    "\n",
    "        data = pd.concat([data, pd.DataFrame([row])])"
   ]
  },
  {
   "cell_type": "markdown",
   "metadata": {},
   "source": [
    "<h4><a href=\"#0\">Наверх</a></h4>"
   ]
  },
  {
   "cell_type": "markdown",
   "metadata": {},
   "source": [
    "<p id=\"2\"> \n",
    "<h4>Обработка</h4>"
   ]
  },
  {
   "cell_type": "markdown",
   "metadata": {},
   "source": [
    "Посмотрим, что за ссылки не ответили на запрос. Если эти страницы больше не существуют, то можно убрать их из списка ссылок, чтоб в следующий раз не тратить на них лимит запросов."
   ]
  },
  {
   "cell_type": "code",
   "execution_count": 10,
   "metadata": {},
   "outputs": [],
   "source": [
    "no_req.to_excel('C:\\\\python\\\\portfolio\\\\parsing_python\\\\wildberries\\\\data\\\\no_req_25_12.xlsx')"
   ]
  },
  {
   "cell_type": "code",
   "execution_count": 11,
   "metadata": {
    "scrolled": false
   },
   "outputs": [
    {
     "data": {
      "text/html": [
       "<div>\n",
       "<style scoped>\n",
       "    .dataframe tbody tr th:only-of-type {\n",
       "        vertical-align: middle;\n",
       "    }\n",
       "\n",
       "    .dataframe tbody tr th {\n",
       "        vertical-align: top;\n",
       "    }\n",
       "\n",
       "    .dataframe thead th {\n",
       "        text-align: right;\n",
       "    }\n",
       "</style>\n",
       "<table border=\"1\" class=\"dataframe\">\n",
       "  <thead>\n",
       "    <tr style=\"text-align: right;\">\n",
       "      <th></th>\n",
       "      <th>link</th>\n",
       "      <th>ind</th>\n",
       "    </tr>\n",
       "  </thead>\n",
       "  <tbody>\n",
       "    <tr>\n",
       "      <th>0</th>\n",
       "      <td>https://www.wildberries.ru/catalog/28030979/de...</td>\n",
       "      <td>1</td>\n",
       "    </tr>\n",
       "    <tr>\n",
       "      <th>0</th>\n",
       "      <td>https://www.wildberries.ru/catalog/28030469/de...</td>\n",
       "      <td>1</td>\n",
       "    </tr>\n",
       "  </tbody>\n",
       "</table>\n",
       "</div>"
      ],
      "text/plain": [
       "                                                link ind\n",
       "0  https://www.wildberries.ru/catalog/28030979/de...   1\n",
       "0  https://www.wildberries.ru/catalog/28030469/de...   1"
      ]
     },
     "execution_count": 11,
     "metadata": {},
     "output_type": "execute_result"
    }
   ],
   "source": [
    "no_req['ind'] = '1'\n",
    "no_req.head(2)"
   ]
  },
  {
   "cell_type": "code",
   "execution_count": 12,
   "metadata": {},
   "outputs": [],
   "source": [
    "links_new = links.merge(no_req, how = 'left', on = 'link')\n",
    "links_new = links_new[links_new.ind.isna()].drop('ind', axis = 1)\n",
    "links_new.to_excel('C:\\\\python\\\\portfolio\\\\parsing_python\\\\wildberries\\\\data\\\\face_cream_links_new.xlsx')"
   ]
  },
  {
   "cell_type": "markdown",
   "metadata": {},
   "source": [
    "Оставляем пока индексный столбец с нулями, дальше после объединения это исправится."
   ]
  },
  {
   "cell_type": "code",
   "execution_count": 13,
   "metadata": {
    "scrolled": true
   },
   "outputs": [
    {
     "data": {
      "text/html": [
       "<div>\n",
       "<style scoped>\n",
       "    .dataframe tbody tr th:only-of-type {\n",
       "        vertical-align: middle;\n",
       "    }\n",
       "\n",
       "    .dataframe tbody tr th {\n",
       "        vertical-align: top;\n",
       "    }\n",
       "\n",
       "    .dataframe thead th {\n",
       "        text-align: right;\n",
       "    }\n",
       "</style>\n",
       "<table border=\"1\" class=\"dataframe\">\n",
       "  <thead>\n",
       "    <tr style=\"text-align: right;\">\n",
       "      <th></th>\n",
       "      <th>link</th>\n",
       "      <th>item_n</th>\n",
       "      <th>item_name</th>\n",
       "      <th>brand</th>\n",
       "      <th>country</th>\n",
       "      <th>price</th>\n",
       "      <th>final_price</th>\n",
       "      <th>review_n</th>\n",
       "      <th>rating</th>\n",
       "      <th>sales</th>\n",
       "    </tr>\n",
       "  </thead>\n",
       "  <tbody>\n",
       "    <tr>\n",
       "      <th>0</th>\n",
       "      <td>https://www.wildberries.ru/catalog/5378143/det...</td>\n",
       "      <td>5378143</td>\n",
       "      <td>Крем для лица мужской Ультра увлажнение, 115 м...</td>\n",
       "      <td>L Cosmetics</td>\n",
       "      <td>Россия</td>\n",
       "      <td>NaN</td>\n",
       "      <td>NaN</td>\n",
       "      <td>194</td>\n",
       "      <td>5</td>\n",
       "      <td>7000</td>\n",
       "    </tr>\n",
       "    <tr>\n",
       "      <th>0</th>\n",
       "      <td>https://www.wildberries.ru/catalog/4803233/det...</td>\n",
       "      <td>4803233</td>\n",
       "      <td>Крем для лица мужской Men интенсивно увлажняющ...</td>\n",
       "      <td>Nivea</td>\n",
       "      <td>Германия</td>\n",
       "      <td>248.0</td>\n",
       "      <td>181.0</td>\n",
       "      <td>782</td>\n",
       "      <td>5</td>\n",
       "      <td>33300</td>\n",
       "    </tr>\n",
       "  </tbody>\n",
       "</table>\n",
       "</div>"
      ],
      "text/plain": [
       "                                                link   item_n  \\\n",
       "0  https://www.wildberries.ru/catalog/5378143/det...  5378143   \n",
       "0  https://www.wildberries.ru/catalog/4803233/det...  4803233   \n",
       "\n",
       "                                           item_name        brand   country  \\\n",
       "0  Крем для лица мужской Ультра увлажнение, 115 м...  L Cosmetics    Россия   \n",
       "0  Крем для лица мужской Men интенсивно увлажняющ...        Nivea  Германия   \n",
       "\n",
       "   price  final_price  review_n  rating  sales  \n",
       "0    NaN          NaN       194       5   7000  \n",
       "0  248.0        181.0       782       5  33300  "
      ]
     },
     "execution_count": 13,
     "metadata": {},
     "output_type": "execute_result"
    }
   ],
   "source": [
    "data.head(2)"
   ]
  },
  {
   "cell_type": "markdown",
   "metadata": {},
   "source": [
    "Проверим, что в \"обязательных\" полях item_n, item_name, brand, review_n, rating, sales нет пропусков. Пропуски  могут быть по полям: country, price, final_price."
   ]
  },
  {
   "cell_type": "code",
   "execution_count": 14,
   "metadata": {
    "scrolled": true
   },
   "outputs": [
    {
     "name": "stdout",
     "output_type": "stream",
     "text": [
      "<class 'pandas.core.frame.DataFrame'>\n",
      "Int64Index: 252 entries, 0 to 0\n",
      "Data columns (total 10 columns):\n",
      " #   Column       Non-Null Count  Dtype  \n",
      "---  ------       --------------  -----  \n",
      " 0   link         252 non-null    object \n",
      " 1   item_n       252 non-null    int64  \n",
      " 2   item_name    252 non-null    object \n",
      " 3   brand        252 non-null    object \n",
      " 4   country      235 non-null    object \n",
      " 5   price        158 non-null    float64\n",
      " 6   final_price  158 non-null    float64\n",
      " 7   review_n     252 non-null    int64  \n",
      " 8   rating       252 non-null    int64  \n",
      " 9   sales        252 non-null    int64  \n",
      "dtypes: float64(2), int64(4), object(4)\n",
      "memory usage: 21.7+ KB\n"
     ]
    }
   ],
   "source": [
    "data.info()"
   ]
  },
  {
   "cell_type": "markdown",
   "metadata": {},
   "source": [
    "Подтягиваем информацию об упаковке товара из файла со ссылками:"
   ]
  },
  {
   "cell_type": "code",
   "execution_count": 15,
   "metadata": {
    "scrolled": true
   },
   "outputs": [
    {
     "data": {
      "text/html": [
       "<div>\n",
       "<style scoped>\n",
       "    .dataframe tbody tr th:only-of-type {\n",
       "        vertical-align: middle;\n",
       "    }\n",
       "\n",
       "    .dataframe tbody tr th {\n",
       "        vertical-align: top;\n",
       "    }\n",
       "\n",
       "    .dataframe thead th {\n",
       "        text-align: right;\n",
       "    }\n",
       "</style>\n",
       "<table border=\"1\" class=\"dataframe\">\n",
       "  <thead>\n",
       "    <tr style=\"text-align: right;\">\n",
       "      <th></th>\n",
       "      <th>link</th>\n",
       "      <th>item_n</th>\n",
       "      <th>item_name</th>\n",
       "      <th>brand</th>\n",
       "      <th>country</th>\n",
       "      <th>price</th>\n",
       "      <th>final_price</th>\n",
       "      <th>review_n</th>\n",
       "      <th>rating</th>\n",
       "      <th>sales</th>\n",
       "      <th>package</th>\n",
       "    </tr>\n",
       "  </thead>\n",
       "  <tbody>\n",
       "    <tr>\n",
       "      <th>0</th>\n",
       "      <td>https://www.wildberries.ru/catalog/5378143/det...</td>\n",
       "      <td>5378143</td>\n",
       "      <td>Крем для лица мужской Ультра увлажнение, 115 м...</td>\n",
       "      <td>L Cosmetics</td>\n",
       "      <td>Россия</td>\n",
       "      <td>NaN</td>\n",
       "      <td>NaN</td>\n",
       "      <td>194</td>\n",
       "      <td>5</td>\n",
       "      <td>7000</td>\n",
       "      <td>Флакон с дозатором</td>\n",
       "    </tr>\n",
       "    <tr>\n",
       "      <th>1</th>\n",
       "      <td>https://www.wildberries.ru/catalog/4803233/det...</td>\n",
       "      <td>4803233</td>\n",
       "      <td>Крем для лица мужской Men интенсивно увлажняющ...</td>\n",
       "      <td>Nivea</td>\n",
       "      <td>Германия</td>\n",
       "      <td>248.0</td>\n",
       "      <td>181.0</td>\n",
       "      <td>782</td>\n",
       "      <td>5</td>\n",
       "      <td>33300</td>\n",
       "      <td>Банка</td>\n",
       "    </tr>\n",
       "  </tbody>\n",
       "</table>\n",
       "</div>"
      ],
      "text/plain": [
       "                                                link   item_n  \\\n",
       "0  https://www.wildberries.ru/catalog/5378143/det...  5378143   \n",
       "1  https://www.wildberries.ru/catalog/4803233/det...  4803233   \n",
       "\n",
       "                                           item_name        brand   country  \\\n",
       "0  Крем для лица мужской Ультра увлажнение, 115 м...  L Cosmetics    Россия   \n",
       "1  Крем для лица мужской Men интенсивно увлажняющ...        Nivea  Германия   \n",
       "\n",
       "   price  final_price  review_n  rating  sales             package  \n",
       "0    NaN          NaN       194       5   7000  Флакон с дозатором  \n",
       "1  248.0        181.0       782       5  33300               Банка  "
      ]
     },
     "execution_count": 15,
     "metadata": {},
     "output_type": "execute_result"
    }
   ],
   "source": [
    "data_full = data.merge(links, how = 'left', on = 'link')\n",
    "data_full.head(2)"
   ]
  },
  {
   "cell_type": "markdown",
   "metadata": {},
   "source": [
    "Добавляем дату выгрузки:"
   ]
  },
  {
   "cell_type": "code",
   "execution_count": 16,
   "metadata": {},
   "outputs": [],
   "source": [
    "data_full['timestamp'] = pd.to_datetime('today')\n",
    "data_full['date'] = data_full['timestamp'].dt.strftime('%d.%m.%Y')\n",
    "data_full['month'] = data_full['timestamp'].dt.month\n",
    "data_full['year'] = data_full['timestamp'].dt.year"
   ]
  },
  {
   "cell_type": "markdown",
   "metadata": {},
   "source": [
    "Финальный датафрейм:"
   ]
  },
  {
   "cell_type": "code",
   "execution_count": 17,
   "metadata": {
    "scrolled": true
   },
   "outputs": [
    {
     "data": {
      "text/html": [
       "<div>\n",
       "<style scoped>\n",
       "    .dataframe tbody tr th:only-of-type {\n",
       "        vertical-align: middle;\n",
       "    }\n",
       "\n",
       "    .dataframe tbody tr th {\n",
       "        vertical-align: top;\n",
       "    }\n",
       "\n",
       "    .dataframe thead th {\n",
       "        text-align: right;\n",
       "    }\n",
       "</style>\n",
       "<table border=\"1\" class=\"dataframe\">\n",
       "  <thead>\n",
       "    <tr style=\"text-align: right;\">\n",
       "      <th></th>\n",
       "      <th>link</th>\n",
       "      <th>item_n</th>\n",
       "      <th>item_name</th>\n",
       "      <th>brand</th>\n",
       "      <th>country</th>\n",
       "      <th>price</th>\n",
       "      <th>final_price</th>\n",
       "      <th>review_n</th>\n",
       "      <th>rating</th>\n",
       "      <th>sales</th>\n",
       "      <th>package</th>\n",
       "      <th>timestamp</th>\n",
       "      <th>date</th>\n",
       "      <th>month</th>\n",
       "      <th>year</th>\n",
       "    </tr>\n",
       "  </thead>\n",
       "  <tbody>\n",
       "    <tr>\n",
       "      <th>0</th>\n",
       "      <td>https://www.wildberries.ru/catalog/5378143/det...</td>\n",
       "      <td>5378143</td>\n",
       "      <td>Крем для лица мужской Ультра увлажнение, 115 м...</td>\n",
       "      <td>L Cosmetics</td>\n",
       "      <td>Россия</td>\n",
       "      <td>NaN</td>\n",
       "      <td>NaN</td>\n",
       "      <td>194</td>\n",
       "      <td>5</td>\n",
       "      <td>7000</td>\n",
       "      <td>Флакон с дозатором</td>\n",
       "      <td>2021-12-25 17:35:18.988451</td>\n",
       "      <td>25.12.2021</td>\n",
       "      <td>12</td>\n",
       "      <td>2021</td>\n",
       "    </tr>\n",
       "    <tr>\n",
       "      <th>1</th>\n",
       "      <td>https://www.wildberries.ru/catalog/4803233/det...</td>\n",
       "      <td>4803233</td>\n",
       "      <td>Крем для лица мужской Men интенсивно увлажняющ...</td>\n",
       "      <td>Nivea</td>\n",
       "      <td>Германия</td>\n",
       "      <td>248.0</td>\n",
       "      <td>181.0</td>\n",
       "      <td>782</td>\n",
       "      <td>5</td>\n",
       "      <td>33300</td>\n",
       "      <td>Банка</td>\n",
       "      <td>2021-12-25 17:35:18.988451</td>\n",
       "      <td>25.12.2021</td>\n",
       "      <td>12</td>\n",
       "      <td>2021</td>\n",
       "    </tr>\n",
       "  </tbody>\n",
       "</table>\n",
       "</div>"
      ],
      "text/plain": [
       "                                                link   item_n  \\\n",
       "0  https://www.wildberries.ru/catalog/5378143/det...  5378143   \n",
       "1  https://www.wildberries.ru/catalog/4803233/det...  4803233   \n",
       "\n",
       "                                           item_name        brand   country  \\\n",
       "0  Крем для лица мужской Ультра увлажнение, 115 м...  L Cosmetics    Россия   \n",
       "1  Крем для лица мужской Men интенсивно увлажняющ...        Nivea  Германия   \n",
       "\n",
       "   price  final_price  review_n  rating  sales             package  \\\n",
       "0    NaN          NaN       194       5   7000  Флакон с дозатором   \n",
       "1  248.0        181.0       782       5  33300               Банка   \n",
       "\n",
       "                   timestamp        date  month  year  \n",
       "0 2021-12-25 17:35:18.988451  25.12.2021     12  2021  \n",
       "1 2021-12-25 17:35:18.988451  25.12.2021     12  2021  "
      ]
     },
     "execution_count": 17,
     "metadata": {},
     "output_type": "execute_result"
    }
   ],
   "source": [
    "data_full.head(2)"
   ]
  },
  {
   "cell_type": "markdown",
   "metadata": {},
   "source": [
    "Записываем датафрейм в excel:"
   ]
  },
  {
   "cell_type": "code",
   "execution_count": 18,
   "metadata": {},
   "outputs": [],
   "source": [
    "data_full.to_excel('C:\\\\python\\\\portfolio\\\\parsing_python\\\\wildberries\\\\data\\\\face_cream_info_25_12.xlsx')"
   ]
  },
  {
   "cell_type": "markdown",
   "metadata": {},
   "source": [
    "<h4><a href=\"#0\">Наверх</a></h4>"
   ]
  },
  {
   "cell_type": "markdown",
   "metadata": {},
   "source": [
    "<p id=\"3\"> \n",
    "<h4>Консолидация данных</h4>"
   ]
  },
  {
   "cell_type": "markdown",
   "metadata": {},
   "source": [
    " Добавление данных за новый месяц к аккумулированным данным."
   ]
  },
  {
   "cell_type": "code",
   "execution_count": 19,
   "metadata": {},
   "outputs": [],
   "source": [
    "data_time = pd.read_excel('C:\\\\python\\\\portfolio\\\\parsing_python\\\\wildberries\\\\data\\\\face_cream_info_time.xlsx', index_col  = 0)"
   ]
  },
  {
   "cell_type": "code",
   "execution_count": 20,
   "metadata": {
    "scrolled": true
   },
   "outputs": [
    {
     "data": {
      "text/html": [
       "<div>\n",
       "<style scoped>\n",
       "    .dataframe tbody tr th:only-of-type {\n",
       "        vertical-align: middle;\n",
       "    }\n",
       "\n",
       "    .dataframe tbody tr th {\n",
       "        vertical-align: top;\n",
       "    }\n",
       "\n",
       "    .dataframe thead th {\n",
       "        text-align: right;\n",
       "    }\n",
       "</style>\n",
       "<table border=\"1\" class=\"dataframe\">\n",
       "  <thead>\n",
       "    <tr style=\"text-align: right;\">\n",
       "      <th></th>\n",
       "      <th>link</th>\n",
       "      <th>item_n</th>\n",
       "      <th>item_name</th>\n",
       "      <th>brand</th>\n",
       "      <th>country</th>\n",
       "      <th>price</th>\n",
       "      <th>final_price</th>\n",
       "      <th>review_n</th>\n",
       "      <th>rating</th>\n",
       "      <th>sales</th>\n",
       "      <th>package</th>\n",
       "      <th>date</th>\n",
       "      <th>month</th>\n",
       "      <th>year</th>\n",
       "      <th>sales_delta</th>\n",
       "      <th>review_delta</th>\n",
       "    </tr>\n",
       "  </thead>\n",
       "  <tbody>\n",
       "    <tr>\n",
       "      <th>0</th>\n",
       "      <td>https://www.wildberries.ru/catalog/5378143/det...</td>\n",
       "      <td>5378143.0</td>\n",
       "      <td>Крем для лица Ультра увлажнение, 115 мл</td>\n",
       "      <td>L Cosmetics</td>\n",
       "      <td>Россия</td>\n",
       "      <td>NaN</td>\n",
       "      <td>NaN</td>\n",
       "      <td>169.0</td>\n",
       "      <td>5.0</td>\n",
       "      <td>6259.0</td>\n",
       "      <td>Флакон с дозатором</td>\n",
       "      <td>24.05.2021</td>\n",
       "      <td>5</td>\n",
       "      <td>2021</td>\n",
       "      <td>NaN</td>\n",
       "      <td>NaN</td>\n",
       "    </tr>\n",
       "    <tr>\n",
       "      <th>1</th>\n",
       "      <td>https://www.wildberries.ru/catalog/4803233/det...</td>\n",
       "      <td>4803233.0</td>\n",
       "      <td>Крем для лица мужской Men интенсивно увлажняющ...</td>\n",
       "      <td>Nivea</td>\n",
       "      <td>Германия</td>\n",
       "      <td>228.0</td>\n",
       "      <td>158.0</td>\n",
       "      <td>385.0</td>\n",
       "      <td>5.0</td>\n",
       "      <td>20011.0</td>\n",
       "      <td>Банка</td>\n",
       "      <td>24.05.2021</td>\n",
       "      <td>5</td>\n",
       "      <td>2021</td>\n",
       "      <td>NaN</td>\n",
       "      <td>NaN</td>\n",
       "    </tr>\n",
       "  </tbody>\n",
       "</table>\n",
       "</div>"
      ],
      "text/plain": [
       "                                                link     item_n  \\\n",
       "0  https://www.wildberries.ru/catalog/5378143/det...  5378143.0   \n",
       "1  https://www.wildberries.ru/catalog/4803233/det...  4803233.0   \n",
       "\n",
       "                                           item_name        brand   country  \\\n",
       "0            Крем для лица Ультра увлажнение, 115 мл  L Cosmetics    Россия   \n",
       "1  Крем для лица мужской Men интенсивно увлажняющ...        Nivea  Германия   \n",
       "\n",
       "   price  final_price  review_n  rating    sales             package  \\\n",
       "0    NaN          NaN     169.0     5.0   6259.0  Флакон с дозатором   \n",
       "1  228.0        158.0     385.0     5.0  20011.0               Банка   \n",
       "\n",
       "         date  month  year  sales_delta  review_delta  \n",
       "0  24.05.2021      5  2021          NaN           NaN  \n",
       "1  24.05.2021      5  2021          NaN           NaN  "
      ]
     },
     "execution_count": 20,
     "metadata": {},
     "output_type": "execute_result"
    }
   ],
   "source": [
    "data_time.head(2)"
   ]
  },
  {
   "cell_type": "markdown",
   "metadata": {},
   "source": [
    "К файлу с накопленными данными присоединяем данные за новый месяц:"
   ]
  },
  {
   "cell_type": "code",
   "execution_count": 21,
   "metadata": {},
   "outputs": [],
   "source": [
    "data_time = pd.concat([data_time, data_full.drop('timestamp', axis = 1)], ignore_index = True)"
   ]
  },
  {
   "cell_type": "code",
   "execution_count": 22,
   "metadata": {
    "scrolled": true
   },
   "outputs": [
    {
     "data": {
      "text/html": [
       "<div>\n",
       "<style scoped>\n",
       "    .dataframe tbody tr th:only-of-type {\n",
       "        vertical-align: middle;\n",
       "    }\n",
       "\n",
       "    .dataframe tbody tr th {\n",
       "        vertical-align: top;\n",
       "    }\n",
       "\n",
       "    .dataframe thead th {\n",
       "        text-align: right;\n",
       "    }\n",
       "</style>\n",
       "<table border=\"1\" class=\"dataframe\">\n",
       "  <thead>\n",
       "    <tr style=\"text-align: right;\">\n",
       "      <th></th>\n",
       "      <th>link</th>\n",
       "      <th>item_n</th>\n",
       "      <th>item_name</th>\n",
       "      <th>brand</th>\n",
       "      <th>country</th>\n",
       "      <th>price</th>\n",
       "      <th>final_price</th>\n",
       "      <th>review_n</th>\n",
       "      <th>rating</th>\n",
       "      <th>sales</th>\n",
       "      <th>package</th>\n",
       "      <th>date</th>\n",
       "      <th>month</th>\n",
       "      <th>year</th>\n",
       "      <th>sales_delta</th>\n",
       "      <th>review_delta</th>\n",
       "    </tr>\n",
       "  </thead>\n",
       "  <tbody>\n",
       "    <tr>\n",
       "      <th>1790</th>\n",
       "      <td>https://www.wildberries.ru/catalog/6952079/det...</td>\n",
       "      <td>6952079.0</td>\n",
       "      <td>Подарочный набор для бритья с тестером (крем д...</td>\n",
       "      <td>MORGAN'S</td>\n",
       "      <td>Соединенное Королевство</td>\n",
       "      <td>NaN</td>\n",
       "      <td>NaN</td>\n",
       "      <td>0.0</td>\n",
       "      <td>0.0</td>\n",
       "      <td>6.0</td>\n",
       "      <td>Набор</td>\n",
       "      <td>25.12.2021</td>\n",
       "      <td>12</td>\n",
       "      <td>2021</td>\n",
       "      <td>NaN</td>\n",
       "      <td>NaN</td>\n",
       "    </tr>\n",
       "    <tr>\n",
       "      <th>1791</th>\n",
       "      <td>https://www.wildberries.ru/catalog/21007993/de...</td>\n",
       "      <td>21007993.0</td>\n",
       "      <td>Бальзам после бритья Man Sport &amp; Sauna 75 мл.</td>\n",
       "      <td>Dermosil</td>\n",
       "      <td>Финляндия</td>\n",
       "      <td>774.0</td>\n",
       "      <td>619.0</td>\n",
       "      <td>1.0</td>\n",
       "      <td>5.0</td>\n",
       "      <td>20.0</td>\n",
       "      <td>Туба</td>\n",
       "      <td>25.12.2021</td>\n",
       "      <td>12</td>\n",
       "      <td>2021</td>\n",
       "      <td>NaN</td>\n",
       "      <td>NaN</td>\n",
       "    </tr>\n",
       "  </tbody>\n",
       "</table>\n",
       "</div>"
      ],
      "text/plain": [
       "                                                   link      item_n  \\\n",
       "1790  https://www.wildberries.ru/catalog/6952079/det...   6952079.0   \n",
       "1791  https://www.wildberries.ru/catalog/21007993/de...  21007993.0   \n",
       "\n",
       "                                              item_name     brand  \\\n",
       "1790  Подарочный набор для бритья с тестером (крем д...  MORGAN'S   \n",
       "1791      Бальзам после бритья Man Sport & Sauna 75 мл.  Dermosil   \n",
       "\n",
       "                      country  price  final_price  review_n  rating  sales  \\\n",
       "1790  Соединенное Королевство    NaN          NaN       0.0     0.0    6.0   \n",
       "1791                Финляндия  774.0        619.0       1.0     5.0   20.0   \n",
       "\n",
       "     package        date  month  year  sales_delta  review_delta  \n",
       "1790   Набор  25.12.2021     12  2021          NaN           NaN  \n",
       "1791    Туба  25.12.2021     12  2021          NaN           NaN  "
      ]
     },
     "execution_count": 22,
     "metadata": {},
     "output_type": "execute_result"
    }
   ],
   "source": [
    "data_time.tail(2)"
   ]
  },
  {
   "cell_type": "markdown",
   "metadata": {},
   "source": [
    "Так как продажи в карточке товара являются показателем запаса (накопленное кол-во), то для анализа динамики рассчитаем показатель потока (разница между текущим и предыдущим периодом). То же самое для кол-ва отзывов."
   ]
  },
  {
   "cell_type": "code",
   "execution_count": 23,
   "metadata": {},
   "outputs": [],
   "source": [
    "g = data_time.groupby('link')\n",
    "data_time['sales_delta'] = g['sales'].apply(lambda x: x - x.shift())"
   ]
  },
  {
   "cell_type": "code",
   "execution_count": 24,
   "metadata": {},
   "outputs": [],
   "source": [
    "data_time['review_delta'] = g['review_n'].apply(lambda x: x - x.shift())"
   ]
  },
  {
   "cell_type": "markdown",
   "metadata": {},
   "source": [
    "Перезаписываем файл с накопленными данными:"
   ]
  },
  {
   "cell_type": "code",
   "execution_count": 25,
   "metadata": {},
   "outputs": [],
   "source": [
    "data_time.to_excel('C:\\\\python\\\\portfolio\\\\parsing_python\\\\wildberries\\\\data\\\\face_cream_info_time.xlsx')"
   ]
  },
  {
   "cell_type": "markdown",
   "metadata": {},
   "source": [
    "<h4><a href=\"#0\">Наверх</a></h4>"
   ]
  }
 ],
 "metadata": {
  "kernelspec": {
   "display_name": "Python 3 (ipykernel)",
   "language": "python",
   "name": "python3"
  },
  "language_info": {
   "codemirror_mode": {
    "name": "ipython",
    "version": 3
   },
   "file_extension": ".py",
   "mimetype": "text/x-python",
   "name": "python",
   "nbconvert_exporter": "python",
   "pygments_lexer": "ipython3",
   "version": "3.8.12"
  }
 },
 "nbformat": 4,
 "nbformat_minor": 4
}
