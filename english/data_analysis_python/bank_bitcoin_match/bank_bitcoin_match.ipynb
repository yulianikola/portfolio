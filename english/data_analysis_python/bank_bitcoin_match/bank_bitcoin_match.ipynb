{
 "cells": [
  {
   "cell_type": "markdown",
   "id": "ffe4e5ee",
   "metadata": {},
   "source": [
    "<div class=\"alert alert-info\">\n",
    "View notebook in interactive mode for using hyperlinks and correct display of markdown:<br>\n",
    "<a href='https://nbviewer.org/github/yulianikola/portfolio/blob/master/english/data_analysis_python/bank_bitcoin_match/bank_bitcoin_match.ipynb'>bank_bitcoin_match</a></div>"
   ]
  },
  {
   "cell_type": "markdown",
   "id": "641f21ee",
   "metadata": {},
   "source": [
    "### \"FinCEN Suspicious Activity Report\" challenge\n",
    "https://github.com/inca-digital/challenge/issues/61"
   ]
  },
  {
   "cell_type": "markdown",
   "id": "926b0a70",
   "metadata": {},
   "source": [
    "Data sources:\n",
    "* Large Bitcoin blockchain transactions (Inca Digital google drive)\n",
    "* Bitcoin-USD historical pricing (Inca Digital google drive)\n",
    "* FinCEN SAR dataset\n",
    "https://www.icij.org/investigations/fincen-files/download-fincen-files-transaction-data/"
   ]
  },
  {
   "cell_type": "markdown",
   "id": "df46310b",
   "metadata": {},
   "source": [
    "Challenge:<br>\n",
    "find suspiciously similar bank and Bitcoin transactions "
   ]
  },
  {
   "cell_type": "markdown",
   "id": "297c3ef1",
   "metadata": {},
   "source": [
    "<p id=\"0\">\n",
    "Table of contents:\n",
    "<ul type=\"square\"><a href=\"#1\"><li>Preparation of FinCEN dataset</li></a>\n",
    "<a href=\"#2\"><li>Preparation of Bitcoin prices dataset</li></a>\n",
    "<a href=\"#3\"><li>Bitcoin transactions dataset</li></a>\n",
    "    <ul><a href=\"#3.1\"><li>Correction of file</li></a>\n",
    "        <a href=\"#3.2\"><li>Preparation of dataframe</li></a> </ul>\n",
    "<a href=\"#5\"><li>Matching bank and Bitcoin transactions</li></a>\n",
    "    <ul><a href=\"#5.1\"><li>Conditional join</li></a>\n",
    "     <a href=\"#5.2\"><li>Explore the result</li></a>  \n",
    "     <a href=\"#5.3\"><li>Bitcoin \"chains\"?</li></a>  \n",
    "    </ul>"
   ]
  },
  {
   "cell_type": "code",
   "execution_count": 1,
   "id": "2c114e46",
   "metadata": {},
   "outputs": [],
   "source": [
    "import pandas as pd\n",
    "import numpy as np"
   ]
  },
  {
   "cell_type": "markdown",
   "id": "8b52b839",
   "metadata": {},
   "source": [
    "<h4>Preparation of FinCEN dataset</h4>\n",
    "<p id=\"1\">"
   ]
  },
  {
   "cell_type": "code",
   "execution_count": 2,
   "id": "5b2e631a",
   "metadata": {},
   "outputs": [],
   "source": [
    "fin_trans_raw = pd.read_csv('C:\\\\python\\\\portfolio\\\\english\\\\data_analysis_python\\\\bank_bitcoin_match\\\\data\\\\download_transactions_map.csv',\n",
    "                        parse_dates = ['begin_date','end_date'], dayfirst = True)"
   ]
  },
  {
   "cell_type": "code",
   "execution_count": 3,
   "id": "ec4604be",
   "metadata": {
    "scrolled": false
   },
   "outputs": [
    {
     "data": {
      "text/html": [
       "<div>\n",
       "<style scoped>\n",
       "    .dataframe tbody tr th:only-of-type {\n",
       "        vertical-align: middle;\n",
       "    }\n",
       "\n",
       "    .dataframe tbody tr th {\n",
       "        vertical-align: top;\n",
       "    }\n",
       "\n",
       "    .dataframe thead th {\n",
       "        text-align: right;\n",
       "    }\n",
       "</style>\n",
       "<table border=\"1\" class=\"dataframe\">\n",
       "  <thead>\n",
       "    <tr style=\"text-align: right;\">\n",
       "      <th></th>\n",
       "      <th>id</th>\n",
       "      <th>icij_sar_id</th>\n",
       "      <th>filer_org_name_id</th>\n",
       "      <th>filer_org_name</th>\n",
       "      <th>begin_date</th>\n",
       "      <th>end_date</th>\n",
       "      <th>originator_bank_id</th>\n",
       "      <th>originator_bank</th>\n",
       "      <th>originator_bank_country</th>\n",
       "      <th>originator_iso</th>\n",
       "      <th>beneficiary_bank_id</th>\n",
       "      <th>beneficiary_bank</th>\n",
       "      <th>beneficiary_bank_country</th>\n",
       "      <th>beneficiary_iso</th>\n",
       "      <th>number_transactions</th>\n",
       "      <th>amount_transactions</th>\n",
       "    </tr>\n",
       "  </thead>\n",
       "  <tbody>\n",
       "    <tr>\n",
       "      <th>0</th>\n",
       "      <td>223254</td>\n",
       "      <td>3297</td>\n",
       "      <td>the-bank-of-new-york-mellon-corp</td>\n",
       "      <td>The Bank of New York Mellon Corp.</td>\n",
       "      <td>2015-03-25</td>\n",
       "      <td>2015-09-25</td>\n",
       "      <td>cimb-bank-berhad</td>\n",
       "      <td>CIMB Bank Berhad</td>\n",
       "      <td>Singapore</td>\n",
       "      <td>SGP</td>\n",
       "      <td>barclays-bank-plc-london-england-gbr</td>\n",
       "      <td>Barclays Bank Plc</td>\n",
       "      <td>United Kingdom</td>\n",
       "      <td>GBR</td>\n",
       "      <td>68.0</td>\n",
       "      <td>5.689852e+07</td>\n",
       "    </tr>\n",
       "    <tr>\n",
       "      <th>1</th>\n",
       "      <td>223255</td>\n",
       "      <td>3297</td>\n",
       "      <td>the-bank-of-new-york-mellon-corp</td>\n",
       "      <td>The Bank of New York Mellon Corp.</td>\n",
       "      <td>2015-03-30</td>\n",
       "      <td>2015-09-25</td>\n",
       "      <td>cimb-bank-berhad</td>\n",
       "      <td>CIMB Bank Berhad</td>\n",
       "      <td>Singapore</td>\n",
       "      <td>SGP</td>\n",
       "      <td>barclays-bank-plc-london-england-gbr</td>\n",
       "      <td>Barclays Bank Plc</td>\n",
       "      <td>United Kingdom</td>\n",
       "      <td>GBR</td>\n",
       "      <td>118.0</td>\n",
       "      <td>1.162384e+08</td>\n",
       "    </tr>\n",
       "  </tbody>\n",
       "</table>\n",
       "</div>"
      ],
      "text/plain": [
       "       id  icij_sar_id                 filer_org_name_id  \\\n",
       "0  223254         3297  the-bank-of-new-york-mellon-corp   \n",
       "1  223255         3297  the-bank-of-new-york-mellon-corp   \n",
       "\n",
       "                      filer_org_name begin_date   end_date originator_bank_id  \\\n",
       "0  The Bank of New York Mellon Corp. 2015-03-25 2015-09-25   cimb-bank-berhad   \n",
       "1  The Bank of New York Mellon Corp. 2015-03-30 2015-09-25   cimb-bank-berhad   \n",
       "\n",
       "    originator_bank originator_bank_country originator_iso  \\\n",
       "0  CIMB Bank Berhad               Singapore            SGP   \n",
       "1  CIMB Bank Berhad               Singapore            SGP   \n",
       "\n",
       "                    beneficiary_bank_id   beneficiary_bank  \\\n",
       "0  barclays-bank-plc-london-england-gbr  Barclays Bank Plc   \n",
       "1  barclays-bank-plc-london-england-gbr  Barclays Bank Plc   \n",
       "\n",
       "  beneficiary_bank_country beneficiary_iso  number_transactions  \\\n",
       "0           United Kingdom             GBR                 68.0   \n",
       "1           United Kingdom             GBR                118.0   \n",
       "\n",
       "   amount_transactions  \n",
       "0         5.689852e+07  \n",
       "1         1.162384e+08  "
      ]
     },
     "execution_count": 3,
     "metadata": {},
     "output_type": "execute_result"
    }
   ],
   "source": [
    "fin_trans = fin_trans_raw.copy()\n",
    "fin_trans.head(2)"
   ]
  },
  {
   "cell_type": "code",
   "execution_count": 4,
   "id": "2b784567",
   "metadata": {},
   "outputs": [],
   "source": [
    "pd.set_option(\"precision\", 4)\n",
    "pd.set_option('display.float_format', lambda x: f'{x:.2f}')"
   ]
  },
  {
   "cell_type": "markdown",
   "id": "1db8259c",
   "metadata": {},
   "source": [
    "Few nulls in date columns and some nulls in 'number_transactions':"
   ]
  },
  {
   "cell_type": "code",
   "execution_count": 5,
   "id": "4a4a559a",
   "metadata": {
    "scrolled": false
   },
   "outputs": [
    {
     "name": "stdout",
     "output_type": "stream",
     "text": [
      "<class 'pandas.core.frame.DataFrame'>\n",
      "RangeIndex: 4507 entries, 0 to 4506\n",
      "Data columns (total 16 columns):\n",
      " #   Column                    Non-Null Count  Dtype         \n",
      "---  ------                    --------------  -----         \n",
      " 0   id                        4507 non-null   int64         \n",
      " 1   icij_sar_id               4507 non-null   int64         \n",
      " 2   filer_org_name_id         4507 non-null   object        \n",
      " 3   filer_org_name            4507 non-null   object        \n",
      " 4   begin_date                4501 non-null   datetime64[ns]\n",
      " 5   end_date                  4501 non-null   datetime64[ns]\n",
      " 6   originator_bank_id        4507 non-null   object        \n",
      " 7   originator_bank           4507 non-null   object        \n",
      " 8   originator_bank_country   4507 non-null   object        \n",
      " 9   originator_iso            4507 non-null   object        \n",
      " 10  beneficiary_bank_id       4507 non-null   object        \n",
      " 11  beneficiary_bank          4507 non-null   object        \n",
      " 12  beneficiary_bank_country  4507 non-null   object        \n",
      " 13  beneficiary_iso           4507 non-null   object        \n",
      " 14  number_transactions       4396 non-null   float64       \n",
      " 15  amount_transactions       4507 non-null   float64       \n",
      "dtypes: datetime64[ns](2), float64(2), int64(2), object(10)\n",
      "memory usage: 563.5+ KB\n"
     ]
    }
   ],
   "source": [
    "fin_trans.info()"
   ]
  },
  {
   "cell_type": "markdown",
   "id": "13a3fc58",
   "metadata": {},
   "source": [
    "No duplicates in 'id' column:"
   ]
  },
  {
   "cell_type": "code",
   "execution_count": 6,
   "id": "7ccbe41b",
   "metadata": {},
   "outputs": [
    {
     "data": {
      "text/plain": [
       "0"
      ]
     },
     "execution_count": 6,
     "metadata": {},
     "output_type": "execute_result"
    }
   ],
   "source": [
    "len(fin_trans) - fin_trans.id.nunique()"
   ]
  },
  {
   "cell_type": "markdown",
   "id": "02c1ef99",
   "metadata": {},
   "source": [
    "But there are duplicate rows (excluding 'id' column):"
   ]
  },
  {
   "cell_type": "code",
   "execution_count": 7,
   "id": "10eda34e",
   "metadata": {
    "scrolled": false
   },
   "outputs": [
    {
     "data": {
      "text/plain": [
       "False    4430\n",
       "True       77\n",
       "dtype: int64"
      ]
     },
     "execution_count": 7,
     "metadata": {},
     "output_type": "execute_result"
    }
   ],
   "source": [
    "fin_trans.duplicated(list(fin_trans.columns[1:]), keep = False).value_counts()"
   ]
  },
  {
   "cell_type": "markdown",
   "id": "f6fc7b12",
   "metadata": {},
   "source": [
    "Even more duplicates when excluding 'id' and 'icij_sar_id' columns. Meaning that there are duplicates not only within the same icij_sar_id, but also between different icij_sar_id."
   ]
  },
  {
   "cell_type": "code",
   "execution_count": 8,
   "id": "62587b44",
   "metadata": {
    "scrolled": false
   },
   "outputs": [
    {
     "data": {
      "text/plain": [
       "False    4422\n",
       "True       85\n",
       "dtype: int64"
      ]
     },
     "execution_count": 8,
     "metadata": {},
     "output_type": "execute_result"
    }
   ],
   "source": [
    "fin_trans.duplicated(list(fin_trans.columns[2:]), keep = False).value_counts()"
   ]
  },
  {
   "cell_type": "markdown",
   "id": "ae99ff18",
   "metadata": {},
   "source": [
    "Mostly 2 duplicates of one row, but there is one row with 24 duplicates:"
   ]
  },
  {
   "cell_type": "code",
   "execution_count": 9,
   "id": "ccb491c0",
   "metadata": {},
   "outputs": [
    {
     "data": {
      "text/html": [
       "<div>\n",
       "<style scoped>\n",
       "    .dataframe tbody tr th:only-of-type {\n",
       "        vertical-align: middle;\n",
       "    }\n",
       "\n",
       "    .dataframe tbody tr th {\n",
       "        vertical-align: top;\n",
       "    }\n",
       "\n",
       "    .dataframe thead th {\n",
       "        text-align: right;\n",
       "    }\n",
       "</style>\n",
       "<table border=\"1\" class=\"dataframe\">\n",
       "  <thead>\n",
       "    <tr style=\"text-align: right;\">\n",
       "      <th></th>\n",
       "      <th></th>\n",
       "      <th></th>\n",
       "      <th></th>\n",
       "      <th></th>\n",
       "      <th></th>\n",
       "      <th>id</th>\n",
       "    </tr>\n",
       "    <tr>\n",
       "      <th>begin_date</th>\n",
       "      <th>end_date</th>\n",
       "      <th>originator_bank_id</th>\n",
       "      <th>beneficiary_bank_id</th>\n",
       "      <th>number_transactions</th>\n",
       "      <th>amount_transactions</th>\n",
       "      <th></th>\n",
       "    </tr>\n",
       "  </thead>\n",
       "  <tbody>\n",
       "    <tr>\n",
       "      <th>2011-07-14</th>\n",
       "      <th>2011-07-14</th>\n",
       "      <th>unicredit-bank-cjsc</th>\n",
       "      <th>rosbank-moscow-russia-rus</th>\n",
       "      <th>1.00</th>\n",
       "      <th>100000.00</th>\n",
       "      <td>24</td>\n",
       "    </tr>\n",
       "    <tr>\n",
       "      <th>2012-01-27</th>\n",
       "      <th>2012-01-27</th>\n",
       "      <th>banque-internationale-pour-le-commerce-et-lindustrie</th>\n",
       "      <th>habib-bank-a-g-zurich-dubaiuae-are</th>\n",
       "      <th>1.00</th>\n",
       "      <th>12075.00</th>\n",
       "      <td>3</td>\n",
       "    </tr>\n",
       "    <tr>\n",
       "      <th>2011-06-29</th>\n",
       "      <th>2011-06-29</th>\n",
       "      <th>standard-chartered-bank-hk-ltd</th>\n",
       "      <th>bank-of-china-jiangxi-china-chn</th>\n",
       "      <th>1.00</th>\n",
       "      <th>49999.00</th>\n",
       "      <td>3</td>\n",
       "    </tr>\n",
       "    <tr>\n",
       "      <th>2012-08-17</th>\n",
       "      <th>2012-08-17</th>\n",
       "      <th>ltb-bank</th>\n",
       "      <th>bank-soyuz-moscow-russia-rus</th>\n",
       "      <th>1.00</th>\n",
       "      <th>500000.00</th>\n",
       "      <td>2</td>\n",
       "    </tr>\n",
       "    <tr>\n",
       "      <th>2016-05-13</th>\n",
       "      <th>2016-05-13</th>\n",
       "      <th>rosbank</th>\n",
       "      <th>credit-bank-of-moscow-ojsc-moscow-russia-rus</th>\n",
       "      <th>1.00</th>\n",
       "      <th>4750000.00</th>\n",
       "      <td>2</td>\n",
       "    </tr>\n",
       "  </tbody>\n",
       "</table>\n",
       "</div>"
      ],
      "text/plain": [
       "                                                                                                                                                               id\n",
       "begin_date end_date   originator_bank_id                                 beneficiary_bank_id                          number_transactions amount_transactions    \n",
       "2011-07-14 2011-07-14 unicredit-bank-cjsc                                rosbank-moscow-russia-rus                    1.00                100000.00            24\n",
       "2012-01-27 2012-01-27 banque-internationale-pour-le-commerce-et-lindu... habib-bank-a-g-zurich-dubaiuae-are           1.00                12075.00              3\n",
       "2011-06-29 2011-06-29 standard-chartered-bank-hk-ltd                     bank-of-china-jiangxi-china-chn              1.00                49999.00              3\n",
       "2012-08-17 2012-08-17 ltb-bank                                           bank-soyuz-moscow-russia-rus                 1.00                500000.00             2\n",
       "2016-05-13 2016-05-13 rosbank                                            credit-bank-of-moscow-ojsc-moscow-russia-rus 1.00                4750000.00            2"
      ]
     },
     "execution_count": 9,
     "metadata": {},
     "output_type": "execute_result"
    }
   ],
   "source": [
    "(fin_trans[fin_trans.duplicated(list(fin_trans.columns[2:]), keep = False)].\n",
    " groupby(['begin_date','end_date','originator_bank_id','beneficiary_bank_id',\n",
    "          'number_transactions', 'amount_transactions'])['id'].count().\n",
    " to_frame().sort_values('id', ascending = False).head())"
   ]
  },
  {
   "cell_type": "markdown",
   "id": "0e660e8e",
   "metadata": {},
   "source": [
    "Probably it might happen that transactions through the same banks of the same amount on the same date were actually different (due to different transaction details) or actually repeated several times but not combined in one row in the dataset. ICIJ has not replied to my email regarding duplicates.<br>\n",
    "Decision regarding duplicates requires a deeper understanding of a data collection mechanism. But for the given challenge dropping duplicates should not be a problem. Because the task is to find Bitcoin transactions similar to bank transactions. And the fact that the fin_trans dataset contains several duplicates of some transactions (even with different 'id' or 'icij_sar_id' values) does not seem to add valuable information. Thus drop duplicates. But in the following it will be possible to check whether a transaction has duplicates in the initial dataset."
   ]
  },
  {
   "cell_type": "code",
   "execution_count": 10,
   "id": "ad5ec2e5",
   "metadata": {},
   "outputs": [],
   "source": [
    "fin_trans = fin_trans.drop_duplicates(list(fin_trans.columns[2:]), keep = 'first')"
   ]
  },
  {
   "cell_type": "code",
   "execution_count": 11,
   "id": "e20c4c2e",
   "metadata": {},
   "outputs": [
    {
     "data": {
      "text/plain": [
       "4452"
      ]
     },
     "execution_count": 11,
     "metadata": {},
     "output_type": "execute_result"
    }
   ],
   "source": [
    "len(fin_trans)"
   ]
  },
  {
   "cell_type": "markdown",
   "id": "d1ab2c66",
   "metadata": {},
   "source": [
    "Date is crucial for the given challenge, so drop the rows with nulls in 'begin_date'/'end_date' columns. Nulls in 'begin_date' and 'end_date' are in the same rows:"
   ]
  },
  {
   "cell_type": "code",
   "execution_count": 12,
   "id": "5612c0a7",
   "metadata": {
    "scrolled": true
   },
   "outputs": [
    {
     "data": {
      "text/plain": [
       "array([ True,  True,  True,  True,  True,  True])"
      ]
     },
     "execution_count": 12,
     "metadata": {},
     "output_type": "execute_result"
    }
   ],
   "source": [
    "fin_trans[fin_trans.begin_date.isna()].index == fin_trans[fin_trans.end_date.isna()].index"
   ]
  },
  {
   "cell_type": "code",
   "execution_count": 13,
   "id": "3e138fbe",
   "metadata": {},
   "outputs": [],
   "source": [
    "fin_trans = fin_trans[fin_trans.begin_date.notna()]"
   ]
  },
  {
   "cell_type": "code",
   "execution_count": 14,
   "id": "a815cb7f",
   "metadata": {},
   "outputs": [
    {
     "data": {
      "text/plain": [
       "1.0"
      ]
     },
     "execution_count": 14,
     "metadata": {},
     "output_type": "execute_result"
    }
   ],
   "source": [
    "fin_trans.begin_date.notna().mean()"
   ]
  },
  {
   "cell_type": "markdown",
   "id": "b84d6274",
   "metadata": {},
   "source": [
    "Number of transactions varies from 1 to 174. Rows with the number of transactions more than 1 are transactions combined in one row (or SAR) for some reason. It could be that such transactions were considered as parts of \"one\" or have the same transaction details. If for the purpose of the challenge only one-transaction rows should be considered, then nulls can be dropped. But keep the nulls so far and filter later if needed."
   ]
  },
  {
   "cell_type": "markdown",
   "id": "39a5f9a7",
   "metadata": {},
   "source": [
    "Have not found the transaction mentioned in the challenge description. For the same 'originator_bank', 'filer_org_name' and 'beneficiary_bank' there is no row with 15/01/2016 date. But there is a row with period (2016-01-14; 2016-01-19) (includes 15/01/2016) and total amount of 1 000 000, though number of transactions equals 2."
   ]
  },
  {
   "cell_type": "code",
   "execution_count": 15,
   "id": "e75865de",
   "metadata": {
    "scrolled": true
   },
   "outputs": [
    {
     "data": {
      "text/html": [
       "<div>\n",
       "<style scoped>\n",
       "    .dataframe tbody tr th:only-of-type {\n",
       "        vertical-align: middle;\n",
       "    }\n",
       "\n",
       "    .dataframe tbody tr th {\n",
       "        vertical-align: top;\n",
       "    }\n",
       "\n",
       "    .dataframe thead th {\n",
       "        text-align: right;\n",
       "    }\n",
       "</style>\n",
       "<table border=\"1\" class=\"dataframe\">\n",
       "  <thead>\n",
       "    <tr style=\"text-align: right;\">\n",
       "      <th></th>\n",
       "      <th>filer_org_name</th>\n",
       "      <th>originator_bank</th>\n",
       "      <th>beneficiary_bank</th>\n",
       "      <th>begin_date</th>\n",
       "      <th>end_date</th>\n",
       "      <th>number_transactions</th>\n",
       "      <th>amount_transactions</th>\n",
       "    </tr>\n",
       "  </thead>\n",
       "  <tbody>\n",
       "    <tr>\n",
       "      <th>1385</th>\n",
       "      <td>China Investment Corporation</td>\n",
       "      <td>Bank of China</td>\n",
       "      <td>Saigon Thuong Tin Commercial Joint Stock Bank</td>\n",
       "      <td>2016-02-01</td>\n",
       "      <td>2016-02-01</td>\n",
       "      <td>1.00</td>\n",
       "      <td>500000.00</td>\n",
       "    </tr>\n",
       "    <tr>\n",
       "      <th>1386</th>\n",
       "      <td>China Investment Corporation</td>\n",
       "      <td>Bank of China</td>\n",
       "      <td>Saigon Thuong Tin Commercial Joint Stock Bank</td>\n",
       "      <td>2016-05-07</td>\n",
       "      <td>2016-05-07</td>\n",
       "      <td>1.00</td>\n",
       "      <td>600000.00</td>\n",
       "    </tr>\n",
       "    <tr>\n",
       "      <th>1388</th>\n",
       "      <td>China Investment Corporation</td>\n",
       "      <td>Bank of China</td>\n",
       "      <td>Saigon Thuong Tin Commercial Joint Stock Bank</td>\n",
       "      <td>2016-01-14</td>\n",
       "      <td>2016-01-19</td>\n",
       "      <td>2.00</td>\n",
       "      <td>1000000.00</td>\n",
       "    </tr>\n",
       "    <tr>\n",
       "      <th>1391</th>\n",
       "      <td>China Investment Corporation</td>\n",
       "      <td>Bank of China</td>\n",
       "      <td>Saigon Thuong Tin Commercial Joint Stock Bank</td>\n",
       "      <td>2016-01-07</td>\n",
       "      <td>2016-01-07</td>\n",
       "      <td>1.00</td>\n",
       "      <td>1515165.60</td>\n",
       "    </tr>\n",
       "  </tbody>\n",
       "</table>\n",
       "</div>"
      ],
      "text/plain": [
       "                    filer_org_name originator_bank  \\\n",
       "1385  China Investment Corporation   Bank of China   \n",
       "1386  China Investment Corporation   Bank of China   \n",
       "1388  China Investment Corporation   Bank of China   \n",
       "1391  China Investment Corporation   Bank of China   \n",
       "\n",
       "                                   beneficiary_bank begin_date   end_date  \\\n",
       "1385  Saigon Thuong Tin Commercial Joint Stock Bank 2016-02-01 2016-02-01   \n",
       "1386  Saigon Thuong Tin Commercial Joint Stock Bank 2016-05-07 2016-05-07   \n",
       "1388  Saigon Thuong Tin Commercial Joint Stock Bank 2016-01-14 2016-01-19   \n",
       "1391  Saigon Thuong Tin Commercial Joint Stock Bank 2016-01-07 2016-01-07   \n",
       "\n",
       "      number_transactions  amount_transactions  \n",
       "1385                 1.00            500000.00  \n",
       "1386                 1.00            600000.00  \n",
       "1388                 2.00           1000000.00  \n",
       "1391                 1.00           1515165.60  "
      ]
     },
     "execution_count": 15,
     "metadata": {},
     "output_type": "execute_result"
    }
   ],
   "source": [
    "(fin_trans[(fin_trans.filer_org_name  == 'China Investment Corporation') &\n",
    "          (fin_trans.originator_bank  == 'Bank of China') &\n",
    "          (fin_trans.beneficiary_bank  == 'Saigon Thuong Tin Commercial Joint Stock Bank')]\n",
    " [['filer_org_name', 'originator_bank', 'beneficiary_bank', 'begin_date', 'end_date',\n",
    "  'number_transactions', 'amount_transactions']])"
   ]
  },
  {
   "cell_type": "markdown",
   "id": "5b0bce79",
   "metadata": {},
   "source": [
    "The dataset cover transactions from February 2000 to November 2017:"
   ]
  },
  {
   "cell_type": "code",
   "execution_count": 16,
   "id": "883c0008",
   "metadata": {
    "scrolled": true
   },
   "outputs": [
    {
     "name": "stdout",
     "output_type": "stream",
     "text": [
      "2000-02-08 00:00:00\n",
      "2017-11-03 00:00:00\n"
     ]
    }
   ],
   "source": [
    "print(fin_trans.begin_date.min())\n",
    "print(fin_trans.end_date.max())"
   ]
  },
  {
   "cell_type": "markdown",
   "id": "1098cb5e",
   "metadata": {},
   "source": [
    "<a href=\"#0\"><h4>Back to top</h4></a>"
   ]
  },
  {
   "cell_type": "markdown",
   "id": "6e0da6bf",
   "metadata": {},
   "source": [
    "<h4>Preparation of Bitcoin pricing dataset</h4>\n",
    "<p id=\"2\">"
   ]
  },
  {
   "cell_type": "code",
   "execution_count": 17,
   "id": "49572001",
   "metadata": {},
   "outputs": [],
   "source": [
    "import glob\n",
    "import os"
   ]
  },
  {
   "cell_type": "code",
   "execution_count": 18,
   "id": "88c53612",
   "metadata": {},
   "outputs": [
    {
     "data": {
      "text/html": [
       "<div>\n",
       "<style scoped>\n",
       "    .dataframe tbody tr th:only-of-type {\n",
       "        vertical-align: middle;\n",
       "    }\n",
       "\n",
       "    .dataframe tbody tr th {\n",
       "        vertical-align: top;\n",
       "    }\n",
       "\n",
       "    .dataframe thead th {\n",
       "        text-align: right;\n",
       "    }\n",
       "</style>\n",
       "<table border=\"1\" class=\"dataframe\">\n",
       "  <thead>\n",
       "    <tr style=\"text-align: right;\">\n",
       "      <th></th>\n",
       "      <th>time</th>\n",
       "      <th>price</th>\n",
       "    </tr>\n",
       "  </thead>\n",
       "  <tbody>\n",
       "    <tr>\n",
       "      <th>0</th>\n",
       "      <td>2010-07-18</td>\n",
       "      <td>0.05</td>\n",
       "    </tr>\n",
       "    <tr>\n",
       "      <th>1</th>\n",
       "      <td>2010-07-19</td>\n",
       "      <td>0.09</td>\n",
       "    </tr>\n",
       "  </tbody>\n",
       "</table>\n",
       "</div>"
      ],
      "text/plain": [
       "        time  price\n",
       "0 2010-07-18   0.05\n",
       "1 2010-07-19   0.09"
      ]
     },
     "execution_count": 18,
     "metadata": {},
     "output_type": "execute_result"
    }
   ],
   "source": [
    "price_files = glob.glob('C:/python/portfolio/english/data_analysis_python/bank_bitcoin_match/data/btc_avg_price/' + \"/*.csv\")\n",
    "prices = pd.concat((pd.read_csv(f, parse_dates=['time'], dayfirst = True) for f in price_files))\n",
    "prices.head(2)"
   ]
  },
  {
   "cell_type": "code",
   "execution_count": 19,
   "id": "8b5c631d",
   "metadata": {},
   "outputs": [
    {
     "name": "stdout",
     "output_type": "stream",
     "text": [
      "<class 'pandas.core.frame.DataFrame'>\n",
      "Int64Index: 4185 entries, 0 to 364\n",
      "Data columns (total 2 columns):\n",
      " #   Column  Non-Null Count  Dtype         \n",
      "---  ------  --------------  -----         \n",
      " 0   time    4185 non-null   datetime64[ns]\n",
      " 1   price   4013 non-null   float64       \n",
      "dtypes: datetime64[ns](1), float64(1)\n",
      "memory usage: 98.1 KB\n"
     ]
    }
   ],
   "source": [
    "prices.info()"
   ]
  },
  {
   "cell_type": "markdown",
   "id": "f4e5f3c9",
   "metadata": {},
   "source": [
    "Price is crucial for the given challenge, so drop nulls:"
   ]
  },
  {
   "cell_type": "code",
   "execution_count": 20,
   "id": "dbe4d7b7",
   "metadata": {},
   "outputs": [],
   "source": [
    "prices = prices.dropna()"
   ]
  },
  {
   "cell_type": "markdown",
   "id": "a95e1b2a",
   "metadata": {},
   "source": [
    "No duplicates:"
   ]
  },
  {
   "cell_type": "code",
   "execution_count": 21,
   "id": "2700a889",
   "metadata": {},
   "outputs": [
    {
     "data": {
      "text/plain": [
       "False    4013\n",
       "dtype: int64"
      ]
     },
     "execution_count": 21,
     "metadata": {},
     "output_type": "execute_result"
    }
   ],
   "source": [
    "prices.duplicated(keep = False).value_counts()"
   ]
  },
  {
   "cell_type": "code",
   "execution_count": 22,
   "id": "73a8dd6b",
   "metadata": {},
   "outputs": [],
   "source": [
    "prices.columns = ['date', 'price']"
   ]
  },
  {
   "cell_type": "markdown",
   "id": "5291a935",
   "metadata": {},
   "source": [
    "The dataset contains prices from July 2010 to July 2021:"
   ]
  },
  {
   "cell_type": "code",
   "execution_count": 23,
   "id": "996ecf87",
   "metadata": {},
   "outputs": [
    {
     "name": "stdout",
     "output_type": "stream",
     "text": [
      "2010-07-18 00:00:00\n",
      "2021-07-18 00:00:00\n"
     ]
    }
   ],
   "source": [
    "print(prices.date.min())\n",
    "print(prices.date.max())"
   ]
  },
  {
   "cell_type": "markdown",
   "id": "ea99e601",
   "metadata": {},
   "source": [
    "<a href=\"#0\"><h4>Back to top</h4></a>"
   ]
  },
  {
   "cell_type": "markdown",
   "id": "081e201c",
   "metadata": {},
   "source": [
    "<h4>Bitcoin transactions dataset</h4>\n",
    "<p id=\"3\">"
   ]
  },
  {
   "cell_type": "markdown",
   "id": "9bae80b8",
   "metadata": {},
   "source": [
    "<h5>Correction of csv file</h5>\n",
    "<p id=\"3.1\">"
   ]
  },
  {
   "cell_type": "markdown",
   "id": "356810ac",
   "metadata": {},
   "source": [
    "Parsing of the csv file in pandas raised the error message \"Expected 5 fields in line 12136, saw 13.\", which means that there is a line with a different number of columns. Probably there could be other errors, so discover file by line."
   ]
  },
  {
   "cell_type": "code",
   "execution_count": 24,
   "id": "715ea9e9",
   "metadata": {},
   "outputs": [],
   "source": [
    "f = open('C:\\\\python\\\\portfolio\\\\english\\\\data_analysis_python\\\\bank_bitcoin_match\\\\data\\\\btc_tx.csv')"
   ]
  },
  {
   "cell_type": "markdown",
   "id": "7352c534",
   "metadata": {},
   "source": [
    "Number of lines in the file:"
   ]
  },
  {
   "cell_type": "code",
   "execution_count": 25,
   "id": "616c5917",
   "metadata": {},
   "outputs": [
    {
     "name": "stdout",
     "output_type": "stream",
     "text": [
      "380612\n"
     ]
    }
   ],
   "source": [
    "f.seek(0)\n",
    "for i,line in enumerate(f):\n",
    "    pass\n",
    "print(i+1)"
   ]
  },
  {
   "cell_type": "markdown",
   "id": "1b29d73a",
   "metadata": {},
   "source": [
    "Column names:"
   ]
  },
  {
   "cell_type": "code",
   "execution_count": 26,
   "id": "40ac5864",
   "metadata": {},
   "outputs": [
    {
     "data": {
      "text/plain": [
       "'\"time\",\"Hash\",\"Sender\",\"Receiver\",\"Transaction_amount_BTC\"\\n'"
      ]
     },
     "execution_count": 26,
     "metadata": {},
     "output_type": "execute_result"
    }
   ],
   "source": [
    "f.seek(0)\n",
    "f.readline()"
   ]
  },
  {
   "cell_type": "markdown",
   "id": "b30aa8b3",
   "metadata": {},
   "source": [
    "First line of data:"
   ]
  },
  {
   "cell_type": "code",
   "execution_count": 27,
   "id": "52b6ba98",
   "metadata": {},
   "outputs": [
    {
     "data": {
      "text/plain": [
       "'\"2015-03-31\",\"16f27194b06bcf1f61b1531a2a861fdcd027a23242809003a051380ae398492f\",\"1BtNH4rtj3PVe6PWYsziQMnXofZmoPmGHu\",\"1PrGFmmFFeD6v9ihS74ewjAzSMmQxsQAuw\",\"5272.9999\"\\n'"
      ]
     },
     "execution_count": 27,
     "metadata": {},
     "output_type": "execute_result"
    }
   ],
   "source": [
    "f.readline()"
   ]
  },
  {
   "cell_type": "markdown",
   "id": "ab5e2c4f",
   "metadata": {},
   "source": [
    "Values in columns are put between quotation marks. Lines contain different quantity of quotation marks, better to replace in order to avoid errors:"
   ]
  },
  {
   "cell_type": "code",
   "execution_count": 28,
   "id": "644feee4",
   "metadata": {},
   "outputs": [
    {
     "data": {
      "text/plain": [
       "238"
      ]
     },
     "execution_count": 28,
     "metadata": {},
     "output_type": "execute_result"
    }
   ],
   "source": [
    "f.seek(0)\n",
    "quot_list = []\n",
    "for line in f:\n",
    "    if line.count('\"') not in quot_list:\n",
    "        quot_list.append(line.count('\"'))\n",
    "len(quot_list)"
   ]
  },
  {
   "cell_type": "markdown",
   "id": "6ee2a3ca",
   "metadata": {},
   "source": [
    "Mostly 4 commas in a line, but there are also lines with no commas and with 8 commas:"
   ]
  },
  {
   "cell_type": "code",
   "execution_count": 29,
   "id": "cce901d3",
   "metadata": {},
   "outputs": [
    {
     "data": {
      "text/plain": [
       "{4: 380400, 0: 211, 8: 1}"
      ]
     },
     "execution_count": 29,
     "metadata": {},
     "output_type": "execute_result"
    }
   ],
   "source": [
    "f.seek(0)\n",
    "n_com_dict = {}\n",
    "for line in f:\n",
    "    if line.count(',') in n_com_dict:\n",
    "        n_com_dict[line.count(',')] +=1\n",
    "    else:\n",
    "        n_com_dict[line.count(',')] = 1\n",
    "n_com_dict"
   ]
  },
  {
   "cell_type": "markdown",
   "id": "1c212243",
   "metadata": {},
   "source": [
    "The line with 8 commas looks like two sticked lines:"
   ]
  },
  {
   "cell_type": "code",
   "execution_count": 30,
   "id": "0470d96b",
   "metadata": {},
   "outputs": [
    {
     "name": "stdout",
     "output_type": "stream",
     "text": [
      "\"2015-12-01\",\"68365757c208fa14e2de0b36e97e007476e253dcdd4ae2134e3cff88a7408b66\",\"1FizmYjFiFJezoaCBVVuGQyySYX3oFbQLU\",\"16xFzWwU9AZZT4wa1Dc5rcmw7xKVbZczk7\",\"15 \" \"\"2015-12-01\",\"68365757c208fa14e2de0b36e97e007476e253dcdd4ae2134e3cff88a7408b66\",\"1FizmYjFiFJezoaCBVVuGQyySYX3oFbQLU\",\"1FVT6QaTjWDJrF4hxSXoo7pNZdLd7LdU5q\",\"0.125005\"\"\n",
      "\n"
     ]
    }
   ],
   "source": [
    "f.seek(0)\n",
    "for line in f:\n",
    "    if line.count(',') == 8:\n",
    "        print(line)"
   ]
  },
  {
   "cell_type": "markdown",
   "id": "c6cb9440",
   "metadata": {},
   "source": [
    "Lines with no commas: 203 \"empty\" lines with new line symbol and 7 lines with a number:"
   ]
  },
  {
   "cell_type": "code",
   "execution_count": 31,
   "id": "f014a071",
   "metadata": {},
   "outputs": [
    {
     "data": {
      "text/plain": [
       "{'\\n': 203, '\"20 \"\\n': 7, '\"200 \"\\n': 1}"
      ]
     },
     "execution_count": 31,
     "metadata": {},
     "output_type": "execute_result"
    }
   ],
   "source": [
    "f.seek(0)\n",
    "zero_com_dict = {}\n",
    "for line in f:\n",
    "    if line.count(',') == 0:\n",
    "        if line in zero_com_dict:\n",
    "            zero_com_dict[line] += 1\n",
    "        else:\n",
    "            zero_com_dict[line] = 1\n",
    "zero_com_dict"
   ]
  },
  {
   "cell_type": "markdown",
   "id": "471ddb04",
   "metadata": {},
   "source": [
    "Check the adjacent lines of lines with numbers:"
   ]
  },
  {
   "cell_type": "code",
   "execution_count": 32,
   "id": "1cada35f",
   "metadata": {},
   "outputs": [
    {
     "data": {
      "text/plain": [
       "8"
      ]
     },
     "execution_count": 32,
     "metadata": {},
     "output_type": "execute_result"
    }
   ],
   "source": [
    "f.seek(0)\n",
    "zero_com_list = []\n",
    "for i,line in enumerate(f):\n",
    "    if line == '\"20 \"\\n' or line == '\"200 \"\\n':\n",
    "        zero_com_list.append(i)\n",
    "len(zero_com_list)"
   ]
  },
  {
   "cell_type": "code",
   "execution_count": 33,
   "id": "1c3e8b7f",
   "metadata": {},
   "outputs": [],
   "source": [
    "zero_com_list_prev_fol = sorted(zero_com_list + [i-1 for i in zero_com_list] + [i+1 for i in zero_com_list])"
   ]
  },
  {
   "cell_type": "markdown",
   "id": "706c8df8",
   "metadata": {},
   "source": [
    "Lines with numbers look like the fifth column of preceding lines (output limited for the sake of space):"
   ]
  },
  {
   "cell_type": "code",
   "execution_count": 34,
   "id": "aa1abcc5",
   "metadata": {
    "scrolled": false
   },
   "outputs": [
    {
     "name": "stdout",
     "output_type": "stream",
     "text": [
      "\"2015-12-01\",\"4b51ee566bb05dcd24fcaa74f4305f337dc2f2fb80b7ea6dba7788dcb8ac2b58\",\"1EfURQFm4GFq5uiNDcfEm9ip5aukTgdqGm 18SLaMRnNbciHMYmu2DacF53N8VmSBCsdj\",\"38KyQwcadXTL5HA4dK1xzuUrht5oahkBEb\",\"\n",
      "\n",
      "\"20 \"\n",
      "\n",
      "\n",
      "\n"
     ]
    }
   ],
   "source": [
    "f.seek(0)\n",
    "n = 0\n",
    "for i,line in enumerate(f):\n",
    "    if i in zero_com_list_prev_fol:\n",
    "        n += 1\n",
    "        print(line)        \n",
    "        if n >= 3:\n",
    "            break"
   ]
  },
  {
   "cell_type": "markdown",
   "id": "03df5d67",
   "metadata": {},
   "source": [
    "The first column should be convertible to datetime type. No errors here:"
   ]
  },
  {
   "cell_type": "code",
   "execution_count": 35,
   "id": "b0cd95c1",
   "metadata": {},
   "outputs": [],
   "source": [
    "from datetime import datetime"
   ]
  },
  {
   "cell_type": "code",
   "execution_count": 36,
   "id": "d532ad92",
   "metadata": {},
   "outputs": [
    {
     "name": "stdout",
     "output_type": "stream",
     "text": [
      "0\n"
     ]
    }
   ],
   "source": [
    "f.seek(0)\n",
    "f.readline() # skip the header, no date there\n",
    "date_err_list = []\n",
    "for line in f:\n",
    "    if line.count(',') == 4:\n",
    "        try:\n",
    "            datetime.strptime(line.replace('\"','').strip().split(',')[0],'%Y-%m-%d')\n",
    "        except ValueError:\n",
    "            date_err_list.append(line.replace('\"','').strip().split(',')[0])\n",
    "print(len(date_err_list)) "
   ]
  },
  {
   "cell_type": "markdown",
   "id": "d143ea74",
   "metadata": {},
   "source": [
    "The last column with amount should be convertible to float type. 10 errors are found with either an empty column or letter \"d\". "
   ]
  },
  {
   "cell_type": "code",
   "execution_count": 37,
   "id": "5790f71f",
   "metadata": {
    "scrolled": true
   },
   "outputs": [
    {
     "name": "stdout",
     "output_type": "stream",
     "text": [
      "10\n"
     ]
    },
    {
     "data": {
      "text/plain": [
       "['', 'd', '', '', '', 'd', '', '', '', '']"
      ]
     },
     "execution_count": 37,
     "metadata": {},
     "output_type": "execute_result"
    }
   ],
   "source": [
    "f.seek(0)\n",
    "f.readline() # skip the header, no amount there\n",
    "amount_err_list = []\n",
    "amount_err_n_list = []\n",
    "for i,line in enumerate(f):\n",
    "    if line.count(',') == 4:\n",
    "        try:\n",
    "            float(line.replace('\"','').strip().split(',')[4])\n",
    "        except ValueError:\n",
    "            amount_err_list.append(line.replace('\"','').strip().split(',')[4])\n",
    "            amount_err_n_list.append(i)\n",
    "print(len(amount_err_list)) \n",
    "amount_err_list "
   ]
  },
  {
   "cell_type": "markdown",
   "id": "bf3ae052",
   "metadata": {},
   "source": [
    "Check the adjacent lines:"
   ]
  },
  {
   "cell_type": "code",
   "execution_count": 38,
   "id": "101f1f9e",
   "metadata": {},
   "outputs": [],
   "source": [
    "amount_err_n_list_prev_fol = sorted(amount_err_n_list + [i-1 for i in amount_err_n_list] + [i+1 for i in amount_err_n_list])"
   ]
  },
  {
   "cell_type": "markdown",
   "id": "07c6243c",
   "metadata": {},
   "source": [
    "Lines with empty amount column are the preceding lines of lines with a number, which were mentioned above (output limited for the sake of space). Lines with letter \"d\" are surrounded by correct lines, so letter \"d\" will be considered as null."
   ]
  },
  {
   "cell_type": "code",
   "execution_count": 39,
   "id": "d6e81c82",
   "metadata": {
    "scrolled": false
   },
   "outputs": [
    {
     "name": "stdout",
     "output_type": "stream",
     "text": [
      "\"2015-12-01\",\"4b51ee566bb05dcd24fcaa74f4305f337dc2f2fb80b7ea6dba7788dcb8ac2b58\",\"1EfURQFm4GFq5uiNDcfEm9ip5aukTgdqGm 18SLaMRnNbciHMYmu2DacF53N8VmSBCsdj\",\"1JHQRf87Bb7iC2kQPJYxHHfAE9WvP3ZCg7\",\"0.099\"\n",
      "\n",
      "\"2015-12-01\",\"4b51ee566bb05dcd24fcaa74f4305f337dc2f2fb80b7ea6dba7788dcb8ac2b58\",\"1EfURQFm4GFq5uiNDcfEm9ip5aukTgdqGm 18SLaMRnNbciHMYmu2DacF53N8VmSBCsdj\",\"38KyQwcadXTL5HA4dK1xzuUrht5oahkBEb\",\"\n",
      "\n",
      "\"20 \"\n",
      "\n",
      "\"2015-12-01\",\"8e86794b5979704c7a6cae2215f3f1481801353d6a8e74a3c843b07b589be991\",\"1DkhuqCSd94CQDUwLwU6SsEFbs2kd3f7ab\",\"1G8n9R85pJ7fuYDkQwStwyBNAmQYN5SKnT\",\"0.0001174\"\n",
      "\n",
      "\"2015-12-01\",\"8d5820d336b41b81390a7a0992e5a46f93912ff5a7f518659323ed47d444a6c4\",\"1JYS2cjReQrPc6gAnkjcKLFxHAbbS7MZBM\",\"14MvHWJ5tbC5pzngMqbXKQvCJafYsFYL4b\",\"d\" \"\n",
      "\n",
      "\n",
      "\n",
      "\"2015-12-01\",\"44e7e1d549d82f4478e459b7adcd27ecf1166bf1cb45791da30a139e447f59e9\",\"1DrrYDDRPTqzy7SjhQaJ6ganP7yv237wSW\",\"19ve3JWXnvMCeFaKoWpXQ8mHJxT5DHyHU2\",\"10.28765968\"\n",
      "\n"
     ]
    }
   ],
   "source": [
    "f.seek(0)\n",
    "n = 0\n",
    "f.readline() # skip the header as when list was created\n",
    "for i,line in enumerate(f):\n",
    "    if i in amount_err_n_list_prev_fol:\n",
    "        n += 1\n",
    "        print(line)     \n",
    "        if n > 6:\n",
    "            break"
   ]
  },
  {
   "cell_type": "markdown",
   "id": "6b1c008c",
   "metadata": {},
   "source": [
    "Taking into account the existing errors, it is better to rewrite the file with some corrections. "
   ]
  },
  {
   "cell_type": "markdown",
   "id": "992486a2",
   "metadata": {},
   "source": [
    "Lines divided in two require special handling. I will create a dictionary with line numbers as keys and corrected lines (stick together the lines divided in two) as values. "
   ]
  },
  {
   "cell_type": "markdown",
   "id": "3b08d5a0",
   "metadata": {},
   "source": [
    "Use list with line numbers from above:"
   ]
  },
  {
   "cell_type": "code",
   "execution_count": 40,
   "id": "36523f06",
   "metadata": {},
   "outputs": [],
   "source": [
    "n_div_lines_list = sorted(zero_com_list + [i-1 for i in zero_com_list])"
   ]
  },
  {
   "cell_type": "markdown",
   "id": "d06de7e7",
   "metadata": {},
   "source": [
    "Create list with divided lines:"
   ]
  },
  {
   "cell_type": "code",
   "execution_count": 41,
   "id": "076a09c4",
   "metadata": {
    "scrolled": false
   },
   "outputs": [],
   "source": [
    "f.seek(0)\n",
    "div_lines_list = []\n",
    "for i,line in enumerate(f):\n",
    "    if i in n_div_lines_list:\n",
    "        div_lines_list.append(line)"
   ]
  },
  {
   "cell_type": "markdown",
   "id": "f1b79a02",
   "metadata": {},
   "source": [
    "Create list that sticks divided lines together :"
   ]
  },
  {
   "cell_type": "code",
   "execution_count": 42,
   "id": "db35fc53",
   "metadata": {
    "scrolled": false
   },
   "outputs": [
    {
     "data": {
      "text/plain": [
       "['\"2015-12-01\",\"4b51ee566bb05dcd24fcaa74f4305f337dc2f2fb80b7ea6dba7788dcb8ac2b58\",\"1EfURQFm4GFq5uiNDcfEm9ip5aukTgdqGm 18SLaMRnNbciHMYmu2DacF53N8VmSBCsdj\",\"38KyQwcadXTL5HA4dK1xzuUrht5oahkBEb\",\"\"20 \"\\n',\n",
       " '\"2015-12-01\",\"44e7e1d549d82f4478e459b7adcd27ecf1166bf1cb45791da30a139e447f59e9\",\"1DrrYDDRPTqzy7SjhQaJ6ganP7yv237wSW\",\"1JuHMjQrtfWVHWJyGKwh2szuXnvEYdrYxk\",\"\"20 \"\\n']"
      ]
     },
     "execution_count": 42,
     "metadata": {},
     "output_type": "execute_result"
    }
   ],
   "source": [
    "cor_lines_list = [i.replace('\\n',div_lines_list[div_lines_list.index(i)+1]) for i in div_lines_list[::2]]\n",
    "cor_lines_list[:2]"
   ]
  },
  {
   "cell_type": "markdown",
   "id": "50801d9a",
   "metadata": {},
   "source": [
    "Finally, dictionary with line numbers as keys and corrected lines:"
   ]
  },
  {
   "cell_type": "code",
   "execution_count": 43,
   "id": "9176fd22",
   "metadata": {},
   "outputs": [],
   "source": [
    "cor_lines_dict = dict(zip(n_div_lines_list[::2], cor_lines_list))"
   ]
  },
  {
   "cell_type": "markdown",
   "id": "15843331",
   "metadata": {},
   "source": [
    "Write a new file with corrections:\n",
    "* skip lines without commas (\"empty\" (new line symbol) and second part of lines divided in two)\n",
    "* write lines with 4 commas\n",
    "* if line contains 4 commas and empty amount column (first part of line divided in two), take line from cor_lines_dict\n",
    "* if line contains 4 commas and letter in amount column, replace letter with new line symbol\n",
    "* if line contains 8 commas, replace space between sticked lines with new line symbol\n",
    "* replace quotation marks"
   ]
  },
  {
   "cell_type": "code",
   "execution_count": 44,
   "id": "67d2df41",
   "metadata": {},
   "outputs": [],
   "source": [
    "with open('C:\\\\python\\\\portfolio\\\\english\\\\data_analysis_python\\\\bank_bitcoin_match\\\\data\\\\btc_tx.csv', 'r') as f:\n",
    "    with open('C:\\\\python\\\\portfolio\\\\english\\\\data_analysis_python\\\\bank_bitcoin_match\\\\btc_tx_edit.csv', 'w') as fwrite:\n",
    "        for i,line in enumerate(f):\n",
    "            if line.count(',') == 4:\n",
    "                line_list = line.replace('\"','').split(',')\n",
    "                if line_list[4] == '\\n':\n",
    "                    fwrite.write(cor_lines_dict[i].replace('\"',''))\n",
    "                elif str.isalpha(line_list[4].strip()):\n",
    "                    line_list[4] = '\\n'\n",
    "                    fwrite.write(','.join(line_list))\n",
    "                else:\n",
    "                    fwrite.write(line.replace('\"','')) \n",
    "            elif line.count(',') == 8:\n",
    "                fwrite.write(line.replace('\" \"','\\n').replace('\"',''))  "
   ]
  },
  {
   "cell_type": "markdown",
   "id": "8424f011",
   "metadata": {},
   "source": [
    "Excluding header the initial file contains 380611 lines: 1 sticked, 203 empty, 16 lines as parts of 8 divided lines, 2 lines with letter 'd', 380389 normal lines.\n",
    "The corrected file should contain: 380389 normal lines, 2 lines instead of 1 sticked line, 8 instead of divided, 2 with empty amount instead of letter d, in total 380401 (excl. header)."
   ]
  },
  {
   "cell_type": "markdown",
   "id": "7d67a388",
   "metadata": {},
   "source": [
    "<h5>Preparation of dataframe</h5>\n",
    "<p id=\"3.2\">"
   ]
  },
  {
   "cell_type": "markdown",
   "id": "51a3b827",
   "metadata": {},
   "source": [
    "Read the corrected file. Number of lines in the dataframe is 380401 as expected, non-null's in the amount column is 380399 as expected."
   ]
  },
  {
   "cell_type": "code",
   "execution_count": 45,
   "id": "4364efc1",
   "metadata": {
    "scrolled": false
   },
   "outputs": [
    {
     "name": "stdout",
     "output_type": "stream",
     "text": [
      "<class 'pandas.core.frame.DataFrame'>\n",
      "RangeIndex: 380401 entries, 0 to 380400\n",
      "Data columns (total 5 columns):\n",
      " #   Column      Non-Null Count   Dtype         \n",
      "---  ------      --------------   -----         \n",
      " 0   date        380401 non-null  datetime64[ns]\n",
      " 1   hash        380401 non-null  object        \n",
      " 2   sender      380401 non-null  object        \n",
      " 3   receiver    380401 non-null  object        \n",
      " 4   btc_amount  380399 non-null  float64       \n",
      "dtypes: datetime64[ns](1), float64(1), object(3)\n",
      "memory usage: 14.5+ MB\n"
     ]
    }
   ],
   "source": [
    "bit_trans_raw = pd.read_csv('C:\\\\python\\\\portfolio\\\\english\\\\data_analysis_python\\\\bank_bitcoin_match\\\\btc_tx_edit.csv', header = 0,\n",
    "                        names = ['date','hash','sender','receiver','btc_amount'],\n",
    "                       dtype = {'amount': 'float64'}, parse_dates = ['date'], dayfirst = True)\n",
    "bit_trans_raw.info()"
   ]
  },
  {
   "cell_type": "markdown",
   "id": "5e467700",
   "metadata": {},
   "source": [
    "Add index column for further identification of rows:"
   ]
  },
  {
   "cell_type": "code",
   "execution_count": 46,
   "id": "b5a6d34c",
   "metadata": {},
   "outputs": [],
   "source": [
    "bit_trans_raw = bit_trans_raw.reset_index()"
   ]
  },
  {
   "cell_type": "code",
   "execution_count": 47,
   "id": "311bc615",
   "metadata": {},
   "outputs": [],
   "source": [
    "bit_trans_raw.rename(columns = {'index': 'btc_id'}, inplace = True)"
   ]
  },
  {
   "cell_type": "code",
   "execution_count": 48,
   "id": "54213563",
   "metadata": {},
   "outputs": [],
   "source": [
    "bit_trans = bit_trans_raw.copy()"
   ]
  },
  {
   "cell_type": "markdown",
   "id": "79388d51",
   "metadata": {},
   "source": [
    "As I understand, hash is a unique identifier of a transaction. Hash column may contain duplicates in the dataset, if a transaction has several outputs. The following example has one input and two outputs (same information in blockchain.com Bitcoin Explorer):"
   ]
  },
  {
   "cell_type": "code",
   "execution_count": 49,
   "id": "25a2da84",
   "metadata": {
    "scrolled": true
   },
   "outputs": [
    {
     "name": "stdout",
     "output_type": "stream",
     "text": [
      "000036257c6cbbfebf7563784a77fd8fe6d7959d09b439e64f5e9779845af38f\n"
     ]
    },
    {
     "data": {
      "text/html": [
       "<div>\n",
       "<style scoped>\n",
       "    .dataframe tbody tr th:only-of-type {\n",
       "        vertical-align: middle;\n",
       "    }\n",
       "\n",
       "    .dataframe tbody tr th {\n",
       "        vertical-align: top;\n",
       "    }\n",
       "\n",
       "    .dataframe thead th {\n",
       "        text-align: right;\n",
       "    }\n",
       "</style>\n",
       "<table border=\"1\" class=\"dataframe\">\n",
       "  <thead>\n",
       "    <tr style=\"text-align: right;\">\n",
       "      <th></th>\n",
       "      <th>btc_id</th>\n",
       "      <th>date</th>\n",
       "      <th>hash</th>\n",
       "      <th>sender</th>\n",
       "      <th>receiver</th>\n",
       "      <th>btc_amount</th>\n",
       "    </tr>\n",
       "  </thead>\n",
       "  <tbody>\n",
       "    <tr>\n",
       "      <th>379441</th>\n",
       "      <td>379441</td>\n",
       "      <td>2017-11-18</td>\n",
       "      <td>000036257c6cbbfebf7563784a77fd8fe6d7959d09b439...</td>\n",
       "      <td>1JkVnvHAzWH8GWvPcbCVUSvAXZx9GjJ8MT</td>\n",
       "      <td>12Qz34GgptbTPd2vRg4AEsmhPATAb9i2LT</td>\n",
       "      <td>0.01</td>\n",
       "    </tr>\n",
       "    <tr>\n",
       "      <th>379442</th>\n",
       "      <td>379442</td>\n",
       "      <td>2017-11-18</td>\n",
       "      <td>000036257c6cbbfebf7563784a77fd8fe6d7959d09b439...</td>\n",
       "      <td>1JkVnvHAzWH8GWvPcbCVUSvAXZx9GjJ8MT</td>\n",
       "      <td>1JYUEhNRMZ6v3kh5YiPJ6V6vGTLXJ3ii6Z</td>\n",
       "      <td>0.05</td>\n",
       "    </tr>\n",
       "  </tbody>\n",
       "</table>\n",
       "</div>"
      ],
      "text/plain": [
       "        btc_id       date                                               hash  \\\n",
       "379441  379441 2017-11-18  000036257c6cbbfebf7563784a77fd8fe6d7959d09b439...   \n",
       "379442  379442 2017-11-18  000036257c6cbbfebf7563784a77fd8fe6d7959d09b439...   \n",
       "\n",
       "                                    sender  \\\n",
       "379441  1JkVnvHAzWH8GWvPcbCVUSvAXZx9GjJ8MT   \n",
       "379442  1JkVnvHAzWH8GWvPcbCVUSvAXZx9GjJ8MT   \n",
       "\n",
       "                                  receiver  btc_amount  \n",
       "379441  12Qz34GgptbTPd2vRg4AEsmhPATAb9i2LT        0.01  \n",
       "379442  1JYUEhNRMZ6v3kh5YiPJ6V6vGTLXJ3ii6Z        0.05  "
      ]
     },
     "execution_count": 49,
     "metadata": {},
     "output_type": "execute_result"
    }
   ],
   "source": [
    "d1 = bit_trans.groupby('hash').sender.count().to_frame()\n",
    "ind = d1[d1.sender == 2].head(1).index[0]\n",
    "print(ind)\n",
    "bit_trans[bit_trans.hash == ind]"
   ]
  },
  {
   "cell_type": "markdown",
   "id": "f18b5e99",
   "metadata": {},
   "source": [
    "Though for the following transaction with one output in the dataset, Explorer shows two outputs. Maybe it has to do with change addresses, which for some reason are not reflected in the dataset. "
   ]
  },
  {
   "cell_type": "code",
   "execution_count": 50,
   "id": "de0d19ac",
   "metadata": {},
   "outputs": [
    {
     "name": "stdout",
     "output_type": "stream",
     "text": [
      "0000202bee229509e00bfe9dc8dc264222487feb595585a72ab4188eb8b4737b\n"
     ]
    },
    {
     "data": {
      "text/html": [
       "<div>\n",
       "<style scoped>\n",
       "    .dataframe tbody tr th:only-of-type {\n",
       "        vertical-align: middle;\n",
       "    }\n",
       "\n",
       "    .dataframe tbody tr th {\n",
       "        vertical-align: top;\n",
       "    }\n",
       "\n",
       "    .dataframe thead th {\n",
       "        text-align: right;\n",
       "    }\n",
       "</style>\n",
       "<table border=\"1\" class=\"dataframe\">\n",
       "  <thead>\n",
       "    <tr style=\"text-align: right;\">\n",
       "      <th></th>\n",
       "      <th>btc_id</th>\n",
       "      <th>date</th>\n",
       "      <th>hash</th>\n",
       "      <th>sender</th>\n",
       "      <th>receiver</th>\n",
       "      <th>btc_amount</th>\n",
       "    </tr>\n",
       "  </thead>\n",
       "  <tbody>\n",
       "    <tr>\n",
       "      <th>15522</th>\n",
       "      <td>15522</td>\n",
       "      <td>2015-09-01</td>\n",
       "      <td>0000202bee229509e00bfe9dc8dc264222487feb595585...</td>\n",
       "      <td>1KBkPZABB1WuxzVtFQpd9ZkMCf1Y4hcAfC</td>\n",
       "      <td>18C2Ngbi969fDtpCd9VsTdGwptTRdNSn8m</td>\n",
       "      <td>0.16</td>\n",
       "    </tr>\n",
       "  </tbody>\n",
       "</table>\n",
       "</div>"
      ],
      "text/plain": [
       "       btc_id       date                                               hash  \\\n",
       "15522   15522 2015-09-01  0000202bee229509e00bfe9dc8dc264222487feb595585...   \n",
       "\n",
       "                                   sender                            receiver  \\\n",
       "15522  1KBkPZABB1WuxzVtFQpd9ZkMCf1Y4hcAfC  18C2Ngbi969fDtpCd9VsTdGwptTRdNSn8m   \n",
       "\n",
       "       btc_amount  \n",
       "15522        0.16  "
      ]
     },
     "execution_count": 50,
     "metadata": {},
     "output_type": "execute_result"
    }
   ],
   "source": [
    "ind = d1[d1.sender == 1].head(1).index[0]\n",
    "print(ind)\n",
    "bit_trans[bit_trans.hash == ind]"
   ]
  },
  {
   "cell_type": "markdown",
   "id": "97c7c1fd",
   "metadata": {},
   "source": [
    "If a transaction has several inputs, then the sender column in the dataset contains a combination of input addresses with space as delimiter. The following example has combination of 40 addresses as sender. Though according to Bitcoin Explorer there are more inputs. Looks like the difference is in repeated input addresses."
   ]
  },
  {
   "cell_type": "code",
   "execution_count": 51,
   "id": "8827c7c5",
   "metadata": {},
   "outputs": [
    {
     "name": "stdout",
     "output_type": "stream",
     "text": [
      "40\n",
      "['19xaJXs47oYBAG3qpC8RGX3QL9GE9u3SuC 1BtYjety93yJsGJ7C4ymRL7xCvJV2ZcAnw 1CKg8wnN5JSfHTH9EgHHM9nyoyoDYNNgZ5 18b5RpqghTJFDtHAHEdhinvBD8fm9436b6 1HnRS9Rc64qr9c25pdRrwfR1ezonh7Mcqt 1EZwb6BrkLogZ3si8bb7HhTNHLRA4XLnrZ 1Q4Eh49speknqDmtky7tB1ECwGT2fC2LLd 1Ab9sQGiNZzJLNizaAmeEN5Pe8LkKoPTSc 1Fu94UN8gFT8rHFeM4Kie8NtvDhwR6z5QB 1MgFQYBGu7jQey5ritabjdBG6inCVm28VL 19oijYtgqx82iueBw28XE5wY8q5e3ckM6Y 19aoVB6gwxA7dLqxG6LjXfcb2ckKHBFBFR 16S3kJ2sHNisArxoxzKQo9YezJx1w5rJek 1FZoLEyoigVNbHQj8QBkPF5x2w2XGnBGF2 1FJh4syedmSAXTPfeKFiknKkTareFTkNup 1FNRfLskRPb8g9UWs1joXPFeiRcSBw6ort 17KBz3SZTF5aVUwGM2Qn5pnXCgW2mro78T 1D3wvF3nQoqwaBBsne7LqRNFCCJKjKdh3c 1Kfa5nAmxEt1jgpN4bCKQsvc3fAXjjbWJH 1dqoYnG5LVoLv2huQrJ9j9Sj8KEpEewQM 17vQUUHbRefMR7a7tESFHertN9cyub5kbW 12kDGTBah7xRKH4iGpEv6SiqMNhH93DYVG 1CDtHEUHK59Dek7Guh7bvx2Socdvkzrjcc 1E4WJSE6PTDYduteimqcKSWKrgpMZ9YkX5 1HpDFZmfAcvSBV3G2VQGZTxyz14NFMMJhi 1HS25qdBYYQx83AP5zkH24WW9WmBL2W5ke 1QAEAWdg7t4cQFpUaptKJAny1MM9vJi8f2 1Jvz58L6fNVgkvN3tUm9J1JjaspkrREtyA 19Tyw3seUSUcCXaJz7ahRR8dARDWTfBdvc 1BNk1cxkmbymgPGJoJBhXU5Ys3Gt6QraTg 1KLEVY1hNJD7XUv9vcMU5QepQwnGTTH8HZ 1KJ1JKqUhnNbDH1MwR6Rqo7Wtch9sdM6JR 14vguTar3wnQrtp69C5bp2KhEf37bEPUvy 14yjVv5d6bWzeVLdP8WhnYYJaroQvMnmek 1Di9XFWS1uUXnPVkjBqnx6T8evPXK1Whm4 1EHPVu8neYRC1EFZHhDdcQ6koA22Wzv3LU 19KaTBdSQJAkfTYzq8MVKMUYNjDFcRvJH4 1DsVqgFxXJ4ECDjXeukggVxjcunhnm9ZWv 1Ep6qNU28CuxwwJy6ErBu374caXRCvaa4H 1ERmiYLdtYAhzW3MGzdqmh5pqY1mGvK1fe']\n"
     ]
    },
    {
     "data": {
      "text/html": [
       "<div>\n",
       "<style scoped>\n",
       "    .dataframe tbody tr th:only-of-type {\n",
       "        vertical-align: middle;\n",
       "    }\n",
       "\n",
       "    .dataframe tbody tr th {\n",
       "        vertical-align: top;\n",
       "    }\n",
       "\n",
       "    .dataframe thead th {\n",
       "        text-align: right;\n",
       "    }\n",
       "</style>\n",
       "<table border=\"1\" class=\"dataframe\">\n",
       "  <thead>\n",
       "    <tr style=\"text-align: right;\">\n",
       "      <th></th>\n",
       "      <th>btc_id</th>\n",
       "      <th>date</th>\n",
       "      <th>hash</th>\n",
       "      <th>sender</th>\n",
       "      <th>receiver</th>\n",
       "      <th>btc_amount</th>\n",
       "    </tr>\n",
       "  </thead>\n",
       "  <tbody>\n",
       "    <tr>\n",
       "      <th>23</th>\n",
       "      <td>23</td>\n",
       "      <td>2015-03-24</td>\n",
       "      <td>90143fe02d3733c504aeb8782585bab4f126c9df74c252...</td>\n",
       "      <td>19xaJXs47oYBAG3qpC8RGX3QL9GE9u3SuC 1BtYjety93y...</td>\n",
       "      <td>1847RuqTC9TuBDQeDno1gHAr6TsjvUpwtt</td>\n",
       "      <td>5000.00</td>\n",
       "    </tr>\n",
       "    <tr>\n",
       "      <th>24</th>\n",
       "      <td>24</td>\n",
       "      <td>2015-03-24</td>\n",
       "      <td>90143fe02d3733c504aeb8782585bab4f126c9df74c252...</td>\n",
       "      <td>19xaJXs47oYBAG3qpC8RGX3QL9GE9u3SuC 1BtYjety93y...</td>\n",
       "      <td>18uvUoZuDFXaPjKBDHu8w2PNYqY6dXDs8G</td>\n",
       "      <td>12458.36</td>\n",
       "    </tr>\n",
       "  </tbody>\n",
       "</table>\n",
       "</div>"
      ],
      "text/plain": [
       "    btc_id       date                                               hash  \\\n",
       "23      23 2015-03-24  90143fe02d3733c504aeb8782585bab4f126c9df74c252...   \n",
       "24      24 2015-03-24  90143fe02d3733c504aeb8782585bab4f126c9df74c252...   \n",
       "\n",
       "                                               sender  \\\n",
       "23  19xaJXs47oYBAG3qpC8RGX3QL9GE9u3SuC 1BtYjety93y...   \n",
       "24  19xaJXs47oYBAG3qpC8RGX3QL9GE9u3SuC 1BtYjety93y...   \n",
       "\n",
       "                              receiver  btc_amount  \n",
       "23  1847RuqTC9TuBDQeDno1gHAr6TsjvUpwtt     5000.00  \n",
       "24  18uvUoZuDFXaPjKBDHu8w2PNYqY6dXDs8G    12458.36  "
      ]
     },
     "execution_count": 51,
     "metadata": {},
     "output_type": "execute_result"
    }
   ],
   "source": [
    "h2 = bit_trans[(bit_trans.hash.isin(d1[d1.sender > 1].index)) & (bit_trans.sender.str.contains(' '))].head(1).reset_index().loc[0,'hash']\n",
    "add2 = bit_trans[bit_trans.hash == h2].sender.unique()\n",
    "print(len(add2[0].split(' ')))\n",
    "print(add2)\n",
    "bit_trans[bit_trans.hash == h2]"
   ]
  },
  {
   "cell_type": "markdown",
   "id": "8ab16241",
   "metadata": {},
   "source": [
    "When a transaction has several outputs, the sender column in the dataset contains the same value for each row of dataset/output of transaction. There is only one exception with two different values in the sender column. This transaction has 68 outputs. Values in sender column contain either 182 addresses (with space delimiter) (same information in Bitcoin Explorer) or 358 addresses. Probably this is a data collection error."
   ]
  },
  {
   "cell_type": "code",
   "execution_count": 52,
   "id": "e501bfab",
   "metadata": {},
   "outputs": [
    {
     "data": {
      "text/html": [
       "<div>\n",
       "<style scoped>\n",
       "    .dataframe tbody tr th:only-of-type {\n",
       "        vertical-align: middle;\n",
       "    }\n",
       "\n",
       "    .dataframe tbody tr th {\n",
       "        vertical-align: top;\n",
       "    }\n",
       "\n",
       "    .dataframe thead th {\n",
       "        text-align: right;\n",
       "    }\n",
       "</style>\n",
       "<table border=\"1\" class=\"dataframe\">\n",
       "  <thead>\n",
       "    <tr style=\"text-align: right;\">\n",
       "      <th></th>\n",
       "      <th>sender</th>\n",
       "    </tr>\n",
       "    <tr>\n",
       "      <th>hash</th>\n",
       "      <th></th>\n",
       "    </tr>\n",
       "  </thead>\n",
       "  <tbody>\n",
       "    <tr>\n",
       "      <th>7b3461bc54a12e14cd303518d70d29e81711253b22dc6e668c8a0ee11ca4ee40</th>\n",
       "      <td>2</td>\n",
       "    </tr>\n",
       "    <tr>\n",
       "      <th>0000202bee229509e00bfe9dc8dc264222487feb595585a72ab4188eb8b4737b</th>\n",
       "      <td>1</td>\n",
       "    </tr>\n",
       "    <tr>\n",
       "      <th>aad8e37f73992b321b893d57803e986004f9eb36f40e7155dd0bfbd540e84d3c</th>\n",
       "      <td>1</td>\n",
       "    </tr>\n",
       "    <tr>\n",
       "      <th>aad5dc8acaeb024e8151f1a2898c2a2ae87054721551ec42f0ec15f14d871a75</th>\n",
       "      <td>1</td>\n",
       "    </tr>\n",
       "    <tr>\n",
       "      <th>aad63b2205a00472a03649210ed71cdd13a1978668eb0f68318b12da59e7b575</th>\n",
       "      <td>1</td>\n",
       "    </tr>\n",
       "  </tbody>\n",
       "</table>\n",
       "</div>"
      ],
      "text/plain": [
       "                                                    sender\n",
       "hash                                                      \n",
       "7b3461bc54a12e14cd303518d70d29e81711253b22dc6e6...       2\n",
       "0000202bee229509e00bfe9dc8dc264222487feb595585a...       1\n",
       "aad8e37f73992b321b893d57803e986004f9eb36f40e715...       1\n",
       "aad5dc8acaeb024e8151f1a2898c2a2ae87054721551ec4...       1\n",
       "aad63b2205a00472a03649210ed71cdd13a1978668eb0f6...       1"
      ]
     },
     "execution_count": 52,
     "metadata": {},
     "output_type": "execute_result"
    }
   ],
   "source": [
    "d3 = bit_trans.groupby('hash').sender.nunique().to_frame().sort_values('sender', ascending = False).head()\n",
    "d3"
   ]
  },
  {
   "cell_type": "code",
   "execution_count": 53,
   "id": "23eab950",
   "metadata": {},
   "outputs": [
    {
     "data": {
      "text/plain": [
       "68"
      ]
     },
     "execution_count": 53,
     "metadata": {},
     "output_type": "execute_result"
    }
   ],
   "source": [
    "len(bit_trans[bit_trans.hash == d3.head(1).index[0]])"
   ]
  },
  {
   "cell_type": "code",
   "execution_count": 54,
   "id": "bb4787db",
   "metadata": {},
   "outputs": [
    {
     "data": {
      "text/plain": [
       "181"
      ]
     },
     "execution_count": 54,
     "metadata": {},
     "output_type": "execute_result"
    }
   ],
   "source": [
    "bit_trans[bit_trans.hash == d3.head(1).index[0]].sender.unique()[0].count(' ')"
   ]
  },
  {
   "cell_type": "code",
   "execution_count": 55,
   "id": "03acd0d8",
   "metadata": {},
   "outputs": [
    {
     "data": {
      "text/plain": [
       "357"
      ]
     },
     "execution_count": 55,
     "metadata": {},
     "output_type": "execute_result"
    }
   ],
   "source": [
    "bit_trans[bit_trans.hash == d3.head(1).index[0]].sender.unique()[1].count(' ')"
   ]
  },
  {
   "cell_type": "markdown",
   "id": "b48c301b",
   "metadata": {},
   "source": [
    "Check duplicates (excluding index column) - 21831 rows in the dataset. Duplicate rows have a very different number of duplicates: from 2 to several hundreds."
   ]
  },
  {
   "cell_type": "code",
   "execution_count": 56,
   "id": "ed66c823",
   "metadata": {},
   "outputs": [
    {
     "data": {
      "text/plain": [
       "False    358570\n",
       "True      21831\n",
       "dtype: int64"
      ]
     },
     "execution_count": 56,
     "metadata": {},
     "output_type": "execute_result"
    }
   ],
   "source": [
    "bit_trans.duplicated(list(bit_trans.columns[1:]), keep = False).value_counts()"
   ]
  },
  {
   "cell_type": "code",
   "execution_count": 57,
   "id": "a7e6a303",
   "metadata": {},
   "outputs": [
    {
     "data": {
      "text/plain": [
       "array([  1,   2,   8,   5,   9,   3, 147,   4,   6, 166,  10,   7, 843,\n",
       "       281, 500, 100,  50,  15], dtype=int64)"
      ]
     },
     "execution_count": 57,
     "metadata": {},
     "output_type": "execute_result"
    }
   ],
   "source": [
    "bit_trans.groupby(list(bit_trans.columns[1:])).count()['btc_id'].unique()"
   ]
  },
  {
   "cell_type": "markdown",
   "id": "7a6b3d10",
   "metadata": {},
   "source": [
    "Compare some duplicates with information from the Explorer:"
   ]
  },
  {
   "cell_type": "code",
   "execution_count": 58,
   "id": "4dc11111",
   "metadata": {
    "scrolled": true
   },
   "outputs": [],
   "source": [
    "bit_dupl = bit_trans[bit_trans.duplicated(list(bit_trans.columns[1:]), keep = False)]"
   ]
  },
  {
   "cell_type": "markdown",
   "id": "7c85a036",
   "metadata": {},
   "source": [
    "In Bitcoin Explorer the following transaction has the same sender, but there are two outputs with different amounts. One output is present in the dataset and duplicated. Another output is not mentioned in the dataset."
   ]
  },
  {
   "cell_type": "code",
   "execution_count": 59,
   "id": "7ad6a8c4",
   "metadata": {
    "scrolled": false
   },
   "outputs": [
    {
     "name": "stdout",
     "output_type": "stream",
     "text": [
      "f80aa5a73f114d65d0a961e7803dfb87f430916339a9034a024b878de868e041\n"
     ]
    },
    {
     "data": {
      "text/html": [
       "<div>\n",
       "<style scoped>\n",
       "    .dataframe tbody tr th:only-of-type {\n",
       "        vertical-align: middle;\n",
       "    }\n",
       "\n",
       "    .dataframe tbody tr th {\n",
       "        vertical-align: top;\n",
       "    }\n",
       "\n",
       "    .dataframe thead th {\n",
       "        text-align: right;\n",
       "    }\n",
       "</style>\n",
       "<table border=\"1\" class=\"dataframe\">\n",
       "  <thead>\n",
       "    <tr style=\"text-align: right;\">\n",
       "      <th></th>\n",
       "      <th>btc_id</th>\n",
       "      <th>date</th>\n",
       "      <th>hash</th>\n",
       "      <th>sender</th>\n",
       "      <th>receiver</th>\n",
       "      <th>btc_amount</th>\n",
       "    </tr>\n",
       "  </thead>\n",
       "  <tbody>\n",
       "    <tr>\n",
       "      <th>95</th>\n",
       "      <td>95</td>\n",
       "      <td>2015-03-18</td>\n",
       "      <td>f80aa5a73f114d65d0a961e7803dfb87f430916339a903...</td>\n",
       "      <td>1AGXrUBcCyN3kaTGP3Lu53oVdMKeTmK2n7</td>\n",
       "      <td>1N2ynh4NN7LigtBDZhNEr8sUtcneDCwdAL</td>\n",
       "      <td>4223.08</td>\n",
       "    </tr>\n",
       "    <tr>\n",
       "      <th>96</th>\n",
       "      <td>96</td>\n",
       "      <td>2015-03-18</td>\n",
       "      <td>f80aa5a73f114d65d0a961e7803dfb87f430916339a903...</td>\n",
       "      <td>1AGXrUBcCyN3kaTGP3Lu53oVdMKeTmK2n7</td>\n",
       "      <td>1N2ynh4NN7LigtBDZhNEr8sUtcneDCwdAL</td>\n",
       "      <td>4223.08</td>\n",
       "    </tr>\n",
       "  </tbody>\n",
       "</table>\n",
       "</div>"
      ],
      "text/plain": [
       "    btc_id       date                                               hash  \\\n",
       "95      95 2015-03-18  f80aa5a73f114d65d0a961e7803dfb87f430916339a903...   \n",
       "96      96 2015-03-18  f80aa5a73f114d65d0a961e7803dfb87f430916339a903...   \n",
       "\n",
       "                                sender                            receiver  \\\n",
       "95  1AGXrUBcCyN3kaTGP3Lu53oVdMKeTmK2n7  1N2ynh4NN7LigtBDZhNEr8sUtcneDCwdAL   \n",
       "96  1AGXrUBcCyN3kaTGP3Lu53oVdMKeTmK2n7  1N2ynh4NN7LigtBDZhNEr8sUtcneDCwdAL   \n",
       "\n",
       "    btc_amount  \n",
       "95     4223.08  \n",
       "96     4223.08  "
      ]
     },
     "execution_count": 59,
     "metadata": {},
     "output_type": "execute_result"
    }
   ],
   "source": [
    "ind = bit_dupl.head().index[0]\n",
    "print(bit_dupl.head().loc[ind,'hash'])\n",
    "bit_trans[bit_trans.hash == bit_dupl.head().loc[ind,'hash']]"
   ]
  },
  {
   "cell_type": "markdown",
   "id": "f738e762",
   "metadata": {},
   "source": [
    "Same with the following transaction. Maybe it is a kind of data collection error."
   ]
  },
  {
   "cell_type": "code",
   "execution_count": 60,
   "id": "9e44a999",
   "metadata": {},
   "outputs": [
    {
     "name": "stdout",
     "output_type": "stream",
     "text": [
      "b1e62c1fa199c24a459f8a13455a43ef7b4642dd6bbae870867f4d41306f8478\n"
     ]
    },
    {
     "data": {
      "text/html": [
       "<div>\n",
       "<style scoped>\n",
       "    .dataframe tbody tr th:only-of-type {\n",
       "        vertical-align: middle;\n",
       "    }\n",
       "\n",
       "    .dataframe tbody tr th {\n",
       "        vertical-align: top;\n",
       "    }\n",
       "\n",
       "    .dataframe thead th {\n",
       "        text-align: right;\n",
       "    }\n",
       "</style>\n",
       "<table border=\"1\" class=\"dataframe\">\n",
       "  <thead>\n",
       "    <tr style=\"text-align: right;\">\n",
       "      <th></th>\n",
       "      <th>btc_id</th>\n",
       "      <th>date</th>\n",
       "      <th>hash</th>\n",
       "      <th>sender</th>\n",
       "      <th>receiver</th>\n",
       "      <th>btc_amount</th>\n",
       "    </tr>\n",
       "  </thead>\n",
       "  <tbody>\n",
       "    <tr>\n",
       "      <th>176</th>\n",
       "      <td>176</td>\n",
       "      <td>2015-03-14</td>\n",
       "      <td>b1e62c1fa199c24a459f8a13455a43ef7b4642dd6bbae8...</td>\n",
       "      <td>1Q7YVjnkLaG7DctWgwkRhUEWWPhuPsKDM8</td>\n",
       "      <td>15CHLB3QyWQKEjDAzCyzmhccTsqtj7XXtt</td>\n",
       "      <td>5965.55</td>\n",
       "    </tr>\n",
       "    <tr>\n",
       "      <th>177</th>\n",
       "      <td>177</td>\n",
       "      <td>2015-03-14</td>\n",
       "      <td>b1e62c1fa199c24a459f8a13455a43ef7b4642dd6bbae8...</td>\n",
       "      <td>1Q7YVjnkLaG7DctWgwkRhUEWWPhuPsKDM8</td>\n",
       "      <td>15CHLB3QyWQKEjDAzCyzmhccTsqtj7XXtt</td>\n",
       "      <td>5965.55</td>\n",
       "    </tr>\n",
       "  </tbody>\n",
       "</table>\n",
       "</div>"
      ],
      "text/plain": [
       "     btc_id       date                                               hash  \\\n",
       "176     176 2015-03-14  b1e62c1fa199c24a459f8a13455a43ef7b4642dd6bbae8...   \n",
       "177     177 2015-03-14  b1e62c1fa199c24a459f8a13455a43ef7b4642dd6bbae8...   \n",
       "\n",
       "                                 sender                            receiver  \\\n",
       "176  1Q7YVjnkLaG7DctWgwkRhUEWWPhuPsKDM8  15CHLB3QyWQKEjDAzCyzmhccTsqtj7XXtt   \n",
       "177  1Q7YVjnkLaG7DctWgwkRhUEWWPhuPsKDM8  15CHLB3QyWQKEjDAzCyzmhccTsqtj7XXtt   \n",
       "\n",
       "     btc_amount  \n",
       "176     5965.55  \n",
       "177     5965.55  "
      ]
     },
     "execution_count": 60,
     "metadata": {},
     "output_type": "execute_result"
    }
   ],
   "source": [
    "ind = bit_dupl.head().index[2]\n",
    "print(bit_dupl.head().loc[ind,'hash'])\n",
    "bit_trans[bit_trans.hash == bit_dupl.head().loc[ind,'hash']]"
   ]
  },
  {
   "cell_type": "markdown",
   "id": "b937f93b",
   "metadata": {},
   "source": [
    "For the following transaction two outputs with 0.688 amount are actually reflected in the Explorer. And the same situation is with some other transactions."
   ]
  },
  {
   "cell_type": "code",
   "execution_count": 61,
   "id": "256b1fda",
   "metadata": {
    "scrolled": true
   },
   "outputs": [
    {
     "name": "stdout",
     "output_type": "stream",
     "text": [
      "33c0f0a3165423c94c70c7f4a7181dade2f831868f4be5555ac827099676b9d7\n"
     ]
    },
    {
     "data": {
      "text/html": [
       "<div>\n",
       "<style scoped>\n",
       "    .dataframe tbody tr th:only-of-type {\n",
       "        vertical-align: middle;\n",
       "    }\n",
       "\n",
       "    .dataframe tbody tr th {\n",
       "        vertical-align: top;\n",
       "    }\n",
       "\n",
       "    .dataframe thead th {\n",
       "        text-align: right;\n",
       "    }\n",
       "</style>\n",
       "<table border=\"1\" class=\"dataframe\">\n",
       "  <thead>\n",
       "    <tr style=\"text-align: right;\">\n",
       "      <th></th>\n",
       "      <th>btc_id</th>\n",
       "      <th>date</th>\n",
       "      <th>hash</th>\n",
       "      <th>sender</th>\n",
       "      <th>receiver</th>\n",
       "      <th>btc_amount</th>\n",
       "    </tr>\n",
       "  </thead>\n",
       "  <tbody>\n",
       "    <tr>\n",
       "      <th>338833</th>\n",
       "      <td>338833</td>\n",
       "      <td>2017-11-18</td>\n",
       "      <td>33c0f0a3165423c94c70c7f4a7181dade2f831868f4be5...</td>\n",
       "      <td>3FjATqjQgLDfXhS4YvBEMDy4MecwTPBhgz</td>\n",
       "      <td>1LmWGKKPWgevvjPst9b9dyzBUznTLNUBpS</td>\n",
       "      <td>0.00</td>\n",
       "    </tr>\n",
       "    <tr>\n",
       "      <th>338832</th>\n",
       "      <td>338832</td>\n",
       "      <td>2017-11-18</td>\n",
       "      <td>33c0f0a3165423c94c70c7f4a7181dade2f831868f4be5...</td>\n",
       "      <td>3FjATqjQgLDfXhS4YvBEMDy4MecwTPBhgz</td>\n",
       "      <td>16aDYNgB3V351Jzp4shMUzvcRksmgtJXLJ</td>\n",
       "      <td>0.00</td>\n",
       "    </tr>\n",
       "    <tr>\n",
       "      <th>338831</th>\n",
       "      <td>338831</td>\n",
       "      <td>2017-11-18</td>\n",
       "      <td>33c0f0a3165423c94c70c7f4a7181dade2f831868f4be5...</td>\n",
       "      <td>3FjATqjQgLDfXhS4YvBEMDy4MecwTPBhgz</td>\n",
       "      <td>34gnsfzxkXp8aNH2vea1VHGpcfJ3eX7i2d</td>\n",
       "      <td>0.15</td>\n",
       "    </tr>\n",
       "    <tr>\n",
       "      <th>338830</th>\n",
       "      <td>338830</td>\n",
       "      <td>2017-11-18</td>\n",
       "      <td>33c0f0a3165423c94c70c7f4a7181dade2f831868f4be5...</td>\n",
       "      <td>3FjATqjQgLDfXhS4YvBEMDy4MecwTPBhgz</td>\n",
       "      <td>356Q9Jg36nicGFSnv6eNhFQtaL1FLLfUF1</td>\n",
       "      <td>0.19</td>\n",
       "    </tr>\n",
       "    <tr>\n",
       "      <th>338828</th>\n",
       "      <td>338828</td>\n",
       "      <td>2017-11-18</td>\n",
       "      <td>33c0f0a3165423c94c70c7f4a7181dade2f831868f4be5...</td>\n",
       "      <td>3FjATqjQgLDfXhS4YvBEMDy4MecwTPBhgz</td>\n",
       "      <td>34gnsfzxkXp8aNH2vea1VHGpcfJ3eX7i2d</td>\n",
       "      <td>0.69</td>\n",
       "    </tr>\n",
       "    <tr>\n",
       "      <th>338829</th>\n",
       "      <td>338829</td>\n",
       "      <td>2017-11-18</td>\n",
       "      <td>33c0f0a3165423c94c70c7f4a7181dade2f831868f4be5...</td>\n",
       "      <td>3FjATqjQgLDfXhS4YvBEMDy4MecwTPBhgz</td>\n",
       "      <td>34gnsfzxkXp8aNH2vea1VHGpcfJ3eX7i2d</td>\n",
       "      <td>0.69</td>\n",
       "    </tr>\n",
       "    <tr>\n",
       "      <th>338827</th>\n",
       "      <td>338827</td>\n",
       "      <td>2017-11-18</td>\n",
       "      <td>33c0f0a3165423c94c70c7f4a7181dade2f831868f4be5...</td>\n",
       "      <td>3FjATqjQgLDfXhS4YvBEMDy4MecwTPBhgz</td>\n",
       "      <td>353vHDgEwLWHpEtKeV48GoZddBq7DyWiAK</td>\n",
       "      <td>18.27</td>\n",
       "    </tr>\n",
       "  </tbody>\n",
       "</table>\n",
       "</div>"
      ],
      "text/plain": [
       "        btc_id       date                                               hash  \\\n",
       "338833  338833 2017-11-18  33c0f0a3165423c94c70c7f4a7181dade2f831868f4be5...   \n",
       "338832  338832 2017-11-18  33c0f0a3165423c94c70c7f4a7181dade2f831868f4be5...   \n",
       "338831  338831 2017-11-18  33c0f0a3165423c94c70c7f4a7181dade2f831868f4be5...   \n",
       "338830  338830 2017-11-18  33c0f0a3165423c94c70c7f4a7181dade2f831868f4be5...   \n",
       "338828  338828 2017-11-18  33c0f0a3165423c94c70c7f4a7181dade2f831868f4be5...   \n",
       "338829  338829 2017-11-18  33c0f0a3165423c94c70c7f4a7181dade2f831868f4be5...   \n",
       "338827  338827 2017-11-18  33c0f0a3165423c94c70c7f4a7181dade2f831868f4be5...   \n",
       "\n",
       "                                    sender  \\\n",
       "338833  3FjATqjQgLDfXhS4YvBEMDy4MecwTPBhgz   \n",
       "338832  3FjATqjQgLDfXhS4YvBEMDy4MecwTPBhgz   \n",
       "338831  3FjATqjQgLDfXhS4YvBEMDy4MecwTPBhgz   \n",
       "338830  3FjATqjQgLDfXhS4YvBEMDy4MecwTPBhgz   \n",
       "338828  3FjATqjQgLDfXhS4YvBEMDy4MecwTPBhgz   \n",
       "338829  3FjATqjQgLDfXhS4YvBEMDy4MecwTPBhgz   \n",
       "338827  3FjATqjQgLDfXhS4YvBEMDy4MecwTPBhgz   \n",
       "\n",
       "                                  receiver  btc_amount  \n",
       "338833  1LmWGKKPWgevvjPst9b9dyzBUznTLNUBpS        0.00  \n",
       "338832  16aDYNgB3V351Jzp4shMUzvcRksmgtJXLJ        0.00  \n",
       "338831  34gnsfzxkXp8aNH2vea1VHGpcfJ3eX7i2d        0.15  \n",
       "338830  356Q9Jg36nicGFSnv6eNhFQtaL1FLLfUF1        0.19  \n",
       "338828  34gnsfzxkXp8aNH2vea1VHGpcfJ3eX7i2d        0.69  \n",
       "338829  34gnsfzxkXp8aNH2vea1VHGpcfJ3eX7i2d        0.69  \n",
       "338827  353vHDgEwLWHpEtKeV48GoZddBq7DyWiAK       18.27  "
      ]
     },
     "execution_count": 61,
     "metadata": {},
     "output_type": "execute_result"
    }
   ],
   "source": [
    "ind = bit_dupl.tail().index[0]\n",
    "print(bit_dupl.tail().loc[ind,'hash'])\n",
    "bit_trans[bit_trans.hash == bit_dupl.tail().loc[ind,'hash']].sort_values('btc_amount')"
   ]
  },
  {
   "cell_type": "markdown",
   "id": "669ec0d6",
   "metadata": {},
   "source": [
    "Thus, probably part of duplicated rows has to do with some data collection error and another part correctly reflects the reality.<br><br>\n",
    "Decision regarding duplicates requires a deeper understanding of blockchain transactions and a data collection mechanism. It is not possible to check all duplicates in Explorer. For the given challenge dropping duplicates should not be a problem. Because the task is to find Bitcoin transactions similar to bank transactions. And the fact that bit_trans dataset contains duplicates of some transaction/output does not seem to add valuable information. Thus drop duplicates. But later, as with bank transactions, it will be possible to check whether a transaction has duplicates in the initial dataset."
   ]
  },
  {
   "cell_type": "code",
   "execution_count": 62,
   "id": "28119e99",
   "metadata": {},
   "outputs": [],
   "source": [
    "bit_trans = bit_trans.drop_duplicates(list(bit_trans.columns[1:]), keep = 'first')"
   ]
  },
  {
   "cell_type": "markdown",
   "id": "92784cae",
   "metadata": {},
   "source": [
    "Amount of transaction is crucial data for the given challenge, so drop nulls:"
   ]
  },
  {
   "cell_type": "code",
   "execution_count": 63,
   "id": "89698350",
   "metadata": {},
   "outputs": [],
   "source": [
    "bit_trans = bit_trans.dropna()"
   ]
  },
  {
   "cell_type": "markdown",
   "id": "2ab0c019",
   "metadata": {},
   "source": [
    "The dataset cover transactions from January 2015 to November 2017, this period overlaps with bank transactions data:"
   ]
  },
  {
   "cell_type": "code",
   "execution_count": 64,
   "id": "2b840959",
   "metadata": {},
   "outputs": [
    {
     "name": "stdout",
     "output_type": "stream",
     "text": [
      "2015-01-02 00:00:00\n",
      "2017-11-18 00:00:00\n"
     ]
    }
   ],
   "source": [
    "print(bit_trans.date.min())\n",
    "print(bit_trans.date.max())"
   ]
  },
  {
   "cell_type": "markdown",
   "id": "d75b5401",
   "metadata": {},
   "source": [
    "Merge BTC transactions data with BTC prices (price dataset covers period of available BTC transactions):"
   ]
  },
  {
   "cell_type": "code",
   "execution_count": 65,
   "id": "65d65dd3",
   "metadata": {
    "scrolled": false
   },
   "outputs": [
    {
     "name": "stdout",
     "output_type": "stream",
     "text": [
      "<class 'pandas.core.frame.DataFrame'>\n",
      "Int64Index: 367837 entries, 0 to 367836\n",
      "Data columns (total 7 columns):\n",
      " #   Column      Non-Null Count   Dtype         \n",
      "---  ------      --------------   -----         \n",
      " 0   btc_id      367837 non-null  int64         \n",
      " 1   date        367837 non-null  datetime64[ns]\n",
      " 2   hash        367837 non-null  object        \n",
      " 3   sender      367837 non-null  object        \n",
      " 4   receiver    367837 non-null  object        \n",
      " 5   btc_amount  367837 non-null  float64       \n",
      " 6   price       367837 non-null  float64       \n",
      "dtypes: datetime64[ns](1), float64(2), int64(1), object(3)\n",
      "memory usage: 22.5+ MB\n"
     ]
    }
   ],
   "source": [
    "bit_trans = bit_trans.merge(prices, how = 'left', on = 'date')\n",
    "bit_trans.info()"
   ]
  },
  {
   "cell_type": "markdown",
   "id": "4aeeee8e",
   "metadata": {},
   "source": [
    "Compute amount of transaction in USD:"
   ]
  },
  {
   "cell_type": "code",
   "execution_count": 66,
   "id": "cbe62740",
   "metadata": {},
   "outputs": [],
   "source": [
    "bit_trans['btc_usd_amount'] = bit_trans.btc_amount * bit_trans.price"
   ]
  },
  {
   "cell_type": "markdown",
   "id": "3dcf0596",
   "metadata": {},
   "source": [
    "Have not found the Bitcoin transaction from the challenge description. The most similar transaction was made from the similar sender to the same receiver on 15/01/2016, not 14/01/2016. And USD amount was 1 021 338, not 1 003 862 (though difference in USD amount may be related with different Bitcoin price used for conversion)."
   ]
  },
  {
   "cell_type": "code",
   "execution_count": 67,
   "id": "41838f9b",
   "metadata": {},
   "outputs": [
    {
     "data": {
      "text/html": [
       "<div>\n",
       "<style scoped>\n",
       "    .dataframe tbody tr th:only-of-type {\n",
       "        vertical-align: middle;\n",
       "    }\n",
       "\n",
       "    .dataframe tbody tr th {\n",
       "        vertical-align: top;\n",
       "    }\n",
       "\n",
       "    .dataframe thead th {\n",
       "        text-align: right;\n",
       "    }\n",
       "</style>\n",
       "<table border=\"1\" class=\"dataframe\">\n",
       "  <thead>\n",
       "    <tr style=\"text-align: right;\">\n",
       "      <th></th>\n",
       "      <th>btc_id</th>\n",
       "      <th>date</th>\n",
       "      <th>hash</th>\n",
       "      <th>sender</th>\n",
       "      <th>receiver</th>\n",
       "      <th>btc_amount</th>\n",
       "      <th>price</th>\n",
       "      <th>btc_usd_amount</th>\n",
       "    </tr>\n",
       "  </thead>\n",
       "  <tbody>\n",
       "    <tr>\n",
       "      <th>24978</th>\n",
       "      <td>25103</td>\n",
       "      <td>2016-01-15</td>\n",
       "      <td>714fcd3ca0bc1941fefce4262e5448d0edf65f374a6ab5...</td>\n",
       "      <td>37A2u77XcFpmg4iaEuGGFVtEpupcXiFQei 3M8wnd72ih5...</td>\n",
       "      <td>3HNSiAq7wFDaPsYDcUxNSRMD78qVcYKicw</td>\n",
       "      <td>2450.59</td>\n",
       "      <td>416.77</td>\n",
       "      <td>1021338.95</td>\n",
       "    </tr>\n",
       "    <tr>\n",
       "      <th>24990</th>\n",
       "      <td>25115</td>\n",
       "      <td>2016-01-15</td>\n",
       "      <td>4c9863e71611c9ce2dedadb59e0b54f52e2f2b7cba30b4...</td>\n",
       "      <td>3LcoLMTYRrRJcbCsCfGeWVsU8YqszbGFWf 3BUtf1pS8cf...</td>\n",
       "      <td>3HNSiAq7wFDaPsYDcUxNSRMD78qVcYKicw</td>\n",
       "      <td>2487.59</td>\n",
       "      <td>416.77</td>\n",
       "      <td>1036758.87</td>\n",
       "    </tr>\n",
       "  </tbody>\n",
       "</table>\n",
       "</div>"
      ],
      "text/plain": [
       "       btc_id       date                                               hash  \\\n",
       "24978   25103 2016-01-15  714fcd3ca0bc1941fefce4262e5448d0edf65f374a6ab5...   \n",
       "24990   25115 2016-01-15  4c9863e71611c9ce2dedadb59e0b54f52e2f2b7cba30b4...   \n",
       "\n",
       "                                                  sender  \\\n",
       "24978  37A2u77XcFpmg4iaEuGGFVtEpupcXiFQei 3M8wnd72ih5...   \n",
       "24990  3LcoLMTYRrRJcbCsCfGeWVsU8YqszbGFWf 3BUtf1pS8cf...   \n",
       "\n",
       "                                 receiver  btc_amount  price  btc_usd_amount  \n",
       "24978  3HNSiAq7wFDaPsYDcUxNSRMD78qVcYKicw     2450.59 416.77      1021338.95  \n",
       "24990  3HNSiAq7wFDaPsYDcUxNSRMD78qVcYKicw     2487.59 416.77      1036758.87  "
      ]
     },
     "execution_count": 67,
     "metadata": {},
     "output_type": "execute_result"
    }
   ],
   "source": [
    "bit_trans[(bit_trans.date.isin(['2016-01-13','2016-01-14','2016-01-15','2016-01-16'])) \n",
    "          & (bit_trans.receiver == '3HNSiAq7wFDaPsYDcUxNSRMD78qVcYKicw')]"
   ]
  },
  {
   "cell_type": "markdown",
   "id": "ad492a92",
   "metadata": {},
   "source": [
    "Information from the Explorer coincides with what is found in the dataset: 15/01/2016, several inputs, one output."
   ]
  },
  {
   "cell_type": "code",
   "execution_count": 68,
   "id": "b36ea977",
   "metadata": {},
   "outputs": [
    {
     "data": {
      "text/plain": [
       "'714fcd3ca0bc1941fefce4262e5448d0edf65f374a6ab5a8834fd2b762b13fb1'"
      ]
     },
     "execution_count": 68,
     "metadata": {},
     "output_type": "execute_result"
    }
   ],
   "source": [
    "bit_trans[(bit_trans.date.isin(['2016-01-13','2016-01-14','2016-01-15','2016-01-16'])) \n",
    "          & (bit_trans.receiver == '3HNSiAq7wFDaPsYDcUxNSRMD78qVcYKicw')].reset_index().loc[0,'hash']"
   ]
  },
  {
   "cell_type": "markdown",
   "id": "d52c6b03",
   "metadata": {},
   "source": [
    "<a href=\"#0\"><h4>Back to top</h4></a>"
   ]
  },
  {
   "cell_type": "markdown",
   "id": "9c418e02",
   "metadata": {},
   "source": [
    "<h4>Matching bank and Bitcoin transactions</h4>\n",
    "<p id=\"5\">"
   ]
  },
  {
   "cell_type": "markdown",
   "id": "950cf337",
   "metadata": {},
   "source": [
    "What kind of criminal actions can be associated with bank and Bitcoin transactions?<br><br>\n",
    "Crypto wallets can be hacked, Bitcoins can be transferred to criminals wallets, cashed out in banking accounts and transfered further through the banking system. Apart from hacking, Bitcoin theft by owners of crypto services may happen. <br><br>According to Europol Spotlight 2021(\\*\\) money laundering is the main criminal activity associated with the illegal use of cryptocurrencies. Special money laundering services may open and maintain corporate and personal bank accounts worldwide to receive and transfer criminal money. Illicit proceeds already in Bitcoin may be cashed out and transferred further through the banking system. Cash amounts may be converted to Bitcoin and transferred further through the blockchain.<br>\n",
    "\\* https://www.europol.europa.eu/cms/sites/default/files/documents/Europol%20Spotlight%20-%20Cryptocurrencies%20-%20Tracing%20the%20evolution%20of%20criminal%20finances.pdf"
   ]
  },
  {
   "cell_type": "markdown",
   "id": "e66d015e",
   "metadata": {},
   "source": [
    "<h5>Conditional join</h5>\n",
    "<p id=\"5.1\">"
   ]
  },
  {
   "cell_type": "markdown",
   "id": "cb64f026",
   "metadata": {},
   "source": [
    "One way to find suspiciously similar bank and Bitcoin transactions is to perform a cross join between the datasets and filter the result according to some conditions (e.g. difference between 'bank_date' and 'btc_date', difference between 'bank_trans_usd' and 'btc_usd_amount'). But because of the size of dataframes such cross join runs out of memory. Another way is to perform a join based on some conditions."
   ]
  },
  {
   "cell_type": "markdown",
   "id": "69626869",
   "metadata": {},
   "source": [
    "Rename columns for more convenient joining:"
   ]
  },
  {
   "cell_type": "code",
   "execution_count": 69,
   "id": "e88fef85",
   "metadata": {},
   "outputs": [],
   "source": [
    "fin_trans.rename(columns = {'number_transactions': 'bank_trans_number',\n",
    "                            'amount_transactions': 'bank_trans_usd',\n",
    "                            \n",
    "                           'begin_date': 'bank_begin_date',\n",
    "                           'end_date': 'bank_end_date'}, inplace = True)"
   ]
  },
  {
   "cell_type": "code",
   "execution_count": 70,
   "id": "92d59177",
   "metadata": {},
   "outputs": [],
   "source": [
    "bit_trans.rename(columns = {'date': 'btc_date'}, inplace = True)"
   ]
  },
  {
   "cell_type": "code",
   "execution_count": 71,
   "id": "17dd7d45",
   "metadata": {},
   "outputs": [
    {
     "name": "stdout",
     "output_type": "stream",
     "text": [
      "4446\n",
      "367837\n"
     ]
    }
   ],
   "source": [
    "print(len(fin_trans))\n",
    "print(len(bit_trans))"
   ]
  },
  {
   "cell_type": "markdown",
   "id": "6b79f797",
   "metadata": {},
   "source": [
    "Importing tool for conditional join:"
   ]
  },
  {
   "cell_type": "code",
   "execution_count": 72,
   "id": "c5094b9f",
   "metadata": {},
   "outputs": [],
   "source": [
    "from pandasql import sqldf"
   ]
  },
  {
   "cell_type": "code",
   "execution_count": 73,
   "id": "460c3d74",
   "metadata": {},
   "outputs": [],
   "source": [
    "pysqldf = lambda q: sqldf(q, globals())"
   ]
  },
  {
   "cell_type": "markdown",
   "id": "be2b8499",
   "metadata": {},
   "source": [
    "Consider potential schemes of relation between Bitcoin and bank transactions.\n",
    "\n",
    "* \"Bitcoin -> bank\"<br>\n",
    "Funds are already in BTC or BTC is bought for \"money\". Bitcoin transaction is made. BTC is converted to USD.\n",
    "USD is transferred through the bank transaction.<br>\n",
    "\n",
    "* \"bank -> Bitcoin\"<br>\n",
    "Bank transaction is made. BTC is bought for USD. Bitcoin transaction is made.<br>\n",
    "\n",
    "* \"Bitcoin -> bank -> Bitcoin\"<br>\n",
    "As a combination of two previous: first BTC transaction is made, then bank transaction and afterwards BTC transaction again.<br>\n",
    "\n",
    "In order to identify similar transactions, the following criteria need to be set: size limit of difference between USD amount of BTC and bank transactions and size limit of difference between dates. These limits are subject to discussion.<br>\n",
    "The difference between USD amounts and dates of actually related BTC and bank transactions might be due to conditions of buying/selling BTC and withdrawing funds to/from bank account. In addition USD amount of BTC transaction is unknown, but estimated with daily average BTC price, which is quite a rough estimate.\n",
    "\n",
    "As I found out there are many ways and conditions for buying/selling BTC. I assume that using crypto exchange is unlikely to be popular for illegal purposes. Because of custodial wallets, not full control of your funds, possibility of restrictions for some actions. I also assume that illegal purposes involve significant amounts of funds. Then P2P and crypto ATMs look like not suitable options. Crypto exchanges are also inconvenient for large amounts due to the possible necessity of dealing with multiple actors at different prices. But OTC trade is used mostly for large amounts. Another option is exchange services like Bitcoin.com Wallet, Blockchain Wallet, Binance website.\n",
    "\n",
    "It is difficult to determine some universal limits based on all these options. OTC trade uses an individual approach to every client. As to exchange services, there may be fees for depositing/withdrawing money (also from the bank's side). Blockchain.com has a fixed fee for withdrawing (25-30$), some special type of bank transfers with no fee. Binance charges a 1.8\\% fee for deposit in EURO by card and no fee for deposit in USD.\n",
    "\n",
    "Transfers from/to banks may take 1-4 days. I also suppose that the time-out between transactions is not desired to be long (because of Bitcoin volatility or the goal to deliver \"money\" to the final destination as soon as possible).\n",
    "\n",
    "Thus, assume that the percentage difference in USD amount between similar BTC and bank transactions should be within 1\\% and the difference in dates - from 0 to 2. I also assume that the USD amount of the preceding transaction (BTC in case of BTC->bank and bank in case of bank->BTC) should be higher than the amount of the following one. Because it seems unlikely that one would add some funds from another source between transactions.\n",
    "\n",
    "Percentage difference will be actually calculated as percentage change, between the preceding and the following transaction.\n",
    "\n",
    "Assumptions for sampling \"Bitcoin -> bank\" similar transactions:\n",
    "* Bitcoin transaction is made at the same date (or beginning of period) as bank transaction ('bank_begin_date') or up to 2 days earlier\n",
    "* percentage difference between amount of Bitcoin transaction and amount of bank transaction is less than 1\\%\n",
    "* amount of Bitcoin transaction is greater than amount of bank transaction \n",
    "\n",
    "Assumptions for sampling \"bank -> Bitcoin\" similar transactions:\n",
    "* suspiciously similar Bitcoin transaction is made 0 or 2 days later than bank transaction (or end of period)('end_date')\n",
    "* amount of bank transaction is greater than amount of Bitcoin transaction\n",
    "* percentage difference between amount of bank transaction and amount of Bitcoin transaction is less than 1\\%"
   ]
  },
  {
   "cell_type": "markdown",
   "id": "1f3e0be5",
   "metadata": {},
   "source": [
    "Filter out dates in fin_trans that are not coinciding with bit_trans (based on chosen earlier conditions) for memory efficiency. Filter out dates in bit_trans that are not coinciding with fin_trans_short for memory efficiency."
   ]
  },
  {
   "cell_type": "code",
   "execution_count": 74,
   "id": "ee189ac1",
   "metadata": {},
   "outputs": [],
   "source": [
    "fin_trans_short = fin_trans[fin_trans.bank_end_date >= bit_trans.btc_date.min() - pd.DateOffset(days = 3)]\n",
    "bit_trans_short = bit_trans[bit_trans.btc_date <= fin_trans.bank_end_date.max() + pd.DateOffset(days = 3)]"
   ]
  },
  {
   "cell_type": "code",
   "execution_count": 75,
   "id": "2aad114b",
   "metadata": {},
   "outputs": [
    {
     "name": "stdout",
     "output_type": "stream",
     "text": [
      "2014-12-30 00:00:00\n",
      "2017-11-03 00:00:00\n",
      "2015-01-02 00:00:00\n",
      "2017-09-01 00:00:00\n"
     ]
    }
   ],
   "source": [
    "print(fin_trans_short.bank_end_date.min())\n",
    "print(fin_trans_short.bank_end_date.max())\n",
    "print(bit_trans_short.btc_date.min())\n",
    "print(bit_trans_short.btc_date.max())"
   ]
  },
  {
   "cell_type": "code",
   "execution_count": 76,
   "id": "390d3a64",
   "metadata": {},
   "outputs": [
    {
     "name": "stdout",
     "output_type": "stream",
     "text": [
      "1103\n",
      "255880\n"
     ]
    }
   ],
   "source": [
    "print(len(fin_trans_short))\n",
    "print(len(bit_trans_short))"
   ]
  },
  {
   "cell_type": "markdown",
   "id": "cfe15ff4",
   "metadata": {},
   "source": [
    "Perform the conditional join:"
   ]
  },
  {
   "cell_type": "code",
   "execution_count": 77,
   "id": "56942c57",
   "metadata": {},
   "outputs": [
    {
     "name": "stdout",
     "output_type": "stream",
     "text": [
      "Wall time: 26min 4s\n"
     ]
    }
   ],
   "source": [
    "%%time\n",
    "cond_join = '''\n",
    "    select \n",
    "    f.id, b.btc_id\n",
    "    from fin_trans_short f\n",
    "    inner join bit_trans_short b\n",
    "    on\n",
    "        (date(b.btc_date) >= date(f.bank_end_date)\n",
    "        and\n",
    "        date(b.btc_date) <= date(f.bank_end_date,'+2 day')\n",
    "        and\n",
    "        1.0 * (f.bank_trans_usd / b.btc_usd_amount - 1 ) <= 0.01\n",
    "        and\n",
    "        b.btc_usd_amount <= f.bank_trans_usd)\n",
    "        \n",
    "        or\n",
    "        \n",
    "        (date(f.bank_begin_date) >= date(b.btc_date)\n",
    "        and\n",
    "        date(f.bank_begin_date) <= date(b.btc_date,'+2 day')\n",
    "        and\n",
    "        1.0 * (b.btc_usd_amount / f.bank_trans_usd -1 ) <= 0.01\n",
    "        and\n",
    "        b.btc_usd_amount >= f.bank_trans_usd)        \n",
    "        \n",
    "        '''\n",
    "similar_ind = pysqldf(cond_join)"
   ]
  },
  {
   "cell_type": "markdown",
   "id": "bcdae7f3",
   "metadata": {},
   "source": [
    "Write the result of matching bank transactions ids and Bitcoin transactions ids to Excel:"
   ]
  },
  {
   "cell_type": "code",
   "execution_count": 78,
   "id": "32c1cdf3",
   "metadata": {},
   "outputs": [],
   "source": [
    "similar_ind.to_excel('C:\\\\python\\\\portfolio\\\\english\\\\data_analysis_python\\\\bank_bitcoin_match\\\\similar_ind.xlsx', index = False)"
   ]
  },
  {
   "cell_type": "code",
   "execution_count": 79,
   "id": "99a13885",
   "metadata": {},
   "outputs": [],
   "source": [
    "# similar_ind = pd.read_excel('C:\\\\python\\\\portfolio\\\\english\\\\data_analysis_python\\\\bank_bitcoin_match\\\\similar_ind.xlsx')"
   ]
  },
  {
   "cell_type": "markdown",
   "id": "ac7ec1b3",
   "metadata": {},
   "source": [
    "Join the result with data from bit_trans and from fin_trans:"
   ]
  },
  {
   "cell_type": "code",
   "execution_count": 79,
   "id": "afb5463b",
   "metadata": {},
   "outputs": [],
   "source": [
    "similar_det = similar_ind.merge(bit_trans, how = 'left', on = 'btc_id')"
   ]
  },
  {
   "cell_type": "code",
   "execution_count": 80,
   "id": "c438f2e4",
   "metadata": {},
   "outputs": [],
   "source": [
    "similar_det = similar_det.merge(fin_trans, how = 'left', on = 'id')"
   ]
  },
  {
   "cell_type": "markdown",
   "id": "29a147bb",
   "metadata": {},
   "source": [
    "No cases with equal USD amount between bank transaction and BTC transaction:"
   ]
  },
  {
   "cell_type": "code",
   "execution_count": 81,
   "id": "100f4c56",
   "metadata": {},
   "outputs": [
    {
     "data": {
      "text/html": [
       "<div>\n",
       "<style scoped>\n",
       "    .dataframe tbody tr th:only-of-type {\n",
       "        vertical-align: middle;\n",
       "    }\n",
       "\n",
       "    .dataframe tbody tr th {\n",
       "        vertical-align: top;\n",
       "    }\n",
       "\n",
       "    .dataframe thead th {\n",
       "        text-align: right;\n",
       "    }\n",
       "</style>\n",
       "<table border=\"1\" class=\"dataframe\">\n",
       "  <thead>\n",
       "    <tr style=\"text-align: right;\">\n",
       "      <th></th>\n",
       "      <th>id</th>\n",
       "      <th>btc_id</th>\n",
       "      <th>btc_date</th>\n",
       "      <th>hash</th>\n",
       "      <th>sender</th>\n",
       "      <th>receiver</th>\n",
       "      <th>btc_amount</th>\n",
       "      <th>price</th>\n",
       "      <th>btc_usd_amount</th>\n",
       "      <th>icij_sar_id</th>\n",
       "      <th>...</th>\n",
       "      <th>originator_bank_id</th>\n",
       "      <th>originator_bank</th>\n",
       "      <th>originator_bank_country</th>\n",
       "      <th>originator_iso</th>\n",
       "      <th>beneficiary_bank_id</th>\n",
       "      <th>beneficiary_bank</th>\n",
       "      <th>beneficiary_bank_country</th>\n",
       "      <th>beneficiary_iso</th>\n",
       "      <th>bank_trans_number</th>\n",
       "      <th>bank_trans_usd</th>\n",
       "    </tr>\n",
       "  </thead>\n",
       "  <tbody>\n",
       "  </tbody>\n",
       "</table>\n",
       "<p>0 rows × 24 columns</p>\n",
       "</div>"
      ],
      "text/plain": [
       "Empty DataFrame\n",
       "Columns: [id, btc_id, btc_date, hash, sender, receiver, btc_amount, price, btc_usd_amount, icij_sar_id, filer_org_name_id, filer_org_name, bank_begin_date, bank_end_date, originator_bank_id, originator_bank, originator_bank_country, originator_iso, beneficiary_bank_id, beneficiary_bank, beneficiary_bank_country, beneficiary_iso, bank_trans_number, bank_trans_usd]\n",
       "Index: []\n",
       "\n",
       "[0 rows x 24 columns]"
      ]
     },
     "execution_count": 81,
     "metadata": {},
     "output_type": "execute_result"
    }
   ],
   "source": [
    "similar_det[similar_det.btc_usd_amount == similar_det.bank_trans_usd]"
   ]
  },
  {
   "cell_type": "markdown",
   "id": "9d18b2b6",
   "metadata": {},
   "source": [
    "Add column with percentage difference between amount of bank and Bitcoin transactions:"
   ]
  },
  {
   "cell_type": "code",
   "execution_count": 82,
   "id": "d37df7c2",
   "metadata": {},
   "outputs": [],
   "source": [
    "similar_det['usd_perc_diff'] = (similar_det.apply\n",
    "                                         (lambda x: 100 * (x.bank_trans_usd / x.btc_usd_amount - 1)\n",
    "                                      if x.bank_trans_usd > x.btc_usd_amount\n",
    "                                      else 100 * (x.btc_usd_amount / x.bank_trans_usd - 1), axis = 1))"
   ]
  },
  {
   "cell_type": "markdown",
   "id": "3129906b",
   "metadata": {},
   "source": [
    "Add column with difference between dates of bank and Bitcoin transactions. Count relative to bank transaction: positive difference if BTC is later than bank, negative difference if BTC is earlier than bank (it seems to look more intuitive)."
   ]
  },
  {
   "cell_type": "code",
   "execution_count": 83,
   "id": "c9fec1cd",
   "metadata": {},
   "outputs": [],
   "source": [
    "similar_det['date_diff'] = (similar_det.apply\n",
    "                                     (lambda x: x.btc_date - x.bank_begin_date\n",
    "                                      if x.btc_usd_amount > x.bank_trans_usd\n",
    "                                      else x.btc_date - x.bank_end_date, axis = 1))"
   ]
  },
  {
   "cell_type": "markdown",
   "id": "6547da7d",
   "metadata": {},
   "source": [
    "The result of join contains 723 rows.<br><br>"
   ]
  },
  {
   "cell_type": "code",
   "execution_count": 84,
   "id": "ad6bc4fe",
   "metadata": {
    "scrolled": false
   },
   "outputs": [
    {
     "data": {
      "text/plain": [
       "723"
      ]
     },
     "execution_count": 84,
     "metadata": {},
     "output_type": "execute_result"
    }
   ],
   "source": [
    "len(similar_det)"
   ]
  },
  {
   "cell_type": "markdown",
   "id": "feb5a108",
   "metadata": {},
   "source": [
    "<a href=\"#0\"><h4>Back to top</h4></a>"
   ]
  },
  {
   "cell_type": "markdown",
   "id": "51b38fae",
   "metadata": {},
   "source": [
    "<h5>Explore the result</h5>\n",
    "<p id=\"5.2\">"
   ]
  },
  {
   "cell_type": "markdown",
   "id": "d3591bd4",
   "metadata": {},
   "source": [
    "Some filters can be applied in order to narrow down the search or explore some subsamples of the matching result: USD amount (e.g. if large amounts are of more interest), percentage difference in USD amount (e.g. if search for minimal difference), difference in dates, number of bank transactions (e.g. if one-number bank transactions, i.e. with bank_trans_number=1, are a priority).<br><br>\n",
    "Based on the potential schemes of relation between bank and BTC transactions split the data into:<br>\n",
    "* bank transaction with similar BTC transaction before it\n",
    "* bank transaction with similar BTC transaction after it\n",
    "* bank transaction with similar BTC transactions both before and after it\n"
   ]
  },
  {
   "cell_type": "markdown",
   "id": "9b60e7c4",
   "metadata": {},
   "source": [
    "Bank transactions with similar BTC before:"
   ]
  },
  {
   "cell_type": "code",
   "execution_count": 85,
   "id": "19663a37",
   "metadata": {},
   "outputs": [
    {
     "data": {
      "text/plain": [
       "54"
      ]
     },
     "execution_count": 85,
     "metadata": {},
     "output_type": "execute_result"
    }
   ],
   "source": [
    "id_bef = similar_det[similar_det.bank_trans_usd < similar_det.btc_usd_amount]['id'].unique()\n",
    "len(id_bef)"
   ]
  },
  {
   "cell_type": "markdown",
   "id": "ded0d0b2",
   "metadata": {},
   "source": [
    "Bank transactions with similar BTC after:"
   ]
  },
  {
   "cell_type": "code",
   "execution_count": 86,
   "id": "c981ff10",
   "metadata": {},
   "outputs": [
    {
     "data": {
      "text/plain": [
       "60"
      ]
     },
     "execution_count": 86,
     "metadata": {},
     "output_type": "execute_result"
    }
   ],
   "source": [
    "id_aft = similar_det[similar_det.bank_trans_usd > similar_det.btc_usd_amount]['id'].unique()\n",
    "len(id_aft)"
   ]
  },
  {
   "cell_type": "markdown",
   "id": "c9cd8df5",
   "metadata": {},
   "source": [
    "Bank transactions with similar BTC both before and after:"
   ]
  },
  {
   "cell_type": "code",
   "execution_count": 87,
   "id": "68437fda",
   "metadata": {},
   "outputs": [
    {
     "data": {
      "text/plain": [
       "16"
      ]
     },
     "execution_count": 87,
     "metadata": {},
     "output_type": "execute_result"
    }
   ],
   "source": [
    "id_bef_aft = list(set(id_bef).intersection(set(id_aft)))\n",
    "len(id_bef_aft)"
   ]
  },
  {
   "cell_type": "markdown",
   "id": "db316e5c",
   "metadata": {},
   "source": [
    "Bank transactions with similar BTC only before:"
   ]
  },
  {
   "cell_type": "code",
   "execution_count": 88,
   "id": "a419b527",
   "metadata": {},
   "outputs": [
    {
     "data": {
      "text/plain": [
       "38"
      ]
     },
     "execution_count": 88,
     "metadata": {},
     "output_type": "execute_result"
    }
   ],
   "source": [
    "id_bef = list(set(id_bef).difference(set(id_bef_aft)))\n",
    "len(id_bef)"
   ]
  },
  {
   "cell_type": "markdown",
   "id": "4d003522",
   "metadata": {},
   "source": [
    "Bank transactions with similar BTC only after:"
   ]
  },
  {
   "cell_type": "code",
   "execution_count": 89,
   "id": "a3a424c2",
   "metadata": {},
   "outputs": [
    {
     "data": {
      "text/plain": [
       "44"
      ]
     },
     "execution_count": 89,
     "metadata": {},
     "output_type": "execute_result"
    }
   ],
   "source": [
    "id_aft = list(set(id_aft).difference(set(id_bef_aft)))\n",
    "len(id_aft)"
   ]
  },
  {
   "cell_type": "code",
   "execution_count": 90,
   "id": "6c844292",
   "metadata": {
    "scrolled": true
   },
   "outputs": [
    {
     "data": {
      "text/plain": [
       "True"
      ]
     },
     "execution_count": 90,
     "metadata": {},
     "output_type": "execute_result"
    }
   ],
   "source": [
    "len(id_bef) + len(id_aft) + len(id_bef_aft) == len(similar_det.id.unique())"
   ]
  },
  {
   "cell_type": "markdown",
   "id": "ce8dd9c8",
   "metadata": {},
   "source": [
    "Add the column splitting bank transactions into transactions with similar BTC before, after, both before and after:"
   ]
  },
  {
   "cell_type": "code",
   "execution_count": 91,
   "id": "255cc474",
   "metadata": {},
   "outputs": [],
   "source": [
    "def bef_aft(row):\n",
    "    \n",
    "    '''Function checks whether value from 'id' column\n",
    "    is contained in lists id_bef/id_aft/id_bef_aft\n",
    "    and returns respectively 'before'/'after'/'before/after' '''\n",
    "        \n",
    "    if row['id'] in id_bef:\n",
    "        return 'before'\n",
    "    elif row['id'] in id_aft:\n",
    "        return 'after'\n",
    "    elif row['id'] in id_bef_aft:\n",
    "        return 'before/after'  \n",
    "    else:\n",
    "        return None"
   ]
  },
  {
   "cell_type": "code",
   "execution_count": 92,
   "id": "bc712185",
   "metadata": {},
   "outputs": [],
   "source": [
    "similar_det['before_after'] = similar_det.apply(bef_aft, axis = 1)"
   ]
  },
  {
   "cell_type": "markdown",
   "id": "bb466c7f",
   "metadata": {},
   "source": [
    "Split the data into:<br>\n",
    "* bank transaction with one similar BTC transaction\n",
    "* bank transaction with several similar BTC transaction"
   ]
  },
  {
   "cell_type": "markdown",
   "id": "62c7e5a1",
   "metadata": {},
   "source": [
    "Bank transactions with only one similar BTC:"
   ]
  },
  {
   "cell_type": "code",
   "execution_count": 93,
   "id": "0c977655",
   "metadata": {},
   "outputs": [
    {
     "data": {
      "text/plain": [
       "45"
      ]
     },
     "execution_count": 93,
     "metadata": {},
     "output_type": "execute_result"
    }
   ],
   "source": [
    "df1 = similar_det.groupby('id')['btc_id'].count().reset_index()\n",
    "id_one_btc = df1[df1.btc_id == 1]['id'].values\n",
    "len(id_one_btc )"
   ]
  },
  {
   "cell_type": "markdown",
   "id": "7b2942ce",
   "metadata": {},
   "source": [
    "Bank transactions with more than one similar BTC:"
   ]
  },
  {
   "cell_type": "code",
   "execution_count": 94,
   "id": "891caf0c",
   "metadata": {},
   "outputs": [
    {
     "data": {
      "text/plain": [
       "53"
      ]
     },
     "execution_count": 94,
     "metadata": {},
     "output_type": "execute_result"
    }
   ],
   "source": [
    "id_not_one_btc = df1[df1.btc_id > 1]['id'].values\n",
    "len(id_not_one_btc)"
   ]
  },
  {
   "cell_type": "markdown",
   "id": "045ace2f",
   "metadata": {},
   "source": [
    "What if there are real duplicate bank transactions and each of them is related to one of the found BTC transactions? Checking whether bank transactions with several similar BTC transactions are among duplicates shows that this is not the case. "
   ]
  },
  {
   "cell_type": "code",
   "execution_count": 95,
   "id": "341bae5f",
   "metadata": {},
   "outputs": [
    {
     "data": {
      "text/plain": [
       "set()"
      ]
     },
     "execution_count": 95,
     "metadata": {},
     "output_type": "execute_result"
    }
   ],
   "source": [
    "(set(id_not_one_btc).\n",
    " intersection(set(fin_trans_raw[fin_trans_raw.duplicated(list(fin_trans_raw.columns[2:]), keep = False)]['id'].values)))"
   ]
  },
  {
   "cell_type": "markdown",
   "id": "d20237f5",
   "metadata": {},
   "source": [
    "Add the column splitting in one and several similar BTC found:"
   ]
  },
  {
   "cell_type": "code",
   "execution_count": 96,
   "id": "ee21ff6d",
   "metadata": {},
   "outputs": [],
   "source": [
    "def one_sev(row):  \n",
    "    \n",
    "    ''' Function checks whether value from 'id' column\n",
    "    is contained in lists one_btc_id/not_one_btc_id and\n",
    "    returns respectively 'one'/'several' '''\n",
    "    \n",
    "    if row['id'] in id_one_btc:\n",
    "        return 'one'\n",
    "    elif row['id'] in id_not_one_btc:\n",
    "        return 'several'\n",
    "    else:\n",
    "        return None"
   ]
  },
  {
   "cell_type": "code",
   "execution_count": 97,
   "id": "a1c6ea6e",
   "metadata": {},
   "outputs": [],
   "source": [
    "similar_det['one_several'] = similar_det.apply(one_sev, axis = 1)"
   ]
  },
  {
   "cell_type": "markdown",
   "id": "641c8055",
   "metadata": {},
   "source": [
    "Most of the found similar BTC transactions are both before and after respective bank transactions. It seems to me that the scheme \"BTC->bank->BTC\" is less likely in reality than \"BTC->bank\" and \"bank->BTC\", so probably most of the similar BTC in this group are just accidently similar. This group also has the narrowest range of USD amount values, the lowest minimum and maximum. \n",
    "\n",
    "The before-one group contains significantly higher USD amount values than other groups."
   ]
  },
  {
   "cell_type": "code",
   "execution_count": 98,
   "id": "4c055eb9",
   "metadata": {
    "scrolled": false
   },
   "outputs": [
    {
     "data": {
      "text/html": [
       "<div>\n",
       "<style scoped>\n",
       "    .dataframe tbody tr th:only-of-type {\n",
       "        vertical-align: middle;\n",
       "    }\n",
       "\n",
       "    .dataframe tbody tr th {\n",
       "        vertical-align: top;\n",
       "    }\n",
       "\n",
       "    .dataframe thead th {\n",
       "        text-align: right;\n",
       "    }\n",
       "</style>\n",
       "<table border=\"1\" class=\"dataframe\">\n",
       "  <thead>\n",
       "    <tr style=\"text-align: right;\">\n",
       "      <th></th>\n",
       "      <th></th>\n",
       "      <th>mean usd</th>\n",
       "      <th>min usd</th>\n",
       "      <th>max usd</th>\n",
       "      <th>q-ty</th>\n",
       "    </tr>\n",
       "    <tr>\n",
       "      <th>before_after</th>\n",
       "      <th>one_several</th>\n",
       "      <th></th>\n",
       "      <th></th>\n",
       "      <th></th>\n",
       "      <th></th>\n",
       "    </tr>\n",
       "  </thead>\n",
       "  <tbody>\n",
       "    <tr>\n",
       "      <th rowspan=\"2\" valign=\"top\">after</th>\n",
       "      <th>one</th>\n",
       "      <td>3068008.22</td>\n",
       "      <td>66052.60</td>\n",
       "      <td>11000000.00</td>\n",
       "      <td>23</td>\n",
       "    </tr>\n",
       "    <tr>\n",
       "      <th>several</th>\n",
       "      <td>2837760.09</td>\n",
       "      <td>2250.00</td>\n",
       "      <td>10000000.00</td>\n",
       "      <td>128</td>\n",
       "    </tr>\n",
       "    <tr>\n",
       "      <th rowspan=\"2\" valign=\"top\">before</th>\n",
       "      <th>one</th>\n",
       "      <td>4502783.73</td>\n",
       "      <td>1000000.00</td>\n",
       "      <td>20692000.00</td>\n",
       "      <td>22</td>\n",
       "    </tr>\n",
       "    <tr>\n",
       "      <th>several</th>\n",
       "      <td>1717855.26</td>\n",
       "      <td>4075.00</td>\n",
       "      <td>6000000.00</td>\n",
       "      <td>217</td>\n",
       "    </tr>\n",
       "    <tr>\n",
       "      <th>before/after</th>\n",
       "      <th>several</th>\n",
       "      <td>1293197.77</td>\n",
       "      <td>140.44</td>\n",
       "      <td>4000000.00</td>\n",
       "      <td>333</td>\n",
       "    </tr>\n",
       "  </tbody>\n",
       "</table>\n",
       "</div>"
      ],
      "text/plain": [
       "                           mean usd    min usd     max usd  q-ty\n",
       "before_after one_several                                        \n",
       "after        one         3068008.22   66052.60 11000000.00    23\n",
       "             several     2837760.09    2250.00 10000000.00   128\n",
       "before       one         4502783.73 1000000.00 20692000.00    22\n",
       "             several     1717855.26    4075.00  6000000.00   217\n",
       "before/after several     1293197.77     140.44  4000000.00   333"
      ]
     },
     "execution_count": 98,
     "metadata": {},
     "output_type": "execute_result"
    }
   ],
   "source": [
    "(similar_det.groupby(['before_after','one_several'])['bank_trans_usd'].\n",
    "                                 agg([np.mean, np.min, np.max, 'count']).\n",
    "                                        rename(columns={'mean': 'mean usd','amin': 'min usd',\n",
    "                                                        'amax': 'max usd', 'count': 'q-ty'}))"
   ]
  },
  {
   "cell_type": "markdown",
   "id": "2893e622",
   "metadata": {},
   "source": [
    "The minimal USD amount is just 140 dollars. From one hand, all bank transactions from FinCEN dataset are marked as suspicious. On the other hand, a transaction of such a small amount might be not a primary interest in this challenge. \n",
    "\n",
    "Based on the quartiles 3/4 of values are higher than 1.2 million USD."
   ]
  },
  {
   "cell_type": "code",
   "execution_count": 99,
   "id": "23518a96",
   "metadata": {
    "scrolled": false
   },
   "outputs": [
    {
     "data": {
      "text/plain": [
       "count        723.00\n",
       "mean     1848227.07\n",
       "std      1950201.81\n",
       "min          140.44\n",
       "25%      1243025.00\n",
       "50%      1540400.00\n",
       "75%      2170000.00\n",
       "max     20692000.00\n",
       "Name: bank_trans_usd, dtype: float64"
      ]
     },
     "execution_count": 99,
     "metadata": {},
     "output_type": "execute_result"
    }
   ],
   "source": [
    "similar_det.bank_trans_usd.describe()"
   ]
  },
  {
   "cell_type": "markdown",
   "id": "25760281",
   "metadata": {},
   "source": [
    "Based on the quartiles 3/4 of values are higher than 1800 BTC."
   ]
  },
  {
   "cell_type": "code",
   "execution_count": 100,
   "id": "aac6c149",
   "metadata": {},
   "outputs": [
    {
     "data": {
      "text/plain": [
       "count     723.00\n",
       "mean     4408.57\n",
       "std      4250.66\n",
       "min         0.19\n",
       "25%      1873.09\n",
       "50%      3840.26\n",
       "75%      5565.01\n",
       "max     36287.25\n",
       "Name: btc_amount, dtype: float64"
      ]
     },
     "execution_count": 100,
     "metadata": {},
     "output_type": "execute_result"
    }
   ],
   "source": [
    "similar_det.btc_amount.describe()"
   ]
  },
  {
   "cell_type": "markdown",
   "id": "cb01d206",
   "metadata": {},
   "source": [
    "Most of the found similar BTC transactions are similar to bank transactions with the number of transactions = 1. But overall the number of transactions varies up to 41."
   ]
  },
  {
   "cell_type": "code",
   "execution_count": 101,
   "id": "0980d7d5",
   "metadata": {
    "scrolled": true
   },
   "outputs": [
    {
     "data": {
      "text/plain": [
       "bank_trans_number\n",
       "1.00     295\n",
       "2.00     126\n",
       "3.00      43\n",
       "4.00     101\n",
       "5.00      10\n",
       "6.00       5\n",
       "7.00      12\n",
       "8.00      18\n",
       "10.00     14\n",
       "11.00      1\n",
       "12.00     82\n",
       "13.00      8\n",
       "14.00      2\n",
       "15.00      1\n",
       "16.00      1\n",
       "24.00      1\n",
       "36.00      2\n",
       "41.00      1\n",
       "Name: id, dtype: int64"
      ]
     },
     "execution_count": 101,
     "metadata": {},
     "output_type": "execute_result"
    }
   ],
   "source": [
    "similar_det.groupby(['bank_trans_number'])['id'].count()"
   ]
  },
  {
   "cell_type": "markdown",
   "id": "97947e6d",
   "metadata": {},
   "source": [
    "Most of the similar BTC transactions preceded the respective bank transactions. But there are actually three almost equal size groups: two days before, 1 day before and the same day."
   ]
  },
  {
   "cell_type": "code",
   "execution_count": 102,
   "id": "394de641",
   "metadata": {
    "scrolled": true
   },
   "outputs": [
    {
     "data": {
      "text/plain": [
       "date_diff\n",
       "-2 days    183\n",
       "-1 days    206\n",
       "0 days     195\n",
       "1 days      76\n",
       "2 days      63\n",
       "Name: id, dtype: int64"
      ]
     },
     "execution_count": 102,
     "metadata": {},
     "output_type": "execute_result"
    }
   ],
   "source": [
    "similar_det.groupby(['date_diff'])['id'].count()"
   ]
  },
  {
   "cell_type": "markdown",
   "id": "b13cab22",
   "metadata": {},
   "source": [
    "The distribution of percentage difference in USD amounts has a pronounced mode at values 0.5-0.55. To the left of the mode values are more evenly distributed than to the right."
   ]
  },
  {
   "cell_type": "code",
   "execution_count": 103,
   "id": "8161e617",
   "metadata": {
    "scrolled": false
   },
   "outputs": [
    {
     "data": {
      "text/plain": [
       "count   723.00\n",
       "mean      0.56\n",
       "std       0.28\n",
       "min       0.00\n",
       "25%       0.36\n",
       "50%       0.56\n",
       "75%       0.81\n",
       "max       1.00\n",
       "Name: usd_perc_diff, dtype: float64"
      ]
     },
     "execution_count": 103,
     "metadata": {},
     "output_type": "execute_result"
    }
   ],
   "source": [
    "similar_det.usd_perc_diff.describe()"
   ]
  },
  {
   "cell_type": "code",
   "execution_count": 104,
   "id": "bc713adb",
   "metadata": {},
   "outputs": [],
   "source": [
    "import matplotlib.pyplot as plt"
   ]
  },
  {
   "cell_type": "code",
   "execution_count": 105,
   "id": "33847eeb",
   "metadata": {},
   "outputs": [
    {
     "data": {
      "image/png": "[encoded data removed]",
      "text/plain": [
       "<Figure size 864x360 with 1 Axes>"
      ]
     },
     "metadata": {
      "needs_background": "light"
     },
     "output_type": "display_data"
    }
   ],
   "source": [
    "plt.figure(figsize = (12, 5)) \n",
    "plt.hist(similar_det.usd_perc_diff,bins = 20);\n",
    "plt.xticks(np.arange(0, 1.05, 0.05));"
   ]
  },
  {
   "cell_type": "markdown",
   "id": "62ab7056",
   "metadata": {},
   "source": [
    "<a href=\"#0\"><h4>Back to top</h4></a>"
   ]
  },
  {
   "cell_type": "markdown",
   "id": "c5017b9e",
   "metadata": {},
   "source": [
    "<h5>Bitcoin \"chains\"?</h5>\n",
    "<p id=\"5.3\">"
   ]
  },
  {
   "cell_type": "markdown",
   "id": "0accb941",
   "metadata": {},
   "source": [
    "As I understand, all Bitcoin transactions, to be precise inputs and outputs, are parts of chains: every input is an output and every output becomes an input. Apart from newly minted coins (input, that has no prior output history) and outputs that are not (yet) spent (UTXO). \n",
    "\n",
    "When several similar BTC transactions are found, could it be that they are parts of the same input-output chain?\n",
    "If not, then they are just unrelated to each other BTC transactions, that are similar to one bank transaction.\n",
    "If yes, is it valuable information for the given challenge?\n",
    "Could it be that instead of one BTC transfer, the \"same\" amount of BTC is sent from one to another and further along the \"chain\" in order to cover one's track?\n",
    "From one hand, all transactions can be tracked, some platforms require identification. On the other hand, it is addresses that are tracked, so kind of anonymous.\n",
    "\n",
    "I would determine such \"chain\" by the following criteria:<br>\n",
    "-with every following part of \"chain\" btc_amount declines<br>\n",
    "-decline of amount is within probable size of transaction(network) fee<br>\n",
    "(in 2015-2017 average daily from 0.0001 to 0.003 BTC\n",
    "https://ycharts.com/indicators/bitcoin_average_transaction_fee_btc )<br>\n",
    "-output address of one transaction is among inputs addresses of the following, input address is among outputs addresses of the preceding (for the current dataset where in case of several inputs they are combined in sender column with space as delimiter: receiver has a nonempty intersection with sender splitted by space in list, and vice versa)\n",
    "\n",
    "Further, such \"chain\" may be potentially related or not to somе bank transaction in the current challenge.\n",
    "Criteria of \"chain\" related to bank transaction:<br>\n",
    "-short period (making such a \"chain\"-transfer over several days is risky because of BTC volatility?) <br>\n",
    "-if \"chain\" is from \"before\" bank transaction group, then \"chain\" should not proceed after the 'bank_begin_date' of bank transaction and USD amount of the last link should be higher than amount of bank transaction<br>\n",
    "-if \"chain\" is from \"after\" group, then \"chain\" should not precede the 'bank_end_date' of bank transaction and USD amount of the first link should be lower than amount of bank transaction<br>\n",
    "-if \"chain\" is from \"before/after\" group, then \"chain\" should not proceed during the period of bank transaction and USD amount of the last link before bank should be higher and of the first link should be lower than bank amount\n",
    "\n",
    "Actually \"one similar BTC\" transactions might also be part of \"chain\", just only one link of the \"chain\" satisfied the criteria of conditional join.\n",
    "\n",
    "If assume that such \"chains\" might make sense or at least make the transaction even more suspicious, then it would be useful to \n",
    "have a possibility to trace \"chains\" and check them for relation with bank transactions. In particular, check whether several similar BTC are unrelated BTC transactions or parts of \"chains\". Moreover, if BTC transactions are determined to be part of \"chain\", but that \"chain\" is determined to be unrelated to a bank transaction, then it might be an argument against crypto-related activity involved in this bank transaction. Same with \"one similar BTC\"."
   ]
  },
  {
   "cell_type": "markdown",
   "id": "6e365a87",
   "metadata": {},
   "source": [
    "Draft of function that traces the \"chain\":"
   ]
  },
  {
   "cell_type": "code",
   "execution_count": 106,
   "id": "bc95a164",
   "metadata": {
    "scrolled": true
   },
   "outputs": [],
   "source": [
    "def trace_chain(btc_lim, day_lim, btc_list):\n",
    "    \n",
    "    '''\n",
    "    Function goes through the list of BTC id (btc_list).\n",
    "    At each time id is a \"starting point\" for search (b_id).\n",
    "    Function searches for potential following/preceding link of \"chain\" in the btc_trans data. \n",
    "    If found, then \"starting point\" is changed to id of the found following/preceding link\n",
    "    and search continues further.\n",
    "    Function returns a dataframe with BTC ids determined as parts of \"chains\",\n",
    "    index of \"chain\" and index of BTC id within the \"chain\".\n",
    "    '''\n",
    "\n",
    "    chain = pd.DataFrame()\n",
    "    chain = pd.concat([chain, pd.DataFrame([{'btc_id': -100,'chain': -100, 'index': -100}])])\n",
    "    # temporary row in order to set the columns\n",
    "\n",
    "    for n, b_id in enumerate(btc_list):  \n",
    "\n",
    "        if b_id not in chain.btc_id.unique(): \n",
    "        # to exclude the case: if btc_id duplicated or different btc_id are parts of the same \"chain\",\n",
    "        # then \"chain\" will be recorded several times\n",
    "\n",
    "            b_rec = bit_trans[bit_trans.btc_id == b_id].reset_index().loc[0,'receiver']\n",
    "            b_send = bit_trans[bit_trans.btc_id == b_id].reset_index().loc[0,'sender']\n",
    "            b_am = bit_trans[bit_trans.btc_id == b_id].reset_index().loc[0,'btc_amount']\n",
    "            b_dat = bit_trans[bit_trans.btc_id == b_id].reset_index().loc[0,'btc_date']\n",
    "\n",
    "            forw = (bit_trans[(bit_trans.btc_date.between(b_dat , b_dat + pd.DateOffset(days = day_lim))) &\n",
    "                      (bit_trans.btc_amount.between(b_am - btc_lim , b_am )) &\n",
    "                      (bit_trans.sender.str.contains(b_rec))])\n",
    "            #\"condition\" for searching the following link\n",
    "\n",
    "            backw = (bit_trans[(bit_trans.btc_date.between(b_dat - pd.DateOffset(days = day_lim), b_dat )) &\n",
    "                  (bit_trans.btc_amount.between(b_am , b_am + btc_lim )) &\n",
    "                  (bit_trans.receiver.isin(b_send.split(' ')))])\n",
    "            #\"condition\" for searching the preceding link\n",
    "\n",
    "            ind = 0\n",
    "            # index within chain, \"starting point\"\n",
    "\n",
    "            while len(forw) > 0:\n",
    "            # loop searching links forwards in time from \"starting point\"\n",
    "\n",
    "                if b_id not in chain.btc_id.unique():\n",
    "                    row =  {'btc_id': b_id,'chain': n, 'index': ind}\n",
    "                    chain = pd.concat([chain, pd.DataFrame([row])])\n",
    "                    #record b_id (\"starting point\") from which search forwards\n",
    "\n",
    "                ind += 1\n",
    "                # index for the next found link of \"chain\"\n",
    "\n",
    "                row1 =  {'btc_id': forw.reset_index().loc[0,'btc_id'],'chain': n, 'index': ind}\n",
    "                # record the following link of \"chain\"\n",
    "                # disadvantage: takes only the first row\n",
    "                chain = pd.concat([chain, pd.DataFrame([row1])])\n",
    "\n",
    "                i = forw.reset_index().loc[0,'btc_id'] \n",
    "                # change \"starting point\" for the next loop\n",
    "\n",
    "                b_rec = bit_trans[bit_trans.btc_id == i].reset_index().loc[0,'receiver']\n",
    "                b_send = bit_trans[bit_trans.btc_id == i].reset_index().loc[0,'sender']\n",
    "                b_am = bit_trans[bit_trans.btc_id == i].reset_index().loc[0,'btc_amount']\n",
    "                b_dat = bit_trans[bit_trans.btc_id == i].reset_index().loc[0,'btc_date']\n",
    "\n",
    "                forw = (bit_trans[(bit_trans.btc_date.between(b_dat , b_dat + pd.DateOffset(days = day_lim))) &\n",
    "                      (bit_trans.btc_amount.between(b_am - btc_lim , b_am )) &\n",
    "                      (bit_trans.sender.str.contains(b_rec))])\n",
    "                \n",
    "            ind = 0\n",
    "            # index within chain, \"starting point\" \n",
    "\n",
    "            while len(backw) > 0:\n",
    "            # loop searching links backwards in time from \"starting point\"\n",
    "\n",
    "                if b_id not in chain.btc_id.unique():\n",
    "                    row =  {'btc_id': b_id,'chain': n, 'index': ind}\n",
    "                    chain = pd.concat([chain, pd.DataFrame([row])])\n",
    "\n",
    "                ind -= 1\n",
    "                # index for the next found link of \"chain\"\n",
    "\n",
    "                row1 =  {'btc_id': backw.reset_index().loc[0,'btc_id'],'chain': n, 'index': ind}\n",
    "                chain = pd.concat([chain, pd.DataFrame([row1])])\n",
    "\n",
    "                i = backw.reset_index().loc[0,'btc_id'] \n",
    "\n",
    "                b_rec = bit_trans[bit_trans.btc_id == i].reset_index().loc[0,'receiver']\n",
    "                b_send = bit_trans[bit_trans.btc_id == i].reset_index().loc[0,'sender']\n",
    "                b_am = bit_trans[bit_trans.btc_id == i].reset_index().loc[0,'btc_amount']\n",
    "                b_dat = bit_trans[bit_trans.btc_id == i].reset_index().loc[0,'btc_date']\n",
    "\n",
    "                backw = (bit_trans[(bit_trans.btc_date.between(b_dat - pd.DateOffset(days = day_lim), b_dat )) &\n",
    "                      (bit_trans.btc_amount.between(b_am , b_am + btc_lim )) &\n",
    "                      (bit_trans.receiver.isin(b_send.split(' ')))])\n",
    "    \n",
    "    chain = chain[chain.btc_id > 0]\n",
    "    # drop temporary row\n",
    "    \n",
    "    return chain"
   ]
  },
  {
   "cell_type": "markdown",
   "id": "a51434ea",
   "metadata": {},
   "source": [
    "Run the function with parameters:\n",
    "* limit of difference in BTC amounts of adjacent links (btc_lim): maximum average daily transaction fee of this period (0.003)\n",
    "* limit of difference in dates between links (day_lim): let it be 3 days\n",
    "* list of BTC transactions for each of which \"chain\" is traced (btc_list): found BTC transactions from the conditional join"
   ]
  },
  {
   "cell_type": "code",
   "execution_count": 107,
   "id": "2e0e0f15",
   "metadata": {},
   "outputs": [
    {
     "name": "stdout",
     "output_type": "stream",
     "text": [
      "Wall time: 3min 58s\n"
     ]
    }
   ],
   "source": [
    "%%time\n",
    "chain = trace_chain(0.003, 3, similar_det['btc_id'].unique())"
   ]
  },
  {
   "cell_type": "markdown",
   "id": "9c08c149",
   "metadata": {},
   "source": [
    "Merge the result of function with details of BTC transactions:"
   ]
  },
  {
   "cell_type": "code",
   "execution_count": 108,
   "id": "893d04a5",
   "metadata": {},
   "outputs": [],
   "source": [
    "chain_det = chain.merge(bit_trans, how = 'left', on = 'btc_id')"
   ]
  },
  {
   "cell_type": "markdown",
   "id": "b69b6124",
   "metadata": {},
   "source": [
    "Convert dates to a more readable format when write the result to Excel:"
   ]
  },
  {
   "cell_type": "code",
   "execution_count": 109,
   "id": "4502f559",
   "metadata": {},
   "outputs": [],
   "source": [
    "chain_det_exc = chain_det.copy()\n",
    "chain_det_exc['btc_date'] = chain_det_exc['btc_date'].dt.strftime('%d.%m.%Y')"
   ]
  },
  {
   "cell_type": "markdown",
   "id": "4df72cdd",
   "metadata": {},
   "source": [
    "Write the found \"chains\" to Excel:"
   ]
  },
  {
   "cell_type": "code",
   "execution_count": 110,
   "id": "ad9bc4e8",
   "metadata": {},
   "outputs": [],
   "source": [
    "chain_det_exc.sort_values(['chain','index']).to_excel('C:\\\\python\\\\portfolio\\\\english\\\\data_analysis_python\\\\bank_bitcoin_match\\\\chains.xlsx', index = False)"
   ]
  },
  {
   "cell_type": "markdown",
   "id": "d89ee992",
   "metadata": {},
   "source": [
    "Found 19 \"chains\" with 98 BTC outputs/transactions:"
   ]
  },
  {
   "cell_type": "code",
   "execution_count": 111,
   "id": "268de5c5",
   "metadata": {},
   "outputs": [
    {
     "name": "stdout",
     "output_type": "stream",
     "text": [
      "chains:  19\n",
      "btc:  98\n"
     ]
    }
   ],
   "source": [
    "print('chains: ', chain_det.chain.nunique())\n",
    "print('btc: ', chain_det.btc_id.nunique())"
   ]
  },
  {
   "cell_type": "markdown",
   "id": "32b6ff7d",
   "metadata": {},
   "source": [
    "Match the conditional join result with \"chains\" data:"
   ]
  },
  {
   "cell_type": "code",
   "execution_count": 112,
   "id": "7e61a704",
   "metadata": {},
   "outputs": [],
   "source": [
    "sim_det_chain = similar_det.merge(chain, how = 'left', on = 'btc_id')"
   ]
  },
  {
   "cell_type": "markdown",
   "id": "44378f58",
   "metadata": {},
   "source": [
    "Set convenient order for reading:"
   ]
  },
  {
   "cell_type": "code",
   "execution_count": 113,
   "id": "3d87a598",
   "metadata": {},
   "outputs": [],
   "source": [
    "col = ['id','originator_bank_id','beneficiary_bank_id','bank_begin_date','bank_end_date',\n",
    "     'bank_trans_number','bank_trans_usd',\n",
    "       'before_after', 'one_several', 'chain', 'index',\n",
    "    'btc_usd_amount', 'usd_perc_diff', 'date_diff','btc_amount',\n",
    "     'btc_id', 'btc_date', 'sender', 'receiver', 'hash',\n",
    "        'price', 'filer_org_name_id','icij_sar_id', 'filer_org_name', \n",
    "       'originator_bank_id', 'beneficiary_bank_id', 'beneficiary_bank',\n",
    "       'beneficiary_bank_country', 'beneficiary_iso']"
   ]
  },
  {
   "cell_type": "code",
   "execution_count": 114,
   "id": "09a385ee",
   "metadata": {},
   "outputs": [],
   "source": [
    "pd.set_option('display.max_columns', 100)"
   ]
  },
  {
   "cell_type": "markdown",
   "id": "500325f4",
   "metadata": {},
   "source": [
    "Parts of \"chains\" relate only to 6 bank transactions:"
   ]
  },
  {
   "cell_type": "code",
   "execution_count": 115,
   "id": "c4749d94",
   "metadata": {},
   "outputs": [
    {
     "data": {
      "text/plain": [
       "6"
      ]
     },
     "execution_count": 115,
     "metadata": {},
     "output_type": "execute_result"
    }
   ],
   "source": [
    "ch_list_id = sim_det_chain[sim_det_chain.chain > 0].id.unique()\n",
    "len(ch_list_id)"
   ]
  },
  {
   "cell_type": "markdown",
   "id": "7657bd54",
   "metadata": {},
   "source": [
    "Consider the example of such a bank transaction. Actually 13 transactions were made between 2015-12-04 and 2016-05-11. As a result of the conditional join several similar BTC transactions were found, some one day before the bank_begin_date and some on the same day. Two of them were determined as parts of \"chain\" and made on the same day. Probably these BTC transactions may be considered as the most suspicious. One the other hand, it can be seen from the sender and receiver that this \"chain\" is a back and forth transaction. Probably it might be an argument against the relation of these BTC transactions to this bank transaction."
   ]
  },
  {
   "cell_type": "code",
   "execution_count": 116,
   "id": "44c27f5a",
   "metadata": {
    "scrolled": true
   },
   "outputs": [
    {
     "data": {
      "text/html": [
       "<div>\n",
       "<style scoped>\n",
       "    .dataframe tbody tr th:only-of-type {\n",
       "        vertical-align: middle;\n",
       "    }\n",
       "\n",
       "    .dataframe tbody tr th {\n",
       "        vertical-align: top;\n",
       "    }\n",
       "\n",
       "    .dataframe thead th {\n",
       "        text-align: right;\n",
       "    }\n",
       "</style>\n",
       "<table border=\"1\" class=\"dataframe\">\n",
       "  <thead>\n",
       "    <tr style=\"text-align: right;\">\n",
       "      <th></th>\n",
       "      <th>id</th>\n",
       "      <th>originator_bank_id</th>\n",
       "      <th>beneficiary_bank_id</th>\n",
       "      <th>bank_begin_date</th>\n",
       "      <th>bank_end_date</th>\n",
       "      <th>bank_trans_number</th>\n",
       "      <th>bank_trans_usd</th>\n",
       "      <th>before_after</th>\n",
       "      <th>one_several</th>\n",
       "      <th>chain</th>\n",
       "      <th>index</th>\n",
       "      <th>btc_usd_amount</th>\n",
       "      <th>usd_perc_diff</th>\n",
       "      <th>date_diff</th>\n",
       "      <th>btc_amount</th>\n",
       "      <th>btc_id</th>\n",
       "      <th>btc_date</th>\n",
       "      <th>sender</th>\n",
       "      <th>receiver</th>\n",
       "      <th>hash</th>\n",
       "      <th>price</th>\n",
       "      <th>filer_org_name_id</th>\n",
       "      <th>icij_sar_id</th>\n",
       "      <th>filer_org_name</th>\n",
       "      <th>originator_bank_id</th>\n",
       "      <th>beneficiary_bank_id</th>\n",
       "      <th>beneficiary_bank</th>\n",
       "      <th>beneficiary_bank_country</th>\n",
       "      <th>beneficiary_iso</th>\n",
       "    </tr>\n",
       "  </thead>\n",
       "  <tbody>\n",
       "    <tr>\n",
       "      <th>116</th>\n",
       "      <td>227498</td>\n",
       "      <td>united-overseas-bank-limited</td>\n",
       "      <td>dbs-bank-ltd-singapore-sgp</td>\n",
       "      <td>2015-12-04</td>\n",
       "      <td>2016-05-11</td>\n",
       "      <td>13.00</td>\n",
       "      <td>1786929.08</td>\n",
       "      <td>before</td>\n",
       "      <td>several</td>\n",
       "      <td>NaN</td>\n",
       "      <td>NaN</td>\n",
       "      <td>1797692.08</td>\n",
       "      <td>0.60</td>\n",
       "      <td>-1 days</td>\n",
       "      <td>4971.38</td>\n",
       "      <td>6329</td>\n",
       "      <td>2015-12-03</td>\n",
       "      <td>1AWbarf3zC1KaAxdHjiygG45AcQujnomw1</td>\n",
       "      <td>13TcFnveSnuKNrmdfh1Yrgo4ZE72siVRAE</td>\n",
       "      <td>a831d6855ebf68f93ac11aea1a9300e63d39bd4ed2de61...</td>\n",
       "      <td>361.61</td>\n",
       "      <td>the-bank-of-new-york-mellon-corp</td>\n",
       "      <td>3789</td>\n",
       "      <td>The Bank of New York Mellon Corp.</td>\n",
       "      <td>united-overseas-bank-limited</td>\n",
       "      <td>dbs-bank-ltd-singapore-sgp</td>\n",
       "      <td>DBS Bank Ltd</td>\n",
       "      <td>Singapore</td>\n",
       "      <td>SGP</td>\n",
       "    </tr>\n",
       "    <tr>\n",
       "      <th>117</th>\n",
       "      <td>227498</td>\n",
       "      <td>united-overseas-bank-limited</td>\n",
       "      <td>dbs-bank-ltd-singapore-sgp</td>\n",
       "      <td>2015-12-04</td>\n",
       "      <td>2016-05-11</td>\n",
       "      <td>13.00</td>\n",
       "      <td>1786929.08</td>\n",
       "      <td>before</td>\n",
       "      <td>several</td>\n",
       "      <td>NaN</td>\n",
       "      <td>NaN</td>\n",
       "      <td>1799737.58</td>\n",
       "      <td>0.72</td>\n",
       "      <td>-1 days</td>\n",
       "      <td>4977.03</td>\n",
       "      <td>6331</td>\n",
       "      <td>2015-12-03</td>\n",
       "      <td>1Kh4vNbp8M8TR58y3ewnQpGEjH7b5Vdx3f</td>\n",
       "      <td>1AWbarf3zC1KaAxdHjiygG45AcQujnomw1</td>\n",
       "      <td>535af08aa1facdc0da40172b73253c6695d62c82c6a323...</td>\n",
       "      <td>361.61</td>\n",
       "      <td>the-bank-of-new-york-mellon-corp</td>\n",
       "      <td>3789</td>\n",
       "      <td>The Bank of New York Mellon Corp.</td>\n",
       "      <td>united-overseas-bank-limited</td>\n",
       "      <td>dbs-bank-ltd-singapore-sgp</td>\n",
       "      <td>DBS Bank Ltd</td>\n",
       "      <td>Singapore</td>\n",
       "      <td>SGP</td>\n",
       "    </tr>\n",
       "    <tr>\n",
       "      <th>118</th>\n",
       "      <td>227498</td>\n",
       "      <td>united-overseas-bank-limited</td>\n",
       "      <td>dbs-bank-ltd-singapore-sgp</td>\n",
       "      <td>2015-12-04</td>\n",
       "      <td>2016-05-11</td>\n",
       "      <td>13.00</td>\n",
       "      <td>1786929.08</td>\n",
       "      <td>before</td>\n",
       "      <td>several</td>\n",
       "      <td>NaN</td>\n",
       "      <td>NaN</td>\n",
       "      <td>1799809.94</td>\n",
       "      <td>0.72</td>\n",
       "      <td>-1 days</td>\n",
       "      <td>4977.23</td>\n",
       "      <td>6332</td>\n",
       "      <td>2015-12-03</td>\n",
       "      <td>1N22Xzy4FhuHfYNgQqit4NnZpNkgfkFvdS</td>\n",
       "      <td>1Kh4vNbp8M8TR58y3ewnQpGEjH7b5Vdx3f</td>\n",
       "      <td>08e5eb3a1a0ffdc855f19b1f09025d51c14730aafe0070...</td>\n",
       "      <td>361.61</td>\n",
       "      <td>the-bank-of-new-york-mellon-corp</td>\n",
       "      <td>3789</td>\n",
       "      <td>The Bank of New York Mellon Corp.</td>\n",
       "      <td>united-overseas-bank-limited</td>\n",
       "      <td>dbs-bank-ltd-singapore-sgp</td>\n",
       "      <td>DBS Bank Ltd</td>\n",
       "      <td>Singapore</td>\n",
       "      <td>SGP</td>\n",
       "    </tr>\n",
       "    <tr>\n",
       "      <th>113</th>\n",
       "      <td>227498</td>\n",
       "      <td>united-overseas-bank-limited</td>\n",
       "      <td>dbs-bank-ltd-singapore-sgp</td>\n",
       "      <td>2015-12-04</td>\n",
       "      <td>2016-05-11</td>\n",
       "      <td>13.00</td>\n",
       "      <td>1786929.08</td>\n",
       "      <td>before</td>\n",
       "      <td>several</td>\n",
       "      <td>113.00</td>\n",
       "      <td>0.00</td>\n",
       "      <td>1802368.10</td>\n",
       "      <td>0.86</td>\n",
       "      <td>0 days</td>\n",
       "      <td>5000.00</td>\n",
       "      <td>6228</td>\n",
       "      <td>2015-12-04</td>\n",
       "      <td>3HNSiAq7wFDaPsYDcUxNSRMD78qVcYKicw 3QkziVUYpro...</td>\n",
       "      <td>34UbND7PaFRZT1799hhTnqPV9KHFdfRYh7</td>\n",
       "      <td>0233206437de5181209db0620d0ad2d28561af2983f321...</td>\n",
       "      <td>360.47</td>\n",
       "      <td>the-bank-of-new-york-mellon-corp</td>\n",
       "      <td>3789</td>\n",
       "      <td>The Bank of New York Mellon Corp.</td>\n",
       "      <td>united-overseas-bank-limited</td>\n",
       "      <td>dbs-bank-ltd-singapore-sgp</td>\n",
       "      <td>DBS Bank Ltd</td>\n",
       "      <td>Singapore</td>\n",
       "      <td>SGP</td>\n",
       "    </tr>\n",
       "    <tr>\n",
       "      <th>114</th>\n",
       "      <td>227498</td>\n",
       "      <td>united-overseas-bank-limited</td>\n",
       "      <td>dbs-bank-ltd-singapore-sgp</td>\n",
       "      <td>2015-12-04</td>\n",
       "      <td>2016-05-11</td>\n",
       "      <td>13.00</td>\n",
       "      <td>1786929.08</td>\n",
       "      <td>before</td>\n",
       "      <td>several</td>\n",
       "      <td>113.00</td>\n",
       "      <td>1.00</td>\n",
       "      <td>1802367.97</td>\n",
       "      <td>0.86</td>\n",
       "      <td>0 days</td>\n",
       "      <td>5000.00</td>\n",
       "      <td>6230</td>\n",
       "      <td>2015-12-04</td>\n",
       "      <td>34UbND7PaFRZT1799hhTnqPV9KHFdfRYh7 31u3ydojhM7...</td>\n",
       "      <td>3HNSiAq7wFDaPsYDcUxNSRMD78qVcYKicw</td>\n",
       "      <td>f3161629d8b7dd4bc8fe396513f64b57fc952b40f3aada...</td>\n",
       "      <td>360.47</td>\n",
       "      <td>the-bank-of-new-york-mellon-corp</td>\n",
       "      <td>3789</td>\n",
       "      <td>The Bank of New York Mellon Corp.</td>\n",
       "      <td>united-overseas-bank-limited</td>\n",
       "      <td>dbs-bank-ltd-singapore-sgp</td>\n",
       "      <td>DBS Bank Ltd</td>\n",
       "      <td>Singapore</td>\n",
       "      <td>SGP</td>\n",
       "    </tr>\n",
       "    <tr>\n",
       "      <th>111</th>\n",
       "      <td>227498</td>\n",
       "      <td>united-overseas-bank-limited</td>\n",
       "      <td>dbs-bank-ltd-singapore-sgp</td>\n",
       "      <td>2015-12-04</td>\n",
       "      <td>2016-05-11</td>\n",
       "      <td>13.00</td>\n",
       "      <td>1786929.08</td>\n",
       "      <td>before</td>\n",
       "      <td>several</td>\n",
       "      <td>NaN</td>\n",
       "      <td>NaN</td>\n",
       "      <td>1788362.49</td>\n",
       "      <td>0.08</td>\n",
       "      <td>0 days</td>\n",
       "      <td>4961.15</td>\n",
       "      <td>6203</td>\n",
       "      <td>2015-12-04</td>\n",
       "      <td>1Bzcrtsy3FjrTmTbB8dsvBmGGCsadnXPFW</td>\n",
       "      <td>3AGcNMjFf6fSxe31gH9YQZj3fSUh2UxkaB</td>\n",
       "      <td>869dfb5d545f0e25cc4166d3ccfabc1ba6119b8eda556d...</td>\n",
       "      <td>360.47</td>\n",
       "      <td>the-bank-of-new-york-mellon-corp</td>\n",
       "      <td>3789</td>\n",
       "      <td>The Bank of New York Mellon Corp.</td>\n",
       "      <td>united-overseas-bank-limited</td>\n",
       "      <td>dbs-bank-ltd-singapore-sgp</td>\n",
       "      <td>DBS Bank Ltd</td>\n",
       "      <td>Singapore</td>\n",
       "      <td>SGP</td>\n",
       "    </tr>\n",
       "    <tr>\n",
       "      <th>112</th>\n",
       "      <td>227498</td>\n",
       "      <td>united-overseas-bank-limited</td>\n",
       "      <td>dbs-bank-ltd-singapore-sgp</td>\n",
       "      <td>2015-12-04</td>\n",
       "      <td>2016-05-11</td>\n",
       "      <td>13.00</td>\n",
       "      <td>1786929.08</td>\n",
       "      <td>before</td>\n",
       "      <td>several</td>\n",
       "      <td>NaN</td>\n",
       "      <td>NaN</td>\n",
       "      <td>1802368.05</td>\n",
       "      <td>0.86</td>\n",
       "      <td>0 days</td>\n",
       "      <td>5000.00</td>\n",
       "      <td>6204</td>\n",
       "      <td>2015-12-04</td>\n",
       "      <td>3AGcNMjFf6fSxe31gH9YQZj3fSUh2UxkaB</td>\n",
       "      <td>1Bzcrtsy3FjrTmTbB8dsvBmGGCsadnXPFW</td>\n",
       "      <td>fa8526ec484608a3496946ee8e05fd5e3764be2f84b80b...</td>\n",
       "      <td>360.47</td>\n",
       "      <td>the-bank-of-new-york-mellon-corp</td>\n",
       "      <td>3789</td>\n",
       "      <td>The Bank of New York Mellon Corp.</td>\n",
       "      <td>united-overseas-bank-limited</td>\n",
       "      <td>dbs-bank-ltd-singapore-sgp</td>\n",
       "      <td>DBS Bank Ltd</td>\n",
       "      <td>Singapore</td>\n",
       "      <td>SGP</td>\n",
       "    </tr>\n",
       "    <tr>\n",
       "      <th>115</th>\n",
       "      <td>227498</td>\n",
       "      <td>united-overseas-bank-limited</td>\n",
       "      <td>dbs-bank-ltd-singapore-sgp</td>\n",
       "      <td>2015-12-04</td>\n",
       "      <td>2016-05-11</td>\n",
       "      <td>13.00</td>\n",
       "      <td>1786929.08</td>\n",
       "      <td>before</td>\n",
       "      <td>several</td>\n",
       "      <td>NaN</td>\n",
       "      <td>NaN</td>\n",
       "      <td>1802368.05</td>\n",
       "      <td>0.86</td>\n",
       "      <td>0 days</td>\n",
       "      <td>5000.00</td>\n",
       "      <td>6232</td>\n",
       "      <td>2015-12-04</td>\n",
       "      <td>3Pww538PKNLJVLTtBPnJN33151urPKqSNk 3Jy37hjbov3...</td>\n",
       "      <td>18mkjbVaHAcMauL6iiy7zm9VjMYCjy4UU1</td>\n",
       "      <td>cd51ef78a8f453adcdcb2eb059b43609e392d97f7145c3...</td>\n",
       "      <td>360.47</td>\n",
       "      <td>the-bank-of-new-york-mellon-corp</td>\n",
       "      <td>3789</td>\n",
       "      <td>The Bank of New York Mellon Corp.</td>\n",
       "      <td>united-overseas-bank-limited</td>\n",
       "      <td>dbs-bank-ltd-singapore-sgp</td>\n",
       "      <td>DBS Bank Ltd</td>\n",
       "      <td>Singapore</td>\n",
       "      <td>SGP</td>\n",
       "    </tr>\n",
       "  </tbody>\n",
       "</table>\n",
       "</div>"
      ],
      "text/plain": [
       "         id            originator_bank_id         beneficiary_bank_id  \\\n",
       "116  227498  united-overseas-bank-limited  dbs-bank-ltd-singapore-sgp   \n",
       "117  227498  united-overseas-bank-limited  dbs-bank-ltd-singapore-sgp   \n",
       "118  227498  united-overseas-bank-limited  dbs-bank-ltd-singapore-sgp   \n",
       "113  227498  united-overseas-bank-limited  dbs-bank-ltd-singapore-sgp   \n",
       "114  227498  united-overseas-bank-limited  dbs-bank-ltd-singapore-sgp   \n",
       "111  227498  united-overseas-bank-limited  dbs-bank-ltd-singapore-sgp   \n",
       "112  227498  united-overseas-bank-limited  dbs-bank-ltd-singapore-sgp   \n",
       "115  227498  united-overseas-bank-limited  dbs-bank-ltd-singapore-sgp   \n",
       "\n",
       "    bank_begin_date bank_end_date  bank_trans_number  bank_trans_usd  \\\n",
       "116      2015-12-04    2016-05-11              13.00      1786929.08   \n",
       "117      2015-12-04    2016-05-11              13.00      1786929.08   \n",
       "118      2015-12-04    2016-05-11              13.00      1786929.08   \n",
       "113      2015-12-04    2016-05-11              13.00      1786929.08   \n",
       "114      2015-12-04    2016-05-11              13.00      1786929.08   \n",
       "111      2015-12-04    2016-05-11              13.00      1786929.08   \n",
       "112      2015-12-04    2016-05-11              13.00      1786929.08   \n",
       "115      2015-12-04    2016-05-11              13.00      1786929.08   \n",
       "\n",
       "    before_after one_several  chain  index  btc_usd_amount  usd_perc_diff  \\\n",
       "116       before     several    NaN    NaN      1797692.08           0.60   \n",
       "117       before     several    NaN    NaN      1799737.58           0.72   \n",
       "118       before     several    NaN    NaN      1799809.94           0.72   \n",
       "113       before     several 113.00   0.00      1802368.10           0.86   \n",
       "114       before     several 113.00   1.00      1802367.97           0.86   \n",
       "111       before     several    NaN    NaN      1788362.49           0.08   \n",
       "112       before     several    NaN    NaN      1802368.05           0.86   \n",
       "115       before     several    NaN    NaN      1802368.05           0.86   \n",
       "\n",
       "    date_diff  btc_amount  btc_id   btc_date  \\\n",
       "116   -1 days     4971.38    6329 2015-12-03   \n",
       "117   -1 days     4977.03    6331 2015-12-03   \n",
       "118   -1 days     4977.23    6332 2015-12-03   \n",
       "113    0 days     5000.00    6228 2015-12-04   \n",
       "114    0 days     5000.00    6230 2015-12-04   \n",
       "111    0 days     4961.15    6203 2015-12-04   \n",
       "112    0 days     5000.00    6204 2015-12-04   \n",
       "115    0 days     5000.00    6232 2015-12-04   \n",
       "\n",
       "                                                sender  \\\n",
       "116                 1AWbarf3zC1KaAxdHjiygG45AcQujnomw1   \n",
       "117                 1Kh4vNbp8M8TR58y3ewnQpGEjH7b5Vdx3f   \n",
       "118                 1N22Xzy4FhuHfYNgQqit4NnZpNkgfkFvdS   \n",
       "113  3HNSiAq7wFDaPsYDcUxNSRMD78qVcYKicw 3QkziVUYpro...   \n",
       "114  34UbND7PaFRZT1799hhTnqPV9KHFdfRYh7 31u3ydojhM7...   \n",
       "111                 1Bzcrtsy3FjrTmTbB8dsvBmGGCsadnXPFW   \n",
       "112                 3AGcNMjFf6fSxe31gH9YQZj3fSUh2UxkaB   \n",
       "115  3Pww538PKNLJVLTtBPnJN33151urPKqSNk 3Jy37hjbov3...   \n",
       "\n",
       "                               receiver  \\\n",
       "116  13TcFnveSnuKNrmdfh1Yrgo4ZE72siVRAE   \n",
       "117  1AWbarf3zC1KaAxdHjiygG45AcQujnomw1   \n",
       "118  1Kh4vNbp8M8TR58y3ewnQpGEjH7b5Vdx3f   \n",
       "113  34UbND7PaFRZT1799hhTnqPV9KHFdfRYh7   \n",
       "114  3HNSiAq7wFDaPsYDcUxNSRMD78qVcYKicw   \n",
       "111  3AGcNMjFf6fSxe31gH9YQZj3fSUh2UxkaB   \n",
       "112  1Bzcrtsy3FjrTmTbB8dsvBmGGCsadnXPFW   \n",
       "115  18mkjbVaHAcMauL6iiy7zm9VjMYCjy4UU1   \n",
       "\n",
       "                                                  hash  price  \\\n",
       "116  a831d6855ebf68f93ac11aea1a9300e63d39bd4ed2de61... 361.61   \n",
       "117  535af08aa1facdc0da40172b73253c6695d62c82c6a323... 361.61   \n",
       "118  08e5eb3a1a0ffdc855f19b1f09025d51c14730aafe0070... 361.61   \n",
       "113  0233206437de5181209db0620d0ad2d28561af2983f321... 360.47   \n",
       "114  f3161629d8b7dd4bc8fe396513f64b57fc952b40f3aada... 360.47   \n",
       "111  869dfb5d545f0e25cc4166d3ccfabc1ba6119b8eda556d... 360.47   \n",
       "112  fa8526ec484608a3496946ee8e05fd5e3764be2f84b80b... 360.47   \n",
       "115  cd51ef78a8f453adcdcb2eb059b43609e392d97f7145c3... 360.47   \n",
       "\n",
       "                    filer_org_name_id  icij_sar_id  \\\n",
       "116  the-bank-of-new-york-mellon-corp         3789   \n",
       "117  the-bank-of-new-york-mellon-corp         3789   \n",
       "118  the-bank-of-new-york-mellon-corp         3789   \n",
       "113  the-bank-of-new-york-mellon-corp         3789   \n",
       "114  the-bank-of-new-york-mellon-corp         3789   \n",
       "111  the-bank-of-new-york-mellon-corp         3789   \n",
       "112  the-bank-of-new-york-mellon-corp         3789   \n",
       "115  the-bank-of-new-york-mellon-corp         3789   \n",
       "\n",
       "                        filer_org_name            originator_bank_id  \\\n",
       "116  The Bank of New York Mellon Corp.  united-overseas-bank-limited   \n",
       "117  The Bank of New York Mellon Corp.  united-overseas-bank-limited   \n",
       "118  The Bank of New York Mellon Corp.  united-overseas-bank-limited   \n",
       "113  The Bank of New York Mellon Corp.  united-overseas-bank-limited   \n",
       "114  The Bank of New York Mellon Corp.  united-overseas-bank-limited   \n",
       "111  The Bank of New York Mellon Corp.  united-overseas-bank-limited   \n",
       "112  The Bank of New York Mellon Corp.  united-overseas-bank-limited   \n",
       "115  The Bank of New York Mellon Corp.  united-overseas-bank-limited   \n",
       "\n",
       "            beneficiary_bank_id beneficiary_bank beneficiary_bank_country  \\\n",
       "116  dbs-bank-ltd-singapore-sgp     DBS Bank Ltd                Singapore   \n",
       "117  dbs-bank-ltd-singapore-sgp     DBS Bank Ltd                Singapore   \n",
       "118  dbs-bank-ltd-singapore-sgp     DBS Bank Ltd                Singapore   \n",
       "113  dbs-bank-ltd-singapore-sgp     DBS Bank Ltd                Singapore   \n",
       "114  dbs-bank-ltd-singapore-sgp     DBS Bank Ltd                Singapore   \n",
       "111  dbs-bank-ltd-singapore-sgp     DBS Bank Ltd                Singapore   \n",
       "112  dbs-bank-ltd-singapore-sgp     DBS Bank Ltd                Singapore   \n",
       "115  dbs-bank-ltd-singapore-sgp     DBS Bank Ltd                Singapore   \n",
       "\n",
       "    beneficiary_iso  \n",
       "116             SGP  \n",
       "117             SGP  \n",
       "118             SGP  \n",
       "113             SGP  \n",
       "114             SGP  \n",
       "111             SGP  \n",
       "112             SGP  \n",
       "115             SGP  "
      ]
     },
     "execution_count": 116,
     "metadata": {},
     "output_type": "execute_result"
    }
   ],
   "source": [
    "sim_det_chain[sim_det_chain.id == ch_list_id[1]][col].sort_values(['btc_date','chain','index'])"
   ]
  },
  {
   "cell_type": "markdown",
   "id": "96961af0",
   "metadata": {},
   "source": [
    "Another example of such a bank transaction. Actually 4 transactions were made between 2016-08-01\tand 2016-08-31. As a result of the conditional join two similar BTC transactions were found, two days after the bank_end_date. Both of them were determined as parts of \"chain\" and made on the same day. So probably these BTC transactions may be considered as more suspicious. In addition, the first link in this chain has an USD amount lower than bank amount, and it might be an extra argument for relation with this bank transaction.  "
   ]
  },
  {
   "cell_type": "code",
   "execution_count": 117,
   "id": "7d9101b0",
   "metadata": {},
   "outputs": [
    {
     "data": {
      "text/html": [
       "<div>\n",
       "<style scoped>\n",
       "    .dataframe tbody tr th:only-of-type {\n",
       "        vertical-align: middle;\n",
       "    }\n",
       "\n",
       "    .dataframe tbody tr th {\n",
       "        vertical-align: top;\n",
       "    }\n",
       "\n",
       "    .dataframe thead th {\n",
       "        text-align: right;\n",
       "    }\n",
       "</style>\n",
       "<table border=\"1\" class=\"dataframe\">\n",
       "  <thead>\n",
       "    <tr style=\"text-align: right;\">\n",
       "      <th></th>\n",
       "      <th>id</th>\n",
       "      <th>originator_bank_id</th>\n",
       "      <th>beneficiary_bank_id</th>\n",
       "      <th>bank_begin_date</th>\n",
       "      <th>bank_end_date</th>\n",
       "      <th>bank_trans_number</th>\n",
       "      <th>bank_trans_usd</th>\n",
       "      <th>before_after</th>\n",
       "      <th>one_several</th>\n",
       "      <th>chain</th>\n",
       "      <th>index</th>\n",
       "      <th>btc_usd_amount</th>\n",
       "      <th>usd_perc_diff</th>\n",
       "      <th>date_diff</th>\n",
       "      <th>btc_amount</th>\n",
       "      <th>btc_id</th>\n",
       "      <th>btc_date</th>\n",
       "      <th>sender</th>\n",
       "      <th>receiver</th>\n",
       "      <th>hash</th>\n",
       "      <th>price</th>\n",
       "      <th>filer_org_name_id</th>\n",
       "      <th>icij_sar_id</th>\n",
       "      <th>filer_org_name</th>\n",
       "      <th>originator_bank_id</th>\n",
       "      <th>beneficiary_bank_id</th>\n",
       "      <th>beneficiary_bank</th>\n",
       "      <th>beneficiary_bank_country</th>\n",
       "      <th>beneficiary_iso</th>\n",
       "    </tr>\n",
       "  </thead>\n",
       "  <tbody>\n",
       "    <tr>\n",
       "      <th>667</th>\n",
       "      <td>239768</td>\n",
       "      <td>versobank-as</td>\n",
       "      <td>vtb-bank-kyiv-ukraine-ukr</td>\n",
       "      <td>2016-08-01</td>\n",
       "      <td>2016-08-31</td>\n",
       "      <td>4.00</td>\n",
       "      <td>2286437.26</td>\n",
       "      <td>after</td>\n",
       "      <td>several</td>\n",
       "      <td>663.00</td>\n",
       "      <td>-1.00</td>\n",
       "      <td>2281788.50</td>\n",
       "      <td>0.20</td>\n",
       "      <td>2 days</td>\n",
       "      <td>3988.92</td>\n",
       "      <td>69835</td>\n",
       "      <td>2016-09-02</td>\n",
       "      <td>3PQ4BW6X4kQrpWZT4xoDq9pE8HJYs1nZxZ 35KqXhcmeSy...</td>\n",
       "      <td>1HqxSZqr3HGKDFskoRkbS1TWnAxkpbruQF</td>\n",
       "      <td>edea1cec5d6bcadc7a85d1bc57819f13319f35543e490a...</td>\n",
       "      <td>572.03</td>\n",
       "      <td>the-bank-of-new-york-mellon-corp</td>\n",
       "      <td>3683</td>\n",
       "      <td>The Bank of New York Mellon Corp.</td>\n",
       "      <td>versobank-as</td>\n",
       "      <td>vtb-bank-kyiv-ukraine-ukr</td>\n",
       "      <td>VTB Bank</td>\n",
       "      <td>Ukraine</td>\n",
       "      <td>UKR</td>\n",
       "    </tr>\n",
       "    <tr>\n",
       "      <th>666</th>\n",
       "      <td>239768</td>\n",
       "      <td>versobank-as</td>\n",
       "      <td>vtb-bank-kyiv-ukraine-ukr</td>\n",
       "      <td>2016-08-01</td>\n",
       "      <td>2016-08-31</td>\n",
       "      <td>4.00</td>\n",
       "      <td>2286437.26</td>\n",
       "      <td>after</td>\n",
       "      <td>several</td>\n",
       "      <td>663.00</td>\n",
       "      <td>0.00</td>\n",
       "      <td>2281788.50</td>\n",
       "      <td>0.20</td>\n",
       "      <td>2 days</td>\n",
       "      <td>3988.92</td>\n",
       "      <td>69833</td>\n",
       "      <td>2016-09-02</td>\n",
       "      <td>1HqxSZqr3HGKDFskoRkbS1TWnAxkpbruQF 1NounBMGodd...</td>\n",
       "      <td>1KwA4fS4uVuCNjCtMivE7m5ATbv93UZg8V</td>\n",
       "      <td>969b89425d85562ef2501150945115d5de3d7e86f8612d...</td>\n",
       "      <td>572.03</td>\n",
       "      <td>the-bank-of-new-york-mellon-corp</td>\n",
       "      <td>3683</td>\n",
       "      <td>The Bank of New York Mellon Corp.</td>\n",
       "      <td>versobank-as</td>\n",
       "      <td>vtb-bank-kyiv-ukraine-ukr</td>\n",
       "      <td>VTB Bank</td>\n",
       "      <td>Ukraine</td>\n",
       "      <td>UKR</td>\n",
       "    </tr>\n",
       "  </tbody>\n",
       "</table>\n",
       "</div>"
      ],
      "text/plain": [
       "         id originator_bank_id        beneficiary_bank_id bank_begin_date  \\\n",
       "667  239768       versobank-as  vtb-bank-kyiv-ukraine-ukr      2016-08-01   \n",
       "666  239768       versobank-as  vtb-bank-kyiv-ukraine-ukr      2016-08-01   \n",
       "\n",
       "    bank_end_date  bank_trans_number  bank_trans_usd before_after one_several  \\\n",
       "667    2016-08-31               4.00      2286437.26        after     several   \n",
       "666    2016-08-31               4.00      2286437.26        after     several   \n",
       "\n",
       "     chain  index  btc_usd_amount  usd_perc_diff date_diff  btc_amount  \\\n",
       "667 663.00  -1.00      2281788.50           0.20    2 days     3988.92   \n",
       "666 663.00   0.00      2281788.50           0.20    2 days     3988.92   \n",
       "\n",
       "     btc_id   btc_date                                             sender  \\\n",
       "667   69835 2016-09-02  3PQ4BW6X4kQrpWZT4xoDq9pE8HJYs1nZxZ 35KqXhcmeSy...   \n",
       "666   69833 2016-09-02  1HqxSZqr3HGKDFskoRkbS1TWnAxkpbruQF 1NounBMGodd...   \n",
       "\n",
       "                               receiver  \\\n",
       "667  1HqxSZqr3HGKDFskoRkbS1TWnAxkpbruQF   \n",
       "666  1KwA4fS4uVuCNjCtMivE7m5ATbv93UZg8V   \n",
       "\n",
       "                                                  hash  price  \\\n",
       "667  edea1cec5d6bcadc7a85d1bc57819f13319f35543e490a... 572.03   \n",
       "666  969b89425d85562ef2501150945115d5de3d7e86f8612d... 572.03   \n",
       "\n",
       "                    filer_org_name_id  icij_sar_id  \\\n",
       "667  the-bank-of-new-york-mellon-corp         3683   \n",
       "666  the-bank-of-new-york-mellon-corp         3683   \n",
       "\n",
       "                        filer_org_name originator_bank_id  \\\n",
       "667  The Bank of New York Mellon Corp.       versobank-as   \n",
       "666  The Bank of New York Mellon Corp.       versobank-as   \n",
       "\n",
       "           beneficiary_bank_id beneficiary_bank beneficiary_bank_country  \\\n",
       "667  vtb-bank-kyiv-ukraine-ukr         VTB Bank                  Ukraine   \n",
       "666  vtb-bank-kyiv-ukraine-ukr         VTB Bank                  Ukraine   \n",
       "\n",
       "    beneficiary_iso  \n",
       "667             UKR  \n",
       "666             UKR  "
      ]
     },
     "execution_count": 117,
     "metadata": {},
     "output_type": "execute_result"
    }
   ],
   "source": [
    "sim_det_chain[sim_det_chain.id == ch_list_id[5]][col].sort_values(['btc_date','chain','index'])"
   ]
  },
  {
   "cell_type": "markdown",
   "id": "79f343fb",
   "metadata": {},
   "source": [
    "Write bank transactions for which parts of \"chains\" were found among similar BTC to Excel:"
   ]
  },
  {
   "cell_type": "code",
   "execution_count": 118,
   "id": "8a900df1",
   "metadata": {},
   "outputs": [],
   "source": [
    "sim_det_chain_exc = sim_det_chain[sim_det_chain.id.isin(ch_list_id)].copy()\n",
    "sim_det_chain_exc['btc_date'] = sim_det_chain_exc['btc_date'].dt.strftime('%d.%m.%Y')\n",
    "sim_det_chain_exc['bank_begin_date'] = sim_det_chain_exc['bank_begin_date'].dt.strftime('%d.%m.%Y')\n",
    "sim_det_chain_exc['bank_end_date'] = sim_det_chain_exc['bank_end_date'].dt.strftime('%d.%m.%Y')"
   ]
  },
  {
   "cell_type": "code",
   "execution_count": 119,
   "id": "ff9fc24c",
   "metadata": {},
   "outputs": [],
   "source": [
    "sim_det_chain_exc[col].sort_values(['id','chain','index']).to_excel('C:\\\\python\\\\portfolio\\\\english\\\\data_analysis_python\\\\bank_bitcoin_match\\\\similar_chain.xlsx', index = False)"
   ]
  },
  {
   "cell_type": "markdown",
   "id": "864364fc",
   "metadata": {},
   "source": [
    "Add the column to the result of conditional join marking the BTC transactions which are parts of potential \"chain\":"
   ]
  },
  {
   "cell_type": "code",
   "execution_count": 120,
   "id": "0b90afcd",
   "metadata": {},
   "outputs": [],
   "source": [
    "chain_btc_id = chain.btc_id.unique()\n",
    "similar_det['chain'] = similar_det.apply(lambda row: 'chain' if row.btc_id in chain_btc_id else 'not', axis = 1)"
   ]
  },
  {
   "cell_type": "markdown",
   "id": "0192b1d0",
   "metadata": {},
   "source": [
    "Most of BTC that are parts of potential \"chains\" are in before-several group:"
   ]
  },
  {
   "cell_type": "code",
   "execution_count": 121,
   "id": "0022ac69",
   "metadata": {},
   "outputs": [
    {
     "data": {
      "text/html": [
       "<div>\n",
       "<style scoped>\n",
       "    .dataframe tbody tr th:only-of-type {\n",
       "        vertical-align: middle;\n",
       "    }\n",
       "\n",
       "    .dataframe tbody tr th {\n",
       "        vertical-align: top;\n",
       "    }\n",
       "\n",
       "    .dataframe thead th {\n",
       "        text-align: right;\n",
       "    }\n",
       "</style>\n",
       "<table border=\"1\" class=\"dataframe\">\n",
       "  <thead>\n",
       "    <tr style=\"text-align: right;\">\n",
       "      <th></th>\n",
       "      <th></th>\n",
       "      <th></th>\n",
       "      <th>bank_trans_usd</th>\n",
       "    </tr>\n",
       "    <tr>\n",
       "      <th>before_after</th>\n",
       "      <th>one_several</th>\n",
       "      <th>chain</th>\n",
       "      <th></th>\n",
       "    </tr>\n",
       "  </thead>\n",
       "  <tbody>\n",
       "    <tr>\n",
       "      <th rowspan=\"3\" valign=\"top\">after</th>\n",
       "      <th>one</th>\n",
       "      <th>not</th>\n",
       "      <td>23</td>\n",
       "    </tr>\n",
       "    <tr>\n",
       "      <th rowspan=\"2\" valign=\"top\">several</th>\n",
       "      <th>chain</th>\n",
       "      <td>2</td>\n",
       "    </tr>\n",
       "    <tr>\n",
       "      <th>not</th>\n",
       "      <td>126</td>\n",
       "    </tr>\n",
       "    <tr>\n",
       "      <th rowspan=\"3\" valign=\"top\">before</th>\n",
       "      <th>one</th>\n",
       "      <th>not</th>\n",
       "      <td>22</td>\n",
       "    </tr>\n",
       "    <tr>\n",
       "      <th rowspan=\"2\" valign=\"top\">several</th>\n",
       "      <th>chain</th>\n",
       "      <td>85</td>\n",
       "    </tr>\n",
       "    <tr>\n",
       "      <th>not</th>\n",
       "      <td>132</td>\n",
       "    </tr>\n",
       "    <tr>\n",
       "      <th rowspan=\"2\" valign=\"top\">before/after</th>\n",
       "      <th rowspan=\"2\" valign=\"top\">several</th>\n",
       "      <th>chain</th>\n",
       "      <td>6</td>\n",
       "    </tr>\n",
       "    <tr>\n",
       "      <th>not</th>\n",
       "      <td>327</td>\n",
       "    </tr>\n",
       "  </tbody>\n",
       "</table>\n",
       "</div>"
      ],
      "text/plain": [
       "                                bank_trans_usd\n",
       "before_after one_several chain                \n",
       "after        one         not                23\n",
       "             several     chain               2\n",
       "                         not               126\n",
       "before       one         not                22\n",
       "             several     chain              85\n",
       "                         not               132\n",
       "before/after several     chain               6\n",
       "                         not               327"
      ]
     },
     "execution_count": 121,
     "metadata": {},
     "output_type": "execute_result"
    }
   ],
   "source": [
    "similar_det.groupby(['before_after','one_several','chain'])['bank_trans_usd'].count().to_frame()"
   ]
  },
  {
   "cell_type": "code",
   "execution_count": 122,
   "id": "c18864af",
   "metadata": {},
   "outputs": [],
   "source": [
    "col = ['id','originator_bank_id','beneficiary_bank_id','bank_begin_date','bank_end_date',\n",
    "     'bank_trans_number','bank_trans_usd',\n",
    "       'before_after', 'one_several', 'chain',\n",
    "    'btc_usd_amount', 'usd_perc_diff', 'date_diff','btc_amount',\n",
    "     'btc_id', 'btc_date', 'sender', 'receiver', 'hash',\n",
    "        'price', 'filer_org_name_id','icij_sar_id', 'filer_org_name', \n",
    "       'originator_bank_id', 'beneficiary_bank_id', 'beneficiary_bank',\n",
    "       'beneficiary_bank_country', 'beneficiary_iso']"
   ]
  },
  {
   "cell_type": "markdown",
   "id": "821fbc74",
   "metadata": {},
   "source": [
    "Convert dates to a more convenient format when write the result to Excel:"
   ]
  },
  {
   "cell_type": "code",
   "execution_count": 123,
   "id": "81eaaddb",
   "metadata": {},
   "outputs": [],
   "source": [
    "similar_det_exc = similar_det.copy()\n",
    "similar_det_exc['btc_date'] = similar_det_exc['btc_date'].dt.strftime('%d.%m.%Y')\n",
    "similar_det_exc['bank_begin_date'] = similar_det_exc['bank_begin_date'].dt.strftime('%d.%m.%Y')\n",
    "similar_det_exc['bank_end_date'] = similar_det_exc['bank_end_date'].dt.strftime('%d.%m.%Y')"
   ]
  },
  {
   "cell_type": "markdown",
   "id": "460b6bf9",
   "metadata": {},
   "source": [
    "Write the conditional join result to Excel:"
   ]
  },
  {
   "cell_type": "code",
   "execution_count": 124,
   "id": "549c36c9",
   "metadata": {},
   "outputs": [],
   "source": [
    "similar_det_exc[col].sort_values(['id','bank_begin_date','btc_date']).to_excel('C:\\\\python\\\\portfolio\\\\english\\\\data_analysis_python\\\\bank_bitcoin_match\\\\similar_det.xlsx', index = False)"
   ]
  },
  {
   "cell_type": "markdown",
   "id": "e32e2bcf",
   "metadata": {},
   "source": [
    "<a href=\"#0\"><h4>Back to top</h4></a>"
   ]
  }
 ],
 "metadata": {
  "kernelspec": {
   "display_name": "Python 3 (ipykernel)",
   "language": "python",
   "name": "python3"
  },
  "language_info": {
   "codemirror_mode": {
    "name": "ipython",
    "version": 3
   },
   "file_extension": ".py",
   "mimetype": "text/x-python",
   "name": "python",
   "nbconvert_exporter": "python",
   "pygments_lexer": "ipython3",
   "version": "3.8.12"
  }
 },
 "nbformat": 4,
 "nbformat_minor": 5
}
