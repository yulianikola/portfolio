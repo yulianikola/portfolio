{
 "cells": [
  {
   "cell_type": "markdown",
   "metadata": {},
   "source": [
    "<div class=\"alert alert-info\">\n",
    "View notebook in interactive mode for using hyperlinks and correct display of markdown:<br>\n",
    "<a href='https://nbviewer.org/github/yulianikola/portfolio/blob/master/english/data_analysis_python/hypothesis/AB_test_cookie_eng.ipynb'>AB_test_cookie</a></div>"
   ]
  },
  {
   "cell_type": "markdown",
   "metadata": {},
   "source": [
    "### АВ-test\n",
    "#### Mobile game Cookie Cats"
   ]
  },
  {
   "cell_type": "markdown",
   "metadata": {},
   "source": [
    "<p style=\"align: center;\"><img align=center src=\"https://i.ytimg.com/vi/iPxZIp0cbJE/maxresdefault.jpg\"  width=500></p>\n",
    " \n",
    " \n",
    "<p style=\"align: center;\"><img align=center src=\"https://s3.amazonaws.com/assets.datacamp.com/production/project_184/img/cc_gates.png\"  width=500></p>\n"
   ]
  },
  {
   "cell_type": "markdown",
   "metadata": {},
   "source": [
    "<div class=\"alert alert-info\">\n",
    "As players progress through the game's levels, they occasionally encounter gates that make them wait a non-trivial amount of time or make in-app purchases to continue. In addition to encouraging in-app purchases, these gates serve the important purpose of giving players a forced break in the game, which will hopefully lead to increased and prolonged enjoyment of the game.\n",
    "</div>"
   ]
  },
  {
   "cell_type": "markdown",
   "metadata": {},
   "source": [
    "<div class=\"alert alert-info\">\n",
    "<b>But where to place the gate?</b>\n",
    "Originally, the first gate was placed at level 30. The task is to analyze the AB test, in which the creators moved the first gate in Cookie Cats from level 30 to level 40. Specifically, you need to look at the impact of the A/B test on player retention.\n",
    "</div>"
   ]
  },
  {
   "cell_type": "markdown",
   "metadata": {},
   "source": [
    "**Data collected from 90 189 players who installed the game during the AB test. Variables:**\n",
    "\n",
    "* `userid` - player identification number\n",
    "\n",
    "* `version` - whether player in control group (gate_30 - gate at level 30) or test group (gate_40 - gate at level 40).\n",
    "\n",
    "* `sum_gamerounds` - number of played rounds during the first week after installation \n",
    "* `retention_1` - player came back and played 1 day after installation?\n",
    "* `retention_7` - player came back and played 7 days after installation?\n",
    "\n",
    "When a player installed the game, he was randomly assigned `gate_30` или `gate_40`."
   ]
  },
  {
   "cell_type": "markdown",
   "metadata": {},
   "source": [
    "<h4>Table of contents</h4><br>\n",
    "<p id=\"0\">\n",
    "<ul type=\"square\"><a href=\"#1\"><li>Explore the data</li></a>\n",
    "<a href=\"#2\"><li>Impact on retention (Pearson's chi-squared)</li></a>\n",
    "    <ul><a href=\"#2.1\"><li>1 day after</li></a>\n",
    "    <a href=\"#2.2\"><li>7 days after</li></a></ul>\n",
    "<a href=\"#3\"><li>Impact on number of rounds</li></a> \n",
    "    <ul><a href=\"#3.1\"><li>Student's t-test</li></a>\n",
    "    <a href=\"#3.2\"><li>Mann-Whitney u-test</li></a>\n",
    "    <a href=\"#3.3\"><li>Log transformation</li></a></ul>\n",
    "<a href=\"#4\"><li>Conclusion</li></a>"
   ]
  },
  {
   "cell_type": "code",
   "execution_count": 1,
   "metadata": {},
   "outputs": [],
   "source": [
    "import numpy as np\n",
    "import pandas as pd\n",
    "import scipy.stats as stats \n",
    "import matplotlib.pyplot as plt\n",
    "import seaborn as sns"
   ]
  },
  {
   "cell_type": "code",
   "execution_count": 3,
   "metadata": {
    "scrolled": false
   },
   "outputs": [
    {
     "data": {
      "text/html": [
       "<div>\n",
       "<style scoped>\n",
       "    .dataframe tbody tr th:only-of-type {\n",
       "        vertical-align: middle;\n",
       "    }\n",
       "\n",
       "    .dataframe tbody tr th {\n",
       "        vertical-align: top;\n",
       "    }\n",
       "\n",
       "    .dataframe thead th {\n",
       "        text-align: right;\n",
       "    }\n",
       "</style>\n",
       "<table border=\"1\" class=\"dataframe\">\n",
       "  <thead>\n",
       "    <tr style=\"text-align: right;\">\n",
       "      <th></th>\n",
       "      <th>userid</th>\n",
       "      <th>version</th>\n",
       "      <th>sum_gamerounds</th>\n",
       "      <th>retention_1</th>\n",
       "      <th>retention_7</th>\n",
       "    </tr>\n",
       "  </thead>\n",
       "  <tbody>\n",
       "    <tr>\n",
       "      <th>0</th>\n",
       "      <td>116</td>\n",
       "      <td>gate_30</td>\n",
       "      <td>3</td>\n",
       "      <td>False</td>\n",
       "      <td>False</td>\n",
       "    </tr>\n",
       "    <tr>\n",
       "      <th>1</th>\n",
       "      <td>337</td>\n",
       "      <td>gate_30</td>\n",
       "      <td>38</td>\n",
       "      <td>True</td>\n",
       "      <td>False</td>\n",
       "    </tr>\n",
       "    <tr>\n",
       "      <th>2</th>\n",
       "      <td>377</td>\n",
       "      <td>gate_40</td>\n",
       "      <td>165</td>\n",
       "      <td>True</td>\n",
       "      <td>False</td>\n",
       "    </tr>\n",
       "    <tr>\n",
       "      <th>3</th>\n",
       "      <td>483</td>\n",
       "      <td>gate_40</td>\n",
       "      <td>1</td>\n",
       "      <td>False</td>\n",
       "      <td>False</td>\n",
       "    </tr>\n",
       "    <tr>\n",
       "      <th>4</th>\n",
       "      <td>488</td>\n",
       "      <td>gate_40</td>\n",
       "      <td>179</td>\n",
       "      <td>True</td>\n",
       "      <td>True</td>\n",
       "    </tr>\n",
       "  </tbody>\n",
       "</table>\n",
       "</div>"
      ],
      "text/plain": [
       "   userid  version  sum_gamerounds  retention_1  retention_7\n",
       "0     116  gate_30               3        False        False\n",
       "1     337  gate_30              38         True        False\n",
       "2     377  gate_40             165         True        False\n",
       "3     483  gate_40               1        False        False\n",
       "4     488  gate_40             179         True         True"
      ]
     },
     "execution_count": 3,
     "metadata": {},
     "output_type": "execute_result"
    }
   ],
   "source": [
    "data = pd.read_csv('c:\\\\python\\\\portfolio\\\\data_analysis_python\\\\3_hypothesis\\\\data\\\\cookie_cats.csv')\n",
    "data.head()"
   ]
  },
  {
   "cell_type": "markdown",
   "metadata": {},
   "source": [
    "<p id=\"1\">\n",
    "<h4>EDA</h4><br>"
   ]
  },
  {
   "cell_type": "markdown",
   "metadata": {},
   "source": [
    "The dataset contains 90189 rows, no nulls. The userid and sum_gamerounds columns are defined of numeric type, so there are no non-numeric characters among the values, which can represent missing values:"
   ]
  },
  {
   "cell_type": "code",
   "execution_count": 4,
   "metadata": {},
   "outputs": [
    {
     "name": "stdout",
     "output_type": "stream",
     "text": [
      "<class 'pandas.core.frame.DataFrame'>\n",
      "RangeIndex: 90189 entries, 0 to 90188\n",
      "Data columns (total 5 columns):\n",
      " #   Column          Non-Null Count  Dtype \n",
      "---  ------          --------------  ----- \n",
      " 0   userid          90189 non-null  int64 \n",
      " 1   version         90189 non-null  object\n",
      " 2   sum_gamerounds  90189 non-null  int64 \n",
      " 3   retention_1     90189 non-null  bool  \n",
      " 4   retention_7     90189 non-null  bool  \n",
      "dtypes: bool(2), int64(2), object(1)\n",
      "memory usage: 2.2+ MB\n"
     ]
    }
   ],
   "source": [
    "data.info()"
   ]
  },
  {
   "cell_type": "markdown",
   "metadata": {},
   "source": [
    "Based on the values of categorical type columns, there are no \"non-standard\" nulls like \"?\":"
   ]
  },
  {
   "cell_type": "code",
   "execution_count": 5,
   "metadata": {
    "scrolled": true
   },
   "outputs": [
    {
     "name": "stdout",
     "output_type": "stream",
     "text": [
      "['gate_30' 'gate_40']\n",
      "\n",
      "[False  True]\n",
      "\n",
      "[False  True]\n"
     ]
    }
   ],
   "source": [
    "print(data.version.unique())\n",
    "print('')\n",
    "print(data.retention_1.unique())\n",
    "print('')\n",
    "print(data.retention_7.unique())"
   ]
  },
  {
   "cell_type": "markdown",
   "metadata": {},
   "source": [
    "Column userid does not contain duplicates, as number of unique values equal number of rows. Thus, there are no users in both the control and test groups:"
   ]
  },
  {
   "cell_type": "code",
   "execution_count": 6,
   "metadata": {
    "scrolled": true
   },
   "outputs": [
    {
     "data": {
      "text/plain": [
       "90189"
      ]
     },
     "execution_count": 6,
     "metadata": {},
     "output_type": "execute_result"
    }
   ],
   "source": [
    "data.userid.nunique()"
   ]
  },
  {
   "cell_type": "markdown",
   "metadata": {},
   "source": [
    "Test group contains a bit more players:"
   ]
  },
  {
   "cell_type": "code",
   "execution_count": 7,
   "metadata": {},
   "outputs": [
    {
     "data": {
      "text/plain": [
       "gate_40    0.504374\n",
       "gate_30    0.495626\n",
       "Name: version, dtype: float64"
      ]
     },
     "execution_count": 7,
     "metadata": {},
     "output_type": "execute_result"
    }
   ],
   "source": [
    "data.version.value_counts(normalize = True)"
   ]
  },
  {
   "cell_type": "markdown",
   "metadata": {},
   "source": [
    "Among the players, 45% have returned to the game after one day and 19% after 7 days. At the same time, 51% have not return to the game after 1 or 7 days (but this does not mean that they have not return in between, it just was not recorded):"
   ]
  },
  {
   "cell_type": "code",
   "execution_count": 8,
   "metadata": {
    "scrolled": false
   },
   "outputs": [
    {
     "data": {
      "text/html": [
       "<div>\n",
       "<style scoped>\n",
       "    .dataframe tbody tr th:only-of-type {\n",
       "        vertical-align: middle;\n",
       "    }\n",
       "\n",
       "    .dataframe tbody tr th {\n",
       "        vertical-align: top;\n",
       "    }\n",
       "\n",
       "    .dataframe thead th {\n",
       "        text-align: right;\n",
       "    }\n",
       "</style>\n",
       "<table border=\"1\" class=\"dataframe\">\n",
       "  <thead>\n",
       "    <tr style=\"text-align: right;\">\n",
       "      <th>retention_7</th>\n",
       "      <th>False</th>\n",
       "      <th>True</th>\n",
       "      <th>All</th>\n",
       "    </tr>\n",
       "    <tr>\n",
       "      <th>retention_1</th>\n",
       "      <th></th>\n",
       "      <th></th>\n",
       "      <th></th>\n",
       "    </tr>\n",
       "  </thead>\n",
       "  <tbody>\n",
       "    <tr>\n",
       "      <th>False</th>\n",
       "      <td>0.514885</td>\n",
       "      <td>0.039905</td>\n",
       "      <td>0.55479</td>\n",
       "    </tr>\n",
       "    <tr>\n",
       "      <th>True</th>\n",
       "      <td>0.299050</td>\n",
       "      <td>0.146160</td>\n",
       "      <td>0.44521</td>\n",
       "    </tr>\n",
       "    <tr>\n",
       "      <th>All</th>\n",
       "      <td>0.813935</td>\n",
       "      <td>0.186065</td>\n",
       "      <td>1.00000</td>\n",
       "    </tr>\n",
       "  </tbody>\n",
       "</table>\n",
       "</div>"
      ],
      "text/plain": [
       "retention_7     False      True      All\n",
       "retention_1                             \n",
       "False        0.514885  0.039905  0.55479\n",
       "True         0.299050  0.146160  0.44521\n",
       "All          0.813935  0.186065  1.00000"
      ]
     },
     "execution_count": 8,
     "metadata": {},
     "output_type": "execute_result"
    }
   ],
   "source": [
    "pd.crosstab(data.retention_1, data.retention_7, normalize = True, margins = True )"
   ]
  },
  {
   "cell_type": "markdown",
   "metadata": {},
   "source": [
    "Have a look at the statistics of the only numerical variable the number of rounds played:"
   ]
  },
  {
   "cell_type": "code",
   "execution_count": 9,
   "metadata": {
    "scrolled": true
   },
   "outputs": [
    {
     "data": {
      "text/plain": [
       "count    90189.000000\n",
       "mean        51.872457\n",
       "std        195.050858\n",
       "min          0.000000\n",
       "25%          5.000000\n",
       "50%         16.000000\n",
       "75%         51.000000\n",
       "max      49854.000000\n",
       "Name: sum_gamerounds, dtype: float64"
      ]
     },
     "execution_count": 9,
     "metadata": {},
     "output_type": "execute_result"
    }
   ],
   "source": [
    "data.sum_gamerounds.describe()"
   ]
  },
  {
   "cell_type": "markdown",
   "metadata": {},
   "source": [
    "The minimum value of rounds played is 0, there are 3994 such players. We can not know if they have returned to the game at all during the experiment. Since we only have a record of returning after one day and after seven, players could have returned in between. Among the people who played 0 rounds, there could be those who have not returned at all and those who have returned but have not complete a single round. We can't find that out, so we keep these players in the dataset."
   ]
  },
  {
   "cell_type": "code",
   "execution_count": 10,
   "metadata": {},
   "outputs": [
    {
     "data": {
      "text/plain": [
       "3994"
      ]
     },
     "execution_count": 10,
     "metadata": {},
     "output_type": "execute_result"
    }
   ],
   "source": [
    "len(data[data.sum_gamerounds == 0])"
   ]
  },
  {
   "cell_type": "markdown",
   "metadata": {},
   "source": [
    "Given that 75% of the participants have played no more than 51 rounds each, the maximum is 49854 rounds. There can be errors or outliers. A value of 49854 rounds is the only one that is so different from the other values:"
   ]
  },
  {
   "cell_type": "code",
   "execution_count": 11,
   "metadata": {
    "scrolled": false
   },
   "outputs": [
    {
     "data": {
      "image/png": "[encoded data removed]",
      "text/plain": [
       "<Figure size 864x360 with 2 Axes>"
      ]
     },
     "metadata": {
      "needs_background": "light"
     },
     "output_type": "display_data"
    }
   ],
   "source": [
    "plt.figure(figsize = (12, 5)) \n",
    "plt.subplot(1,2,1)\n",
    "sns.boxplot(y = data.sum_gamerounds);\n",
    "plt.title('sum_gamerounds');\n",
    "plt.subplot(1,2,2)\n",
    "plt.hist(data.sum_gamerounds);\n",
    "plt.title('sum_gamerounds');"
   ]
  },
  {
   "cell_type": "markdown",
   "metadata": {},
   "source": [
    "Have a look at the player with such number of rounds. He is from control group, has not returned 1 day later, but has returned 7 days later."
   ]
  },
  {
   "cell_type": "code",
   "execution_count": 12,
   "metadata": {
    "scrolled": true
   },
   "outputs": [
    {
     "data": {
      "text/html": [
       "<div>\n",
       "<style scoped>\n",
       "    .dataframe tbody tr th:only-of-type {\n",
       "        vertical-align: middle;\n",
       "    }\n",
       "\n",
       "    .dataframe tbody tr th {\n",
       "        vertical-align: top;\n",
       "    }\n",
       "\n",
       "    .dataframe thead th {\n",
       "        text-align: right;\n",
       "    }\n",
       "</style>\n",
       "<table border=\"1\" class=\"dataframe\">\n",
       "  <thead>\n",
       "    <tr style=\"text-align: right;\">\n",
       "      <th></th>\n",
       "      <th>userid</th>\n",
       "      <th>version</th>\n",
       "      <th>sum_gamerounds</th>\n",
       "      <th>retention_1</th>\n",
       "      <th>retention_7</th>\n",
       "    </tr>\n",
       "  </thead>\n",
       "  <tbody>\n",
       "    <tr>\n",
       "      <th>57702</th>\n",
       "      <td>6390605</td>\n",
       "      <td>gate_30</td>\n",
       "      <td>49854</td>\n",
       "      <td>False</td>\n",
       "      <td>True</td>\n",
       "    </tr>\n",
       "  </tbody>\n",
       "</table>\n",
       "</div>"
      ],
      "text/plain": [
       "        userid  version  sum_gamerounds  retention_1  retention_7\n",
       "57702  6390605  gate_30           49854        False         True"
      ]
     },
     "execution_count": 12,
     "metadata": {},
     "output_type": "execute_result"
    }
   ],
   "source": [
    "data[data.sum_gamerounds == data.sum_gamerounds.max()]"
   ]
  },
  {
   "cell_type": "markdown",
   "metadata": {},
   "source": [
    "To decide that this is an error, one needs to know how many rounds are possible in this game. But even if that number is possible, it is undoubtedly an outlier, distorting the data. So let's exclude it and call this version of dataset sample_1:"
   ]
  },
  {
   "cell_type": "code",
   "execution_count": 13,
   "metadata": {},
   "outputs": [],
   "source": [
    "data_1 = data[data.sum_gamerounds < data.sum_gamerounds.max()]"
   ]
  },
  {
   "cell_type": "markdown",
   "metadata": {},
   "source": [
    "Now let's look at the statistics, the histogram and the boxplot without this outlier. The distribution is still very asymmetric, heavily skewed to the right, with a very long right tail."
   ]
  },
  {
   "cell_type": "code",
   "execution_count": 14,
   "metadata": {},
   "outputs": [
    {
     "data": {
      "text/plain": [
       "count    90188.000000\n",
       "mean        51.320253\n",
       "std        102.682719\n",
       "min          0.000000\n",
       "25%          5.000000\n",
       "50%         16.000000\n",
       "75%         51.000000\n",
       "max       2961.000000\n",
       "Name: sum_gamerounds, dtype: float64"
      ]
     },
     "execution_count": 14,
     "metadata": {},
     "output_type": "execute_result"
    }
   ],
   "source": [
    "data_1.sum_gamerounds.describe()"
   ]
  },
  {
   "cell_type": "code",
   "execution_count": 15,
   "metadata": {
    "scrolled": true
   },
   "outputs": [
    {
     "data": {
      "image/png": "[encoded data removed]",
      "text/plain": [
       "<Figure size 864x360 with 2 Axes>"
      ]
     },
     "metadata": {
      "needs_background": "light"
     },
     "output_type": "display_data"
    }
   ],
   "source": [
    "plt.figure(figsize = (12, 5)) \n",
    "plt.subplot(1,2,1)\n",
    "sns.boxplot(y = data_1.sum_gamerounds);\n",
    "plt.title('sum_gamerounds');\n",
    "plt.subplot(1,2,2)\n",
    "plt.hist(data_1.sum_gamerounds);\n",
    "plt.title('sum_gamerounds');"
   ]
  },
  {
   "cell_type": "markdown",
   "metadata": {},
   "source": [
    "Calculate the lower bound of the right-tail outliers according to the boxplot calculations and the boundary of the so-called extreme outliers. Even the boundary for extreme outliers is only 189, while the values go up to almost 3000:"
   ]
  },
  {
   "cell_type": "code",
   "execution_count": 21,
   "metadata": {},
   "outputs": [
    {
     "data": {
      "text/plain": [
       "(120.0, 189.0)"
      ]
     },
     "execution_count": 21,
     "metadata": {},
     "output_type": "execute_result"
    }
   ],
   "source": [
    "up_out = (data_1.sum_gamerounds.describe()['75%'] + 1.5 * (data_1.sum_gamerounds.describe()['75%']\n",
    "                                                           - data_1.sum_gamerounds.describe()['25%'] ))\n",
    "up_out_ext = (data_1.sum_gamerounds.describe()['75%'] + 3 * (data_1.sum_gamerounds.describe()['75%']\n",
    "                                                             - data_1.sum_gamerounds.describe()['25%'] ))\n",
    "up_out, up_out_ext"
   ]
  },
  {
   "cell_type": "markdown",
   "metadata": {},
   "source": [
    "Let's assume that rounds (rounds played during the week, variable sum_gamerounds) and levels (at which gate is placed, 30th or 40th) are the same thing. The goal of the AB test is to estimate the impact of gate location. In my opinion, if a player has gone through many levels in a week (numbers quite distant from 30 or 40), it is unlikely that his behavior (in terms of number of rounds or retention rate) is related to the gate location. That is, if gate at level 30/40 has an effect, it is unlikely that it will last until 200, 500, 1000, etc levels. So let's make another version of the dataset, excluding players with outliers in sum_gamerounds based on the extreme boundary (call this version of dataset sample_2). Below we will check the robustness of tests to such changes:\n"
   ]
  },
  {
   "cell_type": "code",
   "execution_count": 22,
   "metadata": {},
   "outputs": [],
   "source": [
    "data_2 = data_1[data_1.sum_gamerounds < up_out_ext ]"
   ]
  },
  {
   "cell_type": "markdown",
   "metadata": {},
   "source": [
    "Number of rows reduced from 90189 to 84449:"
   ]
  },
  {
   "cell_type": "code",
   "execution_count": 23,
   "metadata": {
    "scrolled": true
   },
   "outputs": [
    {
     "name": "stdout",
     "output_type": "stream",
     "text": [
      "<class 'pandas.core.frame.DataFrame'>\n",
      "Int64Index: 84449 entries, 0 to 90188\n",
      "Data columns (total 5 columns):\n",
      " #   Column          Non-Null Count  Dtype \n",
      "---  ------          --------------  ----- \n",
      " 0   userid          84449 non-null  int64 \n",
      " 1   version         84449 non-null  object\n",
      " 2   sum_gamerounds  84449 non-null  int64 \n",
      " 3   retention_1     84449 non-null  bool  \n",
      " 4   retention_7     84449 non-null  bool  \n",
      "dtypes: bool(2), int64(2), object(1)\n",
      "memory usage: 2.7+ MB\n"
     ]
    }
   ],
   "source": [
    "data_2.info()"
   ]
  },
  {
   "cell_type": "markdown",
   "metadata": {},
   "source": [
    "Statistics of sum_gamerounds after exclusion of outliers:"
   ]
  },
  {
   "cell_type": "code",
   "execution_count": 24,
   "metadata": {
    "scrolled": false
   },
   "outputs": [
    {
     "data": {
      "text/plain": [
       "count    84449.000000\n",
       "mean        30.625703\n",
       "std         39.138814\n",
       "min          0.000000\n",
       "25%          4.000000\n",
       "50%         14.000000\n",
       "75%         41.000000\n",
       "max        188.000000\n",
       "Name: sum_gamerounds, dtype: float64"
      ]
     },
     "execution_count": 24,
     "metadata": {},
     "output_type": "execute_result"
    }
   ],
   "source": [
    "data_2.sum_gamerounds.describe()"
   ]
  },
  {
   "cell_type": "markdown",
   "metadata": {},
   "source": [
    "After exclusion of outliers the right tail becomes visible on the histogram:"
   ]
  },
  {
   "cell_type": "code",
   "execution_count": 25,
   "metadata": {
    "scrolled": false
   },
   "outputs": [
    {
     "data": {
      "image/png": "[encoded data removed]",
      "text/plain": [
       "<Figure size 864x360 with 2 Axes>"
      ]
     },
     "metadata": {
      "needs_background": "light"
     },
     "output_type": "display_data"
    }
   ],
   "source": [
    "plt.figure(figsize = (12, 5)) \n",
    "plt.subplot(1,2,1)\n",
    "sns.boxplot(y = data_2.sum_gamerounds);\n",
    "plt.title('sum_gamerounds');\n",
    "plt.subplot(1,2,2)\n",
    "plt.hist(data_2.sum_gamerounds);\n",
    "plt.title('sum_gamerounds');"
   ]
  },
  {
   "cell_type": "markdown",
   "metadata": {},
   "source": [
    "Distributions of retention variables (1 day / 7 days later) have changed insignificantly after the exclusion of outliers:"
   ]
  },
  {
   "cell_type": "code",
   "execution_count": 26,
   "metadata": {
    "scrolled": false
   },
   "outputs": [
    {
     "data": {
      "text/html": [
       "<div>\n",
       "<style scoped>\n",
       "    .dataframe tbody tr th:only-of-type {\n",
       "        vertical-align: middle;\n",
       "    }\n",
       "\n",
       "    .dataframe tbody tr th {\n",
       "        vertical-align: top;\n",
       "    }\n",
       "\n",
       "    .dataframe thead th {\n",
       "        text-align: right;\n",
       "    }\n",
       "</style>\n",
       "<table border=\"1\" class=\"dataframe\">\n",
       "  <thead>\n",
       "    <tr style=\"text-align: right;\">\n",
       "      <th>retention_7</th>\n",
       "      <th>False</th>\n",
       "      <th>True</th>\n",
       "      <th>All</th>\n",
       "    </tr>\n",
       "    <tr>\n",
       "      <th>retention_1</th>\n",
       "      <th></th>\n",
       "      <th></th>\n",
       "      <th></th>\n",
       "    </tr>\n",
       "  </thead>\n",
       "  <tbody>\n",
       "    <tr>\n",
       "      <th>False</th>\n",
       "      <td>0.548911</td>\n",
       "      <td>0.039018</td>\n",
       "      <td>0.587929</td>\n",
       "    </tr>\n",
       "    <tr>\n",
       "      <th>True</th>\n",
       "      <td>0.309358</td>\n",
       "      <td>0.102713</td>\n",
       "      <td>0.412071</td>\n",
       "    </tr>\n",
       "    <tr>\n",
       "      <th>All</th>\n",
       "      <td>0.858269</td>\n",
       "      <td>0.141731</td>\n",
       "      <td>1.000000</td>\n",
       "    </tr>\n",
       "  </tbody>\n",
       "</table>\n",
       "</div>"
      ],
      "text/plain": [
       "retention_7     False      True       All\n",
       "retention_1                              \n",
       "False        0.548911  0.039018  0.587929\n",
       "True         0.309358  0.102713  0.412071\n",
       "All          0.858269  0.141731  1.000000"
      ]
     },
     "execution_count": 26,
     "metadata": {},
     "output_type": "execute_result"
    }
   ],
   "source": [
    "pd.crosstab(data_2.retention_1, data_2.retention_7, normalize = True, margins = True )"
   ]
  },
  {
   "cell_type": "markdown",
   "metadata": {},
   "source": [
    "Control/test groups ratio remains almost unchanged:"
   ]
  },
  {
   "cell_type": "code",
   "execution_count": 27,
   "metadata": {
    "scrolled": false
   },
   "outputs": [
    {
     "data": {
      "text/plain": [
       "gate_40    0.504612\n",
       "gate_30    0.495388\n",
       "Name: version, dtype: float64"
      ]
     },
     "execution_count": 27,
     "metadata": {},
     "output_type": "execute_result"
    }
   ],
   "source": [
    "data_2.version.value_counts(normalize = True)"
   ]
  },
  {
   "cell_type": "markdown",
   "metadata": {},
   "source": [
    "<a href=\"#0\"><h4>Back to top</h4></a>"
   ]
  },
  {
   "cell_type": "markdown",
   "metadata": {},
   "source": [
    "<p id=\"2\">\n",
    "<h4> Impact on player's retention</h4><br>"
   ]
  },
  {
   "cell_type": "markdown",
   "metadata": {},
   "source": [
    "Split the data from sample_1 in control and test groups:"
   ]
  },
  {
   "cell_type": "code",
   "execution_count": 28,
   "metadata": {},
   "outputs": [],
   "source": [
    "gate_30 = data_1[data_1.version == 'gate_30']\n",
    "gate_40 = data_1[data_1.version == 'gate_40']"
   ]
  },
  {
   "cell_type": "markdown",
   "metadata": {},
   "source": [
    "Distribution of retention variables are very similar between control and test groups:"
   ]
  },
  {
   "cell_type": "code",
   "execution_count": 29,
   "metadata": {},
   "outputs": [
    {
     "data": {
      "text/html": [
       "<div>\n",
       "<style scoped>\n",
       "    .dataframe tbody tr th:only-of-type {\n",
       "        vertical-align: middle;\n",
       "    }\n",
       "\n",
       "    .dataframe tbody tr th {\n",
       "        vertical-align: top;\n",
       "    }\n",
       "\n",
       "    .dataframe thead th {\n",
       "        text-align: right;\n",
       "    }\n",
       "</style>\n",
       "<table border=\"1\" class=\"dataframe\">\n",
       "  <thead>\n",
       "    <tr style=\"text-align: right;\">\n",
       "      <th>retention_7</th>\n",
       "      <th>False</th>\n",
       "      <th>True</th>\n",
       "      <th>All</th>\n",
       "    </tr>\n",
       "    <tr>\n",
       "      <th>retention_1</th>\n",
       "      <th></th>\n",
       "      <th></th>\n",
       "      <th></th>\n",
       "    </tr>\n",
       "  </thead>\n",
       "  <tbody>\n",
       "    <tr>\n",
       "      <th>False</th>\n",
       "      <td>0.510973</td>\n",
       "      <td>0.040829</td>\n",
       "      <td>0.551802</td>\n",
       "    </tr>\n",
       "    <tr>\n",
       "      <th>True</th>\n",
       "      <td>0.298843</td>\n",
       "      <td>0.149355</td>\n",
       "      <td>0.448198</td>\n",
       "    </tr>\n",
       "    <tr>\n",
       "      <th>All</th>\n",
       "      <td>0.809817</td>\n",
       "      <td>0.190183</td>\n",
       "      <td>1.000000</td>\n",
       "    </tr>\n",
       "  </tbody>\n",
       "</table>\n",
       "</div>"
      ],
      "text/plain": [
       "retention_7     False      True       All\n",
       "retention_1                              \n",
       "False        0.510973  0.040829  0.551802\n",
       "True         0.298843  0.149355  0.448198\n",
       "All          0.809817  0.190183  1.000000"
      ]
     },
     "execution_count": 29,
     "metadata": {},
     "output_type": "execute_result"
    }
   ],
   "source": [
    "pd.crosstab(gate_30.retention_1, gate_30.retention_7, normalize = True, margins = True )"
   ]
  },
  {
   "cell_type": "code",
   "execution_count": 30,
   "metadata": {
    "scrolled": true
   },
   "outputs": [
    {
     "data": {
      "text/html": [
       "<div>\n",
       "<style scoped>\n",
       "    .dataframe tbody tr th:only-of-type {\n",
       "        vertical-align: middle;\n",
       "    }\n",
       "\n",
       "    .dataframe tbody tr th {\n",
       "        vertical-align: top;\n",
       "    }\n",
       "\n",
       "    .dataframe thead th {\n",
       "        text-align: right;\n",
       "    }\n",
       "</style>\n",
       "<table border=\"1\" class=\"dataframe\">\n",
       "  <thead>\n",
       "    <tr style=\"text-align: right;\">\n",
       "      <th>retention_7</th>\n",
       "      <th>False</th>\n",
       "      <th>True</th>\n",
       "      <th>All</th>\n",
       "    </tr>\n",
       "    <tr>\n",
       "      <th>retention_1</th>\n",
       "      <th></th>\n",
       "      <th></th>\n",
       "      <th></th>\n",
       "    </tr>\n",
       "  </thead>\n",
       "  <tbody>\n",
       "    <tr>\n",
       "      <th>False</th>\n",
       "      <td>0.518741</td>\n",
       "      <td>0.038976</td>\n",
       "      <td>0.557717</td>\n",
       "    </tr>\n",
       "    <tr>\n",
       "      <th>True</th>\n",
       "      <td>0.299259</td>\n",
       "      <td>0.143024</td>\n",
       "      <td>0.442283</td>\n",
       "    </tr>\n",
       "    <tr>\n",
       "      <th>All</th>\n",
       "      <td>0.818000</td>\n",
       "      <td>0.182000</td>\n",
       "      <td>1.000000</td>\n",
       "    </tr>\n",
       "  </tbody>\n",
       "</table>\n",
       "</div>"
      ],
      "text/plain": [
       "retention_7     False      True       All\n",
       "retention_1                              \n",
       "False        0.518741  0.038976  0.557717\n",
       "True         0.299259  0.143024  0.442283\n",
       "All          0.818000  0.182000  1.000000"
      ]
     },
     "execution_count": 30,
     "metadata": {},
     "output_type": "execute_result"
    }
   ],
   "source": [
    "pd.crosstab(gate_40.retention_1, gate_40.retention_7, normalize = True, margins = True )"
   ]
  },
  {
   "cell_type": "markdown",
   "metadata": {},
   "source": [
    "Split the data from sample_2 in control and test groups:"
   ]
  },
  {
   "cell_type": "code",
   "execution_count": 31,
   "metadata": {},
   "outputs": [],
   "source": [
    "gate_30_2 = data_2[data_2.version == 'gate_30']\n",
    "gate_40_2 = data_2[data_2.version == 'gate_40']"
   ]
  },
  {
   "cell_type": "markdown",
   "metadata": {},
   "source": [
    "<a href=\"#0\"><h4>Back to top</h4></a>"
   ]
  },
  {
   "cell_type": "markdown",
   "metadata": {},
   "source": [
    "<p id=\"2.1\">\n",
    "<h5>Impact on retention 1 day later (retention_1)</h5><br>"
   ]
  },
  {
   "cell_type": "markdown",
   "metadata": {},
   "source": [
    "Retention rate is almost the same between control and test groups:"
   ]
  },
  {
   "cell_type": "code",
   "execution_count": 32,
   "metadata": {
    "scrolled": true
   },
   "outputs": [
    {
     "name": "stdout",
     "output_type": "stream",
     "text": [
      "version  retention_1\n",
      "gate_30  False          0.551802\n",
      "         True           0.448198\n",
      "dtype: float64\n",
      "version  retention_1\n",
      "gate_40  False          0.557717\n",
      "         True           0.442283\n",
      "dtype: float64\n"
     ]
    }
   ],
   "source": [
    "print(gate_30[['version','retention_1']].value_counts(normalize = True))\n",
    "print(gate_40[['version','retention_1']].value_counts(normalize = True))"
   ]
  },
  {
   "cell_type": "markdown",
   "metadata": {},
   "source": [
    "As we deal with categorical variable and two independent groups, use Pearson's chi-squared test."
   ]
  },
  {
   "cell_type": "markdown",
   "metadata": {},
   "source": [
    "* Null hypothesis: independence of retention_1 and gate location, absence of association between them, difference in retention_1 between control and test group is accidental\n",
    "* Alternative hypothesis: association between retention_1 and gate location, difference in retention_1 between control and test group is not accidental"
   ]
  },
  {
   "cell_type": "markdown",
   "metadata": {},
   "source": [
    "Prepare contingency table for the test:"
   ]
  },
  {
   "cell_type": "code",
   "execution_count": 33,
   "metadata": {
    "scrolled": false
   },
   "outputs": [
    {
     "data": {
      "text/html": [
       "<div>\n",
       "<style scoped>\n",
       "    .dataframe tbody tr th:only-of-type {\n",
       "        vertical-align: middle;\n",
       "    }\n",
       "\n",
       "    .dataframe tbody tr th {\n",
       "        vertical-align: top;\n",
       "    }\n",
       "\n",
       "    .dataframe thead th {\n",
       "        text-align: right;\n",
       "    }\n",
       "</style>\n",
       "<table border=\"1\" class=\"dataframe\">\n",
       "  <thead>\n",
       "    <tr style=\"text-align: right;\">\n",
       "      <th>retention_1</th>\n",
       "      <th>False</th>\n",
       "      <th>True</th>\n",
       "    </tr>\n",
       "    <tr>\n",
       "      <th>version</th>\n",
       "      <th></th>\n",
       "      <th></th>\n",
       "    </tr>\n",
       "  </thead>\n",
       "  <tbody>\n",
       "    <tr>\n",
       "      <th>gate_30</th>\n",
       "      <td>24665</td>\n",
       "      <td>20034</td>\n",
       "    </tr>\n",
       "    <tr>\n",
       "      <th>gate_40</th>\n",
       "      <td>25370</td>\n",
       "      <td>20119</td>\n",
       "    </tr>\n",
       "  </tbody>\n",
       "</table>\n",
       "</div>"
      ],
      "text/plain": [
       "retention_1  False   True\n",
       "version                  \n",
       "gate_30      24665  20034\n",
       "gate_40      25370  20119"
      ]
     },
     "execution_count": 33,
     "metadata": {},
     "output_type": "execute_result"
    }
   ],
   "source": [
    "cont_matrix_ret1 = pd.crosstab(data_1.version, data_1.retention_1)\n",
    "cont_matrix_ret1"
   ]
  },
  {
   "cell_type": "markdown",
   "metadata": {},
   "source": [
    "Test is non-parametric and does not require normality of distribution. Contingency table is a 2 by 2 matrix, but every cell has signficant count, so there is no need in Yate's correction."
   ]
  },
  {
   "cell_type": "code",
   "execution_count": 34,
   "metadata": {
    "scrolled": true
   },
   "outputs": [
    {
     "data": {
      "text/plain": [
       "(3.19373895460949,\n",
       " 0.07392076034183397,\n",
       " 1,\n",
       " array([[24798.35970417, 19900.64029583],\n",
       "        [25236.64029583, 20252.35970417]]))"
      ]
     },
     "execution_count": 34,
     "metadata": {},
     "output_type": "execute_result"
    }
   ],
   "source": [
    "stats.chi2_contingency(cont_matrix_ret1, correction = False)"
   ]
  },
  {
   "cell_type": "markdown",
   "metadata": {},
   "source": [
    "* If H0 is true (difference between groups is accidental), the probability of seeing this test statistic (or something more extreme) is about 7%\n",
    "* Hereinafter choose the conventional significance level of 5%\n",
    "* Given the 5% significance level there is not enough evidence for rejecting the Null\n",
    "* Fail to reject H0 in favor of H1\n",
    "* Difference in retention_1 between control and test groups is accidental. There is no association between gate location and retention. Numbers of returned and not returned players in group gate_30 does not differ (statistically) significantly from numbers in group gate_40."
   ]
  },
  {
   "cell_type": "markdown",
   "metadata": {},
   "source": [
    "It is considered to be a p-hacking in statistics, but let's conduct the test for sample_2 as a robustness check:"
   ]
  },
  {
   "cell_type": "code",
   "execution_count": 35,
   "metadata": {
    "scrolled": true
   },
   "outputs": [
    {
     "data": {
      "text/html": [
       "<div>\n",
       "<style scoped>\n",
       "    .dataframe tbody tr th:only-of-type {\n",
       "        vertical-align: middle;\n",
       "    }\n",
       "\n",
       "    .dataframe tbody tr th {\n",
       "        vertical-align: top;\n",
       "    }\n",
       "\n",
       "    .dataframe thead th {\n",
       "        text-align: right;\n",
       "    }\n",
       "</style>\n",
       "<table border=\"1\" class=\"dataframe\">\n",
       "  <thead>\n",
       "    <tr style=\"text-align: right;\">\n",
       "      <th>retention_1</th>\n",
       "      <th>False</th>\n",
       "      <th>True</th>\n",
       "    </tr>\n",
       "    <tr>\n",
       "      <th>version</th>\n",
       "      <th></th>\n",
       "      <th></th>\n",
       "    </tr>\n",
       "  </thead>\n",
       "  <tbody>\n",
       "    <tr>\n",
       "      <th>gate_30</th>\n",
       "      <td>24481</td>\n",
       "      <td>17354</td>\n",
       "    </tr>\n",
       "    <tr>\n",
       "      <th>gate_40</th>\n",
       "      <td>25169</td>\n",
       "      <td>17445</td>\n",
       "    </tr>\n",
       "  </tbody>\n",
       "</table>\n",
       "</div>"
      ],
      "text/plain": [
       "retention_1  False   True\n",
       "version                  \n",
       "gate_30      24481  17354\n",
       "gate_40      25169  17445"
      ]
     },
     "execution_count": 35,
     "metadata": {},
     "output_type": "execute_result"
    }
   ],
   "source": [
    "cont_matrix_ret1_2 = pd.crosstab(data_2.version, data_2.retention_1)\n",
    "cont_matrix_ret1_2"
   ]
  },
  {
   "cell_type": "markdown",
   "metadata": {},
   "source": [
    "P-value is higher (11%), but we still fail to reject H0:"
   ]
  },
  {
   "cell_type": "code",
   "execution_count": 36,
   "metadata": {
    "scrolled": true
   },
   "outputs": [
    {
     "data": {
      "text/plain": [
       "(2.5859146143058958,\n",
       " 0.10781811314914272,\n",
       " 1,\n",
       " array([[24596.00172885, 17238.99827115],\n",
       "        [25053.99827115, 17560.00172885]]))"
      ]
     },
     "execution_count": 36,
     "metadata": {},
     "output_type": "execute_result"
    }
   ],
   "source": [
    "stats.chi2_contingency(cont_matrix_ret1_2, correction = False)"
   ]
  },
  {
   "cell_type": "markdown",
   "metadata": {},
   "source": [
    "Retention rate of players 1 day after the installation is not as important for the business as longer-term retention. Retention rate 7 days later is of greater interest."
   ]
  },
  {
   "cell_type": "markdown",
   "metadata": {},
   "source": [
    "<a href=\"#0\"><h4>Back to top</h4></a>"
   ]
  },
  {
   "cell_type": "markdown",
   "metadata": {},
   "source": [
    "<p id=\"2.2\">\n",
    "<h5>Impact on retention 7 days later (retention_7)</h5><br>"
   ]
  },
  {
   "cell_type": "markdown",
   "metadata": {},
   "source": [
    "Retention rate is almost the same between control and test groups - 19%:"
   ]
  },
  {
   "cell_type": "code",
   "execution_count": 37,
   "metadata": {},
   "outputs": [
    {
     "name": "stdout",
     "output_type": "stream",
     "text": [
      "version  retention_7\n",
      "gate_30  False          0.809817\n",
      "         True           0.190183\n",
      "dtype: float64\n",
      "version  retention_7\n",
      "gate_40  False          0.818\n",
      "         True           0.182\n",
      "dtype: float64\n"
     ]
    }
   ],
   "source": [
    "print(gate_30[['version','retention_7']].value_counts(normalize = True))\n",
    "print(gate_40[['version','retention_7']].value_counts(normalize = True))"
   ]
  },
  {
   "cell_type": "markdown",
   "metadata": {},
   "source": [
    "* Null hypothesis: independence of retention_7 and gate location, absence of association between them, difference in retention_7 between control and test group is accidental\n",
    "* Alternative hypothesis: association between retention_7 and gate location, difference in retention_7 between control and test group is not accidental"
   ]
  },
  {
   "cell_type": "markdown",
   "metadata": {},
   "source": [
    "Prepare contingency table for the test:"
   ]
  },
  {
   "cell_type": "code",
   "execution_count": 38,
   "metadata": {
    "scrolled": true
   },
   "outputs": [
    {
     "data": {
      "text/html": [
       "<div>\n",
       "<style scoped>\n",
       "    .dataframe tbody tr th:only-of-type {\n",
       "        vertical-align: middle;\n",
       "    }\n",
       "\n",
       "    .dataframe tbody tr th {\n",
       "        vertical-align: top;\n",
       "    }\n",
       "\n",
       "    .dataframe thead th {\n",
       "        text-align: right;\n",
       "    }\n",
       "</style>\n",
       "<table border=\"1\" class=\"dataframe\">\n",
       "  <thead>\n",
       "    <tr style=\"text-align: right;\">\n",
       "      <th>retention_7</th>\n",
       "      <th>False</th>\n",
       "      <th>True</th>\n",
       "    </tr>\n",
       "    <tr>\n",
       "      <th>version</th>\n",
       "      <th></th>\n",
       "      <th></th>\n",
       "    </tr>\n",
       "  </thead>\n",
       "  <tbody>\n",
       "    <tr>\n",
       "      <th>gate_30</th>\n",
       "      <td>36198</td>\n",
       "      <td>8501</td>\n",
       "    </tr>\n",
       "    <tr>\n",
       "      <th>gate_40</th>\n",
       "      <td>37210</td>\n",
       "      <td>8279</td>\n",
       "    </tr>\n",
       "  </tbody>\n",
       "</table>\n",
       "</div>"
      ],
      "text/plain": [
       "retention_7  False  True\n",
       "version                 \n",
       "gate_30      36198  8501\n",
       "gate_40      37210  8279"
      ]
     },
     "execution_count": 38,
     "metadata": {},
     "output_type": "execute_result"
    }
   ],
   "source": [
    "cont_matrix_ret7_1 = pd.crosstab(data_1.version, data_1.retention_7)\n",
    "cont_matrix_ret7_1"
   ]
  },
  {
   "cell_type": "code",
   "execution_count": 39,
   "metadata": {
    "scrolled": true
   },
   "outputs": [
    {
     "data": {
      "text/plain": [
       "(9.96923845042939,\n",
       " 0.0015917731773992998,\n",
       " 1,\n",
       " array([[36382.49203885,  8316.50796115],\n",
       "        [37025.50796115,  8463.49203885]]))"
      ]
     },
     "execution_count": 39,
     "metadata": {},
     "output_type": "execute_result"
    }
   ],
   "source": [
    "stats.chi2_contingency(cont_matrix_ret7_1, correction = False)"
   ]
  },
  {
   "cell_type": "markdown",
   "metadata": {},
   "source": [
    "* If H0 is true (difference between groups is accidental), the probability of seeing this test statistic (or something more extreme) is almost 0%, data show very unlikely results\n",
    "* Even with 1% significance level there is no evidence in favor of H0\n",
    "* Reject H0 in favor of H1\n",
    "* Difference in retention_7 between control and test groups is not accidental. There is association between gate location and retention. Numbers of returned and not returned players in group gate_30 differ (statistically) significantly from numbers in group gate_40."
   ]
  },
  {
   "cell_type": "markdown",
   "metadata": {},
   "source": [
    "It is considered to be a p-hacking in statistics, but let's conduct the test for sample_2 as a robustness check:"
   ]
  },
  {
   "cell_type": "code",
   "execution_count": 40,
   "metadata": {
    "scrolled": true
   },
   "outputs": [
    {
     "data": {
      "text/html": [
       "<div>\n",
       "<style scoped>\n",
       "    .dataframe tbody tr th:only-of-type {\n",
       "        vertical-align: middle;\n",
       "    }\n",
       "\n",
       "    .dataframe tbody tr th {\n",
       "        vertical-align: top;\n",
       "    }\n",
       "\n",
       "    .dataframe thead th {\n",
       "        text-align: right;\n",
       "    }\n",
       "</style>\n",
       "<table border=\"1\" class=\"dataframe\">\n",
       "  <thead>\n",
       "    <tr style=\"text-align: right;\">\n",
       "      <th>retention_7</th>\n",
       "      <th>False</th>\n",
       "      <th>True</th>\n",
       "    </tr>\n",
       "    <tr>\n",
       "      <th>version</th>\n",
       "      <th></th>\n",
       "      <th></th>\n",
       "    </tr>\n",
       "  </thead>\n",
       "  <tbody>\n",
       "    <tr>\n",
       "      <th>gate_30</th>\n",
       "      <td>35735</td>\n",
       "      <td>6100</td>\n",
       "    </tr>\n",
       "    <tr>\n",
       "      <th>gate_40</th>\n",
       "      <td>36745</td>\n",
       "      <td>5869</td>\n",
       "    </tr>\n",
       "  </tbody>\n",
       "</table>\n",
       "</div>"
      ],
      "text/plain": [
       "retention_7  False  True\n",
       "version                 \n",
       "gate_30      35735  6100\n",
       "gate_40      36745  5869"
      ]
     },
     "execution_count": 40,
     "metadata": {},
     "output_type": "execute_result"
    }
   ],
   "source": [
    "cont_matrix_ret7_2 = pd.crosstab(data_2.version, data_2.retention_7)\n",
    "cont_matrix_ret7_2"
   ]
  },
  {
   "cell_type": "markdown",
   "metadata": {},
   "source": [
    "P-value is closer to 0 and we still reject H0:"
   ]
  },
  {
   "cell_type": "code",
   "execution_count": 41,
   "metadata": {
    "scrolled": true
   },
   "outputs": [
    {
     "data": {
      "text/plain": [
       "(11.347572804375679,\n",
       " 0.0007554663854888557,\n",
       " 1,\n",
       " array([[35905.70403439,  5929.29596561],\n",
       "        [36574.29596561,  6039.70403439]]))"
      ]
     },
     "execution_count": 41,
     "metadata": {},
     "output_type": "execute_result"
    }
   ],
   "source": [
    "stats.chi2_contingency(cont_matrix_ret7_2, correction = False)"
   ]
  },
  {
   "cell_type": "markdown",
   "metadata": {},
   "source": [
    "Test shows the association between gate location and retention 7 days later. But, unfortunately, it is unknown in what direction: retention is higher for gate_30 or gate_40. In case of numerical variable it is possible to test the direction."
   ]
  },
  {
   "cell_type": "markdown",
   "metadata": {},
   "source": [
    "<a href=\"#0\"><h4>Back to top</h4></a>"
   ]
  },
  {
   "cell_type": "markdown",
   "metadata": {},
   "source": [
    "<p id=\"3\">\n",
    "<h4>Impact on number of rounds (sum_gamerounds)</h4><br>\n",
    "<p id=\"3.1\">\n",
    "<h5>Student's t-test</h5><br>"
   ]
  },
  {
   "cell_type": "markdown",
   "metadata": {},
   "source": [
    "Gate is initially located at level 30 and the question is whether it makes sense to change the location. It does not make sense to change the location, if gate at level 40 shows worse result or no difference with gate at level 30. So the test should answer the question whether the gate at level 40 shows better result.<br>\n",
    "* Null hypothesis: average number of rounds in test group gate_40 is equal to or lower than in control group gate_30\n",
    "* Alternative hypothesis: average number of rounds in test group is higher than in control group"
   ]
  },
  {
   "cell_type": "markdown",
   "metadata": {},
   "source": [
    "Look at histograms of rounds in control and test groups. In sample_1 (without exclusion of extreme outliers) the right tail is almost invisible, but the visible part of histograms look similar:"
   ]
  },
  {
   "cell_type": "code",
   "execution_count": 42,
   "metadata": {},
   "outputs": [
    {
     "data": {
      "image/png": "[encoded data removed]",
      "text/plain": [
       "<Figure size 720x504 with 1 Axes>"
      ]
     },
     "metadata": {
      "needs_background": "light"
     },
     "output_type": "display_data"
    }
   ],
   "source": [
    "bins = 100\n",
    "plt.figure(figsize = (10, 7))\n",
    "plt.hist(gate_30.sum_gamerounds, bins = bins, alpha = 1, edgecolor = 'black', label = 'gate 30')\n",
    "plt.hist(gate_40.sum_gamerounds, bins = bins, alpha = 0.7, label = 'gate 40')\n",
    "plt.legend(loc = 'upper right', bbox_to_anchor = (0.45, 0.35))\n",
    "plt.title('sum_gamerounds (excl. one outlier)')\n",
    "plt.show()"
   ]
  },
  {
   "cell_type": "markdown",
   "metadata": {},
   "source": [
    "In sample_2 (with exclusion of extreme outliers) histograms look very similar. In the area of 30-40 level frequencies of the control group are a bit higher than of the test. Probably it means that if the effect of gate location at 30-40 level is present then it does not last long. Maybe, in addition, it makes sense to test the data truncated at 30-60 levels."
   ]
  },
  {
   "cell_type": "code",
   "execution_count": 43,
   "metadata": {},
   "outputs": [
    {
     "data": {
      "image/png": "[encoded data removed]",
      "text/plain": [
       "<Figure size 1080x504 with 1 Axes>"
      ]
     },
     "metadata": {
      "needs_background": "light"
     },
     "output_type": "display_data"
    }
   ],
   "source": [
    "bins = 100\n",
    "plt.figure(figsize = (15, 7))\n",
    "plt.hist(gate_30_2.sum_gamerounds, bins = bins, alpha = 1, edgecolor = 'black', label = 'gate 30')\n",
    "plt.hist(gate_40_2.sum_gamerounds, bins = bins, alpha = 0.7, label = 'gate 40')\n",
    "plt.legend(loc = 'upper right', bbox_to_anchor = (0.45, 0.35))\n",
    "plt.title('sum_gamerounds (excl. extreme outliers)')\n",
    "plt.show()"
   ]
  },
  {
   "cell_type": "markdown",
   "metadata": {},
   "source": [
    "Average number of rounds is almost the same between control and test groups:"
   ]
  },
  {
   "cell_type": "code",
   "execution_count": 44,
   "metadata": {
    "scrolled": false
   },
   "outputs": [
    {
     "name": "stdout",
     "output_type": "stream",
     "text": [
      "average number of rounds in control group 51.342110561757536\n",
      "average number of rounds in test group 51.29877552814966\n"
     ]
    }
   ],
   "source": [
    "print('average number of rounds in control group', gate_30.sum_gamerounds.mean())\n",
    "print('average number of rounds in test group', gate_40.sum_gamerounds.mean())"
   ]
  },
  {
   "cell_type": "markdown",
   "metadata": {},
   "source": [
    "Distributions in both groups are asymmetric and not similar to normal. But every group has about 45k players, so rely on Central Limit Theorem and assume distributions of average numbers normal:"
   ]
  },
  {
   "cell_type": "code",
   "execution_count": 45,
   "metadata": {},
   "outputs": [
    {
     "name": "stdout",
     "output_type": "stream",
     "text": [
      "(44699, 5)\n",
      "(45489, 5)\n"
     ]
    }
   ],
   "source": [
    "print(gate_30.shape)\n",
    "print(gate_40.shape)"
   ]
  },
  {
   "cell_type": "code",
   "execution_count": 46,
   "metadata": {},
   "outputs": [
    {
     "data": {
      "image/png": "[encoded data removed]",
      "text/plain": [
       "<Figure size 864x504 with 4 Axes>"
      ]
     },
     "metadata": {
      "needs_background": "light"
     },
     "output_type": "display_data"
    }
   ],
   "source": [
    "plt.figure(figsize = (12, 7)) \n",
    "plt.subplot(2,2,1)\n",
    "sns.boxplot(y = gate_30.sum_gamerounds);\n",
    "plt.title('gate_30');\n",
    "plt.subplot(2,2,2)\n",
    "sns.boxplot(y = gate_40.sum_gamerounds);\n",
    "plt.title('gate_40');\n",
    "plt.subplot(2,2,3)\n",
    "plt.hist(gate_30.sum_gamerounds);\n",
    "plt.title('gate_30');\n",
    "plt.subplot(2,2,4)\n",
    "plt.hist(gate_40.sum_gamerounds);\n",
    "plt.title('gate_40');"
   ]
  },
  {
   "cell_type": "markdown",
   "metadata": {},
   "source": [
    "Variable is numeric, groups are independent, comparison of two means - use Student's t-test for independent samples, one-sided, as direction is important in this case."
   ]
  },
  {
   "cell_type": "markdown",
   "metadata": {},
   "source": [
    "Are variances of control and test groups equal? There is almost no difference between sample standard deviations. There is an opinion that if the difference is more than 5%, consider the variances unequal. Another opinion is that Welch correction should not harm in any case. The third one - in case of actually equal variances Welch correction overestimates the probability of type 2 error (fail to reject false H0). Documentation of ttest_ind says that in case of unequal variances absence of correction underestimates p-value. Given almost the same sample standard deviations, we will not apply the correction and try to take all \"buts\" into account when interpreting the result."
   ]
  },
  {
   "cell_type": "code",
   "execution_count": 47,
   "metadata": {
    "scrolled": true
   },
   "outputs": [
    {
     "name": "stdout",
     "output_type": "stream",
     "text": [
      "sd of number of rounds gate_30  102.05759789214098\n",
      "sd of number of rounds gate_40  103.29441621653784\n",
      "relative difference in sd  0.01211882652484129\n"
     ]
    }
   ],
   "source": [
    "print('sd of number of rounds gate_30 ', gate_30.sum_gamerounds.std())\n",
    "print('sd of number of rounds gate_40 ', gate_40.sum_gamerounds.std())\n",
    "print('relative difference in sd ', (gate_40.sum_gamerounds.std() - gate_30.sum_gamerounds.std()) /\n",
    "      gate_30.sum_gamerounds.std())"
   ]
  },
  {
   "cell_type": "markdown",
   "metadata": {},
   "source": [
    "t-test:"
   ]
  },
  {
   "cell_type": "code",
   "execution_count": 48,
   "metadata": {},
   "outputs": [
    {
     "name": "stdout",
     "output_type": "stream",
     "text": [
      "-0.06337426312892294 0.5252656892267771\n"
     ]
    }
   ],
   "source": [
    "t,p = stats.ttest_ind(gate_40.sum_gamerounds, gate_30.sum_gamerounds, alternative = 'greater', equal_var = False)\n",
    "print(t,p)"
   ]
  },
  {
   "cell_type": "markdown",
   "metadata": {},
   "source": [
    "* If H0 is true (average number of rounds in test group is equal to or lower than in control), the data does not contradict the H0\n",
    "* If H0 is true, the probability of seeing this test statistic (or something more extreme) is about 53%\n",
    "* The data shows enough evidence in favor of the Null\n",
    "* Fail to reject H0 in favor of H1\n",
    "* Average number of rounds in test group is equal to or lower than in control group. There is no sense to move the gate from level 30 to level 40 with the purpose of increasing the number of played rounds."
   ]
  },
  {
   "cell_type": "markdown",
   "metadata": {},
   "source": [
    "As we did not apply Welch correction for the case of unequal variances, there is a risk that p-value is underestimated (if variances are actually equal). But in this case p-value is so high, that the risk of it's underestimation does not matter. If we conduct test with correction as a robustness check, the result is almost the same:"
   ]
  },
  {
   "cell_type": "code",
   "execution_count": 49,
   "metadata": {
    "scrolled": false
   },
   "outputs": [
    {
     "name": "stdout",
     "output_type": "stream",
     "text": [
      "-0.0633675766982082 0.5252630270872\n"
     ]
    }
   ],
   "source": [
    "t,p = stats.ttest_ind(gate_40.sum_gamerounds, gate_30.sum_gamerounds, alternative = 'greater', equal_var = True)\n",
    "print(t,p)"
   ]
  },
  {
   "cell_type": "markdown",
   "metadata": {},
   "source": [
    "One more robustness check - conduct test for the sample_2. P-value is lower (43%), but there is still enough evidence for H0."
   ]
  },
  {
   "cell_type": "code",
   "execution_count": 50,
   "metadata": {},
   "outputs": [
    {
     "name": "stdout",
     "output_type": "stream",
     "text": [
      "average number of rounds in control group excl. extreme outliers 30.60203179156209\n",
      "average number of rounds in test group excl. extreme outliers 30.648941662364482\n"
     ]
    }
   ],
   "source": [
    "print('average number of rounds in control group excl. extreme outliers', gate_30_2.sum_gamerounds.mean())\n",
    "print('average number of rounds in test group excl. extreme outliers', gate_40_2.sum_gamerounds.mean())"
   ]
  },
  {
   "cell_type": "code",
   "execution_count": 51,
   "metadata": {
    "scrolled": true
   },
   "outputs": [
    {
     "name": "stdout",
     "output_type": "stream",
     "text": [
      "0.17415619552656236 0.4308715638935539\n"
     ]
    }
   ],
   "source": [
    "t,p = stats.ttest_ind(gate_40_2.sum_gamerounds, gate_30_2.sum_gamerounds, alternative = 'greater', equal_var = False)\n",
    "print(t,p)"
   ]
  },
  {
   "cell_type": "markdown",
   "metadata": {},
   "source": [
    "<a href=\"#0\"><h4>Back to top</h4></a>"
   ]
  },
  {
   "cell_type": "markdown",
   "metadata": {},
   "source": [
    "<p id=\"3.2\">\n",
    "<h5>Mann-Whitney u-test</h5><br>"
   ]
  },
  {
   "cell_type": "markdown",
   "metadata": {},
   "source": [
    "Robustness of test result may be checked to the normality assumption\n",
    "It is also possible to check the robustness of the test to the assumption of normality and perform the non-parametric Mann-Whitney test. If assuming that equal distributions have equal medians, then: \n",
    "<br>\n",
    "* Null hypothesis: median number of rounds in test group gate_40 is equal to or lower than in control group gate_30\n",
    "* Alternative hypothesis: median number of rounds in test group is higher than in control group"
   ]
  },
  {
   "cell_type": "markdown",
   "metadata": {},
   "source": [
    "Sample median in control group is a bit higher than in test - 17 vs 16:"
   ]
  },
  {
   "cell_type": "code",
   "execution_count": 52,
   "metadata": {
    "scrolled": true
   },
   "outputs": [
    {
     "data": {
      "text/plain": [
       "version\n",
       "gate_30    17.0\n",
       "gate_40    16.0\n",
       "Name: sum_gamerounds, dtype: float64"
      ]
     },
     "execution_count": 52,
     "metadata": {},
     "output_type": "execute_result"
    }
   ],
   "source": [
    "data_1.groupby('version').median('sum_gamerounds')['sum_gamerounds']"
   ]
  },
  {
   "cell_type": "markdown",
   "metadata": {},
   "source": [
    "Mann-Whitney test:"
   ]
  },
  {
   "cell_type": "code",
   "execution_count": 53,
   "metadata": {},
   "outputs": [
    {
     "data": {
      "text/plain": [
       "(1009027049.5, 0.97455423878383)"
      ]
     },
     "execution_count": 53,
     "metadata": {},
     "output_type": "execute_result"
    }
   ],
   "source": [
    "stat, p = stats.mannwhitneyu(gate_40.sum_gamerounds, gate_30.sum_gamerounds, alternative = 'greater')\n",
    "stat, p"
   ]
  },
  {
   "cell_type": "markdown",
   "metadata": {},
   "source": [
    "* If H0 is true (median number of rounds in test group is equal to or lower than in control), the data does not contradict the H0\n",
    "* If H0 is true, the probability of seeing this test statistic (or something more extreme) is about 97%\n",
    "* The data shows enough evidence in favor of the Null\n",
    "* Fail to reject H0 in favor of H1\n",
    "* Median number of rounds in the test group is equal to or lower than in the control group. There is no sense to move the gate from level 30 to level 40 with the purpose of increasing the number of played rounds."
   ]
  },
  {
   "cell_type": "markdown",
   "metadata": {},
   "source": [
    "<a href=\"#0\"><h4>Back to top</h4></a>"
   ]
  },
  {
   "cell_type": "markdown",
   "metadata": {},
   "source": [
    "<p id=\"3.3\">\n",
    "<h5>Student's t-test and log transformation</h5><br>"
   ]
  },
  {
   "cell_type": "markdown",
   "metadata": {},
   "source": [
    "Log-transformation of such skewed to the right distribution may look more like the normal distribution. "
   ]
  },
  {
   "cell_type": "markdown",
   "metadata": {},
   "source": [
    "As found above, there are 3994 players with 0 number of rounds. They need to be excluded for the log-transformation:"
   ]
  },
  {
   "cell_type": "code",
   "execution_count": 54,
   "metadata": {
    "scrolled": true
   },
   "outputs": [
    {
     "data": {
      "text/plain": [
       "3994"
      ]
     },
     "execution_count": 54,
     "metadata": {},
     "output_type": "execute_result"
    }
   ],
   "source": [
    "len(data[data['sum_gamerounds'] == 0])"
   ]
  },
  {
   "cell_type": "code",
   "execution_count": 55,
   "metadata": {},
   "outputs": [],
   "source": [
    "data_log = data.loc[:]\n",
    "data_log = data_log[data_log['sum_gamerounds'] > 0]"
   ]
  },
  {
   "cell_type": "markdown",
   "metadata": {},
   "source": [
    "Add the column with natural logarithm of sum_gamerounds:"
   ]
  },
  {
   "cell_type": "code",
   "execution_count": 56,
   "metadata": {
    "scrolled": true
   },
   "outputs": [
    {
     "data": {
      "text/html": [
       "<div>\n",
       "<style scoped>\n",
       "    .dataframe tbody tr th:only-of-type {\n",
       "        vertical-align: middle;\n",
       "    }\n",
       "\n",
       "    .dataframe tbody tr th {\n",
       "        vertical-align: top;\n",
       "    }\n",
       "\n",
       "    .dataframe thead th {\n",
       "        text-align: right;\n",
       "    }\n",
       "</style>\n",
       "<table border=\"1\" class=\"dataframe\">\n",
       "  <thead>\n",
       "    <tr style=\"text-align: right;\">\n",
       "      <th></th>\n",
       "      <th>userid</th>\n",
       "      <th>version</th>\n",
       "      <th>sum_gamerounds</th>\n",
       "      <th>retention_1</th>\n",
       "      <th>retention_7</th>\n",
       "      <th>log_sum_rounds</th>\n",
       "    </tr>\n",
       "  </thead>\n",
       "  <tbody>\n",
       "    <tr>\n",
       "      <th>0</th>\n",
       "      <td>116</td>\n",
       "      <td>gate_30</td>\n",
       "      <td>3</td>\n",
       "      <td>False</td>\n",
       "      <td>False</td>\n",
       "      <td>1.098612</td>\n",
       "    </tr>\n",
       "    <tr>\n",
       "      <th>1</th>\n",
       "      <td>337</td>\n",
       "      <td>gate_30</td>\n",
       "      <td>38</td>\n",
       "      <td>True</td>\n",
       "      <td>False</td>\n",
       "      <td>3.637586</td>\n",
       "    </tr>\n",
       "    <tr>\n",
       "      <th>2</th>\n",
       "      <td>377</td>\n",
       "      <td>gate_40</td>\n",
       "      <td>165</td>\n",
       "      <td>True</td>\n",
       "      <td>False</td>\n",
       "      <td>5.105945</td>\n",
       "    </tr>\n",
       "    <tr>\n",
       "      <th>3</th>\n",
       "      <td>483</td>\n",
       "      <td>gate_40</td>\n",
       "      <td>1</td>\n",
       "      <td>False</td>\n",
       "      <td>False</td>\n",
       "      <td>0.000000</td>\n",
       "    </tr>\n",
       "    <tr>\n",
       "      <th>4</th>\n",
       "      <td>488</td>\n",
       "      <td>gate_40</td>\n",
       "      <td>179</td>\n",
       "      <td>True</td>\n",
       "      <td>True</td>\n",
       "      <td>5.187386</td>\n",
       "    </tr>\n",
       "  </tbody>\n",
       "</table>\n",
       "</div>"
      ],
      "text/plain": [
       "   userid  version  sum_gamerounds  retention_1  retention_7  log_sum_rounds\n",
       "0     116  gate_30               3        False        False        1.098612\n",
       "1     337  gate_30              38         True        False        3.637586\n",
       "2     377  gate_40             165         True        False        5.105945\n",
       "3     483  gate_40               1        False        False        0.000000\n",
       "4     488  gate_40             179         True         True        5.187386"
      ]
     },
     "execution_count": 56,
     "metadata": {},
     "output_type": "execute_result"
    }
   ],
   "source": [
    "data_log['log_sum_rounds'] = np.log(data_log['sum_gamerounds'])\n",
    "data_log.head()"
   ]
  },
  {
   "cell_type": "markdown",
   "metadata": {},
   "source": [
    "Now histogram looks more like a normal:"
   ]
  },
  {
   "cell_type": "code",
   "execution_count": 57,
   "metadata": {
    "scrolled": false
   },
   "outputs": [
    {
     "data": {
      "image/png": "[encoded data removed]",
      "text/plain": [
       "<Figure size 864x360 with 2 Axes>"
      ]
     },
     "metadata": {
      "needs_background": "light"
     },
     "output_type": "display_data"
    }
   ],
   "source": [
    "plt.figure(figsize = (12, 5)) \n",
    "plt.subplot(1,2,1)\n",
    "sns.boxplot(y = data_log.log_sum_rounds);\n",
    "plt.title('log_sum_rounds');\n",
    "plt.subplot(1,2,2)\n",
    "plt.hist(data_log.log_sum_rounds);\n",
    "plt.title('log_sum_rounds');"
   ]
  },
  {
   "cell_type": "markdown",
   "metadata": {},
   "source": [
    "Exclude the outlier sum_gamerounds = 49854:"
   ]
  },
  {
   "cell_type": "code",
   "execution_count": 58,
   "metadata": {},
   "outputs": [],
   "source": [
    "data_log_1 = data_log[data_log.sum_gamerounds < data_log.sum_gamerounds.max()]"
   ]
  },
  {
   "cell_type": "markdown",
   "metadata": {},
   "source": [
    "Histogram and boxplot without the outlier:"
   ]
  },
  {
   "cell_type": "code",
   "execution_count": 59,
   "metadata": {
    "scrolled": true
   },
   "outputs": [
    {
     "data": {
      "image/png": "[encoded data removed]",
      "text/plain": [
       "<Figure size 864x360 with 2 Axes>"
      ]
     },
     "metadata": {
      "needs_background": "light"
     },
     "output_type": "display_data"
    }
   ],
   "source": [
    "plt.figure(figsize = (12, 5)) \n",
    "plt.subplot(1,2,1)\n",
    "sns.boxplot(y = data_log_1.log_sum_rounds);\n",
    "plt.title('log_sum_rounds');\n",
    "plt.subplot(1,2,2)\n",
    "plt.hist(data_log_1.log_sum_rounds);\n",
    "plt.title('log_sum_rounds');"
   ]
  },
  {
   "cell_type": "markdown",
   "metadata": {},
   "source": [
    "What if exclude extreme outliers (sum_gamerounds > 189):"
   ]
  },
  {
   "cell_type": "code",
   "execution_count": 60,
   "metadata": {},
   "outputs": [],
   "source": [
    "data_log_2 = data_log[data_log.sum_gamerounds < 189]"
   ]
  },
  {
   "cell_type": "code",
   "execution_count": 61,
   "metadata": {},
   "outputs": [
    {
     "data": {
      "image/png": "[encoded data removed]",
      "text/plain": [
       "<Figure size 864x360 with 2 Axes>"
      ]
     },
     "metadata": {
      "needs_background": "light"
     },
     "output_type": "display_data"
    }
   ],
   "source": [
    "plt.figure(figsize = (12, 5)) \n",
    "plt.subplot(1,2,1)\n",
    "sns.boxplot(y = data_log_2.log_sum_rounds);\n",
    "plt.title('log_sum_rounds');\n",
    "plt.subplot(1,2,2)\n",
    "plt.hist(data_log_2.log_sum_rounds);\n",
    "plt.title('log_sum_rounds');"
   ]
  },
  {
   "cell_type": "markdown",
   "metadata": {},
   "source": [
    "Split the data (without zero rounds and one outlier) in control and test groups:"
   ]
  },
  {
   "cell_type": "code",
   "execution_count": 62,
   "metadata": {},
   "outputs": [],
   "source": [
    "gate_30_log = data_log_1[data_log_1.version == 'gate_30']\n",
    "gate_40_log = data_log_1[data_log_1.version == 'gate_40']"
   ]
  },
  {
   "cell_type": "markdown",
   "metadata": {},
   "source": [
    "Split the data (without zero rounds and extreme outliers) in control and test groups:"
   ]
  },
  {
   "cell_type": "code",
   "execution_count": 63,
   "metadata": {},
   "outputs": [],
   "source": [
    "gate_30_log_2 = data_log_2[data_log_2.version == 'gate_30']\n",
    "gate_40_log_2 = data_log_2[data_log_2.version == 'gate_40']"
   ]
  },
  {
   "cell_type": "markdown",
   "metadata": {},
   "source": [
    "Formulate the hypotheses:<br>\n",
    "* Null hypothesis: average logarithm of number of rounds in test group gate_40 is equal to or lower than in control group gate_30\n",
    "* Alternative hypothesis: average logarithm of number of rounds in test group is higher than in control group"
   ]
  },
  {
   "cell_type": "markdown",
   "metadata": {},
   "source": [
    "Averages in groups are almost equal, a bit higher in control group:"
   ]
  },
  {
   "cell_type": "code",
   "execution_count": 64,
   "metadata": {
    "scrolled": true
   },
   "outputs": [
    {
     "name": "stdout",
     "output_type": "stream",
     "text": [
      "average logarithm of number of rounds in control group 2.8895630046553813\n",
      "average logarithm of number of rounds in test group 2.87454313039857\n"
     ]
    }
   ],
   "source": [
    "print('average logarithm of number of rounds in control group', gate_30_log.log_sum_rounds.mean())\n",
    "print('average logarithm of number of rounds in test group', gate_40_log.log_sum_rounds.mean())"
   ]
  },
  {
   "cell_type": "markdown",
   "metadata": {},
   "source": [
    "Are variances in control and test group equal? Almost no difference between sample standard deviations. Will not apply Welch correction and try to take all \"buts\" into account when interpreting the result."
   ]
  },
  {
   "cell_type": "code",
   "execution_count": 65,
   "metadata": {
    "scrolled": true
   },
   "outputs": [
    {
     "name": "stdout",
     "output_type": "stream",
     "text": [
      "sd of number of rounds gate_30  1.5413621223499008\n",
      "sd of number of rounds gate_40  1.5518205519748396\n",
      "relative difference in sd  0.006785186604296659\n"
     ]
    }
   ],
   "source": [
    "print('sd of number of rounds gate_30 ', gate_30_log.log_sum_rounds.std())\n",
    "print('sd of number of rounds gate_40 ', gate_40_log.log_sum_rounds.std())\n",
    "print('relative difference in sd ', (gate_40_log.log_sum_rounds.std() - gate_30_log.log_sum_rounds.std()) /\n",
    "      gate_30_log.log_sum_rounds.std())"
   ]
  },
  {
   "cell_type": "markdown",
   "metadata": {},
   "source": [
    "Student's t-test:"
   ]
  },
  {
   "cell_type": "code",
   "execution_count": 66,
   "metadata": {},
   "outputs": [
    {
     "name": "stdout",
     "output_type": "stream",
     "text": [
      "-1.4255913668463311 0.9230050243427721\n"
     ]
    }
   ],
   "source": [
    "t,p = stats.ttest_ind(gate_40_log.log_sum_rounds, gate_30_log.log_sum_rounds, alternative = 'greater', equal_var = False)\n",
    "print(t,p)"
   ]
  },
  {
   "cell_type": "markdown",
   "metadata": {},
   "source": [
    "* If H0 is true (average logarithm of number of rounds in test group is equal to or lower than in control), the data does not contradict the H0\n",
    "* If H0 is true, the probability of seeing this test statistic (or something more extreme) is about 92%\n",
    "* The data shows enough evidence in favor of the Null\n",
    "* Fail to reject H0 in favor of H1\n",
    "* Average logarithm of number of rounds in test group is equal to or lower than in control group. "
   ]
  },
  {
   "cell_type": "markdown",
   "metadata": {},
   "source": [
    "Test conducted on data without extreme outliers shows almost the same result:"
   ]
  },
  {
   "cell_type": "code",
   "execution_count": 67,
   "metadata": {
    "scrolled": true
   },
   "outputs": [
    {
     "name": "stdout",
     "output_type": "stream",
     "text": [
      "-1.4002338223846083 0.9192764163885482\n"
     ]
    }
   ],
   "source": [
    "t,p = stats.ttest_ind(gate_40_log_2.log_sum_rounds, gate_30_log_2.log_sum_rounds, alternative = 'greater', equal_var = False)\n",
    "print(t,p)"
   ]
  },
  {
   "cell_type": "markdown",
   "metadata": {},
   "source": [
    "<a href=\"#0\"><h4>Back to top</h4></a>"
   ]
  },
  {
   "cell_type": "markdown",
   "metadata": {},
   "source": [
    "<p id=\"4\">\n",
    "<h4>Conclusion</h4><br>"
   ]
  },
  {
   "cell_type": "markdown",
   "metadata": {},
   "source": [
    "* Pearson's chi-squared has not shown statistically significant difference between returned/not returned 1 day later players and location of gate. Practically this difference is also insignificant: 0.448 retention share for gate_30 и 0.442 for gate_40.\n",
    "* Pearson's chi-squared has shown statistically significant difference between returned/not returned 7 days later players and location of gate. But practically this difference is quite insignificant: 0.19 retention share for gate_30 и 0.182 for gate_40.\n",
    "* Student's t-test had failed to reject the hypothesis that the average number of rounds for gate_40 is equal to or lower than for gate_30. Practically the difference is also insignificant: 51.34 for gate_30 and 51.29 for gate_40.\n",
    "* Student's t-test result has shown robustness to exclusion of extreme outliers and assumption of normal distribution.\n",
    "* There is no sense to move gate from level 30 to level 40 with the purpose of increase in retention or number of played rounds."
   ]
  }
 ],
 "metadata": {
  "kernelspec": {
   "display_name": "Python 3 (ipykernel)",
   "language": "python",
   "name": "python3"
  },
  "language_info": {
   "codemirror_mode": {
    "name": "ipython",
    "version": 3
   },
   "file_extension": ".py",
   "mimetype": "text/x-python",
   "name": "python",
   "nbconvert_exporter": "python",
   "pygments_lexer": "ipython3",
   "version": "3.8.12"
  },
  "toc": {
   "base_numbering": 1,
   "nav_menu": {},
   "number_sections": true,
   "sideBar": true,
   "skip_h1_title": false,
   "title_cell": "Table of Contents",
   "title_sidebar": "Contents",
   "toc_cell": false,
   "toc_position": {},
   "toc_section_display": true,
   "toc_window_display": false
  }
 },
 "nbformat": 4,
 "nbformat_minor": 4
}
